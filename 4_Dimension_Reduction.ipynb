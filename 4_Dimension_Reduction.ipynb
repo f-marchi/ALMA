{
 "cells": [
  {
   "attachments": {},
   "cell_type": "markdown",
   "metadata": {},
   "source": [
    "# Dimension Reduction"
   ]
  },
  {
   "attachments": {},
   "cell_type": "markdown",
   "metadata": {},
   "source": [
    "## Where the data at?"
   ]
  },
  {
   "cell_type": "code",
   "execution_count": 1,
   "metadata": {},
   "outputs": [],
   "source": [
    "input_path = '../Data/Processed_Data/'\n",
    "output_path = '../Data/Processed_Data/'"
   ]
  },
  {
   "cell_type": "markdown",
   "metadata": {},
   "source": [
    "## Load Datasets"
   ]
  },
  {
   "cell_type": "code",
   "execution_count": 2,
   "metadata": {},
   "outputs": [],
   "source": [
    "import pandas as pd\n",
    "\n",
    "x = pd.read_pickle(input_path+'x.pkl')\n",
    "y = pd.read_csv(input_path+'y.csv', index_col=0)"
   ]
  },
  {
   "cell_type": "code",
   "execution_count": 3,
   "metadata": {},
   "outputs": [],
   "source": [
    "nanopore_sample = pd.read_pickle(input_path+'deci_flongle_runs.pkl')"
   ]
  },
  {
   "attachments": {},
   "cell_type": "markdown",
   "metadata": {},
   "source": [
    "## Test Train Split"
   ]
  },
  {
   "cell_type": "code",
   "execution_count": 4,
   "metadata": {},
   "outputs": [
    {
     "data": {
      "text/plain": [
       "AAML1031    520\n",
       "AAML0531    508\n",
       "AML02       162\n",
       "AML05        64\n",
       "AML08        42\n",
       "AAML03P1     36\n",
       "CCG2961      14\n",
       "Name: Clinical Trial, dtype: int64"
      ]
     },
     "execution_count": 4,
     "metadata": {},
     "output_type": "execute_result"
    }
   ],
   "source": [
    "y['Clinical Trial'].value_counts(dropna=False)"
   ]
  },
  {
   "cell_type": "code",
   "execution_count": 5,
   "metadata": {},
   "outputs": [],
   "source": [
    "y_train = y[~y['Clinical Trial'].isin(['AML02','AML08'])]\n",
    "y_test = y[y['Clinical Trial'].isin(['AML02','AML08'])]"
   ]
  },
  {
   "cell_type": "code",
   "execution_count": 6,
   "metadata": {},
   "outputs": [
    {
     "data": {
      "text/plain": [
       "AAML1031    520\n",
       "AAML0531    508\n",
       "AML05        64\n",
       "AAML03P1     36\n",
       "CCG2961      14\n",
       "Name: Clinical Trial, dtype: int64"
      ]
     },
     "execution_count": 6,
     "metadata": {},
     "output_type": "execute_result"
    }
   ],
   "source": [
    "y_train['Clinical Trial'].value_counts(dropna=False)"
   ]
  },
  {
   "cell_type": "code",
   "execution_count": 7,
   "metadata": {},
   "outputs": [],
   "source": [
    "# Select samples in x that are in y_train\n",
    "x_train = x.loc[y_train.index]\n",
    "x_test = x.loc[y_test.index]"
   ]
  },
  {
   "cell_type": "code",
   "execution_count": 8,
   "metadata": {},
   "outputs": [
    {
     "data": {
      "text/plain": [
       "((1142, 310545), (204, 310545))"
      ]
     },
     "execution_count": 8,
     "metadata": {},
     "output_type": "execute_result"
    }
   ],
   "source": [
    "x_train.shape, x_test.shape"
   ]
  },
  {
   "attachments": {},
   "cell_type": "markdown",
   "metadata": {},
   "source": [
    "## Batch Correction with pyCombat"
   ]
  },
  {
   "cell_type": "code",
   "execution_count": 9,
   "metadata": {},
   "outputs": [
    {
     "name": "stdout",
     "output_type": "stream",
     "text": [
      "Found 4 batches.\n",
      "Adjusting for 0 covariate(s) or covariate level(s).\n",
      "Standardizing Data across genes.\n",
      "Fitting L/S model and finding priors.\n",
      "Finding parametric adjustments.\n",
      "Adjusting the Data\n"
     ]
    }
   ],
   "source": [
    "from combat.pycombat import pycombat\n",
    "data_corrected = pycombat(x_train.T,y_train['Batch'])\n",
    "x_train2 = data_corrected.T"
   ]
  },
  {
   "attachments": {},
   "cell_type": "markdown",
   "metadata": {},
   "source": [
    "## Dimension Reduction with PaCMAP"
   ]
  },
  {
   "attachments": {},
   "cell_type": "markdown",
   "metadata": {},
   "source": [
    "### Define"
   ]
  },
  {
   "cell_type": "code",
   "execution_count": 10,
   "metadata": {},
   "outputs": [
    {
     "name": "stderr",
     "output_type": "stream",
     "text": [
      "c:\\Users\\flourenco\\Desktop\\Methylation_Project\\Code\\.venv_pacmap\\lib\\site-packages\\pacmap\\pacmap.py:819: UserWarning: Warning: random state is set to 42\n",
      "  warnings.warn(f'Warning: random state is set to {_RANDOM_STATE}')\n"
     ]
    }
   ],
   "source": [
    "import pacmap\n",
    "reducer = pacmap.PaCMAP(n_components=2, n_neighbors=15, \n",
    "                            MN_ratio=0.4, FP_ratio=16.0,random_state=42,\n",
    "                            lr=0.1, num_iters=5000)"
   ]
  },
  {
   "cell_type": "code",
   "execution_count": 11,
   "metadata": {},
   "outputs": [],
   "source": [
    "# import pacmap\n",
    "# reducer = pacmap.PaCMAP(n_components=2, n_neighbors=15, \n",
    "#                             MN_ratio=0.5, FP_ratio=10.0,random_state=42,\n",
    "#                             lr=0.1, num_iters=4500)"
   ]
  },
  {
   "cell_type": "code",
   "execution_count": 12,
   "metadata": {},
   "outputs": [],
   "source": [
    "embedding = reducer.fit_transform(x_train2)"
   ]
  },
  {
   "cell_type": "code",
   "execution_count": 13,
   "metadata": {},
   "outputs": [],
   "source": [
    "embedding_test = reducer.transform(x_test, basis=x_train2.copy())"
   ]
  },
  {
   "attachments": {},
   "cell_type": "markdown",
   "metadata": {},
   "source": [
    "## Save Embedding"
   ]
  },
  {
   "cell_type": "code",
   "execution_count": 14,
   "metadata": {},
   "outputs": [],
   "source": [
    "embedding = pd.DataFrame(embedding, index=x_train2.index, columns=['PaCMAP 1','PaCMAP 2'])\n",
    "embedding.to_pickle(output_path+'embedding.pkl')"
   ]
  },
  {
   "cell_type": "code",
   "execution_count": 15,
   "metadata": {},
   "outputs": [],
   "source": [
    "embedding_test = pd.DataFrame(embedding_test, index=x_test.index, columns=['PaCMAP 1','PaCMAP 2'])\n",
    "embedding_test.to_pickle(output_path+'embedding_test.pkl')"
   ]
  },
  {
   "attachments": {},
   "cell_type": "markdown",
   "metadata": {},
   "source": [
    "## Define Nanopore Sample"
   ]
  },
  {
   "cell_type": "code",
   "execution_count": 16,
   "metadata": {},
   "outputs": [],
   "source": [
    "kasumi2 = nanopore_sample.join(x_train.columns.to_frame(name='index'),how='right').set_index('index').T"
   ]
  },
  {
   "cell_type": "code",
   "execution_count": 17,
   "metadata": {},
   "outputs": [],
   "source": [
    "x_train_nano = pd.concat([x_train2,nanopore_sample['Deci0-Flongle-1'].dropna().to_frame(name='Deci0-Flongle-1').T],\n",
    "                            axis=0,join='inner')\n"
   ]
  },
  {
   "cell_type": "code",
   "execution_count": 18,
   "metadata": {},
   "outputs": [
    {
     "name": "stderr",
     "output_type": "stream",
     "text": [
      "c:\\Users\\flourenco\\Desktop\\Methylation_Project\\Code\\.venv_pacmap\\lib\\site-packages\\pacmap\\pacmap.py:819: UserWarning: Warning: random state is set to 42\n",
      "  warnings.warn(f'Warning: random state is set to {_RANDOM_STATE}')\n"
     ]
    }
   ],
   "source": [
    "reducer_nano = pacmap.PaCMAP(n_components=2, n_neighbors=15, \n",
    "                            MN_ratio=0.4, FP_ratio=16.0,random_state=42,\n",
    "                            lr=0.1, num_iters=5000)\n",
    "# Fit the training set\n",
    "embedding2 = reducer_nano.fit_transform(x_train_nano)"
   ]
  },
  {
   "cell_type": "code",
   "execution_count": 19,
   "metadata": {},
   "outputs": [],
   "source": [
    "# embedding2_test2 = reducer_nano.transform(kasumi2.T['Deci0-Flongle-1'].dropna().to_frame().T, \n",
    "#                                             basis=x_train_nano.copy())"
   ]
  },
  {
   "cell_type": "code",
   "execution_count": 20,
   "metadata": {},
   "outputs": [],
   "source": [
    "embedding2 = pd.DataFrame(embedding2, index=x_train_nano.index, columns=['PaCMAP 1','PaCMAP 2'])\n",
    "embedding2.to_pickle(output_path+'embedding_nano.pkl')"
   ]
  }
 ],
 "metadata": {
  "kernelspec": {
   "display_name": ".venv_pacmap",
   "language": "python",
   "name": "python3"
  },
  "language_info": {
   "codemirror_mode": {
    "name": "ipython",
    "version": 3
   },
   "file_extension": ".py",
   "mimetype": "text/x-python",
   "name": "python",
   "nbconvert_exporter": "python",
   "pygments_lexer": "ipython3",
   "version": "3.10.9"
  },
  "orig_nbformat": 4,
  "vscode": {
   "interpreter": {
    "hash": "7328ddd0773a173f0c44beaff9566ac42c53e8baed6ae05b3a679442944fbd87"
   }
  }
 },
 "nbformat": 4,
 "nbformat_minor": 2
}
