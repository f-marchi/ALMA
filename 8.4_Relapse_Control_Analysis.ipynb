{
 "cells": [
  {
   "attachments": {},
   "cell_type": "markdown",
   "metadata": {},
   "source": [
    "# Deconvolution of Control and Relapse Samples"
   ]
  },
  {
   "cell_type": "markdown",
   "metadata": {},
   "source": [
    "## Where the data at?"
   ]
  },
  {
   "cell_type": "code",
   "execution_count": 2,
   "metadata": {},
   "outputs": [],
   "source": [
    "input_path = '../Data/Processed_Data/'\n",
    "output_path = '../Data/Processed_Data/Cell_Deconvolution/'"
   ]
  },
  {
   "attachments": {},
   "cell_type": "markdown",
   "metadata": {},
   "source": [
    "## Load Data"
   ]
  },
  {
   "attachments": {},
   "cell_type": "markdown",
   "metadata": {},
   "source": [
    "We will start by loading the mC ARIC deconvolution data."
   ]
  },
  {
   "cell_type": "code",
   "execution_count": 3,
   "metadata": {
    "tags": [
     "hide-input"
    ]
   },
   "outputs": [],
   "source": [
    "import pandas as pd\n",
    "\n",
    "x = pd.read_pickle(input_path+'x.pkl')\n",
    "y = pd.read_csv(input_path+'y.csv', index_col=0)\n",
    "\n",
    "# Read deconvolution results\n",
    "deconv = pd.read_csv(output_path+'Results_TrainData_ARIC.csv', index_col=0)\n",
    "deconv_test = pd.read_csv(output_path+'Results_TestData_ARIC.csv', index_col=0)\n",
    "\n",
    "ctrl_rel = pd.read_pickle(input_path+'control_relapse.pkl')\n",
    "\n",
    "ctrl_rel_x = ctrl_rel[x.columns]\n",
    "ctrl_rel_y = ctrl_rel[y.columns]\n",
    "\n",
    "# Split train and test by clinical trial\n",
    "y_train = y[~y['Clinical Trial'].isin(['AML02', 'AML08'])]\n",
    "y_test = y[y['Clinical Trial'].isin(['AML02', 'AML08'])]\n",
    "\n",
    "# Select samples in x that are in y_train\n",
    "x_train = x.loc[y_train.index]\n",
    "x_test = x.loc[y_test.index]\n",
    "\n",
    "# Combine x_train and crtl_rel_x\n",
    "x_train = pd.concat([x_train, ctrl_rel_x], axis=0)\n",
    "y_train = pd.concat([y_train, ctrl_rel_y], axis=0)"
   ]
  },
  {
   "cell_type": "markdown",
   "metadata": {},
   "source": [
    "## Batch Correction with pyCombat"
   ]
  },
  {
   "cell_type": "markdown",
   "metadata": {},
   "source": [
    "- __pyCombat__: a Python tool for batch effects correction in high-throughput molecular data using empirical Bayes methods\n",
    "\n",
    "- __Github__: [https://epigenelabs.github.io/pyComBat/](https://epigenelabs.github.io/pyComBat/)\n",
    "\n",
    "- __Implementation Paper__: [bioRxiv](https://doi.org/10.1101/2020.03.17.995431)\n",
    "\n",
    "- __Original Paper__: [Biostatistics](https://pubmed.ncbi.nlm.nih.gov/16632515/)"
   ]
  },
  {
   "cell_type": "code",
   "execution_count": 4,
   "metadata": {},
   "outputs": [
    {
     "name": "stdout",
     "output_type": "stream",
     "text": [
      "Found 4 batches.\n",
      "Adjusting for 0 covariate(s) or covariate level(s).\n",
      "Standardizing Data across genes.\n",
      "Fitting L/S model and finding priors.\n",
      "Finding parametric adjustments.\n",
      "Adjusting the Data\n",
      "Succesfully corrected batch effects in the training dataset.\n"
     ]
    }
   ],
   "source": [
    "from combat.pycombat import pycombat\n",
    "\n",
    "# Correct batch effects in the training dataset\n",
    "x_train2 = pycombat(x_train.T, y_train['Batch']).T\n",
    "\n",
    "print('Succesfully corrected batch effects in the training dataset.')\n"
   ]
  },
  {
   "cell_type": "code",
   "execution_count": 5,
   "metadata": {},
   "outputs": [],
   "source": [
    "x_train3 = x_train2.loc[ctrl_rel_x.index]"
   ]
  },
  {
   "cell_type": "markdown",
   "metadata": {},
   "source": [
    "## Load Reference Dataset"
   ]
  },
  {
   "cell_type": "markdown",
   "metadata": {},
   "source": [
    "- __FlowSorted.Blood.EPIC__: An optimized library for reference-based deconvolution of whole-blood biospecimens, __n=49__\n",
    "\n",
    "- __GEO__: [GSE110554](https://www.ncbi.nlm.nih.gov/geo/query/acc.cgi?acc=GSE110554)\n",
    "\n",
    "- __PMID__: [29843789](https://www.ncbi.nlm.nih.gov/pubmed/29843789)\n",
    "\n",
    "- __Description__:  Bisulphite converted DNA from neutrophils (Neu, n=6), monocytes (Mono, n=6), B-lymphocytes (Bcells, n=6), CD4+ T-cells (CD4T, n=7, six samples and one technical replicate), CD8+ T-cells (CD8T, n=6), Natural Killer cells (NK, n=6), and 12 DNA artificial mixtures (labeled as MIX in the dataset) were hybridised to the Illumina Infinium HumanMethylationEPIC Beadchip v1.0_B4\n",
    "\n",
    "- __External Validation__: [Significant variation in the performance of DNA methylation predictors across data preprocessing and normalization strategies](https://pubmed.ncbi.nlm.nih.gov/36280888/)\n",
    "\n",
    "- __CSV file__: [Download](https://static-content.springer.com/esm/art%3A10.1186%2Fs13059-018-1448-7/MediaObjects/13059_2018_1448_MOESM4_ESM.csv)"
   ]
  },
  {
   "cell_type": "code",
   "execution_count": 6,
   "metadata": {},
   "outputs": [],
   "source": [
    "ref = pd.read_pickle(output_path+'paper_defined_immune_reference.pkl')\n",
    "# remove index name\n",
    "ref.index.name = None\n",
    "# remove duplicates from index\n",
    "ref = ref[~ref.index.duplicated(keep='first')]\n",
    "\n",
    "# Harmonize index of reference data with our data\n",
    "merge = ref.join(x.T, how='inner')\n",
    "\n",
    "# update ref and mix with merge index\n",
    "ref = ref.loc[merge.index]\n",
    "mix = x_train3.T.loc[merge.index]\n",
    "\n",
    "# save ref and mix to csv\n",
    "ref.to_csv(output_path+'ReferenceData_ARIC.csv')\n",
    "mix.to_csv(output_path+'Input_Control_Relapse_ARIC.csv')\n"
   ]
  },
  {
   "cell_type": "markdown",
   "metadata": {},
   "source": [
    "## Immune Cell Deconvolution with ARIC"
   ]
  },
  {
   "cell_type": "markdown",
   "metadata": {},
   "source": [
    "- __ARIC__: Accurate and robust inference of cell type proportions from bulk gene expression or DNA methylation data\n",
    "\n",
    "- __Website__: [xwanglabthu.github.io/ARIC/](xwanglabthu.github.io/ARIC/)\n",
    "\n",
    "- __PMID__: [34472588](https://pubmed.ncbi.nlm.nih.gov/34472588/)\n",
    "\n",
    "- __External Validation__: [A systematic assessment of cell type deconvolution algorithms for DNA methylation data](https://doi.org/10.1093/bib/bbac449)"
   ]
  },
  {
   "cell_type": "code",
   "execution_count": 8,
   "metadata": {},
   "outputs": [
    {
     "name": "stdout",
     "output_type": "stream",
     "text": [
      "---------------------------------------------\n",
      "--------------WELCOME TO ARIC----------------\n",
      "---------------------------------------------\n",
      "Data reading finished!\n",
      "ARIC Engines Start, Please Wait......\n"
     ]
    },
    {
     "name": "stderr",
     "output_type": "stream",
     "text": [
      "100%|██████████| 395/395 [01:43<00:00,  3.83it/s]"
     ]
    },
    {
     "name": "stdout",
     "output_type": "stream",
     "text": [
      "Deconvo Results Saving!\n",
      "Finished!\n"
     ]
    },
    {
     "name": "stderr",
     "output_type": "stream",
     "text": [
      "\n"
     ]
    }
   ],
   "source": [
    "from ARIC import *\n",
    "\n",
    "# Run cell deconvolution on train data\n",
    "ARIC(mix_path=output_path+'Input_Control_Relapse_ARIC.csv',\n",
    "     ref_path=output_path+'ReferenceData_ARIC.csv',\n",
    "     is_methylation=True,\n",
    "     confidence=0.75,\n",
    "     scale=1,\n",
    "     delcol_factor=15,\n",
    "     unknown=False,\n",
    "     save_path=output_path+'Results_Control_Relapse_ARIC.csv')"
   ]
  },
  {
   "attachments": {},
   "cell_type": "markdown",
   "metadata": {},
   "source": [
    "## Visualize Deconvolution Results"
   ]
  },
  {
   "cell_type": "code",
   "execution_count": 9,
   "metadata": {},
   "outputs": [],
   "source": [
    "# Import Plotting Functions\n",
    "from FM_Functions.Data_Visualization import *\n",
    "sns.set_theme(style=\"white\")"
   ]
  },
  {
   "cell_type": "code",
   "execution_count": 10,
   "metadata": {},
   "outputs": [],
   "source": [
    "# Read deconvolution results\n",
    "deconv = pd.read_csv(output_path+'Results_TrainData_ARIC.csv', index_col=0)\n",
    "deconv_test = pd.read_csv(output_path+'Results_TestData_ARIC.csv', index_col=0)\n",
    "deconv_ctrl_rel = pd.read_csv(output_path+'Results_Control_Relapse_ARIC.csv', index_col=0)"
   ]
  },
  {
   "cell_type": "code",
   "execution_count": 11,
   "metadata": {},
   "outputs": [],
   "source": [
    "ctrl_y = ctrl_rel_y[ctrl_rel_y['Sample Type'].isin(['Bone Marrow Normal'])]\n",
    "rel_y = ctrl_rel_y[~ctrl_rel_y['Sample Type'].isin(['Bone Marrow Normal'])]\n",
    "\n",
    "ctrl = deconv_ctrl_rel[ctrl_y.index]\n",
    "rel = deconv_ctrl_rel[rel_y.index]"
   ]
  },
  {
   "cell_type": "code",
   "execution_count": 14,
   "metadata": {
    "tags": [
     "hide-input"
    ]
   },
   "outputs": [
    {
     "data": {
      "image/png": "[encoded data removed]",
      "text/plain": [
       "<Figure size 648x504 with 3 Axes>"
      ]
     },
     "metadata": {},
     "output_type": "display_data"
    }
   ],
   "source": [
    "sns.set_theme(style=\"white\")\n",
    "ctrl.index.name = None\n",
    "rel.index.name = None\n",
    "draw_heatmaps(fig_title = 'Proportion of immune cell types in control and relapse samples',\n",
    "            t2='Relapse', t1= 'Control',\n",
    "            df2 = rel, df1 = ctrl,\n",
    "            save_plot=True, fig_number=1, figsize=(9,7))\n"
   ]
  },
  {
   "cell_type": "code",
   "execution_count": 31,
   "metadata": {},
   "outputs": [],
   "source": [
    "# Concat `ctrl` and `rel` to `deconv_train`\n",
    "df = pd.concat([ctrl, deconv, rel], axis=1, keys=['Control','Diagnosis','Relapse'], names=['Sample Type'], verify_integrity=True)"
   ]
  },
  {
   "cell_type": "code",
   "execution_count": 40,
   "metadata": {},
   "outputs": [],
   "source": [
    "df.T.reset_index(level=0).to_excel(output_path+'ImmuneMethyl_Deconvolution_Results_FM.xlsx')"
   ]
  },
  {
   "cell_type": "code",
   "execution_count": null,
   "metadata": {},
   "outputs": [],
   "source": []
  }
 ],
 "metadata": {
  "kernelspec": {
   "display_name": ".venv_sklearn",
   "language": "python",
   "name": "python3"
  },
  "language_info": {
   "codemirror_mode": {
    "name": "ipython",
    "version": 3
   },
   "file_extension": ".py",
   "mimetype": "text/x-python",
   "name": "python",
   "nbconvert_exporter": "python",
   "pygments_lexer": "ipython3",
   "version": "3.10.10"
  },
  "orig_nbformat": 4,
  "vscode": {
   "interpreter": {
    "hash": "bea0b97f2aeab51a41f683aa60895cc0e821b0a2b6d8fed7be73bd28506d07e0"
   }
  }
 },
 "nbformat": 4,
 "nbformat_minor": 2
}
