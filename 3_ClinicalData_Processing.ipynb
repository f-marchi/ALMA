{
 "cells": [
  {
   "attachments": {},
   "cell_type": "markdown",
   "metadata": {},
   "source": [
    "# Clinical Data Processing"
   ]
  },
  {
   "attachments": {},
   "cell_type": "markdown",
   "metadata": {},
   "source": [
    "## Where the data at?"
   ]
  },
  {
   "cell_type": "code",
   "execution_count": 1,
   "metadata": {},
   "outputs": [],
   "source": [
    "input_path = '../Data/Intermediate_Files/'\n",
    "clinicaldata_path = '../Data/Raw_Data/Clinical_Data/'\n",
    "output_path = '../Data/Processed_Data/'"
   ]
  },
  {
   "attachments": {},
   "cell_type": "markdown",
   "metadata": {},
   "source": [
    "## Load Methyl Data"
   ]
  },
  {
   "cell_type": "code",
   "execution_count": 2,
   "metadata": {
    "tags": [
     "hide-input"
    ]
   },
   "outputs": [
    {
     "name": "stdout",
     "output_type": "stream",
     "text": [
      " Dataset (df) contains 333249 columns (mC sites) and 3357 rows (samples).\n"
     ]
    }
   ],
   "source": [
    "import pandas as pd\n",
    "\n",
    "df_methyl = pd.read_pickle(\n",
    "    input_path+'2_MethylData_Processing_Output.pkl')\n",
    "\n",
    "# .T.reset_index(level=0, names='Batch')\n",
    "\n",
    "print(\n",
    "    f' Dataset (df) contains {df_methyl.shape[1]} columns (mC sites) and {df_methyl.shape[0]} rows (samples).')\n"
   ]
  },
  {
   "cell_type": "code",
   "execution_count": 3,
   "metadata": {},
   "outputs": [
    {
     "data": {
      "text/plain": [
       "Batch\n",
       "GSE49031          933\n",
       "GSE190931         581\n",
       "GSE124413         495\n",
       "GSE159907         316\n",
       "GDC_TARGET-AML    314\n",
       "GDC_TCGA-AML      194\n",
       "GSE152710         166\n",
       "GSE147667         153\n",
       "GDC_TARGET-ALL    141\n",
       "GSE133986          64\n",
       "Name: count, dtype: int64"
      ]
     },
     "execution_count": 3,
     "metadata": {},
     "output_type": "execute_result"
    }
   ],
   "source": [
    "df_methyl['Batch'].value_counts(dropna=False)"
   ]
  },
  {
   "cell_type": "code",
   "execution_count": null,
   "metadata": {},
   "outputs": [],
   "source": []
  },
  {
   "cell_type": "code",
   "execution_count": 3,
   "metadata": {},
   "outputs": [
    {
     "name": "stderr",
     "output_type": "stream",
     "text": [
      "INFO:methylcheck.load_processed:Found several meta_data files; attempting to match each with its respective beta_values files in same folders.\n",
      "WARNING:methylcheck.load_processed:Columns in sample sheet meta data files do not match for these files and cannot be combined:['../Data/Raw_Data/Methyl_Array_EPIC/GSE190931/sample_sheet_meta_data.pkl', '../Data/Raw_Data/Methyl_Array_EPIC/GSE190931/GPL21145/GSE190931_GPL21145_meta_data.pkl']\n",
      "INFO:methylcheck.load_processed:Multiple meta_data found. Only loading the first file.\n",
      "INFO:methylcheck.load_processed:Loading 1048 samples.\n",
      "INFO:methylcheck.load_processed:Transposed data and reordered meta_data so sample ordering matches.\n",
      "INFO:methylcheck.load_processed:meta.Sample_IDs match data.index (OK)\n",
      "INFO:methylcheck.load_processed:Transposed data and reordered meta_data so sample ordering matches.\n",
      "INFO:methylcheck.load_processed:meta.Sample_IDs match data.index (OK)\n",
      "INFO:methylcheck.load_processed:Found several meta_data files; attempting to match each with its respective beta_values files in same folders.\n",
      "WARNING:methylcheck.load_processed:Columns in sample sheet meta data files do not match for these files and cannot be combined:['../Data/Raw_Data/Methyl_Array_EPIC/GSE133986/sample_sheet_meta_data.pkl', '../Data/Raw_Data/Methyl_Array_EPIC/GSE133986/GPL21145/GSE133986_GPL21145_meta_data.pkl']\n",
      "INFO:methylcheck.load_processed:Multiple meta_data found. Only loading the first file.\n",
      "INFO:methylcheck.load_processed:Loading 64 samples.\n",
      "INFO:methylcheck.load_processed:Transposed data and reordered meta_data so sample ordering matches.\n",
      "INFO:methylcheck.load_processed:meta.Sample_IDs match data.index (OK)\n",
      "INFO:methylcheck.load_processed:Transposed data and reordered meta_data so sample ordering matches.\n",
      "INFO:methylcheck.load_processed:meta.Sample_IDs match data.index (OK)\n",
      "INFO:methylcheck.load_processed:Transposed data and reordered meta_data so sample ordering matches.\n",
      "INFO:methylcheck.load_processed:meta.Sample_IDs match data.index (OK)\n",
      "INFO:methylcheck.load_processed:Found several meta_data files; attempting to match each with its respective beta_values files in same folders.\n",
      "WARNING:methylcheck.load_processed:Columns in sample sheet meta data files do not match for these files and cannot be combined:['../Data/Raw_Data/Methyl_Array_EPIC/GSE159907/sample_sheet_meta_data.pkl', '../Data/Raw_Data/Methyl_Array_EPIC/GSE159907/GPL21145/GSE159907_GPL21145_meta_data.pkl']\n",
      "INFO:methylcheck.load_processed:Multiple meta_data found. Only loading the first file.\n",
      "INFO:methylcheck.load_processed:Loading 316 samples.\n",
      "INFO:methylcheck.load_processed:Transposed data and reordered meta_data so sample ordering matches.\n",
      "INFO:methylcheck.load_processed:meta.Sample_IDs match data.index (OK)\n",
      "INFO:methylcheck.load_processed:Found several meta_data files; attempting to match each with its respective beta_values files in same folders.\n",
      "WARNING:methylcheck.load_processed:Columns in sample sheet meta data files do not match for these files and cannot be combined:['../Data/Raw_Data/Methyl_Array_450k/GSE152710/sample_sheet_meta_data.pkl', '../Data/Raw_Data/Methyl_Array_450k/GSE152710/GPL13534/GSE152710_GPL13534_meta_data.pkl']\n",
      "INFO:methylcheck.load_processed:Multiple meta_data found. Only loading the first file.\n",
      "INFO:methylcheck.load_processed:Loading 166 samples.\n",
      "INFO:methylcheck.load_processed:Transposed data and reordered meta_data so sample ordering matches.\n",
      "INFO:methylcheck.load_processed:meta.Sample_IDs match data.index (OK)\n",
      "INFO:methylcheck.load_processed:Found several meta_data files; attempting to match each with its respective beta_values files in same folders.\n",
      "WARNING:methylcheck.load_processed:Columns in sample sheet meta data files do not match for these files and cannot be combined:['../Data/Raw_Data/Methyl_Array_450k/GSE49031/sample_sheet_meta_data.pkl', '../Data/Raw_Data/Methyl_Array_450k/GSE49031/GPL13534/GSE49031_GPL13534_meta_data.pkl']\n",
      "INFO:methylcheck.load_processed:Multiple meta_data found. Only loading the first file.\n",
      "INFO:methylcheck.load_processed:Loading 944 samples.\n",
      "INFO:methylcheck.load_processed:Transposed data and reordered meta_data so sample ordering matches.\n",
      "INFO:methylcheck.load_processed:meta.Sample_IDs match data.index (OK)\n",
      "INFO:methylcheck.load_processed:Transposed data and reordered meta_data so sample ordering matches.\n",
      "INFO:methylcheck.load_processed:meta.Sample_IDs match data.index (OK)\n"
     ]
    }
   ],
   "source": [
    "import methylcheck\n",
    "import pandas as pd\n",
    "input_path_450k = '../Data/Raw_Data/Methyl_Array_450k/'\n",
    "input_path_EPIC = '../Data/Raw_Data/Methyl_Array_EPIC/'\n",
    "input_paths = [\n",
    "    (input_path_EPIC, 'GSE190931'),      # 0.COG_AAML1031\n",
    "    (input_path_EPIC, 'GSE124413'),      # 1.COG_AAML0531_03P1\n",
    "    (input_path_EPIC, 'GSE133986'),      # 2.Japanese AML-05\n",
    "    (input_path_450k, 'GDC_TARGET-AML'), # 3.AML_TARGET-450k\n",
    "    (input_path_450k, 'GDC_TCGA-AML'),   # 4.AML_TCGA\n",
    "    (input_path_EPIC, 'GSE159907'),      # 5.BeatAML\n",
    "    (input_path_450k, 'GSE152710'),      # 6.MDS_tAML\n",
    "    (input_path_450k, 'GSE49031'),       # 7.Nordic_ALL\n",
    "    (input_path_EPIC, 'GDC_TARGET-ALL'), # 8.ALL_TARGET\n",
    "]\n",
    "\n",
    "# Load the dataframes from the input paths\n",
    "df_meta_pairs = [(methylcheck.load_both(path + name, silent=True)) for path, name in input_paths]"
   ]
  },
  {
   "cell_type": "code",
   "execution_count": 15,
   "metadata": {},
   "outputs": [
    {
     "data": {
      "text/html": [
       "<div>\n",
       "<style scoped>\n",
       "    .dataframe tbody tr th:only-of-type {\n",
       "        vertical-align: middle;\n",
       "    }\n",
       "\n",
       "    .dataframe tbody tr th {\n",
       "        vertical-align: top;\n",
       "    }\n",
       "\n",
       "    .dataframe thead th {\n",
       "        text-align: right;\n",
       "    }\n",
       "</style>\n",
       "<table border=\"1\" class=\"dataframe\">\n",
       "  <thead>\n",
       "    <tr style=\"text-align: right;\">\n",
       "      <th></th>\n",
       "      <th>Sentrix_ID</th>\n",
       "      <th>Sentrix_Position</th>\n",
       "      <th>Sample_Group</th>\n",
       "      <th>Sample_Name</th>\n",
       "      <th>Sample_Plate</th>\n",
       "      <th>Sample_Type</th>\n",
       "      <th>Sub_Type</th>\n",
       "      <th>Sample_Well</th>\n",
       "      <th>Pool_ID</th>\n",
       "      <th>GSM_ID</th>\n",
       "      <th>Control</th>\n",
       "      <th>Sample_ID</th>\n",
       "    </tr>\n",
       "  </thead>\n",
       "  <tbody>\n",
       "    <tr>\n",
       "      <th>106</th>\n",
       "      <td>003d9efe-90a1-42cf-84c4-03fbabefe60b</td>\n",
       "      <td>noid</td>\n",
       "      <td>None</td>\n",
       "      <td>Sample_107</td>\n",
       "      <td>None</td>\n",
       "      <td>Unknown</td>\n",
       "      <td>None</td>\n",
       "      <td>None</td>\n",
       "      <td>None</td>\n",
       "      <td></td>\n",
       "      <td>False</td>\n",
       "      <td>003d9efe-90a1-42cf-84c4-03fbabefe60b_noid</td>\n",
       "    </tr>\n",
       "    <tr>\n",
       "      <th>118</th>\n",
       "      <td>014d5833-4193-4919-b42d-112c3c6f2b11</td>\n",
       "      <td>noid</td>\n",
       "      <td>None</td>\n",
       "      <td>Sample_119</td>\n",
       "      <td>None</td>\n",
       "      <td>Unknown</td>\n",
       "      <td>None</td>\n",
       "      <td>None</td>\n",
       "      <td>None</td>\n",
       "      <td></td>\n",
       "      <td>False</td>\n",
       "      <td>014d5833-4193-4919-b42d-112c3c6f2b11_noid</td>\n",
       "    </tr>\n",
       "    <tr>\n",
       "      <th>92</th>\n",
       "      <td>06e6d2a3-e9c4-4d46-b922-89dc0a4ec3d3</td>\n",
       "      <td>noid</td>\n",
       "      <td>None</td>\n",
       "      <td>Sample_93</td>\n",
       "      <td>None</td>\n",
       "      <td>Unknown</td>\n",
       "      <td>None</td>\n",
       "      <td>None</td>\n",
       "      <td>None</td>\n",
       "      <td></td>\n",
       "      <td>False</td>\n",
       "      <td>06e6d2a3-e9c4-4d46-b922-89dc0a4ec3d3_noid</td>\n",
       "    </tr>\n",
       "    <tr>\n",
       "      <th>78</th>\n",
       "      <td>0717a5b5-d437-4d56-bdb6-e79d25486de4</td>\n",
       "      <td>noid</td>\n",
       "      <td>None</td>\n",
       "      <td>Sample_79</td>\n",
       "      <td>None</td>\n",
       "      <td>Unknown</td>\n",
       "      <td>None</td>\n",
       "      <td>None</td>\n",
       "      <td>None</td>\n",
       "      <td></td>\n",
       "      <td>False</td>\n",
       "      <td>0717a5b5-d437-4d56-bdb6-e79d25486de4_noid</td>\n",
       "    </tr>\n",
       "    <tr>\n",
       "      <th>54</th>\n",
       "      <td>0916e199-6305-4030-9f62-e10b99f1b43c</td>\n",
       "      <td>noid</td>\n",
       "      <td>None</td>\n",
       "      <td>Sample_55</td>\n",
       "      <td>None</td>\n",
       "      <td>Unknown</td>\n",
       "      <td>None</td>\n",
       "      <td>None</td>\n",
       "      <td>None</td>\n",
       "      <td></td>\n",
       "      <td>False</td>\n",
       "      <td>0916e199-6305-4030-9f62-e10b99f1b43c_noid</td>\n",
       "    </tr>\n",
       "    <tr>\n",
       "      <th>...</th>\n",
       "      <td>...</td>\n",
       "      <td>...</td>\n",
       "      <td>...</td>\n",
       "      <td>...</td>\n",
       "      <td>...</td>\n",
       "      <td>...</td>\n",
       "      <td>...</td>\n",
       "      <td>...</td>\n",
       "      <td>...</td>\n",
       "      <td>...</td>\n",
       "      <td>...</td>\n",
       "      <td>...</td>\n",
       "    </tr>\n",
       "    <tr>\n",
       "      <th>13</th>\n",
       "      <td>f79329e9-697f-4df2-b650-488f6a28e0db</td>\n",
       "      <td>noid</td>\n",
       "      <td>None</td>\n",
       "      <td>Sample_14</td>\n",
       "      <td>None</td>\n",
       "      <td>Unknown</td>\n",
       "      <td>None</td>\n",
       "      <td>None</td>\n",
       "      <td>None</td>\n",
       "      <td></td>\n",
       "      <td>False</td>\n",
       "      <td>f79329e9-697f-4df2-b650-488f6a28e0db_noid</td>\n",
       "    </tr>\n",
       "    <tr>\n",
       "      <th>126</th>\n",
       "      <td>f805d82d-045c-4e85-b1ba-66ff786999cf</td>\n",
       "      <td>noid</td>\n",
       "      <td>None</td>\n",
       "      <td>Sample_127</td>\n",
       "      <td>None</td>\n",
       "      <td>Unknown</td>\n",
       "      <td>None</td>\n",
       "      <td>None</td>\n",
       "      <td>None</td>\n",
       "      <td></td>\n",
       "      <td>False</td>\n",
       "      <td>f805d82d-045c-4e85-b1ba-66ff786999cf_noid</td>\n",
       "    </tr>\n",
       "    <tr>\n",
       "      <th>90</th>\n",
       "      <td>f8281fca-1b6d-458b-988b-7b010cade942</td>\n",
       "      <td>noid</td>\n",
       "      <td>None</td>\n",
       "      <td>Sample_91</td>\n",
       "      <td>None</td>\n",
       "      <td>Unknown</td>\n",
       "      <td>None</td>\n",
       "      <td>None</td>\n",
       "      <td>None</td>\n",
       "      <td></td>\n",
       "      <td>False</td>\n",
       "      <td>f8281fca-1b6d-458b-988b-7b010cade942_noid</td>\n",
       "    </tr>\n",
       "    <tr>\n",
       "      <th>98</th>\n",
       "      <td>fa7baeb9-a9d9-4cde-b326-edee1ff33ca7</td>\n",
       "      <td>noid</td>\n",
       "      <td>None</td>\n",
       "      <td>Sample_99</td>\n",
       "      <td>None</td>\n",
       "      <td>Unknown</td>\n",
       "      <td>None</td>\n",
       "      <td>None</td>\n",
       "      <td>None</td>\n",
       "      <td></td>\n",
       "      <td>False</td>\n",
       "      <td>fa7baeb9-a9d9-4cde-b326-edee1ff33ca7_noid</td>\n",
       "    </tr>\n",
       "    <tr>\n",
       "      <th>108</th>\n",
       "      <td>fd0d7fba-01de-4035-b3fa-41a84a4c562d</td>\n",
       "      <td>noid</td>\n",
       "      <td>None</td>\n",
       "      <td>Sample_109</td>\n",
       "      <td>None</td>\n",
       "      <td>Unknown</td>\n",
       "      <td>None</td>\n",
       "      <td>None</td>\n",
       "      <td>None</td>\n",
       "      <td></td>\n",
       "      <td>False</td>\n",
       "      <td>fd0d7fba-01de-4035-b3fa-41a84a4c562d_noid</td>\n",
       "    </tr>\n",
       "  </tbody>\n",
       "</table>\n",
       "<p>141 rows × 12 columns</p>\n",
       "</div>"
      ],
      "text/plain": [
       "                               Sentrix_ID Sentrix_Position Sample_Group   \n",
       "106  003d9efe-90a1-42cf-84c4-03fbabefe60b             noid         None  \\\n",
       "118  014d5833-4193-4919-b42d-112c3c6f2b11             noid         None   \n",
       "92   06e6d2a3-e9c4-4d46-b922-89dc0a4ec3d3             noid         None   \n",
       "78   0717a5b5-d437-4d56-bdb6-e79d25486de4             noid         None   \n",
       "54   0916e199-6305-4030-9f62-e10b99f1b43c             noid         None   \n",
       "..                                    ...              ...          ...   \n",
       "13   f79329e9-697f-4df2-b650-488f6a28e0db             noid         None   \n",
       "126  f805d82d-045c-4e85-b1ba-66ff786999cf             noid         None   \n",
       "90   f8281fca-1b6d-458b-988b-7b010cade942             noid         None   \n",
       "98   fa7baeb9-a9d9-4cde-b326-edee1ff33ca7             noid         None   \n",
       "108  fd0d7fba-01de-4035-b3fa-41a84a4c562d             noid         None   \n",
       "\n",
       "    Sample_Name Sample_Plate Sample_Type Sub_Type Sample_Well Pool_ID GSM_ID   \n",
       "106  Sample_107         None     Unknown     None        None    None         \\\n",
       "118  Sample_119         None     Unknown     None        None    None          \n",
       "92    Sample_93         None     Unknown     None        None    None          \n",
       "78    Sample_79         None     Unknown     None        None    None          \n",
       "54    Sample_55         None     Unknown     None        None    None          \n",
       "..          ...          ...         ...      ...         ...     ...    ...   \n",
       "13    Sample_14         None     Unknown     None        None    None          \n",
       "126  Sample_127         None     Unknown     None        None    None          \n",
       "90    Sample_91         None     Unknown     None        None    None          \n",
       "98    Sample_99         None     Unknown     None        None    None          \n",
       "108  Sample_109         None     Unknown     None        None    None          \n",
       "\n",
       "    Control                                  Sample_ID  \n",
       "106   False  003d9efe-90a1-42cf-84c4-03fbabefe60b_noid  \n",
       "118   False  014d5833-4193-4919-b42d-112c3c6f2b11_noid  \n",
       "92    False  06e6d2a3-e9c4-4d46-b922-89dc0a4ec3d3_noid  \n",
       "78    False  0717a5b5-d437-4d56-bdb6-e79d25486de4_noid  \n",
       "54    False  0916e199-6305-4030-9f62-e10b99f1b43c_noid  \n",
       "..      ...                                        ...  \n",
       "13    False  f79329e9-697f-4df2-b650-488f6a28e0db_noid  \n",
       "126   False  f805d82d-045c-4e85-b1ba-66ff786999cf_noid  \n",
       "90    False  f8281fca-1b6d-458b-988b-7b010cade942_noid  \n",
       "98    False  fa7baeb9-a9d9-4cde-b326-edee1ff33ca7_noid  \n",
       "108   False  fd0d7fba-01de-4035-b3fa-41a84a4c562d_noid  \n",
       "\n",
       "[141 rows x 12 columns]"
      ]
     },
     "execution_count": 15,
     "metadata": {},
     "output_type": "execute_result"
    }
   ],
   "source": [
    "df_meta_pairs[8][1]"
   ]
  },
  {
   "attachments": {},
   "cell_type": "markdown",
   "metadata": {},
   "source": [
    "## Add Labels/Clinical Outcome Data"
   ]
  },
  {
   "cell_type": "code",
   "execution_count": 4,
   "metadata": {
    "tags": [
     "hide-input"
    ]
   },
   "outputs": [],
   "source": [
    "# Import functions to clean up clinical data\n",
    "from FM_Functions.Clinical_Data_CleanUp import *\n",
    "\n",
    "# Combine all clinical data files into one dataframe and indexes it by the sample ID\n",
    "labels_cog, labels_aml02, labels_aml08, labels_aml05 = combine_and_index_clinicaldata()\n",
    "# Clean up and adjust clinical data labels\n",
    "labels_aml02 = clean_aml02(labels_aml02)\n",
    "labels_aml08 = clean_aml08(labels_aml08)\n",
    "labels_cog   = clean_cog(labels_cog)\n",
    "labels_aml05 = clean_aml05(labels_aml05)\n",
    "\n",
    "# Combine all clinical data labels\n",
    "df = pd.concat([labels_aml02, labels_aml08, labels_cog,\n",
    "               labels_aml05], axis=0, join='outer')\n",
    "\n",
    "# Remove samples that are not in the methyl dataset\n",
    "# df = df.loc[df.index.isin(df_methyl.index)]\n",
    "\n",
    "# Label control samples from the AML0531 clinical trial (GSE124413) as 'Bone Marrow Normal'\n",
    "\n",
    "def label_control_samples(df_methyl, df):\n",
    "    \"\"\"\n",
    "    This function labels control samples from the AML0531 clinical trial (GSE124413) as 'Bone Marrow Normal'\n",
    "    and combines them with the clinical trial samples.\n",
    "    \"\"\"\n",
    "    a = df_methyl[df_methyl['Batch'].isin(['GSE124413'])]\n",
    "    b = df[df.index.isin(a.index)]\n",
    "    control_0531 = a[~a.index.isin(b.index)]\n",
    "    control_0531['Sample Type'] = 'Bone Marrow Normal'\n",
    "    df_ = pd.concat(\n",
    "        [df, control_0531['Sample Type'].to_frame()], axis=0, join='outer')\n",
    "    return df_\n",
    "\n",
    "df_ = label_control_samples(df_methyl, df)\n"
   ]
  },
  {
   "cell_type": "code",
   "execution_count": 21,
   "metadata": {},
   "outputs": [
    {
     "data": {
      "text/plain": [
       "(2282, 291)"
      ]
     },
     "execution_count": 21,
     "metadata": {},
     "output_type": "execute_result"
    }
   ],
   "source": [
    "df.shape"
   ]
  },
  {
   "attachments": {},
   "cell_type": "markdown",
   "metadata": {},
   "source": [
    "## BeatAML Clinical Data"
   ]
  },
  {
   "cell_type": "code",
   "execution_count": null,
   "metadata": {},
   "outputs": [],
   "source": [
    "import pandas as pd\n",
    "meta = pd.read_pickle('../Data/Raw_Data/GSE159907_BeatAML/GSE159907_GPL21145_meta_data.pkl')\n",
    "# Create a new column with only the content inside [] from column 'Sample_Name'\n",
    "meta['LLS_SampleID'] = meta['Sample_Name'].str.extract(r\"\\[(.*?)\\]\", expand=False)\n",
    "\n",
    "# Set the index to the new column\n",
    "meta1 = meta[['tissue','disease state','LLS_SampleID']].set_index('LLS_SampleID')\n",
    "\n",
    "# Capitalize column names\n",
    "meta1.columns = meta1.columns.str.capitalize()\n",
    "\n",
    "# Read in the clinical data\n",
    "meta2 = pd.read_excel('../Data/Raw_Data/Clinical_Data/BeatAML/BEAT_AML_Raw clinical data_702.Samples.Vizome.xlsx', index_col=3)\n",
    "\n",
    "# Join the two dataframes\n",
    "meta3 = meta1.join(meta2, how='left')"
   ]
  },
  {
   "attachments": {},
   "cell_type": "markdown",
   "id": "3c02342a",
   "metadata": {},
   "source": [
    "## Remove Samples based on Certain Clinical Features"
   ]
  },
  {
   "attachments": {},
   "cell_type": "markdown",
   "metadata": {},
   "source": [
    "### Remove Relapse Samples"
   ]
  },
  {
   "cell_type": "code",
   "execution_count": 5,
   "id": "41f406b9",
   "metadata": {
    "tags": [
     "hide-input"
    ]
   },
   "outputs": [
    {
     "name": "stdout",
     "output_type": "stream",
     "text": [
      "Out of 1762 samples, 248 matched, yielding 1514 samples after filtering\n"
     ]
    }
   ],
   "source": [
    "df1 = df_[~df_['Sample Type'].isin(['Relapse', 'Recurrent Blood Derived Cancer - Bone Marrow',\n",
    "                                    'Recurrent Blood Derived Cancer - Peripheral Blood'])]\n",
    "\n",
    "print(\n",
    "    f'Out of {df_.shape[0]} samples, {df_.shape[0]-df1.shape[0]} matched, yielding {df1.shape[0]} samples after filtering')\n"
   ]
  },
  {
   "attachments": {},
   "cell_type": "markdown",
   "metadata": {},
   "source": [
    "### Remove Control/Normal Samples"
   ]
  },
  {
   "cell_type": "code",
   "execution_count": 6,
   "metadata": {
    "tags": [
     "hide-input"
    ]
   },
   "outputs": [
    {
     "name": "stdout",
     "output_type": "stream",
     "text": [
      "Out of 1514 samples, 154 matched, yielding 1360 samples after filtering\n"
     ]
    }
   ],
   "source": [
    "df2 = df1[~df1['Sample Type'].isin(\n",
    "    ['Bone Marrow Normal', 'Blood Derived Normal'])]\n",
    "print(\n",
    "    f'Out of {df1.shape[0]} samples, {df1.shape[0]-df2.shape[0]} matched, yielding {df2.shape[0]} samples after filtering')\n"
   ]
  },
  {
   "attachments": {},
   "cell_type": "markdown",
   "metadata": {},
   "source": [
    "### Remove Duplicate Samples"
   ]
  },
  {
   "cell_type": "code",
   "execution_count": 7,
   "metadata": {
    "tags": [
     "hide-input"
    ]
   },
   "outputs": [
    {
     "name": "stdout",
     "output_type": "stream",
     "text": [
      "Out of 1360 samples, 14 matched, yielding 1346 samples after filtering\n"
     ]
    }
   ],
   "source": [
    "df3 = df2[~df2['Patient_ID'].duplicated(keep='last')]\n",
    "print(\n",
    "    f'Out of {df2.shape[0]} samples, {df2.shape[0]-df3.shape[0]} matched, yielding {df3.shape[0]} samples after filtering')\n"
   ]
  },
  {
   "attachments": {},
   "cell_type": "markdown",
   "id": "39875e9e",
   "metadata": {},
   "source": [
    "## Save Files"
   ]
  },
  {
   "cell_type": "code",
   "execution_count": 8,
   "metadata": {
    "tags": [
     "hide-input"
    ]
   },
   "outputs": [],
   "source": [
    "output = df3.join(df_methyl,how='left') # Join clinical data with methyl data\n",
    "\n",
    "x = output.iloc[:,df3.shape[1]+1:] # Select only methyl data\n",
    "y = output.iloc[:,0:df3.shape[1]+1] # Select only clinical data"
   ]
  },
  {
   "cell_type": "code",
   "execution_count": 9,
   "metadata": {},
   "outputs": [
    {
     "name": "stdout",
     "output_type": "stream",
     "text": [
      "Discovery dataset (train) contains 310545 rows (5mC sites) and 1142 columns (samples)\n",
      "\n",
      "AAML1031    520\n",
      "AAML0531    508\n",
      "AML05        64\n",
      "AAML03P1     36\n",
      "CCG2961      14\n",
      "\n",
      "Validation dataset (test) contains 310545 rows (5mC sites) and 204 columns (samples).\n",
      "\n",
      "AML02    162\n",
      "AML08     42\n",
      "\n"
     ]
    }
   ],
   "source": [
    "# Split train and test by clinical trial\n",
    "y_train = y[~y['Clinical Trial'].isin(['AML02', 'AML08'])]\n",
    "# y_train = y_train[y_train['Sample Type'].isin(['Diagnosis',\n",
    "#        'Primary Blood Derived Cancer - Bone Marrow', 'Bone Marrow Normal',\n",
    "#        'Primary Blood Derived Cancer - Peripheral Blood',\n",
    "#        'Blood Derived Normal'])]\n",
    "\n",
    "y_test = y[y['Clinical Trial'].isin(['AML02', 'AML08'])]\n",
    "\n",
    "# Select samples in x that are in y_train\n",
    "x_train = x.loc[y_train.index]\n",
    "x_test = x.loc[y_test.index]\n",
    "\n",
    "# x_train = pd.concat([x_train, ctrl_x], axis=0)\n",
    "# y_train = pd.concat([y_train, ctrl_y], axis=0,keys=['Diagnosis','Control'], names=['sample_type'])\n",
    "\n",
    "\n",
    "print(\n",
    "    f\"Discovery dataset (train) contains {x_train.shape[1]} rows (5mC sites) and {x_train.shape[0]} columns (samples)\")\n",
    "print(\n",
    "    f\"\\n{y_train['Clinical Trial'].value_counts(dropna=False).to_string()}\\n\")\n",
    "print(\n",
    "    f\"Validation dataset (test) contains {x_test.shape[1]} rows (5mC sites) and {x_test.shape[0]} columns (samples).\")\n",
    "print(f\"\\n{y_test['Clinical Trial'].value_counts(dropna=False).to_string()}\\n\")\n"
   ]
  },
  {
   "attachments": {},
   "cell_type": "markdown",
   "metadata": {},
   "source": [
    "## Batch Correction with pyCombat"
   ]
  },
  {
   "attachments": {},
   "cell_type": "markdown",
   "metadata": {},
   "source": [
    "- __pyCombat__: a Python tool for batch effects correction in high-throughput molecular data using empirical Bayes methods\n",
    "\n",
    "- __Github__: [https://epigenelabs.github.io/pyComBat/](https://epigenelabs.github.io/pyComBat/)\n",
    "\n",
    "- __Implementation Paper__: [bioRxiv](https://doi.org/10.1101/2020.03.17.995431)\n",
    "\n",
    "- __Original Paper__: [Biostatistics](https://pubmed.ncbi.nlm.nih.gov/16632515/)"
   ]
  },
  {
   "cell_type": "code",
   "execution_count": 10,
   "metadata": {},
   "outputs": [
    {
     "name": "stdout",
     "output_type": "stream",
     "text": [
      "Found 4 batches.\n",
      "Adjusting for 0 covariate(s) or covariate level(s).\n",
      "Standardizing Data across genes.\n",
      "Fitting L/S model and finding priors.\n",
      "Finding parametric adjustments.\n",
      "Adjusting the Data\n",
      "Succesfully corrected batch effects in the training dataset.\n"
     ]
    }
   ],
   "source": [
    "from combat.pycombat import pycombat\n",
    "\n",
    "# Correct batch effects in the training dataset\n",
    "x_train2 = pycombat(x_train.T, y_train['Batch']).T\n",
    "\n",
    "print('Succesfully corrected batch effects in the training dataset.')\n"
   ]
  },
  {
   "cell_type": "code",
   "execution_count": 11,
   "metadata": {},
   "outputs": [
    {
     "name": "stdout",
     "output_type": "stream",
     "text": [
      "Discovery dataset (train) contains 310545 rows (5mC sites) and 1078 columns (samples)\n",
      "\n",
      "AAML1031    520\n",
      "AAML0531    508\n",
      "AAML03P1     36\n",
      "CCG2961      14\n",
      "\n",
      "Validation dataset (test) contains 310545 rows (5mC sites) and 204 columns (samples).\n",
      "\n",
      "AML02    162\n",
      "AML08     42\n",
      "\n"
     ]
    }
   ],
   "source": [
    "y_train = y_train[~y_train['Clinical Trial'].isin(['AML05'])]\n",
    "x_train3 = x_train2.loc[y_train.index]\n",
    "\n",
    "\n",
    "print(\n",
    "    f\"Discovery dataset (train) contains {x_train3.shape[1]} rows (5mC sites) and {x_train3.shape[0]} columns (samples)\")\n",
    "print(\n",
    "    f\"\\n{y_train['Clinical Trial'].value_counts(dropna=False).to_string()}\\n\")\n",
    "print(\n",
    "    f\"Validation dataset (test) contains {x_test.shape[1]} rows (5mC sites) and {x_test.shape[0]} columns (samples).\")\n",
    "print(f\"\\n{y_test['Clinical Trial'].value_counts(dropna=False).to_string()}\\n\")"
   ]
  },
  {
   "cell_type": "code",
   "execution_count": 12,
   "metadata": {},
   "outputs": [
    {
     "name": "stdout",
     "output_type": "stream",
     "text": [
      "Successfuly saved methyl data in x.pkl and clinical data in y.csv.\n",
      "Path: ../Data/Processed_Data/\n"
     ]
    }
   ],
   "source": [
    "x_train3.to_pickle(output_path+'x_train.pkl') # Save methyl data\n",
    "y_train.to_csv(output_path+'y_train.csv') # Save clinical data\n",
    "\n",
    "print(\n",
    "    f'Successfuly saved methyl data in x.pkl and clinical data in y.csv.\\nPath: {output_path}')"
   ]
  },
  {
   "attachments": {},
   "cell_type": "markdown",
   "metadata": {},
   "source": [
    "### Save Control and Relapse Data Separately"
   ]
  },
  {
   "cell_type": "code",
   "execution_count": 13,
   "metadata": {
    "tags": [
     "hide-input"
    ]
   },
   "outputs": [
    {
     "name": "stdout",
     "output_type": "stream",
     "text": [
      "Successfuly saved 147 control samples and 248 relapse samples.\n",
      "Path: ../Data/Processed_Data/\n"
     ]
    }
   ],
   "source": [
    "controls = df_[df_['Sample Type'].isin(['Bone Marrow Normal'])]\n",
    "\n",
    "relapse = df_[df_['Sample Type'].isin(['Relapse', 'Recurrent Blood Derived Cancer - Bone Marrow',\n",
    "                                       'Recurrent Blood Derived Cancer - Peripheral Blood'])]\n",
    "\n",
    "# Merge control and relapse samples\n",
    "t = pd.concat([controls, relapse], axis=0, join='outer',\n",
    "              names=['Control', 'Relapse'])\n",
    "\n",
    "# Join clinical data with methyl data\n",
    "t2 = df_methyl.join(t, how='right')\n",
    "\n",
    "# Save merged control and relapse samples\n",
    "t2.to_pickle(output_path+'control_relapse.pkl')\n",
    "\n",
    "print(\n",
    "    f'Successfuly saved {controls.shape[0]} control samples and {relapse.shape[0]} relapse samples.\\nPath: {output_path}')\n"
   ]
  },
  {
   "attachments": {},
   "cell_type": "markdown",
   "metadata": {},
   "source": [
    "## Watermark"
   ]
  },
  {
   "cell_type": "code",
   "execution_count": 14,
   "metadata": {
    "tags": [
     "remove-input",
     "remove-output"
    ]
   },
   "outputs": [],
   "source": [
    "%load_ext watermark"
   ]
  },
  {
   "cell_type": "code",
   "execution_count": 15,
   "metadata": {
    "tags": [
     "remove-input"
    ]
   },
   "outputs": [
    {
     "name": "stdout",
     "output_type": "stream",
     "text": [
      "Python implementation: CPython\n",
      "Python version       : 3.10.10\n",
      "IPython version      : 8.3.0\n",
      "\n",
      "pandas: 1.5.3\n",
      "\n"
     ]
    }
   ],
   "source": [
    "# produce a list of the loaded modules\n",
    "%watermark -v -p pandas"
   ]
  }
 ],
 "metadata": {
  "celltoolbar": "Tags",
  "kernelspec": {
   "display_name": ".venv_data_vizualization",
   "language": "python",
   "name": "python3"
  },
  "language_info": {
   "codemirror_mode": {
    "name": "ipython",
    "version": 3
   },
   "file_extension": ".py",
   "mimetype": "text/x-python",
   "name": "python",
   "nbconvert_exporter": "python",
   "pygments_lexer": "ipython3",
   "version": "3.8.16"
  },
  "vscode": {
   "interpreter": {
    "hash": "1536c79f85cc2a2ac13c148ca716b8e28acb6745983d6aacea6d4fcb49ea6e2e"
   }
  }
 },
 "nbformat": 4,
 "nbformat_minor": 2
}
