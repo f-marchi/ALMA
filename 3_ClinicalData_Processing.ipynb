{
 "cells": [
  {
   "attachments": {},
   "cell_type": "markdown",
   "metadata": {},
   "source": [
    "# Clinical Data Processing"
   ]
  },
  {
   "attachments": {},
   "cell_type": "markdown",
   "metadata": {},
   "source": [
    "## Where the data at?"
   ]
  },
  {
   "cell_type": "code",
   "execution_count": 1,
   "metadata": {},
   "outputs": [],
   "source": [
    "input_path = '../Data/Intermediate_Files/'\n",
    "clinicaldata_path = '../Data/Raw_Data/Clinical_Data/'\n",
    "output_path = '../Data/Processed_Data/'"
   ]
  },
  {
   "attachments": {},
   "cell_type": "markdown",
   "metadata": {},
   "source": [
    "## Load Methyl Data"
   ]
  },
  {
   "cell_type": "code",
   "execution_count": 2,
   "metadata": {
    "tags": [
     "hide-input"
    ]
   },
   "outputs": [
    {
     "name": "stdout",
     "output_type": "stream",
     "text": [
      " Dataset (df) contains 333249 columns (mC sites) and 3357 rows (samples).\n"
     ]
    }
   ],
   "source": [
    "import pandas as pd\n",
    "\n",
    "df_methyl = pd.read_pickle(\n",
    "    input_path+'2_MethylData_Processing_Output.pkl')\n",
    "\n",
    "# .T.reset_index(level=0, names='Batch')\n",
    "\n",
    "print(\n",
    "    f' Dataset (df) contains {df_methyl.shape[1]} columns (mC sites) and {df_methyl.shape[0]} rows (samples).')\n"
   ]
  },
  {
   "cell_type": "code",
   "execution_count": 3,
   "metadata": {},
   "outputs": [
    {
     "data": {
      "text/plain": [
       "Batch\n",
       "GSE49031          933\n",
       "GSE190931         581\n",
       "GSE124413         495\n",
       "GSE159907         316\n",
       "GDC_TARGET-AML    314\n",
       "GDC_TCGA-AML      194\n",
       "GSE152710         166\n",
       "GSE147667         153\n",
       "GDC_TARGET-ALL    141\n",
       "GSE133986          64\n",
       "Name: count, dtype: int64"
      ]
     },
     "execution_count": 3,
     "metadata": {},
     "output_type": "execute_result"
    }
   ],
   "source": [
    "df_methyl['Batch'].value_counts(dropna=False)"
   ]
  },
  {
   "attachments": {},
   "cell_type": "markdown",
   "metadata": {},
   "source": [
    "## Add Labels/Clinical Outcome Data"
   ]
  },
  {
   "cell_type": "code",
   "execution_count": 4,
   "metadata": {
    "tags": [
     "hide-input"
    ]
   },
   "outputs": [],
   "source": [
    "# Import functions to clean up clinical data\n",
    "from FM_Functions.Clinical_Data_CleanUp import *\n",
    "\n",
    "# Combine all clinical data files into one dataframe and indexes it by the sample ID\n",
    "labels_cog, labels_aml02, labels_aml08, labels_aml05 = combine_and_index_clinicaldata()\n",
    "# Clean up and adjust clinical data labels\n",
    "labels_aml02 = clean_aml02(labels_aml02)\n",
    "labels_aml08 = clean_aml08(labels_aml08)\n",
    "labels_cog   = clean_cog(labels_cog)\n",
    "labels_aml05 = clean_aml05(labels_aml05)\n",
    "\n",
    "# Combine all clinical data labels\n",
    "df = pd.concat([labels_aml02, labels_aml08, labels_cog,\n",
    "               labels_aml05], axis=0, join='outer')\n",
    "\n",
    "# Remove samples that are not in the methyl dataset\n",
    "# df = df.loc[df.index.isin(df_methyl.index)]\n",
    "\n",
    "# Label control samples from the AML0531 clinical trial (GSE124413) as 'Bone Marrow Normal'\n",
    "\n",
    "def label_control_samples(df_methyl, df):\n",
    "    \"\"\"\n",
    "    This function labels control samples from the AML0531 clinical trial (GSE124413) as 'Bone Marrow Normal'\n",
    "    and combines them with the clinical trial samples.\n",
    "    \"\"\"\n",
    "    a = df_methyl[df_methyl['Batch'].isin(['GSE124413'])]\n",
    "    b = df[df.index.isin(a.index)]\n",
    "    control_0531 = a[~a.index.isin(b.index)]\n",
    "    control_0531['Sample Type'] = 'Bone Marrow Normal'\n",
    "    df_ = pd.concat(\n",
    "        [df, control_0531['Sample Type'].to_frame()], axis=0, join='outer')\n",
    "    return df_\n",
    "\n",
    "df_ = label_control_samples(df_methyl, df)\n"
   ]
  },
  {
   "cell_type": "code",
   "execution_count": 5,
   "metadata": {},
   "outputs": [
    {
     "data": {
      "text/plain": [
       "(2282, 291)"
      ]
     },
     "execution_count": 5,
     "metadata": {},
     "output_type": "execute_result"
    }
   ],
   "source": [
    "df.shape"
   ]
  },
  {
   "attachments": {},
   "cell_type": "markdown",
   "metadata": {},
   "source": [
    "## MDS_tAML"
   ]
  },
  {
   "cell_type": "code",
   "execution_count": 114,
   "metadata": {},
   "outputs": [],
   "source": [
    "meta = pd.read_pickle('../Data/Raw_Data/Methyl_Array_450k/GSE152710/sample_sheet_meta_data.pkl').iloc[:,:-1].set_index('Sample_ID')"
   ]
  },
  {
   "attachments": {},
   "cell_type": "markdown",
   "metadata": {},
   "source": [
    "## Nordic ALL"
   ]
  },
  {
   "cell_type": "code",
   "execution_count": 134,
   "metadata": {},
   "outputs": [],
   "source": [
    "meta = pd.read_pickle('../Data/Raw_Data/Methyl_Array_450k/GSE49031/sample_sheet_meta_data.pkl').iloc[:,:-1].set_index('Sample_ID')"
   ]
  },
  {
   "attachments": {},
   "cell_type": "markdown",
   "metadata": {},
   "source": [
    "## Tcell_ALL_GRAAL"
   ]
  },
  {
   "cell_type": "code",
   "execution_count": 142,
   "metadata": {},
   "outputs": [],
   "source": [
    "meta = pd.read_pickle('../Data/Raw_Data/Methyl_Array_EPIC/GSE147667/sample_sheet_meta_data.pkl').iloc[:,:-1].set_index('Sample_ID')"
   ]
  },
  {
   "cell_type": "code",
   "execution_count": 145,
   "metadata": {},
   "outputs": [
    {
     "data": {
      "text/html": [
       "<div>\n",
       "<style scoped>\n",
       "    .dataframe tbody tr th:only-of-type {\n",
       "        vertical-align: middle;\n",
       "    }\n",
       "\n",
       "    .dataframe tbody tr th {\n",
       "        vertical-align: top;\n",
       "    }\n",
       "\n",
       "    .dataframe thead th {\n",
       "        text-align: right;\n",
       "    }\n",
       "</style>\n",
       "<table border=\"1\" class=\"dataframe\">\n",
       "  <thead>\n",
       "    <tr style=\"text-align: right;\">\n",
       "      <th></th>\n",
       "      <th>source</th>\n",
       "      <th>age</th>\n",
       "      <th>gender</th>\n",
       "      <th>diagnosis</th>\n",
       "      <th>tissue</th>\n",
       "      <th>description</th>\n",
       "      <th>Sentrix_ID</th>\n",
       "      <th>Sentrix_Position</th>\n",
       "      <th>Sample_Group</th>\n",
       "      <th>Sample_Name</th>\n",
       "      <th>Sample_Plate</th>\n",
       "      <th>Sample_Type</th>\n",
       "      <th>Sub_Type</th>\n",
       "      <th>Sample_Well</th>\n",
       "      <th>Pool_ID</th>\n",
       "      <th>GSM_ID</th>\n",
       "      <th>Control</th>\n",
       "    </tr>\n",
       "    <tr>\n",
       "      <th>Sample_ID</th>\n",
       "      <th></th>\n",
       "      <th></th>\n",
       "      <th></th>\n",
       "      <th></th>\n",
       "      <th></th>\n",
       "      <th></th>\n",
       "      <th></th>\n",
       "      <th></th>\n",
       "      <th></th>\n",
       "      <th></th>\n",
       "      <th></th>\n",
       "      <th></th>\n",
       "      <th></th>\n",
       "      <th></th>\n",
       "      <th></th>\n",
       "      <th></th>\n",
       "      <th></th>\n",
       "    </tr>\n",
       "  </thead>\n",
       "  <tbody>\n",
       "    <tr>\n",
       "      <th>201233650075_R07C01</th>\n",
       "      <td>Healthy Thymus</td>\n",
       "      <td>NA</td>\n",
       "      <td>NA</td>\n",
       "      <td>normal</td>\n",
       "      <td>Normal Thymic cell type</td>\n",
       "      <td>genomic data from CD34 positive thymic cells r...</td>\n",
       "      <td>201233650075</td>\n",
       "      <td>R07C01</td>\n",
       "      <td>None</td>\n",
       "      <td>CD34_1</td>\n",
       "      <td>None</td>\n",
       "      <td>Unknown</td>\n",
       "      <td>None</td>\n",
       "      <td>None</td>\n",
       "      <td>None</td>\n",
       "      <td>GSM4439759</td>\n",
       "      <td>False</td>\n",
       "    </tr>\n",
       "    <tr>\n",
       "      <th>203724130020_R01C01</th>\n",
       "      <td>Healthy Thymus</td>\n",
       "      <td>NA</td>\n",
       "      <td>NA</td>\n",
       "      <td>normal</td>\n",
       "      <td>Normal Thymic cell type</td>\n",
       "      <td>genomic data from CD34 positive thymic cells r...</td>\n",
       "      <td>203724130020</td>\n",
       "      <td>R01C01</td>\n",
       "      <td>None</td>\n",
       "      <td>CD34_2</td>\n",
       "      <td>None</td>\n",
       "      <td>Unknown</td>\n",
       "      <td>None</td>\n",
       "      <td>None</td>\n",
       "      <td>None</td>\n",
       "      <td>GSM4439760</td>\n",
       "      <td>False</td>\n",
       "    </tr>\n",
       "    <tr>\n",
       "      <th>201233650075_R08C01</th>\n",
       "      <td>Healthy Thymus</td>\n",
       "      <td>NA</td>\n",
       "      <td>NA</td>\n",
       "      <td>normal</td>\n",
       "      <td>Normal Thymic cell type</td>\n",
       "      <td>genomic data from Immature Simple positive CD4...</td>\n",
       "      <td>201233650075</td>\n",
       "      <td>R08C01</td>\n",
       "      <td>None</td>\n",
       "      <td>ISP_1</td>\n",
       "      <td>None</td>\n",
       "      <td>Unknown</td>\n",
       "      <td>None</td>\n",
       "      <td>None</td>\n",
       "      <td>None</td>\n",
       "      <td>GSM4439761</td>\n",
       "      <td>False</td>\n",
       "    </tr>\n",
       "    <tr>\n",
       "      <th>203724130020_R02C01</th>\n",
       "      <td>Healthy Thymus</td>\n",
       "      <td>NA</td>\n",
       "      <td>NA</td>\n",
       "      <td>normal</td>\n",
       "      <td>Normal Thymic cell type</td>\n",
       "      <td>genomic data from Immature Simple positive CD4...</td>\n",
       "      <td>203724130020</td>\n",
       "      <td>R02C01</td>\n",
       "      <td>None</td>\n",
       "      <td>ISP_2</td>\n",
       "      <td>None</td>\n",
       "      <td>Unknown</td>\n",
       "      <td>None</td>\n",
       "      <td>None</td>\n",
       "      <td>None</td>\n",
       "      <td>GSM4439762</td>\n",
       "      <td>False</td>\n",
       "    </tr>\n",
       "    <tr>\n",
       "      <th>201233650023_R05C01</th>\n",
       "      <td>Healthy Thymus</td>\n",
       "      <td>NA</td>\n",
       "      <td>NA</td>\n",
       "      <td>normal</td>\n",
       "      <td>Normal Thymic cell type</td>\n",
       "      <td>genomic data from mature CD4 positive thymic c...</td>\n",
       "      <td>201233650023</td>\n",
       "      <td>R05C01</td>\n",
       "      <td>None</td>\n",
       "      <td>SPo4_1</td>\n",
       "      <td>None</td>\n",
       "      <td>Unknown</td>\n",
       "      <td>None</td>\n",
       "      <td>None</td>\n",
       "      <td>None</td>\n",
       "      <td>GSM4439764</td>\n",
       "      <td>False</td>\n",
       "    </tr>\n",
       "  </tbody>\n",
       "</table>\n",
       "</div>"
      ],
      "text/plain": [
       "                             source age gender diagnosis   \n",
       "Sample_ID                                                  \n",
       "201233650075_R07C01  Healthy Thymus  NA     NA    normal  \\\n",
       "203724130020_R01C01  Healthy Thymus  NA     NA    normal   \n",
       "201233650075_R08C01  Healthy Thymus  NA     NA    normal   \n",
       "203724130020_R02C01  Healthy Thymus  NA     NA    normal   \n",
       "201233650023_R05C01  Healthy Thymus  NA     NA    normal   \n",
       "\n",
       "                                      tissue   \n",
       "Sample_ID                                      \n",
       "201233650075_R07C01  Normal Thymic cell type  \\\n",
       "203724130020_R01C01  Normal Thymic cell type   \n",
       "201233650075_R08C01  Normal Thymic cell type   \n",
       "203724130020_R02C01  Normal Thymic cell type   \n",
       "201233650023_R05C01  Normal Thymic cell type   \n",
       "\n",
       "                                                           description   \n",
       "Sample_ID                                                                \n",
       "201233650075_R07C01  genomic data from CD34 positive thymic cells r...  \\\n",
       "203724130020_R01C01  genomic data from CD34 positive thymic cells r...   \n",
       "201233650075_R08C01  genomic data from Immature Simple positive CD4...   \n",
       "203724130020_R02C01  genomic data from Immature Simple positive CD4...   \n",
       "201233650023_R05C01  genomic data from mature CD4 positive thymic c...   \n",
       "\n",
       "                       Sentrix_ID Sentrix_Position Sample_Group Sample_Name   \n",
       "Sample_ID                                                                     \n",
       "201233650075_R07C01  201233650075           R07C01         None      CD34_1  \\\n",
       "203724130020_R01C01  203724130020           R01C01         None      CD34_2   \n",
       "201233650075_R08C01  201233650075           R08C01         None       ISP_1   \n",
       "203724130020_R02C01  203724130020           R02C01         None       ISP_2   \n",
       "201233650023_R05C01  201233650023           R05C01         None      SPo4_1   \n",
       "\n",
       "                    Sample_Plate Sample_Type Sub_Type Sample_Well Pool_ID   \n",
       "Sample_ID                                                                   \n",
       "201233650075_R07C01         None     Unknown     None        None    None  \\\n",
       "203724130020_R01C01         None     Unknown     None        None    None   \n",
       "201233650075_R08C01         None     Unknown     None        None    None   \n",
       "203724130020_R02C01         None     Unknown     None        None    None   \n",
       "201233650023_R05C01         None     Unknown     None        None    None   \n",
       "\n",
       "                         GSM_ID Control  \n",
       "Sample_ID                                \n",
       "201233650075_R07C01  GSM4439759   False  \n",
       "203724130020_R01C01  GSM4439760   False  \n",
       "201233650075_R08C01  GSM4439761   False  \n",
       "203724130020_R02C01  GSM4439762   False  \n",
       "201233650023_R05C01  GSM4439764   False  "
      ]
     },
     "execution_count": 145,
     "metadata": {},
     "output_type": "execute_result"
    }
   ],
   "source": [
    "meta.head()"
   ]
  },
  {
   "cell_type": "code",
   "execution_count": 147,
   "metadata": {},
   "outputs": [
    {
     "data": {
      "text/plain": [
       "description\n",
       "genomic data from T-ALL leukemic blasts                                     143\n",
       "genomic data from CD34 positive thymic cells rep-1                            1\n",
       "genomic data from CD34 positive thymic cells rep-2                            1\n",
       "genomic data from Immature Simple positive CD4+ thymic cells rep-1            1\n",
       "genomic data from Immature Simple positive CD4+ thymic cells rep-2            1\n",
       "genomic data from mature CD4 positive thymic cells rep-1                      1\n",
       "genomic data from mature CD4 positive thymic cells rep-2                      1\n",
       "genomic data from mature CD8 positive thymic cells rep-1                      1\n",
       "genomic data from mature CD8 positive thymic cells rep-2                      1\n",
       "genomic data from Double Positive CD4+ CD8+ TCR- CD3- thymic cells rep-1      1\n",
       "genomic data from Double Positive CD4+ CD8+ TCR- CD3- thymic cells rep-2      1\n",
       "genomic data from Double Positive CD4+ CD8+ TCR+ CD3+ thymic cells rep-1      1\n",
       "genomic data from Double Positive CD4+ CD8+ TCR+ CD3+ thymic cells rep-2      1\n",
       "Name: count, dtype: int64"
      ]
     },
     "execution_count": 147,
     "metadata": {},
     "output_type": "execute_result"
    }
   ],
   "source": [
    "meta['description'].value_counts()"
   ]
  },
  {
   "attachments": {},
   "cell_type": "markdown",
   "metadata": {},
   "source": []
  },
  {
   "attachments": {},
   "cell_type": "markdown",
   "metadata": {},
   "source": [
    "## GDC TARGET ALL"
   ]
  },
  {
   "cell_type": "code",
   "execution_count": 129,
   "metadata": {},
   "outputs": [],
   "source": [
    "# load clinical data from GDC\n",
    "clinical_tsv = pd.read_csv('../Data/Raw_Data/Methyl_Array_EPIC/GDC_TARGET-ALL/clinical.tsv', \n",
    "                            sep='\\t', index_col=0)[['case_submitter_id']].drop_duplicates()"
   ]
  },
  {
   "cell_type": "code",
   "execution_count": 131,
   "metadata": {},
   "outputs": [
    {
     "data": {
      "text/html": [
       "<div>\n",
       "<style scoped>\n",
       "    .dataframe tbody tr th:only-of-type {\n",
       "        vertical-align: middle;\n",
       "    }\n",
       "\n",
       "    .dataframe tbody tr th {\n",
       "        vertical-align: top;\n",
       "    }\n",
       "\n",
       "    .dataframe thead th {\n",
       "        text-align: right;\n",
       "    }\n",
       "</style>\n",
       "<table border=\"1\" class=\"dataframe\">\n",
       "  <thead>\n",
       "    <tr style=\"text-align: right;\">\n",
       "      <th></th>\n",
       "      <th>case_submitter_id</th>\n",
       "    </tr>\n",
       "    <tr>\n",
       "      <th>case_id</th>\n",
       "      <th></th>\n",
       "    </tr>\n",
       "  </thead>\n",
       "  <tbody>\n",
       "    <tr>\n",
       "      <th>92aa6eba-2d43-4b40-9467-305bde60666b</th>\n",
       "      <td>TARGET-15-SJMPAL003414</td>\n",
       "    </tr>\n",
       "    <tr>\n",
       "      <th>fde8ad74-7071-42b7-b47a-8227fe049f1f</th>\n",
       "      <td>TARGET-15-SJMPAL046466</td>\n",
       "    </tr>\n",
       "    <tr>\n",
       "      <th>6a39937a-0e74-4637-b77c-c3fa4161b47c</th>\n",
       "      <td>TARGET-15-SJMPAL046471</td>\n",
       "    </tr>\n",
       "    <tr>\n",
       "      <th>5aab9dc1-efdb-4eb8-ab7b-d0569e233698</th>\n",
       "      <td>TARGET-20-SJAML045737</td>\n",
       "    </tr>\n",
       "    <tr>\n",
       "      <th>a018a6bf-9e9c-4076-9e2e-7916c17483ce</th>\n",
       "      <td>TARGET-15-SJMPAL012427</td>\n",
       "    </tr>\n",
       "    <tr>\n",
       "      <th>af5b5876-e966-4ca3-96ab-84c8dd6adb7c</th>\n",
       "      <td>TARGET-15-SJMPAL040024</td>\n",
       "    </tr>\n",
       "    <tr>\n",
       "      <th>6deec82d-51cc-4c60-a445-20265889fe78</th>\n",
       "      <td>TARGET-15-SJMPAL016447</td>\n",
       "    </tr>\n",
       "    <tr>\n",
       "      <th>1bdd092b-b5dc-4626-b39d-c8c4532af8cc</th>\n",
       "      <td>TARGET-20-SJAML003322</td>\n",
       "    </tr>\n",
       "    <tr>\n",
       "      <th>e8116a9a-0b3e-4c5d-a895-432806794124</th>\n",
       "      <td>TARGET-20-SJAML045742</td>\n",
       "    </tr>\n",
       "    <tr>\n",
       "      <th>e7564df5-a649-4ca6-9678-71c70cb4e691</th>\n",
       "      <td>TARGET-20-SJAML045734</td>\n",
       "    </tr>\n",
       "    <tr>\n",
       "      <th>862afd20-89b5-4888-ae2f-eae74cf94d5b</th>\n",
       "      <td>TARGET-15-SJMPAL016108</td>\n",
       "    </tr>\n",
       "    <tr>\n",
       "      <th>c5723866-f60a-4d7d-bfbd-9d196caa7d7c</th>\n",
       "      <td>TARGET-20-SJAML045741</td>\n",
       "    </tr>\n",
       "    <tr>\n",
       "      <th>4d83ef22-d28c-4078-872c-bb14cac54315</th>\n",
       "      <td>TARGET-20-SJAML040268</td>\n",
       "    </tr>\n",
       "    <tr>\n",
       "      <th>55112905-0311-4630-9bc1-01ed1a154bc2</th>\n",
       "      <td>TARGET-20-SJAML007112</td>\n",
       "    </tr>\n",
       "    <tr>\n",
       "      <th>c7e60e21-3dba-430d-a7a5-aa17f4c2b533</th>\n",
       "      <td>TARGET-15-SJMPAL012417</td>\n",
       "    </tr>\n",
       "    <tr>\n",
       "      <th>41fbb10c-0786-4c19-8bdd-0f534c3631fd</th>\n",
       "      <td>TARGET-20-SJAML045739</td>\n",
       "    </tr>\n",
       "    <tr>\n",
       "      <th>da50e709-f6ad-4240-94d9-1b51e56fcfd8</th>\n",
       "      <td>TARGET-20-SJAML045735</td>\n",
       "    </tr>\n",
       "    <tr>\n",
       "      <th>adacc327-6602-4e77-a93d-2645da066953</th>\n",
       "      <td>TARGET-20-SJAML016570</td>\n",
       "    </tr>\n",
       "    <tr>\n",
       "      <th>6b54efdc-36b8-44e2-b682-4adb5d30b398</th>\n",
       "      <td>TARGET-15-SJMPAL046467</td>\n",
       "    </tr>\n",
       "    <tr>\n",
       "      <th>f53089aa-9dfa-400b-b3a4-45eb2ccdcd46</th>\n",
       "      <td>TARGET-15-SJMPAL016340</td>\n",
       "    </tr>\n",
       "    <tr>\n",
       "      <th>6ba3666f-4db5-4161-8fda-51baf62e1eff</th>\n",
       "      <td>TARGET-15-SJMPAL046472</td>\n",
       "    </tr>\n",
       "    <tr>\n",
       "      <th>45987c25-2a01-48f5-b49d-6e04ab818941</th>\n",
       "      <td>TARGET-15-SJMPAL016344</td>\n",
       "    </tr>\n",
       "    <tr>\n",
       "      <th>50c40ab5-a7f2-4e5b-a438-04121d682e32</th>\n",
       "      <td>TARGET-15-SJMPAL016448</td>\n",
       "    </tr>\n",
       "    <tr>\n",
       "      <th>daa5b54a-30b0-44e2-84b7-d186bb4dac62</th>\n",
       "      <td>TARGET-20-SJAML045738</td>\n",
       "    </tr>\n",
       "    <tr>\n",
       "      <th>8c456f6d-43cc-4864-acf8-0313a3119050</th>\n",
       "      <td>TARGET-20-SJAML045740</td>\n",
       "    </tr>\n",
       "    <tr>\n",
       "      <th>ef7220b2-4b69-4dca-93f5-1e06d2c73e48</th>\n",
       "      <td>TARGET-15-SJMPAL016342</td>\n",
       "    </tr>\n",
       "    <tr>\n",
       "      <th>11823197-0ad7-4951-993d-0b4278d991e7</th>\n",
       "      <td>TARGET-15-SJMPAL016343</td>\n",
       "    </tr>\n",
       "    <tr>\n",
       "      <th>07a7c5e1-a506-4a8c-a6a2-4a02c11197cb</th>\n",
       "      <td>TARGET-15-SJMPAL012419</td>\n",
       "    </tr>\n",
       "    <tr>\n",
       "      <th>392a3476-0cb0-4133-b145-d72662e295b3</th>\n",
       "      <td>TARGET-15-SJMPAL012422</td>\n",
       "    </tr>\n",
       "    <tr>\n",
       "      <th>9519ed65-f851-4825-aba7-3d52a2331da9</th>\n",
       "      <td>TARGET-15-SJMPAL040037</td>\n",
       "    </tr>\n",
       "    <tr>\n",
       "      <th>adf08a27-d7f5-426c-b7fe-0a452c009b86</th>\n",
       "      <td>TARGET-15-SJMPAL042793</td>\n",
       "    </tr>\n",
       "    <tr>\n",
       "      <th>4f654ad0-1753-4895-a3af-a5d88a5a42eb</th>\n",
       "      <td>TARGET-20-SJAML007113</td>\n",
       "    </tr>\n",
       "    <tr>\n",
       "      <th>56cd353a-4402-43a6-a5b5-95b90dbfef50</th>\n",
       "      <td>TARGET-15-SJMPAL012425</td>\n",
       "    </tr>\n",
       "    <tr>\n",
       "      <th>2c57c862-4974-4213-ba05-3ba26a37f292</th>\n",
       "      <td>TARGET-20-SJAML003320</td>\n",
       "    </tr>\n",
       "    <tr>\n",
       "      <th>4df21801-0398-44d7-ba87-e4c15791ae60</th>\n",
       "      <td>TARGET-15-PARWPU</td>\n",
       "    </tr>\n",
       "    <tr>\n",
       "      <th>00ee6418-9249-4e97-b990-ae1a8cb478b5</th>\n",
       "      <td>TARGET-20-SJAML045736</td>\n",
       "    </tr>\n",
       "    <tr>\n",
       "      <th>da3d2ca6-287d-4f18-b489-b96b15b4b5cc</th>\n",
       "      <td>TARGET-15-SJMPAL012420</td>\n",
       "    </tr>\n",
       "    <tr>\n",
       "      <th>2f4c8bf3-d67a-4719-90c7-6bb270c30799</th>\n",
       "      <td>TARGET-15-SJMPAL012421</td>\n",
       "    </tr>\n",
       "    <tr>\n",
       "      <th>a983c20c-f2f5-4fac-b9b9-b3fdcbc8505a</th>\n",
       "      <td>TARGET-15-SJMPAL012418</td>\n",
       "    </tr>\n",
       "    <tr>\n",
       "      <th>59c5c505-0515-497b-96d5-be061cb33d2d</th>\n",
       "      <td>TARGET-15-SJMPAL046470</td>\n",
       "    </tr>\n",
       "    <tr>\n",
       "      <th>bf39d8ad-b398-461f-a35c-498b0f5a9cc2</th>\n",
       "      <td>TARGET-15-SJMPAL043771</td>\n",
       "    </tr>\n",
       "    <tr>\n",
       "      <th>17667e8b-8f00-4444-9e8d-26962349beda</th>\n",
       "      <td>TARGET-15-SJMPAL012424</td>\n",
       "    </tr>\n",
       "  </tbody>\n",
       "</table>\n",
       "</div>"
      ],
      "text/plain": [
       "                                           case_submitter_id\n",
       "case_id                                                     \n",
       "92aa6eba-2d43-4b40-9467-305bde60666b  TARGET-15-SJMPAL003414\n",
       "fde8ad74-7071-42b7-b47a-8227fe049f1f  TARGET-15-SJMPAL046466\n",
       "6a39937a-0e74-4637-b77c-c3fa4161b47c  TARGET-15-SJMPAL046471\n",
       "5aab9dc1-efdb-4eb8-ab7b-d0569e233698   TARGET-20-SJAML045737\n",
       "a018a6bf-9e9c-4076-9e2e-7916c17483ce  TARGET-15-SJMPAL012427\n",
       "af5b5876-e966-4ca3-96ab-84c8dd6adb7c  TARGET-15-SJMPAL040024\n",
       "6deec82d-51cc-4c60-a445-20265889fe78  TARGET-15-SJMPAL016447\n",
       "1bdd092b-b5dc-4626-b39d-c8c4532af8cc   TARGET-20-SJAML003322\n",
       "e8116a9a-0b3e-4c5d-a895-432806794124   TARGET-20-SJAML045742\n",
       "e7564df5-a649-4ca6-9678-71c70cb4e691   TARGET-20-SJAML045734\n",
       "862afd20-89b5-4888-ae2f-eae74cf94d5b  TARGET-15-SJMPAL016108\n",
       "c5723866-f60a-4d7d-bfbd-9d196caa7d7c   TARGET-20-SJAML045741\n",
       "4d83ef22-d28c-4078-872c-bb14cac54315   TARGET-20-SJAML040268\n",
       "55112905-0311-4630-9bc1-01ed1a154bc2   TARGET-20-SJAML007112\n",
       "c7e60e21-3dba-430d-a7a5-aa17f4c2b533  TARGET-15-SJMPAL012417\n",
       "41fbb10c-0786-4c19-8bdd-0f534c3631fd   TARGET-20-SJAML045739\n",
       "da50e709-f6ad-4240-94d9-1b51e56fcfd8   TARGET-20-SJAML045735\n",
       "adacc327-6602-4e77-a93d-2645da066953   TARGET-20-SJAML016570\n",
       "6b54efdc-36b8-44e2-b682-4adb5d30b398  TARGET-15-SJMPAL046467\n",
       "f53089aa-9dfa-400b-b3a4-45eb2ccdcd46  TARGET-15-SJMPAL016340\n",
       "6ba3666f-4db5-4161-8fda-51baf62e1eff  TARGET-15-SJMPAL046472\n",
       "45987c25-2a01-48f5-b49d-6e04ab818941  TARGET-15-SJMPAL016344\n",
       "50c40ab5-a7f2-4e5b-a438-04121d682e32  TARGET-15-SJMPAL016448\n",
       "daa5b54a-30b0-44e2-84b7-d186bb4dac62   TARGET-20-SJAML045738\n",
       "8c456f6d-43cc-4864-acf8-0313a3119050   TARGET-20-SJAML045740\n",
       "ef7220b2-4b69-4dca-93f5-1e06d2c73e48  TARGET-15-SJMPAL016342\n",
       "11823197-0ad7-4951-993d-0b4278d991e7  TARGET-15-SJMPAL016343\n",
       "07a7c5e1-a506-4a8c-a6a2-4a02c11197cb  TARGET-15-SJMPAL012419\n",
       "392a3476-0cb0-4133-b145-d72662e295b3  TARGET-15-SJMPAL012422\n",
       "9519ed65-f851-4825-aba7-3d52a2331da9  TARGET-15-SJMPAL040037\n",
       "adf08a27-d7f5-426c-b7fe-0a452c009b86  TARGET-15-SJMPAL042793\n",
       "4f654ad0-1753-4895-a3af-a5d88a5a42eb   TARGET-20-SJAML007113\n",
       "56cd353a-4402-43a6-a5b5-95b90dbfef50  TARGET-15-SJMPAL012425\n",
       "2c57c862-4974-4213-ba05-3ba26a37f292   TARGET-20-SJAML003320\n",
       "4df21801-0398-44d7-ba87-e4c15791ae60        TARGET-15-PARWPU\n",
       "00ee6418-9249-4e97-b990-ae1a8cb478b5   TARGET-20-SJAML045736\n",
       "da3d2ca6-287d-4f18-b489-b96b15b4b5cc  TARGET-15-SJMPAL012420\n",
       "2f4c8bf3-d67a-4719-90c7-6bb270c30799  TARGET-15-SJMPAL012421\n",
       "a983c20c-f2f5-4fac-b9b9-b3fdcbc8505a  TARGET-15-SJMPAL012418\n",
       "59c5c505-0515-497b-96d5-be061cb33d2d  TARGET-15-SJMPAL046470\n",
       "bf39d8ad-b398-461f-a35c-498b0f5a9cc2  TARGET-15-SJMPAL043771\n",
       "17667e8b-8f00-4444-9e8d-26962349beda  TARGET-15-SJMPAL012424"
      ]
     },
     "execution_count": 131,
     "metadata": {},
     "output_type": "execute_result"
    }
   ],
   "source": [
    "clinical_tsv"
   ]
  },
  {
   "attachments": {},
   "cell_type": "markdown",
   "metadata": {},
   "source": [
    "## TCGA AML"
   ]
  },
  {
   "cell_type": "code",
   "execution_count": 105,
   "metadata": {},
   "outputs": [],
   "source": [
    "def merge_index_amltcga():\n",
    "\n",
    "    # load clinical data from GDC\n",
    "    clinical_tsv = pd.read_csv('../Data/Raw_Data/Methyl_Array_450k/GDC_TCGA-AML/clinical.tsv', \n",
    "                    sep='\\t', index_col=0)[['case_submitter_id']].drop_duplicates()\n",
    "\n",
    "    # extract last 4 digits from case_id to get TCGA Patient ID\n",
    "    clinical_tsv['TCGA Patient ID'] = clinical_tsv['case_submitter_id'].str[-4:]\n",
    "\n",
    "    # set index to TCGA Patient ID\n",
    "    clinical_tsv = clinical_tsv.reset_index().set_index('TCGA Patient ID').sort_index()\n",
    "\n",
    "    # load meta data from NEJM 2013 paper\n",
    "    meta = pd.read_excel('../Data/Raw_Data/Clinical_Data/TCGA_LAML/SuppTable01_NEJM2013_TCGA_AML.Paper_Mutation data.xlsx',\n",
    "                        index_col=1).iloc[1:,:].sort_index()\n",
    "\n",
    "    # make meta index integers\n",
    "    meta.index = meta.index.astype(int)\n",
    "    clinical_tsv.index = clinical_tsv.index.astype(int)\n",
    "\n",
    "    # join clinical_tsv and meta\n",
    "    labels_amltcga = clinical_tsv.join(meta, how='left')\n",
    "\n",
    "    # set index to case_id\n",
    "    labels_amltcga = labels_amltcga.reset_index().set_index('case_id')\n",
    "    \n",
    "    return labels_amltcga\n"
   ]
  },
  {
   "attachments": {},
   "cell_type": "markdown",
   "metadata": {},
   "source": [
    "## BeatAML Clinical Data"
   ]
  },
  {
   "cell_type": "code",
   "execution_count": 39,
   "metadata": {},
   "outputs": [],
   "source": [
    "import pandas as pd\n",
    "def merge_index_beataml ():\n",
    "    meta = pd.read_pickle('../Data/Raw_Data/Methyl_Array_EPIC/GSE159907/sample_sheet_meta_data.pkl').iloc[:,:-1]\n",
    "\n",
    "    # Create a new column with only the content inside [] from column 'Sample_Name'\n",
    "    meta['LLS_SampleID'] = meta['Sample_Name'].str.extract(r\"\\[(.*?)\\]\", expand=False)\n",
    "\n",
    "    # Set the index to the new column\n",
    "    meta1 = meta[['tissue','disease_state','LLS_SampleID','Sample_ID']].set_index('LLS_SampleID')\n",
    "\n",
    "    # Read in the clinical data\n",
    "    meta2 = pd.read_excel('../Data/Raw_Data/Clinical_Data/BeatAML/BEAT_AML_Raw clinical data_702.Samples.Vizome.xlsx', index_col=3)\n",
    "\n",
    "    # Join the two dataframes\n",
    "    labels_beataml = meta1.join(meta2, how='left').reset_index().set_index('Sample_ID')\n",
    "\n",
    "    return labels_beataml\n",
    "\n",
    "labels_beataml = clean_beataml()"
   ]
  },
  {
   "attachments": {},
   "cell_type": "markdown",
   "id": "3c02342a",
   "metadata": {},
   "source": [
    "## Remove Samples based on Certain Clinical Features"
   ]
  },
  {
   "attachments": {},
   "cell_type": "markdown",
   "metadata": {},
   "source": [
    "### Remove Relapse Samples"
   ]
  },
  {
   "cell_type": "code",
   "execution_count": 5,
   "id": "41f406b9",
   "metadata": {
    "tags": [
     "hide-input"
    ]
   },
   "outputs": [
    {
     "name": "stdout",
     "output_type": "stream",
     "text": [
      "Out of 1762 samples, 248 matched, yielding 1514 samples after filtering\n"
     ]
    }
   ],
   "source": [
    "df1 = df_[~df_['Sample Type'].isin(['Relapse', 'Recurrent Blood Derived Cancer - Bone Marrow',\n",
    "                                    'Recurrent Blood Derived Cancer - Peripheral Blood'])]\n",
    "\n",
    "print(\n",
    "    f'Out of {df_.shape[0]} samples, {df_.shape[0]-df1.shape[0]} matched, yielding {df1.shape[0]} samples after filtering')\n"
   ]
  },
  {
   "attachments": {},
   "cell_type": "markdown",
   "metadata": {},
   "source": [
    "### Remove Control/Normal Samples"
   ]
  },
  {
   "cell_type": "code",
   "execution_count": 6,
   "metadata": {
    "tags": [
     "hide-input"
    ]
   },
   "outputs": [
    {
     "name": "stdout",
     "output_type": "stream",
     "text": [
      "Out of 1514 samples, 154 matched, yielding 1360 samples after filtering\n"
     ]
    }
   ],
   "source": [
    "df2 = df1[~df1['Sample Type'].isin(\n",
    "    ['Bone Marrow Normal', 'Blood Derived Normal'])]\n",
    "print(\n",
    "    f'Out of {df1.shape[0]} samples, {df1.shape[0]-df2.shape[0]} matched, yielding {df2.shape[0]} samples after filtering')\n"
   ]
  },
  {
   "attachments": {},
   "cell_type": "markdown",
   "metadata": {},
   "source": [
    "### Remove Duplicate Samples"
   ]
  },
  {
   "cell_type": "code",
   "execution_count": 7,
   "metadata": {
    "tags": [
     "hide-input"
    ]
   },
   "outputs": [
    {
     "name": "stdout",
     "output_type": "stream",
     "text": [
      "Out of 1360 samples, 14 matched, yielding 1346 samples after filtering\n"
     ]
    }
   ],
   "source": [
    "df3 = df2[~df2['Patient_ID'].duplicated(keep='last')]\n",
    "print(\n",
    "    f'Out of {df2.shape[0]} samples, {df2.shape[0]-df3.shape[0]} matched, yielding {df3.shape[0]} samples after filtering')\n"
   ]
  },
  {
   "attachments": {},
   "cell_type": "markdown",
   "id": "39875e9e",
   "metadata": {},
   "source": [
    "## Save Files"
   ]
  },
  {
   "cell_type": "code",
   "execution_count": 8,
   "metadata": {
    "tags": [
     "hide-input"
    ]
   },
   "outputs": [],
   "source": [
    "output = df3.join(df_methyl,how='left') # Join clinical data with methyl data\n",
    "\n",
    "x = output.iloc[:,df3.shape[1]+1:] # Select only methyl data\n",
    "y = output.iloc[:,0:df3.shape[1]+1] # Select only clinical data"
   ]
  },
  {
   "cell_type": "code",
   "execution_count": 9,
   "metadata": {},
   "outputs": [
    {
     "name": "stdout",
     "output_type": "stream",
     "text": [
      "Discovery dataset (train) contains 310545 rows (5mC sites) and 1142 columns (samples)\n",
      "\n",
      "AAML1031    520\n",
      "AAML0531    508\n",
      "AML05        64\n",
      "AAML03P1     36\n",
      "CCG2961      14\n",
      "\n",
      "Validation dataset (test) contains 310545 rows (5mC sites) and 204 columns (samples).\n",
      "\n",
      "AML02    162\n",
      "AML08     42\n",
      "\n"
     ]
    }
   ],
   "source": [
    "# Split train and test by clinical trial\n",
    "y_train = y[~y['Clinical Trial'].isin(['AML02', 'AML08'])]\n",
    "# y_train = y_train[y_train['Sample Type'].isin(['Diagnosis',\n",
    "#        'Primary Blood Derived Cancer - Bone Marrow', 'Bone Marrow Normal',\n",
    "#        'Primary Blood Derived Cancer - Peripheral Blood',\n",
    "#        'Blood Derived Normal'])]\n",
    "\n",
    "y_test = y[y['Clinical Trial'].isin(['AML02', 'AML08'])]\n",
    "\n",
    "# Select samples in x that are in y_train\n",
    "x_train = x.loc[y_train.index]\n",
    "x_test = x.loc[y_test.index]\n",
    "\n",
    "# x_train = pd.concat([x_train, ctrl_x], axis=0)\n",
    "# y_train = pd.concat([y_train, ctrl_y], axis=0,keys=['Diagnosis','Control'], names=['sample_type'])\n",
    "\n",
    "\n",
    "print(\n",
    "    f\"Discovery dataset (train) contains {x_train.shape[1]} rows (5mC sites) and {x_train.shape[0]} columns (samples)\")\n",
    "print(\n",
    "    f\"\\n{y_train['Clinical Trial'].value_counts(dropna=False).to_string()}\\n\")\n",
    "print(\n",
    "    f\"Validation dataset (test) contains {x_test.shape[1]} rows (5mC sites) and {x_test.shape[0]} columns (samples).\")\n",
    "print(f\"\\n{y_test['Clinical Trial'].value_counts(dropna=False).to_string()}\\n\")\n"
   ]
  },
  {
   "attachments": {},
   "cell_type": "markdown",
   "metadata": {},
   "source": [
    "## Batch Correction with pyCombat"
   ]
  },
  {
   "attachments": {},
   "cell_type": "markdown",
   "metadata": {},
   "source": [
    "- __pyCombat__: a Python tool for batch effects correction in high-throughput molecular data using empirical Bayes methods\n",
    "\n",
    "- __Github__: [https://epigenelabs.github.io/pyComBat/](https://epigenelabs.github.io/pyComBat/)\n",
    "\n",
    "- __Implementation Paper__: [bioRxiv](https://doi.org/10.1101/2020.03.17.995431)\n",
    "\n",
    "- __Original Paper__: [Biostatistics](https://pubmed.ncbi.nlm.nih.gov/16632515/)"
   ]
  },
  {
   "cell_type": "code",
   "execution_count": 10,
   "metadata": {},
   "outputs": [
    {
     "name": "stdout",
     "output_type": "stream",
     "text": [
      "Found 4 batches.\n",
      "Adjusting for 0 covariate(s) or covariate level(s).\n",
      "Standardizing Data across genes.\n",
      "Fitting L/S model and finding priors.\n",
      "Finding parametric adjustments.\n",
      "Adjusting the Data\n",
      "Succesfully corrected batch effects in the training dataset.\n"
     ]
    }
   ],
   "source": [
    "from combat.pycombat import pycombat\n",
    "\n",
    "# Correct batch effects in the training dataset\n",
    "x_train2 = pycombat(x_train.T, y_train['Batch']).T\n",
    "\n",
    "print('Succesfully corrected batch effects in the training dataset.')\n"
   ]
  },
  {
   "cell_type": "code",
   "execution_count": 11,
   "metadata": {},
   "outputs": [
    {
     "name": "stdout",
     "output_type": "stream",
     "text": [
      "Discovery dataset (train) contains 310545 rows (5mC sites) and 1078 columns (samples)\n",
      "\n",
      "AAML1031    520\n",
      "AAML0531    508\n",
      "AAML03P1     36\n",
      "CCG2961      14\n",
      "\n",
      "Validation dataset (test) contains 310545 rows (5mC sites) and 204 columns (samples).\n",
      "\n",
      "AML02    162\n",
      "AML08     42\n",
      "\n"
     ]
    }
   ],
   "source": [
    "y_train = y_train[~y_train['Clinical Trial'].isin(['AML05'])]\n",
    "x_train3 = x_train2.loc[y_train.index]\n",
    "\n",
    "\n",
    "print(\n",
    "    f\"Discovery dataset (train) contains {x_train3.shape[1]} rows (5mC sites) and {x_train3.shape[0]} columns (samples)\")\n",
    "print(\n",
    "    f\"\\n{y_train['Clinical Trial'].value_counts(dropna=False).to_string()}\\n\")\n",
    "print(\n",
    "    f\"Validation dataset (test) contains {x_test.shape[1]} rows (5mC sites) and {x_test.shape[0]} columns (samples).\")\n",
    "print(f\"\\n{y_test['Clinical Trial'].value_counts(dropna=False).to_string()}\\n\")"
   ]
  },
  {
   "cell_type": "code",
   "execution_count": 12,
   "metadata": {},
   "outputs": [
    {
     "name": "stdout",
     "output_type": "stream",
     "text": [
      "Successfuly saved methyl data in x.pkl and clinical data in y.csv.\n",
      "Path: ../Data/Processed_Data/\n"
     ]
    }
   ],
   "source": [
    "x_train3.to_pickle(output_path+'x_train.pkl') # Save methyl data\n",
    "y_train.to_csv(output_path+'y_train.csv') # Save clinical data\n",
    "\n",
    "print(\n",
    "    f'Successfuly saved methyl data in x.pkl and clinical data in y.csv.\\nPath: {output_path}')"
   ]
  },
  {
   "attachments": {},
   "cell_type": "markdown",
   "metadata": {},
   "source": [
    "### Save Control and Relapse Data Separately"
   ]
  },
  {
   "cell_type": "code",
   "execution_count": 13,
   "metadata": {
    "tags": [
     "hide-input"
    ]
   },
   "outputs": [
    {
     "name": "stdout",
     "output_type": "stream",
     "text": [
      "Successfuly saved 147 control samples and 248 relapse samples.\n",
      "Path: ../Data/Processed_Data/\n"
     ]
    }
   ],
   "source": [
    "controls = df_[df_['Sample Type'].isin(['Bone Marrow Normal'])]\n",
    "\n",
    "relapse = df_[df_['Sample Type'].isin(['Relapse', 'Recurrent Blood Derived Cancer - Bone Marrow',\n",
    "                                       'Recurrent Blood Derived Cancer - Peripheral Blood'])]\n",
    "\n",
    "# Merge control and relapse samples\n",
    "t = pd.concat([controls, relapse], axis=0, join='outer',\n",
    "              names=['Control', 'Relapse'])\n",
    "\n",
    "# Join clinical data with methyl data\n",
    "t2 = df_methyl.join(t, how='right')\n",
    "\n",
    "# Save merged control and relapse samples\n",
    "t2.to_pickle(output_path+'control_relapse.pkl')\n",
    "\n",
    "print(\n",
    "    f'Successfuly saved {controls.shape[0]} control samples and {relapse.shape[0]} relapse samples.\\nPath: {output_path}')\n"
   ]
  },
  {
   "attachments": {},
   "cell_type": "markdown",
   "metadata": {},
   "source": [
    "## Watermark"
   ]
  },
  {
   "cell_type": "code",
   "execution_count": 14,
   "metadata": {
    "tags": [
     "remove-input",
     "remove-output"
    ]
   },
   "outputs": [],
   "source": [
    "%load_ext watermark"
   ]
  },
  {
   "cell_type": "code",
   "execution_count": 15,
   "metadata": {
    "tags": [
     "remove-input"
    ]
   },
   "outputs": [
    {
     "name": "stdout",
     "output_type": "stream",
     "text": [
      "Python implementation: CPython\n",
      "Python version       : 3.10.10\n",
      "IPython version      : 8.3.0\n",
      "\n",
      "pandas: 1.5.3\n",
      "\n"
     ]
    }
   ],
   "source": [
    "# produce a list of the loaded modules\n",
    "%watermark -v -p pandas"
   ]
  }
 ],
 "metadata": {
  "celltoolbar": "Tags",
  "kernelspec": {
   "display_name": ".venv_data_vizualization",
   "language": "python",
   "name": "python3"
  },
  "language_info": {
   "codemirror_mode": {
    "name": "ipython",
    "version": 3
   },
   "file_extension": ".py",
   "mimetype": "text/x-python",
   "name": "python",
   "nbconvert_exporter": "python",
   "pygments_lexer": "ipython3",
   "version": "3.8.16"
  },
  "vscode": {
   "interpreter": {
    "hash": "1536c79f85cc2a2ac13c148ca716b8e28acb6745983d6aacea6d4fcb49ea6e2e"
   }
  }
 },
 "nbformat": 4,
 "nbformat_minor": 2
}
