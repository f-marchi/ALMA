{
 "cells": [
  {
   "attachments": {},
   "cell_type": "markdown",
   "metadata": {},
   "source": [
    "# Clinical Data Processing"
   ]
  },
  {
   "attachments": {},
   "cell_type": "markdown",
   "metadata": {},
   "source": [
    "## Where the data at?"
   ]
  },
  {
   "cell_type": "code",
   "execution_count": 1,
   "metadata": {},
   "outputs": [],
   "source": [
    "input_path = '../Data/Intermediate_Files/'\n",
    "clinicaldata_path = '../Data/Raw_Data/Clinical_Data/'\n",
    "output_path = '../Data/Processed_Data/'"
   ]
  },
  {
   "attachments": {},
   "cell_type": "markdown",
   "metadata": {},
   "source": [
    "## Load Methyl Data"
   ]
  },
  {
   "cell_type": "code",
   "execution_count": 2,
   "metadata": {
    "tags": [
     "hide-input"
    ]
   },
   "outputs": [
    {
     "name": "stdout",
     "output_type": "stream",
     "text": [
      " Dataset (df) contains 333249 columns (mC sites) and 3357 rows (samples).\n"
     ]
    }
   ],
   "source": [
    "import pandas as pd\n",
    "\n",
    "df_methyl = pd.read_pickle(\n",
    "    input_path+'2_MethylData_Processing_Output.pkl')\n",
    "\n",
    "print(\n",
    "    f' Dataset (df) contains {df_methyl.shape[1]} columns (mC sites) and {df_methyl.shape[0]} rows (samples).')\n"
   ]
  },
  {
   "cell_type": "code",
   "execution_count": 3,
   "metadata": {},
   "outputs": [
    {
     "data": {
      "text/plain": [
       "Batch\n",
       "GSE49031          933\n",
       "GSE190931         581\n",
       "GSE124413         495\n",
       "GSE159907         316\n",
       "GDC_TARGET-AML    314\n",
       "GDC_TCGA-AML      194\n",
       "GSE152710         166\n",
       "GSE147667         153\n",
       "GDC_TARGET-ALL    141\n",
       "GSE133986          64\n",
       "Name: count, dtype: int64"
      ]
     },
     "execution_count": 3,
     "metadata": {},
     "output_type": "execute_result"
    }
   ],
   "source": [
    "df_methyl['Batch'].value_counts(dropna=False)"
   ]
  },
  {
   "attachments": {},
   "cell_type": "markdown",
   "metadata": {},
   "source": [
    "## Add Labels/Clinical Outcome Data"
   ]
  },
  {
   "cell_type": "code",
   "execution_count": 4,
   "metadata": {
    "tags": [
     "hide-input"
    ]
   },
   "outputs": [],
   "source": [
    "# Import functions to clean up clinical data\n",
    "from FM_Functions.Clinical_Data_CleanUp import *"
   ]
  },
  {
   "cell_type": "code",
   "execution_count": 88,
   "metadata": {},
   "outputs": [],
   "source": [
    "def merge_index_1031(filepath1 = '/TARGET/TARGET-AML/TARGET_AML_ClinicalData_AML1031_20221108.xlsx',\n",
    "                     filepath2 = '../Data/Raw_Data/Methyl_Array_EPIC/GSE190931/sample_sheet_meta_data.pkl'):\n",
    "\n",
    "    # Load clinical data files\n",
    "    labels_1031 = pd.read_excel(clinical_data_path + filepath1)\n",
    "    meta        = pd.read_pickle(filepath2)\n",
    "\n",
    "    # Extract last term of `TARGET USI` by splitting on `-`\n",
    "    labels_1031['Patient_ID'] = labels_1031['TARGET USI'].str.split('-').str[2]\n",
    "\n",
    "    # extract patient name from `description` column by splitting on `\\n` and then on `_`\n",
    "    meta['Patient_ID'] = meta['description'].str.split('\\n').str[-1].str.split('_').str[-2]\n",
    "\n",
    "    # Set index to `Patient_ID` and selected only relevant columns\n",
    "    meta = meta.set_index('Patient_ID').iloc[:,:-1][['fusion','timepoint','Sample_ID']]\n",
    "\n",
    "    # Set index to `Patient_ID`\n",
    "    labels_1031 = labels_1031.set_index('Patient_ID')\n",
    "\n",
    "    # Join the two dataframes\n",
    "    labels_1031 = labels_1031.join(meta, how='right').set_index('Sample_ID')\n",
    "\n",
    "    return labels_1031"
   ]
  },
  {
   "cell_type": "code",
   "execution_count": 90,
   "metadata": {},
   "outputs": [],
   "source": [
    "def merge_index_0531(filepath1 = '/TARGET/TARGET-AML/TARGET_AML_ClinicalData_AML1031_20221108.xlsx',\n",
    "                     filepath2 = '../Data/Raw_Data/Methyl_Array_EPIC/GSE124413/sample_sheet_meta_data.pkl'\n",
    "                     filepath3 = '/Data/Raw_Data/Methyl_Array_EPIC/GSE124413/GSE124413_series_matrix.csv'):\n",
    "\n",
    "    # Load clinical data files\n",
    "    labels_0531 = pd.read_excel(clinical_data_path + filepath1)\n",
    "    meta        = pd.read_pickle(filepath2)\n",
    "\n",
    "    # Extract last term of `TARGET USI` by splitting on `-`\n",
    "    labels_0531['Patient_ID'] = labels_0531['TARGET USI'].str.split('-').str[2]\n",
    "\n",
    "    # extract patient name from `description` column by splitting on `\\n` and then on `_`\n",
    "    meta['Patient_ID'] = meta['description'].str.split('\\n').str[-1].str.split('_').str[-2]\n",
    "\n",
    "    # Set index to `Patient_ID` and selected only relevant columns\n",
    "    meta = meta.set_index('Patient_ID').iloc[:,:-1][['fusion','timepoint','Sample_ID']]\n",
    "\n",
    "    # Set index to `Patient_ID`\n",
    "    labels_0531 = labels_0531.set_index('Patient_ID')\n",
    "\n",
    "    # Join the two dataframes\n",
    "    labels_0531 = labels_0531.join(meta, how='right').set_index('Sample_ID')\n",
    "\n",
    "    return labels_0531"
   ]
  },
  {
   "cell_type": "code",
   "execution_count": null,
   "metadata": {},
   "outputs": [],
   "source": [
    "filepath1 = '/TARGET/TARGET-AML/TARGET_AML_ClinicalData_AML1031_20221108.xlsx',\n",
    "filepath2 = '../Data/Raw_Data/Methyl_Array_EPIC/GSE124413/sample_sheet_meta_data.pkl'\n",
    "filepath3 = '/Data/Raw_Data/Methyl_Array_EPIC/GSE124413/GSE124413_series_matrix.csv'"
   ]
  },
  {
   "cell_type": "code",
   "execution_count": null,
   "metadata": {},
   "outputs": [],
   "source": [
    "def clean_meta(meta_matrix, meta):\n",
    "    meta_matrix2 = meta_matrix.T.reset_index()\n",
    "    meta2 = meta_matrix2.join(meta_matrix2['index'].str.rsplit(\" \", n=1, expand=True)[1], lsuffix='_')\n",
    "    new_header = meta2.iloc[0] \n",
    "    meta3 = meta2[1:]\n",
    "    meta3.columns = new_header\n",
    "    meta3 = meta3.rename(columns={'!Sample_geo_accession':'GSM_ID', None: 'Patient_ID'}).set_index('GSM_ID')\n",
    "    meta_cleaned = meta.set_index('GSM_ID').join(meta3)[['Patient_ID', '!Sample_characteristics_ch1','Sample_ID']].reset_index().set_index('Patient_ID')\n",
    "    return(meta_cleaned)\n",
    "\n"
   ]
  },
  {
   "cell_type": "code",
   "execution_count": 93,
   "metadata": {},
   "outputs": [],
   "source": [
    "filepath2 = '../Data/Raw_Data/Methyl_Array_EPIC/GSE124413/sample_sheet_meta_data.pkl'\n",
    "\n",
    "meta        = pd.read_pickle(filepath2)"
   ]
  },
  {
   "cell_type": "code",
   "execution_count": 94,
   "metadata": {},
   "outputs": [
    {
     "data": {
      "text/html": [
       "<div>\n",
       "<style scoped>\n",
       "    .dataframe tbody tr th:only-of-type {\n",
       "        vertical-align: middle;\n",
       "    }\n",
       "\n",
       "    .dataframe tbody tr th {\n",
       "        vertical-align: top;\n",
       "    }\n",
       "\n",
       "    .dataframe thead th {\n",
       "        text-align: right;\n",
       "    }\n",
       "</style>\n",
       "<table border=\"1\" class=\"dataframe\">\n",
       "  <thead>\n",
       "    <tr style=\"text-align: right;\">\n",
       "      <th></th>\n",
       "      <th>Sentrix_ID</th>\n",
       "      <th>Sentrix_Position</th>\n",
       "      <th>Sample_Group</th>\n",
       "      <th>Sample_Name</th>\n",
       "      <th>Sample_Plate</th>\n",
       "      <th>Sample_Type</th>\n",
       "      <th>Sub_Type</th>\n",
       "      <th>Sample_Well</th>\n",
       "      <th>Pool_ID</th>\n",
       "      <th>GSM_ID</th>\n",
       "      <th>Control</th>\n",
       "      <th>Sample_ID</th>\n",
       "    </tr>\n",
       "  </thead>\n",
       "  <tbody>\n",
       "    <tr>\n",
       "      <th>0</th>\n",
       "      <td>200989060017</td>\n",
       "      <td>R08C01</td>\n",
       "      <td>None</td>\n",
       "      <td>Sample_1</td>\n",
       "      <td>None</td>\n",
       "      <td>Unknown</td>\n",
       "      <td>None</td>\n",
       "      <td>None</td>\n",
       "      <td>None</td>\n",
       "      <td>GSM3532277</td>\n",
       "      <td>False</td>\n",
       "      <td>200989060017_R08C01</td>\n",
       "    </tr>\n",
       "    <tr>\n",
       "      <th>1</th>\n",
       "      <td>201005010039</td>\n",
       "      <td>R06C01</td>\n",
       "      <td>None</td>\n",
       "      <td>Sample_2</td>\n",
       "      <td>None</td>\n",
       "      <td>Unknown</td>\n",
       "      <td>None</td>\n",
       "      <td>None</td>\n",
       "      <td>None</td>\n",
       "      <td>GSM3532371</td>\n",
       "      <td>False</td>\n",
       "      <td>201005010039_R06C01</td>\n",
       "    </tr>\n",
       "    <tr>\n",
       "      <th>2</th>\n",
       "      <td>201005010157</td>\n",
       "      <td>R08C01</td>\n",
       "      <td>None</td>\n",
       "      <td>Sample_3</td>\n",
       "      <td>None</td>\n",
       "      <td>Unknown</td>\n",
       "      <td>None</td>\n",
       "      <td>None</td>\n",
       "      <td>None</td>\n",
       "      <td>GSM3532537</td>\n",
       "      <td>False</td>\n",
       "      <td>201005010157_R08C01</td>\n",
       "    </tr>\n",
       "    <tr>\n",
       "      <th>3</th>\n",
       "      <td>201005010131</td>\n",
       "      <td>R03C01</td>\n",
       "      <td>None</td>\n",
       "      <td>Sample_4</td>\n",
       "      <td>None</td>\n",
       "      <td>Unknown</td>\n",
       "      <td>None</td>\n",
       "      <td>None</td>\n",
       "      <td>None</td>\n",
       "      <td>GSM3532628</td>\n",
       "      <td>False</td>\n",
       "      <td>201005010131_R03C01</td>\n",
       "    </tr>\n",
       "    <tr>\n",
       "      <th>4</th>\n",
       "      <td>201005010102</td>\n",
       "      <td>R07C01</td>\n",
       "      <td>None</td>\n",
       "      <td>Sample_5</td>\n",
       "      <td>None</td>\n",
       "      <td>Unknown</td>\n",
       "      <td>None</td>\n",
       "      <td>None</td>\n",
       "      <td>None</td>\n",
       "      <td>GSM3532624</td>\n",
       "      <td>False</td>\n",
       "      <td>201005010102_R07C01</td>\n",
       "    </tr>\n",
       "    <tr>\n",
       "      <th>...</th>\n",
       "      <td>...</td>\n",
       "      <td>...</td>\n",
       "      <td>...</td>\n",
       "      <td>...</td>\n",
       "      <td>...</td>\n",
       "      <td>...</td>\n",
       "      <td>...</td>\n",
       "      <td>...</td>\n",
       "      <td>...</td>\n",
       "      <td>...</td>\n",
       "      <td>...</td>\n",
       "      <td>...</td>\n",
       "    </tr>\n",
       "    <tr>\n",
       "      <th>495</th>\n",
       "      <td>200989060017</td>\n",
       "      <td>R04C01</td>\n",
       "      <td>None</td>\n",
       "      <td>Sample_496</td>\n",
       "      <td>None</td>\n",
       "      <td>Unknown</td>\n",
       "      <td>None</td>\n",
       "      <td>None</td>\n",
       "      <td>None</td>\n",
       "      <td>GSM3532273</td>\n",
       "      <td>False</td>\n",
       "      <td>200989060017_R04C01</td>\n",
       "    </tr>\n",
       "    <tr>\n",
       "      <th>496</th>\n",
       "      <td>200973410086</td>\n",
       "      <td>R03C01</td>\n",
       "      <td>None</td>\n",
       "      <td>Sample_497</td>\n",
       "      <td>None</td>\n",
       "      <td>Unknown</td>\n",
       "      <td>None</td>\n",
       "      <td>None</td>\n",
       "      <td>None</td>\n",
       "      <td>GSM3532304</td>\n",
       "      <td>False</td>\n",
       "      <td>200973410086_R03C01</td>\n",
       "    </tr>\n",
       "    <tr>\n",
       "      <th>497</th>\n",
       "      <td>200973410095</td>\n",
       "      <td>R04C01</td>\n",
       "      <td>None</td>\n",
       "      <td>Sample_498</td>\n",
       "      <td>None</td>\n",
       "      <td>Unknown</td>\n",
       "      <td>None</td>\n",
       "      <td>None</td>\n",
       "      <td>None</td>\n",
       "      <td>GSM3532421</td>\n",
       "      <td>False</td>\n",
       "      <td>200973410095_R04C01</td>\n",
       "    </tr>\n",
       "    <tr>\n",
       "      <th>498</th>\n",
       "      <td>200991620024</td>\n",
       "      <td>R03C01</td>\n",
       "      <td>None</td>\n",
       "      <td>Sample_499</td>\n",
       "      <td>None</td>\n",
       "      <td>Unknown</td>\n",
       "      <td>None</td>\n",
       "      <td>None</td>\n",
       "      <td>None</td>\n",
       "      <td>GSM3532468</td>\n",
       "      <td>False</td>\n",
       "      <td>200991620024_R03C01</td>\n",
       "    </tr>\n",
       "    <tr>\n",
       "      <th>499</th>\n",
       "      <td>200973410087</td>\n",
       "      <td>R03C01</td>\n",
       "      <td>None</td>\n",
       "      <td>Sample_500</td>\n",
       "      <td>None</td>\n",
       "      <td>Unknown</td>\n",
       "      <td>None</td>\n",
       "      <td>None</td>\n",
       "      <td>None</td>\n",
       "      <td>GSM3532328</td>\n",
       "      <td>False</td>\n",
       "      <td>200973410087_R03C01</td>\n",
       "    </tr>\n",
       "  </tbody>\n",
       "</table>\n",
       "<p>500 rows × 12 columns</p>\n",
       "</div>"
      ],
      "text/plain": [
       "       Sentrix_ID Sentrix_Position Sample_Group Sample_Name Sample_Plate   \n",
       "0    200989060017           R08C01         None    Sample_1         None  \\\n",
       "1    201005010039           R06C01         None    Sample_2         None   \n",
       "2    201005010157           R08C01         None    Sample_3         None   \n",
       "3    201005010131           R03C01         None    Sample_4         None   \n",
       "4    201005010102           R07C01         None    Sample_5         None   \n",
       "..            ...              ...          ...         ...          ...   \n",
       "495  200989060017           R04C01         None  Sample_496         None   \n",
       "496  200973410086           R03C01         None  Sample_497         None   \n",
       "497  200973410095           R04C01         None  Sample_498         None   \n",
       "498  200991620024           R03C01         None  Sample_499         None   \n",
       "499  200973410087           R03C01         None  Sample_500         None   \n",
       "\n",
       "    Sample_Type Sub_Type Sample_Well Pool_ID      GSM_ID Control   \n",
       "0       Unknown     None        None    None  GSM3532277   False  \\\n",
       "1       Unknown     None        None    None  GSM3532371   False   \n",
       "2       Unknown     None        None    None  GSM3532537   False   \n",
       "3       Unknown     None        None    None  GSM3532628   False   \n",
       "4       Unknown     None        None    None  GSM3532624   False   \n",
       "..          ...      ...         ...     ...         ...     ...   \n",
       "495     Unknown     None        None    None  GSM3532273   False   \n",
       "496     Unknown     None        None    None  GSM3532304   False   \n",
       "497     Unknown     None        None    None  GSM3532421   False   \n",
       "498     Unknown     None        None    None  GSM3532468   False   \n",
       "499     Unknown     None        None    None  GSM3532328   False   \n",
       "\n",
       "               Sample_ID  \n",
       "0    200989060017_R08C01  \n",
       "1    201005010039_R06C01  \n",
       "2    201005010157_R08C01  \n",
       "3    201005010131_R03C01  \n",
       "4    201005010102_R07C01  \n",
       "..                   ...  \n",
       "495  200989060017_R04C01  \n",
       "496  200973410086_R03C01  \n",
       "497  200973410095_R04C01  \n",
       "498  200991620024_R03C01  \n",
       "499  200973410087_R03C01  \n",
       "\n",
       "[500 rows x 12 columns]"
      ]
     },
     "execution_count": 94,
     "metadata": {},
     "output_type": "execute_result"
    }
   ],
   "source": [
    "meta"
   ]
  },
  {
   "cell_type": "code",
   "execution_count": null,
   "metadata": {},
   "outputs": [],
   "source": []
  },
  {
   "cell_type": "code",
   "execution_count": 40,
   "metadata": {},
   "outputs": [],
   "source": [
    "meta2 = meta.set_index('Patient_ID').iloc[:,:-1][['age_years','fusion','timepoint','Sample_ID']]"
   ]
  },
  {
   "cell_type": "code",
   "execution_count": 41,
   "metadata": {},
   "outputs": [
    {
     "data": {
      "text/html": [
       "<div>\n",
       "<style scoped>\n",
       "    .dataframe tbody tr th:only-of-type {\n",
       "        vertical-align: middle;\n",
       "    }\n",
       "\n",
       "    .dataframe tbody tr th {\n",
       "        vertical-align: top;\n",
       "    }\n",
       "\n",
       "    .dataframe thead th {\n",
       "        text-align: right;\n",
       "    }\n",
       "</style>\n",
       "<table border=\"1\" class=\"dataframe\">\n",
       "  <thead>\n",
       "    <tr style=\"text-align: right;\">\n",
       "      <th></th>\n",
       "      <th>age_years</th>\n",
       "      <th>fusion</th>\n",
       "      <th>timepoint</th>\n",
       "      <th>Sample_ID</th>\n",
       "    </tr>\n",
       "    <tr>\n",
       "      <th>Patient_ID</th>\n",
       "      <th></th>\n",
       "      <th></th>\n",
       "      <th></th>\n",
       "      <th></th>\n",
       "    </tr>\n",
       "  </thead>\n",
       "  <tbody>\n",
       "    <tr>\n",
       "      <th>PAUHFI</th>\n",
       "      <td>1.98</td>\n",
       "      <td>KMT2A-MLLT3</td>\n",
       "      <td>Diagnosis</td>\n",
       "      <td>202897270052_R02C01</td>\n",
       "    </tr>\n",
       "    <tr>\n",
       "      <th>PAUHXN</th>\n",
       "      <td>15.63</td>\n",
       "      <td>RUNX1-RUNX1T1</td>\n",
       "      <td>Diagnosis</td>\n",
       "      <td>202897270052_R03C01</td>\n",
       "    </tr>\n",
       "    <tr>\n",
       "      <th>PAUJCF</th>\n",
       "      <td>10.89</td>\n",
       "      <td>CBFB-MYH11</td>\n",
       "      <td>Diagnosis</td>\n",
       "      <td>202897270052_R05C01</td>\n",
       "    </tr>\n",
       "    <tr>\n",
       "      <th>PAUJMC</th>\n",
       "      <td>17.91</td>\n",
       "      <td>None</td>\n",
       "      <td>Diagnosis</td>\n",
       "      <td>202897270052_R06C01</td>\n",
       "    </tr>\n",
       "    <tr>\n",
       "      <th>PAUJNJ</th>\n",
       "      <td>2.29</td>\n",
       "      <td>NUP98-NSD1</td>\n",
       "      <td>Diagnosis</td>\n",
       "      <td>202897270052_R07C01</td>\n",
       "    </tr>\n",
       "    <tr>\n",
       "      <th>...</th>\n",
       "      <td>...</td>\n",
       "      <td>...</td>\n",
       "      <td>...</td>\n",
       "      <td>...</td>\n",
       "    </tr>\n",
       "    <tr>\n",
       "      <th>PAUVZD</th>\n",
       "      <td>1</td>\n",
       "      <td>NUP98-KDM5A</td>\n",
       "      <td>Relapse</td>\n",
       "      <td>202908540225_R03C01</td>\n",
       "    </tr>\n",
       "    <tr>\n",
       "      <th>PAUNYL</th>\n",
       "      <td>13.92</td>\n",
       "      <td>KMT2A-MLLT1</td>\n",
       "      <td>Relapse</td>\n",
       "      <td>202908540225_R04C01</td>\n",
       "    </tr>\n",
       "    <tr>\n",
       "      <th>PAWANV</th>\n",
       "      <td>0.65</td>\n",
       "      <td>CBFB-MYH11</td>\n",
       "      <td>Relapse</td>\n",
       "      <td>202908540225_R05C01</td>\n",
       "    </tr>\n",
       "    <tr>\n",
       "      <th>PAVRUZ</th>\n",
       "      <td>20.99</td>\n",
       "      <td>None</td>\n",
       "      <td>Relapse</td>\n",
       "      <td>202908540225_R07C01</td>\n",
       "    </tr>\n",
       "    <tr>\n",
       "      <th>PAVKJD</th>\n",
       "      <td>2.55</td>\n",
       "      <td>KMT2A-SEPT6</td>\n",
       "      <td>Relapse</td>\n",
       "      <td>202908540225_R08C01</td>\n",
       "    </tr>\n",
       "  </tbody>\n",
       "</table>\n",
       "<p>1048 rows × 4 columns</p>\n",
       "</div>"
      ],
      "text/plain": [
       "           age_years         fusion  timepoint            Sample_ID\n",
       "Patient_ID                                                         \n",
       "PAUHFI          1.98    KMT2A-MLLT3  Diagnosis  202897270052_R02C01\n",
       "PAUHXN         15.63  RUNX1-RUNX1T1  Diagnosis  202897270052_R03C01\n",
       "PAUJCF         10.89     CBFB-MYH11  Diagnosis  202897270052_R05C01\n",
       "PAUJMC         17.91           None  Diagnosis  202897270052_R06C01\n",
       "PAUJNJ          2.29     NUP98-NSD1  Diagnosis  202897270052_R07C01\n",
       "...              ...            ...        ...                  ...\n",
       "PAUVZD             1    NUP98-KDM5A    Relapse  202908540225_R03C01\n",
       "PAUNYL         13.92    KMT2A-MLLT1    Relapse  202908540225_R04C01\n",
       "PAWANV          0.65     CBFB-MYH11    Relapse  202908540225_R05C01\n",
       "PAVRUZ         20.99           None    Relapse  202908540225_R07C01\n",
       "PAVKJD          2.55    KMT2A-SEPT6    Relapse  202908540225_R08C01\n",
       "\n",
       "[1048 rows x 4 columns]"
      ]
     },
     "execution_count": 41,
     "metadata": {},
     "output_type": "execute_result"
    }
   ],
   "source": [
    "meta2"
   ]
  },
  {
   "cell_type": "code",
   "execution_count": 25,
   "metadata": {},
   "outputs": [
    {
     "data": {
      "text/html": [
       "<div>\n",
       "<style scoped>\n",
       "    .dataframe tbody tr th:only-of-type {\n",
       "        vertical-align: middle;\n",
       "    }\n",
       "\n",
       "    .dataframe tbody tr th {\n",
       "        vertical-align: top;\n",
       "    }\n",
       "\n",
       "    .dataframe thead th {\n",
       "        text-align: right;\n",
       "    }\n",
       "</style>\n",
       "<table border=\"1\" class=\"dataframe\">\n",
       "  <thead>\n",
       "    <tr style=\"text-align: right;\">\n",
       "      <th></th>\n",
       "      <th>source</th>\n",
       "      <th>trial_protocol</th>\n",
       "      <th>batch</th>\n",
       "      <th>Sex</th>\n",
       "      <th>age_years</th>\n",
       "      <th>timepoint</th>\n",
       "      <th>fusion</th>\n",
       "      <th>description</th>\n",
       "      <th>Sample_ID</th>\n",
       "      <th>Sentrix_ID</th>\n",
       "      <th>...</th>\n",
       "      <th>Sample_Group</th>\n",
       "      <th>Sample_Name</th>\n",
       "      <th>Sample_Plate</th>\n",
       "      <th>Sample_Type</th>\n",
       "      <th>Sub_Type</th>\n",
       "      <th>Sample_Well</th>\n",
       "      <th>Pool_ID</th>\n",
       "      <th>GSM_ID</th>\n",
       "      <th>Control</th>\n",
       "      <th>Sample_ID</th>\n",
       "    </tr>\n",
       "  </thead>\n",
       "  <tbody>\n",
       "    <tr>\n",
       "      <th>0</th>\n",
       "      <td>pediatric AML sample 1</td>\n",
       "      <td>AAML1031</td>\n",
       "      <td>batch1</td>\n",
       "      <td>Female</td>\n",
       "      <td>1.98</td>\n",
       "      <td>Diagnosis</td>\n",
       "      <td>KMT2A-MLLT3</td>\n",
       "      <td>pediatric AML\\nPAUHFI_Dx</td>\n",
       "      <td>202897270052_R02C01</td>\n",
       "      <td>202897270052</td>\n",
       "      <td>...</td>\n",
       "      <td>None</td>\n",
       "      <td>gDNA from diagnosic pediatric AML 1</td>\n",
       "      <td>None</td>\n",
       "      <td>Unknown</td>\n",
       "      <td>None</td>\n",
       "      <td>None</td>\n",
       "      <td>None</td>\n",
       "      <td>GSM5734422</td>\n",
       "      <td>False</td>\n",
       "      <td>202897270052_R02C01</td>\n",
       "    </tr>\n",
       "    <tr>\n",
       "      <th>1</th>\n",
       "      <td>pediatric AML sample 2</td>\n",
       "      <td>AAML1031</td>\n",
       "      <td>batch1</td>\n",
       "      <td>Male</td>\n",
       "      <td>15.63</td>\n",
       "      <td>Diagnosis</td>\n",
       "      <td>RUNX1-RUNX1T1</td>\n",
       "      <td>pediatric AML\\nPAUHXN_Dx</td>\n",
       "      <td>202897270052_R03C01</td>\n",
       "      <td>202897270052</td>\n",
       "      <td>...</td>\n",
       "      <td>None</td>\n",
       "      <td>gDNA from diagnosic pediatric AML 2</td>\n",
       "      <td>None</td>\n",
       "      <td>Unknown</td>\n",
       "      <td>None</td>\n",
       "      <td>None</td>\n",
       "      <td>None</td>\n",
       "      <td>GSM5734423</td>\n",
       "      <td>False</td>\n",
       "      <td>202897270052_R03C01</td>\n",
       "    </tr>\n",
       "    <tr>\n",
       "      <th>2</th>\n",
       "      <td>pediatric AML sample 3</td>\n",
       "      <td>AAML1031</td>\n",
       "      <td>batch1</td>\n",
       "      <td>Female</td>\n",
       "      <td>10.89</td>\n",
       "      <td>Diagnosis</td>\n",
       "      <td>CBFB-MYH11</td>\n",
       "      <td>pediatric AML\\nPAUJCF_Dx</td>\n",
       "      <td>202897270052_R05C01</td>\n",
       "      <td>202897270052</td>\n",
       "      <td>...</td>\n",
       "      <td>None</td>\n",
       "      <td>gDNA from diagnosic pediatric AML 3</td>\n",
       "      <td>None</td>\n",
       "      <td>Unknown</td>\n",
       "      <td>None</td>\n",
       "      <td>None</td>\n",
       "      <td>None</td>\n",
       "      <td>GSM5734424</td>\n",
       "      <td>False</td>\n",
       "      <td>202897270052_R05C01</td>\n",
       "    </tr>\n",
       "    <tr>\n",
       "      <th>3</th>\n",
       "      <td>pediatric AML sample 4</td>\n",
       "      <td>AAML1031</td>\n",
       "      <td>batch1</td>\n",
       "      <td>Male</td>\n",
       "      <td>17.91</td>\n",
       "      <td>Diagnosis</td>\n",
       "      <td>None</td>\n",
       "      <td>pediatric AML\\nPAUJMC_Dx</td>\n",
       "      <td>202897270052_R06C01</td>\n",
       "      <td>202897270052</td>\n",
       "      <td>...</td>\n",
       "      <td>None</td>\n",
       "      <td>gDNA from diagnosic pediatric AML 4</td>\n",
       "      <td>None</td>\n",
       "      <td>Unknown</td>\n",
       "      <td>None</td>\n",
       "      <td>None</td>\n",
       "      <td>None</td>\n",
       "      <td>GSM5734425</td>\n",
       "      <td>False</td>\n",
       "      <td>202897270052_R06C01</td>\n",
       "    </tr>\n",
       "    <tr>\n",
       "      <th>4</th>\n",
       "      <td>pediatric AML sample 5</td>\n",
       "      <td>AAML1031</td>\n",
       "      <td>batch1</td>\n",
       "      <td>Female</td>\n",
       "      <td>2.29</td>\n",
       "      <td>Diagnosis</td>\n",
       "      <td>NUP98-NSD1</td>\n",
       "      <td>pediatric AML\\nPAUJNJ_Dx</td>\n",
       "      <td>202897270052_R07C01</td>\n",
       "      <td>202897270052</td>\n",
       "      <td>...</td>\n",
       "      <td>None</td>\n",
       "      <td>gDNA from diagnosic pediatric AML 5</td>\n",
       "      <td>None</td>\n",
       "      <td>Unknown</td>\n",
       "      <td>None</td>\n",
       "      <td>None</td>\n",
       "      <td>None</td>\n",
       "      <td>GSM5734426</td>\n",
       "      <td>False</td>\n",
       "      <td>202897270052_R07C01</td>\n",
       "    </tr>\n",
       "    <tr>\n",
       "      <th>...</th>\n",
       "      <td>...</td>\n",
       "      <td>...</td>\n",
       "      <td>...</td>\n",
       "      <td>...</td>\n",
       "      <td>...</td>\n",
       "      <td>...</td>\n",
       "      <td>...</td>\n",
       "      <td>...</td>\n",
       "      <td>...</td>\n",
       "      <td>...</td>\n",
       "      <td>...</td>\n",
       "      <td>...</td>\n",
       "      <td>...</td>\n",
       "      <td>...</td>\n",
       "      <td>...</td>\n",
       "      <td>...</td>\n",
       "      <td>...</td>\n",
       "      <td>...</td>\n",
       "      <td>...</td>\n",
       "      <td>...</td>\n",
       "      <td>...</td>\n",
       "    </tr>\n",
       "    <tr>\n",
       "      <th>1043</th>\n",
       "      <td>pediatric AML sample 1044</td>\n",
       "      <td>AAML1031</td>\n",
       "      <td>batch2</td>\n",
       "      <td>Female</td>\n",
       "      <td>1</td>\n",
       "      <td>Relapse</td>\n",
       "      <td>NUP98-KDM5A</td>\n",
       "      <td>pediatric AML\\nPAUVZD_REL</td>\n",
       "      <td>202908540225_R03C01</td>\n",
       "      <td>202908540225</td>\n",
       "      <td>...</td>\n",
       "      <td>None</td>\n",
       "      <td>gDNA from relapse pediatric AML 1044</td>\n",
       "      <td>None</td>\n",
       "      <td>Unknown</td>\n",
       "      <td>None</td>\n",
       "      <td>None</td>\n",
       "      <td>None</td>\n",
       "      <td>GSM5735465</td>\n",
       "      <td>False</td>\n",
       "      <td>202908540225_R03C01</td>\n",
       "    </tr>\n",
       "    <tr>\n",
       "      <th>1044</th>\n",
       "      <td>pediatric AML sample 1045</td>\n",
       "      <td>AAML1031</td>\n",
       "      <td>batch2</td>\n",
       "      <td>Male</td>\n",
       "      <td>13.92</td>\n",
       "      <td>Relapse</td>\n",
       "      <td>KMT2A-MLLT1</td>\n",
       "      <td>pediatric AML\\nPAUNYL_REL</td>\n",
       "      <td>202908540225_R04C01</td>\n",
       "      <td>202908540225</td>\n",
       "      <td>...</td>\n",
       "      <td>None</td>\n",
       "      <td>gDNA from relapse pediatric AML 1045</td>\n",
       "      <td>None</td>\n",
       "      <td>Unknown</td>\n",
       "      <td>None</td>\n",
       "      <td>None</td>\n",
       "      <td>None</td>\n",
       "      <td>GSM5735466</td>\n",
       "      <td>False</td>\n",
       "      <td>202908540225_R04C01</td>\n",
       "    </tr>\n",
       "    <tr>\n",
       "      <th>1045</th>\n",
       "      <td>pediatric AML sample 1046</td>\n",
       "      <td>AAML1031</td>\n",
       "      <td>batch2</td>\n",
       "      <td>Male</td>\n",
       "      <td>0.65</td>\n",
       "      <td>Relapse</td>\n",
       "      <td>CBFB-MYH11</td>\n",
       "      <td>pediatric AML\\nPAWANV_REL</td>\n",
       "      <td>202908540225_R05C01</td>\n",
       "      <td>202908540225</td>\n",
       "      <td>...</td>\n",
       "      <td>None</td>\n",
       "      <td>gDNA from relapse pediatric AML 1046</td>\n",
       "      <td>None</td>\n",
       "      <td>Unknown</td>\n",
       "      <td>None</td>\n",
       "      <td>None</td>\n",
       "      <td>None</td>\n",
       "      <td>GSM5735467</td>\n",
       "      <td>False</td>\n",
       "      <td>202908540225_R05C01</td>\n",
       "    </tr>\n",
       "    <tr>\n",
       "      <th>1046</th>\n",
       "      <td>pediatric AML sample 1047</td>\n",
       "      <td>AAML1031</td>\n",
       "      <td>batch2</td>\n",
       "      <td>Female</td>\n",
       "      <td>20.99</td>\n",
       "      <td>Relapse</td>\n",
       "      <td>None</td>\n",
       "      <td>pediatric AML\\nPAVRUZ_REL</td>\n",
       "      <td>202908540225_R07C01</td>\n",
       "      <td>202908540225</td>\n",
       "      <td>...</td>\n",
       "      <td>None</td>\n",
       "      <td>gDNA from relapse pediatric AML 1047</td>\n",
       "      <td>None</td>\n",
       "      <td>Unknown</td>\n",
       "      <td>None</td>\n",
       "      <td>None</td>\n",
       "      <td>None</td>\n",
       "      <td>GSM5735468</td>\n",
       "      <td>False</td>\n",
       "      <td>202908540225_R07C01</td>\n",
       "    </tr>\n",
       "    <tr>\n",
       "      <th>1047</th>\n",
       "      <td>pediatric AML sample 1048</td>\n",
       "      <td>AAML1031</td>\n",
       "      <td>batch2</td>\n",
       "      <td>Female</td>\n",
       "      <td>2.55</td>\n",
       "      <td>Relapse</td>\n",
       "      <td>KMT2A-SEPT6</td>\n",
       "      <td>pediatric AML\\nPAVKJD_REL</td>\n",
       "      <td>202908540225_R08C01</td>\n",
       "      <td>202908540225</td>\n",
       "      <td>...</td>\n",
       "      <td>None</td>\n",
       "      <td>gDNA from relapse pediatric AML 1048</td>\n",
       "      <td>None</td>\n",
       "      <td>Unknown</td>\n",
       "      <td>None</td>\n",
       "      <td>None</td>\n",
       "      <td>None</td>\n",
       "      <td>GSM5735469</td>\n",
       "      <td>False</td>\n",
       "      <td>202908540225_R08C01</td>\n",
       "    </tr>\n",
       "  </tbody>\n",
       "</table>\n",
       "<p>1048 rows × 21 columns</p>\n",
       "</div>"
      ],
      "text/plain": [
       "                         source trial_protocol   batch     Sex age_years   \n",
       "0        pediatric AML sample 1       AAML1031  batch1  Female      1.98  \\\n",
       "1        pediatric AML sample 2       AAML1031  batch1    Male     15.63   \n",
       "2        pediatric AML sample 3       AAML1031  batch1  Female     10.89   \n",
       "3        pediatric AML sample 4       AAML1031  batch1    Male     17.91   \n",
       "4        pediatric AML sample 5       AAML1031  batch1  Female      2.29   \n",
       "...                         ...            ...     ...     ...       ...   \n",
       "1043  pediatric AML sample 1044       AAML1031  batch2  Female         1   \n",
       "1044  pediatric AML sample 1045       AAML1031  batch2    Male     13.92   \n",
       "1045  pediatric AML sample 1046       AAML1031  batch2    Male      0.65   \n",
       "1046  pediatric AML sample 1047       AAML1031  batch2  Female     20.99   \n",
       "1047  pediatric AML sample 1048       AAML1031  batch2  Female      2.55   \n",
       "\n",
       "      timepoint         fusion                description   \n",
       "0     Diagnosis    KMT2A-MLLT3   pediatric AML\\nPAUHFI_Dx  \\\n",
       "1     Diagnosis  RUNX1-RUNX1T1   pediatric AML\\nPAUHXN_Dx   \n",
       "2     Diagnosis     CBFB-MYH11   pediatric AML\\nPAUJCF_Dx   \n",
       "3     Diagnosis           None   pediatric AML\\nPAUJMC_Dx   \n",
       "4     Diagnosis     NUP98-NSD1   pediatric AML\\nPAUJNJ_Dx   \n",
       "...         ...            ...                        ...   \n",
       "1043    Relapse    NUP98-KDM5A  pediatric AML\\nPAUVZD_REL   \n",
       "1044    Relapse    KMT2A-MLLT1  pediatric AML\\nPAUNYL_REL   \n",
       "1045    Relapse     CBFB-MYH11  pediatric AML\\nPAWANV_REL   \n",
       "1046    Relapse           None  pediatric AML\\nPAVRUZ_REL   \n",
       "1047    Relapse    KMT2A-SEPT6  pediatric AML\\nPAVKJD_REL   \n",
       "\n",
       "                Sample_ID    Sentrix_ID  ... Sample_Group   \n",
       "0     202897270052_R02C01  202897270052  ...         None  \\\n",
       "1     202897270052_R03C01  202897270052  ...         None   \n",
       "2     202897270052_R05C01  202897270052  ...         None   \n",
       "3     202897270052_R06C01  202897270052  ...         None   \n",
       "4     202897270052_R07C01  202897270052  ...         None   \n",
       "...                   ...           ...  ...          ...   \n",
       "1043  202908540225_R03C01  202908540225  ...         None   \n",
       "1044  202908540225_R04C01  202908540225  ...         None   \n",
       "1045  202908540225_R05C01  202908540225  ...         None   \n",
       "1046  202908540225_R07C01  202908540225  ...         None   \n",
       "1047  202908540225_R08C01  202908540225  ...         None   \n",
       "\n",
       "                               Sample_Name Sample_Plate Sample_Type Sub_Type   \n",
       "0      gDNA from diagnosic pediatric AML 1         None     Unknown     None  \\\n",
       "1      gDNA from diagnosic pediatric AML 2         None     Unknown     None   \n",
       "2      gDNA from diagnosic pediatric AML 3         None     Unknown     None   \n",
       "3      gDNA from diagnosic pediatric AML 4         None     Unknown     None   \n",
       "4      gDNA from diagnosic pediatric AML 5         None     Unknown     None   \n",
       "...                                    ...          ...         ...      ...   \n",
       "1043  gDNA from relapse pediatric AML 1044         None     Unknown     None   \n",
       "1044  gDNA from relapse pediatric AML 1045         None     Unknown     None   \n",
       "1045  gDNA from relapse pediatric AML 1046         None     Unknown     None   \n",
       "1046  gDNA from relapse pediatric AML 1047         None     Unknown     None   \n",
       "1047  gDNA from relapse pediatric AML 1048         None     Unknown     None   \n",
       "\n",
       "     Sample_Well Pool_ID      GSM_ID Control            Sample_ID  \n",
       "0           None    None  GSM5734422   False  202897270052_R02C01  \n",
       "1           None    None  GSM5734423   False  202897270052_R03C01  \n",
       "2           None    None  GSM5734424   False  202897270052_R05C01  \n",
       "3           None    None  GSM5734425   False  202897270052_R06C01  \n",
       "4           None    None  GSM5734426   False  202897270052_R07C01  \n",
       "...          ...     ...         ...     ...                  ...  \n",
       "1043        None    None  GSM5735465   False  202908540225_R03C01  \n",
       "1044        None    None  GSM5735466   False  202908540225_R04C01  \n",
       "1045        None    None  GSM5735467   False  202908540225_R05C01  \n",
       "1046        None    None  GSM5735468   False  202908540225_R07C01  \n",
       "1047        None    None  GSM5735469   False  202908540225_R08C01  \n",
       "\n",
       "[1048 rows x 21 columns]"
      ]
     },
     "execution_count": 25,
     "metadata": {},
     "output_type": "execute_result"
    }
   ],
   "source": [
    "meta"
   ]
  },
  {
   "cell_type": "code",
   "execution_count": 21,
   "metadata": {},
   "outputs": [
    {
     "data": {
      "text/html": [
       "<div>\n",
       "<style scoped>\n",
       "    .dataframe tbody tr th:only-of-type {\n",
       "        vertical-align: middle;\n",
       "    }\n",
       "\n",
       "    .dataframe tbody tr th {\n",
       "        vertical-align: top;\n",
       "    }\n",
       "\n",
       "    .dataframe thead th {\n",
       "        text-align: right;\n",
       "    }\n",
       "</style>\n",
       "<table border=\"1\" class=\"dataframe\">\n",
       "  <thead>\n",
       "    <tr style=\"text-align: right;\">\n",
       "      <th>IlmnID</th>\n",
       "      <th>Batch</th>\n",
       "      <th>cg00000109</th>\n",
       "      <th>cg00000236</th>\n",
       "      <th>cg00000292</th>\n",
       "      <th>cg00000363</th>\n",
       "      <th>cg00000622</th>\n",
       "      <th>cg00000658</th>\n",
       "      <th>cg00000714</th>\n",
       "      <th>cg00000721</th>\n",
       "      <th>cg00000734</th>\n",
       "      <th>...</th>\n",
       "      <th>ch.9.83519450F</th>\n",
       "      <th>ch.9.837340R</th>\n",
       "      <th>ch.9.84051654F</th>\n",
       "      <th>ch.9.84078312F</th>\n",
       "      <th>ch.9.86947500F</th>\n",
       "      <th>ch.9.88862796F</th>\n",
       "      <th>ch.9.90287778F</th>\n",
       "      <th>ch.9.90621653R</th>\n",
       "      <th>ch.9.93402636R</th>\n",
       "      <th>ch.9.98463211R</th>\n",
       "    </tr>\n",
       "  </thead>\n",
       "  <tbody>\n",
       "    <tr>\n",
       "      <th>202897270043_R01C01</th>\n",
       "      <td>GSE190931</td>\n",
       "      <td>0.935</td>\n",
       "      <td>0.893</td>\n",
       "      <td>0.880</td>\n",
       "      <td>0.361</td>\n",
       "      <td>0.012</td>\n",
       "      <td>0.897</td>\n",
       "      <td>0.360</td>\n",
       "      <td>0.958</td>\n",
       "      <td>0.075</td>\n",
       "      <td>...</td>\n",
       "      <td>0.022</td>\n",
       "      <td>0.039</td>\n",
       "      <td>0.045</td>\n",
       "      <td>0.038</td>\n",
       "      <td>0.044</td>\n",
       "      <td>0.039</td>\n",
       "      <td>0.047</td>\n",
       "      <td>0.032</td>\n",
       "      <td>0.028</td>\n",
       "      <td>0.031</td>\n",
       "    </tr>\n",
       "    <tr>\n",
       "      <th>202897270043_R03C01</th>\n",
       "      <td>GSE190931</td>\n",
       "      <td>0.967</td>\n",
       "      <td>0.882</td>\n",
       "      <td>0.885</td>\n",
       "      <td>0.510</td>\n",
       "      <td>0.013</td>\n",
       "      <td>0.868</td>\n",
       "      <td>0.384</td>\n",
       "      <td>0.968</td>\n",
       "      <td>0.070</td>\n",
       "      <td>...</td>\n",
       "      <td>0.021</td>\n",
       "      <td>0.055</td>\n",
       "      <td>0.028</td>\n",
       "      <td>0.045</td>\n",
       "      <td>0.039</td>\n",
       "      <td>0.032</td>\n",
       "      <td>0.023</td>\n",
       "      <td>0.025</td>\n",
       "      <td>0.023</td>\n",
       "      <td>0.025</td>\n",
       "    </tr>\n",
       "    <tr>\n",
       "      <th>202897270043_R04C01</th>\n",
       "      <td>GSE190931</td>\n",
       "      <td>0.880</td>\n",
       "      <td>0.938</td>\n",
       "      <td>0.751</td>\n",
       "      <td>0.636</td>\n",
       "      <td>0.015</td>\n",
       "      <td>0.823</td>\n",
       "      <td>0.433</td>\n",
       "      <td>0.921</td>\n",
       "      <td>0.073</td>\n",
       "      <td>...</td>\n",
       "      <td>0.031</td>\n",
       "      <td>0.055</td>\n",
       "      <td>0.032</td>\n",
       "      <td>0.088</td>\n",
       "      <td>0.040</td>\n",
       "      <td>0.056</td>\n",
       "      <td>0.038</td>\n",
       "      <td>0.035</td>\n",
       "      <td>0.031</td>\n",
       "      <td>0.031</td>\n",
       "    </tr>\n",
       "    <tr>\n",
       "      <th>202897270043_R05C01</th>\n",
       "      <td>GSE190931</td>\n",
       "      <td>0.874</td>\n",
       "      <td>0.651</td>\n",
       "      <td>0.326</td>\n",
       "      <td>0.133</td>\n",
       "      <td>0.015</td>\n",
       "      <td>0.870</td>\n",
       "      <td>0.107</td>\n",
       "      <td>0.755</td>\n",
       "      <td>0.087</td>\n",
       "      <td>...</td>\n",
       "      <td>0.048</td>\n",
       "      <td>0.295</td>\n",
       "      <td>0.034</td>\n",
       "      <td>0.121</td>\n",
       "      <td>0.046</td>\n",
       "      <td>0.047</td>\n",
       "      <td>0.046</td>\n",
       "      <td>0.034</td>\n",
       "      <td>0.037</td>\n",
       "      <td>0.065</td>\n",
       "    </tr>\n",
       "    <tr>\n",
       "      <th>202897270043_R06C01</th>\n",
       "      <td>GSE190931</td>\n",
       "      <td>0.926</td>\n",
       "      <td>0.779</td>\n",
       "      <td>0.707</td>\n",
       "      <td>0.166</td>\n",
       "      <td>0.013</td>\n",
       "      <td>0.867</td>\n",
       "      <td>0.244</td>\n",
       "      <td>0.959</td>\n",
       "      <td>0.076</td>\n",
       "      <td>...</td>\n",
       "      <td>0.025</td>\n",
       "      <td>0.061</td>\n",
       "      <td>0.041</td>\n",
       "      <td>0.030</td>\n",
       "      <td>0.039</td>\n",
       "      <td>0.049</td>\n",
       "      <td>0.029</td>\n",
       "      <td>0.029</td>\n",
       "      <td>0.027</td>\n",
       "      <td>0.036</td>\n",
       "    </tr>\n",
       "    <tr>\n",
       "      <th>...</th>\n",
       "      <td>...</td>\n",
       "      <td>...</td>\n",
       "      <td>...</td>\n",
       "      <td>...</td>\n",
       "      <td>...</td>\n",
       "      <td>...</td>\n",
       "      <td>...</td>\n",
       "      <td>...</td>\n",
       "      <td>...</td>\n",
       "      <td>...</td>\n",
       "      <td>...</td>\n",
       "      <td>...</td>\n",
       "      <td>...</td>\n",
       "      <td>...</td>\n",
       "      <td>...</td>\n",
       "      <td>...</td>\n",
       "      <td>...</td>\n",
       "      <td>...</td>\n",
       "      <td>...</td>\n",
       "      <td>...</td>\n",
       "      <td>...</td>\n",
       "    </tr>\n",
       "    <tr>\n",
       "      <th>202915410140_R03C01</th>\n",
       "      <td>GSE190931</td>\n",
       "      <td>0.952</td>\n",
       "      <td>0.860</td>\n",
       "      <td>0.824</td>\n",
       "      <td>0.245</td>\n",
       "      <td>0.015</td>\n",
       "      <td>0.867</td>\n",
       "      <td>0.347</td>\n",
       "      <td>0.965</td>\n",
       "      <td>0.064</td>\n",
       "      <td>...</td>\n",
       "      <td>0.022</td>\n",
       "      <td>0.049</td>\n",
       "      <td>0.030</td>\n",
       "      <td>0.026</td>\n",
       "      <td>0.035</td>\n",
       "      <td>0.033</td>\n",
       "      <td>0.037</td>\n",
       "      <td>0.030</td>\n",
       "      <td>0.026</td>\n",
       "      <td>0.030</td>\n",
       "    </tr>\n",
       "    <tr>\n",
       "      <th>202915410140_R04C01</th>\n",
       "      <td>GSE190931</td>\n",
       "      <td>0.929</td>\n",
       "      <td>0.956</td>\n",
       "      <td>0.806</td>\n",
       "      <td>0.609</td>\n",
       "      <td>0.014</td>\n",
       "      <td>0.877</td>\n",
       "      <td>0.116</td>\n",
       "      <td>0.962</td>\n",
       "      <td>0.059</td>\n",
       "      <td>...</td>\n",
       "      <td>0.025</td>\n",
       "      <td>0.054</td>\n",
       "      <td>0.033</td>\n",
       "      <td>0.033</td>\n",
       "      <td>0.037</td>\n",
       "      <td>0.030</td>\n",
       "      <td>0.038</td>\n",
       "      <td>0.025</td>\n",
       "      <td>0.021</td>\n",
       "      <td>0.028</td>\n",
       "    </tr>\n",
       "    <tr>\n",
       "      <th>202915410140_R05C01</th>\n",
       "      <td>GSE190931</td>\n",
       "      <td>0.940</td>\n",
       "      <td>0.951</td>\n",
       "      <td>0.769</td>\n",
       "      <td>0.687</td>\n",
       "      <td>0.015</td>\n",
       "      <td>0.862</td>\n",
       "      <td>0.251</td>\n",
       "      <td>0.961</td>\n",
       "      <td>0.066</td>\n",
       "      <td>...</td>\n",
       "      <td>0.024</td>\n",
       "      <td>0.039</td>\n",
       "      <td>0.029</td>\n",
       "      <td>0.029</td>\n",
       "      <td>0.041</td>\n",
       "      <td>0.029</td>\n",
       "      <td>0.036</td>\n",
       "      <td>0.030</td>\n",
       "      <td>0.026</td>\n",
       "      <td>0.029</td>\n",
       "    </tr>\n",
       "    <tr>\n",
       "      <th>202915410140_R06C01</th>\n",
       "      <td>GSE190931</td>\n",
       "      <td>0.936</td>\n",
       "      <td>0.836</td>\n",
       "      <td>0.828</td>\n",
       "      <td>0.204</td>\n",
       "      <td>0.013</td>\n",
       "      <td>0.857</td>\n",
       "      <td>0.324</td>\n",
       "      <td>0.967</td>\n",
       "      <td>0.065</td>\n",
       "      <td>...</td>\n",
       "      <td>0.022</td>\n",
       "      <td>0.032</td>\n",
       "      <td>0.031</td>\n",
       "      <td>0.032</td>\n",
       "      <td>0.037</td>\n",
       "      <td>0.026</td>\n",
       "      <td>0.029</td>\n",
       "      <td>0.029</td>\n",
       "      <td>0.024</td>\n",
       "      <td>0.028</td>\n",
       "    </tr>\n",
       "    <tr>\n",
       "      <th>202915410140_R07C01</th>\n",
       "      <td>GSE190931</td>\n",
       "      <td>0.946</td>\n",
       "      <td>0.949</td>\n",
       "      <td>0.884</td>\n",
       "      <td>0.778</td>\n",
       "      <td>0.013</td>\n",
       "      <td>0.882</td>\n",
       "      <td>0.390</td>\n",
       "      <td>0.961</td>\n",
       "      <td>0.069</td>\n",
       "      <td>...</td>\n",
       "      <td>0.024</td>\n",
       "      <td>0.049</td>\n",
       "      <td>0.025</td>\n",
       "      <td>0.034</td>\n",
       "      <td>0.041</td>\n",
       "      <td>0.030</td>\n",
       "      <td>0.021</td>\n",
       "      <td>0.032</td>\n",
       "      <td>0.025</td>\n",
       "      <td>0.031</td>\n",
       "    </tr>\n",
       "  </tbody>\n",
       "</table>\n",
       "<p>581 rows × 333249 columns</p>\n",
       "</div>"
      ],
      "text/plain": [
       "IlmnID                   Batch  cg00000109  cg00000236  cg00000292   \n",
       "202897270043_R01C01  GSE190931       0.935       0.893       0.880  \\\n",
       "202897270043_R03C01  GSE190931       0.967       0.882       0.885   \n",
       "202897270043_R04C01  GSE190931       0.880       0.938       0.751   \n",
       "202897270043_R05C01  GSE190931       0.874       0.651       0.326   \n",
       "202897270043_R06C01  GSE190931       0.926       0.779       0.707   \n",
       "...                        ...         ...         ...         ...   \n",
       "202915410140_R03C01  GSE190931       0.952       0.860       0.824   \n",
       "202915410140_R04C01  GSE190931       0.929       0.956       0.806   \n",
       "202915410140_R05C01  GSE190931       0.940       0.951       0.769   \n",
       "202915410140_R06C01  GSE190931       0.936       0.836       0.828   \n",
       "202915410140_R07C01  GSE190931       0.946       0.949       0.884   \n",
       "\n",
       "IlmnID               cg00000363  cg00000622  cg00000658  cg00000714   \n",
       "202897270043_R01C01       0.361       0.012       0.897       0.360  \\\n",
       "202897270043_R03C01       0.510       0.013       0.868       0.384   \n",
       "202897270043_R04C01       0.636       0.015       0.823       0.433   \n",
       "202897270043_R05C01       0.133       0.015       0.870       0.107   \n",
       "202897270043_R06C01       0.166       0.013       0.867       0.244   \n",
       "...                         ...         ...         ...         ...   \n",
       "202915410140_R03C01       0.245       0.015       0.867       0.347   \n",
       "202915410140_R04C01       0.609       0.014       0.877       0.116   \n",
       "202915410140_R05C01       0.687       0.015       0.862       0.251   \n",
       "202915410140_R06C01       0.204       0.013       0.857       0.324   \n",
       "202915410140_R07C01       0.778       0.013       0.882       0.390   \n",
       "\n",
       "IlmnID               cg00000721  cg00000734  ...  ch.9.83519450F   \n",
       "202897270043_R01C01       0.958       0.075  ...           0.022  \\\n",
       "202897270043_R03C01       0.968       0.070  ...           0.021   \n",
       "202897270043_R04C01       0.921       0.073  ...           0.031   \n",
       "202897270043_R05C01       0.755       0.087  ...           0.048   \n",
       "202897270043_R06C01       0.959       0.076  ...           0.025   \n",
       "...                         ...         ...  ...             ...   \n",
       "202915410140_R03C01       0.965       0.064  ...           0.022   \n",
       "202915410140_R04C01       0.962       0.059  ...           0.025   \n",
       "202915410140_R05C01       0.961       0.066  ...           0.024   \n",
       "202915410140_R06C01       0.967       0.065  ...           0.022   \n",
       "202915410140_R07C01       0.961       0.069  ...           0.024   \n",
       "\n",
       "IlmnID               ch.9.837340R  ch.9.84051654F  ch.9.84078312F   \n",
       "202897270043_R01C01         0.039           0.045           0.038  \\\n",
       "202897270043_R03C01         0.055           0.028           0.045   \n",
       "202897270043_R04C01         0.055           0.032           0.088   \n",
       "202897270043_R05C01         0.295           0.034           0.121   \n",
       "202897270043_R06C01         0.061           0.041           0.030   \n",
       "...                           ...             ...             ...   \n",
       "202915410140_R03C01         0.049           0.030           0.026   \n",
       "202915410140_R04C01         0.054           0.033           0.033   \n",
       "202915410140_R05C01         0.039           0.029           0.029   \n",
       "202915410140_R06C01         0.032           0.031           0.032   \n",
       "202915410140_R07C01         0.049           0.025           0.034   \n",
       "\n",
       "IlmnID               ch.9.86947500F  ch.9.88862796F  ch.9.90287778F   \n",
       "202897270043_R01C01           0.044           0.039           0.047  \\\n",
       "202897270043_R03C01           0.039           0.032           0.023   \n",
       "202897270043_R04C01           0.040           0.056           0.038   \n",
       "202897270043_R05C01           0.046           0.047           0.046   \n",
       "202897270043_R06C01           0.039           0.049           0.029   \n",
       "...                             ...             ...             ...   \n",
       "202915410140_R03C01           0.035           0.033           0.037   \n",
       "202915410140_R04C01           0.037           0.030           0.038   \n",
       "202915410140_R05C01           0.041           0.029           0.036   \n",
       "202915410140_R06C01           0.037           0.026           0.029   \n",
       "202915410140_R07C01           0.041           0.030           0.021   \n",
       "\n",
       "IlmnID               ch.9.90621653R  ch.9.93402636R  ch.9.98463211R  \n",
       "202897270043_R01C01           0.032           0.028           0.031  \n",
       "202897270043_R03C01           0.025           0.023           0.025  \n",
       "202897270043_R04C01           0.035           0.031           0.031  \n",
       "202897270043_R05C01           0.034           0.037           0.065  \n",
       "202897270043_R06C01           0.029           0.027           0.036  \n",
       "...                             ...             ...             ...  \n",
       "202915410140_R03C01           0.030           0.026           0.030  \n",
       "202915410140_R04C01           0.025           0.021           0.028  \n",
       "202915410140_R05C01           0.030           0.026           0.029  \n",
       "202915410140_R06C01           0.029           0.024           0.028  \n",
       "202915410140_R07C01           0.032           0.025           0.031  \n",
       "\n",
       "[581 rows x 333249 columns]"
      ]
     },
     "execution_count": 21,
     "metadata": {},
     "output_type": "execute_result"
    }
   ],
   "source": [
    "df_methyl[df_methyl['Batch'] == 'GSE190931']"
   ]
  },
  {
   "cell_type": "code",
   "execution_count": 5,
   "metadata": {},
   "outputs": [],
   "source": [
    "import pandas as pd\n",
    "\n",
    "# Call functions to merge, index and clean clinical data files\n",
    "labels_aml02        = clean_aml02     (merge_index_aml02())\n",
    "labels_aml08        = clean_aml08     (merge_index_aml08())\n",
    "labels_aml05        = clean_aml05     (merge_index_aml05())\n",
    "labels_cog          = clean_cog       (merge_index_cog())\n",
    "labels_beataml      = clean_beataml   (merge_index_beataml())\n",
    "labels_amltcga      = clean_amltcga   (merge_index_amltcga())\n",
    "labels_nordic_all   = clean_nordic_all(merge_index_nordic_all())\n",
    "labels_mds_taml     = clean_mds_taml  (merge_index_mds_taml())\n",
    "labels_all_graal    = clean_all_graal (merge_index_all_graal())\n",
    "labels_target_all   = clean_target_all(merge_index_target_all())\n",
    "\n",
    "\n",
    "# Combine all clinical data labels into one dataframe\n",
    "labels_combined = pd.concat([labels_aml02, labels_aml08, labels_aml05,\n",
    "                        labels_cog, labels_beataml, labels_amltcga,\n",
    "                        labels_nordic_all, labels_mds_taml,\n",
    "                        labels_all_graal,labels_target_all], axis=0, join='outer')\n"
   ]
  },
  {
   "cell_type": "code",
   "execution_count": 6,
   "metadata": {},
   "outputs": [],
   "source": [
    "\n",
    "# Remove samples that are not in the methyl dataset\n",
    "df = labels_combined.loc[labels_combined.index.isin(df_methyl.index)]\n",
    "\n",
    "# Label control samples from the AML0531 clinical trial (GSE124413) as 'Bone Marrow Normal'\n",
    "df_ = label_control_samples(df_methyl, df)\n"
   ]
  },
  {
   "cell_type": "code",
   "execution_count": 7,
   "metadata": {},
   "outputs": [],
   "source": [
    "df2 = df_methyl[['Batch']].join(df_, how='inner')"
   ]
  },
  {
   "cell_type": "code",
   "execution_count": 10,
   "metadata": {},
   "outputs": [
    {
     "data": {
      "text/plain": [
       "Index(['b93cb62a-a7dc-406d-8482-6b51a92ea3c3_noid',\n",
       "       'fb4c9803-3690-4f6a-9402-72a4f36d64d1_noid',\n",
       "       '2fcda6a9-813b-41b2-aae4-ca42c9986287_noid',\n",
       "       'ada38f3e-8020-4394-9e7c-50d06dd04769_noid',\n",
       "       'e78ff499-037b-450a-ac04-6fb3a9e124a4_noid',\n",
       "       '9aedadd8-98e2-4cff-b1a3-64506bf1d95c_noid',\n",
       "       'eefba73e-bf2c-4cac-bd29-8ab3d392aa5b_noid',\n",
       "       '7b4ce492-ff40-4bf1-b3e8-75ff83e8746d_noid',\n",
       "       '865cda60-ec30-4562-b681-0e90737a97ca_noid',\n",
       "       '7cf64c74-47e6-4913-b91b-25198e36b7c8_noid',\n",
       "       ...\n",
       "       '92c7e4d6-eb53-46c5-9721-5edccd60bcc9_noid',\n",
       "       '66392380-a9fe-45b7-9191-60993f3f77f4_noid',\n",
       "       '478f29b1-6604-4e75-a492-47c384799f44_noid',\n",
       "       'e49a1768-bf1e-49c0-bca3-4e076928281c_noid',\n",
       "       'c9943335-86a8-4286-891c-c2331d75dc0d_noid',\n",
       "       'd3988699-70d6-43e1-b84b-9e38b4d2d2b1_noid',\n",
       "       '898a092e-89fe-4010-afea-14c605f99481_noid',\n",
       "       'c9b92f8f-4599-47d1-9d12-31e42166a091_noid',\n",
       "       'e08f84fe-0013-4734-9966-cd734e6fedc5_noid',\n",
       "       '3997c824-8b85-4e1d-b4b1-d32c26155296_noid'],\n",
       "      dtype='object', name='case_id', length=194)"
      ]
     },
     "execution_count": 10,
     "metadata": {},
     "output_type": "execute_result"
    }
   ],
   "source": [
    "labels_amltcga.index"
   ]
  },
  {
   "cell_type": "code",
   "execution_count": 9,
   "metadata": {},
   "outputs": [
    {
     "data": {
      "text/plain": [
       "Index(['202897270043_R01C01', '202897270043_R03C01', '202897270043_R04C01',\n",
       "       '202897270043_R05C01', '202897270043_R06C01', '202897270043_R07C01',\n",
       "       '202897270043_R08C01', '202897270045_R03C01', '202897270045_R04C01',\n",
       "       '202897270045_R06C01',\n",
       "       ...\n",
       "       '201233760140_R05C01', '201233760140_R06C01', '201233760140_R07C01',\n",
       "       '201233760140_R08C01', '203724130020_R01C01', '203724130020_R02C01',\n",
       "       '203724130020_R03C01', '203724130020_R04C01', '203724130020_R05C01',\n",
       "       '203724130020_R06C01'],\n",
       "      dtype='object', length=3357)"
      ]
     },
     "execution_count": 9,
     "metadata": {},
     "output_type": "execute_result"
    }
   ],
   "source": [
    "df_methyl.index"
   ]
  },
  {
   "cell_type": "code",
   "execution_count": 8,
   "metadata": {},
   "outputs": [
    {
     "data": {
      "text/plain": [
       "(3136, 2348)"
      ]
     },
     "execution_count": 8,
     "metadata": {},
     "output_type": "execute_result"
    }
   ],
   "source": [
    "df2.shape"
   ]
  },
  {
   "cell_type": "code",
   "execution_count": 11,
   "metadata": {},
   "outputs": [
    {
     "data": {
      "text/plain": [
       "Batch\n",
       "GSE49031          933\n",
       "GSE190931         581\n",
       "GSE124413         495\n",
       "GSE159907         316\n",
       "GDC_TARGET-AML    314\n",
       "GDC_TCGA-AML      194\n",
       "GSE152710         166\n",
       "GSE147667         153\n",
       "GDC_TARGET-ALL    141\n",
       "GSE133986          64\n",
       "Name: count, dtype: int64"
      ]
     },
     "execution_count": 11,
     "metadata": {},
     "output_type": "execute_result"
    }
   ],
   "source": [
    "df_methyl['Batch'].value_counts(dropna=False)"
   ]
  },
  {
   "cell_type": "code",
   "execution_count": 12,
   "metadata": {},
   "outputs": [
    {
     "data": {
      "text/plain": [
       "Batch\n",
       "GSE49031          933\n",
       "GSE190931         581\n",
       "GSE124413         495\n",
       "GSE159907         316\n",
       "GDC_TARGET-AML    287\n",
       "GSE152710         166\n",
       "GSE147667         153\n",
       "GDC_TARGET-ALL    141\n",
       "GSE133986          64\n",
       "Name: count, dtype: int64"
      ]
     },
     "execution_count": 12,
     "metadata": {},
     "output_type": "execute_result"
    }
   ],
   "source": [
    "df2['Batch'].value_counts(dropna=False)"
   ]
  },
  {
   "cell_type": "code",
   "execution_count": 25,
   "metadata": {},
   "outputs": [
    {
     "data": {
      "text/plain": [
       "((3357, 333249), (3136, 2149))"
      ]
     },
     "execution_count": 25,
     "metadata": {},
     "output_type": "execute_result"
    }
   ],
   "source": [
    "df_methyl.shape, df_.shape"
   ]
  },
  {
   "cell_type": "code",
   "execution_count": 20,
   "metadata": {},
   "outputs": [
    {
     "data": {
      "text/plain": [
       "221"
      ]
     },
     "execution_count": 20,
     "metadata": {},
     "output_type": "execute_result"
    }
   ],
   "source": [
    "df_methyl.shape[0] - df_.shape[0]"
   ]
  },
  {
   "cell_type": "code",
   "execution_count": 11,
   "metadata": {},
   "outputs": [
    {
     "data": {
      "text/plain": [
       "Clinical Trial\n",
       "NOPHO ALL92-2000            933\n",
       "AAML0531                    628\n",
       "AAML1031                    581\n",
       "Beat AML Consortium         316\n",
       "CETLAM SMD-09 (MDS-tAML)    166\n",
       "French GRAALL 2003–2005     153\n",
       "TARGET ALL                  141\n",
       "AAML03P1                     72\n",
       "Japanese AML05               64\n",
       "CCG2961                      41\n",
       "NaN                          41\n",
       "Name: count, dtype: int64"
      ]
     },
     "execution_count": 11,
     "metadata": {},
     "output_type": "execute_result"
    }
   ],
   "source": [
    "df_['Clinical Trial'].value_counts(dropna=False)"
   ]
  },
  {
   "cell_type": "code",
   "execution_count": 14,
   "metadata": {},
   "outputs": [
    {
     "data": {
      "text/plain": [
       "Sample Type\n",
       "Diagnosis                  73\n",
       "3-5M                       24\n",
       "> or equal to 12M          20\n",
       "6-11M                      19\n",
       "<3M                        17\n",
       "Control (Healthy Donor)    10\n",
       "Post Transplant             3\n",
       "Name: count, dtype: int64"
      ]
     },
     "execution_count": 14,
     "metadata": {},
     "output_type": "execute_result"
    }
   ],
   "source": [
    "labels_mds_taml['Sample Type'].value_counts(dropna=False)    "
   ]
  },
  {
   "cell_type": "code",
   "execution_count": 9,
   "metadata": {},
   "outputs": [
    {
     "data": {
      "text/plain": [
       "Sample Type\n",
       "Diagnosis                                            2032\n",
       "Relapse                                               252\n",
       "Bone Marrow Normal                                    145\n",
       "Likely Diagnosis                                      141\n",
       "Unknown (TARGET-ALL)                                  141\n",
       "Primary Blood Derived Cancer - Bone Marrow             90\n",
       "normal bone marrow                                     82\n",
       "Recurrent Blood Derived Cancer - Bone Marrow           58\n",
       "normal CD3+ cells                                      25\n",
       "normal CD19+ cells                                     25\n",
       "3-5M                                                   24\n",
       "Primary Blood Derived Cancer - Peripheral Blood        22\n",
       "> or equal to 12M                                      20\n",
       "6-11M                                                  19\n",
       "<3M                                                    17\n",
       "Healthy Thymus                                         12\n",
       "Control (Healthy Donor)                                10\n",
       "Blood Derived Normal                                    7\n",
       "Recurrent Blood Derived Cancer - Peripheral Blood       6\n",
       "normal peripheral blood                                 4\n",
       "Post Transplant                                         3\n",
       "pooled normal CD34+ cells                               1\n",
       "Name: count, dtype: int64"
      ]
     },
     "execution_count": 9,
     "metadata": {},
     "output_type": "execute_result"
    }
   ],
   "source": [
    "df_['Sample Type'].value_counts(dropna=False)"
   ]
  },
  {
   "cell_type": "code",
   "execution_count": 16,
   "metadata": {},
   "outputs": [
    {
     "data": {
      "text/plain": [
       "Batch\n",
       "GSE49031          933\n",
       "GSE190931         581\n",
       "GSE124413         495\n",
       "GSE159907         316\n",
       "GDC_TARGET-AML    314\n",
       "GDC_TCGA-AML      194\n",
       "GSE152710         166\n",
       "GSE147667         153\n",
       "GDC_TARGET-ALL    141\n",
       "GSE133986          64\n",
       "Name: count, dtype: int64"
      ]
     },
     "execution_count": 16,
     "metadata": {},
     "output_type": "execute_result"
    }
   ],
   "source": [
    "df_methyl['Batch'].value_counts(dropna=False)"
   ]
  },
  {
   "cell_type": "code",
   "execution_count": 15,
   "metadata": {},
   "outputs": [
    {
     "data": {
      "text/plain": [
       "Clinical Trial\n",
       "NOPHO ALL92-2000            933\n",
       "AAML0531                    628\n",
       "AAML1031                    581\n",
       "Beat AML Consortium         316\n",
       "CETLAM SMD-09 (MDS-tAML)    166\n",
       "French GRAALL 2003–2005     153\n",
       "TARGET ALL                  141\n",
       "AAML03P1                     72\n",
       "Japanese AML05               64\n",
       "CCG2961                      41\n",
       "NaN                          41\n",
       "Name: count, dtype: int64"
      ]
     },
     "execution_count": 15,
     "metadata": {},
     "output_type": "execute_result"
    }
   ],
   "source": [
    "df_['Clinical Trial'].value_counts(dropna=False)"
   ]
  },
  {
   "cell_type": "code",
   "execution_count": 9,
   "metadata": {},
   "outputs": [],
   "source": [
    "labels_cog.to_excel(output_path+'labels_cog.xlsx')"
   ]
  },
  {
   "cell_type": "code",
   "execution_count": 11,
   "metadata": {},
   "outputs": [],
   "source": [
    "labels_beataml.to_excel(output_path+'labels_beataml.xlsx')"
   ]
  },
  {
   "cell_type": "code",
   "execution_count": 13,
   "metadata": {},
   "outputs": [],
   "source": [
    "labels_amltcga.to_excel(output_path+'labels_amltcga.xlsx')"
   ]
  },
  {
   "cell_type": "code",
   "execution_count": 14,
   "metadata": {},
   "outputs": [],
   "source": [
    "labels_nordic_all.to_excel(output_path+'labels_nordic_all.xlsx')"
   ]
  },
  {
   "cell_type": "code",
   "execution_count": 15,
   "metadata": {},
   "outputs": [],
   "source": [
    "labels_mds_taml.to_excel(output_path+'labels_mds_taml.xlsx')"
   ]
  },
  {
   "cell_type": "code",
   "execution_count": 16,
   "metadata": {},
   "outputs": [],
   "source": [
    "labels_tcell_all_graal.to_excel(output_path+'labels_tcell_all_graal.xlsx')"
   ]
  },
  {
   "attachments": {},
   "cell_type": "markdown",
   "metadata": {},
   "source": [
    "## MDS_tAML"
   ]
  },
  {
   "cell_type": "code",
   "execution_count": 437,
   "metadata": {},
   "outputs": [],
   "source": [
    "meta = pd.read_pickle('../Data/Raw_Data/Methyl_Array_450k/GSE152710/sample_sheet_meta_data.pkl').iloc[:,:-1].set_index('Sample_ID')"
   ]
  },
  {
   "attachments": {},
   "cell_type": "markdown",
   "metadata": {},
   "source": [
    "## Nordic ALL"
   ]
  },
  {
   "cell_type": "code",
   "execution_count": 188,
   "metadata": {},
   "outputs": [],
   "source": [
    "# Load meta data from GSE49031\n",
    "meta = pd.read_pickle('../Data/Raw_Data/Methyl_Array_450k/GSE49031/sample_sheet_meta_data.pkl')\\\n",
    "                        .iloc[:,:-1].set_index('Sample_ID')\n",
    "\n",
    "# split meta `title` column by the last word\n",
    "meta['title'] = meta['title'].str.split().str[-1]\n",
    "\n",
    "# Set index to `title`\n",
    "meta = meta.reset_index().set_index('title')\n",
    "\n",
    "# Load clinical data from paper\n",
    "paper = pd.read_excel('../Data/Raw_Data/Clinical_Data/Nordic_ALL/PMID_25729447_Supp_Clinical_Data.xlsx',\n",
    "                      index_col=0,header=2, sheet_name='Table S7- Verification summary')[['Karyotyping at diagnosisc']]\n",
    "\n",
    "# Join meta and paper\n",
    "meta = meta.join(paper)\n",
    "\n",
    "# Reset index to `Sample_ID`\n",
    "meta = meta.reset_index().set_index('Sample_ID')\n",
    "\n"
   ]
  },
  {
   "attachments": {},
   "cell_type": "markdown",
   "metadata": {},
   "source": [
    "## Tcell_ALL_GRAAL"
   ]
  },
  {
   "cell_type": "code",
   "execution_count": 430,
   "metadata": {},
   "outputs": [],
   "source": [
    "meta = pd.read_pickle('../Data/Raw_Data/Methyl_Array_EPIC/GSE147667/sample_sheet_meta_data.pkl').iloc[:,:-1].set_index('Sample_ID')"
   ]
  },
  {
   "attachments": {},
   "cell_type": "markdown",
   "metadata": {},
   "source": [
    "## GDC TARGET ALL"
   ]
  },
  {
   "cell_type": "code",
   "execution_count": 464,
   "metadata": {},
   "outputs": [],
   "source": [
    "# Load clinical data from GDC\n",
    "json_clinical_demographic = pd.read_json('../Data/Raw_Data/Methyl_Array_EPIC/GDC_TARGET-ALL/clinical.cases_selection.2023-05-12.json',\n",
    "                            orient='values')\n",
    "\n",
    "# flatten json\n",
    "json_clinical_demographic = pd.json_normalize(json_clinical_demographic['demographic'].dropna())\n",
    "\n",
    "# extract the second to last term from the `submitter_id` column\n",
    "json_clinical_demographic['submitter_id'] = json_clinical_demographic['submitter_id'].str.split('-').str[-1]\n",
    "\n",
    "# extract the first term from the `submitter_id` column by `_`\n",
    "json_clinical_demographic['submitter_id'] = json_clinical_demographic['submitter_id'].str.split('_').str[0]\n",
    "\n",
    "# change `submitter_id` column name to `Patient_ID`\n",
    "json_clinical_demographic = json_clinical_demographic.rename(columns={'submitter_id':'Patient_ID'})\n",
    "\n",
    "# Set index to `submitter_id`\n",
    "json_clinical_demographic = json_clinical_demographic.set_index('demographic_id')['Patient_ID']\n",
    "\n",
    "# Load clinical data from GDC\n",
    "clinical_tsv = pd.read_csv('../Data/Raw_Data/Methyl_Array_EPIC/GDC_TARGET-ALL/clinical.tsv', \n",
    "                            sep='\\t', index_col=0)\n",
    "\n",
    "# Extract the last word from the `case_submitter_id` column by splitting by `-`\n",
    "clinical_tsv['Patient_ID'] = clinical_tsv['case_submitter_id'].str.split('-').str[-1]\n",
    "\n",
    "clinical_tsv = clinical_tsv['Patient_ID']\n",
    "\n",
    "# concat clinical_tsv and json_clinical_demographic\n",
    "clinical = pd.concat([clinical_tsv, json_clinical_demographic], axis=0, join='outer')\n",
    "\n",
    "# Set index to `Patient_ID`\n",
    "clinical = clinical.reset_index().set_index('Patient_ID')\n",
    "\n",
    "# Load clinical data from paper\n",
    "paper = pd.read_excel('../Data/Raw_Data/Clinical_Data/ALL_P3_TARGET/41586_2018_436_MOESM4_ESM.xlsx',\n",
    "                      sheet_name='ST2 Cohort', index_col=0)\n",
    "\n",
    "# # Join clinical data from paper and GDC\n",
    "labels_alltarget = clinical.join(paper, how='right')"
   ]
  },
  {
   "cell_type": "code",
   "execution_count": 449,
   "metadata": {},
   "outputs": [],
   "source": [
    "meta = pd.read_pickle('../Data/Raw_Data/Methyl_Array_EPIC/GDC_TARGET-ALL/sample_sheet_meta_data.pkl').set_index('Sentrix_ID')"
   ]
  },
  {
   "attachments": {},
   "cell_type": "markdown",
   "metadata": {},
   "source": [
    "## TCGA AML"
   ]
  },
  {
   "cell_type": "code",
   "execution_count": 105,
   "metadata": {},
   "outputs": [],
   "source": [
    "def merge_index_amltcga():\n",
    "\n",
    "    # load clinical data from GDC\n",
    "    clinical_tsv = pd.read_csv('../Data/Raw_Data/Methyl_Array_450k/GDC_TCGA-AML/clinical.tsv', \n",
    "                    sep='\\t', index_col=0)[['case_submitter_id']].drop_duplicates()\n",
    "\n",
    "    # extract last 4 digits from case_id to get TCGA Patient ID\n",
    "    clinical_tsv['TCGA Patient ID'] = clinical_tsv['case_submitter_id'].str[-4:]\n",
    "\n",
    "    # set index to TCGA Patient ID\n",
    "    clinical_tsv = clinical_tsv.reset_index().set_index('TCGA Patient ID').sort_index()\n",
    "\n",
    "    # load meta data from NEJM 2013 paper\n",
    "    meta = pd.read_excel('../Data/Raw_Data/Clinical_Data/TCGA_LAML/SuppTable01_NEJM2013_TCGA_AML.Paper_Mutation data.xlsx',\n",
    "                        index_col=1).iloc[1:,:].sort_index()\n",
    "\n",
    "    # make meta index integers\n",
    "    meta.index = meta.index.astype(int)\n",
    "    clinical_tsv.index = clinical_tsv.index.astype(int)\n",
    "\n",
    "    # join clinical_tsv and meta\n",
    "    labels_amltcga = clinical_tsv.join(meta, how='left')\n",
    "\n",
    "    # set index to case_id\n",
    "    labels_amltcga = labels_amltcga.reset_index().set_index('case_id')\n",
    "    \n",
    "    return labels_amltcga\n"
   ]
  },
  {
   "attachments": {},
   "cell_type": "markdown",
   "metadata": {},
   "source": [
    "## BeatAML Clinical Data"
   ]
  },
  {
   "cell_type": "code",
   "execution_count": 39,
   "metadata": {},
   "outputs": [],
   "source": [
    "import pandas as pd\n",
    "def merge_index_beataml ():\n",
    "    meta = pd.read_pickle('../Data/Raw_Data/Methyl_Array_EPIC/GSE159907/sample_sheet_meta_data.pkl').iloc[:,:-1]\n",
    "\n",
    "    # Create a new column with only the content inside [] from column 'Sample_Name'\n",
    "    meta['LLS_SampleID'] = meta['Sample_Name'].str.extract(r\"\\[(.*?)\\]\", expand=False)\n",
    "\n",
    "    # Set the index to the new column\n",
    "    meta1 = meta[['tissue','disease_state','LLS_SampleID','Sample_ID']].set_index('LLS_SampleID')\n",
    "\n",
    "    # Read in the clinical data\n",
    "    meta2 = pd.read_excel('../Data/Raw_Data/Clinical_Data/BeatAML/BEAT_AML_Raw clinical data_702.Samples.Vizome.xlsx', index_col=3)\n",
    "\n",
    "    # Join the two dataframes\n",
    "    labels_beataml = meta1.join(meta2, how='left').reset_index().set_index('Sample_ID')\n",
    "\n",
    "    return labels_beataml\n",
    "\n",
    "labels_beataml = clean_beataml()"
   ]
  },
  {
   "attachments": {},
   "cell_type": "markdown",
   "id": "3c02342a",
   "metadata": {},
   "source": [
    "## Remove Samples based on Certain Clinical Features"
   ]
  },
  {
   "attachments": {},
   "cell_type": "markdown",
   "metadata": {},
   "source": [
    "### Remove Relapse Samples"
   ]
  },
  {
   "cell_type": "code",
   "execution_count": 5,
   "id": "41f406b9",
   "metadata": {
    "tags": [
     "hide-input"
    ]
   },
   "outputs": [
    {
     "name": "stdout",
     "output_type": "stream",
     "text": [
      "Out of 1762 samples, 248 matched, yielding 1514 samples after filtering\n"
     ]
    }
   ],
   "source": [
    "df1 = df_[~df_['Sample Type'].isin(['Relapse', 'Recurrent Blood Derived Cancer - Bone Marrow',\n",
    "                                    'Recurrent Blood Derived Cancer - Peripheral Blood'])]\n",
    "\n",
    "print(\n",
    "    f'Out of {df_.shape[0]} samples, {df_.shape[0]-df1.shape[0]} matched, yielding {df1.shape[0]} samples after filtering')\n"
   ]
  },
  {
   "attachments": {},
   "cell_type": "markdown",
   "metadata": {},
   "source": [
    "### Remove Control/Normal Samples"
   ]
  },
  {
   "cell_type": "code",
   "execution_count": 6,
   "metadata": {
    "tags": [
     "hide-input"
    ]
   },
   "outputs": [
    {
     "name": "stdout",
     "output_type": "stream",
     "text": [
      "Out of 1514 samples, 154 matched, yielding 1360 samples after filtering\n"
     ]
    }
   ],
   "source": [
    "df2 = df1[~df1['Sample Type'].isin(\n",
    "    ['Bone Marrow Normal', 'Blood Derived Normal'])]\n",
    "print(\n",
    "    f'Out of {df1.shape[0]} samples, {df1.shape[0]-df2.shape[0]} matched, yielding {df2.shape[0]} samples after filtering')\n"
   ]
  },
  {
   "attachments": {},
   "cell_type": "markdown",
   "metadata": {},
   "source": [
    "### Remove Duplicate Samples"
   ]
  },
  {
   "cell_type": "code",
   "execution_count": 7,
   "metadata": {
    "tags": [
     "hide-input"
    ]
   },
   "outputs": [
    {
     "name": "stdout",
     "output_type": "stream",
     "text": [
      "Out of 1360 samples, 14 matched, yielding 1346 samples after filtering\n"
     ]
    }
   ],
   "source": [
    "df3 = df2[~df2['Patient_ID'].duplicated(keep='last')]\n",
    "print(\n",
    "    f'Out of {df2.shape[0]} samples, {df2.shape[0]-df3.shape[0]} matched, yielding {df3.shape[0]} samples after filtering')\n"
   ]
  },
  {
   "attachments": {},
   "cell_type": "markdown",
   "id": "39875e9e",
   "metadata": {},
   "source": [
    "## Save Files"
   ]
  },
  {
   "cell_type": "code",
   "execution_count": 8,
   "metadata": {
    "tags": [
     "hide-input"
    ]
   },
   "outputs": [],
   "source": [
    "output = df3.join(df_methyl,how='left') # Join clinical data with methyl data\n",
    "\n",
    "x = output.iloc[:,df3.shape[1]+1:] # Select only methyl data\n",
    "y = output.iloc[:,0:df3.shape[1]+1] # Select only clinical data"
   ]
  },
  {
   "cell_type": "code",
   "execution_count": 9,
   "metadata": {},
   "outputs": [
    {
     "name": "stdout",
     "output_type": "stream",
     "text": [
      "Discovery dataset (train) contains 310545 rows (5mC sites) and 1142 columns (samples)\n",
      "\n",
      "AAML1031    520\n",
      "AAML0531    508\n",
      "AML05        64\n",
      "AAML03P1     36\n",
      "CCG2961      14\n",
      "\n",
      "Validation dataset (test) contains 310545 rows (5mC sites) and 204 columns (samples).\n",
      "\n",
      "AML02    162\n",
      "AML08     42\n",
      "\n"
     ]
    }
   ],
   "source": [
    "# Split train and test by clinical trial\n",
    "y_train = y[~y['Clinical Trial'].isin(['AML02', 'AML08'])]\n",
    "# y_train = y_train[y_train['Sample Type'].isin(['Diagnosis',\n",
    "#        'Primary Blood Derived Cancer - Bone Marrow', 'Bone Marrow Normal',\n",
    "#        'Primary Blood Derived Cancer - Peripheral Blood',\n",
    "#        'Blood Derived Normal'])]\n",
    "\n",
    "y_test = y[y['Clinical Trial'].isin(['AML02', 'AML08'])]\n",
    "\n",
    "# Select samples in x that are in y_train\n",
    "x_train = x.loc[y_train.index]\n",
    "x_test = x.loc[y_test.index]\n",
    "\n",
    "# x_train = pd.concat([x_train, ctrl_x], axis=0)\n",
    "# y_train = pd.concat([y_train, ctrl_y], axis=0,keys=['Diagnosis','Control'], names=['sample_type'])\n",
    "\n",
    "\n",
    "print(\n",
    "    f\"Discovery dataset (train) contains {x_train.shape[1]} rows (5mC sites) and {x_train.shape[0]} columns (samples)\")\n",
    "print(\n",
    "    f\"\\n{y_train['Clinical Trial'].value_counts(dropna=False).to_string()}\\n\")\n",
    "print(\n",
    "    f\"Validation dataset (test) contains {x_test.shape[1]} rows (5mC sites) and {x_test.shape[0]} columns (samples).\")\n",
    "print(f\"\\n{y_test['Clinical Trial'].value_counts(dropna=False).to_string()}\\n\")\n"
   ]
  },
  {
   "attachments": {},
   "cell_type": "markdown",
   "metadata": {},
   "source": [
    "## Batch Correction with pyCombat"
   ]
  },
  {
   "attachments": {},
   "cell_type": "markdown",
   "metadata": {},
   "source": [
    "- __pyCombat__: a Python tool for batch effects correction in high-throughput molecular data using empirical Bayes methods\n",
    "\n",
    "- __Github__: [https://epigenelabs.github.io/pyComBat/](https://epigenelabs.github.io/pyComBat/)\n",
    "\n",
    "- __Implementation Paper__: [bioRxiv](https://doi.org/10.1101/2020.03.17.995431)\n",
    "\n",
    "- __Original Paper__: [Biostatistics](https://pubmed.ncbi.nlm.nih.gov/16632515/)"
   ]
  },
  {
   "cell_type": "code",
   "execution_count": 10,
   "metadata": {},
   "outputs": [
    {
     "name": "stdout",
     "output_type": "stream",
     "text": [
      "Found 4 batches.\n",
      "Adjusting for 0 covariate(s) or covariate level(s).\n",
      "Standardizing Data across genes.\n",
      "Fitting L/S model and finding priors.\n",
      "Finding parametric adjustments.\n",
      "Adjusting the Data\n",
      "Succesfully corrected batch effects in the training dataset.\n"
     ]
    }
   ],
   "source": [
    "from combat.pycombat import pycombat\n",
    "\n",
    "# Correct batch effects in the training dataset\n",
    "x_train2 = pycombat(x_train.T, y_train['Batch']).T\n",
    "\n",
    "print('Succesfully corrected batch effects in the training dataset.')\n"
   ]
  },
  {
   "cell_type": "code",
   "execution_count": 11,
   "metadata": {},
   "outputs": [
    {
     "name": "stdout",
     "output_type": "stream",
     "text": [
      "Discovery dataset (train) contains 310545 rows (5mC sites) and 1078 columns (samples)\n",
      "\n",
      "AAML1031    520\n",
      "AAML0531    508\n",
      "AAML03P1     36\n",
      "CCG2961      14\n",
      "\n",
      "Validation dataset (test) contains 310545 rows (5mC sites) and 204 columns (samples).\n",
      "\n",
      "AML02    162\n",
      "AML08     42\n",
      "\n"
     ]
    }
   ],
   "source": [
    "y_train = y_train[~y_train['Clinical Trial'].isin(['AML05'])]\n",
    "x_train3 = x_train2.loc[y_train.index]\n",
    "\n",
    "\n",
    "print(\n",
    "    f\"Discovery dataset (train) contains {x_train3.shape[1]} rows (5mC sites) and {x_train3.shape[0]} columns (samples)\")\n",
    "print(\n",
    "    f\"\\n{y_train['Clinical Trial'].value_counts(dropna=False).to_string()}\\n\")\n",
    "print(\n",
    "    f\"Validation dataset (test) contains {x_test.shape[1]} rows (5mC sites) and {x_test.shape[0]} columns (samples).\")\n",
    "print(f\"\\n{y_test['Clinical Trial'].value_counts(dropna=False).to_string()}\\n\")"
   ]
  },
  {
   "cell_type": "code",
   "execution_count": 12,
   "metadata": {},
   "outputs": [
    {
     "name": "stdout",
     "output_type": "stream",
     "text": [
      "Successfuly saved methyl data in x.pkl and clinical data in y.csv.\n",
      "Path: ../Data/Processed_Data/\n"
     ]
    }
   ],
   "source": [
    "x_train3.to_pickle(output_path+'x_train.pkl') # Save methyl data\n",
    "y_train.to_csv(output_path+'y_train.csv') # Save clinical data\n",
    "\n",
    "print(\n",
    "    f'Successfuly saved methyl data in x.pkl and clinical data in y.csv.\\nPath: {output_path}')"
   ]
  },
  {
   "attachments": {},
   "cell_type": "markdown",
   "metadata": {},
   "source": [
    "### Save Control and Relapse Data Separately"
   ]
  },
  {
   "cell_type": "code",
   "execution_count": 13,
   "metadata": {
    "tags": [
     "hide-input"
    ]
   },
   "outputs": [
    {
     "name": "stdout",
     "output_type": "stream",
     "text": [
      "Successfuly saved 147 control samples and 248 relapse samples.\n",
      "Path: ../Data/Processed_Data/\n"
     ]
    }
   ],
   "source": [
    "controls = df_[df_['Sample Type'].isin(['Bone Marrow Normal'])]\n",
    "\n",
    "relapse = df_[df_['Sample Type'].isin(['Relapse', 'Recurrent Blood Derived Cancer - Bone Marrow',\n",
    "                                       'Recurrent Blood Derived Cancer - Peripheral Blood'])]\n",
    "\n",
    "# Merge control and relapse samples\n",
    "t = pd.concat([controls, relapse], axis=0, join='outer',\n",
    "              names=['Control', 'Relapse'])\n",
    "\n",
    "# Join clinical data with methyl data\n",
    "t2 = df_methyl.join(t, how='right')\n",
    "\n",
    "# Save merged control and relapse samples\n",
    "t2.to_pickle(output_path+'control_relapse.pkl')\n",
    "\n",
    "print(\n",
    "    f'Successfuly saved {controls.shape[0]} control samples and {relapse.shape[0]} relapse samples.\\nPath: {output_path}')\n"
   ]
  },
  {
   "attachments": {},
   "cell_type": "markdown",
   "metadata": {},
   "source": [
    "## Watermark"
   ]
  },
  {
   "cell_type": "code",
   "execution_count": 14,
   "metadata": {
    "tags": [
     "remove-input",
     "remove-output"
    ]
   },
   "outputs": [],
   "source": [
    "%load_ext watermark"
   ]
  },
  {
   "cell_type": "code",
   "execution_count": 15,
   "metadata": {
    "tags": [
     "remove-input"
    ]
   },
   "outputs": [
    {
     "name": "stdout",
     "output_type": "stream",
     "text": [
      "Python implementation: CPython\n",
      "Python version       : 3.10.10\n",
      "IPython version      : 8.3.0\n",
      "\n",
      "pandas: 1.5.3\n",
      "\n"
     ]
    }
   ],
   "source": [
    "# produce a list of the loaded modules\n",
    "%watermark -v -p pandas"
   ]
  }
 ],
 "metadata": {
  "celltoolbar": "Tags",
  "kernelspec": {
   "display_name": ".venv_data_vizualization",
   "language": "python",
   "name": "python3"
  },
  "language_info": {
   "codemirror_mode": {
    "name": "ipython",
    "version": 3
   },
   "file_extension": ".py",
   "mimetype": "text/x-python",
   "name": "python",
   "nbconvert_exporter": "python",
   "pygments_lexer": "ipython3",
   "version": "3.8.16"
  },
  "vscode": {
   "interpreter": {
    "hash": "1536c79f85cc2a2ac13c148ca716b8e28acb6745983d6aacea6d4fcb49ea6e2e"
   }
  }
 },
 "nbformat": 4,
 "nbformat_minor": 2
}
