{
 "cells": [
  {
   "attachments": {},
   "cell_type": "markdown",
   "metadata": {},
   "source": [
    "# Clinical Data Processing"
   ]
  },
  {
   "attachments": {},
   "cell_type": "markdown",
   "metadata": {},
   "source": [
    "## Where the data at?"
   ]
  },
  {
   "cell_type": "code",
   "execution_count": 1,
   "metadata": {},
   "outputs": [],
   "source": [
    "input_path = '../Data/Intermediate_Files/'\n",
    "clinicaldata_path = '../Data/Raw_Data/Clinical_Data/'\n",
    "output_path = '../Data/Processed_Data/'"
   ]
  },
  {
   "attachments": {},
   "cell_type": "markdown",
   "metadata": {},
   "source": [
    "## Load Methyl Data"
   ]
  },
  {
   "cell_type": "code",
   "execution_count": 2,
   "metadata": {
    "tags": [
     "hide-input"
    ]
   },
   "outputs": [
    {
     "name": "stdout",
     "output_type": "stream",
     "text": [
      " Dataset (df) contains 333249 columns (mC sites) and 3357 rows (samples).\n"
     ]
    }
   ],
   "source": [
    "import pandas as pd\n",
    "\n",
    "df_methyl = pd.read_pickle(\n",
    "    input_path+'2_MethylData_Processing_Output.pkl')\n",
    "\n",
    "print(\n",
    "    f' Dataset (df) contains {df_methyl.shape[1]} columns (mC sites) and {df_methyl.shape[0]} rows (samples).')\n"
   ]
  },
  {
   "cell_type": "code",
   "execution_count": 3,
   "metadata": {},
   "outputs": [
    {
     "data": {
      "text/plain": [
       "Batch\n",
       "GSE49031          933\n",
       "GSE190931         581\n",
       "GSE124413         495\n",
       "GSE159907         316\n",
       "GDC_TARGET-AML    314\n",
       "GDC_TCGA-AML      194\n",
       "GSE152710         166\n",
       "GSE147667         153\n",
       "GDC_TARGET-ALL    141\n",
       "GSE133986          64\n",
       "Name: count, dtype: int64"
      ]
     },
     "execution_count": 3,
     "metadata": {},
     "output_type": "execute_result"
    }
   ],
   "source": [
    "df_methyl['Batch'].value_counts(dropna=False)"
   ]
  },
  {
   "attachments": {},
   "cell_type": "markdown",
   "metadata": {},
   "source": [
    "## Add Labels/Clinical Outcome Data"
   ]
  },
  {
   "cell_type": "code",
   "execution_count": 4,
   "metadata": {
    "tags": [
     "hide-input"
    ]
   },
   "outputs": [],
   "source": [
    "# Import functions to clean up clinical data\n",
    "from FM_Functions.Clinical_Data_CleanUp import *"
   ]
  },
  {
   "cell_type": "code",
   "execution_count": 9,
   "metadata": {},
   "outputs": [],
   "source": [
    "\n",
    "meta = pd.read_pickle('../Data/Raw_Data/Methyl_Array_EPIC/GSE159907/sample_sheet_meta_data.pkl').iloc[:,:-1]\n",
    "\n",
    "# Create a new column with only the content inside [] from column 'Sample_Name'\n",
    "meta['LLS_SampleID'] = meta['Sample_Name'].str.extract(r\"\\[(.*?)\\]\", expand=False)\n",
    "\n",
    "# Set the index to the new column\n",
    "meta1 = meta[['tissue','disease_state','LLS_SampleID','Sample_ID']].set_index('LLS_SampleID')\n",
    "\n",
    "# Read in the clinical data\n",
    "meta2 = pd.read_excel('../Data/Raw_Data/Clinical_Data/BeatAML/BEAT_AML_Raw clinical data_702.Samples.Vizome.xlsx', index_col=3)\n",
    "\n",
    "# Join the two dataframes\n",
    "labels_beataml = meta1.join(meta2, how='left').reset_index().set_index('Sample_ID')"
   ]
  },
  {
   "cell_type": "code",
   "execution_count": 10,
   "metadata": {},
   "outputs": [
    {
     "data": {
      "text/html": [
       "<div>\n",
       "<style scoped>\n",
       "    .dataframe tbody tr th:only-of-type {\n",
       "        vertical-align: middle;\n",
       "    }\n",
       "\n",
       "    .dataframe tbody tr th {\n",
       "        vertical-align: top;\n",
       "    }\n",
       "\n",
       "    .dataframe thead th {\n",
       "        text-align: right;\n",
       "    }\n",
       "</style>\n",
       "<table border=\"1\" class=\"dataframe\">\n",
       "  <thead>\n",
       "    <tr style=\"text-align: right;\">\n",
       "      <th></th>\n",
       "      <th>LLS_SampleID</th>\n",
       "      <th>tissue</th>\n",
       "      <th>disease_state</th>\n",
       "      <th>PatientID</th>\n",
       "      <th>LLS_PatientID</th>\n",
       "      <th>SampleID</th>\n",
       "      <th>AnyGeneTrailsGene</th>\n",
       "      <th>BoneMarrowTransplant</th>\n",
       "      <th>CEBPA_Biallelic</th>\n",
       "      <th>CumulativeChemo</th>\n",
       "      <th>...</th>\n",
       "      <th>SerialRNAseq</th>\n",
       "      <th>SomaticSample</th>\n",
       "      <th>SpecificDxAtAcquisition</th>\n",
       "      <th>SpecificDxAtInclusion</th>\n",
       "      <th>SpecimenType</th>\n",
       "      <th>TimeOfCollectionRelativeToInclusion</th>\n",
       "      <th>TotalDrug</th>\n",
       "      <th>VitalStatus</th>\n",
       "      <th>WBC_Count</th>\n",
       "      <th>WHO_Fusion</th>\n",
       "    </tr>\n",
       "    <tr>\n",
       "      <th>Sample_ID</th>\n",
       "      <th></th>\n",
       "      <th></th>\n",
       "      <th></th>\n",
       "      <th></th>\n",
       "      <th></th>\n",
       "      <th></th>\n",
       "      <th></th>\n",
       "      <th></th>\n",
       "      <th></th>\n",
       "      <th></th>\n",
       "      <th></th>\n",
       "      <th></th>\n",
       "      <th></th>\n",
       "      <th></th>\n",
       "      <th></th>\n",
       "      <th></th>\n",
       "      <th></th>\n",
       "      <th></th>\n",
       "      <th></th>\n",
       "      <th></th>\n",
       "      <th></th>\n",
       "    </tr>\n",
       "  </thead>\n",
       "  <tbody>\n",
       "    <tr>\n",
       "      <th>203028200090_R05C01</th>\n",
       "      <td>09-00705</td>\n",
       "      <td>Bone marrow</td>\n",
       "      <td>Diagnosis</td>\n",
       "      <td>2030</td>\n",
       "      <td>163</td>\n",
       "      <td>BA2336</td>\n",
       "      <td>True</td>\n",
       "      <td>False</td>\n",
       "      <td>n</td>\n",
       "      <td>y</td>\n",
       "      <td>...</td>\n",
       "      <td>False</td>\n",
       "      <td>False</td>\n",
       "      <td>AML with mutated NPM1</td>\n",
       "      <td>AML with mutated NPM1</td>\n",
       "      <td>Bone Marrow Aspirate</td>\n",
       "      <td>1</td>\n",
       "      <td>y</td>\n",
       "      <td>Dead</td>\n",
       "      <td>94</td>\n",
       "      <td>NaN</td>\n",
       "    </tr>\n",
       "    <tr>\n",
       "      <th>202818860003_R02C01</th>\n",
       "      <td>10-00136</td>\n",
       "      <td>Bone marrow</td>\n",
       "      <td>Diagnosis</td>\n",
       "      <td>2551</td>\n",
       "      <td>174</td>\n",
       "      <td>BA2643</td>\n",
       "      <td>True</td>\n",
       "      <td>False</td>\n",
       "      <td>n</td>\n",
       "      <td>y</td>\n",
       "      <td>...</td>\n",
       "      <td>False</td>\n",
       "      <td>False</td>\n",
       "      <td>Acute myelomonocytic leukaemia</td>\n",
       "      <td>Acute myelomonocytic leukaemia</td>\n",
       "      <td>Leukapheresis</td>\n",
       "      <td>0</td>\n",
       "      <td>y</td>\n",
       "      <td>Dead</td>\n",
       "      <td>282.1</td>\n",
       "      <td>NaN</td>\n",
       "    </tr>\n",
       "    <tr>\n",
       "      <th>203693970001_R03C01</th>\n",
       "      <td>10-00507</td>\n",
       "      <td>Bone marrow</td>\n",
       "      <td>Diagnosis</td>\n",
       "      <td>2053</td>\n",
       "      <td>45</td>\n",
       "      <td>BA2673</td>\n",
       "      <td>True</td>\n",
       "      <td>False</td>\n",
       "      <td>n</td>\n",
       "      <td>y</td>\n",
       "      <td>...</td>\n",
       "      <td>False</td>\n",
       "      <td>False</td>\n",
       "      <td>AML with mutated NPM1</td>\n",
       "      <td>AML with mutated NPM1</td>\n",
       "      <td>Leukapheresis</td>\n",
       "      <td>0</td>\n",
       "      <td>n</td>\n",
       "      <td>Dead</td>\n",
       "      <td>112.3</td>\n",
       "      <td>NaN</td>\n",
       "    </tr>\n",
       "    <tr>\n",
       "      <th>203693970001_R01C01</th>\n",
       "      <td>10-00669</td>\n",
       "      <td>Bone marrow</td>\n",
       "      <td>Diagnosis</td>\n",
       "      <td>2476</td>\n",
       "      <td>17</td>\n",
       "      <td>BA2102</td>\n",
       "      <td>True</td>\n",
       "      <td>False</td>\n",
       "      <td>n</td>\n",
       "      <td>y</td>\n",
       "      <td>...</td>\n",
       "      <td>False</td>\n",
       "      <td>False</td>\n",
       "      <td>AML with mutated NPM1</td>\n",
       "      <td>AML with mutated NPM1</td>\n",
       "      <td>Bone Marrow Aspirate</td>\n",
       "      <td>0</td>\n",
       "      <td>y</td>\n",
       "      <td>Dead</td>\n",
       "      <td>58.8</td>\n",
       "      <td>NaN</td>\n",
       "    </tr>\n",
       "    <tr>\n",
       "      <th>203693970001_R05C01</th>\n",
       "      <td>13-00353</td>\n",
       "      <td>Bone marrow</td>\n",
       "      <td>Diagnosis</td>\n",
       "      <td>2429</td>\n",
       "      <td>1161</td>\n",
       "      <td>BA2446</td>\n",
       "      <td>True</td>\n",
       "      <td>False</td>\n",
       "      <td>n</td>\n",
       "      <td>y</td>\n",
       "      <td>...</td>\n",
       "      <td>True</td>\n",
       "      <td>True</td>\n",
       "      <td>Therapy-related myeloid neoplasms</td>\n",
       "      <td>Therapy-related myeloid neoplasms</td>\n",
       "      <td>Bone Marrow Aspirate</td>\n",
       "      <td>0</td>\n",
       "      <td>y</td>\n",
       "      <td>Dead</td>\n",
       "      <td>29.25</td>\n",
       "      <td>MLLT3-KMT2A</td>\n",
       "    </tr>\n",
       "    <tr>\n",
       "      <th>...</th>\n",
       "      <td>...</td>\n",
       "      <td>...</td>\n",
       "      <td>...</td>\n",
       "      <td>...</td>\n",
       "      <td>...</td>\n",
       "      <td>...</td>\n",
       "      <td>...</td>\n",
       "      <td>...</td>\n",
       "      <td>...</td>\n",
       "      <td>...</td>\n",
       "      <td>...</td>\n",
       "      <td>...</td>\n",
       "      <td>...</td>\n",
       "      <td>...</td>\n",
       "      <td>...</td>\n",
       "      <td>...</td>\n",
       "      <td>...</td>\n",
       "      <td>...</td>\n",
       "      <td>...</td>\n",
       "      <td>...</td>\n",
       "      <td>...</td>\n",
       "    </tr>\n",
       "    <tr>\n",
       "      <th>204339390070_R03C01</th>\n",
       "      <td>OSU54R</td>\n",
       "      <td>Bone marrow</td>\n",
       "      <td>Relapse</td>\n",
       "      <td>NaN</td>\n",
       "      <td>NaN</td>\n",
       "      <td>NaN</td>\n",
       "      <td>NaN</td>\n",
       "      <td>NaN</td>\n",
       "      <td>NaN</td>\n",
       "      <td>NaN</td>\n",
       "      <td>...</td>\n",
       "      <td>NaN</td>\n",
       "      <td>NaN</td>\n",
       "      <td>NaN</td>\n",
       "      <td>NaN</td>\n",
       "      <td>NaN</td>\n",
       "      <td>NaN</td>\n",
       "      <td>NaN</td>\n",
       "      <td>NaN</td>\n",
       "      <td>NaN</td>\n",
       "      <td>NaN</td>\n",
       "    </tr>\n",
       "    <tr>\n",
       "      <th>204339390070_R04C01</th>\n",
       "      <td>OSU40R</td>\n",
       "      <td>Bone marrow</td>\n",
       "      <td>Relapse</td>\n",
       "      <td>NaN</td>\n",
       "      <td>NaN</td>\n",
       "      <td>NaN</td>\n",
       "      <td>NaN</td>\n",
       "      <td>NaN</td>\n",
       "      <td>NaN</td>\n",
       "      <td>NaN</td>\n",
       "      <td>...</td>\n",
       "      <td>NaN</td>\n",
       "      <td>NaN</td>\n",
       "      <td>NaN</td>\n",
       "      <td>NaN</td>\n",
       "      <td>NaN</td>\n",
       "      <td>NaN</td>\n",
       "      <td>NaN</td>\n",
       "      <td>NaN</td>\n",
       "      <td>NaN</td>\n",
       "      <td>NaN</td>\n",
       "    </tr>\n",
       "    <tr>\n",
       "      <th>204339390070_R05C01</th>\n",
       "      <td>OSU116R</td>\n",
       "      <td>Bone marrow</td>\n",
       "      <td>Relapse</td>\n",
       "      <td>NaN</td>\n",
       "      <td>NaN</td>\n",
       "      <td>NaN</td>\n",
       "      <td>NaN</td>\n",
       "      <td>NaN</td>\n",
       "      <td>NaN</td>\n",
       "      <td>NaN</td>\n",
       "      <td>...</td>\n",
       "      <td>NaN</td>\n",
       "      <td>NaN</td>\n",
       "      <td>NaN</td>\n",
       "      <td>NaN</td>\n",
       "      <td>NaN</td>\n",
       "      <td>NaN</td>\n",
       "      <td>NaN</td>\n",
       "      <td>NaN</td>\n",
       "      <td>NaN</td>\n",
       "      <td>NaN</td>\n",
       "    </tr>\n",
       "    <tr>\n",
       "      <th>204339390070_R06C01</th>\n",
       "      <td>OSU33P</td>\n",
       "      <td>Bone marrow</td>\n",
       "      <td>Diagnosis</td>\n",
       "      <td>NaN</td>\n",
       "      <td>NaN</td>\n",
       "      <td>NaN</td>\n",
       "      <td>NaN</td>\n",
       "      <td>NaN</td>\n",
       "      <td>NaN</td>\n",
       "      <td>NaN</td>\n",
       "      <td>...</td>\n",
       "      <td>NaN</td>\n",
       "      <td>NaN</td>\n",
       "      <td>NaN</td>\n",
       "      <td>NaN</td>\n",
       "      <td>NaN</td>\n",
       "      <td>NaN</td>\n",
       "      <td>NaN</td>\n",
       "      <td>NaN</td>\n",
       "      <td>NaN</td>\n",
       "      <td>NaN</td>\n",
       "    </tr>\n",
       "    <tr>\n",
       "      <th>204339390070_R07C01</th>\n",
       "      <td>OSU141R</td>\n",
       "      <td>Bone marrow</td>\n",
       "      <td>Relapse</td>\n",
       "      <td>NaN</td>\n",
       "      <td>NaN</td>\n",
       "      <td>NaN</td>\n",
       "      <td>NaN</td>\n",
       "      <td>NaN</td>\n",
       "      <td>NaN</td>\n",
       "      <td>NaN</td>\n",
       "      <td>...</td>\n",
       "      <td>NaN</td>\n",
       "      <td>NaN</td>\n",
       "      <td>NaN</td>\n",
       "      <td>NaN</td>\n",
       "      <td>NaN</td>\n",
       "      <td>NaN</td>\n",
       "      <td>NaN</td>\n",
       "      <td>NaN</td>\n",
       "      <td>NaN</td>\n",
       "      <td>NaN</td>\n",
       "    </tr>\n",
       "  </tbody>\n",
       "</table>\n",
       "<p>316 rows × 52 columns</p>\n",
       "</div>"
      ],
      "text/plain": [
       "                    LLS_SampleID       tissue disease_state PatientID   \n",
       "Sample_ID                                                               \n",
       "203028200090_R05C01     09-00705  Bone marrow     Diagnosis      2030  \\\n",
       "202818860003_R02C01     10-00136  Bone marrow     Diagnosis      2551   \n",
       "203693970001_R03C01     10-00507  Bone marrow     Diagnosis      2053   \n",
       "203693970001_R01C01     10-00669  Bone marrow     Diagnosis      2476   \n",
       "203693970001_R05C01     13-00353  Bone marrow     Diagnosis      2429   \n",
       "...                          ...          ...           ...       ...   \n",
       "204339390070_R03C01       OSU54R  Bone marrow       Relapse       NaN   \n",
       "204339390070_R04C01       OSU40R  Bone marrow       Relapse       NaN   \n",
       "204339390070_R05C01      OSU116R  Bone marrow       Relapse       NaN   \n",
       "204339390070_R06C01       OSU33P  Bone marrow     Diagnosis       NaN   \n",
       "204339390070_R07C01      OSU141R  Bone marrow       Relapse       NaN   \n",
       "\n",
       "                    LLS_PatientID SampleID AnyGeneTrailsGene   \n",
       "Sample_ID                                                      \n",
       "203028200090_R05C01           163   BA2336              True  \\\n",
       "202818860003_R02C01           174   BA2643              True   \n",
       "203693970001_R03C01            45   BA2673              True   \n",
       "203693970001_R01C01            17   BA2102              True   \n",
       "203693970001_R05C01          1161   BA2446              True   \n",
       "...                           ...      ...               ...   \n",
       "204339390070_R03C01           NaN      NaN               NaN   \n",
       "204339390070_R04C01           NaN      NaN               NaN   \n",
       "204339390070_R05C01           NaN      NaN               NaN   \n",
       "204339390070_R06C01           NaN      NaN               NaN   \n",
       "204339390070_R07C01           NaN      NaN               NaN   \n",
       "\n",
       "                    BoneMarrowTransplant CEBPA_Biallelic CumulativeChemo  ...   \n",
       "Sample_ID                                                                 ...   \n",
       "203028200090_R05C01                False               n               y  ...  \\\n",
       "202818860003_R02C01                False               n               y  ...   \n",
       "203693970001_R03C01                False               n               y  ...   \n",
       "203693970001_R01C01                False               n               y  ...   \n",
       "203693970001_R05C01                False               n               y  ...   \n",
       "...                                  ...             ...             ...  ...   \n",
       "204339390070_R03C01                  NaN             NaN             NaN  ...   \n",
       "204339390070_R04C01                  NaN             NaN             NaN  ...   \n",
       "204339390070_R05C01                  NaN             NaN             NaN  ...   \n",
       "204339390070_R06C01                  NaN             NaN             NaN  ...   \n",
       "204339390070_R07C01                  NaN             NaN             NaN  ...   \n",
       "\n",
       "                    SerialRNAseq SomaticSample   \n",
       "Sample_ID                                        \n",
       "203028200090_R05C01        False         False  \\\n",
       "202818860003_R02C01        False         False   \n",
       "203693970001_R03C01        False         False   \n",
       "203693970001_R01C01        False         False   \n",
       "203693970001_R05C01         True          True   \n",
       "...                          ...           ...   \n",
       "204339390070_R03C01          NaN           NaN   \n",
       "204339390070_R04C01          NaN           NaN   \n",
       "204339390070_R05C01          NaN           NaN   \n",
       "204339390070_R06C01          NaN           NaN   \n",
       "204339390070_R07C01          NaN           NaN   \n",
       "\n",
       "                               SpecificDxAtAcquisition   \n",
       "Sample_ID                                                \n",
       "203028200090_R05C01              AML with mutated NPM1  \\\n",
       "202818860003_R02C01     Acute myelomonocytic leukaemia   \n",
       "203693970001_R03C01              AML with mutated NPM1   \n",
       "203693970001_R01C01              AML with mutated NPM1   \n",
       "203693970001_R05C01  Therapy-related myeloid neoplasms   \n",
       "...                                                ...   \n",
       "204339390070_R03C01                                NaN   \n",
       "204339390070_R04C01                                NaN   \n",
       "204339390070_R05C01                                NaN   \n",
       "204339390070_R06C01                                NaN   \n",
       "204339390070_R07C01                                NaN   \n",
       "\n",
       "                                 SpecificDxAtInclusion          SpecimenType   \n",
       "Sample_ID                                                                      \n",
       "203028200090_R05C01              AML with mutated NPM1  Bone Marrow Aspirate  \\\n",
       "202818860003_R02C01     Acute myelomonocytic leukaemia         Leukapheresis   \n",
       "203693970001_R03C01              AML with mutated NPM1         Leukapheresis   \n",
       "203693970001_R01C01              AML with mutated NPM1  Bone Marrow Aspirate   \n",
       "203693970001_R05C01  Therapy-related myeloid neoplasms  Bone Marrow Aspirate   \n",
       "...                                                ...                   ...   \n",
       "204339390070_R03C01                                NaN                   NaN   \n",
       "204339390070_R04C01                                NaN                   NaN   \n",
       "204339390070_R05C01                                NaN                   NaN   \n",
       "204339390070_R06C01                                NaN                   NaN   \n",
       "204339390070_R07C01                                NaN                   NaN   \n",
       "\n",
       "                    TimeOfCollectionRelativeToInclusion TotalDrug VitalStatus   \n",
       "Sample_ID                                                                       \n",
       "203028200090_R05C01                                   1         y        Dead  \\\n",
       "202818860003_R02C01                                   0         y        Dead   \n",
       "203693970001_R03C01                                   0         n        Dead   \n",
       "203693970001_R01C01                                   0         y        Dead   \n",
       "203693970001_R05C01                                   0         y        Dead   \n",
       "...                                                 ...       ...         ...   \n",
       "204339390070_R03C01                                 NaN       NaN         NaN   \n",
       "204339390070_R04C01                                 NaN       NaN         NaN   \n",
       "204339390070_R05C01                                 NaN       NaN         NaN   \n",
       "204339390070_R06C01                                 NaN       NaN         NaN   \n",
       "204339390070_R07C01                                 NaN       NaN         NaN   \n",
       "\n",
       "                    WBC_Count   WHO_Fusion  \n",
       "Sample_ID                                   \n",
       "203028200090_R05C01        94          NaN  \n",
       "202818860003_R02C01     282.1          NaN  \n",
       "203693970001_R03C01     112.3          NaN  \n",
       "203693970001_R01C01      58.8          NaN  \n",
       "203693970001_R05C01     29.25  MLLT3-KMT2A  \n",
       "...                       ...          ...  \n",
       "204339390070_R03C01       NaN          NaN  \n",
       "204339390070_R04C01       NaN          NaN  \n",
       "204339390070_R05C01       NaN          NaN  \n",
       "204339390070_R06C01       NaN          NaN  \n",
       "204339390070_R07C01       NaN          NaN  \n",
       "\n",
       "[316 rows x 52 columns]"
      ]
     },
     "execution_count": 10,
     "metadata": {},
     "output_type": "execute_result"
    }
   ],
   "source": [
    "labels_beataml"
   ]
  },
  {
   "cell_type": "code",
   "execution_count": 21,
   "metadata": {},
   "outputs": [
    {
     "data": {
      "text/html": [
       "<div>\n",
       "<style scoped>\n",
       "    .dataframe tbody tr th:only-of-type {\n",
       "        vertical-align: middle;\n",
       "    }\n",
       "\n",
       "    .dataframe tbody tr th {\n",
       "        vertical-align: top;\n",
       "    }\n",
       "\n",
       "    .dataframe thead th {\n",
       "        text-align: right;\n",
       "    }\n",
       "</style>\n",
       "<table border=\"1\" class=\"dataframe\">\n",
       "  <thead>\n",
       "    <tr style=\"text-align: right;\">\n",
       "      <th>IlmnID</th>\n",
       "      <th>Batch</th>\n",
       "      <th>cg00000109</th>\n",
       "      <th>cg00000236</th>\n",
       "      <th>cg00000292</th>\n",
       "      <th>cg00000363</th>\n",
       "      <th>cg00000622</th>\n",
       "      <th>cg00000658</th>\n",
       "      <th>cg00000714</th>\n",
       "      <th>cg00000721</th>\n",
       "      <th>cg00000734</th>\n",
       "      <th>...</th>\n",
       "      <th>ch.9.83519450F</th>\n",
       "      <th>ch.9.837340R</th>\n",
       "      <th>ch.9.84051654F</th>\n",
       "      <th>ch.9.84078312F</th>\n",
       "      <th>ch.9.86947500F</th>\n",
       "      <th>ch.9.88862796F</th>\n",
       "      <th>ch.9.90287778F</th>\n",
       "      <th>ch.9.90621653R</th>\n",
       "      <th>ch.9.93402636R</th>\n",
       "      <th>ch.9.98463211R</th>\n",
       "    </tr>\n",
       "  </thead>\n",
       "  <tbody>\n",
       "    <tr>\n",
       "      <th>202897270043_R01C01</th>\n",
       "      <td>GSE190931</td>\n",
       "      <td>0.935</td>\n",
       "      <td>0.893</td>\n",
       "      <td>0.880</td>\n",
       "      <td>0.361</td>\n",
       "      <td>0.012</td>\n",
       "      <td>0.897</td>\n",
       "      <td>0.360</td>\n",
       "      <td>0.958</td>\n",
       "      <td>0.075</td>\n",
       "      <td>...</td>\n",
       "      <td>0.022</td>\n",
       "      <td>0.039</td>\n",
       "      <td>0.045</td>\n",
       "      <td>0.038</td>\n",
       "      <td>0.044</td>\n",
       "      <td>0.039</td>\n",
       "      <td>0.047</td>\n",
       "      <td>0.032</td>\n",
       "      <td>0.028</td>\n",
       "      <td>0.031</td>\n",
       "    </tr>\n",
       "    <tr>\n",
       "      <th>202897270043_R03C01</th>\n",
       "      <td>GSE190931</td>\n",
       "      <td>0.967</td>\n",
       "      <td>0.882</td>\n",
       "      <td>0.885</td>\n",
       "      <td>0.510</td>\n",
       "      <td>0.013</td>\n",
       "      <td>0.868</td>\n",
       "      <td>0.384</td>\n",
       "      <td>0.968</td>\n",
       "      <td>0.070</td>\n",
       "      <td>...</td>\n",
       "      <td>0.021</td>\n",
       "      <td>0.055</td>\n",
       "      <td>0.028</td>\n",
       "      <td>0.045</td>\n",
       "      <td>0.039</td>\n",
       "      <td>0.032</td>\n",
       "      <td>0.023</td>\n",
       "      <td>0.025</td>\n",
       "      <td>0.023</td>\n",
       "      <td>0.025</td>\n",
       "    </tr>\n",
       "    <tr>\n",
       "      <th>202897270043_R04C01</th>\n",
       "      <td>GSE190931</td>\n",
       "      <td>0.880</td>\n",
       "      <td>0.938</td>\n",
       "      <td>0.751</td>\n",
       "      <td>0.636</td>\n",
       "      <td>0.015</td>\n",
       "      <td>0.823</td>\n",
       "      <td>0.433</td>\n",
       "      <td>0.921</td>\n",
       "      <td>0.073</td>\n",
       "      <td>...</td>\n",
       "      <td>0.031</td>\n",
       "      <td>0.055</td>\n",
       "      <td>0.032</td>\n",
       "      <td>0.088</td>\n",
       "      <td>0.040</td>\n",
       "      <td>0.056</td>\n",
       "      <td>0.038</td>\n",
       "      <td>0.035</td>\n",
       "      <td>0.031</td>\n",
       "      <td>0.031</td>\n",
       "    </tr>\n",
       "    <tr>\n",
       "      <th>202897270043_R05C01</th>\n",
       "      <td>GSE190931</td>\n",
       "      <td>0.874</td>\n",
       "      <td>0.651</td>\n",
       "      <td>0.326</td>\n",
       "      <td>0.133</td>\n",
       "      <td>0.015</td>\n",
       "      <td>0.870</td>\n",
       "      <td>0.107</td>\n",
       "      <td>0.755</td>\n",
       "      <td>0.087</td>\n",
       "      <td>...</td>\n",
       "      <td>0.048</td>\n",
       "      <td>0.295</td>\n",
       "      <td>0.034</td>\n",
       "      <td>0.121</td>\n",
       "      <td>0.046</td>\n",
       "      <td>0.047</td>\n",
       "      <td>0.046</td>\n",
       "      <td>0.034</td>\n",
       "      <td>0.037</td>\n",
       "      <td>0.065</td>\n",
       "    </tr>\n",
       "    <tr>\n",
       "      <th>202897270043_R06C01</th>\n",
       "      <td>GSE190931</td>\n",
       "      <td>0.926</td>\n",
       "      <td>0.779</td>\n",
       "      <td>0.707</td>\n",
       "      <td>0.166</td>\n",
       "      <td>0.013</td>\n",
       "      <td>0.867</td>\n",
       "      <td>0.244</td>\n",
       "      <td>0.959</td>\n",
       "      <td>0.076</td>\n",
       "      <td>...</td>\n",
       "      <td>0.025</td>\n",
       "      <td>0.061</td>\n",
       "      <td>0.041</td>\n",
       "      <td>0.030</td>\n",
       "      <td>0.039</td>\n",
       "      <td>0.049</td>\n",
       "      <td>0.029</td>\n",
       "      <td>0.029</td>\n",
       "      <td>0.027</td>\n",
       "      <td>0.036</td>\n",
       "    </tr>\n",
       "    <tr>\n",
       "      <th>...</th>\n",
       "      <td>...</td>\n",
       "      <td>...</td>\n",
       "      <td>...</td>\n",
       "      <td>...</td>\n",
       "      <td>...</td>\n",
       "      <td>...</td>\n",
       "      <td>...</td>\n",
       "      <td>...</td>\n",
       "      <td>...</td>\n",
       "      <td>...</td>\n",
       "      <td>...</td>\n",
       "      <td>...</td>\n",
       "      <td>...</td>\n",
       "      <td>...</td>\n",
       "      <td>...</td>\n",
       "      <td>...</td>\n",
       "      <td>...</td>\n",
       "      <td>...</td>\n",
       "      <td>...</td>\n",
       "      <td>...</td>\n",
       "      <td>...</td>\n",
       "    </tr>\n",
       "    <tr>\n",
       "      <th>202915410140_R03C01</th>\n",
       "      <td>GSE190931</td>\n",
       "      <td>0.952</td>\n",
       "      <td>0.860</td>\n",
       "      <td>0.824</td>\n",
       "      <td>0.245</td>\n",
       "      <td>0.015</td>\n",
       "      <td>0.867</td>\n",
       "      <td>0.347</td>\n",
       "      <td>0.965</td>\n",
       "      <td>0.064</td>\n",
       "      <td>...</td>\n",
       "      <td>0.022</td>\n",
       "      <td>0.049</td>\n",
       "      <td>0.030</td>\n",
       "      <td>0.026</td>\n",
       "      <td>0.035</td>\n",
       "      <td>0.033</td>\n",
       "      <td>0.037</td>\n",
       "      <td>0.030</td>\n",
       "      <td>0.026</td>\n",
       "      <td>0.030</td>\n",
       "    </tr>\n",
       "    <tr>\n",
       "      <th>202915410140_R04C01</th>\n",
       "      <td>GSE190931</td>\n",
       "      <td>0.929</td>\n",
       "      <td>0.956</td>\n",
       "      <td>0.806</td>\n",
       "      <td>0.609</td>\n",
       "      <td>0.014</td>\n",
       "      <td>0.877</td>\n",
       "      <td>0.116</td>\n",
       "      <td>0.962</td>\n",
       "      <td>0.059</td>\n",
       "      <td>...</td>\n",
       "      <td>0.025</td>\n",
       "      <td>0.054</td>\n",
       "      <td>0.033</td>\n",
       "      <td>0.033</td>\n",
       "      <td>0.037</td>\n",
       "      <td>0.030</td>\n",
       "      <td>0.038</td>\n",
       "      <td>0.025</td>\n",
       "      <td>0.021</td>\n",
       "      <td>0.028</td>\n",
       "    </tr>\n",
       "    <tr>\n",
       "      <th>202915410140_R05C01</th>\n",
       "      <td>GSE190931</td>\n",
       "      <td>0.940</td>\n",
       "      <td>0.951</td>\n",
       "      <td>0.769</td>\n",
       "      <td>0.687</td>\n",
       "      <td>0.015</td>\n",
       "      <td>0.862</td>\n",
       "      <td>0.251</td>\n",
       "      <td>0.961</td>\n",
       "      <td>0.066</td>\n",
       "      <td>...</td>\n",
       "      <td>0.024</td>\n",
       "      <td>0.039</td>\n",
       "      <td>0.029</td>\n",
       "      <td>0.029</td>\n",
       "      <td>0.041</td>\n",
       "      <td>0.029</td>\n",
       "      <td>0.036</td>\n",
       "      <td>0.030</td>\n",
       "      <td>0.026</td>\n",
       "      <td>0.029</td>\n",
       "    </tr>\n",
       "    <tr>\n",
       "      <th>202915410140_R06C01</th>\n",
       "      <td>GSE190931</td>\n",
       "      <td>0.936</td>\n",
       "      <td>0.836</td>\n",
       "      <td>0.828</td>\n",
       "      <td>0.204</td>\n",
       "      <td>0.013</td>\n",
       "      <td>0.857</td>\n",
       "      <td>0.324</td>\n",
       "      <td>0.967</td>\n",
       "      <td>0.065</td>\n",
       "      <td>...</td>\n",
       "      <td>0.022</td>\n",
       "      <td>0.032</td>\n",
       "      <td>0.031</td>\n",
       "      <td>0.032</td>\n",
       "      <td>0.037</td>\n",
       "      <td>0.026</td>\n",
       "      <td>0.029</td>\n",
       "      <td>0.029</td>\n",
       "      <td>0.024</td>\n",
       "      <td>0.028</td>\n",
       "    </tr>\n",
       "    <tr>\n",
       "      <th>202915410140_R07C01</th>\n",
       "      <td>GSE190931</td>\n",
       "      <td>0.946</td>\n",
       "      <td>0.949</td>\n",
       "      <td>0.884</td>\n",
       "      <td>0.778</td>\n",
       "      <td>0.013</td>\n",
       "      <td>0.882</td>\n",
       "      <td>0.390</td>\n",
       "      <td>0.961</td>\n",
       "      <td>0.069</td>\n",
       "      <td>...</td>\n",
       "      <td>0.024</td>\n",
       "      <td>0.049</td>\n",
       "      <td>0.025</td>\n",
       "      <td>0.034</td>\n",
       "      <td>0.041</td>\n",
       "      <td>0.030</td>\n",
       "      <td>0.021</td>\n",
       "      <td>0.032</td>\n",
       "      <td>0.025</td>\n",
       "      <td>0.031</td>\n",
       "    </tr>\n",
       "  </tbody>\n",
       "</table>\n",
       "<p>581 rows × 333249 columns</p>\n",
       "</div>"
      ],
      "text/plain": [
       "IlmnID                   Batch  cg00000109  cg00000236  cg00000292   \n",
       "202897270043_R01C01  GSE190931       0.935       0.893       0.880  \\\n",
       "202897270043_R03C01  GSE190931       0.967       0.882       0.885   \n",
       "202897270043_R04C01  GSE190931       0.880       0.938       0.751   \n",
       "202897270043_R05C01  GSE190931       0.874       0.651       0.326   \n",
       "202897270043_R06C01  GSE190931       0.926       0.779       0.707   \n",
       "...                        ...         ...         ...         ...   \n",
       "202915410140_R03C01  GSE190931       0.952       0.860       0.824   \n",
       "202915410140_R04C01  GSE190931       0.929       0.956       0.806   \n",
       "202915410140_R05C01  GSE190931       0.940       0.951       0.769   \n",
       "202915410140_R06C01  GSE190931       0.936       0.836       0.828   \n",
       "202915410140_R07C01  GSE190931       0.946       0.949       0.884   \n",
       "\n",
       "IlmnID               cg00000363  cg00000622  cg00000658  cg00000714   \n",
       "202897270043_R01C01       0.361       0.012       0.897       0.360  \\\n",
       "202897270043_R03C01       0.510       0.013       0.868       0.384   \n",
       "202897270043_R04C01       0.636       0.015       0.823       0.433   \n",
       "202897270043_R05C01       0.133       0.015       0.870       0.107   \n",
       "202897270043_R06C01       0.166       0.013       0.867       0.244   \n",
       "...                         ...         ...         ...         ...   \n",
       "202915410140_R03C01       0.245       0.015       0.867       0.347   \n",
       "202915410140_R04C01       0.609       0.014       0.877       0.116   \n",
       "202915410140_R05C01       0.687       0.015       0.862       0.251   \n",
       "202915410140_R06C01       0.204       0.013       0.857       0.324   \n",
       "202915410140_R07C01       0.778       0.013       0.882       0.390   \n",
       "\n",
       "IlmnID               cg00000721  cg00000734  ...  ch.9.83519450F   \n",
       "202897270043_R01C01       0.958       0.075  ...           0.022  \\\n",
       "202897270043_R03C01       0.968       0.070  ...           0.021   \n",
       "202897270043_R04C01       0.921       0.073  ...           0.031   \n",
       "202897270043_R05C01       0.755       0.087  ...           0.048   \n",
       "202897270043_R06C01       0.959       0.076  ...           0.025   \n",
       "...                         ...         ...  ...             ...   \n",
       "202915410140_R03C01       0.965       0.064  ...           0.022   \n",
       "202915410140_R04C01       0.962       0.059  ...           0.025   \n",
       "202915410140_R05C01       0.961       0.066  ...           0.024   \n",
       "202915410140_R06C01       0.967       0.065  ...           0.022   \n",
       "202915410140_R07C01       0.961       0.069  ...           0.024   \n",
       "\n",
       "IlmnID               ch.9.837340R  ch.9.84051654F  ch.9.84078312F   \n",
       "202897270043_R01C01         0.039           0.045           0.038  \\\n",
       "202897270043_R03C01         0.055           0.028           0.045   \n",
       "202897270043_R04C01         0.055           0.032           0.088   \n",
       "202897270043_R05C01         0.295           0.034           0.121   \n",
       "202897270043_R06C01         0.061           0.041           0.030   \n",
       "...                           ...             ...             ...   \n",
       "202915410140_R03C01         0.049           0.030           0.026   \n",
       "202915410140_R04C01         0.054           0.033           0.033   \n",
       "202915410140_R05C01         0.039           0.029           0.029   \n",
       "202915410140_R06C01         0.032           0.031           0.032   \n",
       "202915410140_R07C01         0.049           0.025           0.034   \n",
       "\n",
       "IlmnID               ch.9.86947500F  ch.9.88862796F  ch.9.90287778F   \n",
       "202897270043_R01C01           0.044           0.039           0.047  \\\n",
       "202897270043_R03C01           0.039           0.032           0.023   \n",
       "202897270043_R04C01           0.040           0.056           0.038   \n",
       "202897270043_R05C01           0.046           0.047           0.046   \n",
       "202897270043_R06C01           0.039           0.049           0.029   \n",
       "...                             ...             ...             ...   \n",
       "202915410140_R03C01           0.035           0.033           0.037   \n",
       "202915410140_R04C01           0.037           0.030           0.038   \n",
       "202915410140_R05C01           0.041           0.029           0.036   \n",
       "202915410140_R06C01           0.037           0.026           0.029   \n",
       "202915410140_R07C01           0.041           0.030           0.021   \n",
       "\n",
       "IlmnID               ch.9.90621653R  ch.9.93402636R  ch.9.98463211R  \n",
       "202897270043_R01C01           0.032           0.028           0.031  \n",
       "202897270043_R03C01           0.025           0.023           0.025  \n",
       "202897270043_R04C01           0.035           0.031           0.031  \n",
       "202897270043_R05C01           0.034           0.037           0.065  \n",
       "202897270043_R06C01           0.029           0.027           0.036  \n",
       "...                             ...             ...             ...  \n",
       "202915410140_R03C01           0.030           0.026           0.030  \n",
       "202915410140_R04C01           0.025           0.021           0.028  \n",
       "202915410140_R05C01           0.030           0.026           0.029  \n",
       "202915410140_R06C01           0.029           0.024           0.028  \n",
       "202915410140_R07C01           0.032           0.025           0.031  \n",
       "\n",
       "[581 rows x 333249 columns]"
      ]
     },
     "execution_count": 21,
     "metadata": {},
     "output_type": "execute_result"
    }
   ],
   "source": [
    "df_methyl[df_methyl['Batch'] == '']"
   ]
  },
  {
   "cell_type": "code",
   "execution_count": 5,
   "metadata": {},
   "outputs": [],
   "source": [
    "import pandas as pd\n",
    "\n",
    "# Call functions to merge, index and clean clinical data files\n",
    "labels_aml02        = clean_aml02     (merge_index_aml02())\n",
    "labels_aml08        = clean_aml08     (merge_index_aml08())\n",
    "labels_aml05        = clean_aml05     (merge_index_aml05())\n",
    "labels_cog          = clean_cog       (merge_index_cog())\n",
    "labels_beataml      = clean_beataml   (merge_index_beataml())\n",
    "labels_amltcga      = clean_amltcga   (merge_index_amltcga())\n",
    "labels_nordic_all   = clean_nordic_all(merge_index_nordic_all())\n",
    "labels_mds_taml     = clean_mds_taml  (merge_index_mds_taml())\n",
    "labels_all_graal    = clean_all_graal (merge_index_all_graal())\n",
    "labels_target_all   = clean_target_all(merge_index_target_all())\n",
    "\n",
    "\n",
    "# Combine all clinical data labels into one dataframe\n",
    "labels_combined = pd.concat([labels_aml02, labels_aml08, labels_aml05,\n",
    "                        labels_cog, labels_beataml, labels_amltcga,\n",
    "                        labels_nordic_all, labels_mds_taml,\n",
    "                        labels_all_graal,labels_target_all], axis=0, join='outer')\n"
   ]
  },
  {
   "cell_type": "code",
   "execution_count": 6,
   "metadata": {},
   "outputs": [],
   "source": [
    "\n",
    "# Remove samples that are not in the methyl dataset\n",
    "df = labels_combined.loc[labels_combined.index.isin(df_methyl.index)]\n",
    "\n",
    "# Label control samples from the AML0531 clinical trial (GSE124413) as 'Bone Marrow Normal'\n",
    "df_ = label_control_samples(df_methyl, df)\n"
   ]
  },
  {
   "cell_type": "code",
   "execution_count": 7,
   "metadata": {},
   "outputs": [],
   "source": [
    "df2 = df_methyl[['Batch']].join(df_, how='inner')"
   ]
  },
  {
   "cell_type": "code",
   "execution_count": 10,
   "metadata": {},
   "outputs": [
    {
     "data": {
      "text/plain": [
       "Index(['b93cb62a-a7dc-406d-8482-6b51a92ea3c3_noid',\n",
       "       'fb4c9803-3690-4f6a-9402-72a4f36d64d1_noid',\n",
       "       '2fcda6a9-813b-41b2-aae4-ca42c9986287_noid',\n",
       "       'ada38f3e-8020-4394-9e7c-50d06dd04769_noid',\n",
       "       'e78ff499-037b-450a-ac04-6fb3a9e124a4_noid',\n",
       "       '9aedadd8-98e2-4cff-b1a3-64506bf1d95c_noid',\n",
       "       'eefba73e-bf2c-4cac-bd29-8ab3d392aa5b_noid',\n",
       "       '7b4ce492-ff40-4bf1-b3e8-75ff83e8746d_noid',\n",
       "       '865cda60-ec30-4562-b681-0e90737a97ca_noid',\n",
       "       '7cf64c74-47e6-4913-b91b-25198e36b7c8_noid',\n",
       "       ...\n",
       "       '92c7e4d6-eb53-46c5-9721-5edccd60bcc9_noid',\n",
       "       '66392380-a9fe-45b7-9191-60993f3f77f4_noid',\n",
       "       '478f29b1-6604-4e75-a492-47c384799f44_noid',\n",
       "       'e49a1768-bf1e-49c0-bca3-4e076928281c_noid',\n",
       "       'c9943335-86a8-4286-891c-c2331d75dc0d_noid',\n",
       "       'd3988699-70d6-43e1-b84b-9e38b4d2d2b1_noid',\n",
       "       '898a092e-89fe-4010-afea-14c605f99481_noid',\n",
       "       'c9b92f8f-4599-47d1-9d12-31e42166a091_noid',\n",
       "       'e08f84fe-0013-4734-9966-cd734e6fedc5_noid',\n",
       "       '3997c824-8b85-4e1d-b4b1-d32c26155296_noid'],\n",
       "      dtype='object', name='case_id', length=194)"
      ]
     },
     "execution_count": 10,
     "metadata": {},
     "output_type": "execute_result"
    }
   ],
   "source": [
    "labels_amltcga.index"
   ]
  },
  {
   "cell_type": "code",
   "execution_count": 9,
   "metadata": {},
   "outputs": [
    {
     "data": {
      "text/plain": [
       "Index(['202897270043_R01C01', '202897270043_R03C01', '202897270043_R04C01',\n",
       "       '202897270043_R05C01', '202897270043_R06C01', '202897270043_R07C01',\n",
       "       '202897270043_R08C01', '202897270045_R03C01', '202897270045_R04C01',\n",
       "       '202897270045_R06C01',\n",
       "       ...\n",
       "       '201233760140_R05C01', '201233760140_R06C01', '201233760140_R07C01',\n",
       "       '201233760140_R08C01', '203724130020_R01C01', '203724130020_R02C01',\n",
       "       '203724130020_R03C01', '203724130020_R04C01', '203724130020_R05C01',\n",
       "       '203724130020_R06C01'],\n",
       "      dtype='object', length=3357)"
      ]
     },
     "execution_count": 9,
     "metadata": {},
     "output_type": "execute_result"
    }
   ],
   "source": [
    "df_methyl.index"
   ]
  },
  {
   "cell_type": "code",
   "execution_count": 8,
   "metadata": {},
   "outputs": [
    {
     "data": {
      "text/plain": [
       "(3136, 2348)"
      ]
     },
     "execution_count": 8,
     "metadata": {},
     "output_type": "execute_result"
    }
   ],
   "source": [
    "df2.shape"
   ]
  },
  {
   "cell_type": "code",
   "execution_count": 11,
   "metadata": {},
   "outputs": [
    {
     "data": {
      "text/plain": [
       "Batch\n",
       "GSE49031          933\n",
       "GSE190931         581\n",
       "GSE124413         495\n",
       "GSE159907         316\n",
       "GDC_TARGET-AML    314\n",
       "GDC_TCGA-AML      194\n",
       "GSE152710         166\n",
       "GSE147667         153\n",
       "GDC_TARGET-ALL    141\n",
       "GSE133986          64\n",
       "Name: count, dtype: int64"
      ]
     },
     "execution_count": 11,
     "metadata": {},
     "output_type": "execute_result"
    }
   ],
   "source": [
    "df_methyl['Batch'].value_counts(dropna=False)"
   ]
  },
  {
   "cell_type": "code",
   "execution_count": 12,
   "metadata": {},
   "outputs": [
    {
     "data": {
      "text/plain": [
       "Batch\n",
       "GSE49031          933\n",
       "GSE190931         581\n",
       "GSE124413         495\n",
       "GSE159907         316\n",
       "GDC_TARGET-AML    287\n",
       "GSE152710         166\n",
       "GSE147667         153\n",
       "GDC_TARGET-ALL    141\n",
       "GSE133986          64\n",
       "Name: count, dtype: int64"
      ]
     },
     "execution_count": 12,
     "metadata": {},
     "output_type": "execute_result"
    }
   ],
   "source": [
    "df2['Batch'].value_counts(dropna=False)"
   ]
  },
  {
   "cell_type": "code",
   "execution_count": 25,
   "metadata": {},
   "outputs": [
    {
     "data": {
      "text/plain": [
       "((3357, 333249), (3136, 2149))"
      ]
     },
     "execution_count": 25,
     "metadata": {},
     "output_type": "execute_result"
    }
   ],
   "source": [
    "df_methyl.shape, df_.shape"
   ]
  },
  {
   "cell_type": "code",
   "execution_count": 20,
   "metadata": {},
   "outputs": [
    {
     "data": {
      "text/plain": [
       "221"
      ]
     },
     "execution_count": 20,
     "metadata": {},
     "output_type": "execute_result"
    }
   ],
   "source": [
    "df_methyl.shape[0] - df_.shape[0]"
   ]
  },
  {
   "cell_type": "code",
   "execution_count": 11,
   "metadata": {},
   "outputs": [
    {
     "data": {
      "text/plain": [
       "Clinical Trial\n",
       "NOPHO ALL92-2000            933\n",
       "AAML0531                    628\n",
       "AAML1031                    581\n",
       "Beat AML Consortium         316\n",
       "CETLAM SMD-09 (MDS-tAML)    166\n",
       "French GRAALL 2003–2005     153\n",
       "TARGET ALL                  141\n",
       "AAML03P1                     72\n",
       "Japanese AML05               64\n",
       "CCG2961                      41\n",
       "NaN                          41\n",
       "Name: count, dtype: int64"
      ]
     },
     "execution_count": 11,
     "metadata": {},
     "output_type": "execute_result"
    }
   ],
   "source": [
    "df_['Clinical Trial'].value_counts(dropna=False)"
   ]
  },
  {
   "cell_type": "code",
   "execution_count": 14,
   "metadata": {},
   "outputs": [
    {
     "data": {
      "text/plain": [
       "Sample Type\n",
       "Diagnosis                  73\n",
       "3-5M                       24\n",
       "> or equal to 12M          20\n",
       "6-11M                      19\n",
       "<3M                        17\n",
       "Control (Healthy Donor)    10\n",
       "Post Transplant             3\n",
       "Name: count, dtype: int64"
      ]
     },
     "execution_count": 14,
     "metadata": {},
     "output_type": "execute_result"
    }
   ],
   "source": [
    "labels_mds_taml['Sample Type'].value_counts(dropna=False)    "
   ]
  },
  {
   "cell_type": "code",
   "execution_count": 9,
   "metadata": {},
   "outputs": [
    {
     "data": {
      "text/plain": [
       "Sample Type\n",
       "Diagnosis                                            2032\n",
       "Relapse                                               252\n",
       "Bone Marrow Normal                                    145\n",
       "Likely Diagnosis                                      141\n",
       "Unknown (TARGET-ALL)                                  141\n",
       "Primary Blood Derived Cancer - Bone Marrow             90\n",
       "normal bone marrow                                     82\n",
       "Recurrent Blood Derived Cancer - Bone Marrow           58\n",
       "normal CD3+ cells                                      25\n",
       "normal CD19+ cells                                     25\n",
       "3-5M                                                   24\n",
       "Primary Blood Derived Cancer - Peripheral Blood        22\n",
       "> or equal to 12M                                      20\n",
       "6-11M                                                  19\n",
       "<3M                                                    17\n",
       "Healthy Thymus                                         12\n",
       "Control (Healthy Donor)                                10\n",
       "Blood Derived Normal                                    7\n",
       "Recurrent Blood Derived Cancer - Peripheral Blood       6\n",
       "normal peripheral blood                                 4\n",
       "Post Transplant                                         3\n",
       "pooled normal CD34+ cells                               1\n",
       "Name: count, dtype: int64"
      ]
     },
     "execution_count": 9,
     "metadata": {},
     "output_type": "execute_result"
    }
   ],
   "source": [
    "df_['Sample Type'].value_counts(dropna=False)"
   ]
  },
  {
   "cell_type": "code",
   "execution_count": 16,
   "metadata": {},
   "outputs": [
    {
     "data": {
      "text/plain": [
       "Batch\n",
       "GSE49031          933\n",
       "GSE190931         581\n",
       "GSE124413         495\n",
       "GSE159907         316\n",
       "GDC_TARGET-AML    314\n",
       "GDC_TCGA-AML      194\n",
       "GSE152710         166\n",
       "GSE147667         153\n",
       "GDC_TARGET-ALL    141\n",
       "GSE133986          64\n",
       "Name: count, dtype: int64"
      ]
     },
     "execution_count": 16,
     "metadata": {},
     "output_type": "execute_result"
    }
   ],
   "source": [
    "df_methyl['Batch'].value_counts(dropna=False)"
   ]
  },
  {
   "cell_type": "code",
   "execution_count": 15,
   "metadata": {},
   "outputs": [
    {
     "data": {
      "text/plain": [
       "Clinical Trial\n",
       "NOPHO ALL92-2000            933\n",
       "AAML0531                    628\n",
       "AAML1031                    581\n",
       "Beat AML Consortium         316\n",
       "CETLAM SMD-09 (MDS-tAML)    166\n",
       "French GRAALL 2003–2005     153\n",
       "TARGET ALL                  141\n",
       "AAML03P1                     72\n",
       "Japanese AML05               64\n",
       "CCG2961                      41\n",
       "NaN                          41\n",
       "Name: count, dtype: int64"
      ]
     },
     "execution_count": 15,
     "metadata": {},
     "output_type": "execute_result"
    }
   ],
   "source": [
    "df_['Clinical Trial'].value_counts(dropna=False)"
   ]
  },
  {
   "cell_type": "code",
   "execution_count": 9,
   "metadata": {},
   "outputs": [],
   "source": [
    "labels_cog.to_excel(output_path+'labels_cog.xlsx')"
   ]
  },
  {
   "cell_type": "code",
   "execution_count": 11,
   "metadata": {},
   "outputs": [],
   "source": [
    "labels_beataml.to_excel(output_path+'labels_beataml.xlsx')"
   ]
  },
  {
   "cell_type": "code",
   "execution_count": 13,
   "metadata": {},
   "outputs": [],
   "source": [
    "labels_amltcga.to_excel(output_path+'labels_amltcga.xlsx')"
   ]
  },
  {
   "cell_type": "code",
   "execution_count": 14,
   "metadata": {},
   "outputs": [],
   "source": [
    "labels_nordic_all.to_excel(output_path+'labels_nordic_all.xlsx')"
   ]
  },
  {
   "cell_type": "code",
   "execution_count": 15,
   "metadata": {},
   "outputs": [],
   "source": [
    "labels_mds_taml.to_excel(output_path+'labels_mds_taml.xlsx')"
   ]
  },
  {
   "cell_type": "code",
   "execution_count": 16,
   "metadata": {},
   "outputs": [],
   "source": [
    "labels_tcell_all_graal.to_excel(output_path+'labels_tcell_all_graal.xlsx')"
   ]
  },
  {
   "attachments": {},
   "cell_type": "markdown",
   "metadata": {},
   "source": [
    "## MDS_tAML"
   ]
  },
  {
   "cell_type": "code",
   "execution_count": 437,
   "metadata": {},
   "outputs": [],
   "source": [
    "meta = pd.read_pickle('../Data/Raw_Data/Methyl_Array_450k/GSE152710/sample_sheet_meta_data.pkl').iloc[:,:-1].set_index('Sample_ID')"
   ]
  },
  {
   "attachments": {},
   "cell_type": "markdown",
   "metadata": {},
   "source": [
    "## Nordic ALL"
   ]
  },
  {
   "cell_type": "code",
   "execution_count": 188,
   "metadata": {},
   "outputs": [],
   "source": [
    "# Load meta data from GSE49031\n",
    "meta = pd.read_pickle('../Data/Raw_Data/Methyl_Array_450k/GSE49031/sample_sheet_meta_data.pkl')\\\n",
    "                        .iloc[:,:-1].set_index('Sample_ID')\n",
    "\n",
    "# split meta `title` column by the last word\n",
    "meta['title'] = meta['title'].str.split().str[-1]\n",
    "\n",
    "# Set index to `title`\n",
    "meta = meta.reset_index().set_index('title')\n",
    "\n",
    "# Load clinical data from paper\n",
    "paper = pd.read_excel('../Data/Raw_Data/Clinical_Data/Nordic_ALL/PMID_25729447_Supp_Clinical_Data.xlsx',\n",
    "                      index_col=0,header=2, sheet_name='Table S7- Verification summary')[['Karyotyping at diagnosisc']]\n",
    "\n",
    "# Join meta and paper\n",
    "meta = meta.join(paper)\n",
    "\n",
    "# Reset index to `Sample_ID`\n",
    "meta = meta.reset_index().set_index('Sample_ID')\n",
    "\n"
   ]
  },
  {
   "attachments": {},
   "cell_type": "markdown",
   "metadata": {},
   "source": [
    "## Tcell_ALL_GRAAL"
   ]
  },
  {
   "cell_type": "code",
   "execution_count": 430,
   "metadata": {},
   "outputs": [],
   "source": [
    "meta = pd.read_pickle('../Data/Raw_Data/Methyl_Array_EPIC/GSE147667/sample_sheet_meta_data.pkl').iloc[:,:-1].set_index('Sample_ID')"
   ]
  },
  {
   "attachments": {},
   "cell_type": "markdown",
   "metadata": {},
   "source": [
    "## GDC TARGET ALL"
   ]
  },
  {
   "cell_type": "code",
   "execution_count": 464,
   "metadata": {},
   "outputs": [],
   "source": [
    "# Load clinical data from GDC\n",
    "json_clinical_demographic = pd.read_json('../Data/Raw_Data/Methyl_Array_EPIC/GDC_TARGET-ALL/clinical.cases_selection.2023-05-12.json',\n",
    "                            orient='values')\n",
    "\n",
    "# flatten json\n",
    "json_clinical_demographic = pd.json_normalize(json_clinical_demographic['demographic'].dropna())\n",
    "\n",
    "# extract the second to last term from the `submitter_id` column\n",
    "json_clinical_demographic['submitter_id'] = json_clinical_demographic['submitter_id'].str.split('-').str[-1]\n",
    "\n",
    "# extract the first term from the `submitter_id` column by `_`\n",
    "json_clinical_demographic['submitter_id'] = json_clinical_demographic['submitter_id'].str.split('_').str[0]\n",
    "\n",
    "# change `submitter_id` column name to `Patient_ID`\n",
    "json_clinical_demographic = json_clinical_demographic.rename(columns={'submitter_id':'Patient_ID'})\n",
    "\n",
    "# Set index to `submitter_id`\n",
    "json_clinical_demographic = json_clinical_demographic.set_index('demographic_id')['Patient_ID']\n",
    "\n",
    "# Load clinical data from GDC\n",
    "clinical_tsv = pd.read_csv('../Data/Raw_Data/Methyl_Array_EPIC/GDC_TARGET-ALL/clinical.tsv', \n",
    "                            sep='\\t', index_col=0)\n",
    "\n",
    "# Extract the last word from the `case_submitter_id` column by splitting by `-`\n",
    "clinical_tsv['Patient_ID'] = clinical_tsv['case_submitter_id'].str.split('-').str[-1]\n",
    "\n",
    "clinical_tsv = clinical_tsv['Patient_ID']\n",
    "\n",
    "# concat clinical_tsv and json_clinical_demographic\n",
    "clinical = pd.concat([clinical_tsv, json_clinical_demographic], axis=0, join='outer')\n",
    "\n",
    "# Set index to `Patient_ID`\n",
    "clinical = clinical.reset_index().set_index('Patient_ID')\n",
    "\n",
    "# Load clinical data from paper\n",
    "paper = pd.read_excel('../Data/Raw_Data/Clinical_Data/ALL_P3_TARGET/41586_2018_436_MOESM4_ESM.xlsx',\n",
    "                      sheet_name='ST2 Cohort', index_col=0)\n",
    "\n",
    "# # Join clinical data from paper and GDC\n",
    "labels_alltarget = clinical.join(paper, how='right')"
   ]
  },
  {
   "cell_type": "code",
   "execution_count": 449,
   "metadata": {},
   "outputs": [],
   "source": [
    "meta = pd.read_pickle('../Data/Raw_Data/Methyl_Array_EPIC/GDC_TARGET-ALL/sample_sheet_meta_data.pkl').set_index('Sentrix_ID')"
   ]
  },
  {
   "attachments": {},
   "cell_type": "markdown",
   "metadata": {},
   "source": [
    "## TCGA AML"
   ]
  },
  {
   "cell_type": "code",
   "execution_count": 105,
   "metadata": {},
   "outputs": [],
   "source": [
    "def merge_index_amltcga():\n",
    "\n",
    "    # load clinical data from GDC\n",
    "    clinical_tsv = pd.read_csv('../Data/Raw_Data/Methyl_Array_450k/GDC_TCGA-AML/clinical.tsv', \n",
    "                    sep='\\t', index_col=0)[['case_submitter_id']].drop_duplicates()\n",
    "\n",
    "    # extract last 4 digits from case_id to get TCGA Patient ID\n",
    "    clinical_tsv['TCGA Patient ID'] = clinical_tsv['case_submitter_id'].str[-4:]\n",
    "\n",
    "    # set index to TCGA Patient ID\n",
    "    clinical_tsv = clinical_tsv.reset_index().set_index('TCGA Patient ID').sort_index()\n",
    "\n",
    "    # load meta data from NEJM 2013 paper\n",
    "    meta = pd.read_excel('../Data/Raw_Data/Clinical_Data/TCGA_LAML/SuppTable01_NEJM2013_TCGA_AML.Paper_Mutation data.xlsx',\n",
    "                        index_col=1).iloc[1:,:].sort_index()\n",
    "\n",
    "    # make meta index integers\n",
    "    meta.index = meta.index.astype(int)\n",
    "    clinical_tsv.index = clinical_tsv.index.astype(int)\n",
    "\n",
    "    # join clinical_tsv and meta\n",
    "    labels_amltcga = clinical_tsv.join(meta, how='left')\n",
    "\n",
    "    # set index to case_id\n",
    "    labels_amltcga = labels_amltcga.reset_index().set_index('case_id')\n",
    "    \n",
    "    return labels_amltcga\n"
   ]
  },
  {
   "attachments": {},
   "cell_type": "markdown",
   "metadata": {},
   "source": [
    "## BeatAML Clinical Data"
   ]
  },
  {
   "cell_type": "code",
   "execution_count": 39,
   "metadata": {},
   "outputs": [],
   "source": [
    "import pandas as pd\n",
    "def merge_index_beataml ():\n",
    "    meta = pd.read_pickle('../Data/Raw_Data/Methyl_Array_EPIC/GSE159907/sample_sheet_meta_data.pkl').iloc[:,:-1]\n",
    "\n",
    "    # Create a new column with only the content inside [] from column 'Sample_Name'\n",
    "    meta['LLS_SampleID'] = meta['Sample_Name'].str.extract(r\"\\[(.*?)\\]\", expand=False)\n",
    "\n",
    "    # Set the index to the new column\n",
    "    meta1 = meta[['tissue','disease_state','LLS_SampleID','Sample_ID']].set_index('LLS_SampleID')\n",
    "\n",
    "    # Read in the clinical data\n",
    "    meta2 = pd.read_excel('../Data/Raw_Data/Clinical_Data/BeatAML/BEAT_AML_Raw clinical data_702.Samples.Vizome.xlsx', index_col=3)\n",
    "\n",
    "    # Join the two dataframes\n",
    "    labels_beataml = meta1.join(meta2, how='left').reset_index().set_index('Sample_ID')\n",
    "\n",
    "    return labels_beataml\n",
    "\n",
    "labels_beataml = clean_beataml()"
   ]
  },
  {
   "attachments": {},
   "cell_type": "markdown",
   "id": "3c02342a",
   "metadata": {},
   "source": [
    "## Remove Samples based on Certain Clinical Features"
   ]
  },
  {
   "attachments": {},
   "cell_type": "markdown",
   "metadata": {},
   "source": [
    "### Remove Relapse Samples"
   ]
  },
  {
   "cell_type": "code",
   "execution_count": 5,
   "id": "41f406b9",
   "metadata": {
    "tags": [
     "hide-input"
    ]
   },
   "outputs": [
    {
     "name": "stdout",
     "output_type": "stream",
     "text": [
      "Out of 1762 samples, 248 matched, yielding 1514 samples after filtering\n"
     ]
    }
   ],
   "source": [
    "df1 = df_[~df_['Sample Type'].isin(['Relapse', 'Recurrent Blood Derived Cancer - Bone Marrow',\n",
    "                                    'Recurrent Blood Derived Cancer - Peripheral Blood'])]\n",
    "\n",
    "print(\n",
    "    f'Out of {df_.shape[0]} samples, {df_.shape[0]-df1.shape[0]} matched, yielding {df1.shape[0]} samples after filtering')\n"
   ]
  },
  {
   "attachments": {},
   "cell_type": "markdown",
   "metadata": {},
   "source": [
    "### Remove Control/Normal Samples"
   ]
  },
  {
   "cell_type": "code",
   "execution_count": 6,
   "metadata": {
    "tags": [
     "hide-input"
    ]
   },
   "outputs": [
    {
     "name": "stdout",
     "output_type": "stream",
     "text": [
      "Out of 1514 samples, 154 matched, yielding 1360 samples after filtering\n"
     ]
    }
   ],
   "source": [
    "df2 = df1[~df1['Sample Type'].isin(\n",
    "    ['Bone Marrow Normal', 'Blood Derived Normal'])]\n",
    "print(\n",
    "    f'Out of {df1.shape[0]} samples, {df1.shape[0]-df2.shape[0]} matched, yielding {df2.shape[0]} samples after filtering')\n"
   ]
  },
  {
   "attachments": {},
   "cell_type": "markdown",
   "metadata": {},
   "source": [
    "### Remove Duplicate Samples"
   ]
  },
  {
   "cell_type": "code",
   "execution_count": 7,
   "metadata": {
    "tags": [
     "hide-input"
    ]
   },
   "outputs": [
    {
     "name": "stdout",
     "output_type": "stream",
     "text": [
      "Out of 1360 samples, 14 matched, yielding 1346 samples after filtering\n"
     ]
    }
   ],
   "source": [
    "df3 = df2[~df2['Patient_ID'].duplicated(keep='last')]\n",
    "print(\n",
    "    f'Out of {df2.shape[0]} samples, {df2.shape[0]-df3.shape[0]} matched, yielding {df3.shape[0]} samples after filtering')\n"
   ]
  },
  {
   "attachments": {},
   "cell_type": "markdown",
   "id": "39875e9e",
   "metadata": {},
   "source": [
    "## Save Files"
   ]
  },
  {
   "cell_type": "code",
   "execution_count": 8,
   "metadata": {
    "tags": [
     "hide-input"
    ]
   },
   "outputs": [],
   "source": [
    "output = df3.join(df_methyl,how='left') # Join clinical data with methyl data\n",
    "\n",
    "x = output.iloc[:,df3.shape[1]+1:] # Select only methyl data\n",
    "y = output.iloc[:,0:df3.shape[1]+1] # Select only clinical data"
   ]
  },
  {
   "cell_type": "code",
   "execution_count": 9,
   "metadata": {},
   "outputs": [
    {
     "name": "stdout",
     "output_type": "stream",
     "text": [
      "Discovery dataset (train) contains 310545 rows (5mC sites) and 1142 columns (samples)\n",
      "\n",
      "AAML1031    520\n",
      "AAML0531    508\n",
      "AML05        64\n",
      "AAML03P1     36\n",
      "CCG2961      14\n",
      "\n",
      "Validation dataset (test) contains 310545 rows (5mC sites) and 204 columns (samples).\n",
      "\n",
      "AML02    162\n",
      "AML08     42\n",
      "\n"
     ]
    }
   ],
   "source": [
    "# Split train and test by clinical trial\n",
    "y_train = y[~y['Clinical Trial'].isin(['AML02', 'AML08'])]\n",
    "# y_train = y_train[y_train['Sample Type'].isin(['Diagnosis',\n",
    "#        'Primary Blood Derived Cancer - Bone Marrow', 'Bone Marrow Normal',\n",
    "#        'Primary Blood Derived Cancer - Peripheral Blood',\n",
    "#        'Blood Derived Normal'])]\n",
    "\n",
    "y_test = y[y['Clinical Trial'].isin(['AML02', 'AML08'])]\n",
    "\n",
    "# Select samples in x that are in y_train\n",
    "x_train = x.loc[y_train.index]\n",
    "x_test = x.loc[y_test.index]\n",
    "\n",
    "# x_train = pd.concat([x_train, ctrl_x], axis=0)\n",
    "# y_train = pd.concat([y_train, ctrl_y], axis=0,keys=['Diagnosis','Control'], names=['sample_type'])\n",
    "\n",
    "\n",
    "print(\n",
    "    f\"Discovery dataset (train) contains {x_train.shape[1]} rows (5mC sites) and {x_train.shape[0]} columns (samples)\")\n",
    "print(\n",
    "    f\"\\n{y_train['Clinical Trial'].value_counts(dropna=False).to_string()}\\n\")\n",
    "print(\n",
    "    f\"Validation dataset (test) contains {x_test.shape[1]} rows (5mC sites) and {x_test.shape[0]} columns (samples).\")\n",
    "print(f\"\\n{y_test['Clinical Trial'].value_counts(dropna=False).to_string()}\\n\")\n"
   ]
  },
  {
   "attachments": {},
   "cell_type": "markdown",
   "metadata": {},
   "source": [
    "## Batch Correction with pyCombat"
   ]
  },
  {
   "attachments": {},
   "cell_type": "markdown",
   "metadata": {},
   "source": [
    "- __pyCombat__: a Python tool for batch effects correction in high-throughput molecular data using empirical Bayes methods\n",
    "\n",
    "- __Github__: [https://epigenelabs.github.io/pyComBat/](https://epigenelabs.github.io/pyComBat/)\n",
    "\n",
    "- __Implementation Paper__: [bioRxiv](https://doi.org/10.1101/2020.03.17.995431)\n",
    "\n",
    "- __Original Paper__: [Biostatistics](https://pubmed.ncbi.nlm.nih.gov/16632515/)"
   ]
  },
  {
   "cell_type": "code",
   "execution_count": 10,
   "metadata": {},
   "outputs": [
    {
     "name": "stdout",
     "output_type": "stream",
     "text": [
      "Found 4 batches.\n",
      "Adjusting for 0 covariate(s) or covariate level(s).\n",
      "Standardizing Data across genes.\n",
      "Fitting L/S model and finding priors.\n",
      "Finding parametric adjustments.\n",
      "Adjusting the Data\n",
      "Succesfully corrected batch effects in the training dataset.\n"
     ]
    }
   ],
   "source": [
    "from combat.pycombat import pycombat\n",
    "\n",
    "# Correct batch effects in the training dataset\n",
    "x_train2 = pycombat(x_train.T, y_train['Batch']).T\n",
    "\n",
    "print('Succesfully corrected batch effects in the training dataset.')\n"
   ]
  },
  {
   "cell_type": "code",
   "execution_count": 11,
   "metadata": {},
   "outputs": [
    {
     "name": "stdout",
     "output_type": "stream",
     "text": [
      "Discovery dataset (train) contains 310545 rows (5mC sites) and 1078 columns (samples)\n",
      "\n",
      "AAML1031    520\n",
      "AAML0531    508\n",
      "AAML03P1     36\n",
      "CCG2961      14\n",
      "\n",
      "Validation dataset (test) contains 310545 rows (5mC sites) and 204 columns (samples).\n",
      "\n",
      "AML02    162\n",
      "AML08     42\n",
      "\n"
     ]
    }
   ],
   "source": [
    "y_train = y_train[~y_train['Clinical Trial'].isin(['AML05'])]\n",
    "x_train3 = x_train2.loc[y_train.index]\n",
    "\n",
    "\n",
    "print(\n",
    "    f\"Discovery dataset (train) contains {x_train3.shape[1]} rows (5mC sites) and {x_train3.shape[0]} columns (samples)\")\n",
    "print(\n",
    "    f\"\\n{y_train['Clinical Trial'].value_counts(dropna=False).to_string()}\\n\")\n",
    "print(\n",
    "    f\"Validation dataset (test) contains {x_test.shape[1]} rows (5mC sites) and {x_test.shape[0]} columns (samples).\")\n",
    "print(f\"\\n{y_test['Clinical Trial'].value_counts(dropna=False).to_string()}\\n\")"
   ]
  },
  {
   "cell_type": "code",
   "execution_count": 12,
   "metadata": {},
   "outputs": [
    {
     "name": "stdout",
     "output_type": "stream",
     "text": [
      "Successfuly saved methyl data in x.pkl and clinical data in y.csv.\n",
      "Path: ../Data/Processed_Data/\n"
     ]
    }
   ],
   "source": [
    "x_train3.to_pickle(output_path+'x_train.pkl') # Save methyl data\n",
    "y_train.to_csv(output_path+'y_train.csv') # Save clinical data\n",
    "\n",
    "print(\n",
    "    f'Successfuly saved methyl data in x.pkl and clinical data in y.csv.\\nPath: {output_path}')"
   ]
  },
  {
   "attachments": {},
   "cell_type": "markdown",
   "metadata": {},
   "source": [
    "### Save Control and Relapse Data Separately"
   ]
  },
  {
   "cell_type": "code",
   "execution_count": 13,
   "metadata": {
    "tags": [
     "hide-input"
    ]
   },
   "outputs": [
    {
     "name": "stdout",
     "output_type": "stream",
     "text": [
      "Successfuly saved 147 control samples and 248 relapse samples.\n",
      "Path: ../Data/Processed_Data/\n"
     ]
    }
   ],
   "source": [
    "controls = df_[df_['Sample Type'].isin(['Bone Marrow Normal'])]\n",
    "\n",
    "relapse = df_[df_['Sample Type'].isin(['Relapse', 'Recurrent Blood Derived Cancer - Bone Marrow',\n",
    "                                       'Recurrent Blood Derived Cancer - Peripheral Blood'])]\n",
    "\n",
    "# Merge control and relapse samples\n",
    "t = pd.concat([controls, relapse], axis=0, join='outer',\n",
    "              names=['Control', 'Relapse'])\n",
    "\n",
    "# Join clinical data with methyl data\n",
    "t2 = df_methyl.join(t, how='right')\n",
    "\n",
    "# Save merged control and relapse samples\n",
    "t2.to_pickle(output_path+'control_relapse.pkl')\n",
    "\n",
    "print(\n",
    "    f'Successfuly saved {controls.shape[0]} control samples and {relapse.shape[0]} relapse samples.\\nPath: {output_path}')\n"
   ]
  },
  {
   "attachments": {},
   "cell_type": "markdown",
   "metadata": {},
   "source": [
    "## Watermark"
   ]
  },
  {
   "cell_type": "code",
   "execution_count": 14,
   "metadata": {
    "tags": [
     "remove-input",
     "remove-output"
    ]
   },
   "outputs": [],
   "source": [
    "%load_ext watermark"
   ]
  },
  {
   "cell_type": "code",
   "execution_count": 15,
   "metadata": {
    "tags": [
     "remove-input"
    ]
   },
   "outputs": [
    {
     "name": "stdout",
     "output_type": "stream",
     "text": [
      "Python implementation: CPython\n",
      "Python version       : 3.10.10\n",
      "IPython version      : 8.3.0\n",
      "\n",
      "pandas: 1.5.3\n",
      "\n"
     ]
    }
   ],
   "source": [
    "# produce a list of the loaded modules\n",
    "%watermark -v -p pandas"
   ]
  }
 ],
 "metadata": {
  "celltoolbar": "Tags",
  "kernelspec": {
   "display_name": ".venv_data_vizualization",
   "language": "python",
   "name": "python3"
  },
  "language_info": {
   "codemirror_mode": {
    "name": "ipython",
    "version": 3
   },
   "file_extension": ".py",
   "mimetype": "text/x-python",
   "name": "python",
   "nbconvert_exporter": "python",
   "pygments_lexer": "ipython3",
   "version": "3.8.16"
  },
  "vscode": {
   "interpreter": {
    "hash": "1536c79f85cc2a2ac13c148ca716b8e28acb6745983d6aacea6d4fcb49ea6e2e"
   }
  }
 },
 "nbformat": 4,
 "nbformat_minor": 2
}
