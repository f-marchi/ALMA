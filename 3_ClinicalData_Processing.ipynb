{
 "cells": [
  {
   "attachments": {},
   "cell_type": "markdown",
   "metadata": {},
   "source": [
    "# Clinical Data Processing"
   ]
  },
  {
   "attachments": {},
   "cell_type": "markdown",
   "metadata": {},
   "source": [
    "## Where the data at?"
   ]
  },
  {
   "cell_type": "code",
   "execution_count": 1,
   "metadata": {},
   "outputs": [],
   "source": [
    "input_path = '../Data/Intermediate_Files/'\n",
    "clinicaldata_path = '../Data/Raw_Data/Clinical_Data/'\n",
    "output_path = '../Data/Processed_Data/'"
   ]
  },
  {
   "attachments": {},
   "cell_type": "markdown",
   "metadata": {},
   "source": [
    "## Load Methyl Data"
   ]
  },
  {
   "cell_type": "code",
   "execution_count": 2,
   "metadata": {
    "tags": [
     "hide-input"
    ]
   },
   "outputs": [
    {
     "name": "stdout",
     "output_type": "stream",
     "text": [
      " Dataset (df) contains 367395 columns (mC sites) and 3379 rows (samples).\n"
     ]
    }
   ],
   "source": [
    "import pandas as pd\n",
    "\n",
    "df_methyl = pd.read_pickle(\n",
    "    input_path+'2_MethylData_Processing_Output.pkl')\n",
    "\n",
    "# .T.reset_index(level=0, names='Batch')\n",
    "\n",
    "print(\n",
    "    f' Dataset (df) contains {df_methyl.shape[1]} columns (mC sites) and {df_methyl.shape[0]} rows (samples).')\n"
   ]
  },
  {
   "cell_type": "code",
   "execution_count": 3,
   "metadata": {},
   "outputs": [
    {
     "data": {
      "text/html": [
       "<div>\n",
       "<style scoped>\n",
       "    .dataframe tbody tr th:only-of-type {\n",
       "        vertical-align: middle;\n",
       "    }\n",
       "\n",
       "    .dataframe tbody tr th {\n",
       "        vertical-align: top;\n",
       "    }\n",
       "\n",
       "    .dataframe thead th {\n",
       "        text-align: right;\n",
       "    }\n",
       "</style>\n",
       "<table border=\"1\" class=\"dataframe\">\n",
       "  <thead>\n",
       "    <tr style=\"text-align: right;\">\n",
       "      <th>IlmnID</th>\n",
       "      <th>Batch</th>\n",
       "      <th>cg00000029</th>\n",
       "      <th>cg00000109</th>\n",
       "      <th>cg00000165</th>\n",
       "      <th>cg00000236</th>\n",
       "      <th>cg00000292</th>\n",
       "      <th>cg00000321</th>\n",
       "      <th>cg00000363</th>\n",
       "      <th>cg00000622</th>\n",
       "      <th>cg00000658</th>\n",
       "      <th>...</th>\n",
       "      <th>ch.9.837340R</th>\n",
       "      <th>ch.9.84051654F</th>\n",
       "      <th>ch.9.84078312F</th>\n",
       "      <th>ch.9.86947500F</th>\n",
       "      <th>ch.9.88862796F</th>\n",
       "      <th>ch.9.898515R</th>\n",
       "      <th>ch.9.90287778F</th>\n",
       "      <th>ch.9.90621653R</th>\n",
       "      <th>ch.9.93402636R</th>\n",
       "      <th>ch.9.98463211R</th>\n",
       "    </tr>\n",
       "  </thead>\n",
       "  <tbody>\n",
       "    <tr>\n",
       "      <th>202897270043_R01C01</th>\n",
       "      <td>GSE190931</td>\n",
       "      <td>NaN</td>\n",
       "      <td>0.932</td>\n",
       "      <td>0.101</td>\n",
       "      <td>0.838</td>\n",
       "      <td>0.893</td>\n",
       "      <td>0.225</td>\n",
       "      <td>0.389</td>\n",
       "      <td>0.013</td>\n",
       "      <td>0.905</td>\n",
       "      <td>...</td>\n",
       "      <td>0.047</td>\n",
       "      <td>0.061</td>\n",
       "      <td>0.050</td>\n",
       "      <td>0.055</td>\n",
       "      <td>0.051</td>\n",
       "      <td>0.077</td>\n",
       "      <td>0.068</td>\n",
       "      <td>0.043</td>\n",
       "      <td>0.036</td>\n",
       "      <td>0.043</td>\n",
       "    </tr>\n",
       "    <tr>\n",
       "      <th>202897270043_R03C01</th>\n",
       "      <td>GSE190931</td>\n",
       "      <td>0.720</td>\n",
       "      <td>0.962</td>\n",
       "      <td>0.588</td>\n",
       "      <td>0.822</td>\n",
       "      <td>0.899</td>\n",
       "      <td>0.549</td>\n",
       "      <td>0.543</td>\n",
       "      <td>0.014</td>\n",
       "      <td>0.862</td>\n",
       "      <td>...</td>\n",
       "      <td>0.074</td>\n",
       "      <td>0.028</td>\n",
       "      <td>0.064</td>\n",
       "      <td>0.045</td>\n",
       "      <td>0.036</td>\n",
       "      <td>0.045</td>\n",
       "      <td>0.027</td>\n",
       "      <td>0.027</td>\n",
       "      <td>0.025</td>\n",
       "      <td>0.030</td>\n",
       "    </tr>\n",
       "    <tr>\n",
       "      <th>202897270043_R04C01</th>\n",
       "      <td>GSE190931</td>\n",
       "      <td>0.867</td>\n",
       "      <td>0.881</td>\n",
       "      <td>0.157</td>\n",
       "      <td>0.904</td>\n",
       "      <td>0.736</td>\n",
       "      <td>0.860</td>\n",
       "      <td>0.673</td>\n",
       "      <td>0.018</td>\n",
       "      <td>0.797</td>\n",
       "      <td>...</td>\n",
       "      <td>0.074</td>\n",
       "      <td>0.035</td>\n",
       "      <td>0.151</td>\n",
       "      <td>0.046</td>\n",
       "      <td>0.091</td>\n",
       "      <td>NaN</td>\n",
       "      <td>0.053</td>\n",
       "      <td>0.051</td>\n",
       "      <td>0.044</td>\n",
       "      <td>0.044</td>\n",
       "    </tr>\n",
       "    <tr>\n",
       "      <th>202897270043_R05C01</th>\n",
       "      <td>GSE190931</td>\n",
       "      <td>NaN</td>\n",
       "      <td>0.876</td>\n",
       "      <td>0.625</td>\n",
       "      <td>NaN</td>\n",
       "      <td>0.219</td>\n",
       "      <td>0.360</td>\n",
       "      <td>0.154</td>\n",
       "      <td>0.019</td>\n",
       "      <td>0.866</td>\n",
       "      <td>...</td>\n",
       "      <td>NaN</td>\n",
       "      <td>0.039</td>\n",
       "      <td>0.217</td>\n",
       "      <td>0.060</td>\n",
       "      <td>0.071</td>\n",
       "      <td>NaN</td>\n",
       "      <td>0.066</td>\n",
       "      <td>0.048</td>\n",
       "      <td>0.059</td>\n",
       "      <td>0.122</td>\n",
       "    </tr>\n",
       "    <tr>\n",
       "      <th>202897270043_R06C01</th>\n",
       "      <td>GSE190931</td>\n",
       "      <td>0.575</td>\n",
       "      <td>0.924</td>\n",
       "      <td>NaN</td>\n",
       "      <td>0.674</td>\n",
       "      <td>0.683</td>\n",
       "      <td>0.295</td>\n",
       "      <td>0.188</td>\n",
       "      <td>0.015</td>\n",
       "      <td>0.861</td>\n",
       "      <td>...</td>\n",
       "      <td>0.085</td>\n",
       "      <td>0.053</td>\n",
       "      <td>0.034</td>\n",
       "      <td>0.045</td>\n",
       "      <td>0.076</td>\n",
       "      <td>NaN</td>\n",
       "      <td>0.038</td>\n",
       "      <td>0.037</td>\n",
       "      <td>0.035</td>\n",
       "      <td>0.054</td>\n",
       "    </tr>\n",
       "    <tr>\n",
       "      <th>...</th>\n",
       "      <td>...</td>\n",
       "      <td>...</td>\n",
       "      <td>...</td>\n",
       "      <td>...</td>\n",
       "      <td>...</td>\n",
       "      <td>...</td>\n",
       "      <td>...</td>\n",
       "      <td>...</td>\n",
       "      <td>...</td>\n",
       "      <td>...</td>\n",
       "      <td>...</td>\n",
       "      <td>...</td>\n",
       "      <td>...</td>\n",
       "      <td>...</td>\n",
       "      <td>...</td>\n",
       "      <td>...</td>\n",
       "      <td>...</td>\n",
       "      <td>...</td>\n",
       "      <td>...</td>\n",
       "      <td>...</td>\n",
       "      <td>...</td>\n",
       "    </tr>\n",
       "    <tr>\n",
       "      <th>203724130020_R02C01</th>\n",
       "      <td>GSE147667</td>\n",
       "      <td>0.875</td>\n",
       "      <td>0.939</td>\n",
       "      <td>0.167</td>\n",
       "      <td>0.944</td>\n",
       "      <td>0.936</td>\n",
       "      <td>0.291</td>\n",
       "      <td>0.336</td>\n",
       "      <td>0.024</td>\n",
       "      <td>0.848</td>\n",
       "      <td>...</td>\n",
       "      <td>0.064</td>\n",
       "      <td>0.039</td>\n",
       "      <td>0.030</td>\n",
       "      <td>0.050</td>\n",
       "      <td>0.044</td>\n",
       "      <td>0.073</td>\n",
       "      <td>0.058</td>\n",
       "      <td>0.040</td>\n",
       "      <td>0.029</td>\n",
       "      <td>0.059</td>\n",
       "    </tr>\n",
       "    <tr>\n",
       "      <th>203724130020_R03C01</th>\n",
       "      <td>GSE147667</td>\n",
       "      <td>0.882</td>\n",
       "      <td>0.930</td>\n",
       "      <td>0.132</td>\n",
       "      <td>0.942</td>\n",
       "      <td>0.945</td>\n",
       "      <td>0.331</td>\n",
       "      <td>0.382</td>\n",
       "      <td>0.024</td>\n",
       "      <td>0.855</td>\n",
       "      <td>...</td>\n",
       "      <td>0.036</td>\n",
       "      <td>0.035</td>\n",
       "      <td>0.035</td>\n",
       "      <td>0.052</td>\n",
       "      <td>0.050</td>\n",
       "      <td>0.086</td>\n",
       "      <td>0.055</td>\n",
       "      <td>0.036</td>\n",
       "      <td>0.034</td>\n",
       "      <td>0.044</td>\n",
       "    </tr>\n",
       "    <tr>\n",
       "      <th>203724130020_R04C01</th>\n",
       "      <td>GSE147667</td>\n",
       "      <td>0.854</td>\n",
       "      <td>0.934</td>\n",
       "      <td>0.131</td>\n",
       "      <td>0.940</td>\n",
       "      <td>0.941</td>\n",
       "      <td>0.337</td>\n",
       "      <td>0.368</td>\n",
       "      <td>0.022</td>\n",
       "      <td>0.867</td>\n",
       "      <td>...</td>\n",
       "      <td>0.042</td>\n",
       "      <td>0.038</td>\n",
       "      <td>0.047</td>\n",
       "      <td>0.053</td>\n",
       "      <td>0.039</td>\n",
       "      <td>0.075</td>\n",
       "      <td>0.051</td>\n",
       "      <td>0.040</td>\n",
       "      <td>0.034</td>\n",
       "      <td>0.041</td>\n",
       "    </tr>\n",
       "    <tr>\n",
       "      <th>203724130020_R05C01</th>\n",
       "      <td>GSE147667</td>\n",
       "      <td>0.863</td>\n",
       "      <td>0.923</td>\n",
       "      <td>0.146</td>\n",
       "      <td>0.943</td>\n",
       "      <td>0.955</td>\n",
       "      <td>0.347</td>\n",
       "      <td>0.350</td>\n",
       "      <td>0.023</td>\n",
       "      <td>0.864</td>\n",
       "      <td>...</td>\n",
       "      <td>0.069</td>\n",
       "      <td>0.046</td>\n",
       "      <td>0.041</td>\n",
       "      <td>0.048</td>\n",
       "      <td>0.039</td>\n",
       "      <td>0.077</td>\n",
       "      <td>0.044</td>\n",
       "      <td>0.058</td>\n",
       "      <td>0.041</td>\n",
       "      <td>0.044</td>\n",
       "    </tr>\n",
       "    <tr>\n",
       "      <th>203724130020_R06C01</th>\n",
       "      <td>GSE147667</td>\n",
       "      <td>0.871</td>\n",
       "      <td>0.942</td>\n",
       "      <td>0.167</td>\n",
       "      <td>0.943</td>\n",
       "      <td>0.948</td>\n",
       "      <td>0.297</td>\n",
       "      <td>0.337</td>\n",
       "      <td>0.024</td>\n",
       "      <td>0.870</td>\n",
       "      <td>...</td>\n",
       "      <td>0.073</td>\n",
       "      <td>0.046</td>\n",
       "      <td>0.035</td>\n",
       "      <td>0.048</td>\n",
       "      <td>0.051</td>\n",
       "      <td>0.061</td>\n",
       "      <td>0.049</td>\n",
       "      <td>0.058</td>\n",
       "      <td>0.042</td>\n",
       "      <td>0.040</td>\n",
       "    </tr>\n",
       "  </tbody>\n",
       "</table>\n",
       "<p>3379 rows × 367395 columns</p>\n",
       "</div>"
      ],
      "text/plain": [
       "IlmnID                   Batch  cg00000029  cg00000109  cg00000165   \n",
       "202897270043_R01C01  GSE190931         NaN       0.932       0.101  \\\n",
       "202897270043_R03C01  GSE190931       0.720       0.962       0.588   \n",
       "202897270043_R04C01  GSE190931       0.867       0.881       0.157   \n",
       "202897270043_R05C01  GSE190931         NaN       0.876       0.625   \n",
       "202897270043_R06C01  GSE190931       0.575       0.924         NaN   \n",
       "...                        ...         ...         ...         ...   \n",
       "203724130020_R02C01  GSE147667       0.875       0.939       0.167   \n",
       "203724130020_R03C01  GSE147667       0.882       0.930       0.132   \n",
       "203724130020_R04C01  GSE147667       0.854       0.934       0.131   \n",
       "203724130020_R05C01  GSE147667       0.863       0.923       0.146   \n",
       "203724130020_R06C01  GSE147667       0.871       0.942       0.167   \n",
       "\n",
       "IlmnID               cg00000236  cg00000292  cg00000321  cg00000363   \n",
       "202897270043_R01C01       0.838       0.893       0.225       0.389  \\\n",
       "202897270043_R03C01       0.822       0.899       0.549       0.543   \n",
       "202897270043_R04C01       0.904       0.736       0.860       0.673   \n",
       "202897270043_R05C01         NaN       0.219       0.360       0.154   \n",
       "202897270043_R06C01       0.674       0.683       0.295       0.188   \n",
       "...                         ...         ...         ...         ...   \n",
       "203724130020_R02C01       0.944       0.936       0.291       0.336   \n",
       "203724130020_R03C01       0.942       0.945       0.331       0.382   \n",
       "203724130020_R04C01       0.940       0.941       0.337       0.368   \n",
       "203724130020_R05C01       0.943       0.955       0.347       0.350   \n",
       "203724130020_R06C01       0.943       0.948       0.297       0.337   \n",
       "\n",
       "IlmnID               cg00000622  cg00000658  ...  ch.9.837340R   \n",
       "202897270043_R01C01       0.013       0.905  ...         0.047  \\\n",
       "202897270043_R03C01       0.014       0.862  ...         0.074   \n",
       "202897270043_R04C01       0.018       0.797  ...         0.074   \n",
       "202897270043_R05C01       0.019       0.866  ...           NaN   \n",
       "202897270043_R06C01       0.015       0.861  ...         0.085   \n",
       "...                         ...         ...  ...           ...   \n",
       "203724130020_R02C01       0.024       0.848  ...         0.064   \n",
       "203724130020_R03C01       0.024       0.855  ...         0.036   \n",
       "203724130020_R04C01       0.022       0.867  ...         0.042   \n",
       "203724130020_R05C01       0.023       0.864  ...         0.069   \n",
       "203724130020_R06C01       0.024       0.870  ...         0.073   \n",
       "\n",
       "IlmnID               ch.9.84051654F  ch.9.84078312F  ch.9.86947500F   \n",
       "202897270043_R01C01           0.061           0.050           0.055  \\\n",
       "202897270043_R03C01           0.028           0.064           0.045   \n",
       "202897270043_R04C01           0.035           0.151           0.046   \n",
       "202897270043_R05C01           0.039           0.217           0.060   \n",
       "202897270043_R06C01           0.053           0.034           0.045   \n",
       "...                             ...             ...             ...   \n",
       "203724130020_R02C01           0.039           0.030           0.050   \n",
       "203724130020_R03C01           0.035           0.035           0.052   \n",
       "203724130020_R04C01           0.038           0.047           0.053   \n",
       "203724130020_R05C01           0.046           0.041           0.048   \n",
       "203724130020_R06C01           0.046           0.035           0.048   \n",
       "\n",
       "IlmnID               ch.9.88862796F  ch.9.898515R  ch.9.90287778F   \n",
       "202897270043_R01C01           0.051         0.077           0.068  \\\n",
       "202897270043_R03C01           0.036         0.045           0.027   \n",
       "202897270043_R04C01           0.091           NaN           0.053   \n",
       "202897270043_R05C01           0.071           NaN           0.066   \n",
       "202897270043_R06C01           0.076           NaN           0.038   \n",
       "...                             ...           ...             ...   \n",
       "203724130020_R02C01           0.044         0.073           0.058   \n",
       "203724130020_R03C01           0.050         0.086           0.055   \n",
       "203724130020_R04C01           0.039         0.075           0.051   \n",
       "203724130020_R05C01           0.039         0.077           0.044   \n",
       "203724130020_R06C01           0.051         0.061           0.049   \n",
       "\n",
       "IlmnID               ch.9.90621653R  ch.9.93402636R  ch.9.98463211R  \n",
       "202897270043_R01C01           0.043           0.036           0.043  \n",
       "202897270043_R03C01           0.027           0.025           0.030  \n",
       "202897270043_R04C01           0.051           0.044           0.044  \n",
       "202897270043_R05C01           0.048           0.059           0.122  \n",
       "202897270043_R06C01           0.037           0.035           0.054  \n",
       "...                             ...             ...             ...  \n",
       "203724130020_R02C01           0.040           0.029           0.059  \n",
       "203724130020_R03C01           0.036           0.034           0.044  \n",
       "203724130020_R04C01           0.040           0.034           0.041  \n",
       "203724130020_R05C01           0.058           0.041           0.044  \n",
       "203724130020_R06C01           0.058           0.042           0.040  \n",
       "\n",
       "[3379 rows x 367395 columns]"
      ]
     },
     "execution_count": 3,
     "metadata": {},
     "output_type": "execute_result"
    }
   ],
   "source": [
    "df_methyl"
   ]
  },
  {
   "attachments": {},
   "cell_type": "markdown",
   "metadata": {},
   "source": [
    "## Add Labels/Clinical Outcome Data"
   ]
  },
  {
   "cell_type": "code",
   "execution_count": 4,
   "metadata": {
    "tags": [
     "hide-input"
    ]
   },
   "outputs": [],
   "source": [
    "# Import functions to clean up clinical data\n",
    "from FM_Functions.Clinical_Data_CleanUp import *\n",
    "\n",
    "# Combine all clinical data files into one dataframe and indexes it by the sample ID\n",
    "labels_cog, labels_aml02, labels_aml08, labels_aml05 = combine_and_index_clinicaldata()\n",
    "# Clean up and adjust clinical data labels\n",
    "labels_aml02 = clean_aml02(labels_aml02)\n",
    "labels_aml08 = clean_aml08(labels_aml08)\n",
    "labels_cog   = clean_cog(labels_cog)\n",
    "labels_aml05 = clean_aml05(labels_aml05)\n",
    "\n",
    "# Combine all clinical data labels\n",
    "df = pd.concat([labels_aml02, labels_aml08, labels_cog,\n",
    "               labels_aml05], axis=0, join='outer')\n",
    "\n",
    "# Remove samples that are not in the methyl dataset\n",
    "# df = df.loc[df.index.isin(df_methyl.index)]\n",
    "\n",
    "# Label control samples from the AML0531 clinical trial (GSE124413) as 'Bone Marrow Normal'\n",
    "\n",
    "def label_control_samples(df_methyl, df):\n",
    "    \"\"\"\n",
    "    This function labels control samples from the AML0531 clinical trial (GSE124413) as 'Bone Marrow Normal'\n",
    "    and combines them with the clinical trial samples.\n",
    "    \"\"\"\n",
    "    a = df_methyl[df_methyl['Batch'].isin(['GSE124413'])]\n",
    "    b = df[df.index.isin(a.index)]\n",
    "    control_0531 = a[~a.index.isin(b.index)]\n",
    "    control_0531['Sample Type'] = 'Bone Marrow Normal'\n",
    "    df_ = pd.concat(\n",
    "        [df, control_0531['Sample Type'].to_frame()], axis=0, join='outer')\n",
    "    return df_\n",
    "\n",
    "df_ = label_control_samples(df_methyl, df)\n"
   ]
  },
  {
   "cell_type": "code",
   "execution_count": 21,
   "metadata": {},
   "outputs": [
    {
     "data": {
      "text/plain": [
       "(2282, 291)"
      ]
     },
     "execution_count": 21,
     "metadata": {},
     "output_type": "execute_result"
    }
   ],
   "source": [
    "df.shape"
   ]
  },
  {
   "attachments": {},
   "cell_type": "markdown",
   "metadata": {},
   "source": [
    "## BeatAML Clinical Data"
   ]
  },
  {
   "cell_type": "code",
   "execution_count": null,
   "metadata": {},
   "outputs": [],
   "source": [
    "import pandas as pd\n",
    "meta = pd.read_pickle('../Data/Raw_Data/GSE159907_BeatAML/GSE159907_GPL21145_meta_data.pkl')\n",
    "# Create a new column with only the content inside [] from column 'Sample_Name'\n",
    "meta['LLS_SampleID'] = meta['Sample_Name'].str.extract(r\"\\[(.*?)\\]\", expand=False)\n",
    "\n",
    "# Set the index to the new column\n",
    "meta1 = meta[['tissue','disease state','LLS_SampleID']].set_index('LLS_SampleID')\n",
    "\n",
    "# Capitalize column names\n",
    "meta1.columns = meta1.columns.str.capitalize()\n",
    "\n",
    "# Read in the clinical data\n",
    "meta2 = pd.read_excel('../Data/Raw_Data/Clinical_Data/BeatAML/BEAT_AML_Raw clinical data_702.Samples.Vizome.xlsx', index_col=3)\n",
    "\n",
    "# Join the two dataframes\n",
    "meta3 = meta1.join(meta2, how='left')"
   ]
  },
  {
   "attachments": {},
   "cell_type": "markdown",
   "id": "3c02342a",
   "metadata": {},
   "source": [
    "## Remove Samples based on Certain Clinical Features"
   ]
  },
  {
   "attachments": {},
   "cell_type": "markdown",
   "metadata": {},
   "source": [
    "### Remove Relapse Samples"
   ]
  },
  {
   "cell_type": "code",
   "execution_count": 5,
   "id": "41f406b9",
   "metadata": {
    "tags": [
     "hide-input"
    ]
   },
   "outputs": [
    {
     "name": "stdout",
     "output_type": "stream",
     "text": [
      "Out of 1762 samples, 248 matched, yielding 1514 samples after filtering\n"
     ]
    }
   ],
   "source": [
    "df1 = df_[~df_['Sample Type'].isin(['Relapse', 'Recurrent Blood Derived Cancer - Bone Marrow',\n",
    "                                    'Recurrent Blood Derived Cancer - Peripheral Blood'])]\n",
    "\n",
    "print(\n",
    "    f'Out of {df_.shape[0]} samples, {df_.shape[0]-df1.shape[0]} matched, yielding {df1.shape[0]} samples after filtering')\n"
   ]
  },
  {
   "attachments": {},
   "cell_type": "markdown",
   "metadata": {},
   "source": [
    "### Remove Control/Normal Samples"
   ]
  },
  {
   "cell_type": "code",
   "execution_count": 6,
   "metadata": {
    "tags": [
     "hide-input"
    ]
   },
   "outputs": [
    {
     "name": "stdout",
     "output_type": "stream",
     "text": [
      "Out of 1514 samples, 154 matched, yielding 1360 samples after filtering\n"
     ]
    }
   ],
   "source": [
    "df2 = df1[~df1['Sample Type'].isin(\n",
    "    ['Bone Marrow Normal', 'Blood Derived Normal'])]\n",
    "print(\n",
    "    f'Out of {df1.shape[0]} samples, {df1.shape[0]-df2.shape[0]} matched, yielding {df2.shape[0]} samples after filtering')\n"
   ]
  },
  {
   "attachments": {},
   "cell_type": "markdown",
   "metadata": {},
   "source": [
    "### Remove Duplicate Samples"
   ]
  },
  {
   "cell_type": "code",
   "execution_count": 7,
   "metadata": {
    "tags": [
     "hide-input"
    ]
   },
   "outputs": [
    {
     "name": "stdout",
     "output_type": "stream",
     "text": [
      "Out of 1360 samples, 14 matched, yielding 1346 samples after filtering\n"
     ]
    }
   ],
   "source": [
    "df3 = df2[~df2['Patient_ID'].duplicated(keep='last')]\n",
    "print(\n",
    "    f'Out of {df2.shape[0]} samples, {df2.shape[0]-df3.shape[0]} matched, yielding {df3.shape[0]} samples after filtering')\n"
   ]
  },
  {
   "attachments": {},
   "cell_type": "markdown",
   "id": "39875e9e",
   "metadata": {},
   "source": [
    "## Save Files"
   ]
  },
  {
   "cell_type": "code",
   "execution_count": 8,
   "metadata": {
    "tags": [
     "hide-input"
    ]
   },
   "outputs": [],
   "source": [
    "output = df3.join(df_methyl,how='left') # Join clinical data with methyl data\n",
    "\n",
    "x = output.iloc[:,df3.shape[1]+1:] # Select only methyl data\n",
    "y = output.iloc[:,0:df3.shape[1]+1] # Select only clinical data"
   ]
  },
  {
   "cell_type": "code",
   "execution_count": 9,
   "metadata": {},
   "outputs": [
    {
     "name": "stdout",
     "output_type": "stream",
     "text": [
      "Discovery dataset (train) contains 310545 rows (5mC sites) and 1142 columns (samples)\n",
      "\n",
      "AAML1031    520\n",
      "AAML0531    508\n",
      "AML05        64\n",
      "AAML03P1     36\n",
      "CCG2961      14\n",
      "\n",
      "Validation dataset (test) contains 310545 rows (5mC sites) and 204 columns (samples).\n",
      "\n",
      "AML02    162\n",
      "AML08     42\n",
      "\n"
     ]
    }
   ],
   "source": [
    "# Split train and test by clinical trial\n",
    "y_train = y[~y['Clinical Trial'].isin(['AML02', 'AML08'])]\n",
    "# y_train = y_train[y_train['Sample Type'].isin(['Diagnosis',\n",
    "#        'Primary Blood Derived Cancer - Bone Marrow', 'Bone Marrow Normal',\n",
    "#        'Primary Blood Derived Cancer - Peripheral Blood',\n",
    "#        'Blood Derived Normal'])]\n",
    "\n",
    "y_test = y[y['Clinical Trial'].isin(['AML02', 'AML08'])]\n",
    "\n",
    "# Select samples in x that are in y_train\n",
    "x_train = x.loc[y_train.index]\n",
    "x_test = x.loc[y_test.index]\n",
    "\n",
    "# x_train = pd.concat([x_train, ctrl_x], axis=0)\n",
    "# y_train = pd.concat([y_train, ctrl_y], axis=0,keys=['Diagnosis','Control'], names=['sample_type'])\n",
    "\n",
    "\n",
    "print(\n",
    "    f\"Discovery dataset (train) contains {x_train.shape[1]} rows (5mC sites) and {x_train.shape[0]} columns (samples)\")\n",
    "print(\n",
    "    f\"\\n{y_train['Clinical Trial'].value_counts(dropna=False).to_string()}\\n\")\n",
    "print(\n",
    "    f\"Validation dataset (test) contains {x_test.shape[1]} rows (5mC sites) and {x_test.shape[0]} columns (samples).\")\n",
    "print(f\"\\n{y_test['Clinical Trial'].value_counts(dropna=False).to_string()}\\n\")\n"
   ]
  },
  {
   "attachments": {},
   "cell_type": "markdown",
   "metadata": {},
   "source": [
    "## Batch Correction with pyCombat"
   ]
  },
  {
   "attachments": {},
   "cell_type": "markdown",
   "metadata": {},
   "source": [
    "- __pyCombat__: a Python tool for batch effects correction in high-throughput molecular data using empirical Bayes methods\n",
    "\n",
    "- __Github__: [https://epigenelabs.github.io/pyComBat/](https://epigenelabs.github.io/pyComBat/)\n",
    "\n",
    "- __Implementation Paper__: [bioRxiv](https://doi.org/10.1101/2020.03.17.995431)\n",
    "\n",
    "- __Original Paper__: [Biostatistics](https://pubmed.ncbi.nlm.nih.gov/16632515/)"
   ]
  },
  {
   "cell_type": "code",
   "execution_count": 10,
   "metadata": {},
   "outputs": [
    {
     "name": "stdout",
     "output_type": "stream",
     "text": [
      "Found 4 batches.\n",
      "Adjusting for 0 covariate(s) or covariate level(s).\n",
      "Standardizing Data across genes.\n",
      "Fitting L/S model and finding priors.\n",
      "Finding parametric adjustments.\n",
      "Adjusting the Data\n",
      "Succesfully corrected batch effects in the training dataset.\n"
     ]
    }
   ],
   "source": [
    "from combat.pycombat import pycombat\n",
    "\n",
    "# Correct batch effects in the training dataset\n",
    "x_train2 = pycombat(x_train.T, y_train['Batch']).T\n",
    "\n",
    "print('Succesfully corrected batch effects in the training dataset.')\n"
   ]
  },
  {
   "cell_type": "code",
   "execution_count": 11,
   "metadata": {},
   "outputs": [
    {
     "name": "stdout",
     "output_type": "stream",
     "text": [
      "Discovery dataset (train) contains 310545 rows (5mC sites) and 1078 columns (samples)\n",
      "\n",
      "AAML1031    520\n",
      "AAML0531    508\n",
      "AAML03P1     36\n",
      "CCG2961      14\n",
      "\n",
      "Validation dataset (test) contains 310545 rows (5mC sites) and 204 columns (samples).\n",
      "\n",
      "AML02    162\n",
      "AML08     42\n",
      "\n"
     ]
    }
   ],
   "source": [
    "y_train = y_train[~y_train['Clinical Trial'].isin(['AML05'])]\n",
    "x_train3 = x_train2.loc[y_train.index]\n",
    "\n",
    "\n",
    "print(\n",
    "    f\"Discovery dataset (train) contains {x_train3.shape[1]} rows (5mC sites) and {x_train3.shape[0]} columns (samples)\")\n",
    "print(\n",
    "    f\"\\n{y_train['Clinical Trial'].value_counts(dropna=False).to_string()}\\n\")\n",
    "print(\n",
    "    f\"Validation dataset (test) contains {x_test.shape[1]} rows (5mC sites) and {x_test.shape[0]} columns (samples).\")\n",
    "print(f\"\\n{y_test['Clinical Trial'].value_counts(dropna=False).to_string()}\\n\")"
   ]
  },
  {
   "cell_type": "code",
   "execution_count": 12,
   "metadata": {},
   "outputs": [
    {
     "name": "stdout",
     "output_type": "stream",
     "text": [
      "Successfuly saved methyl data in x.pkl and clinical data in y.csv.\n",
      "Path: ../Data/Processed_Data/\n"
     ]
    }
   ],
   "source": [
    "x_train3.to_pickle(output_path+'x_train.pkl') # Save methyl data\n",
    "y_train.to_csv(output_path+'y_train.csv') # Save clinical data\n",
    "\n",
    "print(\n",
    "    f'Successfuly saved methyl data in x.pkl and clinical data in y.csv.\\nPath: {output_path}')"
   ]
  },
  {
   "attachments": {},
   "cell_type": "markdown",
   "metadata": {},
   "source": [
    "### Save Control and Relapse Data Separately"
   ]
  },
  {
   "cell_type": "code",
   "execution_count": 13,
   "metadata": {
    "tags": [
     "hide-input"
    ]
   },
   "outputs": [
    {
     "name": "stdout",
     "output_type": "stream",
     "text": [
      "Successfuly saved 147 control samples and 248 relapse samples.\n",
      "Path: ../Data/Processed_Data/\n"
     ]
    }
   ],
   "source": [
    "controls = df_[df_['Sample Type'].isin(['Bone Marrow Normal'])]\n",
    "\n",
    "relapse = df_[df_['Sample Type'].isin(['Relapse', 'Recurrent Blood Derived Cancer - Bone Marrow',\n",
    "                                       'Recurrent Blood Derived Cancer - Peripheral Blood'])]\n",
    "\n",
    "# Merge control and relapse samples\n",
    "t = pd.concat([controls, relapse], axis=0, join='outer',\n",
    "              names=['Control', 'Relapse'])\n",
    "\n",
    "# Join clinical data with methyl data\n",
    "t2 = df_methyl.join(t, how='right')\n",
    "\n",
    "# Save merged control and relapse samples\n",
    "t2.to_pickle(output_path+'control_relapse.pkl')\n",
    "\n",
    "print(\n",
    "    f'Successfuly saved {controls.shape[0]} control samples and {relapse.shape[0]} relapse samples.\\nPath: {output_path}')\n"
   ]
  },
  {
   "attachments": {},
   "cell_type": "markdown",
   "metadata": {},
   "source": [
    "## Watermark"
   ]
  },
  {
   "cell_type": "code",
   "execution_count": 14,
   "metadata": {
    "tags": [
     "remove-input",
     "remove-output"
    ]
   },
   "outputs": [],
   "source": [
    "%load_ext watermark"
   ]
  },
  {
   "cell_type": "code",
   "execution_count": 15,
   "metadata": {
    "tags": [
     "remove-input"
    ]
   },
   "outputs": [
    {
     "name": "stdout",
     "output_type": "stream",
     "text": [
      "Python implementation: CPython\n",
      "Python version       : 3.10.10\n",
      "IPython version      : 8.3.0\n",
      "\n",
      "pandas: 1.5.3\n",
      "\n"
     ]
    }
   ],
   "source": [
    "# produce a list of the loaded modules\n",
    "%watermark -v -p pandas"
   ]
  }
 ],
 "metadata": {
  "celltoolbar": "Tags",
  "kernelspec": {
   "display_name": ".venv_data_vizualization",
   "language": "python",
   "name": "python3"
  },
  "language_info": {
   "codemirror_mode": {
    "name": "ipython",
    "version": 3
   },
   "file_extension": ".py",
   "mimetype": "text/x-python",
   "name": "python",
   "nbconvert_exporter": "python",
   "pygments_lexer": "ipython3",
   "version": "3.8.16"
  },
  "vscode": {
   "interpreter": {
    "hash": "1536c79f85cc2a2ac13c148ca716b8e28acb6745983d6aacea6d4fcb49ea6e2e"
   }
  }
 },
 "nbformat": 4,
 "nbformat_minor": 2
}
