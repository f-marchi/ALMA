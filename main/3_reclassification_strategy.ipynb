{
 "cells": [
  {
   "attachments": {},
   "cell_type": "markdown",
   "metadata": {},
   "source": [
    "# Dx and Px Reclassification"
   ]
  },
  {
   "cell_type": "markdown",
   "metadata": {},
   "source": [
    "## Load, index, merge, and clean discovery clinical data"
   ]
  },
  {
   "cell_type": "code",
   "execution_count": 1,
   "metadata": {
    "tags": [
     "hide-input"
    ]
   },
   "outputs": [
    {
     "name": "stdout",
     "output_type": "stream",
     "text": [
      "The clinical data has been indexed and cleaned.\n"
     ]
    }
   ],
   "source": [
    "# Import functions to clean up clinical data\n",
    "import sys\n",
    "sys.path.append('../')\n",
    "from source.clinical_data_cleanup import *\n",
    "\n",
    "# Call functions to merge, index and clean clinical data files\n",
    "labels_0531         = clean_cog       (merge_index_0531())\n",
    "labels_1031         = clean_cog       (merge_index_1031())\n",
    "labels_aml05        = clean_aml05     (merge_index_aml05())\n",
    "labels_beataml      = clean_beataml   (merge_index_beataml())\n",
    "labels_amltcga      = clean_amltcga   (merge_index_amltcga())\n",
    "labels_nordic_all   = clean_nordic_all(merge_index_nordic_all())\n",
    "labels_mds_taml     = clean_mds_taml  (merge_index_mds_taml())\n",
    "labels_all_graal    = clean_all_graal (merge_index_all_graal())\n",
    "labels_target_all   = clean_target_all(merge_index_target_all())\n",
    "\n",
    "# Combine all clinical data labels into one dataframe\n",
    "labels_combined = pd.concat([labels_aml05, labels_beataml,\n",
    "                        labels_0531, labels_amltcga, labels_1031,\n",
    "                        labels_nordic_all, labels_mds_taml,\n",
    "                        labels_all_graal,labels_target_all],\n",
    "                        axis=0, join='outer')\n",
    "\n",
    "# Redefine output path (for troubleshooting purposes in case only this cell is run)\n",
    "mount = '/mnt/e/ALMA/'\n",
    "output_path = mount + '/Intermediate_Files/'\n",
    "\n",
    "# Read df\n",
    "df = pd.read_pickle(output_path + '3308samples_333058cpgs_withbatchcorrection_bvalues.pkl')\n",
    "\n",
    "# Add columns for later analyses\n",
    "labels_combined['Train-Test'] = 'Train Sample'\n",
    "labels_combined['Batch'] = df['Batch']\n",
    "\n",
    "# Remove samples that are not in the methyl dataset\n",
    "df_labels = labels_combined.loc[labels_combined.index.isin(df.index)].sort_index()\n",
    "\n",
    "print('The clinical data has been indexed and cleaned.')"
   ]
  },
  {
   "cell_type": "markdown",
   "metadata": {},
   "source": [
    "## Reclassification strategy: Dx WHO 2022"
   ]
  },
  {
   "cell_type": "markdown",
   "metadata": {},
   "source": [
    "`````{admonition} Source\n",
    ":class: tip\n",
    "Hasle H, Meshinchi S, Fogelstrand L, Alaggio R, et al. Acute myeloid leukaemias (AMLs) with defining genetic abnormalities. In: WHO Classification of Tumours Editorial Board. Paediatric tumours [Internet]. Lyon (France): International Agency for Research on Cancer; 2022 [cited 2024 Jan 1]. (WHO classification of tumours series, 5th ed.; vol. 7). Available from: https://tumourclassification.iarc.who.int/chapters/44.\n",
    "\n",
    "Pfister, Stefan M et al. “A Summary of the Inaugural WHO Classification of Pediatric Tumors: Transitioning from the Optical into the Molecular Era.” Cancer discovery vol. 12,2 (2022): 331-355. doi:10.1158/2159-8290.CD-21-1094\n",
    "`````"
   ]
  },
  {
   "cell_type": "code",
   "execution_count": 2,
   "metadata": {
    "tags": [
     "hide-input",
     "full-width"
    ]
   },
   "outputs": [
    {
     "ename": "FileNotFoundError",
     "evalue": "[Errno 2] No such file or directory: '../data/who2022_aml_classification.csv'",
     "output_type": "error",
     "traceback": [
      "\u001b[0;31m---------------------------------------------------------------------------\u001b[0m",
      "\u001b[0;31mFileNotFoundError\u001b[0m                         Traceback (most recent call last)",
      "Cell \u001b[0;32mIn[2], line 7\u001b[0m\n\u001b[1;32m      4\u001b[0m \u001b[38;5;28;01mfrom\u001b[39;00m \u001b[38;5;21;01mitables\u001b[39;00m \u001b[38;5;28;01mimport\u001b[39;00m show\n\u001b[1;32m      6\u001b[0m \u001b[38;5;66;03m# Read the CSV file\u001b[39;00m\n\u001b[0;32m----> 7\u001b[0m dx_criteria \u001b[38;5;241m=\u001b[39m \u001b[43mpd\u001b[49m\u001b[38;5;241;43m.\u001b[39;49m\u001b[43mread_csv\u001b[49m\u001b[43m(\u001b[49m\u001b[38;5;124;43m'\u001b[39;49m\u001b[38;5;124;43m../data/who2022_aml_classification.csv\u001b[39;49m\u001b[38;5;124;43m'\u001b[39;49m\u001b[43m)\u001b[49m\n\u001b[1;32m      9\u001b[0m \u001b[38;5;66;03m# Display the dataframe using itables\u001b[39;00m\n\u001b[1;32m     10\u001b[0m itables\u001b[38;5;241m.\u001b[39mshow(dx_criteria, columnDefs\u001b[38;5;241m=\u001b[39m[{\u001b[38;5;124m\"\u001b[39m\u001b[38;5;124mclassName\u001b[39m\u001b[38;5;124m\"\u001b[39m: \u001b[38;5;124m\"\u001b[39m\u001b[38;5;124mdt-left\u001b[39m\u001b[38;5;124m\"\u001b[39m, \u001b[38;5;124m\"\u001b[39m\u001b[38;5;124mtargets\u001b[39m\u001b[38;5;124m\"\u001b[39m: \u001b[38;5;124m\"\u001b[39m\u001b[38;5;124m_all\u001b[39m\u001b[38;5;124m\"\u001b[39m}], paging\u001b[38;5;241m=\u001b[39m\u001b[38;5;28;01mFalse\u001b[39;00m)\n",
      "File \u001b[0;32m~/projects/MethylScore/Code/.venv_py38/lib/python3.8/site-packages/pandas/io/parsers/readers.py:912\u001b[0m, in \u001b[0;36mread_csv\u001b[0;34m(filepath_or_buffer, sep, delimiter, header, names, index_col, usecols, dtype, engine, converters, true_values, false_values, skipinitialspace, skiprows, skipfooter, nrows, na_values, keep_default_na, na_filter, verbose, skip_blank_lines, parse_dates, infer_datetime_format, keep_date_col, date_parser, date_format, dayfirst, cache_dates, iterator, chunksize, compression, thousands, decimal, lineterminator, quotechar, quoting, doublequote, escapechar, comment, encoding, encoding_errors, dialect, on_bad_lines, delim_whitespace, low_memory, memory_map, float_precision, storage_options, dtype_backend)\u001b[0m\n\u001b[1;32m    899\u001b[0m kwds_defaults \u001b[38;5;241m=\u001b[39m _refine_defaults_read(\n\u001b[1;32m    900\u001b[0m     dialect,\n\u001b[1;32m    901\u001b[0m     delimiter,\n\u001b[0;32m   (...)\u001b[0m\n\u001b[1;32m    908\u001b[0m     dtype_backend\u001b[38;5;241m=\u001b[39mdtype_backend,\n\u001b[1;32m    909\u001b[0m )\n\u001b[1;32m    910\u001b[0m kwds\u001b[38;5;241m.\u001b[39mupdate(kwds_defaults)\n\u001b[0;32m--> 912\u001b[0m \u001b[38;5;28;01mreturn\u001b[39;00m \u001b[43m_read\u001b[49m\u001b[43m(\u001b[49m\u001b[43mfilepath_or_buffer\u001b[49m\u001b[43m,\u001b[49m\u001b[43m \u001b[49m\u001b[43mkwds\u001b[49m\u001b[43m)\u001b[49m\n",
      "File \u001b[0;32m~/projects/MethylScore/Code/.venv_py38/lib/python3.8/site-packages/pandas/io/parsers/readers.py:577\u001b[0m, in \u001b[0;36m_read\u001b[0;34m(filepath_or_buffer, kwds)\u001b[0m\n\u001b[1;32m    574\u001b[0m _validate_names(kwds\u001b[38;5;241m.\u001b[39mget(\u001b[38;5;124m\"\u001b[39m\u001b[38;5;124mnames\u001b[39m\u001b[38;5;124m\"\u001b[39m, \u001b[38;5;28;01mNone\u001b[39;00m))\n\u001b[1;32m    576\u001b[0m \u001b[38;5;66;03m# Create the parser.\u001b[39;00m\n\u001b[0;32m--> 577\u001b[0m parser \u001b[38;5;241m=\u001b[39m \u001b[43mTextFileReader\u001b[49m\u001b[43m(\u001b[49m\u001b[43mfilepath_or_buffer\u001b[49m\u001b[43m,\u001b[49m\u001b[43m \u001b[49m\u001b[38;5;241;43m*\u001b[39;49m\u001b[38;5;241;43m*\u001b[39;49m\u001b[43mkwds\u001b[49m\u001b[43m)\u001b[49m\n\u001b[1;32m    579\u001b[0m \u001b[38;5;28;01mif\u001b[39;00m chunksize \u001b[38;5;129;01mor\u001b[39;00m iterator:\n\u001b[1;32m    580\u001b[0m     \u001b[38;5;28;01mreturn\u001b[39;00m parser\n",
      "File \u001b[0;32m~/projects/MethylScore/Code/.venv_py38/lib/python3.8/site-packages/pandas/io/parsers/readers.py:1407\u001b[0m, in \u001b[0;36mTextFileReader.__init__\u001b[0;34m(self, f, engine, **kwds)\u001b[0m\n\u001b[1;32m   1404\u001b[0m     \u001b[38;5;28mself\u001b[39m\u001b[38;5;241m.\u001b[39moptions[\u001b[38;5;124m\"\u001b[39m\u001b[38;5;124mhas_index_names\u001b[39m\u001b[38;5;124m\"\u001b[39m] \u001b[38;5;241m=\u001b[39m kwds[\u001b[38;5;124m\"\u001b[39m\u001b[38;5;124mhas_index_names\u001b[39m\u001b[38;5;124m\"\u001b[39m]\n\u001b[1;32m   1406\u001b[0m \u001b[38;5;28mself\u001b[39m\u001b[38;5;241m.\u001b[39mhandles: IOHandles \u001b[38;5;241m|\u001b[39m \u001b[38;5;28;01mNone\u001b[39;00m \u001b[38;5;241m=\u001b[39m \u001b[38;5;28;01mNone\u001b[39;00m\n\u001b[0;32m-> 1407\u001b[0m \u001b[38;5;28mself\u001b[39m\u001b[38;5;241m.\u001b[39m_engine \u001b[38;5;241m=\u001b[39m \u001b[38;5;28;43mself\u001b[39;49m\u001b[38;5;241;43m.\u001b[39;49m\u001b[43m_make_engine\u001b[49m\u001b[43m(\u001b[49m\u001b[43mf\u001b[49m\u001b[43m,\u001b[49m\u001b[43m \u001b[49m\u001b[38;5;28;43mself\u001b[39;49m\u001b[38;5;241;43m.\u001b[39;49m\u001b[43mengine\u001b[49m\u001b[43m)\u001b[49m\n",
      "File \u001b[0;32m~/projects/MethylScore/Code/.venv_py38/lib/python3.8/site-packages/pandas/io/parsers/readers.py:1661\u001b[0m, in \u001b[0;36mTextFileReader._make_engine\u001b[0;34m(self, f, engine)\u001b[0m\n\u001b[1;32m   1659\u001b[0m     \u001b[38;5;28;01mif\u001b[39;00m \u001b[38;5;124m\"\u001b[39m\u001b[38;5;124mb\u001b[39m\u001b[38;5;124m\"\u001b[39m \u001b[38;5;129;01mnot\u001b[39;00m \u001b[38;5;129;01min\u001b[39;00m mode:\n\u001b[1;32m   1660\u001b[0m         mode \u001b[38;5;241m+\u001b[39m\u001b[38;5;241m=\u001b[39m \u001b[38;5;124m\"\u001b[39m\u001b[38;5;124mb\u001b[39m\u001b[38;5;124m\"\u001b[39m\n\u001b[0;32m-> 1661\u001b[0m \u001b[38;5;28mself\u001b[39m\u001b[38;5;241m.\u001b[39mhandles \u001b[38;5;241m=\u001b[39m \u001b[43mget_handle\u001b[49m\u001b[43m(\u001b[49m\n\u001b[1;32m   1662\u001b[0m \u001b[43m    \u001b[49m\u001b[43mf\u001b[49m\u001b[43m,\u001b[49m\n\u001b[1;32m   1663\u001b[0m \u001b[43m    \u001b[49m\u001b[43mmode\u001b[49m\u001b[43m,\u001b[49m\n\u001b[1;32m   1664\u001b[0m \u001b[43m    \u001b[49m\u001b[43mencoding\u001b[49m\u001b[38;5;241;43m=\u001b[39;49m\u001b[38;5;28;43mself\u001b[39;49m\u001b[38;5;241;43m.\u001b[39;49m\u001b[43moptions\u001b[49m\u001b[38;5;241;43m.\u001b[39;49m\u001b[43mget\u001b[49m\u001b[43m(\u001b[49m\u001b[38;5;124;43m\"\u001b[39;49m\u001b[38;5;124;43mencoding\u001b[39;49m\u001b[38;5;124;43m\"\u001b[39;49m\u001b[43m,\u001b[49m\u001b[43m \u001b[49m\u001b[38;5;28;43;01mNone\u001b[39;49;00m\u001b[43m)\u001b[49m\u001b[43m,\u001b[49m\n\u001b[1;32m   1665\u001b[0m \u001b[43m    \u001b[49m\u001b[43mcompression\u001b[49m\u001b[38;5;241;43m=\u001b[39;49m\u001b[38;5;28;43mself\u001b[39;49m\u001b[38;5;241;43m.\u001b[39;49m\u001b[43moptions\u001b[49m\u001b[38;5;241;43m.\u001b[39;49m\u001b[43mget\u001b[49m\u001b[43m(\u001b[49m\u001b[38;5;124;43m\"\u001b[39;49m\u001b[38;5;124;43mcompression\u001b[39;49m\u001b[38;5;124;43m\"\u001b[39;49m\u001b[43m,\u001b[49m\u001b[43m \u001b[49m\u001b[38;5;28;43;01mNone\u001b[39;49;00m\u001b[43m)\u001b[49m\u001b[43m,\u001b[49m\n\u001b[1;32m   1666\u001b[0m \u001b[43m    \u001b[49m\u001b[43mmemory_map\u001b[49m\u001b[38;5;241;43m=\u001b[39;49m\u001b[38;5;28;43mself\u001b[39;49m\u001b[38;5;241;43m.\u001b[39;49m\u001b[43moptions\u001b[49m\u001b[38;5;241;43m.\u001b[39;49m\u001b[43mget\u001b[49m\u001b[43m(\u001b[49m\u001b[38;5;124;43m\"\u001b[39;49m\u001b[38;5;124;43mmemory_map\u001b[39;49m\u001b[38;5;124;43m\"\u001b[39;49m\u001b[43m,\u001b[49m\u001b[43m \u001b[49m\u001b[38;5;28;43;01mFalse\u001b[39;49;00m\u001b[43m)\u001b[49m\u001b[43m,\u001b[49m\n\u001b[1;32m   1667\u001b[0m \u001b[43m    \u001b[49m\u001b[43mis_text\u001b[49m\u001b[38;5;241;43m=\u001b[39;49m\u001b[43mis_text\u001b[49m\u001b[43m,\u001b[49m\n\u001b[1;32m   1668\u001b[0m \u001b[43m    \u001b[49m\u001b[43merrors\u001b[49m\u001b[38;5;241;43m=\u001b[39;49m\u001b[38;5;28;43mself\u001b[39;49m\u001b[38;5;241;43m.\u001b[39;49m\u001b[43moptions\u001b[49m\u001b[38;5;241;43m.\u001b[39;49m\u001b[43mget\u001b[49m\u001b[43m(\u001b[49m\u001b[38;5;124;43m\"\u001b[39;49m\u001b[38;5;124;43mencoding_errors\u001b[39;49m\u001b[38;5;124;43m\"\u001b[39;49m\u001b[43m,\u001b[49m\u001b[43m \u001b[49m\u001b[38;5;124;43m\"\u001b[39;49m\u001b[38;5;124;43mstrict\u001b[39;49m\u001b[38;5;124;43m\"\u001b[39;49m\u001b[43m)\u001b[49m\u001b[43m,\u001b[49m\n\u001b[1;32m   1669\u001b[0m \u001b[43m    \u001b[49m\u001b[43mstorage_options\u001b[49m\u001b[38;5;241;43m=\u001b[39;49m\u001b[38;5;28;43mself\u001b[39;49m\u001b[38;5;241;43m.\u001b[39;49m\u001b[43moptions\u001b[49m\u001b[38;5;241;43m.\u001b[39;49m\u001b[43mget\u001b[49m\u001b[43m(\u001b[49m\u001b[38;5;124;43m\"\u001b[39;49m\u001b[38;5;124;43mstorage_options\u001b[39;49m\u001b[38;5;124;43m\"\u001b[39;49m\u001b[43m,\u001b[49m\u001b[43m \u001b[49m\u001b[38;5;28;43;01mNone\u001b[39;49;00m\u001b[43m)\u001b[49m\u001b[43m,\u001b[49m\n\u001b[1;32m   1670\u001b[0m \u001b[43m\u001b[49m\u001b[43m)\u001b[49m\n\u001b[1;32m   1671\u001b[0m \u001b[38;5;28;01massert\u001b[39;00m \u001b[38;5;28mself\u001b[39m\u001b[38;5;241m.\u001b[39mhandles \u001b[38;5;129;01mis\u001b[39;00m \u001b[38;5;129;01mnot\u001b[39;00m \u001b[38;5;28;01mNone\u001b[39;00m\n\u001b[1;32m   1672\u001b[0m f \u001b[38;5;241m=\u001b[39m \u001b[38;5;28mself\u001b[39m\u001b[38;5;241m.\u001b[39mhandles\u001b[38;5;241m.\u001b[39mhandle\n",
      "File \u001b[0;32m~/projects/MethylScore/Code/.venv_py38/lib/python3.8/site-packages/pandas/io/common.py:859\u001b[0m, in \u001b[0;36mget_handle\u001b[0;34m(path_or_buf, mode, encoding, compression, memory_map, is_text, errors, storage_options)\u001b[0m\n\u001b[1;32m    854\u001b[0m \u001b[38;5;28;01melif\u001b[39;00m \u001b[38;5;28misinstance\u001b[39m(handle, \u001b[38;5;28mstr\u001b[39m):\n\u001b[1;32m    855\u001b[0m     \u001b[38;5;66;03m# Check whether the filename is to be opened in binary mode.\u001b[39;00m\n\u001b[1;32m    856\u001b[0m     \u001b[38;5;66;03m# Binary mode does not support 'encoding' and 'newline'.\u001b[39;00m\n\u001b[1;32m    857\u001b[0m     \u001b[38;5;28;01mif\u001b[39;00m ioargs\u001b[38;5;241m.\u001b[39mencoding \u001b[38;5;129;01mand\u001b[39;00m \u001b[38;5;124m\"\u001b[39m\u001b[38;5;124mb\u001b[39m\u001b[38;5;124m\"\u001b[39m \u001b[38;5;129;01mnot\u001b[39;00m \u001b[38;5;129;01min\u001b[39;00m ioargs\u001b[38;5;241m.\u001b[39mmode:\n\u001b[1;32m    858\u001b[0m         \u001b[38;5;66;03m# Encoding\u001b[39;00m\n\u001b[0;32m--> 859\u001b[0m         handle \u001b[38;5;241m=\u001b[39m \u001b[38;5;28;43mopen\u001b[39;49m\u001b[43m(\u001b[49m\n\u001b[1;32m    860\u001b[0m \u001b[43m            \u001b[49m\u001b[43mhandle\u001b[49m\u001b[43m,\u001b[49m\n\u001b[1;32m    861\u001b[0m \u001b[43m            \u001b[49m\u001b[43mioargs\u001b[49m\u001b[38;5;241;43m.\u001b[39;49m\u001b[43mmode\u001b[49m\u001b[43m,\u001b[49m\n\u001b[1;32m    862\u001b[0m \u001b[43m            \u001b[49m\u001b[43mencoding\u001b[49m\u001b[38;5;241;43m=\u001b[39;49m\u001b[43mioargs\u001b[49m\u001b[38;5;241;43m.\u001b[39;49m\u001b[43mencoding\u001b[49m\u001b[43m,\u001b[49m\n\u001b[1;32m    863\u001b[0m \u001b[43m            \u001b[49m\u001b[43merrors\u001b[49m\u001b[38;5;241;43m=\u001b[39;49m\u001b[43merrors\u001b[49m\u001b[43m,\u001b[49m\n\u001b[1;32m    864\u001b[0m \u001b[43m            \u001b[49m\u001b[43mnewline\u001b[49m\u001b[38;5;241;43m=\u001b[39;49m\u001b[38;5;124;43m\"\u001b[39;49m\u001b[38;5;124;43m\"\u001b[39;49m\u001b[43m,\u001b[49m\n\u001b[1;32m    865\u001b[0m \u001b[43m        \u001b[49m\u001b[43m)\u001b[49m\n\u001b[1;32m    866\u001b[0m     \u001b[38;5;28;01melse\u001b[39;00m:\n\u001b[1;32m    867\u001b[0m         \u001b[38;5;66;03m# Binary mode\u001b[39;00m\n\u001b[1;32m    868\u001b[0m         handle \u001b[38;5;241m=\u001b[39m \u001b[38;5;28mopen\u001b[39m(handle, ioargs\u001b[38;5;241m.\u001b[39mmode)\n",
      "\u001b[0;31mFileNotFoundError\u001b[0m: [Errno 2] No such file or directory: '../data/who2022_aml_classification.csv'"
     ]
    }
   ],
   "source": [
    "import pandas as pd\n",
    "import itables\n",
    "\n",
    "from itables import show\n",
    "\n",
    "# Read the CSV file\n",
    "dx_criteria = pd.read_csv('../data/who2022_aml_classification.csv')\n",
    "\n",
    "# Display the dataframe using itables\n",
    "itables.show(dx_criteria, columnDefs=[{\"className\": \"dt-left\", \"targets\": \"_all\"}], paging=False)\n"
   ]
  },
  {
   "cell_type": "markdown",
   "metadata": {},
   "source": [
    "## Reclassification strategy: Risk Group COG AAML1831 RR"
   ]
  },
  {
   "cell_type": "code",
   "execution_count": 3,
   "metadata": {
    "tags": [
     "hide-input",
     "full-width"
    ]
   },
   "outputs": [
    {
     "data": {
      "text/html": [
       "<style>.itables table td {\n",
       "    text-overflow: ellipsis;\n",
       "    overflow: hidden;\n",
       "}\n",
       "\n",
       ".itables table th {\n",
       "    text-overflow: ellipsis;\n",
       "    overflow: hidden;\n",
       "}\n",
       "\n",
       ".itables thead input {\n",
       "    width: 100%;\n",
       "    padding: 3px;\n",
       "    box-sizing: border-box;\n",
       "}\n",
       "\n",
       ".itables tfoot input {\n",
       "    width: 100%;\n",
       "    padding: 3px;\n",
       "    box-sizing: border-box;\n",
       "}\n",
       "</style>\n",
       "<div class=\"itables\">\n",
       "<table id=\"053f5636-8fa0-4666-b7c4-b69999b48bec\" class=\"display nowrap\"style=\"table-layout:auto;width:auto;margin:auto;caption-side:bottom\"><thead>\n",
       "    <tr style=\"text-align: right;\">\n",
       "      \n",
       "      <th>Low Risk</th>\n",
       "      <th>Standard Risk</th>\n",
       "      <th>High Risk</th>\n",
       "    </tr>\n",
       "  </thead><tbody><tr><td>Loading... (need <a href=https://mwouts.github.io/itables/troubleshooting.html>help</a>?)</td></tr></tbody></table>\n",
       "<link rel=\"stylesheet\" type=\"text/css\" href=\"https://cdn.datatables.net/1.13.1/css/jquery.dataTables.min.css\">\n",
       "<script type=\"module\">\n",
       "    // Import jquery and DataTable\n",
       "    import 'https://code.jquery.com/jquery-3.6.0.min.js';\n",
       "    import dt from 'https://cdn.datatables.net/1.12.1/js/jquery.dataTables.mjs';\n",
       "    dt($);\n",
       "\n",
       "    // Define the table data\n",
       "    const data = [[\"t(8;21)(q21.2;q22) [RUNX1-RUNX1T1]\", \"patients without HR or LR features \", \"Monosomy 7\"], [\"inv(16)/t(16;16)(p13.1q22.1) [CBFB-MYH11]\", \"\", \"Monosomy 5/del5q-\"], [\"NPM1 positive\", \"\", \"FLT3/ITD+ with allelic ratio > 0.1%\"], [\"CEBPA positive\\u00a0(Bzip mutation)\", \"\", \"t(6;9)(p22.3;q34.1) [DEK-NUP214]\"], [\"\", \"\", \"inv(3)(q21.3q26.2) [RPN1-MECOM]\"], [\"\", \"\", \"t(3;21)(26.2;q22) [RUNX1-MECOM]\"], [\"\", \"\", \"t(3;5)(q25q34) [NPM1-MLF1]\"], [\"\", \"\", \"11p15 (NUP98) rearrangements\"], [\"\", \"\", \"inv(16)(p13.3q24.3) [CBFA2T3-GLIS2]\"], [\"\", \"\", \"10p12.3 (MLLT10) rearrangements\"], [\"\", \"\", \"KMT2A rearrangements\"], [\"\", \"\", \"t(4;11)(q21;q23) [KMT2A-AFF1]\"], [\"\", \"\", \"t(6;11)(q27;q23) [KMT2A-MLLT4] (aka AF6, AFDN)\"], [\"\", \"\", \"t(10;11)(p11.2;q23) [KMT2A-ABI1]\"], [\"\", \"\", \"t(10;11)(p12;q23) [KMT2A-MLLT10]\"], [\"\", \"\", \"t(11;19)(q23;p13.3) [KMT2A-MLLT1]\"], [\"\", \"\", \"KMT2A-PTD\"], [\"\", \"\", \"ETS family rearrangements\"], [\"\", \"\", \"12p13.2 (ETV6) rearrangements\"], [\"\", \"\", \"12p13.2 (ETV6) deletion\"], [\"\", \"\", \"21q22.2 (ERG) rearrangements\"], [\"\", \"\", \"FEV rearrangements\"], [\"\", \"\", \"FLI1 rearrangements\"], [\"\", \"\", \"CREBBP\"], [\"\", \"\", \"t(8;16)(p11.2;p13.3) [KAT6A-CREBBP]\"], [\"\", \"\", \"CREBBP single nucleotide variants\"], [\"\", \"\", \"CREBBP insertion/deletions\"], [\"\", \"\", \"CEBPA with CSF3R\"], [\"\", \"\", \"IDH alterations\"], [\"\", \"\", \"IDH without NPM1\"], [\"\", \"\", \"IDH with NPM1 and DNMT3A\"], [\"\", \"\", \"IDH with NPM1 and FLT3-ITD\"], [\"\", \"\", \"Exon 5 \\u2013 Exon 33 inv(16)/t16;16)(p13.1q22.1) [CBFB-MYH11]  with exon 17 c-KIT\"], [\"\", \"\", \"t(8;21)(q21.2;q22) [RUNX1-RUNX1T1] with ASXL1\"], [\"\", \"\", \"TP53\"], [\"\", \"\", \"UBTF/ITD\"], [\"\", \"\", \"NPM1 + DNMT3A\"], [\"\", \"\", \"RUNX1-RUNX1T1 + MGA alteration\"], [\"\", \"\", \"MYC SNV/indels\"]];\n",
       "\n",
       "    // Define the dt_args\n",
       "    let dt_args = {\"columnDefs\": [{\"className\": \"dt-left\", \"targets\": \"_all\"}], \"order\": []};\n",
       "    dt_args[\"data\"] = data;\n",
       "\n",
       "    $(document).ready(function () {\n",
       "        \n",
       "        $('#053f5636-8fa0-4666-b7c4-b69999b48bec').DataTable(dt_args);\n",
       "    });\n",
       "</script>\n",
       "</div>\n"
      ],
      "text/plain": [
       "<IPython.core.display.HTML object>"
      ]
     },
     "metadata": {},
     "output_type": "display_data"
    }
   ],
   "source": [
    "path = mount + 'Raw_Data/Clinical_Data/updated_risk_group_COG_RR_1-10-2024/'\n",
    "\n",
    "COG_RR_dataset_Jan2024 = pd.read_csv(path + 'COG_risk_added_v2_cleanedFM.csv', index_col=0,)[\n",
    "                                    ['Primary Fusion', 'Cyto/Molecular Risk', 'Reason', 'MRD at EOI I']\n",
    "                                    ].rename(columns={'Cyto/Molecular Risk': 'Risk Group AAML1831'})\n",
    "\n",
    "# Join the two dataframes based on sample index\n",
    "df_labels2 = df_labels.join(COG_RR_dataset_Jan2024)\n",
    "\n",
    "# Combine `Gene Fusion` and `Primary Fusion` columns with comma while ignoring NaNs/empty strings\n",
    "df_labels2['Gene Fusion'] = df_labels2[['Primary Fusion', 'Gene Fusion',]]\\\n",
    ".apply(lambda x: ','.join(filter(lambda i: i is not None and i==i, x)), axis=1)\n",
    "\n",
    "# Replace '' with np.nan\n",
    "df_labels2['Gene Fusion'] = df_labels2['Gene Fusion'].replace({'': np.nan})\n",
    "\n",
    "# Read criteria\n",
    "px_criteria = pd.read_excel(path + 'AAML1831_risk_stratification_and_proposed_additions_FMcleaned.xlsx').replace({ np.nan: ''})\n",
    "\n",
    "# Display the dataframe using itables\n",
    "import itables\n",
    "\n",
    "itables.show(px_criteria, columnDefs=[{\"className\": \"dt-left\", \"targets\": \"_all\"}])"
   ]
  },
  {
   "cell_type": "markdown",
   "metadata": {},
   "source": [
    "### Main reclassification functions (applied to all samples)"
   ]
  },
  {
   "cell_type": "code",
   "execution_count": 4,
   "metadata": {
    "tags": [
     "hide-input"
    ]
   },
   "outputs": [],
   "source": [
    "def classify_controls(normal_samples):\n",
    "    mapping = {\n",
    "        'Bone Marrow Normal'  : 'Otherwise-Normal Control',\n",
    "        'Blood Derived Normal': 'Otherwise-Normal Control'}\n",
    "    \n",
    "    for key, value in mapping.items():\n",
    "        if key in normal_samples:\n",
    "            return value\n",
    "\n",
    "def classify_fusion(gene_fusion):\n",
    "    mapping = {\n",
    "    'RUNX1-RUNX1T1': 'AML with t(8;21); RUNX1::RUNX1T1',\n",
    "    'CBFB-MYH11':    'AML with inv(16); t(16;16); CBFB::MYH11',\n",
    "    'KMT2A':         'AML with t(v;11q23); KMT2A-r',\n",
    "    'MLL':           'AML with t(v;11q23); KMT2A-r',\n",
    "    'PML-RARA':      'APL with t(15;17); PML::RARA',\n",
    "    'DEK-NUP214':    'AML with t(6;9); DEK::NUP214',\n",
    "    'MECOM':         'AML with inv(3); t(3;3); MECOM-r',\n",
    "    'ETV6':          'AML with ETV6 fusion',\n",
    "    'NPM1':          'AML with mutated NPM1',\n",
    "    'RBM15-MKL1':    'AML with t(1;22); RBM15::MKL1',\n",
    "    'NUP98':         'AML with NUP98-fusion',\n",
    "    'KAT6A-CREBBP':  'AML with t(8;16); KAT6A::CREBBP',\n",
    "    'FUS-ERG':       'AML with t(16;21); FUS::ERG',\n",
    "    'CBFA2T3-GLIS2': 'AML with CBFA2T3::GLIS2',\n",
    "    'BCR-ABL1':       'AML with t(9;22); BCR::ABL1',\n",
    "\n",
    "    # Other uncharacterized abdnormalities present in the dataset but not specifically in guidelines\n",
    "\n",
    "    # 'RUNX1-CBFA2T3': 'AML NOS',\n",
    "    # 'PRDM16-RPN1':   'AML NOS',\n",
    "    # 'RBM15-MRTFA':   'AML with t(1;22); RBM15::MKL1',\n",
    "    # 'CBFA2T3-GLIS3': 'AML with CBFA2T3::GLIS2',\n",
    "    # 'PSIP1-NUP214':  'AML with t(6;9); DEK::NUP214',\n",
    "    # 'XPO1-TNRC18':   'AML NOS', \n",
    "    # 'HNRNPH1-ERG':   'AML with t(16;21); FUS::ERG',\n",
    "    # 'NIPBL-HOXB9':   'AML NOS', \n",
    "    # 'SET-NUP214':    'AML with t(6;9); DEK::NUP214', \n",
    "    # 'FLI1-IFIT2':    'AML NOS', \n",
    "    # 'TCF4-ZEB2':     'AML NOS',\n",
    "    # 'MBTD1-ZMYND11': 'AML NOS', \n",
    "    # 'FOSB-KLF6':     'AML NOS', \n",
    "    # 'SFPQ-ZFP36L2':  'AML NOS', \n",
    "    # 'RUNX1-LINC00478':'AML NOS',\n",
    "    # 'RUNX1-EVX1':     'AML NOS',  \n",
    "    # 'PSPC1-ZFP36L1':  'AML NOS', \n",
    "    # 'EWSR1-FEV':      'AML NOS',\n",
    "    # 'STAG2-AFF2':     'AML NOS', \n",
    "    # 'MYB-GATA1':      'AML NOS', \n",
    "    # 'RUNX1-ZFPM2':    'AML NOS', \n",
    "    # 'RUNX1-CBFA2T2':  'AML NOS',\n",
    "    # 'PIM3-BRD1':      'AML NOS',\n",
    "    'KAT6A-EP300':    'AML with t(8;16); KAT6A::CREBBP',\n",
    "    # 'DOT1L-RPS15':    'AML NOS',\n",
    "    # 'FUS-FEV':        'AML with t(16;21); FUS::ERG',\n",
    "    'KAT6A-NCOA2':    'AML with t(8;16); KAT6A::CREBBP',\n",
    "    # 'JARID2-PTP4A1':  'AML NOS',\n",
    "    # 'FUS-FLI1':       'AML with t(16;21); FUS::ERG',\n",
    "    }    \n",
    "    \n",
    "    for key, value in mapping.items():\n",
    "        if key in gene_fusion:\n",
    "            return value\n",
    "\n",
    "def classify_cebpa(cebpa_mutation):\n",
    "    mapping = {\n",
    "        'Yes': 'AML with mutated CEBPA',\n",
    "        'Positive': 'AML with mutated CEBPA'}\n",
    "    \n",
    "    for key, value in mapping.items():\n",
    "        if key in cebpa_mutation:\n",
    "            return value\n",
    "\n",
    "def classify_npm(npm_mutation):\n",
    "    mapping = {\n",
    "        'Yes': 'AML with mutated NPM1',\n",
    "        'Positive': 'AML with mutated NPM1'\n",
    "    }\n",
    "\n",
    "    for key, value in mapping.items():\n",
    "        if key in npm_mutation:\n",
    "            return value\n",
    "\n",
    "def classify_karyotype(structural_variation):\n",
    "    mapping = {\n",
    "        # 't(8;16)': 'AML with t(8;16); KAT6A::CREBBP',\n",
    "        # 't(16;21)': 'AML with t(16;21); FUS::ERG',\n",
    "        # 't(6;9)': 'AML with t(6;9); DEK::NUP214',\n",
    "        # 't(1;22)': 'AML with t(1;22); RBM15::MKL1',\n",
    "        # 'inv(3)': 'AML with inv(3); t(3;3); MECOM-r',\n",
    "        # 't(3;3)': 'AML with inv(3); t(3;3); MECOM-r',\n",
    "        # 't(6;11)': 'AML with t(v;11q23); KMT2A-r',\n",
    "        # 't(1;11)': 'AML with t(v;11q23); KMT2A-r',\n",
    "        # 't(4;11)': 'AML with t(v;11q23); KMT2A-r',\n",
    "        # 'ins(6;11)': 'AML with t(v;11q23); KMT2A-r', # Surprisingly, karyotype did not prove reliable\n",
    "\n",
    "        }\n",
    "    \n",
    "    for key, value in mapping.items():\n",
    "        if key in structural_variation:\n",
    "            return value\n",
    "            \n",
    "def classify_annotated_diagnosis(diagnosis):\n",
    "    mapping = {\n",
    "        'mutated NPM1'                                                  : 'AML with mutated NPM1',\n",
    "        'mutated CEBPA'                                                 : 'AML with mutated CEBPA',\n",
    "        'myelodysplasia-related changes'                                : 'MDS-related; secondary myeloid',\n",
    "        \"AML with mutated NPM1\"                                         : \"AML with mutated NPM1\",\n",
    "        \"AML with myelodysplasia-related changes\"                       : \"MDS-related; secondary myeloid\",\n",
    "        \"AML with inv(16)(p13.1q22) or t(16;16)(p13.1;q22); CBFB-MYH11\" : \"AML with inv(16); t(16;16); CBFB::MYH11\",\n",
    "        \"AML with mutated CEBPA\"                                        : \"AML with mutated CEBPA\",\n",
    "        \"Therapy-related myeloid neoplasms\"                             : \"MDS-related; secondary myeloid\",\n",
    "        \"PML-RARA\"                                                      : \"APL with t(15;17); PML::RARA\",\n",
    "        \"AML with t(9;11)(p22;q23); MLLT3-MLL\"                          : \"AML with t(v;11q23); KMT2A-r\",\n",
    "        \"AML with t(8;21)(q22;q22.1); RUNX1-RUNX1T1\"                    : \"AML with t(8;21); RUNX1::RUNX1T1\",\n",
    "        \"AML with inv(3)(q21q26.2) or t(3;3)(q21;q26.2); RPN1-EVI1\"     : \"AML with inv(3); t(3;3); MECOM-r\",\n",
    "        \"Mixed phenotype acute leukaemia, T/myeloid\"                    : \"MPAL T-Lymphoblastic/Myeloid\",\n",
    "        \"Myeloid leukaemia associated with Down syndrome\"               : \"AML with Down syndrome\",\n",
    "        'AML with CBFB-MYH11'                                           : 'AML with inv(16); t(16;16); CBFB::MYH11',\n",
    "        'AML with RUNX1-RUNX1T1'                                        : 'AML with t(8;21); RUNX1::RUNX1T1',\n",
    "        'AML with BCR-ABL1'                                             : 'AML with t(9;22); BCR::ABL1',\n",
    "        'MDS-related or secondary myeloid neoplasms'                    : 'MDS-related; secondary myeloid',\n",
    "        'Myeloid Leukemia with t(8;21) (q22;q22) [AML1/ETO]'            : \"AML with t(8;21); RUNX1::RUNX1T1\",\n",
    "        'Myeloid Leukemia with 11q23/MLL Abnormalities'                 : \"AML with t(v;11q23); KMT2A-r\",\n",
    "        'Myeloid Leukemia with t(6;9)(p23;q34) DEK-NUP214'              : 'AML with t(6;9); DEK::NUP214',\n",
    "        'Myeloid Leukemia with inv(16) or t(16;16) [CBFbeta/MYH11]'     : \"AML with inv(16); t(16;16); CBFB::MYH11\",\n",
    "        \n",
    "        # ALL\n",
    "        'T-ALL'                                                         :'T-ALL NOS',\n",
    "        'BCP-ALL HeH'                                                   :'B-ALL with hyperdiploidy',\n",
    "        'BCP-ALL t(12;21)'                                              :'B-ALL with t(12;21); ETV6::RUNX1',         \n",
    "        'BCP-ALL 11q23/MLL'                                             :'B-ALL with t(v;11q23); KMT2A-r',       \n",
    "        'BCP-ALL t(1;19)'                                               :'B-ALL with t(1;19); TCF3::PBX1',       \n",
    "        'BCP-ALL dic(9;20)'                                             :'B-ALL dic(9;20)',       \n",
    "        'BCP-ALL t(9;22)'                                               :'B-ALL with t(9;22); BCR::ABL1',       \n",
    "        'BCP-ALL iAMP21'                                                :'B-ALL with iAMP21',        \n",
    "        'BCP-ALL <45chr'                                                :'B-ALL with hypodiploidy',        \n",
    "        'BCP-ALL >67chr'                                                :'B-ALL with hyperdiploidy',\n",
    "\n",
    "        # MPAL\n",
    "        'MPAL with MLL'                                                 :'MPAL with t(v;11q23.3)/KMT2A-r',\n",
    "        'MPAL with T/M'                                                 :'MPAL T-Lymphoblastic/Myeloid',\n",
    "        'MPAL with B/M'                                                 :'MPAL B-Lymphoblastic/Myeloid',\n",
    "\n",
    "        }\n",
    "    \n",
    "    for key, value in mapping.items():\n",
    "        if key in diagnosis:\n",
    "            return value\n",
    "\n",
    "def process_labels_who22(df):\n",
    "    # Merge processing functions with source columns into a single dictionary\n",
    "    column_mappings = {\n",
    "        'Annotated Controls'            : ('Sample Type', classify_controls),\n",
    "        'Annotated Gene Fusion'         : ('Gene Fusion', classify_fusion),\n",
    "        'Annotated CEBPA'               : ('CEBPA mutation', classify_cebpa),\n",
    "        'Annotated NPM1'                : ('NPM mutation', classify_npm),\n",
    "        'Annotated Karyotype'           : ('Karyotype', classify_karyotype),\n",
    "        'Annotated Dx at Acquisition'   : ('Dx at Acquisition', classify_annotated_diagnosis),\n",
    "    }\n",
    "\n",
    "    # Loop through the mapping to process and create new columns\n",
    "    for new_col, (old_col, processing_func) in column_mappings.items():\n",
    "        # Apply the corresponding classification function to each column\n",
    "        df[new_col] = df[old_col].astype(str).apply(processing_func)\n",
    "\n",
    "    # Combine processed columns into a single column, separating values with commas\n",
    "    df['WHO 2022 Combined Diagnoses'] = df[list(column_mappings.keys())]\\\n",
    "        .apply(lambda x: ','.join(x.dropna()), axis=1).replace('', np.nan)\n",
    "\n",
    "    # Extract the first diagnosis from the combined diagnoses as the final diagnosis\n",
    "    df['WHO 2022 Diagnosis'] = df['WHO 2022 Combined Diagnoses'].str.split(',').str[0]\n",
    "\n",
    "    # Drop intermediate columns used for processing\n",
    "    df = df.drop(list(column_mappings.keys()), axis=1)\n",
    "\n",
    "    return df\n"
   ]
  },
  {
   "cell_type": "markdown",
   "metadata": {},
   "source": [
    "### Execution"
   ]
  },
  {
   "cell_type": "code",
   "execution_count": 5,
   "metadata": {
    "tags": [
     "hide-input"
    ]
   },
   "outputs": [
    {
     "data": {
      "text/plain": [
       "WHO 2022 Diagnosis\n",
       "NaN                                        844\n",
       "AML with t(v;11q23); KMT2A-r               324\n",
       "Otherwise-Normal Control                   251\n",
       "T-ALL NOS                                  242\n",
       "AML with mutated NPM1                      230\n",
       "MDS-related; secondary myeloid             225\n",
       "B-ALL with hyperdiploidy                   190\n",
       "AML with inv(16); t(16;16); CBFB::MYH11    179\n",
       "AML with t(8;21); RUNX1::RUNX1T1           176\n",
       "B-ALL with t(12;21); ETV6::RUNX1           163\n",
       "AML with NUP98-fusion                       99\n",
       "AML with mutated CEBPA                      83\n",
       "APL with t(15;17); PML::RARA                31\n",
       "AML with CBFA2T3::GLIS2                     29\n",
       "B-ALL with t(v;11q23); KMT2A-r              28\n",
       "AML with t(6;9); DEK::NUP214                27\n",
       "MPAL T-Lymphoblastic/Myeloid                25\n",
       "B-ALL with t(1;19); TCF3::PBX1              23\n",
       "B-ALL dic(9;20)                             20\n",
       "MPAL B-Lymphoblastic/Myeloid                19\n",
       "B-ALL with t(9;22); BCR::ABL1               19\n",
       "AML with ETV6 fusion                        19\n",
       "AML with inv(3); t(3;3); MECOM-r            13\n",
       "AML with t(1;22); RBM15::MKL1               10\n",
       "AML with t(8;16); KAT6A::CREBBP             10\n",
       "B-ALL with iAMP21                           10\n",
       "MPAL with t(v;11q23.3)/KMT2A-r               6\n",
       "AML with t(16;21); FUS::ERG                  5\n",
       "B-ALL with hypodiploidy                      5\n",
       "AML with t(9;22); BCR::ABL1                  3\n",
       "Name: count, dtype: int64"
      ]
     },
     "execution_count": 5,
     "metadata": {},
     "output_type": "execute_result"
    }
   ],
   "source": [
    "# Reclassify according to WHO 2022 guidelines\n",
    "df_labels3 = process_labels_who22(df_labels2)\n",
    "\n",
    "# Display the value counts of the new diagnosis column\n",
    "df_labels3['WHO 2022 Diagnosis'].value_counts(dropna=False)"
   ]
  },
  {
   "cell_type": "markdown",
   "metadata": {},
   "source": [
    "## Categorize ELN 2022, hematopoietic entity, age, and trisomy 8"
   ]
  },
  {
   "cell_type": "markdown",
   "metadata": {},
   "source": [
    "### Functions"
   ]
  },
  {
   "cell_type": "code",
   "execution_count": 6,
   "metadata": {
    "tags": [
     "hide-input"
    ]
   },
   "outputs": [],
   "source": [
    "def process_df_labels(df):\n",
    "    \"\"\"\n",
    "    Function to process a pandas dataframe, performing age categorization \n",
    "    and main disease classification.\n",
    "\n",
    "    \"\"\"\n",
    "    def categorize_age(age):\n",
    "        \"\"\"\n",
    "        Function to categorize age into a specific range.\n",
    "        \"\"\"\n",
    "        if pd.isnull(age):\n",
    "            return np.nan\n",
    "        elif age < 5:\n",
    "            return '0-5'\n",
    "        elif age < 13:\n",
    "            return '5-13'\n",
    "        elif age < 39:\n",
    "            return '13-39'\n",
    "        elif age < 60:\n",
    "            return '39-60'\n",
    "        else:\n",
    "            return '60+'\n",
    "\n",
    "    # Convert 'Age (years)' to numeric, errors='coerce' will turn non-numeric data to NaN\n",
    "    df['Age (years)'] = pd.to_numeric(df['Age (years)'], errors='coerce')\n",
    "\n",
    "    # Then apply your function\n",
    "    df['Age (group years)'] = df['Age (years)'].apply(categorize_age)\n",
    "    \n",
    "    def categorize_subtypes(subtype):\n",
    "        \"\"\"\n",
    "        Function to classify the main disease based on a given subtype.\n",
    "        \"\"\"\n",
    "        mapping = {\n",
    "            'AML'                           :'Acute myeloid leukemia (AML)',\n",
    "            'ALL'                           :'Acute lymphoblastic leukemia (ALL)',\n",
    "            'MDS'                           :'Myelodysplastic syndrome (MDS or MDS-like)',\n",
    "            'MPAL'                          :'Mixed phenotype acute leukemia (MPAL)',\n",
    "            'APL'                           :'Acute promyelocytic leukemia (APL)',\n",
    "            'Otherwise-Normal Control'      :'Otherwise-Normal (Control)',\n",
    "        }\n",
    "\n",
    "        for key, value in mapping.items():\n",
    "            if key in subtype:\n",
    "                return value\n",
    "    \n",
    "    df['Hematopoietic Entity'] = df['WHO 2022 Diagnosis'].astype(str).apply(categorize_subtypes)\n",
    "\n",
    "    def categorize_trisomy8(karyotype):\n",
    "        \"\"\"\n",
    "        Function to classify trisomy 8 by karyotype as a separate column.\n",
    "        \"\"\"\n",
    "        mapping = {\n",
    "            '+8': 'Positive',\n",
    "            'trisomy 8': 'Positive',\n",
    "        }\n",
    "\n",
    "        for key, value in mapping.items():\n",
    "            if key in karyotype:\n",
    "                return value\n",
    "    \n",
    "    df['Trisomy 8 Status'] = df['Karyotype'].astype(str).apply(categorize_trisomy8).fillna('Negative or Unknown')\n",
    "\n",
    "    def categorize_ELN2022(subtype):\n",
    "        \"\"\"\n",
    "        Function to reclassify samples according to ELN AML 2022.\n",
    "        \"\"\"\n",
    "        mapping = {\n",
    "            'AML with t(v;11q23); KMT2A-r'                  :'AML with t(v;11q23); KMT2A-r',\n",
    "            'Otherwise-Normal Control'                      :'Otherwise-Normal Control',\n",
    "            'AML with mutated CEBPA'                        :'AML with mutated CEBPA',\n",
    "            'MDS-related; secondary myeloid'                :'MDS-related; secondary myeloid',\n",
    "            'AML with inv(3); t(3;3); MECOM-r'              :'AML with inv(3); t(3;3); MECOM-r',\n",
    "            'AML with mutated NPM1'                         :'AML with mutated NPM1',\n",
    "            'AML with inv(16); t(16;16); CBFB::MYH11'       :'AML with inv(16); t(16;16); CBFB::MYH11',\n",
    "            'AML with t(8;21); RUNX1::RUNX1T1'              :'AML with t(8;21); RUNX1::RUNX1T1',\n",
    "            'AML with t(9;22); BCR::ABL1'                   :'AML with t(9;22); BCR::ABL1',\n",
    "            'AML with t(6;9); DEK::NUP214'                  :'AML with t(6;9); DEK::NUP214',\n",
    "            'APL with t(15;17); PML::RARA'                  :'APL with t(15;17); PML::RARA',\n",
    "            'AML with t(1;22); RBM15::MKL1'                 :'AML with other recurring translocations',\n",
    "            'AML with t(16;21); FUS::ERG'                   :'AML with other recurring translocations',\n",
    "            'AML with t(8;16); KAT6A::CREBBP'               :'AML with other recurring translocations',\n",
    "            'AML with CBFA2T3::GLIS2'                       :'AML with other recurring translocations',\n",
    "            'AML with NUP98-fusion'                         :'AML with other recurring translocations',\n",
    "            'AML with ETV6 fusion'                          :'AML with other recurring translocations',   \n",
    "        }\n",
    "\n",
    "        for key, value in mapping.items():\n",
    "            if key in subtype:\n",
    "                return value\n",
    "    \n",
    "    df['ELN 2022 Diagnosis'] = df['WHO 2022 Diagnosis'].astype(str).apply(categorize_ELN2022)\n",
    "\n",
    "    return df"
   ]
  },
  {
   "cell_type": "markdown",
   "metadata": {},
   "source": [
    "### Execution"
   ]
  },
  {
   "cell_type": "code",
   "execution_count": 7,
   "metadata": {
    "tags": [
     "hide-input"
    ]
   },
   "outputs": [
    {
     "data": {
      "text/plain": [
       "Hematopoietic Entity\n",
       "Acute myeloid leukemia (AML)                  1207\n",
       "Acute lymphoblastic leukemia (ALL)             700\n",
       "Otherwise-Normal (Control)                     251\n",
       "Myelodysplastic syndrome (MDS or MDS-like)     225\n",
       "Mixed phenotype acute leukemia (MPAL)           50\n",
       "Acute promyelocytic leukemia (APL)              31\n",
       "Name: count, dtype: int64"
      ]
     },
     "execution_count": 7,
     "metadata": {},
     "output_type": "execute_result"
    }
   ],
   "source": [
    "df_labels4 = process_df_labels(df_labels3)\n",
    "\n",
    "df_labels4['Hematopoietic Entity'].value_counts(dropna=True)"
   ]
  },
  {
   "cell_type": "markdown",
   "metadata": {},
   "source": [
    "## Apply classification to test dataset"
   ]
  },
  {
   "cell_type": "code",
   "execution_count": 9,
   "metadata": {
    "tags": [
     "hide-input"
    ]
   },
   "outputs": [
    {
     "data": {
      "text/plain": [
       "WHO 2022 Diagnosis\n",
       "NaN                                        99\n",
       "AML with t(v;11q23); KMT2A-r               47\n",
       "AML with t(8;21); RUNX1::RUNX1T1           29\n",
       "AML with inv(16); t(16;16); CBFB::MYH11    23\n",
       "AML with mutated CEBPA                      2\n",
       "AML with t(6;9); DEK::NUP214                1\n",
       "Name: count, dtype: int64"
      ]
     },
     "execution_count": 9,
     "metadata": {},
     "output_type": "execute_result"
    }
   ],
   "source": [
    "# Import functions to clean up clinical data\n",
    "import sys\n",
    "sys.path.append('../')\n",
    "from source.clinical_data_cleanup import *\n",
    "\n",
    "# Call functions to merge, index and clean clinical data files\n",
    "labels_aml02         = clean_aml02       (merge_index_aml02())\n",
    "labels_aml08         = clean_aml08       (merge_index_aml08())\n",
    "\n",
    "# Combine all clinical data labels into one dataframe\n",
    "labels_test = pd.concat([labels_aml02, labels_aml08] ,axis=0, join='outer')\n",
    "\n",
    "# Redefine output path (for troubleshooting purposes in case only this cell is run)\n",
    "mount = '/mnt/e/ALMA/'\n",
    "output_path = mount + 'Intermediate_Files/'\n",
    "\n",
    "# Read df_test\n",
    "df_test = pd.read_pickle(output_path + '201samples_427375cpgs_withbatchcorrection_bvalues.pkl')\n",
    "\n",
    "# Add columns for later analyses\n",
    "labels_test['Train-Test'] = 'Test Sample'\n",
    "labels_test['Batch'] = \"Multicenter AML02,08 Trials\"\n",
    "labels_test['Risk Group AAML1831'] = np.nan\n",
    "\n",
    "# Remove samples that are not in the methyl dataset\n",
    "df_labels_test = labels_test.loc[labels_test.index.isin(df_test.index)].sort_index()\n",
    "\n",
    "# Reclassify samples according to WHO 2022\n",
    "df_labels_test2 = process_labels_who22(df_labels_test)\n",
    "\n",
    "# Add age categorization and main disease classification to the clinical data\n",
    "df_labels_test3 = process_df_labels(df_labels_test2)\n",
    "\n",
    "# Display the value counts of the WHO 2022 Diagnosis\n",
    "df_labels_test3['WHO 2022 Diagnosis'].value_counts(dropna=False)"
   ]
  },
  {
   "cell_type": "markdown",
   "metadata": {},
   "source": [
    "## Save clinical datasets"
   ]
  },
  {
   "cell_type": "code",
   "execution_count": 10,
   "metadata": {
    "tags": [
     "hide-input"
    ]
   },
   "outputs": [],
   "source": [
    "# Save the clinical data labels with WHO 2022 classification\n",
    "df_labels4.to_csv(output_path + 'discovery_clinical_data.csv')\n",
    "\n",
    "# savel labels_test to excel\n",
    "df_labels_test3.to_csv(output_path + 'validation_clinical_data.csv')\n",
    "\n",
    "# Concatenate clinical data files and keep overlapping columns\n",
    "common_columns = [x for x in df_labels4.columns if x in df_labels_test3.columns]\n",
    "\n",
    "# Apply `common_columns` to both df_labels4 and df_labels_test3\n",
    "df_labels5 = df_labels4[common_columns]\n",
    "df_labels_test4 = df_labels_test3[common_columns]\n",
    "\n",
    "# Concatenate clinical data files and keep overlapping columns\n",
    "clinical_data = pd.concat([df_labels5, df_labels_test4], axis=0)\n",
    "\n",
    "# Save the merged clinical data\n",
    "clinical_data.to_excel(output_path + 'clinical_data.xlsx')\n",
    "\n",
    "# Save individual datasets\n",
    "\n",
    "# labels_aml05.to_excel(output_path + 'aml05_clinical_data.xlsx')\n",
    "# labels_beataml.to_excel(output_path + 'beataml_clinical_data.xlsx')\n",
    "# labels_0531.to_excel(output_path + '0531_clinical_data.xlsx')\n",
    "# labels_amltcga.to_excel(output_path + 'amltcga_clinical_data.xlsx')\n",
    "# labels_1031.to_excel(output_path + '1031_clinical_data.xlsx')\n",
    "# labels_nordic_all.to_excel(output_path + 'nordic_all_clinical_data.xlsx')\n",
    "# labels_mds_taml.to_excel(output_path + 'mds_taml_clinical_data.xlsx')\n",
    "# labels_all_graal.to_excel(output_path + 'all_graal_clinical_data.xlsx')\n",
    "# labels_target_all.to_excel(output_path + 'target_all_clinical_data.xlsx')\n",
    "# labels_aml02.to_excel(output_path + 'aml02_clinical_data.xlsx')\n",
    "# labels_aml08.to_excel(output_path + 'aml08_clinical_data.xlsx')"
   ]
  }
 ],
 "metadata": {
  "celltoolbar": "Tags",
  "kernelspec": {
   "display_name": ".venv_sklearn",
   "language": "python",
   "name": "python3"
  },
  "language_info": {
   "codemirror_mode": {
    "name": "ipython",
    "version": 3
   },
   "file_extension": ".py",
   "mimetype": "text/x-python",
   "name": "python",
   "nbconvert_exporter": "python",
   "pygments_lexer": "ipython3",
   "version": "3.8.16"
  },
  "vscode": {
   "interpreter": {
    "hash": "bea0b97f2aeab51a41f683aa60895cc0e821b0a2b6d8fed7be73bd28506d07e0"
   }
  }
 },
 "nbformat": 4,
 "nbformat_minor": 2
}
