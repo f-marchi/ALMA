{
 "cells": [
  {
   "attachments": {},
   "cell_type": "markdown",
   "metadata": {},
   "source": [
    "# Learning Algorithms\n",
    "\n",
    "```{contents}\n",
    "```"
   ]
  },
  {
   "cell_type": "markdown",
   "metadata": {},
   "source": [
    "## Where the data at"
   ]
  },
  {
   "cell_type": "code",
   "execution_count": 2,
   "metadata": {
    "tags": [
     "hide-input"
    ]
   },
   "outputs": [],
   "source": [
    "import pandas as pd\n",
    "import sys\n",
    "sys.path.append('../')\n",
    "# from source.pacmap_functions import *\n",
    "\n",
    "mount = '/mnt/d/'\n",
    "input_path = mount + 'MethylScore/Intermediate_Files/'\n",
    "output_path = mount + 'MethylScore/Processed_Data/'"
   ]
  },
  {
   "attachments": {},
   "cell_type": "markdown",
   "metadata": {},
   "source": [
    "## Load data"
   ]
  },
  {
   "cell_type": "code",
   "execution_count": 3,
   "metadata": {},
   "outputs": [
    {
     "name": "stdout",
     "output_type": "stream",
     "text": [
      " Discovery dataset (df_discovery) contains 333059 columns (5mC nucleotides/probes) and 3308 rows (samples).\n",
      " Validation dataset (df_validation) contains 357839 columns (5mC nucleotides/probes) and 201 rows (samples).\n"
     ]
    }
   ],
   "source": [
    "# read df_discovery and df_validation\n",
    "df_discovery = pd.read_pickle(\n",
    "    input_path+'3308samples_333059cpgs_withbatchcorrection_bvalues.pkl').sort_index()\n",
    "\n",
    "df_validation = pd.read_pickle(\n",
    "    input_path+'201samples_357839cpgs_withbatchcorrection_bvalues.pkl').sort_index()\n",
    "\n",
    "# use overlapping features between df_discovery and df_validation\n",
    "common_features = [x for x in df_discovery.columns if x in df_validation.columns]\n",
    "\n",
    "# apply `common_features` to both df_discovery and df_validation\n",
    "# df_discovery = df_discovery[common_features]\n",
    "# df_validation = df_validation[common_features]\n",
    "\n",
    "print(\n",
    "f' Discovery dataset (df_discovery) contains {df_discovery.shape[1]} \\\n",
    "columns (5mC nucleotides/probes) and {df_discovery.shape[0]} rows (samples).')\n",
    "\n",
    "print(\n",
    "f' Validation dataset (df_validation) contains {df_validation.shape[1]} \\\n",
    "columns (5mC nucleotides/probes) and {df_validation.shape[0]} rows (samples).')"
   ]
  },
  {
   "cell_type": "code",
   "execution_count": 4,
   "metadata": {},
   "outputs": [],
   "source": [
    "# Load clinical data\n",
    "discovery_clinical_data = pd.read_csv(input_path+'discovery_clinical_data.csv',\n",
    "                                      low_memory=False, index_col=0)\n",
    "\n",
    "# Load clinical data\n",
    "validation_clinical_data = pd.read_csv(input_path+'validation_clinical_data.csv',\n",
    "                                        low_memory=False, index_col=0)\n",
    "\n",
    "# Adjust clinical data\n",
    "discovery_clinical_data['Train-Test'] = 'Train Samples'\n",
    "validation_clinical_data['Train-Test'] = 'Test Samples'\n",
    "\n",
    "discovery_clinical_data['PaCMAP Output'] = 'Patient Samples'\n",
    "validation_clinical_data['PaCMAP Output'] = 'Patient Samples'\n",
    "\n",
    "discovery_clinical_data['Batch'] = df_discovery['Batch']\n",
    "validation_clinical_data['Batch'] = 'St Jude Children\\'s'\n"
   ]
  },
  {
   "cell_type": "code",
   "execution_count": 6,
   "metadata": {},
   "outputs": [
    {
     "data": {
      "text/plain": [
       "(3308, 2285)"
      ]
     },
     "execution_count": 6,
     "metadata": {},
     "output_type": "execute_result"
    }
   ],
   "source": [
    "discovery_clinical_data.shape"
   ]
  },
  {
   "cell_type": "code",
   "execution_count": 5,
   "metadata": {},
   "outputs": [
    {
     "data": {
      "text/plain": [
       "Clinical Trial          \n",
       "NOPHO ALL92-2000            933\n",
       "AAML0531                    628\n",
       "AAML1031                    581\n",
       "Beat AML Consortium         316\n",
       "TCGA AML                    194\n",
       "CETLAM SMD-09 (MDS-tAML)    166\n",
       "French GRAALL 2003–2005     141\n",
       "TARGET ALL                  131\n",
       "AAML03P1                     72\n",
       "Japanese AML05               64\n",
       "CCG2961                      41\n",
       "NaN                          41\n",
       "Name: count, dtype: int64"
      ]
     },
     "execution_count": 5,
     "metadata": {},
     "output_type": "execute_result"
    }
   ],
   "source": [
    "discovery_clinical_data[['Clinical Trial', ]].value_counts(dropna=False)"
   ]
  },
  {
   "attachments": {},
   "cell_type": "markdown",
   "metadata": {},
   "source": [
    "## Reduce dimensionality with PaCMAP"
   ]
  },
  {
   "cell_type": "code",
   "execution_count": 6,
   "metadata": {},
   "outputs": [
    {
     "name": "stdout",
     "output_type": "stream",
     "text": [
      "PaCMAP version: 0.7.0\n"
     ]
    },
    {
     "name": "stderr",
     "output_type": "stream",
     "text": [
      "/home/fmarchi/projects/MethylScore/Code/.venv_py38/lib/python3.8/site-packages/pacmap/pacmap.py:819: UserWarning: Warning: random state is set to 42\n",
      "  warnings.warn(f'Warning: random state is set to {_RANDOM_STATE}')\n"
     ]
    },
    {
     "name": "stdout",
     "output_type": "stream",
     "text": [
      "The PaCMAP instance is successfully saved at ../models/pacmap_2d_model_al_atlas.pkl, and the Annoy Index is saved at ../models/pacmap_2d_model_al_atlas.ann.\n",
      "To load the instance again, please do `pacmap.load(../models/pacmap_2d_model_al_atlas)`.\n"
     ]
    },
    {
     "name": "stderr",
     "output_type": "stream",
     "text": [
      "/home/fmarchi/projects/MethylScore/Code/.venv_py38/lib/python3.8/site-packages/pacmap/pacmap.py:819: UserWarning: Warning: random state is set to 42\n",
      "  warnings.warn(f'Warning: random state is set to {_RANDOM_STATE}')\n"
     ]
    },
    {
     "name": "stdout",
     "output_type": "stream",
     "text": [
      "The PaCMAP instance is successfully saved at ../models/pacmap_5d_model_al_atlas.pkl, and the Annoy Index is saved at ../models/pacmap_5d_model_al_atlas.ann.\n",
      "To load the instance again, please do `pacmap.load(../models/pacmap_5d_model_al_atlas)`.\n"
     ]
    }
   ],
   "source": [
    "import pacmap\n",
    "print('PaCMAP version:', pacmap.__version__)\n",
    "\n",
    "components_list = [2, 5]\n",
    "for components in components_list:\n",
    "\n",
    "    # Initialize the instance\n",
    "    reducer = pacmap.PaCMAP(n_components=components, n_neighbors=15, MN_ratio=0.4, FP_ratio=16.0, \n",
    "                            random_state=42, lr=0.1, num_iters=5000, save_tree=True)\n",
    "\n",
    "    # Project the high dimensional dataset into a low-dimensional embedding\n",
    "    embedding_training = reducer.fit(df_discovery.to_numpy(dtype='float16'))\n",
    "\n",
    "    # Save reducer\n",
    "    pacmap.save(reducer, f'../models/pacmap_{components}d_model_al_atlas')\n",
    "\n",
    "# Load reducer\n",
    "reducer = pacmap.load('../models/pacmap_5d_model_al_atlas')\n",
    "\n",
    "# Project the high dimensional dataset into existing embedding space and return the embedding.\n",
    "embedding_training = reducer.transform(df_discovery.to_numpy(dtype='float16'))\n",
    "embedding_validation = reducer.transform(df_validation.to_numpy(dtype='float16'))\n"
   ]
  },
  {
   "cell_type": "code",
   "execution_count": 12,
   "metadata": {},
   "outputs": [
    {
     "data": {
      "image/png": "[encoded data removed]",
      "text/plain": [
       "<Figure size 500x500 with 1 Axes>"
      ]
     },
     "metadata": {},
     "output_type": "display_data"
    }
   ],
   "source": [
    "from matplotlib import pyplot as plt\n",
    "\n",
    "plt.figure(figsize=(5, 5))\n",
    "plt.scatter(embedding_training[:, 3], embedding_training[:, 2], c='blue', s=5, alpha=0.5)\n",
    "plt.scatter(embedding_validation[:, 3], embedding_validation[:, 2], c='red', s=5, alpha=1)\n",
    "plt.title('PaCMAP embedding')\n",
    "plt.show()"
   ]
  },
  {
   "cell_type": "markdown",
   "metadata": {},
   "source": [
    "## Preprocess data for classifiers"
   ]
  },
  {
   "cell_type": "markdown",
   "metadata": {},
   "source": [
    "### Load output from PaCMAP\n",
    "\n",
    "Reloading it here to allow for running the cells below without running the PaCMAP code above."
   ]
  },
  {
   "cell_type": "code",
   "execution_count": null,
   "metadata": {
    "tags": [
     "hide-input"
    ]
   },
   "outputs": [],
   "source": [
    "import pandas as pd\n",
    "import numpy as np\n",
    "\n",
    "input_path = '/mnt/d/MethylScore/Intermediate_Files/'\n",
    "output_path = '/mnt/d/MethylScore/Processed_Data/'\n",
    "\n",
    "n_components = 5\n",
    "\n",
    "# Create a list of strings containing \"PaCMAP \" + the number of components\n",
    "components = [f'PaCMAP {i}' for i in range(1, n_components+1)]\n",
    "\n",
    "# Load pacmap output data\n",
    "df = pd.read_csv(output_path+f'pacmap_output/pacmap_{n_components}d_model_dx_al.csv', index_col=0)"
   ]
  },
  {
   "cell_type": "markdown",
   "metadata": {},
   "source": [
    "### Select samples Px"
   ]
  },
  {
   "cell_type": "code",
   "execution_count": null,
   "metadata": {},
   "outputs": [],
   "source": [
    "\n",
    "# Drop the samples with missing labels for the ELN AML 2022 Diagnosis\n",
    "df_px = df[~df['Vital Status'].isna()]\n",
    "\n",
    "df_px2 = df_px.copy()\n",
    "\n",
    "# # Exclude the `Blood Derived Normal`and `Bone Marrow Normal` from `Sample Type`\n",
    "# df_px2 = df_px[~df_px['Sample Type'].isin(['Relapse', 'Recurrent Blood Derived Cancer - Bone Marrow',\n",
    "#                                             'Recurrent Blood Derived Cancer - Peripheral Blood',\n",
    "#                                             'Blood Derived Normal', 'Bone Marrow Normal'])]\n",
    "\n",
    "# print the number of samples dropped and the amount remaining\n",
    "print(df.shape[0]-df_px2.shape[0], 'samples removed.'\\\n",
    ", df_px2.shape[0], 'samples remaining.')"
   ]
  },
  {
   "cell_type": "markdown",
   "metadata": {},
   "source": [
    "### Select samples Dx"
   ]
  },
  {
   "cell_type": "code",
   "execution_count": null,
   "metadata": {
    "tags": [
     "hide-input"
    ]
   },
   "outputs": [],
   "source": [
    "# drop the samples with missing labels for the ELN AML 2022 Diagnosis\n",
    "df_dx = df[~df['WHO 2022 Diagnosis'].isna()]\n",
    "\n",
    "# exclude the classes with fewer than 10 samples\n",
    "df_dx2 = df_dx[~df_dx['WHO 2022 Diagnosis'].isin([\n",
    "                                    'AML with t(1;22); RBM15::MKL1',\n",
    "                                       'MPAL with t(v;11q23.3)/KMT2A-r',\n",
    "                                       'B-ALL with hypodiploidy',\n",
    "                                       'AML with t(16;21); FUS::ERG',\n",
    "                                       'AML with t(9;22); BCR::ABL1'\n",
    "                                       ])]\n",
    "\n",
    "# print the number of samples dropped and the amount remaining\n",
    "print(df.shape[0]-df_dx2.shape[0], 'samples removed.'\\\n",
    ", df_dx2.shape[0], 'samples remaining.')"
   ]
  },
  {
   "cell_type": "markdown",
   "metadata": {},
   "source": [
    "### Define X and y"
   ]
  },
  {
   "cell_type": "code",
   "execution_count": null,
   "metadata": {},
   "outputs": [],
   "source": [
    "def custom_train_test_split(df, feature_columns, target_column, split_column):\n",
    "\n",
    "    X = df[feature_columns].to_numpy()\n",
    "    y = df[target_column].to_numpy()\n",
    "\n",
    "    train_mask = df[split_column] == 'Train Samples'\n",
    "    test_mask = df[split_column] == 'Test Samples'\n",
    "\n",
    "    X_train, X_test = X[train_mask], X[test_mask]\n",
    "    y_train, y_test = y[train_mask], y[test_mask]\n",
    "\n",
    "    print('X_train shape:', X_train.shape, 'X_test shape:', X_test.shape)\n",
    "\n",
    "    return X_train, X_test, y_train, y_test\n",
    "\n",
    "# Execution\n",
    "X_train_dx, X_test_dx, y_train_dx, y_test_dx = custom_train_test_split(df_dx2, components,'WHO 2022 Diagnosis', 'Train-Test')\n",
    "X_train_px, X_test_px, y_train_px, y_test_px = custom_train_test_split(df_px2, components,'Vital Status', 'Train-Test')\n"
   ]
  },
  {
   "cell_type": "markdown",
   "metadata": {},
   "source": [
    "## Benchmark classifiers"
   ]
  },
  {
   "cell_type": "markdown",
   "metadata": {},
   "source": [
    "### Define confusion matrix plot function"
   ]
  },
  {
   "cell_type": "code",
   "execution_count": null,
   "metadata": {},
   "outputs": [],
   "source": [
    "def plot_confusion_matrix_stacked(clf, x_train, y_train, x_test, y_test, \n",
    "                                  title='', \n",
    "                                  tick_fontsize=10, label_fontsize=10,\n",
    "                                  figsize=(10, 5)):\n",
    "\n",
    "    sns.set_theme(style='white')\n",
    "\n",
    "    fig, axs = plt.subplots(1, 2, figsize=figsize, sharey=True)\n",
    "\n",
    "    fig.subplots_adjust(wspace=0.05)  # Adjust the width space\n",
    "\n",
    "    for i, (ax, x, y, subset) in enumerate(zip(axs, [x_train, x_test], [y_train, y_test],\n",
    "                                                ['Train with 10-fold CV', 'Validation'])):\n",
    "        predictions = clf.predict(x)\n",
    "        print(f'Overall accuracy score in {subset}: {accuracy_score(y, predictions):.3f}')\n",
    "        cm = confusion_matrix(y, predictions, labels=clf.classes_, normalize='true')\n",
    "        disp = ConfusionMatrixDisplay(confusion_matrix=cm, display_labels=clf.classes_)\n",
    "        disp.plot(cmap='Blues', values_format='.2f', xticks_rotation='vertical', colorbar=False, ax=ax)\n",
    "    \n",
    "\n",
    "        # Set font size of the numbers inside the confusion matrix\n",
    "        for texts in disp.text_:\n",
    "            for text in texts:\n",
    "                text.set_fontsize(label_fontsize)\n",
    "\n",
    "        ax.tick_params(axis='both', which='major', labelsize=tick_fontsize)\n",
    "        ax.set_title(subset + ', n=' + str(len(x)), fontsize=label_fontsize+1, pad=10)\n",
    "        ax.set_xlabel('Predicted label', fontsize=label_fontsize+1)\n",
    "\n",
    "        # Add y labels\n",
    "        if i == 0:\n",
    "            ax.set_ylabel('True label', fontsize=label_fontsize+1)\n",
    "        else:\n",
    "            ax.set_ylabel('')\n",
    "\n",
    "        # remove x tick labels\n",
    "        ax.xaxis.set_ticklabels([])\n",
    "        \n",
    "    plt.show()"
   ]
  },
  {
   "cell_type": "markdown",
   "metadata": {},
   "source": [
    "### Execute "
   ]
  },
  {
   "cell_type": "code",
   "execution_count": null,
   "metadata": {},
   "outputs": [],
   "source": [
    "from sklearn.model_selection import GridSearchCV\n",
    "from lightgbm import LGBMClassifier\n",
    "from sklearn.metrics import confusion_matrix, ConfusionMatrixDisplay, accuracy_score\n",
    "import seaborn as sns\n",
    "import matplotlib.pyplot as plt\n",
    "import joblib\n",
    "\n",
    "\n",
    "def benchmark_classifier(X_train, y_train, X_test, y_test, figsize=(16,8)):\n",
    "\n",
    "    param_grid = {\n",
    "    'num_leaves': [2, 3, 4, 5, 6, 7, 8, 9, 10, 15, 20], # number of leaves in full tree\n",
    "    'max_depth': [2, 3, 4, 5, 6, 7, 8, 9, 10],  # maximum depth of a tree\n",
    "    # 'learning_rate': [0.001, 0.01, 0.015, 0.02, 0.1],  # learning rate\n",
    "    # 'n_estimators': [10, 50, 100, 200],  # number of trees (or rounds)\n",
    "    }\n",
    "\n",
    "    # Initialize the LGBM Classifier with regularization\n",
    "    lgbm = LGBMClassifier(random_state=42, n_jobs=-1, reg_alpha=1.0, reg_lambda=1.0)\n",
    "\n",
    "    # Perform grid search with stratified cross-validation\n",
    "    grid_search = GridSearchCV(lgbm, param_grid, cv=10, n_jobs=-1, scoring='roc_auc_ovr_weighted')\n",
    "\n",
    "    # Fit the grid search to the data\n",
    "    grid_search.fit(X_train, y_train)\n",
    "    print(f\"Best parameters: {grid_search.best_params_}\")\n",
    "\n",
    "    # Get the best model\n",
    "    clf = grid_search.best_estimator_\n",
    "\n",
    "    plot = plot_confusion_matrix_stacked(clf, X_train, y_train, X_test, y_test,\n",
    "                                  tick_fontsize=7, label_fontsize=7, figsize=figsize)\n",
    "    return clf, plot\n",
    "\n",
    "    # Plot the confusion matrix\n",
    "\n",
    "# Benchmark, train\n",
    "lgbm_dx_model, plot = benchmark_classifier(X_train_dx, y_train_dx, X_test_dx, y_test_dx)\n",
    "lgbm_px_model, plot = benchmark_classifier(X_train_px, y_train_px, X_test_px, y_test_px, figsize=(5,3))\n",
    "\n",
    "# Save models\n",
    "joblib.dump(lgbm_px_model,'../models/lgbm_px_model.pkl')\n",
    "joblib.dump(lgbm_dx_model,'../models/lgbm_dx_model.pkl')\n"
   ]
  },
  {
   "cell_type": "markdown",
   "metadata": {},
   "source": [
    "## Save results"
   ]
  },
  {
   "cell_type": "code",
   "execution_count": null,
   "metadata": {},
   "outputs": [],
   "source": [
    "def save_predictions(df, classifier, model_name):\n",
    "\n",
    "    # ignore sklearn warnings\n",
    "    import warnings\n",
    "    warnings.filterwarnings('ignore')\n",
    "\n",
    "    # Select necessary columns and set the index\n",
    "    df_features = df.set_index('index')[['PaCMAP 1', 'PaCMAP 2', 'PaCMAP 3', 'PaCMAP 4', 'PaCMAP 5']]\n",
    "\n",
    "    # Predict using the selected columns\n",
    "    predictions = classifier.predict(df_features)\n",
    "\n",
    "    # Predict probabilities using the selected columns\n",
    "    probabilities = classifier.predict_proba(df_features)\n",
    "\n",
    "    # Convert predictions to a Series with the same index as df_features\n",
    "    predictions_series = pd.Series(predictions, index=df_features.index, name=model_name)\n",
    "\n",
    "    # Convert probabilities to a DataFrame with the same index as df_features and the same columns as the classes\n",
    "    probabilities_df = pd.DataFrame(probabilities, index=df_features.index, columns=classifier.classes_).round(3)\n",
    "\n",
    "    # Add \" - predict_proba\" to the column names\n",
    "    probabilities_df.columns ='P(' + probabilities_df.columns + ')'\n",
    "\n",
    "    # # Create a new column named \"Confidence\" and set it to True if the max probability is >= confidence_threshold\n",
    "    # probabilities_df['Confidence >=' + str(confidence_threshold)] = probabilities_df.max(axis=1) >= confidence_threshold\n",
    "\n",
    "    # Transform classes of the predictions into integers based on unique values in the classes\n",
    "    probabilities_df[model_name + '_int'] = predictions_series.map({c: i for i, c in enumerate(classifier.classes_)})\n",
    "\n",
    "    # Join predictions with the original DataFrame (already indexed)\n",
    "    df_joined = predictions_series.to_frame().join(probabilities_df)\n",
    "\n",
    "    return df_joined\n",
    "\n",
    "# Execution\n",
    "df_pred_px = save_predictions(df=df, classifier=lgbm_px_model, model_name='AML Epigenomic Risk')\n",
    "df_pred_dx = save_predictions(df=df, classifier=lgbm_dx_model, model_name='AL Epigenomic Phenotype')"
   ]
  },
  {
   "cell_type": "code",
   "execution_count": null,
   "metadata": {},
   "outputs": [],
   "source": [
    "df_combined = df.join(df_pred_px).join(df_pred_dx)"
   ]
  },
  {
   "cell_type": "markdown",
   "metadata": {},
   "source": [
    "## Other benchmarked classifiers"
   ]
  },
  {
   "cell_type": "markdown",
   "metadata": {},
   "source": [
    "### Gaussian Process Classifier"
   ]
  },
  {
   "cell_type": "code",
   "execution_count": null,
   "metadata": {},
   "outputs": [],
   "source": [
    "# from sklearn.gaussian_process import GaussianProcessClassifier\n",
    "\n",
    "# # Define the parameter grid\n",
    "# param_grid = {\n",
    "#     'multi_class': ['one_vs_rest'], \n",
    "# }\n",
    "\n",
    "# # Initialize the Gaussian Process Classifier\n",
    "# gpc = GaussianProcessClassifier(random_state=42, n_jobs=-1)\n",
    "\n",
    "# # Perform grid search with cross-validation\n",
    "# grid_search = GridSearchCV(gpc, param_grid, cv=10, n_jobs=-1, scoring='roc_auc_ovr_weighted')\n",
    "# grid_search.fit(X_train, y_train)\n",
    "\n",
    "# # Fit and predict using the best estimator\n",
    "# gpc_px_model = grid_search.best_estimator_\n",
    "\n",
    "# y_pred = gpc_px_model.predict(X_test)  # Predict using the best model\n",
    "\n",
    "# # Print the best parameters and the best score\n",
    "# print(f\"Best parameters: {grid_search.best_params_}\")\n",
    "\n",
    "# # Fit and predict using the best estimator\n",
    "# gpc_px_model = grid_search.best_estimator_\n",
    "\n",
    "# y_pred_train = gpc_px_model.predict(X_train)  # Predict using the best model\n",
    "# y_pred_test = gpc_px_model.predict(X_test)  # Predict using the best model\n",
    "\n",
    "\n",
    "# print(f'Overall accuracy score with best estimator in train: {accuracy_score(y_train, y_pred_train):.3f}')\n",
    "# print(f'Overall accuracy score with best estimator in test: {accuracy_score(y_test, y_pred_test):.3f}')\n",
    "\n",
    "# # plot the confusion matrix\n",
    "# plot_confusion_matrix_stacked(gpc_px_model, X_train, y_train, X_test, y_test,\n",
    "#                               tick_fontsize=7, label_fontsize=7, figsize = (5,3))\n",
    "\n",
    "# # you shall save the model\n",
    "# pickle.dump(gpc_px_model, open('../models/gpc_px_model.pkl', 'wb'))\n"
   ]
  },
  {
   "attachments": {},
   "cell_type": "markdown",
   "metadata": {},
   "source": [
    "## Watermark"
   ]
  },
  {
   "cell_type": "code",
   "execution_count": null,
   "metadata": {
    "tags": [
     "remove-input",
     "remove-output"
    ]
   },
   "outputs": [],
   "source": [
    "%load_ext watermark"
   ]
  },
  {
   "cell_type": "code",
   "execution_count": null,
   "metadata": {
    "tags": [
     "remove-input"
    ]
   },
   "outputs": [],
   "source": [
    "# watermark with all libraries used in this notebook\n",
    "%watermark -v -p numpy,pandas,bokeh,pacmap,itables -a Francisco_Marchi@Lamba_Lab_UF -d -m"
   ]
  }
 ],
 "metadata": {
  "kernelspec": {
   "display_name": ".venv_py38",
   "language": "python",
   "name": "python3"
  },
  "language_info": {
   "codemirror_mode": {
    "name": "ipython",
    "version": 3
   },
   "file_extension": ".py",
   "mimetype": "text/x-python",
   "name": "python",
   "nbconvert_exporter": "python",
   "pygments_lexer": "ipython3",
   "version": "3.8.16"
  },
  "orig_nbformat": 4
 },
 "nbformat": 4,
 "nbformat_minor": 2
}
