{
 "cells": [
  {
   "cell_type": "code",
   "execution_count": 1,
   "metadata": {},
   "outputs": [],
   "source": [
    "output_path = '../Data/Intermediate_Files/'\n",
    "\n",
    "# Import functions to clean up clinical data\n",
    "from FM_Functions.Clinical_Data_CleanUp import *\n",
    "\n",
    "# Call functions to merge, index and clean clinical data files\n",
    "labels_0531         = clean_cog       (merge_index_0531())\n",
    "labels_1031         = clean_cog       (merge_index_1031())\n",
    "labels_aml05        = clean_aml05     (merge_index_aml05())\n",
    "labels_beataml      = clean_beataml   (merge_index_beataml())\n",
    "labels_amltcga      = clean_amltcga   (merge_index_amltcga())\n",
    "labels_nordic_all   = clean_nordic_all(merge_index_nordic_all())\n",
    "labels_mds_taml     = clean_mds_taml  (merge_index_mds_taml())\n",
    "labels_all_graal    = clean_all_graal (merge_index_all_graal())\n",
    "labels_target_all   = clean_target_all(merge_index_target_all())"
   ]
  },
  {
   "attachments": {},
   "cell_type": "markdown",
   "metadata": {},
   "source": [
    "## COG trials"
   ]
  },
  {
   "attachments": {},
   "cell_type": "markdown",
   "metadata": {},
   "source": [
    "### ELN2022"
   ]
  },
  {
   "cell_type": "code",
   "execution_count": 2,
   "metadata": {},
   "outputs": [
    {
     "data": {
      "text/plain": [
       "ELN AML 2022 Diagnosis\n",
       "AML with t(9;11)(p22;q23.3)/KMT2A-rearrangement                           416\n",
       "AML with t(8;21)(q22;q22.1)/RUNX1::RUNX1T1                                245\n",
       "AML with other rare recurring translocations                              214\n",
       "AML with inv(16)(p13.1q22) or t(16;16)(p13.1;q22)/CBFB::MYH11             199\n",
       "Otherwise-Normal Control                                                  181\n",
       "AML with mutated NPM1                                                     132\n",
       "AML with in-frame bZIP mutated CEBPA                                       85\n",
       "MDS or MDS-related myeloid neoplasms                                       39\n",
       "AML with t(6;9)(p23;q34.1)/DEK::NUP214                                     31\n",
       "AML with inv(3)(q21.3q26.2) or t(3;3)(q21.3;q26.2)/MECOM-rearrangement      6\n",
       "APL with t(15;17)(q24.1;q21.2)/PML::RARA                                    1\n",
       "Name: count, dtype: int64"
      ]
     },
     "execution_count": 2,
     "metadata": {},
     "output_type": "execute_result"
    }
   ],
   "source": [
    "def classify_controls(normal_samples):\n",
    "    mapping = {\n",
    "        'Bone Marrow Normal': 'Otherwise-Normal Control',\n",
    "        'Blood Derived Normal': 'Otherwise-Normal Control'}\n",
    "    \n",
    "    for key, value in mapping.items():\n",
    "        if key in normal_samples:\n",
    "            return value\n",
    "\n",
    "\n",
    "def classify_fusion(gene_fusion):\n",
    "    mapping = {\n",
    "    'RUNX1-RUNX1T1': 'AML with t(8;21)(q22;q22.1)/RUNX1::RUNX1T1',\n",
    "    'CBFB-MYH11':    'AML with inv(16)(p13.1q22) or t(16;16)(p13.1;q22)/CBFB::MYH11',\n",
    "    'KMT2A':         'AML with t(9;11)(p22;q23.3)/KMT2A-rearrangement',\n",
    "    'add(11)(q23)':  'AML with t(9;11)(p22;q23.3)/KMT2A-rearrangement',\n",
    "    'MLL':           'AML with t(9;11)(p22;q23.3)/KMT2A-rearrangement',\n",
    "    'PML-RARA':      'APL with t(15;17)(q24.1;q21.2)/PML::RARA',\n",
    "    'DEK-NUP214':    'AML with t(6;9)(p23;q34.1)/DEK::NUP214',\n",
    "    'MECOM':         'AML with inv(3)(q21.3q26.2) or t(3;3)(q21.3;q26.2)/MECOM-rearrangement',\n",
    "    'NPM1-MLF1':     'AML with other rare recurring translocations',\n",
    "    'PRDM16-RPN1':   'AML with other rare recurring translocations',\n",
    "    'RBM15-MRTFA':   'AML with other rare recurring translocations',\n",
    "    'RBM15-MKL1':    'AML with other rare recurring translocations',\n",
    "    'NUP98':         'AML with other rare recurring translocations',\n",
    "    'ETV6-MNX1':     'AML with other rare recurring translocations',\n",
    "    'KAT6A-CREBBP':  'AML with other rare recurring translocations',\n",
    "    'PICALM-MLLT10': 'AML with other rare recurring translocations',\n",
    "    'FUS-ERG':       'AML with other rare recurring translocations',\n",
    "    'RUNX1-CBFA2T3': 'AML with other rare recurring translocations',\n",
    "    'CBFA2T3-GLIS2': 'AML with other rare recurring translocations',\n",
    "    'BCR-ABL1':       'AML with t(9;22)(q34.1;q11.2)/BCR::ABL1'}\n",
    "\n",
    "    # Other uncharacterized abdnormalities present in the dataset but not in guidelines\n",
    "    \n",
    "    # 'CBFA2T3-GLIS3': 'AML with other rare recurring translocations',\n",
    "    # 'PSIP1-NUP214':  'AML with other rare recurring translocations',\n",
    "    # 'XPO1-TNRC18':   'AML with other rare recurring translocations', \n",
    "    # 'HNRNPH1-ERG':   'AML with other rare recurring translocations',\n",
    "    # 'NIPBL-HOXB9':   'AML with other rare recurring translocations', \n",
    "    # 'SET-NUP214':    'AML with other rare recurring translocations', \n",
    "    # 'FLI1-IFIT2':    'AML with other rare recurring translocations', \n",
    "    # 'TCF4-ZEB2':     'AML with other rare recurring translocations',\n",
    "    # 'MBTD1-ZMYND11': 'AML with other rare recurring translocations', \n",
    "    # 'FOSB-KLF6':     'AML with other rare recurring translocations', \n",
    "    # 'SFPQ-ZFP36L2':  'AML with other rare recurring translocations', \n",
    "    # 'RUNX1-LINC00478':'AML with other rare recurring translocations',\n",
    "    # 'RUNX1-EVX1':     'AML with other rare recurring translocations',  \n",
    "    # 'PSPC1-ZFP36L1':  'AML with other rare recurring translocations', \n",
    "    # 'EWSR1-FEV':      'AML with other rare recurring translocations',\n",
    "    # 'STAG2-AFF2':     'AML with other rare recurring translocations', \n",
    "    # 'MYB-GATA1':      'AML with other rare recurring translocations', \n",
    "    # 'CBFA2T3-GLIS3':  'AML with other rare recurring translocations',\n",
    "    # 'RUNX1-ZFPM2':    'AML with other rare recurring translocations', \n",
    "    # 'RUNX1-CBFA2T2':  'AML with other rare recurring translocations',\n",
    "    # 'PIM3-BRD1':      'AML with other rare recurring translocations',\n",
    "    # 'KAT6A-EP300':    'AML with other rare recurring translocations',\n",
    "    # 'DOT1L-RPS15':    'AML with other rare recurring translocations',\n",
    "    # 'FUS-FEV':        'AML with other rare recurring translocations',\n",
    "    # 'KAT6A-NCOA2':    'AML with other rare recurring translocations',\n",
    "    # 'JARID2-PTP4A1':  'AML with other rare recurring translocations',\n",
    "    # 'FUS-FLI1':       'AML with other rare recurring translocations',     \n",
    "    \n",
    "    for key, value in mapping.items():\n",
    "        if key in gene_fusion:\n",
    "            return value\n",
    "\n",
    "def classify_cebpa(cebpa_mutation):\n",
    "    mapping = {\n",
    "        'Yes': 'AML with in-frame bZIP mutated CEBPA'}\n",
    "    \n",
    "    for key, value in mapping.items():\n",
    "        if key in cebpa_mutation:\n",
    "            return value\n",
    "\n",
    "def classify_npm(npm_mutation):\n",
    "    mapping = {\n",
    "        'Yes': 'AML with mutated NPM1',\n",
    "    }\n",
    "\n",
    "    for key, value in mapping.items():\n",
    "        if key in npm_mutation:\n",
    "            return value\n",
    "        \n",
    "def classify_annotated_diagnosis(diagnosis):\n",
    "    mapping = {\n",
    "        'mutated NPM1': 'AML with mutated NPM1',\n",
    "        'mutated CEBPA': 'AML with in-frame bZIP mutated CEBPA',\n",
    "        'myelodysplasia-related changes': 'MDS or MDS-related myeloid neoplasms'\n",
    "        }\n",
    "    \n",
    "    for key, value in mapping.items():\n",
    "        if key in diagnosis:\n",
    "            return value\n",
    "\n",
    "def process_labels(df):\n",
    "    df['ELN 2022_Controls'] = df['Sample Type'].astype(str).apply(classify_controls)\n",
    "    df['ELN 2022_Gene Fusion'] = df['Gene Fusion'].astype(str).apply(classify_fusion)\n",
    "    df['ELN 2022_CEBPA'] = df['CEBPA mutation'].astype(str).apply(classify_cebpa)\n",
    "    df['ELN 2022_NPM1'] = df['NPM mutation'].astype(str).apply(classify_npm)\n",
    "    df['ELN 2022_Comment'] = df['Comment'].astype(str).apply(classify_annotated_diagnosis)\n",
    "\n",
    "    df['ELN 2022 Combined Diagnoses'] = df[['ELN 2022_Controls','ELN 2022_Gene Fusion', 'ELN 2022_CEBPA', 'ELN 2022_NPM1', 'ELN 2022_Comment']]\\\n",
    "        .apply(lambda x: ','.join(filter(lambda i: i is not None and i==i, x)), axis=1)\n",
    "\n",
    "    # Replace empty strings with NaN\n",
    "    df['ELN 2022 Combined Diagnoses'] = df['ELN 2022 Combined Diagnoses'].replace('', np.nan)\n",
    "\n",
    "    # Create `ELN 2022 Final Diagnosis` column by splitting `Combined Diagnosis` by comma and taking the first element\n",
    "    df['ELN AML 2022 Diagnosis'] = df['ELN 2022 Combined Diagnoses'].str.split(',').str[0]\n",
    "\n",
    "    # Drop columns created except for `ELN 2022 Final Diagnosis` and `Combined Diagnosis` columns\n",
    "    df = df.drop(['ELN 2022_Controls','ELN 2022_Gene Fusion', 'ELN 2022_CEBPA', 'ELN 2022_NPM1', 'ELN 2022_Comment'], axis=1)\n",
    "        \n",
    "    return df\n",
    "\n",
    "# Process labels\n",
    "labels_1031 = process_labels(labels_1031)\n",
    "labels_0531 = process_labels(labels_0531)\n",
    "\n",
    "# Combine `['ELN 2022 Diagnosis'].value_counts()` from both datasets\n",
    "labels_1031['ELN AML 2022 Diagnosis'].value_counts().add(labels_0531['ELN AML 2022 Diagnosis'].value_counts(), fill_value=0).sort_values(ascending=False).astype(int)"
   ]
  },
  {
   "attachments": {},
   "cell_type": "markdown",
   "metadata": {},
   "source": [
    "### WHO2021"
   ]
  },
  {
   "cell_type": "code",
   "execution_count": 3,
   "metadata": {},
   "outputs": [
    {
     "data": {
      "text/plain": [
       "WHO AML 2021 Diagnosis\n",
       "AML with t(9;11)(p22;q23.3)/KMT2A-rearrangement                           416\n",
       "AML with t(8;21)(q22;q22.1)/RUNX1::RUNX1T1                                245\n",
       "AML with inv(16)(p13.1q22) or t(16;16)(p13.1;q22)/CBFB::MYH11             199\n",
       "Otherwise-Normal Control                                                  181\n",
       "AML with mutated NPM1                                                     142\n",
       "AML with NUP98-fusion                                                     123\n",
       "AML with bZIP mutated CEBPA                                                85\n",
       "AML with CBFA2T3::GLIS2 (inv(16)(p13q24))                                  39\n",
       "MDS or MDS-related myeloid neoplasms                                       37\n",
       "AML with t(6;9)(p23;q34.1)/DEK::NUP214                                     31\n",
       "AML with ETV6 fusion                                                       25\n",
       "AML with t(1;22)(p13.3;q13.1); RBM15::MKL1                                 13\n",
       "AML with t(8;16)(p11.2;p13.3); KAT6A::CREBBP                                9\n",
       "AML with t(16;21)(p11;q22); FUS::ERG                                        7\n",
       "AML with inv(3)(q21.3q26.2) or t(3;3)(q21.3;q26.2)/MECOM-rearrangement      6\n",
       "APL with t(15;17)(q24.1;q21.2)/PML::RARA                                    1\n",
       "Name: count, dtype: int64"
      ]
     },
     "execution_count": 3,
     "metadata": {},
     "output_type": "execute_result"
    }
   ],
   "source": [
    "def classify_controls(normal_samples):\n",
    "    mapping = {\n",
    "        'Bone Marrow Normal': 'Otherwise-Normal Control',\n",
    "        'Blood Derived Normal': 'Otherwise-Normal Control'}\n",
    "    \n",
    "    for key, value in mapping.items():\n",
    "        if key in normal_samples:\n",
    "            return value\n",
    "\n",
    "\n",
    "def classify_fusion(gene_fusion):\n",
    "    mapping = {\n",
    "    'RUNX1-RUNX1T1': 'AML with t(8;21)(q22;q22.1)/RUNX1::RUNX1T1',\n",
    "    'CBFB-MYH11':    'AML with inv(16)(p13.1q22) or t(16;16)(p13.1;q22)/CBFB::MYH11',\n",
    "    'KMT2A':         'AML with t(9;11)(p22;q23.3)/KMT2A-rearrangement',\n",
    "    'add(11)(q23)':  'AML with t(9;11)(p22;q23.3)/KMT2A-rearrangement',\n",
    "    'MLL':           'AML with t(9;11)(p22;q23.3)/KMT2A-rearrangement',\n",
    "    'PML-RARA':      'APL with t(15;17)(q24.1;q21.2)/PML::RARA',\n",
    "    'DEK-NUP214':    'AML with t(6;9)(p23;q34.1)/DEK::NUP214',\n",
    "    'MECOM':         'AML with inv(3)(q21.3q26.2) or t(3;3)(q21.3;q26.2)/MECOM-rearrangement',\n",
    "    'ETV6':          'AML with ETV6 fusion',\n",
    "    'NPM1':          'AML with mutated NPM1',\n",
    "    'RBM15-MKL1':    'AML with t(1;22)(p13.3;q13.1); RBM15::MKL1',\n",
    "    'NUP98':         'AML with NUP98-fusion',\n",
    "    'KAT6A-CREBBP':  'AML with t(8;16)(p11.2;p13.3); KAT6A::CREBBP',\n",
    "    'FUS-ERG':       'AML with t(16;21)(p11;q22); FUS::ERG',\n",
    "    'CBFA2T3-GLIS2': 'AML with CBFA2T3::GLIS2 (inv(16)(p13q24))',\n",
    "    'BCR-ABL1':       'AML with t(9;22)(q34.1;q11.2)/BCR::ABL1'}\n",
    "\n",
    "    # Other uncharacterized abdnormalities present in the dataset but not in guidelines\n",
    "    # 'RUNX1-CBFA2T3': 'AML with other rare recurring translocations',\n",
    "    # 'PRDM16-RPN1':   'AML with other rare recurring translocations',\n",
    "    # 'PICALM-MLLT10': 'AML with other rare recurring translocations',\n",
    "    # 'RBM15-MRTFA':   'AML with other rare recurring translocations',\n",
    "    # 'CBFA2T3-GLIS3': 'AML with other rare recurring translocations',\n",
    "    # 'PSIP1-NUP214':  'AML with other rare recurring translocations',\n",
    "    # 'XPO1-TNRC18':   'AML with other rare recurring translocations', \n",
    "    # 'HNRNPH1-ERG':   'AML with other rare recurring translocations',\n",
    "    # 'NIPBL-HOXB9':   'AML with other rare recurring translocations', \n",
    "    # 'SET-NUP214':    'AML with other rare recurring translocations', \n",
    "    # 'FLI1-IFIT2':    'AML with other rare recurring translocations', \n",
    "    # 'TCF4-ZEB2':     'AML with other rare recurring translocations',\n",
    "    # 'MBTD1-ZMYND11': 'AML with other rare recurring translocations', \n",
    "    # 'FOSB-KLF6':     'AML with other rare recurring translocations', \n",
    "    # 'SFPQ-ZFP36L2':  'AML with other rare recurring translocations', \n",
    "    # 'RUNX1-LINC00478':'AML with other rare recurring translocations',\n",
    "    # 'RUNX1-EVX1':     'AML with other rare recurring translocations',  \n",
    "    # 'PSPC1-ZFP36L1':  'AML with other rare recurring translocations', \n",
    "    # 'EWSR1-FEV':      'AML with other rare recurring translocations',\n",
    "    # 'STAG2-AFF2':     'AML with other rare recurring translocations', \n",
    "    # 'MYB-GATA1':      'AML with other rare recurring translocations', \n",
    "    # 'CBFA2T3-GLIS3':  'AML with other rare recurring translocations',\n",
    "    # 'RUNX1-ZFPM2':    'AML with other rare recurring translocations', \n",
    "    # 'RUNX1-CBFA2T2':  'AML with other rare recurring translocations',\n",
    "    # 'PIM3-BRD1':      'AML with other rare recurring translocations',\n",
    "    # 'KAT6A-EP300':    'AML with other rare recurring translocations',\n",
    "    # 'DOT1L-RPS15':    'AML with other rare recurring translocations',\n",
    "    # 'FUS-FEV':        'AML with other rare recurring translocations',\n",
    "    # 'KAT6A-NCOA2':    'AML with other rare recurring translocations',\n",
    "    # 'JARID2-PTP4A1':  'AML with other rare recurring translocations',\n",
    "    # 'FUS-FLI1':       'AML with other rare recurring translocations',     \n",
    "    \n",
    "    for key, value in mapping.items():\n",
    "        if key in gene_fusion:\n",
    "            return value\n",
    "\n",
    "def classify_cebpa(cebpa_mutation):\n",
    "    mapping = {\n",
    "        'Yes': 'AML with bZIP mutated CEBPA'}\n",
    "    \n",
    "    for key, value in mapping.items():\n",
    "        if key in cebpa_mutation:\n",
    "            return value\n",
    "\n",
    "def classify_npm(npm_mutation):\n",
    "    mapping = {\n",
    "        'Yes': 'AML with mutated NPM1',\n",
    "    }\n",
    "\n",
    "    for key, value in mapping.items():\n",
    "        if key in npm_mutation:\n",
    "            return value\n",
    "        \n",
    "def classify_annotated_diagnosis(diagnosis):\n",
    "    mapping = {\n",
    "        'mutated NPM1': 'AML with mutated NPM1',\n",
    "        'mutated CEBPA': 'AML with bZIP mutated CEBPA',\n",
    "        'myelodysplasia-related changes': 'MDS or MDS-related myeloid neoplasms'\n",
    "        }\n",
    "    \n",
    "    for key, value in mapping.items():\n",
    "        if key in diagnosis:\n",
    "            return value\n",
    "\n",
    "def process_labels(df):\n",
    "    df['WHO 2021_Controls'] = df['Sample Type'].astype(str).apply(classify_controls)\n",
    "    df['WHO 2021_Gene Fusion'] = df['Gene Fusion'].astype(str).apply(classify_fusion)\n",
    "    df['WHO 2021_CEBPA'] = df['CEBPA mutation'].astype(str).apply(classify_cebpa)\n",
    "    df['WHO 2021_NPM1'] = df['NPM mutation'].astype(str).apply(classify_npm)\n",
    "    df['WHO 2021_Comment'] = df['Comment'].astype(str).apply(classify_annotated_diagnosis)\n",
    "\n",
    "    df['WHO 2021 Combined Diagnoses'] = df[['WHO 2021_Controls','WHO 2021_Gene Fusion', 'WHO 2021_CEBPA', 'WHO 2021_NPM1', 'WHO 2021_Comment']]\\\n",
    "        .apply(lambda x: ','.join(filter(lambda i: i is not None and i==i, x)), axis=1)\n",
    "\n",
    "    # Replace empty strings with NaN\n",
    "    df['WHO 2021 Combined Diagnoses'] = df['WHO 2021 Combined Diagnoses'].replace('', np.nan)\n",
    "\n",
    "    # Create `WHO 2021 Final Diagnosis` column by splitting `Combined Diagnosis` by comma and taking the first element\n",
    "    df['WHO AML 2021 Diagnosis'] = df['WHO 2021 Combined Diagnoses'].str.split(',').str[0]\n",
    "\n",
    "    # Drop columns created except for `WHO 2021 Final Diagnosis` and `Combined Diagnosis` columns\n",
    "    df = df.drop(['WHO 2021_Controls','WHO 2021_Gene Fusion', 'WHO 2021_CEBPA', 'WHO 2021_NPM1', 'WHO 2021_Comment'], axis=1)\n",
    "        \n",
    "    return df\n",
    "\n",
    "# Process labels\n",
    "labels_1031 = process_labels(labels_1031)\n",
    "labels_0531 = process_labels(labels_0531)\n",
    "\n",
    "# Combine `['WHO 2021 Diagnosis'].value_counts()` from both datasets\n",
    "labels_1031['WHO AML 2021 Diagnosis'].value_counts().add(labels_0531['WHO AML 2021 Diagnosis'].value_counts(), fill_value=0).sort_values(ascending=False).astype(int)\n"
   ]
  },
  {
   "attachments": {},
   "cell_type": "markdown",
   "metadata": {},
   "source": [
    "## AML05"
   ]
  },
  {
   "attachments": {},
   "cell_type": "markdown",
   "metadata": {},
   "source": [
    "### ELN2022"
   ]
  },
  {
   "cell_type": "code",
   "execution_count": 4,
   "metadata": {},
   "outputs": [
    {
     "data": {
      "text/plain": [
       "ELN AML 2022 Diagnosis\n",
       "AML with mutated NPM1                              4\n",
       "AML with t(9;11)(p22;q23.3)/KMT2A-rearrangement    3\n",
       "AML with other rare recurring translocations       2\n",
       "Name: count, dtype: int64"
      ]
     },
     "execution_count": 4,
     "metadata": {},
     "output_type": "execute_result"
    }
   ],
   "source": [
    "def classify_fusion_aml05(gene_fusion):\n",
    "    mapping = {\n",
    "    'KMT2A':         'AML with t(9;11)(p22;q23.3)/KMT2A-rearrangement',\n",
    "    'NPM1':          'AML with mutated NPM1',\n",
    "    'NUP98':         'AML with other rare recurring translocations'}\n",
    "    for key, value in mapping.items():\n",
    "        if key in gene_fusion:\n",
    "            return value\n",
    "        \n",
    "# Rename `Other genetic alterations` column to `Gene Fusion`\n",
    "labels_aml05 = labels_aml05.rename(columns={'Other genetic alterations': 'Gene Fusion'})\n",
    "\n",
    "labels_aml05['ELN AML 2022 Diagnosis'] = labels_aml05['Gene Fusion'].astype(str).apply(classify_fusion_aml05)\n",
    "\n",
    "labels_aml05['ELN AML 2022 Diagnosis'].value_counts()"
   ]
  },
  {
   "attachments": {},
   "cell_type": "markdown",
   "metadata": {},
   "source": [
    "### WHO2021"
   ]
  },
  {
   "cell_type": "code",
   "execution_count": 5,
   "metadata": {},
   "outputs": [
    {
     "data": {
      "text/plain": [
       "WHO AML 2021 Diagnosis\n",
       "AML with mutated NPM1                              4\n",
       "AML with t(9;11)(p22;q23.3)/KMT2A-rearrangement    3\n",
       "AML with NUP98-fusion                              2\n",
       "Name: count, dtype: int64"
      ]
     },
     "execution_count": 5,
     "metadata": {},
     "output_type": "execute_result"
    }
   ],
   "source": [
    "def classify_fusion_aml05(gene_fusion):\n",
    "    mapping = {\n",
    "    'KMT2A':         'AML with t(9;11)(p22;q23.3)/KMT2A-rearrangement',\n",
    "    'NPM1':          'AML with mutated NPM1',\n",
    "    'NUP98':         'AML with NUP98-fusion'}\n",
    "    for key, value in mapping.items():\n",
    "        if key in gene_fusion:\n",
    "            return value\n",
    "        \n",
    "# Rename `Other genetic alterations` column to `Gene Fusion`\n",
    "labels_aml05 = labels_aml05.rename(columns={'Other genetic alterations': 'Gene Fusion'})\n",
    "\n",
    "labels_aml05['WHO AML 2021 Diagnosis'] = labels_aml05['Gene Fusion'].astype(str).apply(classify_fusion_aml05)\n",
    "\n",
    "labels_aml05['WHO AML 2021 Diagnosis'].value_counts()"
   ]
  },
  {
   "attachments": {},
   "cell_type": "markdown",
   "metadata": {},
   "source": [
    "## TCGA"
   ]
  },
  {
   "cell_type": "code",
   "execution_count": 6,
   "metadata": {},
   "outputs": [
    {
     "data": {
      "text/plain": [
       "Molecular Classification                 \n",
       "Normal Karyotype                             85\n",
       "Complex Cytogenetics                         24\n",
       "PML-RARA                                     18\n",
       "Intermediate Risk Cytogenetic Abnormality    17\n",
       "CBFB-MYH11                                   12\n",
       "Poor Risk Cytogenetic Abnormality            10\n",
       "MLL translocation, poor risk                  9\n",
       "RUNX1-RUNX1T1                                 7\n",
       "N.D.                                          4\n",
       "BCR-ABL1                                      3\n",
       "MLL translocation, t(9;11)                    2\n",
       "NUP98 Translocation                           2\n",
       "NUP98 translocation                           1\n",
       "Name: count, dtype: int64"
      ]
     },
     "execution_count": 6,
     "metadata": {},
     "output_type": "execute_result"
    }
   ],
   "source": [
    "labels_amltcga[['Molecular Classification']].value_counts()"
   ]
  },
  {
   "attachments": {},
   "cell_type": "markdown",
   "metadata": {},
   "source": [
    "### ELN2022"
   ]
  },
  {
   "cell_type": "code",
   "execution_count": 7,
   "metadata": {},
   "outputs": [
    {
     "data": {
      "text/plain": [
       "ELN AML 2022 Diagnosis\n",
       "None                                                             140\n",
       "APL with t(15;17)(q24.1;q21.2)/PML::RARA                          18\n",
       "AML with inv(16)(p13.1q22) or t(16;16)(p13.1;q22)/CBFB::MYH11     12\n",
       "AML with t(9;11)(p22;q23.3)/KMT2A-rearrangement                   11\n",
       "AML with t(8;21)(q22;q22.1)/RUNX1::RUNX1T1                         7\n",
       "AML with other rare recurring translocations                       3\n",
       "AML with t(9;22)(q34.1;q11.2)/BCR::ABL1                            3\n",
       "Name: count, dtype: int64"
      ]
     },
     "execution_count": 7,
     "metadata": {},
     "output_type": "execute_result"
    }
   ],
   "source": [
    "def classify_annotated_diagnosis_amltcga(gene_fusion):\n",
    "    mapping = {\n",
    "    'PML-RARA':         'APL with t(15;17)(q24.1;q21.2)/PML::RARA',\n",
    "    'CBFB-MYH11':       'AML with inv(16)(p13.1q22) or t(16;16)(p13.1;q22)/CBFB::MYH11',\n",
    "    'RUNX1-RUNX1T1':    'AML with t(8;21)(q22;q22.1)/RUNX1::RUNX1T1',\n",
    "    'MLL':              'AML with t(9;11)(p22;q23.3)/KMT2A-rearrangement',\n",
    "    'BCR-ABL1':         'AML with t(9;22)(q34.1;q11.2)/BCR::ABL1',\n",
    "    'NUP98':            'AML with other rare recurring translocations'}\n",
    "    for key, value in mapping.items():\n",
    "        if key in gene_fusion:\n",
    "            return value\n",
    "        \n",
    "# Rename `Other genetic alterations` column to `Gene Fusion`\n",
    "\n",
    "labels_amltcga['ELN AML 2022 Diagnosis'] = labels_amltcga['Molecular Classification']\\\n",
    "    .astype(str).apply(classify_annotated_diagnosis_amltcga)\n",
    "\n",
    "\n",
    "labels_amltcga['ELN AML 2022 Diagnosis'].value_counts(dropna=False)"
   ]
  },
  {
   "attachments": {},
   "cell_type": "markdown",
   "metadata": {},
   "source": [
    "### WHO2021"
   ]
  },
  {
   "cell_type": "code",
   "execution_count": 8,
   "metadata": {},
   "outputs": [
    {
     "data": {
      "text/plain": [
       "WHO AML 2021 Diagnosis\n",
       "None                                                             143\n",
       "APL with t(15;17)(q24.1;q21.2)/PML::RARA                          18\n",
       "AML with inv(16)(p13.1q22) or t(16;16)(p13.1;q22)/CBFB::MYH11     12\n",
       "AML with t(9;11)(p22;q23.3)/KMT2A-rearrangement                   11\n",
       "AML with t(8;21)(q22;q22.1)/RUNX1::RUNX1T1                         7\n",
       "AML with NUP98-fusion                                              3\n",
       "Name: count, dtype: int64"
      ]
     },
     "execution_count": 8,
     "metadata": {},
     "output_type": "execute_result"
    }
   ],
   "source": [
    "def classify_annotated_diagnosis_amltcga(gene_fusion):\n",
    "    mapping = {\n",
    "    'PML-RARA':         'APL with t(15;17)(q24.1;q21.2)/PML::RARA',\n",
    "    'CBFB-MYH11':       'AML with inv(16)(p13.1q22) or t(16;16)(p13.1;q22)/CBFB::MYH11',\n",
    "    'RUNX1-RUNX1T1':    'AML with t(8;21)(q22;q22.1)/RUNX1::RUNX1T1',\n",
    "    'MLL':              'AML with t(9;11)(p22;q23.3)/KMT2A-rearrangement',\n",
    "    'NUP98':            'AML with NUP98-fusion'}\n",
    "    for key, value in mapping.items():\n",
    "        if key in gene_fusion:\n",
    "            return value\n",
    "        \n",
    "# Rename `Other genetic alterations` column to `Gene Fusion`\n",
    "\n",
    "labels_amltcga['WHO AML 2021 Diagnosis'] = labels_amltcga['Molecular Classification']\\\n",
    "    .astype(str).apply(classify_annotated_diagnosis_amltcga)\n",
    "\n",
    "labels_amltcga['WHO AML 2021 Diagnosis'].value_counts(dropna=False)"
   ]
  },
  {
   "attachments": {},
   "cell_type": "markdown",
   "metadata": {},
   "source": [
    "## BeatAML"
   ]
  },
  {
   "cell_type": "code",
   "execution_count": 9,
   "metadata": {},
   "outputs": [
    {
     "data": {
      "text/plain": [
       "SpecificDxAtAcquisition\n",
       "NaN                                                               75\n",
       "AML with mutated NPM1                                             72\n",
       "AML with myelodysplasia-related changes                           37\n",
       "Acute myeloid leukaemia, NOS                                      24\n",
       "AML with inv(16)(p13.1q22) or t(16;16)(p13.1;q22); CBFB-MYH11     17\n",
       "AML with mutated CEBPA                                            16\n",
       "Therapy-related myeloid neoplasms                                 15\n",
       "Acute myelomonocytic leukaemia                                    13\n",
       "Acute promyelocytic leukaemia with t(15;17)(q22;q12); PML-RARA    12\n",
       "AML with t(9;11)(p22;q23); MLLT3-MLL                               8\n",
       "AML with t(8;21)(q22;q22); RUNX1-RUNX1T1                           7\n",
       "Acute monoblastic and monocytic leukaemia                          7\n",
       "AML with inv(3)(q21q26.2) or t(3;3)(q21;q26.2); RPN1-EVI1          5\n",
       "AML without maturation                                             2\n",
       "AML with minimal differentiation                                   2\n",
       "AML with maturation                                                2\n",
       "Mixed phenotype acute leukaemia, T/myeloid, NOS                    1\n",
       "Myeloid leukaemia associated with Down syndrome                    1\n",
       "Name: count, dtype: int64"
      ]
     },
     "execution_count": 9,
     "metadata": {},
     "output_type": "execute_result"
    }
   ],
   "source": [
    "labels_beataml[\"SpecificDxAtAcquisition\"].value_counts(dropna=False)"
   ]
  },
  {
   "attachments": {},
   "cell_type": "markdown",
   "metadata": {},
   "source": [
    "### ELN2022"
   ]
  },
  {
   "cell_type": "code",
   "execution_count": 10,
   "metadata": {},
   "outputs": [
    {
     "data": {
      "text/plain": [
       "ELN AML 2022 Diagnosis\n",
       "AML with mutated NPM1                                                     72\n",
       "MDS or MDS-related myeloid neoplasms                                      37\n",
       "AML with inv(16)(p13.1q22) or t(16;16)(p13.1;q22)/CBFB::MYH11             17\n",
       "AML with in-frame bZIP mutated CEBPA                                      16\n",
       "Therapy-related or secondary myeloid neoplasms                            15\n",
       "APL with t(15;17)(q24.1;q21.2)/PML::RARA                                  12\n",
       "AML with t(9;11)(p22;q23.3)/KMT2A-rearrangement                            8\n",
       "AML with inv(3)(q21.3q26.2) or t(3;3)(q21.3;q26.2)/MECOM-rearrangement     5\n",
       "Mixed phenotype acute leukemia T/myeloid                                   1\n",
       "Myeloid leukaemia associated with Down syndrome                            1\n",
       "Name: count, dtype: int64"
      ]
     },
     "execution_count": 10,
     "metadata": {},
     "output_type": "execute_result"
    }
   ],
   "source": [
    "def classify_annotated_diagnosis_beataml(gene_fusion):\n",
    "    mapping = {\n",
    "        \"AML with mutated NPM1\"                                         : \"AML with mutated NPM1\",\n",
    "        \"AML with myelodysplasia-related changes\"                       : \"MDS or MDS-related myeloid neoplasms\",\n",
    "        \"AML with inv(16)(p13.1q22) or t(16;16)(p13.1;q22); CBFB-MYH11\" : \"AML with inv(16)(p13.1q22) or t(16;16)(p13.1;q22)/CBFB::MYH11\",\n",
    "        \"AML with mutated CEBPA\"                                        : \"AML with in-frame bZIP mutated CEBPA\",\n",
    "        \"Therapy-related myeloid neoplasms\"                             : \"Therapy-related or secondary myeloid neoplasms\",\n",
    "        \"PML-RARA\"                                                      : \"APL with t(15;17)(q24.1;q21.2)/PML::RARA\",\n",
    "        \"AML with t(9;11)(p22;q23); MLLT3-MLL\"                          : \"AML with t(9;11)(p22;q23.3)/KMT2A-rearrangement\",\n",
    "        \"AML with t(8;21)(q22;q22.1); RUNX1-RUNX1T1\"                    : \"AML with t(8;21)(q22;q22.1)/RUNX1::RUNX1T1\",\n",
    "        \"AML with inv(3)(q21q26.2) or t(3;3)(q21;q26.2); RPN1-EVI1\"     : \"AML with inv(3)(q21.3q26.2) or t(3;3)(q21.3;q26.2)/MECOM-rearrangement\",\n",
    "        \"Mixed phenotype acute leukaemia, T/myeloid\"                    : \"Mixed phenotype acute leukemia T/myeloid\",\n",
    "        \"Myeloid leukaemia associated with Down syndrome\"               : \"Myeloid leukaemia associated with Down syndrome\",\n",
    "    }\n",
    "    for key, value in mapping.items():\n",
    "        if key in gene_fusion:\n",
    "            return value\n",
    "\n",
    "\n",
    "# Rename `Other genetic alterations` column to `Gene Fusion`\n",
    "\n",
    "labels_beataml[\"ELN AML 2022 Diagnosis\"] = (\n",
    "    labels_beataml[\"SpecificDxAtAcquisition\"]\n",
    "    .astype(str)\n",
    "    .apply(classify_annotated_diagnosis_beataml)\n",
    ")\n",
    "\n",
    "labels_beataml[\"ELN AML 2022 Diagnosis\"].value_counts()"
   ]
  },
  {
   "attachments": {},
   "cell_type": "markdown",
   "metadata": {},
   "source": [
    "### WHO2021"
   ]
  },
  {
   "cell_type": "code",
   "execution_count": 11,
   "metadata": {},
   "outputs": [
    {
     "data": {
      "text/plain": [
       "WHO AML 2021 Diagnosis\n",
       "AML with mutated NPM1                                                     72\n",
       "MDS or MDS-related myeloid neoplasms                                      37\n",
       "AML with inv(16)(p13.1q22) or t(16;16)(p13.1;q22)/CBFB::MYH11             17\n",
       "AML with bZIP mutated CEBPA                                               16\n",
       "Therapy-related or secondary myeloid neoplasms                            15\n",
       "APL with t(15;17)(q24.1;q21.2)/PML::RARA                                  12\n",
       "AML with t(9;11)(p22;q23.3)/KMT2A-rearrangement                            8\n",
       "AML with inv(3)(q21.3q26.2) or t(3;3)(q21.3;q26.2)/MECOM-rearrangement     5\n",
       "Mixed phenotype acute leukemia T/myeloid                                   1\n",
       "Myeloid leukemia associated with Down syndrome                             1\n",
       "Name: count, dtype: int64"
      ]
     },
     "execution_count": 11,
     "metadata": {},
     "output_type": "execute_result"
    }
   ],
   "source": [
    "def classify_annotated_diagnosis_beataml(gene_fusion):\n",
    "    mapping = {\n",
    "        \"AML with mutated NPM1\"                                         : \"AML with mutated NPM1\",\n",
    "        \"AML with myelodysplasia-related changes\"                       : \"MDS or MDS-related myeloid neoplasms\",\n",
    "        \"AML with inv(16)(p13.1q22) or t(16;16)(p13.1;q22); CBFB-MYH11\" : \"AML with inv(16)(p13.1q22) or t(16;16)(p13.1;q22)/CBFB::MYH11\",\n",
    "        \"AML with mutated CEBPA\"                                        : \"AML with bZIP mutated CEBPA\",\n",
    "        \"Therapy-related myeloid neoplasms\"                             : \"Therapy-related or secondary myeloid neoplasms\",\n",
    "        \"PML-RARA\"                                                      : \"APL with t(15;17)(q24.1;q21.2)/PML::RARA\",\n",
    "        \"AML with t(9;11)(p22;q23); MLLT3-MLL\"                          : \"AML with t(9;11)(p22;q23.3)/KMT2A-rearrangement\",\n",
    "        \"AML with t(8;21)(q22;q22.1); RUNX1-RUNX1T1\"                    : \"AML with t(8;21)(q22;q22.1)/RUNX1::RUNX1T1\",\n",
    "        \"AML with inv(3)(q21q26.2) or t(3;3)(q21;q26.2); RPN1-EVI1\"     : \"AML with inv(3)(q21.3q26.2) or t(3;3)(q21.3;q26.2)/MECOM-rearrangement\",\n",
    "        \"Mixed phenotype acute leukaemia, T/myeloid\"                    : \"Mixed phenotype acute leukemia T/myeloid\",\n",
    "        \"Myeloid leukaemia associated with Down syndrome\"               : \"Myeloid leukemia associated with Down syndrome\",\n",
    "    }\n",
    "    for key, value in mapping.items():\n",
    "        if key in gene_fusion:\n",
    "            return value\n",
    "\n",
    "\n",
    "# Rename `Other genetic alterations` column to `Gene Fusion`\n",
    "\n",
    "labels_beataml[\"WHO AML 2021 Diagnosis\"] = (\n",
    "    labels_beataml[\"SpecificDxAtAcquisition\"]\n",
    "    .astype(str)\n",
    "    .apply(classify_annotated_diagnosis_beataml)\n",
    ")\n",
    "\n",
    "labels_beataml[\"WHO AML 2021 Diagnosis\"].value_counts()"
   ]
  },
  {
   "attachments": {},
   "cell_type": "markdown",
   "metadata": {},
   "source": [
    "## MDS tAML"
   ]
  },
  {
   "attachments": {},
   "cell_type": "markdown",
   "metadata": {},
   "source": [
    "### ELN2022 and WHO2021"
   ]
  },
  {
   "cell_type": "code",
   "execution_count": 12,
   "metadata": {},
   "outputs": [
    {
     "data": {
      "text/plain": [
       "ELN AML 2022 Diagnosis\n",
       "MDS or MDS-related myeloid neoplasms              108\n",
       "Therapy-related or secondary myeloid neoplasms     48\n",
       "Otherwise-Normal Control                           10\n",
       "Name: count, dtype: int64"
      ]
     },
     "execution_count": 12,
     "metadata": {},
     "output_type": "execute_result"
    }
   ],
   "source": [
    "def classify_controls_mds_taml(normal_samples):\n",
    "    mapping = {\n",
    "        'CTR': 'Otherwise-Normal Control'}\n",
    "    \n",
    "    for key, value in mapping.items():\n",
    "        if key in normal_samples:\n",
    "            return value\n",
    "\n",
    "def classify_annotated_diagnosis_mds_taml(gene_fusion):\n",
    "    mapping = {\n",
    "        \"MDS\": \"MDS or MDS-related myeloid neoplasms\",\n",
    "        \"AML\": \"Therapy-related or secondary myeloid neoplasms\",\n",
    "    }\n",
    "    for key, value in mapping.items():\n",
    "        if key in gene_fusion:\n",
    "            return value\n",
    "\n",
    "\n",
    "def process_labels_mds_taml(df):\n",
    "    df['ELN22_Controls'] = df['Patient_ID'].astype(str).apply(classify_controls_mds_taml)\n",
    "    df[\"ELN22_Diagnosis\"] = (df[\"Cytological category group\"].astype(str).apply(classify_annotated_diagnosis_mds_taml))\n",
    "\n",
    "    df['ELN22 Combined Diagnoses'] = df[['ELN22_Controls','ELN22_Diagnosis']]\\\n",
    "        .apply(lambda x: ','.join(filter(lambda i: i is not None and i==i, x)), axis=1)\n",
    "        # Replace empty strings with NaN\n",
    "    df['ELN22 Combined Diagnoses'] = df['ELN22 Combined Diagnoses'].replace('', np.nan)\n",
    "\n",
    "    # Create `ELN 2022 Diagnosis` column by splitting `Combined Diagnosis` by comma and taking the first element\n",
    "    df['ELN AML 2022 Diagnosis'] = df['ELN22 Combined Diagnoses'].str.split(',').str[0]\n",
    "\n",
    "    # Create `WHO 2021 Diagnosis` column by splitting `Combined Diagnosis` by comma and taking the first element\n",
    "    df['WHO AML 2021 Diagnosis'] = df['ELN22 Combined Diagnoses'].str.split(',').str[0]\n",
    "\n",
    "    # Drop columns created except for `ELN 2022 Diagnosis` and `Combined Diagnosis` columns\n",
    "    df = df.drop(['ELN22_Controls','ELN22_Diagnosis'], axis=1)\n",
    "        \n",
    "    return df\n",
    "\n",
    "labels_mds_taml = process_labels_mds_taml(labels_mds_taml)\n",
    "\n",
    "labels_mds_taml['ELN AML 2022 Diagnosis'].value_counts(dropna=False)\n"
   ]
  },
  {
   "attachments": {},
   "cell_type": "markdown",
   "metadata": {},
   "source": [
    "## TARGET ALL"
   ]
  },
  {
   "cell_type": "code",
   "execution_count": 13,
   "metadata": {},
   "outputs": [
    {
     "data": {
      "text/plain": [
       "WHO ALAL Classification\n",
       "NaN            91\n",
       "T/M            24\n",
       "B/M            19\n",
       "MLL             6\n",
       "NOS (T/B/M)     1\n",
       "Name: count, dtype: int64"
      ]
     },
     "execution_count": 13,
     "metadata": {},
     "output_type": "execute_result"
    }
   ],
   "source": [
    "labels_target_all['WHO ALAL Classification'].value_counts(dropna=False)"
   ]
  },
  {
   "attachments": {},
   "cell_type": "markdown",
   "metadata": {},
   "source": [
    "### ELN2022 and WHO2021"
   ]
  },
  {
   "cell_type": "code",
   "execution_count": 14,
   "metadata": {},
   "outputs": [
    {
     "data": {
      "text/plain": [
       "WHO ALL 2021 Diagnosis\n",
       "NaN                                                                  84\n",
       "Mixed phenotype acute leukemia T/myeloid                             24\n",
       "Mixed phenotype acute leukemia B/myeloid                             20\n",
       "Otherwise-Normal Control                                              7\n",
       "Mixed phenotype acute leukemia with t(v;11q23.3)/KMT2A-rearranged     6\n",
       "Name: count, dtype: int64"
      ]
     },
     "execution_count": 14,
     "metadata": {},
     "output_type": "execute_result"
    }
   ],
   "source": [
    "def classify_controls_target_all(normal_samples):\n",
    "    mapping = {\n",
    "        'Bone Marrow Normal': 'Otherwise-Normal Control'}\n",
    "    \n",
    "    for key, value in mapping.items():\n",
    "        if key in normal_samples:\n",
    "            return value\n",
    "\n",
    "def classify_annotated_diagnosis_target_all(gene_fusion):\n",
    "    mapping = {\n",
    "        \"T/M\": \"Mixed phenotype acute leukemia T/myeloid\",\n",
    "        'B/M': 'Mixed phenotype acute leukemia B/myeloid',\n",
    "        'MLL': 'Mixed phenotype acute leukemia with t(v;11q23.3)/KMT2A-rearranged'\n",
    "    }\n",
    "    for key, value in mapping.items():\n",
    "        if key in gene_fusion:\n",
    "            return value\n",
    "\n",
    "\n",
    "def process_labels_target_all(df):\n",
    "    df['ELN22_Controls'] = df['Sample Type'].astype(str).apply(classify_controls_target_all)\n",
    "    df[\"ELN22_Diagnosis\"] = (df[\"WHO ALAL Classification\"].astype(str).apply(classify_annotated_diagnosis_target_all))\n",
    "\n",
    "    df['ELN22 Combined Diagnoses'] = df[['ELN22_Controls','ELN22_Diagnosis']]\\\n",
    "        .apply(lambda x: ','.join(filter(lambda i: i is not None and i==i, x)), axis=1)\n",
    "        # Replace empty strings with NaN\n",
    "    df['ELN22 Combined Diagnoses'] = df['ELN22 Combined Diagnoses'].replace('', np.nan)\n",
    "\n",
    "    # Create `WHO 2021 Diagnosis` column by splitting `Combined Diagnosis` by comma and taking the first element\n",
    "    df['WHO ALL 2021 Diagnosis'] = df['ELN22 Combined Diagnoses'].str.split(',').str[0]\n",
    "\n",
    "    # Drop columns created except for `ELN22 Final Diagnosis` and `Combined Diagnosis` columns\n",
    "    df = df.drop(['ELN22_Controls','ELN22_Diagnosis'], axis=1)\n",
    "        \n",
    "    return df\n",
    "\n",
    "labels_target_all = process_labels_target_all(labels_target_all)\n",
    "\n",
    "labels_target_all['WHO ALL 2021 Diagnosis'].value_counts(dropna=False)"
   ]
  },
  {
   "attachments": {},
   "cell_type": "markdown",
   "metadata": {},
   "source": [
    "## Nordic Peds ALL"
   ]
  },
  {
   "attachments": {},
   "cell_type": "markdown",
   "metadata": {},
   "source": [
    "### ELN2022 and WHO2021"
   ]
  },
  {
   "cell_type": "code",
   "execution_count": 15,
   "metadata": {},
   "outputs": [
    {
     "data": {
      "text/plain": [
       "Immunophenotype_Subtype\n",
       "BCP-ALL HeH              187\n",
       "NaN                      180\n",
       "BCP-ALL t(12;21)         163\n",
       "BCP-ALL undefined        105\n",
       "T-ALL T-ALL              101\n",
       "BCP-ALL non-recurrent    100\n",
       "BCP-ALL 11q23/MLL         28\n",
       "BCP-ALL t(1;19)           23\n",
       "BCP-ALL dic(9;20)         20\n",
       "BCP-ALL t(9;22)           19\n",
       "BCP-ALL iAMP21            10\n",
       "BCP-ALL <45chr             5\n",
       "BCP-ALL >67chr             3\n",
       "Name: count, dtype: int64"
      ]
     },
     "execution_count": 15,
     "metadata": {},
     "output_type": "execute_result"
    }
   ],
   "source": [
    "labels_nordic_all['Immunophenotype_Subtype'].value_counts(dropna=False)"
   ]
  },
  {
   "cell_type": "code",
   "execution_count": 16,
   "metadata": {},
   "outputs": [
    {
     "data": {
      "text/plain": [
       "WHO ALL 2021 Diagnosis\n",
       "B-ALL NOS                                        205\n",
       "B-ALL with hyperdiploidy                         190\n",
       "B-ALL with t(12;21)(p13.2;q22.1); ETV6::RUNX1    163\n",
       "T-ALL NOS                                        101\n",
       "NaN                                               94\n",
       "Otherwise-Normal Control                          86\n",
       "B-ALL with t(v;11q23.3); KMT2A-rearranged         28\n",
       "B-ALL with t(1;19)(q23;p13.3); TCF3::PBX1         23\n",
       "B-ALL dic(9;20)                                   20\n",
       "B-ALL with t(9;22)(q34.1;q11.2); BCR::ABL1        19\n",
       "B-ALL with iAMP21                                 10\n",
       "B-ALL with hypodiploidy                            5\n",
       "Name: count, dtype: int64"
      ]
     },
     "execution_count": 16,
     "metadata": {},
     "output_type": "execute_result"
    }
   ],
   "source": [
    "def classify_controls(normal_samples):\n",
    "    mapping = {\n",
    "        'Bone Marrow Normal': 'Otherwise-Normal Control',\n",
    "        'Peripheral Blood Normal': 'Otherwise-Normal Control'}\n",
    "    \n",
    "    for key, value in mapping.items():\n",
    "        if key in normal_samples:\n",
    "            return value\n",
    "\n",
    "\n",
    "def classify_fusion(immunophenotype_subtype):\n",
    "    mapping = {\n",
    "    'BCP-ALL HeH'           :'B-ALL with hyperdiploidy, high',\n",
    "    'BCP-ALL t(12;21)'      :'B-ALL with t(12;21)(p13.2;q22.1); ETV6::RUNX1',         \n",
    "    'BCP-ALL undefined'     :'B-ALL NOS',     \n",
    "    'T-ALL T-ALL'           :'T-ALL NOS',\n",
    "    'BCP-ALL non-recurrent' :'B-ALL NOS', \n",
    "    'BCP-ALL 11q23/MLL'     :'B-ALL with t(v;11q23.3); KMT2A-rearranged',       \n",
    "    'BCP-ALL t(1;19)'       :'B-ALL with t(1;19)(q23;p13.3); TCF3::PBX1',       \n",
    "    'BCP-ALL dic(9;20)'     :'B-ALL dic(9;20)',       \n",
    "    'BCP-ALL t(9;22)'       :'B-ALL with t(9;22)(q34.1;q11.2); BCR::ABL1',       \n",
    "    'BCP-ALL iAMP21'        :'B-ALL with iAMP21',        \n",
    "    'BCP-ALL <45chr'        :'B-ALL with hypodiploidy',        \n",
    "    'BCP-ALL >67chr'        :'B-ALL with hyperdiploidy'}\n",
    "\n",
    "    # This criteria above needs to be revised if we choose to include ALL samples in the analysis \n",
    "    \n",
    "    for key, value in mapping.items():\n",
    "        if key in immunophenotype_subtype:\n",
    "            return value\n",
    "        \n",
    "def process_labels(df):\n",
    "    df['WHO 2021_Controls'] = df['Sample Type'].astype(str).apply(classify_controls)\n",
    "    df['WHO 2021_Immunophenotype_Subtype'] = df['Immunophenotype_Subtype'].astype(str).apply(classify_fusion)\n",
    "    \n",
    "    df['WHO 2021 Combined Diagnoses'] = df[['WHO 2021_Controls','WHO 2021_Immunophenotype_Subtype']]\\\n",
    "        .apply(lambda x: ','.join(filter(lambda i: i is not None and i==i, x)), axis=1)\n",
    "\n",
    "    # Replace empty strings with NaN\n",
    "    df['WHO 2021 Combined Diagnoses'] = df['WHO 2021 Combined Diagnoses'].replace('', np.nan)\n",
    "\n",
    "    # Create `WHO 2021 Final Diagnosis` column by splitting `Combined Diagnosis` by comma and taking the first element\n",
    "    df['WHO ALL 2021 Diagnosis'] = df['WHO 2021 Combined Diagnoses'].str.split(',').str[0]\n",
    "\n",
    "    # Drop columns created except for `WHO 2021 Final Diagnosis` and `Combined Diagnosis` columns\n",
    "    df = df.drop(['WHO 2021_Controls','WHO 2021_Immunophenotype_Subtype'], axis=1)\n",
    "        \n",
    "    return df\n",
    "\n",
    "# Process labels\n",
    "labels_nordic_all = process_labels(labels_nordic_all)\n",
    "\n",
    "\n",
    "# Combine `['WHO 2021 Diagnosis'].value_counts()` from both datasets\n",
    "labels_nordic_all['WHO ALL 2021 Diagnosis'].value_counts(dropna=False)"
   ]
  },
  {
   "attachments": {},
   "cell_type": "markdown",
   "metadata": {},
   "source": [
    "## ALL French GRAAL"
   ]
  },
  {
   "cell_type": "code",
   "execution_count": 17,
   "metadata": {},
   "outputs": [
    {
     "data": {
      "text/plain": [
       "Diagnosis\n",
       "T-ALL                       143\n",
       "Otherwise-Normal Control     12\n",
       "Name: count, dtype: int64"
      ]
     },
     "execution_count": 17,
     "metadata": {},
     "output_type": "execute_result"
    }
   ],
   "source": [
    "labels_all_graal['Diagnosis'].value_counts(dropna=False)"
   ]
  },
  {
   "attachments": {},
   "cell_type": "markdown",
   "metadata": {},
   "source": [
    "### ELN2022 and WHO2021"
   ]
  },
  {
   "cell_type": "code",
   "execution_count": 18,
   "metadata": {},
   "outputs": [
    {
     "data": {
      "text/plain": [
       "WHO ALL 2021 Diagnosis\n",
       "T-ALL NOS                   143\n",
       "Otherwise-Normal Control     12\n",
       "Name: count, dtype: int64"
      ]
     },
     "execution_count": 18,
     "metadata": {},
     "output_type": "execute_result"
    }
   ],
   "source": [
    "def classify_all_graal(diagnosis):\n",
    "    mapping = {\n",
    "    'Otherwise-Normal Control':'Otherwise-Normal Control',\n",
    "    'T-ALL':'T-ALL NOS'}\n",
    "    for key, value in mapping.items():\n",
    "        if key in diagnosis:\n",
    "            return value\n",
    "        \n",
    "labels_all_graal['WHO ALL 2021 Diagnosis'] = labels_all_graal['Diagnosis'].astype(str).apply(classify_all_graal)\n",
    "\n",
    "labels_all_graal['WHO ALL 2021 Diagnosis'].value_counts(dropna=False)\n"
   ]
  },
  {
   "attachments": {},
   "cell_type": "markdown",
   "metadata": {},
   "source": [
    "## Merge clinical data"
   ]
  },
  {
   "cell_type": "code",
   "execution_count": 19,
   "metadata": {},
   "outputs": [],
   "source": [
    "\n",
    "# Combine all clinical data labels into one dataframe\n",
    "labels_combined = pd.concat([labels_aml05, labels_beataml,\n",
    "                        labels_0531, labels_amltcga, labels_1031,\n",
    "                        labels_nordic_all, labels_mds_taml,\n",
    "                        labels_all_graal,labels_target_all], axis=0, join='outer')\n",
    "\n",
    "# Read df\n",
    "df = pd.read_pickle(output_path + 'df_batch_corrected.pkl')\n",
    "\n",
    "# Remove samples that are not in the methyl dataset\n",
    "df_labels = labels_combined.loc[labels_combined.index.isin(df.index)].sort_index()"
   ]
  },
  {
   "attachments": {},
   "cell_type": "markdown",
   "metadata": {},
   "source": [
    "## Create new columns"
   ]
  },
  {
   "cell_type": "code",
   "execution_count": 20,
   "metadata": {},
   "outputs": [
    {
     "data": {
      "text/plain": [
       "1342"
      ]
     },
     "execution_count": 20,
     "metadata": {},
     "output_type": "execute_result"
    }
   ],
   "source": [
    "df_labels['Age (years)'].isna().sum()"
   ]
  },
  {
   "cell_type": "code",
   "execution_count": 24,
   "metadata": {},
   "outputs": [
    {
     "data": {
      "text/plain": [
       "WHO 2021 Diagnosis\n",
       "Acute myeloid leukemia (AML)                  1107\n",
       "Acute lymphoblastic leukemia (ALL)             905\n",
       "NaN                                            802\n",
       "Otherwise-Normal (Control)                     267\n",
       "Myelodysplastic syndrome (MDS or MDS-like)     167\n",
       "Mixed phenotype acute leukemia (MPAL)           51\n",
       "Acute promyelocytic leukemia (APL)              31\n",
       "Name: count, dtype: int64"
      ]
     },
     "execution_count": 24,
     "metadata": {},
     "output_type": "execute_result"
    }
   ],
   "source": [
    "def categorize_age(age):\n",
    "    if pd.isnull(age):\n",
    "        return np.nan\n",
    "    elif age < 5:\n",
    "        return '0-5'\n",
    "    elif age < 13:\n",
    "        return '5-13'\n",
    "    elif age < 39:\n",
    "        return '13-39'\n",
    "    elif age < 60:\n",
    "        return '39-60'\n",
    "    else:\n",
    "        return '60+'\n",
    "\n",
    "# Convert 'Age (years)' to numeric, errors='coerce' will turn non-numeric data to NaN\n",
    "df_labels['Age (years)'] = pd.to_numeric(df_labels['Age (years)'], errors='coerce')\n",
    "\n",
    "# Then apply your function\n",
    "df_labels['Age (group years)'] = df_labels['Age (years)'].apply(categorize_age)\n",
    "\n",
    "\n",
    "\n",
    "def classify_main_disease(subtype):\n",
    "    mapping = {\n",
    "    'AML':                              'Acute myeloid leukemia (AML)',\n",
    "    'ALL':                              'Acute lymphoblastic leukemia (ALL)',\n",
    "    'MDS':                              'Myelodysplastic syndrome (MDS or MDS-like)',\n",
    "    'Mixed phenotype acute leukemia':  'Mixed phenotype acute leukemia (MPAL)',\n",
    "    'APL':                              'Acute promyelocytic leukemia (APL)',\n",
    "    'Otherwise-Normal Control':         'Otherwise-Normal (Control)'}\n",
    "\n",
    "    for key, value in mapping.items():\n",
    "        if key in subtype:\n",
    "            return value\n",
    "        \n",
    "\n",
    "def process_labels(df):\n",
    "    df['WHO_AML'] = df['WHO AML 2021 Diagnosis'].astype(str).apply(classify_main_disease)\n",
    "    df[\"WHO_ALL\"] = (df[\"WHO ALL 2021 Diagnosis\"].astype(str).apply(classify_main_disease))\n",
    "\n",
    "    df['WHO 2021 Diagnosis'] = df[['WHO_AML','WHO_ALL']]\\\n",
    "        .apply(lambda x: ','.join(filter(lambda i: i is not None and i==i, x)), axis=1)\n",
    "        # Replace empty strings with NaN\n",
    "    df['WHO 2021 Diagnosis'] = df['WHO 2021 Diagnosis'].replace('', np.nan)\n",
    "\n",
    "    # Create `WHO 2021 Diagnosis` column by splitting `Combined Diagnosis` by comma and taking the first element\n",
    "    # df['WHO ALL 2021 Diagnosis'] = df['WHO 2021 Diagnosis'].str.split(',').str[0]\n",
    "\n",
    "    # Drop columns created except for `WHO Final Diagnosis` and `Combined Diagnosis` columns\n",
    "    df = df.drop(['WHO_AML','WHO_ALL'], axis=1)\n",
    "        \n",
    "    return df\n",
    "\n",
    "# Process labels\n",
    "df_labels = process_labels(df_labels)\n",
    "\n",
    "\n",
    "df_labels['WHO 2021 Diagnosis'].value_counts(dropna=False)"
   ]
  },
  {
   "cell_type": "code",
   "execution_count": 25,
   "metadata": {},
   "outputs": [
    {
     "data": {
      "text/plain": [
       "Age (group years)\n",
       "NaN      1342\n",
       "13-39     658\n",
       "5-13      482\n",
       "0-5       480\n",
       "60+       203\n",
       "39-60     165\n",
       "Name: count, dtype: int64"
      ]
     },
     "execution_count": 25,
     "metadata": {},
     "output_type": "execute_result"
    }
   ],
   "source": [
    "df_labels['Age (group years)'].value_counts(dropna=False)"
   ]
  },
  {
   "attachments": {},
   "cell_type": "markdown",
   "metadata": {},
   "source": [
    "## Save Data"
   ]
  },
  {
   "cell_type": "code",
   "execution_count": 26,
   "metadata": {},
   "outputs": [
    {
     "name": "stdout",
     "output_type": "stream",
     "text": [
      "The clinical data has been indexed and cleaned.\n",
      "Exclusion of samples may be applied later depending on the analysis.\n"
     ]
    }
   ],
   "source": [
    "\n",
    "# Save the clinical data labels\n",
    "df_labels.to_csv(output_path + 'clinical_data.csv')\n",
    "\n",
    "print('The clinical data has been indexed and cleaned.\\n\\\n",
    "Exclusion of samples may be applied later depending on the analysis.')"
   ]
  }
 ],
 "metadata": {
  "kernelspec": {
   "display_name": ".venv_py38",
   "language": "python",
   "name": "python3"
  },
  "language_info": {
   "codemirror_mode": {
    "name": "ipython",
    "version": 3
   },
   "file_extension": ".py",
   "mimetype": "text/x-python",
   "name": "python",
   "nbconvert_exporter": "python",
   "pygments_lexer": "ipython3",
   "version": "3.8.16"
  },
  "orig_nbformat": 4
 },
 "nbformat": 4,
 "nbformat_minor": 2
}
