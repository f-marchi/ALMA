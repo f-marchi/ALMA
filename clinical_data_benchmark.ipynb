{
 "cells": [
  {
   "cell_type": "code",
   "execution_count": 1,
   "metadata": {},
   "outputs": [
    {
     "name": "stdout",
     "output_type": "stream",
     "text": [
      "The clinical data has been indexed and cleaned.\n",
      "Exclusion of samples may be applied depending on the analysis.\n"
     ]
    }
   ],
   "source": [
    "output_path = '../Data/Intermediate_Files/'\n",
    "\n",
    "# Import functions to clean up clinical data\n",
    "from FM_Functions.Clinical_Data_CleanUp import *\n",
    "\n",
    "# Call functions to merge, index and clean clinical data files\n",
    "labels_0531         = clean_cog       (merge_index_0531())\n",
    "labels_1031         = clean_cog       (merge_index_1031())\n",
    "labels_aml05        = clean_aml05     (merge_index_aml05())\n",
    "labels_beataml      = clean_beataml   (merge_index_beataml())\n",
    "labels_amltcga      = clean_amltcga   (merge_index_amltcga())\n",
    "labels_nordic_all   = clean_nordic_all(merge_index_nordic_all())\n",
    "labels_mds_taml     = clean_mds_taml  (merge_index_mds_taml())\n",
    "labels_all_graal    = clean_all_graal (merge_index_all_graal())\n",
    "labels_target_all   = clean_target_all(merge_index_target_all())\n",
    "\n",
    "# Combine all clinical data labels into one dataframe\n",
    "labels_combined = pd.concat([labels_aml05, labels_beataml,\n",
    "                        labels_0531, labels_amltcga, labels_1031,\n",
    "                        labels_nordic_all, labels_mds_taml,\n",
    "                        labels_all_graal,labels_target_all], axis=0, join='outer')\n",
    "\n",
    "# Read df\n",
    "df = pd.read_pickle(output_path + 'df_batch_corrected.pkl')\n",
    "\n",
    "# Remove samples that are not in the methyl dataset\n",
    "df_labels = labels_combined.loc[labels_combined.index.isin(df.index)].sort_index()\n",
    "\n",
    "# Save the clinical data labels\n",
    "df_labels.to_csv(output_path + 'clinical_data.csv')\n",
    "\n",
    "print('The clinical data has been indexed and cleaned.\\n\\\n",
    "Exclusion of samples may be applied depending on the analysis.')"
   ]
  },
  {
   "cell_type": "code",
   "execution_count": 5,
   "metadata": {},
   "outputs": [
    {
     "data": {
      "text/plain": [
       "ELN22 Final Diagnosis\n",
       "Otherwise-Normal Control                                                  181\n",
       "NaN                                                                       137\n",
       "AML with t(9;11)(p22;q23.3)/KMT2A-rearrangement                           120\n",
       "AML with other rare recurring translocations                              105\n",
       "AML with t(8;21)(q22;q22.1)/RUNX1::RUNX1T1                                 92\n",
       "AML with inv(16)(p13.1q22) or t(16;16)(p13.1;q22)/CBFB::MYH11              90\n",
       "AML with mutated NPM1                                                      41\n",
       "AML with in-frame bZIP mutated CEBPA                                       31\n",
       "AML with t(6;9)(p23;q34.1)/DEK::NUP214                                     17\n",
       "AML with inv(3)(q21.3q26.2) or t(3;3)(q21.3;q26.2)/MECOM-rearrangement      2\n",
       "APL with t(15;17)(q24.1;q21.2)/PML::RARA                                    1\n",
       "Name: count, dtype: int64"
      ]
     },
     "execution_count": 5,
     "metadata": {},
     "output_type": "execute_result"
    }
   ],
   "source": [
    "def classify_controls(normal_samples):\n",
    "    mapping = {\n",
    "        'Bone Marrow Normal': 'Otherwise-Normal Control',\n",
    "        'Blood Derived Normal': 'Otherwise-Normal Control'}\n",
    "    \n",
    "    for key, value in mapping.items():\n",
    "        if key in normal_samples:\n",
    "            return value\n",
    "\n",
    "\n",
    "def classify_fusion(gene_fusion):\n",
    "    mapping = {\n",
    "    'RUNX1-RUNX1T1': 'AML with t(8;21)(q22;q22.1)/RUNX1::RUNX1T1',\n",
    "    'CBFB-MYH11':    'AML with inv(16)(p13.1q22) or t(16;16)(p13.1;q22)/CBFB::MYH11',\n",
    "    'KMT2A':         'AML with t(9;11)(p22;q23.3)/KMT2A-rearrangement',\n",
    "    'add(11)(q23)':  'AML with t(9;11)(p22;q23.3)/KMT2A-rearrangement',\n",
    "    'PML-RARA':      'APL with t(15;17)(q24.1;q21.2)/PML::RARA',\n",
    "    'DEK-NUP214':    'AML with t(6;9)(p23;q34.1)/DEK::NUP214',\n",
    "    'MECOM':         'AML with inv(3)(q21.3q26.2) or t(3;3)(q21.3;q26.2)/MECOM-rearrangement',\n",
    "    'PRDM16-RPN1':   'AML with other rare recurring translocations',\n",
    "    'RBM15-MRTFA':   'AML with other rare recurring translocations',\n",
    "    'RBM15-MKL1':    'AML with other rare recurring translocations',\n",
    "    'NPM1-MLF1':     'AML with other rare recurring translocations',\n",
    "    'NUP98-NSD1':    'AML with other rare recurring translocations',\n",
    "    'ETV6':          'AML with other rare recurring translocations',\n",
    "    'KAT6A-CREBBP':  'AML with other rare recurring translocations',\n",
    "    'MLLT10':        'AML with other rare recurring translocations',\n",
    "    'PICALM':        'AML with other rare recurring translocations',\n",
    "    'NUP98':         'AML with other rare recurring translocations',\n",
    "    'PICALM-MLLT10': 'AML with other rare recurring translocations',\n",
    "    'FUS-ERG':       'AML with other rare recurring translocations',\n",
    "    'RUNX1-CBFA2T3': 'AML with other rare recurring translocations',\n",
    "    'CBFA2T3-GLIS2': 'AML with other rare recurring translocations',\n",
    "    'CBFA2T3-GLIS3': 'AML with other rare recurring translocations',\n",
    "    'PSIP1-NUP214':  'AML with other rare recurring translocations',\n",
    "    'XPO1-TNRC18':   'AML with other rare recurring translocations', \n",
    "    'HNRNPH1-ERG':   'AML with other rare recurring translocations',\n",
    "    'NIPBL-HOXB9':   'AML with other rare recurring translocations', \n",
    "    'SET-NUP214':    'AML with other rare recurring translocations', \n",
    "    'FLI1-IFIT2':    'AML with other rare recurring translocations', \n",
    "    'TCF4-ZEB2':     'AML with other rare recurring translocations',\n",
    "    'MBTD1-ZMYND11': 'AML with other rare recurring translocations', \n",
    "    'FOSB-KLF6':     'AML with other rare recurring translocations', \n",
    "    'SFPQ-ZFP36L2':  'AML with other rare recurring translocations', \n",
    "    'RUNX1-LINC00478':'AML with other rare recurring translocations',\n",
    "    'RUNX1-EVX1':     'AML with other rare recurring translocations', \n",
    "    'NPM1-RARA':      'AML with other rare recurring translocations', \n",
    "    'PSPC1-ZFP36L1':  'AML with other rare recurring translocations', \n",
    "    'EWSR1-FEV':      'AML with other rare recurring translocations',\n",
    "    'STAG2-AFF2(deletion)': 'AML with other rare recurring translocations', \n",
    "    'MYB-GATA1':            'AML with other rare recurring translocations', \n",
    "    'CBFA2T3-GLIS3':        'AML with other rare recurring translocations',\n",
    "    'RUNX1-ZFPM2':          'AML with other rare recurring translocations', \n",
    "    'NPM1-CCDC28A':         'AML with other rare recurring translocations',\n",
    "    'RUNX1-CBFA2T2':        'AML with other rare recurring translocations',\n",
    "    'PIM3-BRD1':            'AML with other rare recurring translocations',\n",
    "    'KAT6A-EP300':          'AML with other rare recurring translocations',\n",
    "    'DOT1L-RPS15':          'AML with other rare recurring translocations',\n",
    "    'FUS-FEV':              'AML with other rare recurring translocations',\n",
    "    'KAT6A-NCOA2':          'AML with other rare recurring translocations',\n",
    "    'other MLL':            'AML with other rare recurring translocations',\n",
    "    'JARID2-PTP4A1':        'AML with other rare recurring translocations',\n",
    "    'FUS-FLI1':             'AML with other rare recurring translocations',        \n",
    "    'BCR-ABL1':             'AML with t(9;22)(q34.1;q11.2)/BCR::ABL1'\n",
    "    }\n",
    "    \n",
    "    for key, value in mapping.items():\n",
    "        if key in gene_fusion:\n",
    "            return value\n",
    "\n",
    "def classify_cebpa(cebpa_mutation):\n",
    "    mapping = {\n",
    "        'Yes': 'AML with in-frame bZIP mutated CEBPA'}\n",
    "    \n",
    "    for key, value in mapping.items():\n",
    "        if key in cebpa_mutation:\n",
    "            return value\n",
    "\n",
    "def classify_npm(npm_mutation):\n",
    "    mapping = {\n",
    "        'Yes': 'AML with mutated NPM1',\n",
    "    }\n",
    "\n",
    "    for key, value in mapping.items():\n",
    "        if key in npm_mutation:\n",
    "            return value\n",
    "        \n",
    "def classify_annotated_diagnosis(diagnosis):\n",
    "    mapping = {\n",
    "        'mutated NPM1': 'AML with mutated NPM1',\n",
    "        'mutated CEBPA': 'AML with in-frame bZIP mutated CEBPA',\n",
    "        'myelodysplasia-related changes': 'AML with myelodysplasia-related changes'\n",
    "        }\n",
    "    \n",
    "    for key, value in mapping.items():\n",
    "        if key in diagnosis:\n",
    "            return value\n",
    "\n",
    "labels_0531['ELN22_Controls'] = labels_0531['Sample Type'].astype(str).apply(classify_controls)\n",
    "labels_0531['ELN22_Gene Fusion'] = labels_0531['Gene Fusion'].astype(str).apply(classify_fusion)\n",
    "labels_0531['ELN22_CEBPA'] = labels_0531['CEBPA mutation'].astype(str).apply(classify_cebpa)\n",
    "labels_0531['ELN22_NPM1'] = labels_0531['NPM mutation'].astype(str).apply(classify_npm)\n",
    "labels_0531['ELN22_Comment'] = labels_0531['Comment'].astype(str).apply(classify_annotated_diagnosis)\n",
    "\n",
    "\n",
    "labels_0531['Combined Diagnosis'] = labels_0531[['ELN22_Controls','ELN22_Gene Fusion', 'ELN22_CEBPA', 'ELN22_NPM1', 'ELN22_Comment']]\\\n",
    "    .apply(lambda x: ','.join(filter(lambda i: i is not None and i==i, x)), axis=1)\n",
    "\n",
    "# Replace empty strings with NaN\n",
    "labels_0531['Combined Diagnosis'] = labels_0531['Combined Diagnosis'].replace('', np.nan)\n",
    "\n",
    "# Create `ELN22 Final Diagnosis` column by splitting `Combined Diagnosis` by comma and taking the first element\n",
    "labels_0531['ELN22 Final Diagnosis'] = labels_0531['Combined Diagnosis'].str.split(',').str[0]\n",
    "\n",
    "labels_0531['ELN22 Final Diagnosis'].value_counts(dropna=False)\n"
   ]
  },
  {
   "cell_type": "code",
   "execution_count": 3,
   "metadata": {},
   "outputs": [
    {
     "data": {
      "text/plain": [
       "Combined Diagnosis\n",
       "NaN                                                                                                137\n",
       "AML with t(9;11)(p22;q23.3)/KMT2A-rearrangement                                                    117\n",
       "AML with other rare recurring translocations                                                        99\n",
       "Otherwise-Normal Control                                                                            94\n",
       "AML with t(8;21)(q22;q22.1)/RUNX1::RUNX1T1                                                          91\n",
       "AML with inv(16)(p13.1q22) or t(16;16)(p13.1;q22)/CBFB::MYH11                                       89\n",
       "AML with mutated NPM1                                                                               41\n",
       "Otherwise-Normal Control,AML with other rare recurring translocations                               38\n",
       "AML with in-frame bZIP mutated CEBPA                                                                31\n",
       "Otherwise-Normal Control,AML with t(9;11)(p22;q23.3)/KMT2A-rearrangement                            20\n",
       "AML with t(6;9)(p23;q34.1)/DEK::NUP214                                                              17\n",
       "Otherwise-Normal Control,AML with inv(16)(p13.1q22) or t(16;16)(p13.1;q22)/CBFB::MYH11               9\n",
       "Otherwise-Normal Control,AML with t(8;21)(q22;q22.1)/RUNX1::RUNX1T1                                  7\n",
       "Otherwise-Normal Control,AML with in-frame bZIP mutated CEBPA                                        5\n",
       "Otherwise-Normal Control,AML with mutated NPM1                                                       4\n",
       "AML with other rare recurring translocations,AML with mutated NPM1                                   4\n",
       "AML with t(9;11)(p22;q23.3)/KMT2A-rearrangement,AML with mutated NPM1                                3\n",
       "Otherwise-Normal Control,AML with t(6;9)(p23;q34.1)/DEK::NUP214                                      2\n",
       "AML with other rare recurring translocations,AML with in-frame bZIP mutated CEBPA                    2\n",
       "AML with inv(3)(q21.3q26.2) or t(3;3)(q21.3;q26.2)/MECOM-rearrangement                               2\n",
       "Otherwise-Normal Control,AML with inv(3)(q21.3q26.2) or t(3;3)(q21.3;q26.2)/MECOM-rearrangement      2\n",
       "APL with t(15;17)(q24.1;q21.2)/PML::RARA                                                             1\n",
       "AML with inv(16)(p13.1q22) or t(16;16)(p13.1;q22)/CBFB::MYH11,AML with mutated NPM1                  1\n",
       "AML with t(8;21)(q22;q22.1)/RUNX1::RUNX1T1,AML with mutated NPM1                                     1\n",
       "Name: count, dtype: int64"
      ]
     },
     "execution_count": 3,
     "metadata": {},
     "output_type": "execute_result"
    }
   ],
   "source": [
    "labels_0531['Combined Diagnosis'].value_counts(dropna=False)"
   ]
  },
  {
   "cell_type": "code",
   "execution_count": 6,
   "metadata": {},
   "outputs": [
    {
     "data": {
      "text/plain": [
       "(817, 93)"
      ]
     },
     "execution_count": 6,
     "metadata": {},
     "output_type": "execute_result"
    }
   ],
   "source": [
    "labels_0531.shape"
   ]
  },
  {
   "cell_type": "code",
   "execution_count": 27,
   "metadata": {},
   "outputs": [
    {
     "data": {
      "text/plain": [
       "Sample Type\n",
       "Diagnosis                                            459\n",
       "Bone Marrow Normal                                   147\n",
       "Primary Blood Derived Cancer - Bone Marrow            91\n",
       "Recurrent Blood Derived Cancer - Bone Marrow          58\n",
       "Fibroblasts from Bone Marrow Normal                   27\n",
       "Primary Blood Derived Cancer - Peripheral Blood       22\n",
       "Blood Derived Normal                                   7\n",
       "Recurrent Blood Derived Cancer - Peripheral Blood      6\n",
       "Name: count, dtype: int64"
      ]
     },
     "execution_count": 27,
     "metadata": {},
     "output_type": "execute_result"
    }
   ],
   "source": [
    "labels_0531['Sample Type'].value_counts(dropna=False)"
   ]
  },
  {
   "cell_type": "code",
   "execution_count": 19,
   "metadata": {},
   "outputs": [
    {
     "ename": "KeyError",
     "evalue": "'ELN22 Final Diagnosis'",
     "output_type": "error",
     "traceback": [
      "\u001b[0;31m---------------------------------------------------------------------------\u001b[0m",
      "\u001b[0;31mKeyError\u001b[0m                                  Traceback (most recent call last)",
      "File \u001b[0;32m~/projects/MethylScore/Code/.venv_py38/lib/python3.8/site-packages/pandas/core/indexes/base.py:3652\u001b[0m, in \u001b[0;36mIndex.get_loc\u001b[0;34m(self, key)\u001b[0m\n\u001b[1;32m   3651\u001b[0m \u001b[39mtry\u001b[39;00m:\n\u001b[0;32m-> 3652\u001b[0m     \u001b[39mreturn\u001b[39;00m \u001b[39mself\u001b[39;49m\u001b[39m.\u001b[39;49m_engine\u001b[39m.\u001b[39;49mget_loc(casted_key)\n\u001b[1;32m   3653\u001b[0m \u001b[39mexcept\u001b[39;00m \u001b[39mKeyError\u001b[39;00m \u001b[39mas\u001b[39;00m err:\n",
      "File \u001b[0;32m~/projects/MethylScore/Code/.venv_py38/lib/python3.8/site-packages/pandas/_libs/index.pyx:147\u001b[0m, in \u001b[0;36mpandas._libs.index.IndexEngine.get_loc\u001b[0;34m()\u001b[0m\n",
      "File \u001b[0;32m~/projects/MethylScore/Code/.venv_py38/lib/python3.8/site-packages/pandas/_libs/index.pyx:176\u001b[0m, in \u001b[0;36mpandas._libs.index.IndexEngine.get_loc\u001b[0;34m()\u001b[0m\n",
      "File \u001b[0;32mpandas/_libs/hashtable_class_helper.pxi:7080\u001b[0m, in \u001b[0;36mpandas._libs.hashtable.PyObjectHashTable.get_item\u001b[0;34m()\u001b[0m\n",
      "File \u001b[0;32mpandas/_libs/hashtable_class_helper.pxi:7088\u001b[0m, in \u001b[0;36mpandas._libs.hashtable.PyObjectHashTable.get_item\u001b[0;34m()\u001b[0m\n",
      "\u001b[0;31mKeyError\u001b[0m: 'ELN22 Final Diagnosis'",
      "\nThe above exception was the direct cause of the following exception:\n",
      "\u001b[0;31mKeyError\u001b[0m                                  Traceback (most recent call last)",
      "Cell \u001b[0;32mIn[19], line 1\u001b[0m\n\u001b[0;32m----> 1\u001b[0m labels_1031[labels_1031[\u001b[39m'\u001b[39;49m\u001b[39mELN22 Final Diagnosis\u001b[39;49m\u001b[39m'\u001b[39;49m]\u001b[39m.\u001b[39misnull()][\u001b[39m'\u001b[39m\u001b[39mSample Type\u001b[39m\u001b[39m'\u001b[39m]\u001b[39m.\u001b[39mvalue_counts(dropna\u001b[39m=\u001b[39m\u001b[39mFalse\u001b[39;00m)\n",
      "File \u001b[0;32m~/projects/MethylScore/Code/.venv_py38/lib/python3.8/site-packages/pandas/core/frame.py:3761\u001b[0m, in \u001b[0;36mDataFrame.__getitem__\u001b[0;34m(self, key)\u001b[0m\n\u001b[1;32m   3759\u001b[0m \u001b[39mif\u001b[39;00m \u001b[39mself\u001b[39m\u001b[39m.\u001b[39mcolumns\u001b[39m.\u001b[39mnlevels \u001b[39m>\u001b[39m \u001b[39m1\u001b[39m:\n\u001b[1;32m   3760\u001b[0m     \u001b[39mreturn\u001b[39;00m \u001b[39mself\u001b[39m\u001b[39m.\u001b[39m_getitem_multilevel(key)\n\u001b[0;32m-> 3761\u001b[0m indexer \u001b[39m=\u001b[39m \u001b[39mself\u001b[39;49m\u001b[39m.\u001b[39;49mcolumns\u001b[39m.\u001b[39;49mget_loc(key)\n\u001b[1;32m   3762\u001b[0m \u001b[39mif\u001b[39;00m is_integer(indexer):\n\u001b[1;32m   3763\u001b[0m     indexer \u001b[39m=\u001b[39m [indexer]\n",
      "File \u001b[0;32m~/projects/MethylScore/Code/.venv_py38/lib/python3.8/site-packages/pandas/core/indexes/base.py:3654\u001b[0m, in \u001b[0;36mIndex.get_loc\u001b[0;34m(self, key)\u001b[0m\n\u001b[1;32m   3652\u001b[0m     \u001b[39mreturn\u001b[39;00m \u001b[39mself\u001b[39m\u001b[39m.\u001b[39m_engine\u001b[39m.\u001b[39mget_loc(casted_key)\n\u001b[1;32m   3653\u001b[0m \u001b[39mexcept\u001b[39;00m \u001b[39mKeyError\u001b[39;00m \u001b[39mas\u001b[39;00m err:\n\u001b[0;32m-> 3654\u001b[0m     \u001b[39mraise\u001b[39;00m \u001b[39mKeyError\u001b[39;00m(key) \u001b[39mfrom\u001b[39;00m \u001b[39merr\u001b[39;00m\n\u001b[1;32m   3655\u001b[0m \u001b[39mexcept\u001b[39;00m \u001b[39mTypeError\u001b[39;00m:\n\u001b[1;32m   3656\u001b[0m     \u001b[39m# If we have a listlike key, _check_indexing_error will raise\u001b[39;00m\n\u001b[1;32m   3657\u001b[0m     \u001b[39m#  InvalidIndexError. Otherwise we fall through and re-raise\u001b[39;00m\n\u001b[1;32m   3658\u001b[0m     \u001b[39m#  the TypeError.\u001b[39;00m\n\u001b[1;32m   3659\u001b[0m     \u001b[39mself\u001b[39m\u001b[39m.\u001b[39m_check_indexing_error(key)\n",
      "\u001b[0;31mKeyError\u001b[0m: 'ELN22 Final Diagnosis'"
     ]
    }
   ],
   "source": [
    "labels_1031[labels_1031['ELN22 Final Diagnosis'].isnull()]['Sample Type'].value_counts(dropna=False)"
   ]
  },
  {
   "cell_type": "code",
   "execution_count": 18,
   "metadata": {},
   "outputs": [
    {
     "data": {
      "text/plain": [
       "Sample Type\n",
       "Diagnosis                                            83\n",
       "Bone Marrow Normal                                   78\n",
       "Primary Blood Derived Cancer - Bone Marrow           34\n",
       "Fibroblasts from Bone Marrow Normal                  15\n",
       "Recurrent Blood Derived Cancer - Bone Marrow         13\n",
       "Primary Blood Derived Cancer - Peripheral Blood       5\n",
       "Recurrent Blood Derived Cancer - Peripheral Blood     2\n",
       "Blood Derived Normal                                  1\n",
       "Name: count, dtype: int64"
      ]
     },
     "execution_count": 18,
     "metadata": {},
     "output_type": "execute_result"
    }
   ],
   "source": [
    "labels_0531[labels_0531['ELN22 Final Diagnosis'].isnull()]['Sample Type'].value_counts(dropna=False)"
   ]
  },
  {
   "cell_type": "code",
   "execution_count": 15,
   "metadata": {},
   "outputs": [],
   "source": [
    "labels_0531.to_csv(output_path + 'temp.csv')"
   ]
  }
 ],
 "metadata": {
  "kernelspec": {
   "display_name": ".venv_py38",
   "language": "python",
   "name": "python3"
  },
  "language_info": {
   "codemirror_mode": {
    "name": "ipython",
    "version": 3
   },
   "file_extension": ".py",
   "mimetype": "text/x-python",
   "name": "python",
   "nbconvert_exporter": "python",
   "pygments_lexer": "ipython3",
   "version": "3.8.16"
  },
  "orig_nbformat": 4
 },
 "nbformat": 4,
 "nbformat_minor": 2
}
