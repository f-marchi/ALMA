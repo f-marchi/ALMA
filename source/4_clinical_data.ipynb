{
 "cells": [
  {
   "attachments": {},
   "cell_type": "markdown",
   "metadata": {},
   "source": [
    "# Clinical Data"
   ]
  },
  {
   "cell_type": "markdown",
   "metadata": {},
   "source": [
    "## Load, index, merge, and clean discovery clinical data"
   ]
  },
  {
   "cell_type": "code",
   "execution_count": 34,
   "metadata": {
    "tags": [
     "hide-input"
    ]
   },
   "outputs": [
    {
     "name": "stdout",
     "output_type": "stream",
     "text": [
      "The clinical data has been indexed and cleaned.\n"
     ]
    }
   ],
   "source": [
    "# Import functions to clean up clinical data\n",
    "import sys\n",
    "sys.path.append('../')\n",
    "from utils.clinical_data_cleanup import *\n",
    "\n",
    "# Call functions to merge, index and clean clinical data files\n",
    "labels_0531         = clean_cog       (merge_index_0531())\n",
    "labels_1031         = clean_cog       (merge_index_1031())\n",
    "labels_aml05        = clean_aml05     (merge_index_aml05())\n",
    "labels_beataml      = clean_beataml   (merge_index_beataml())\n",
    "labels_amltcga      = clean_amltcga   (merge_index_amltcga())\n",
    "labels_nordic_all   = clean_nordic_all(merge_index_nordic_all())\n",
    "labels_mds_taml     = clean_mds_taml  (merge_index_mds_taml())\n",
    "labels_all_graal    = clean_all_graal (merge_index_all_graal())\n",
    "labels_target_all   = clean_target_all(merge_index_target_all())\n",
    "\n",
    "# Combine all clinical data labels into one dataframe\n",
    "labels_combined = pd.concat([labels_aml05, labels_beataml,\n",
    "                        labels_0531, labels_amltcga, labels_1031,\n",
    "                        labels_nordic_all, labels_mds_taml,\n",
    "                        labels_all_graal,labels_target_all],\n",
    "                        axis=0, join='outer')\n",
    "\n",
    "# Redefine output path (for troubleshooting purposes in case only this cell is run)\n",
    "mount = '/mnt/e/ALMA/'\n",
    "output_path = mount + '/Intermediate_Files/'\n",
    "\n",
    "# Read df\n",
    "df = pd.read_pickle(output_path + '3314samples_331557cpgs_withbatchcorrection_bvalues.pkl')\n",
    "\n",
    "# Add columns for later analyses\n",
    "labels_combined['Train-Test'] = 'Train Sample'\n",
    "labels_combined['Batch'] = df['Batch']\n",
    "\n",
    "# Remove samples that are not in the methyl dataset\n",
    "df_labels = labels_combined.loc[labels_combined.index.isin(df.index)].sort_index()\n",
    "\n",
    "print('The clinical data has been indexed and cleaned.')"
   ]
  },
  {
   "cell_type": "markdown",
   "metadata": {},
   "source": [
    "## Reclassification strategy: Dx WHO 2022"
   ]
  },
  {
   "cell_type": "markdown",
   "metadata": {},
   "source": [
    "`````{admonition} Source\n",
    ":class: tip\n",
    "Hasle H, Meshinchi S, Fogelstrand L, Alaggio R, et al. Acute myeloid leukaemias (AMLs) with defining genetic abnormalities. In: WHO Classification of Tumours Editorial Board. Paediatric tumours [Internet]. Lyon (France): International Agency for Research on Cancer; 2022 [cited 2024 Jan 1]. (WHO classification of tumours series, 5th ed.; vol. 7). Available from: https://tumourclassification.iarc.who.int/chapters/44.\n",
    "\n",
    "Pfister, Stefan M et al. “A Summary of the Inaugural WHO Classification of Pediatric Tumors: Transitioning from the Optical into the Molecular Era.” Cancer discovery vol. 12,2 (2022): 331-355. doi:10.1158/2159-8290.CD-21-1094\n",
    "`````"
   ]
  },
  {
   "cell_type": "code",
   "execution_count": 35,
   "metadata": {
    "tags": [
     "hide-input",
     "full-width"
    ]
   },
   "outputs": [
    {
     "data": {
      "text/html": [
       "<style>.itables table td {\n",
       "    text-overflow: ellipsis;\n",
       "    overflow: hidden;\n",
       "}\n",
       "\n",
       ".itables table th {\n",
       "    text-overflow: ellipsis;\n",
       "    overflow: hidden;\n",
       "}\n",
       "\n",
       ".itables thead input {\n",
       "    width: 100%;\n",
       "    padding: 3px;\n",
       "    box-sizing: border-box;\n",
       "}\n",
       "\n",
       ".itables tfoot input {\n",
       "    width: 100%;\n",
       "    padding: 3px;\n",
       "    box-sizing: border-box;\n",
       "}\n",
       "</style>\n",
       "<div class=\"itables\">\n",
       "<table id=\"a926a8de-e84e-4624-b029-e0307723d1a7\" class=\"display nowrap\"style=\"table-layout:auto;width:auto;margin:auto;caption-side:bottom\"><thead>\n",
       "    <tr style=\"text-align: right;\">\n",
       "      \n",
       "      <th>Subtype</th>\n",
       "      <th>Frequency in paediatric AML</th>\n",
       "      <th>Morphology</th>\n",
       "      <th>Immunophenotype</th>\n",
       "      <th>Common co-occurring genetic aberrations</th>\n",
       "      <th>Prognosis</th>\n",
       "    </tr>\n",
       "  </thead><tbody><tr><td>Loading... (need <a href=https://mwouts.github.io/itables/troubleshooting.html>help</a>?)</td></tr></tbody></table>\n",
       "<link rel=\"stylesheet\" type=\"text/css\" href=\"https://cdn.datatables.net/1.13.1/css/jquery.dataTables.min.css\">\n",
       "<script type=\"module\">\n",
       "    // Import jquery and DataTable\n",
       "    import 'https://code.jquery.com/jquery-3.6.0.min.js';\n",
       "    import dt from 'https://cdn.datatables.net/1.12.1/js/jquery.dataTables.mjs';\n",
       "    dt($);\n",
       "\n",
       "    // Define the table data\n",
       "    const data = [[\"AML with RUNX1::RUNXT1 fusion\", \"13\\u201319% of cases\", \"Neutrophilic maturation, Auer rods; often increased basophils and/or mast cells\", \"Positive: CD34, HLA-DR, KIT (CD117), CD99, myeloperoxidase\\\\nUsually positive but can be heterogeneous: CD13, CD33 and CD38, CD19, PAX5, cytoplasmic CD79a, CD56\\\\nNegative: CD7\", \"Mutations in KIT, FLT3, CSF3R, EZH2, ASXL1, ASXL2, CBL, WT1, cohesion genes (SMC1A, SMC3, RAD21), NRAS, KRAS\", \"Good\"], [\"AML with CBFB::MYH11 fusion\", \"7\\u201312% of cases\", \"Myelomonocytic; often increased eosinophils at all maturation stages\", \"Often multiple blast populations with signs of differentiation towards both granulocytic and monocytic lineages; may express CD2 and/or NG2 in a small subpopulation of cells\", \"Mutations in KIT, KRAS, NRAS, CBL, FLT3, WT1\", \"Good\"], [\"APL with PML::RARA fusion\", \"5\\u201310% of cases but wide geographical variation (2\\u201350%)\", \"Exclusively FAB M3; may be hypogranular\", \"Positive: CD33, often KIT (CD117), sometimes CD2\\\\nNegative: CD34 (except hypogranular variant), HLA-DR\\\\nOften high autofluorescence\", \"Mutations in FLT3\", \"Good (but treated differently)\"], [\"AML with KMT2A rearrangement\", \"20% of cases\", \"All FAB types except M3 and M6, most commonly M5\", \"Positive: CD33, CD65, CD4, HLA-DR (in monocytic cases), CD15, NG2; platelet antigens (in megakaryocytic cases)\\\\nNegative/low: CD13, CD34, CD14\", \"Mutations in the tyrosine kinase, PI3K, and RAS pathways; FLT3-TKD, NRAS, KRAS\", \"Depends on fusion partner\"], [\"AML with DEK::NUP214 fusion\", \"1\\u20132% of cases\", \"All FAB types except M3 and M7, most commonly M2 and M4; Auer rods; basophilia in blood or bone marrow; erythroid and granulocytic dysplasia are common\", \"Positive: myeloperoxidase, CD13, CD33, CD38, CD123, HLA-DR; often CD34, KIT (CD117), CD15; sometimes CD64, TdT\", \"FLT3 ITD in two thirds of cases; complex karyotype\", \"Poor\"], [\"AML with MECOM rearrangement\", \"< 1% of cases\", \"Commonly FAB M1, M4, and M7; multilineage dysplasia is common, especially in megakaryopoiesis\", \"Positive: CD34, CD33, CD13, KIT (CD117), HLA-DR, CD7\\\\nNegative: lymphoid markers other than CD7\", \"NaN\", \"Poor\"], [\"AML with ETV6 fusion\", \"1% of all cases\", \"All FAB types, most commonly M0 and M1\", \"For MNX1::ETV6:\\\\nPositive: CD34, HLA-DR, often KIT (CD117), T-cell markers CD7 and CD4\", \"Almost always +19, sometimes +8\", \"Poor, but may be protocol dependent\"], [\"AML with KAT6A::CREBBP fusion\", \"0.5% of cases\", \"FAB M5\", \"Positive: HLA-DR, CD15, myeloperoxidase, CD13, CD33, sometimes CD56, CD14\\\\nNegative: CD34, KIT (CD117)\", \"NaN\", \"OS similar to paediatric AML in general\"], [\"AML with RBM15::MRTFA fusion\", \"0.8% of all cases\", \"Exclusively FAB M7\", \"Positive: > 1 platelet antigen, some CD34 and/or HLA-DR\\\\nNegative: CD45\", \"del(1p), +4, +7, +8, +9, +10, +14, +15, +17, +18, +20, +21(21p), complex hyperdiploid karyotype\", \"Lower CR rate but similar EFS/OS vs other AMKLs\"], [\"AML with CBFA2T3::GLIS2 fusion\", \"3% of all cases\", \"All FAB types, most commonly M7\", \"> 50% show the RAM phenotype; overexpression of CD56 and underexpression of HLA-DR and CD38\", \"Mutations in FLT3, GATA1, JAK/STAT pathway\", \"Poor\"], [\"AML with NUP98 rearrangement\", \"5\\u20139% of cases\", \"NUP98::NSD1: often FAB M4 and M5\\\\nNUP98::KDM5A: mostly FAB M7 but also M5 and M6\", \"NaN\", \"For NUP98::NSD1: FLT3 ITD in > 80%, mutation in WT1 in 50%\", \"Poor\"], [\"AML with FUS::ERG fusion\", \"0.3\\u20130.5% of cases\", \"All FAB types except M6; Auer rods\", \"NaN\", \"+8, +10, complex karyotype\", \"Poor\"], [\"AML with NPM1 mutation\", \"6\\u20138% of cases\", \"FAB M1, M2, M4, and M5\", \"Positive: CD33, sometimes KIT (CD117), often CD36, CD64\\\\nNegative: CD34, sometimes HLA-DR\\\\nOften weak CD13\", \"FLT3 ITD, mutations in NRAS, WT1\", \"Good, also when FLT3 ITD is present\"], [\"AML with CEBPA mutation\", \"5\\u20136% of cases\", \"Most commonly FAB M1 and M2\", \"Positive: CD34, HLA-DR, often CD7\\\\nNegative: other lymphoid antigens\", \"Mutations in CEBPA-TAD, CSF3R, GATA2, RAS genes, FLT3\", \"Good, except for CSF3R-mutated cases\"]];\n",
       "\n",
       "    // Define the dt_args\n",
       "    let dt_args = {\"columnDefs\": [{\"className\": \"dt-left\", \"targets\": \"_all\"}], \"paging\": false, \"order\": []};\n",
       "    dt_args[\"data\"] = data;\n",
       "\n",
       "    $(document).ready(function () {\n",
       "        \n",
       "        $('#a926a8de-e84e-4624-b029-e0307723d1a7').DataTable(dt_args);\n",
       "    });\n",
       "</script>\n",
       "</div>\n"
      ],
      "text/plain": [
       "<IPython.core.display.HTML object>"
      ]
     },
     "metadata": {},
     "output_type": "display_data"
    }
   ],
   "source": [
    "import pandas as pd\n",
    "import itables\n",
    "from itables import show\n",
    "\n",
    "# Read the CSV file\n",
    "dx_criteria = pd.read_csv('../data/who2022_aml_classification.csv')\n",
    "\n",
    "# Display the dataframe using itables\n",
    "itables.show(dx_criteria, columnDefs=[{\"className\": \"dt-left\", \"targets\": \"_all\"}], paging=False)\n"
   ]
  },
  {
   "cell_type": "markdown",
   "metadata": {},
   "source": [
    "## Reclassification strategy: Risk Group COG AAML1831"
   ]
  },
  {
   "cell_type": "code",
   "execution_count": 36,
   "metadata": {
    "tags": [
     "hide-input",
     "full-width"
    ]
   },
   "outputs": [
    {
     "data": {
      "text/html": [
       "<style>.itables table td {\n",
       "    text-overflow: ellipsis;\n",
       "    overflow: hidden;\n",
       "}\n",
       "\n",
       ".itables table th {\n",
       "    text-overflow: ellipsis;\n",
       "    overflow: hidden;\n",
       "}\n",
       "\n",
       ".itables thead input {\n",
       "    width: 100%;\n",
       "    padding: 3px;\n",
       "    box-sizing: border-box;\n",
       "}\n",
       "\n",
       ".itables tfoot input {\n",
       "    width: 100%;\n",
       "    padding: 3px;\n",
       "    box-sizing: border-box;\n",
       "}\n",
       "</style>\n",
       "<div class=\"itables\">\n",
       "<table id=\"a0ebccb9-3adc-4a59-8880-8beeaf26e492\" class=\"display nowrap\"style=\"table-layout:auto;width:auto;margin:auto;caption-side:bottom\"><thead>\n",
       "    <tr style=\"text-align: right;\">\n",
       "      \n",
       "      <th>Low Risk</th>\n",
       "      <th>Standard Risk</th>\n",
       "      <th>High Risk</th>\n",
       "    </tr>\n",
       "  </thead><tbody><tr><td>Loading... (need <a href=https://mwouts.github.io/itables/troubleshooting.html>help</a>?)</td></tr></tbody></table>\n",
       "<link rel=\"stylesheet\" type=\"text/css\" href=\"https://cdn.datatables.net/1.13.1/css/jquery.dataTables.min.css\">\n",
       "<script type=\"module\">\n",
       "    // Import jquery and DataTable\n",
       "    import 'https://code.jquery.com/jquery-3.6.0.min.js';\n",
       "    import dt from 'https://cdn.datatables.net/1.12.1/js/jquery.dataTables.mjs';\n",
       "    dt($);\n",
       "\n",
       "    // Define the table data\n",
       "    const data = [[\"t(8;21)(q21.2;q22) [RUNX1-RUNX1T1]\", \"patients without HR or LR features \", \"Monosomy 7\"], [\"inv(16)/t(16;16)(p13.1q22.1) [CBFB-MYH11]\", \"\", \"Monosomy 5/del5q-\"], [\"NPM1 positive\", \"\", \"FLT3/ITD+ with allelic ratio > 0.1%\"], [\"CEBPA positive\\u00a0(Bzip mutation)\", \"\", \"t(6;9)(p22.3;q34.1) [DEK-NUP214]\"], [\"\", \"\", \"inv(3)(q21.3q26.2) [RPN1-MECOM]\"], [\"\", \"\", \"t(3;21)(26.2;q22) [RUNX1-MECOM]\"], [\"\", \"\", \"t(3;5)(q25q34) [NPM1-MLF1]\"], [\"\", \"\", \"11p15 (NUP98) rearrangements\"], [\"\", \"\", \"inv(16)(p13.3q24.3) [CBFA2T3-GLIS2]\"], [\"\", \"\", \"10p12.3 (MLLT10) rearrangements\"], [\"\", \"\", \"KMT2A rearrangements\"], [\"\", \"\", \"t(4;11)(q21;q23) [KMT2A-AFF1]\"], [\"\", \"\", \"t(6;11)(q27;q23) [KMT2A-MLLT4] (aka AF6, AFDN)\"], [\"\", \"\", \"t(10;11)(p11.2;q23) [KMT2A-ABI1]\"], [\"\", \"\", \"t(10;11)(p12;q23) [KMT2A-MLLT10]\"], [\"\", \"\", \"t(11;19)(q23;p13.3) [KMT2A-MLLT1]\"], [\"\", \"\", \"KMT2A-PTD\"], [\"\", \"\", \"ETS family rearrangements\"], [\"\", \"\", \"12p13.2 (ETV6) rearrangements\"], [\"\", \"\", \"12p13.2 (ETV6) deletion\"], [\"\", \"\", \"21q22.2 (ERG) rearrangements\"], [\"\", \"\", \"FEV rearrangements\"], [\"\", \"\", \"FLI1 rearrangements\"], [\"\", \"\", \"CREBBP\"], [\"\", \"\", \"t(8;16)(p11.2;p13.3) [KAT6A-CREBBP]\"], [\"\", \"\", \"CREBBP single nucleotide variants\"], [\"\", \"\", \"CREBBP insertion/deletions\"], [\"\", \"\", \"CEBPA with CSF3R\"], [\"\", \"\", \"IDH alterations\"], [\"\", \"\", \"IDH without NPM1\"], [\"\", \"\", \"IDH with NPM1 and DNMT3A\"], [\"\", \"\", \"IDH with NPM1 and FLT3-ITD\"], [\"\", \"\", \"Exon 5 \\u2013 Exon 33 inv(16)/t16;16)(p13.1q22.1) [CBFB-MYH11]  with exon 17 c-KIT\"], [\"\", \"\", \"t(8;21)(q21.2;q22) [RUNX1-RUNX1T1] with ASXL1\"], [\"\", \"\", \"TP53\"], [\"\", \"\", \"UBTF/ITD\"], [\"\", \"\", \"NPM1 + DNMT3A\"], [\"\", \"\", \"RUNX1-RUNX1T1 + MGA alteration\"], [\"\", \"\", \"MYC SNV/indels\"]];\n",
       "\n",
       "    // Define the dt_args\n",
       "    let dt_args = {\"columnDefs\": [{\"className\": \"dt-left\", \"targets\": \"_all\"}], \"order\": []};\n",
       "    dt_args[\"data\"] = data;\n",
       "\n",
       "    $(document).ready(function () {\n",
       "        \n",
       "        $('#a0ebccb9-3adc-4a59-8880-8beeaf26e492').DataTable(dt_args);\n",
       "    });\n",
       "</script>\n",
       "</div>\n"
      ],
      "text/plain": [
       "<IPython.core.display.HTML object>"
      ]
     },
     "metadata": {},
     "output_type": "display_data"
    }
   ],
   "source": [
    "path = mount + 'Raw_Data/Clinical_Data/updated_risk_group_COG_RR_1-10-2024/'\n",
    "\n",
    "COG_RR_dataset_Jan2024 = pd.read_csv(path + 'COG_risk_added_v2_cleanedFM.csv', index_col=0,)[\n",
    "                                    ['Primary Fusion', 'Cyto/Molecular Risk', 'Reason', 'MRD at EOI I']\n",
    "                                    ].rename(columns={'Cyto/Molecular Risk': 'Risk Group AAML1831'})\n",
    "\n",
    "# Join the two dataframes based on sample index\n",
    "df_labels2 = df_labels.join(COG_RR_dataset_Jan2024)\n",
    "\n",
    "# Create binary version for column 'Risk Group AAML1831'\n",
    "df_labels2['Risk_Group_AAML1831_int'] = df_labels2['Risk Group AAML1831'].map({'Low':0, 'Standard':0.5,'High':1})\n",
    "\n",
    "# Combine `Gene Fusion` and `Primary Fusion` columns with comma while ignoring NaNs/empty strings\n",
    "df_labels2['Gene Fusion'] = df_labels2[['Primary Fusion', 'Gene Fusion',]]\\\n",
    ".apply(lambda x: ','.join(filter(lambda i: i is not None and i==i, x)), axis=1)\n",
    "\n",
    "# Replace '' with np.nan\n",
    "df_labels2['Gene Fusion'] = df_labels2['Gene Fusion'].replace({'': np.nan})\n",
    "\n",
    "# Read criteria\n",
    "px_criteria = pd.read_excel(path + 'AAML1831_risk_stratification_and_proposed_additions_FMcleaned.xlsx').replace({ np.nan: ''})\n",
    "\n",
    "# Display the dataframe using itables\n",
    "import itables\n",
    "\n",
    "itables.show(px_criteria, columnDefs=[{\"className\": \"dt-left\", \"targets\": \"_all\"}])"
   ]
  },
  {
   "cell_type": "markdown",
   "metadata": {},
   "source": [
    "### Main reclassification functions (applied to all samples)"
   ]
  },
  {
   "cell_type": "code",
   "execution_count": 37,
   "metadata": {
    "tags": [
     "hide-input"
    ]
   },
   "outputs": [],
   "source": [
    "def classify_controls(normal_samples):\n",
    "    mapping = {\n",
    "        'Bone Marrow Normal'  : 'Otherwise-Normal Control',\n",
    "        'Blood Derived Normal': 'Otherwise-Normal Control'}\n",
    "    \n",
    "    for key, value in mapping.items():\n",
    "        if key in normal_samples:\n",
    "            return value\n",
    "\n",
    "def classify_fusion(gene_fusion):\n",
    "    mapping = {\n",
    "    'RUNX1-RUNX1T1': 'AML with t(8;21); RUNX1::RUNX1T1',\n",
    "    'CBFB-MYH11':    'AML with inv(16); t(16;16); CBFB::MYH11',\n",
    "    'KMT2A':         'AML with t(v;11q23); KMT2A-r',\n",
    "    'MLL':           'AML with t(v;11q23); KMT2A-r',\n",
    "    'PML-RARA':      'APL with t(15;17); PML::RARA',\n",
    "    'DEK-NUP214':    'AML with t(6;9); DEK::NUP214',\n",
    "    'MECOM':         'AML with inv(3); t(3;3); MECOM-r',\n",
    "    'ETV6':          'AML with ETV6 fusion',\n",
    "    'NPM1':          'AML with mutated NPM1',\n",
    "    'RBM15-MKL1':    'AML with t(1;22); RBM15::MKL1',\n",
    "    'NUP98':         'AML with NUP98-fusion',\n",
    "    'KAT6A-CREBBP':  'AML with t(8;16); KAT6A::CREBBP',\n",
    "    'FUS-ERG':       'AML with t(16;21); FUS::ERG',\n",
    "    'CBFA2T3-GLIS2': 'AML with CBFA2T3::GLIS2',\n",
    "    'BCR-ABL1':       'AML with t(9;22); BCR::ABL1',\n",
    "\n",
    "    # Other uncharacterized abdnormalities present in the dataset but not specifically in guidelines\n",
    "\n",
    "    # 'RUNX1-CBFA2T3': 'AML NOS',\n",
    "    # 'PRDM16-RPN1':   'AML NOS',\n",
    "    # 'RBM15-MRTFA':   'AML with t(1;22); RBM15::MKL1',\n",
    "    'CBFA2T3-GLIS3': 'AML with CBFA2T3::GLIS2', # including here based on PMID: 35927023\n",
    "    # 'PSIP1-NUP214':  'AML with t(6;9); DEK::NUP214',\n",
    "    # 'XPO1-TNRC18':   'AML NOS', \n",
    "    # 'HNRNPH1-ERG':   'AML with t(16;21); FUS::ERG',\n",
    "    # 'NIPBL-HOXB9':   'AML NOS', \n",
    "    # 'SET-NUP214':    'AML with t(6;9); DEK::NUP214', \n",
    "    # 'FLI1-IFIT2':    'AML NOS', \n",
    "    # 'TCF4-ZEB2':     'AML NOS',\n",
    "    # 'MBTD1-ZMYND11': 'AML NOS', \n",
    "    # 'FOSB-KLF6':     'AML NOS', \n",
    "    # 'SFPQ-ZFP36L2':  'AML NOS', \n",
    "    # 'RUNX1-LINC00478':'AML NOS',\n",
    "    # 'RUNX1-EVX1':     'AML NOS',  \n",
    "    # 'PSPC1-ZFP36L1':  'AML NOS', \n",
    "    # 'EWSR1-FEV':      'AML NOS',\n",
    "    # 'STAG2-AFF2':     'AML NOS', \n",
    "    # 'MYB-GATA1':      'AML NOS', \n",
    "    # 'RUNX1-ZFPM2':    'AML NOS', \n",
    "    # 'RUNX1-CBFA2T2':  'AML NOS',\n",
    "    # 'PIM3-BRD1':      'AML NOS',\n",
    "    'KAT6A-EP300':    'AML with t(8;16); KAT6A::CREBBP',\n",
    "    # 'DOT1L-RPS15':    'AML NOS',\n",
    "    # 'FUS-FEV':        'AML with t(16;21); FUS::ERG',\n",
    "    'KAT6A-NCOA2':    'AML with t(8;16); KAT6A::CREBBP',\n",
    "    # 'JARID2-PTP4A1':  'AML NOS',\n",
    "    # 'FUS-FLI1':       'AML with t(16;21); FUS::ERG',\n",
    "    }    \n",
    "    \n",
    "    for key, value in mapping.items():\n",
    "        if key in gene_fusion:\n",
    "            return value\n",
    "\n",
    "def classify_cebpa(cebpa_mutation):\n",
    "    mapping = {\n",
    "        'Yes': 'AML with mutated CEBPA',\n",
    "        'Positive': 'AML with mutated CEBPA'}\n",
    "    \n",
    "    for key, value in mapping.items():\n",
    "        if key in cebpa_mutation:\n",
    "            return value\n",
    "\n",
    "def classify_npm(npm_mutation):\n",
    "    mapping = {\n",
    "        'Yes': 'AML with mutated NPM1',\n",
    "        'Positive': 'AML with mutated NPM1'\n",
    "    }\n",
    "\n",
    "    for key, value in mapping.items():\n",
    "        if key in npm_mutation:\n",
    "            return value\n",
    "\n",
    "def classify_karyotype(structural_variation):\n",
    "    mapping = {\n",
    "        't(8;16)': 'AML with t(8;16); KAT6A::CREBBP',\n",
    "        # 't(16;21)': 'AML with t(16;21); FUS::ERG',\n",
    "        # 't(6;9)': 'AML with t(6;9); DEK::NUP214',\n",
    "        # 't(1;22)': 'AML with t(1;22); RBM15::MKL1',\n",
    "        'inv(3)': 'AML with inv(3); t(3;3); MECOM-r',\n",
    "        't(3;3)': 'AML with inv(3); t(3;3); MECOM-r',\n",
    "        # 't(6;11)': 'AML with t(v;11q23); KMT2A-r',\n",
    "        # 't(1;11)': 'AML with t(v;11q23); KMT2A-r',\n",
    "        # 't(4;11)': 'AML with t(v;11q23); KMT2A-r',\n",
    "        # 'ins(6;11)': 'AML with t(v;11q23); KMT2A-r', # Interestingly, karyotype did not prove reliable for subtyping. Who would have thought!\n",
    "\n",
    "        }\n",
    "    \n",
    "    for key, value in mapping.items():\n",
    "        if key in structural_variation:\n",
    "            return value\n",
    "            \n",
    "def classify_annotated_diagnosis(diagnosis):\n",
    "    mapping = {\n",
    "        'mutated NPM1'                                                  : 'AML with mutated NPM1',\n",
    "        'mutated CEBPA'                                                 : 'AML with mutated CEBPA',\n",
    "        'myelodysplasia-related changes'                                : 'MDS-related; secondary myeloid',\n",
    "        \"AML with mutated NPM1\"                                         : \"AML with mutated NPM1\",\n",
    "        \"AML with myelodysplasia-related changes\"                       : \"MDS-related; secondary myeloid\",\n",
    "        \"AML with inv(16)(p13.1q22) or t(16;16)(p13.1;q22); CBFB-MYH11\" : \"AML with inv(16); t(16;16); CBFB::MYH11\",\n",
    "        \"AML with mutated CEBPA\"                                        : \"AML with mutated CEBPA\",\n",
    "        \"Therapy-related myeloid neoplasms\"                             : \"MDS-related; secondary myeloid\",\n",
    "        \"PML-RARA\"                                                      : \"APL with t(15;17); PML::RARA\",\n",
    "        \"AML with t(9;11)(p22;q23); MLLT3-MLL\"                          : \"AML with t(v;11q23); KMT2A-r\",\n",
    "        \"AML with t(8;21)(q22;q22.1); RUNX1-RUNX1T1\"                    : \"AML with t(8;21); RUNX1::RUNX1T1\",\n",
    "        \"AML with inv(3)(q21q26.2) or t(3;3)(q21;q26.2); RPN1-EVI1\"     : \"AML with inv(3); t(3;3); MECOM-r\",\n",
    "        \"Mixed phenotype acute leukaemia, T/myeloid\"                    : \"MPAL T-Lymphoblastic/Myeloid\",\n",
    "        \"Myeloid leukaemia associated with Down syndrome\"               : \"AML with Down syndrome\",\n",
    "        'AML with CBFB-MYH11'                                           : 'AML with inv(16); t(16;16); CBFB::MYH11',\n",
    "        'AML with RUNX1-RUNX1T1'                                        : 'AML with t(8;21); RUNX1::RUNX1T1',\n",
    "        'AML with BCR-ABL1'                                             : 'AML with t(9;22); BCR::ABL1',\n",
    "        'MDS-related or secondary myeloid neoplasms'                    : 'MDS-related; secondary myeloid',\n",
    "        'Myeloid Leukemia with t(8;21) (q22;q22) [AML1/ETO]'            : \"AML with t(8;21); RUNX1::RUNX1T1\",\n",
    "        'Myeloid Leukemia with 11q23/MLL Abnormalities'                 : \"AML with t(v;11q23); KMT2A-r\",\n",
    "        'Myeloid Leukemia with t(6;9)(p23;q34) DEK-NUP214'              : 'AML with t(6;9); DEK::NUP214',\n",
    "        'Myeloid Leukemia with inv(16) or t(16;16) [CBFbeta/MYH11]'     : \"AML with inv(16); t(16;16); CBFB::MYH11\",\n",
    "        \n",
    "        # ALL\n",
    "        'T-ALL'                                                         :'T-ALL NOS',\n",
    "        'BCP-ALL HeH'                                                   :'B-ALL with hyperdiploidy',\n",
    "        'BCP-ALL t(12;21)'                                              :'B-ALL with t(12;21); ETV6::RUNX1',         \n",
    "        'BCP-ALL 11q23/MLL'                                             :'B-ALL with t(v;11q23); KMT2A-r',       \n",
    "        'BCP-ALL t(1;19)'                                               :'B-ALL with t(1;19); TCF3::PBX1',       \n",
    "        'BCP-ALL dic(9;20)'                                             :'B-ALL dic(9;20)',       \n",
    "        'BCP-ALL t(9;22)'                                               :'B-ALL with t(9;22); BCR::ABL1',       \n",
    "        'BCP-ALL iAMP21'                                                :'B-ALL with iAMP21',        \n",
    "        'BCP-ALL <45chr'                                                :'B-ALL with hypodiploidy',        \n",
    "        'BCP-ALL >67chr'                                                :'B-ALL with hyperdiploidy',\n",
    "\n",
    "        # MPAL\n",
    "        'MPAL with MLL'                                                 :'MPAL with t(v;11q23.3)/KMT2A-r',\n",
    "        'MPAL with T/M'                                                 :'MPAL T-Lymphoblastic/Myeloid',\n",
    "        'MPAL with B/M'                                                 :'MPAL B-Lymphoblastic/Myeloid',\n",
    "\n",
    "        }\n",
    "    \n",
    "    for key, value in mapping.items():\n",
    "        if key in diagnosis:\n",
    "            return value\n",
    "\n",
    "def process_labels_who22(df):\n",
    "    # Merge processing functions with source columns into a single dictionary\n",
    "    column_mappings = {\n",
    "        'Annotated Controls'            : ('Sample Type', classify_controls),\n",
    "        'Annotated Gene Fusion'         : ('Gene Fusion', classify_fusion),\n",
    "        'Annotated CEBPA'               : ('CEBPA mutation', classify_cebpa),\n",
    "        'Annotated NPM1'                : ('NPM mutation', classify_npm),\n",
    "        'Annotated Karyotype'           : ('Karyotype', classify_karyotype),\n",
    "        'Annotated Dx at Acquisition'   : ('Dx at Acquisition', classify_annotated_diagnosis),\n",
    "    }\n",
    "\n",
    "    # Loop through the mapping to process and create new columns\n",
    "    for new_col, (old_col, processing_func) in column_mappings.items():\n",
    "        # Apply the corresponding classification function to each column\n",
    "        df[new_col] = df[old_col].astype(str).apply(processing_func)\n",
    "\n",
    "    # Combine processed columns into a single column, separating values with commas\n",
    "    df['WHO 2022 Combined Diagnoses'] = df[list(column_mappings.keys())]\\\n",
    "        .apply(lambda x: ','.join(x.dropna()), axis=1).replace('', np.nan)\n",
    "\n",
    "    # Extract the first diagnosis from the combined diagnoses as the final diagnosis\n",
    "    df['WHO 2022 Diagnosis'] = df['WHO 2022 Combined Diagnoses'].str.split(',').str[0]\n",
    "\n",
    "    # Drop intermediate columns used for processing\n",
    "    df = df.drop(list(column_mappings.keys()), axis=1)\n",
    "\n",
    "    return df\n"
   ]
  },
  {
   "cell_type": "markdown",
   "metadata": {},
   "source": [
    "### Execution"
   ]
  },
  {
   "cell_type": "code",
   "execution_count": 38,
   "metadata": {
    "tags": [
     "hide-input"
    ]
   },
   "outputs": [
    {
     "data": {
      "text/plain": [
       "WHO 2022 Diagnosis\n",
       "NaN                                        840\n",
       "AML with t(v;11q23); KMT2A-r               324\n",
       "Otherwise-Normal Control                   251\n",
       "T-ALL NOS                                  242\n",
       "AML with mutated NPM1                      232\n",
       "MDS-related; secondary myeloid             223\n",
       "B-ALL with hyperdiploidy                   190\n",
       "AML with inv(16); t(16;16); CBFB::MYH11    178\n",
       "AML with t(8;21); RUNX1::RUNX1T1           178\n",
       "B-ALL with t(12;21); ETV6::RUNX1           163\n",
       "AML with NUP98-fusion                      100\n",
       "AML with mutated CEBPA                      83\n",
       "APL with t(15;17); PML::RARA                31\n",
       "AML with CBFA2T3::GLIS2                     29\n",
       "B-ALL with t(v;11q23); KMT2A-r              28\n",
       "AML with t(6;9); DEK::NUP214                27\n",
       "MPAL T-Lymphoblastic/Myeloid                25\n",
       "B-ALL with t(1;19); TCF3::PBX1              23\n",
       "AML with ETV6 fusion                        20\n",
       "B-ALL dic(9;20)                             20\n",
       "AML with inv(3); t(3;3); MECOM-r            20\n",
       "B-ALL with t(9;22); BCR::ABL1               19\n",
       "MPAL B-Lymphoblastic/Myeloid                17\n",
       "AML with t(8;16); KAT6A::CREBBP             12\n",
       "AML with t(1;22); RBM15::MKL1               10\n",
       "B-ALL with iAMP21                           10\n",
       "MPAL with t(v;11q23.3)/KMT2A-r               6\n",
       "AML with t(16;21); FUS::ERG                  5\n",
       "B-ALL with hypodiploidy                      5\n",
       "AML with t(9;22); BCR::ABL1                  3\n",
       "Name: count, dtype: int64"
      ]
     },
     "execution_count": 38,
     "metadata": {},
     "output_type": "execute_result"
    }
   ],
   "source": [
    "# Reclassify according to WHO 2022 guidelines\n",
    "df_labels3 = process_labels_who22(df_labels2)\n",
    "\n",
    "# Display the value counts of the new diagnosis column\n",
    "df_labels3['WHO 2022 Diagnosis'].value_counts(dropna=False)"
   ]
  },
  {
   "cell_type": "markdown",
   "metadata": {},
   "source": [
    "## Categorize ELN 2022, hematopoietic entity, age, trisomy 8, and 5y OS cutoff"
   ]
  },
  {
   "cell_type": "markdown",
   "metadata": {},
   "source": [
    "### Functions"
   ]
  },
  {
   "cell_type": "code",
   "execution_count": 39,
   "metadata": {
    "tags": [
     "hide-input"
    ]
   },
   "outputs": [],
   "source": [
    "def process_df_labels(df):\n",
    "    \"\"\"\n",
    "    Function to process a pandas dataframe, performing age categorization \n",
    "    and main disease classification.\n",
    "\n",
    "    \"\"\"\n",
    "    def categorize_age(age):\n",
    "        \"\"\"\n",
    "        Function to categorize age into a specific range.\n",
    "        \"\"\"\n",
    "        if pd.isnull(age):\n",
    "            return np.nan\n",
    "        elif age < 5:\n",
    "            return '0-5'\n",
    "        elif age < 13:\n",
    "            return '5-13'\n",
    "        elif age < 39:\n",
    "            return '13-39'\n",
    "        elif age < 60:\n",
    "            return '39-60'\n",
    "        else:\n",
    "            return '60+'\n",
    "\n",
    "    # Convert 'Age (years)' to numeric, errors='coerce' will turn non-numeric data to NaN\n",
    "    df['Age (years)'] = pd.to_numeric(df['Age (years)'], errors='coerce')\n",
    "\n",
    "    # Then apply your function\n",
    "    df['Age (group years)'] = df['Age (years)'].apply(categorize_age)\n",
    "    \n",
    "    def categorize_subtypes(subtype):\n",
    "        \"\"\"\n",
    "        Function to classify the main disease based on a given subtype.\n",
    "        \"\"\"\n",
    "        mapping = {\n",
    "            'AML'                           :'Acute myeloid leukemia (AML)',\n",
    "            'ALL'                           :'Acute lymphoblastic leukemia (ALL)',\n",
    "            'MDS'                           :'Myelodysplastic syndrome (MDS or MDS-like)',\n",
    "            'MPAL'                          :'Mixed phenotype acute leukemia (MPAL)',\n",
    "            'APL'                           :'Acute promyelocytic leukemia (APL)',\n",
    "            'Otherwise-Normal Control'      :'Otherwise-Normal (Control)',\n",
    "        }\n",
    "\n",
    "        for key, value in mapping.items():\n",
    "            if key in subtype:\n",
    "                return value\n",
    "    \n",
    "    df['Hematopoietic Entity'] = df['WHO 2022 Diagnosis'].astype(str).apply(categorize_subtypes)\n",
    "\n",
    "    def categorize_trisomy8(karyotype):\n",
    "        \"\"\"\n",
    "        Function to classify trisomy 8 by karyotype as a separate column.\n",
    "        \"\"\"\n",
    "        mapping = {\n",
    "            '+8': 'Positive',\n",
    "            'trisomy 8': 'Positive',\n",
    "        }\n",
    "\n",
    "        for key, value in mapping.items():\n",
    "            if key in karyotype:\n",
    "                return value\n",
    "    \n",
    "    df['Trisomy 8 Status'] = df['Karyotype'].astype(str).apply(categorize_trisomy8).fillna('Negative or Unknown')\n",
    "\n",
    "    def categorize_ELN2022(subtype):\n",
    "        \"\"\"\n",
    "        Function to reclassify samples according to ELN AML 2022.\n",
    "        \"\"\"\n",
    "        mapping = {\n",
    "            'AML with t(v;11q23); KMT2A-r'                  :'AML with t(v;11q23); KMT2A-r',\n",
    "            'Otherwise-Normal Control'                      :'Otherwise-Normal Control',\n",
    "            'AML with mutated CEBPA'                        :'AML with mutated CEBPA',\n",
    "            'MDS-related; secondary myeloid'                :'MDS-related; secondary myeloid',\n",
    "            'AML with inv(3); t(3;3); MECOM-r'              :'AML with inv(3); t(3;3); MECOM-r',\n",
    "            'AML with mutated NPM1'                         :'AML with mutated NPM1',\n",
    "            'AML with inv(16); t(16;16); CBFB::MYH11'       :'AML with inv(16); t(16;16); CBFB::MYH11',\n",
    "            'AML with t(8;21); RUNX1::RUNX1T1'              :'AML with t(8;21); RUNX1::RUNX1T1',\n",
    "            'AML with t(9;22); BCR::ABL1'                   :'AML with t(9;22); BCR::ABL1',\n",
    "            'AML with t(6;9); DEK::NUP214'                  :'AML with t(6;9); DEK::NUP214',\n",
    "            'APL with t(15;17); PML::RARA'                  :'APL with t(15;17); PML::RARA',\n",
    "            'AML with t(1;22); RBM15::MKL1'                 :'AML with other recurring translocations',\n",
    "            'AML with t(16;21); FUS::ERG'                   :'AML with other recurring translocations',\n",
    "            'AML with t(8;16); KAT6A::CREBBP'               :'AML with other recurring translocations',\n",
    "            'AML with CBFA2T3::GLIS2'                       :'AML with other recurring translocations',\n",
    "            'AML with NUP98-fusion'                         :'AML with other recurring translocations',\n",
    "            'AML with ETV6 fusion'                          :'AML with other recurring translocations',   \n",
    "        }\n",
    "\n",
    "        for key, value in mapping.items():\n",
    "            if key in subtype:\n",
    "                return value\n",
    "    \n",
    "    df['ELN 2022 Diagnosis'] = df['WHO 2022 Diagnosis'].astype(str).apply(categorize_ELN2022)\n",
    "\n",
    "    def add_clinical_outcome_cutoff(df, e, t, cutoff_years=5):\n",
    "\n",
    "        df_ = df.copy()\n",
    "        \n",
    "        # Create 'Vital Status at {cutoff_years}y' column\n",
    "        conditions = [\n",
    "            (df_[e] == 1) & (df_[t] <= cutoff_years),\n",
    "            (df_[e] == 1) & (df_[t] > cutoff_years),\n",
    "            (df_[e] == 0) & (df_[t] <= cutoff_years),\n",
    "            (df_[e] == 0) & (df_[t] > cutoff_years)\n",
    "        ]\n",
    "        choices = [1, 0, 0, 0]\n",
    "        \n",
    "        df_[e + f' at {cutoff_years}y'] = np.select(conditions, choices, default='')\n",
    "        \n",
    "        # Create 'os.time at {cutoff_years}y' column\n",
    "        df_[t + f' at {cutoff_years}y'] = np.where(\n",
    "            df_[t] > cutoff_years, cutoff_years, df_[t])\n",
    "        \n",
    "\n",
    "        return df_\n",
    "    \n",
    "    # Apply the function to the DataFrame\n",
    "    df = add_clinical_outcome_cutoff(df, e='os.evnt', t='os.time', cutoff_years=5)\n",
    "    df = add_clinical_outcome_cutoff(df, e='efs.evnt', t='efs.time', cutoff_years=5)\n",
    "\n",
    "    df[f'Vital Status at 5y'] =  df[f'os.evnt at 5y'].map({'0':'Alive', '1' :'Dead'})\n",
    "    df[f'Event-Free Survival at 5y'] =  df[f'efs.evnt at 5y'].map({'0':'Yes', '1' :'No'})\n",
    "\n",
    "    return df"
   ]
  },
  {
   "cell_type": "markdown",
   "metadata": {},
   "source": [
    "### Execution"
   ]
  },
  {
   "cell_type": "code",
   "execution_count": 40,
   "metadata": {
    "tags": [
     "hide-input"
    ]
   },
   "outputs": [
    {
     "data": {
      "text/plain": [
       "Hematopoietic Entity\n",
       "Acute myeloid leukemia (AML)                  1221\n",
       "Acute lymphoblastic leukemia (ALL)             700\n",
       "Otherwise-Normal (Control)                     251\n",
       "Myelodysplastic syndrome (MDS or MDS-like)     223\n",
       "Mixed phenotype acute leukemia (MPAL)           48\n",
       "Acute promyelocytic leukemia (APL)              31\n",
       "Name: count, dtype: int64"
      ]
     },
     "execution_count": 40,
     "metadata": {},
     "output_type": "execute_result"
    }
   ],
   "source": [
    "df_labels4 = process_df_labels(df_labels3)\n",
    "\n",
    "df_labels4['Hematopoietic Entity'].value_counts(dropna=True)"
   ]
  },
  {
   "cell_type": "markdown",
   "metadata": {},
   "source": [
    "## Apply classification to test dataset"
   ]
  },
  {
   "cell_type": "code",
   "execution_count": 41,
   "metadata": {
    "tags": [
     "hide-input"
    ]
   },
   "outputs": [
    {
     "data": {
      "text/plain": [
       "WHO 2022 Diagnosis\n",
       "NaN                                        97\n",
       "AML with t(v;11q23); KMT2A-r               47\n",
       "AML with t(8;21); RUNX1::RUNX1T1           29\n",
       "AML with inv(16); t(16;16); CBFB::MYH11    23\n",
       "AML with t(8;16); KAT6A::CREBBP             2\n",
       "AML with mutated CEBPA                      2\n",
       "AML with t(6;9); DEK::NUP214                1\n",
       "Name: count, dtype: int64"
      ]
     },
     "execution_count": 41,
     "metadata": {},
     "output_type": "execute_result"
    }
   ],
   "source": [
    "# Import functions to clean up clinical data\n",
    "import sys\n",
    "sys.path.append('../')\n",
    "from utils.clinical_data_cleanup import *\n",
    "\n",
    "# Call functions to merge, index and clean clinical data files\n",
    "labels_aml02         = clean_aml02       (merge_index_aml02())\n",
    "labels_aml08         = clean_aml08       (merge_index_aml08())\n",
    "\n",
    "# Combine all clinical data labels into one dataframe\n",
    "labels_test = pd.concat([labels_aml02, labels_aml08] ,axis=0, join='outer')\n",
    "\n",
    "# Redefine output path (for troubleshooting purposes in case only this cell is run)\n",
    "mount = '/mnt/e/ALMA/'\n",
    "output_path = mount + 'Intermediate_Files/'\n",
    "\n",
    "# Read df_test\n",
    "df_test = pd.read_pickle(output_path + '201samples_427375cpgs_withbatchcorrection_bvalues.pkl')\n",
    "\n",
    "# Add columns for later analyses\n",
    "labels_test['Train-Test'] = 'Test Sample'\n",
    "labels_test['Batch'] = \"Multicenter AML02,08 Trials\"\n",
    "labels_test['Risk Group AAML1831'] = np.nan\n",
    "labels_test['Risk_Group_AAML1831_int'] = np.nan\n",
    "\n",
    "# Remove samples that are not in the methyl dataset\n",
    "df_labels_test = labels_test.loc[labels_test.index.isin(df_test.index)].sort_index()\n",
    "\n",
    "# Reclassify samples according to WHO 2022\n",
    "df_labels_test2 = process_labels_who22(df_labels_test)\n",
    "\n",
    "# Add age categorization and main disease classification to the clinical data\n",
    "df_labels_test3 = process_df_labels(df_labels_test2)\n",
    "\n",
    "# Display the value counts of the WHO 2022 Diagnosis\n",
    "df_labels_test3['WHO 2022 Diagnosis'].value_counts(dropna=False)"
   ]
  },
  {
   "cell_type": "markdown",
   "metadata": {},
   "source": [
    "## Save clinical datasets"
   ]
  },
  {
   "cell_type": "code",
   "execution_count": 42,
   "metadata": {
    "tags": [
     "hide-input"
    ]
   },
   "outputs": [],
   "source": [
    "# Concatenate clinical data files and keep overlapping columns\n",
    "common_columns = [x for x in df_labels4.columns if x in df_labels_test3.columns]\n",
    "\n",
    "# Apply `common_columns` to both df_labels4 and df_labels_test3\n",
    "df_labels5 = df_labels4[common_columns]\n",
    "df_labels_test4 = df_labels_test3[common_columns]\n",
    "\n",
    "# Concatenate clinical data files and keep overlapping columns\n",
    "clinical_data = pd.concat([df_labels5, df_labels_test4], axis=0)\n",
    "\n",
    "# Save the merged clinical data\n",
    "clinical_data.to_excel(output_path + 'clinical_data.xlsx')\n",
    "\n",
    "# Save individual datasets (for troubleshooting purposes)\n",
    "\n",
    "# labels_aml05.to_excel(output_path + 'aml05_clinical_data.xlsx')\n",
    "# labels_beataml.to_excel(output_path + 'beataml_clinical_data.xlsx')\n",
    "# labels_0531.to_excel(output_path + '0531_clinical_data.xlsx')\n",
    "# labels_amltcga.to_excel(output_path + 'amltcga_clinical_data.xlsx')\n",
    "# labels_1031.to_excel(output_path + '1031_clinical_data.xlsx')\n",
    "# labels_nordic_all.to_excel(output_path + 'nordic_all_clinical_data.xlsx')\n",
    "# labels_mds_taml.to_excel(output_path + 'mds_taml_clinical_data.xlsx')\n",
    "# labels_all_graal.to_excel(output_path + 'all_graal_clinical_data.xlsx')\n",
    "# labels_target_all.to_excel(output_path + 'target_all_clinical_data.xlsx')\n",
    "# labels_aml02.to_excel(output_path + 'aml02_clinical_data.xlsx')\n",
    "# labels_aml08.to_excel(output_path + 'aml08_clinical_data.xlsx')"
   ]
  },
  {
   "cell_type": "markdown",
   "metadata": {},
   "source": [
    "## Watermark"
   ]
  },
  {
   "cell_type": "code",
   "execution_count": 43,
   "metadata": {
    "tags": [
     "remove-input",
     "remove-output"
    ]
   },
   "outputs": [
    {
     "name": "stdout",
     "output_type": "stream",
     "text": [
      "The watermark extension is already loaded. To reload it, use:\n",
      "  %reload_ext watermark\n"
     ]
    }
   ],
   "source": [
    "%load_ext watermark"
   ]
  },
  {
   "cell_type": "code",
   "execution_count": 44,
   "metadata": {
    "tags": [
     "remove-input"
    ]
   },
   "outputs": [
    {
     "name": "stdout",
     "output_type": "stream",
     "text": [
      "Author: Francisco_Marchi@Lamba_Lab_UF\n",
      "\n",
      "Python implementation: CPython\n",
      "Python version       : 3.8.18\n",
      "IPython version      : 8.12.2\n",
      "\n",
      "numpy   : 1.24.3\n",
      "pandas  : 2.0.2\n",
      "pacmap  : 0.7.0\n",
      "sklearn : 1.2.2\n",
      "lightgbm: 3.3.5\n",
      "\n",
      "Compiler    : GCC 11.4.0\n",
      "OS          : Linux\n",
      "Release     : 5.15.133.1-microsoft-standard-WSL2\n",
      "Machine     : x86_64\n",
      "Processor   : x86_64\n",
      "CPU cores   : 32\n",
      "Architecture: 64bit\n",
      "\n"
     ]
    }
   ],
   "source": [
    "# watermark with all libraries used in this notebook\n",
    "%watermark -v -p numpy,pandas,pacmap,sklearn,lightgbm -a Francisco_Marchi@Lamba_Lab_UF -d -m -r -u"
   ]
  }
 ],
 "metadata": {
  "celltoolbar": "Tags",
  "kernelspec": {
   "display_name": ".venv_sklearn",
   "language": "python",
   "name": "python3"
  },
  "language_info": {
   "codemirror_mode": {
    "name": "ipython",
    "version": 3
   },
   "file_extension": ".py",
   "mimetype": "text/x-python",
   "name": "python",
   "nbconvert_exporter": "python",
   "pygments_lexer": "ipython3",
   "version": "3.8.18"
  },
  "vscode": {
   "interpreter": {
    "hash": "bea0b97f2aeab51a41f683aa60895cc0e821b0a2b6d8fed7be73bd28506d07e0"
   }
  }
 },
 "nbformat": 4,
 "nbformat_minor": 2
}
