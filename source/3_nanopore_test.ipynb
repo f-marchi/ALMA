{
 "cells": [
  {
   "cell_type": "markdown",
   "metadata": {},
   "source": [
    "# Nanopore Test Dataset"
   ]
  },
  {
   "cell_type": "markdown",
   "metadata": {},
   "source": [
    "1. Basecall and align using Dorado and minimap2:\n",
    "\n",
    "    ```bash\n",
    "    dorado basecaller \\\n",
    "    sup,5mCG_5hmCG \\\n",
    "    /path/to/pod5/ \\\n",
    "    --reference ref/hg38.fna \\\n",
    "    --trim adapters \\\n",
    "    --min-qscore 15 > {$SAMPLE}_sup5_unsorted.bam\n",
    "    ```\n",
    "\n",
    "2. Sort and index bam:\n",
    "\n",
    "    ```bash\n",
    "    samtools sort \\\n",
    "    --threads 8 \\\n",
    "    --write-index \\\n",
    "    -m 8G \\\n",
    "    -o \"$SAMPLE.bam\" \\\n",
    "    -O BAM \\\n",
    "    --reference ref/hg38.fna \\\n",
    "    \"$SAMPLE\"\n",
    "    ```\n",
    "\n",
    "3. Create a BedMethyl file with Modkit:\n",
    "    \n",
    "    ```bash\n",
    "    modkit pileup \\\n",
    "    \"$bam_file\" \\\n",
    "    \"$bed_file\" \\\n",
    "    -t 32 \\\n",
    "    --combine-strands \\\n",
    "    --cpg \\\n",
    "    --ignore h \\\n",
    "    --ref ref/hg38.fna \\\n",
    "    --no-filtering\n",
    "    ```\n",
    "\n",
    "4. Combine one or more bed files into a pkl dataframe:\n",
    "\n",
    "    ```bash\n",
    "    python bed_to_pickle.py \\\n",
    "    --pacmap-reference ref/pacmap_reference.bed\n",
    "    ```\n",
    "    \n",
    "```{note}\n",
    "You can find the `bed_to_pickle.py` file here: [github.com/f-marchi/ALMA-classifier/](https://github.com/f-marchi/ALMA-classifier/blob/main/alma_classifier/bed_to_pickle.py)\n",
    "```"
   ]
  },
  {
   "cell_type": "markdown",
   "metadata": {},
   "source": [
    "## Where the data at?"
   ]
  },
  {
   "cell_type": "code",
   "execution_count": 1,
   "metadata": {
    "tags": [
     "hide-input"
    ]
   },
   "outputs": [],
   "source": [
    "import pandas as pd\n",
    "import numpy as np\n",
    "\n",
    "mount = '/mnt/e/ALMA/'\n",
    "output_path = mount + 'Intermediate_Files/'\n",
    "zhou2016_probes_path = mount + 'UnreliableProbesList_Zhou2016/EPIC.anno.GRCh38.tsv'"
   ]
  },
  {
   "cell_type": "markdown",
   "metadata": {},
   "source": [
    "## Create PaCMAP reference file"
   ]
  },
  {
   "cell_type": "markdown",
   "metadata": {},
   "source": [
    "Specifically, create a BED6 file to harmonize CpG probes from EPIC array with their matching genomic locations nanopore sequencing."
   ]
  },
  {
   "cell_type": "code",
   "execution_count": null,
   "metadata": {
    "tags": [
     "hide-input"
    ]
   },
   "outputs": [
    {
     "data": {
      "text/html": [
       "<div>\n",
       "<style scoped>\n",
       "    .dataframe tbody tr th:only-of-type {\n",
       "        vertical-align: middle;\n",
       "    }\n",
       "\n",
       "    .dataframe tbody tr th {\n",
       "        vertical-align: top;\n",
       "    }\n",
       "\n",
       "    .dataframe thead th {\n",
       "        text-align: right;\n",
       "    }\n",
       "</style>\n",
       "<table border=\"1\" class=\"dataframe\">\n",
       "  <thead>\n",
       "    <tr style=\"text-align: right;\">\n",
       "      <th></th>\n",
       "      <th>chrm</th>\n",
       "      <th>start</th>\n",
       "      <th>end</th>\n",
       "      <th>name</th>\n",
       "      <th>score</th>\n",
       "      <th>strand</th>\n",
       "    </tr>\n",
       "  </thead>\n",
       "  <tbody>\n",
       "    <tr>\n",
       "      <th>0</th>\n",
       "      <td>chr1</td>\n",
       "      <td>69590</td>\n",
       "      <td>69592</td>\n",
       "      <td>cg21870274</td>\n",
       "      <td>0</td>\n",
       "      <td>+</td>\n",
       "    </tr>\n",
       "    <tr>\n",
       "      <th>1</th>\n",
       "      <td>chr1</td>\n",
       "      <td>864702</td>\n",
       "      <td>864704</td>\n",
       "      <td>cg08258224</td>\n",
       "      <td>0</td>\n",
       "      <td>-</td>\n",
       "    </tr>\n",
       "    <tr>\n",
       "      <th>2</th>\n",
       "      <td>chr1</td>\n",
       "      <td>870160</td>\n",
       "      <td>870162</td>\n",
       "      <td>cg16619049</td>\n",
       "      <td>0</td>\n",
       "      <td>-</td>\n",
       "    </tr>\n",
       "    <tr>\n",
       "      <th>3</th>\n",
       "      <td>chr1</td>\n",
       "      <td>877158</td>\n",
       "      <td>877160</td>\n",
       "      <td>cg18147296</td>\n",
       "      <td>0</td>\n",
       "      <td>-</td>\n",
       "    </tr>\n",
       "    <tr>\n",
       "      <th>4</th>\n",
       "      <td>chr1</td>\n",
       "      <td>898802</td>\n",
       "      <td>898804</td>\n",
       "      <td>cg13938959</td>\n",
       "      <td>0</td>\n",
       "      <td>+</td>\n",
       "    </tr>\n",
       "    <tr>\n",
       "      <th>...</th>\n",
       "      <td>...</td>\n",
       "      <td>...</td>\n",
       "      <td>...</td>\n",
       "      <td>...</td>\n",
       "      <td>...</td>\n",
       "      <td>...</td>\n",
       "    </tr>\n",
       "    <tr>\n",
       "      <th>331551</th>\n",
       "      <td>chr9</td>\n",
       "      <td>138119084</td>\n",
       "      <td>138119086</td>\n",
       "      <td>cg00378292</td>\n",
       "      <td>0</td>\n",
       "      <td>+</td>\n",
       "    </tr>\n",
       "    <tr>\n",
       "      <th>331552</th>\n",
       "      <td>chr9</td>\n",
       "      <td>138120221</td>\n",
       "      <td>138120223</td>\n",
       "      <td>cg07982825</td>\n",
       "      <td>0</td>\n",
       "      <td>-</td>\n",
       "    </tr>\n",
       "    <tr>\n",
       "      <th>331553</th>\n",
       "      <td>chr9</td>\n",
       "      <td>138122338</td>\n",
       "      <td>138122340</td>\n",
       "      <td>cg14491707</td>\n",
       "      <td>0</td>\n",
       "      <td>+</td>\n",
       "    </tr>\n",
       "    <tr>\n",
       "      <th>331554</th>\n",
       "      <td>chr9</td>\n",
       "      <td>138122548</td>\n",
       "      <td>138122550</td>\n",
       "      <td>cg13811936</td>\n",
       "      <td>0</td>\n",
       "      <td>-</td>\n",
       "    </tr>\n",
       "    <tr>\n",
       "      <th>331555</th>\n",
       "      <td>chr9</td>\n",
       "      <td>138123004</td>\n",
       "      <td>138123006</td>\n",
       "      <td>cg14022794</td>\n",
       "      <td>0</td>\n",
       "      <td>+</td>\n",
       "    </tr>\n",
       "  </tbody>\n",
       "</table>\n",
       "<p>331556 rows × 6 columns</p>\n",
       "</div>"
      ],
      "text/plain": [
       "        chrm      start        end        name  score strand\n",
       "0       chr1      69590      69592  cg21870274      0      +\n",
       "1       chr1     864702     864704  cg08258224      0      -\n",
       "2       chr1     870160     870162  cg16619049      0      -\n",
       "3       chr1     877158     877160  cg18147296      0      -\n",
       "4       chr1     898802     898804  cg13938959      0      +\n",
       "...      ...        ...        ...         ...    ...    ...\n",
       "331551  chr9  138119084  138119086  cg00378292      0      +\n",
       "331552  chr9  138120221  138120223  cg07982825      0      -\n",
       "331553  chr9  138122338  138122340  cg14491707      0      +\n",
       "331554  chr9  138122548  138122550  cg13811936      0      -\n",
       "331555  chr9  138123004  138123006  cg14022794      0      +\n",
       "\n",
       "[331556 rows x 6 columns]"
      ]
     },
     "execution_count": 2,
     "metadata": {},
     "output_type": "execute_result"
    }
   ],
   "source": [
    "# # read df_discovery and df_validation\n",
    "# df_discovery = pd.read_pickle(\n",
    "#     output_path+'3314samples_331556cpgs_withbatchcorrection_bvalues.pkl').sort_index().iloc[:,1:]\n",
    "\n",
    "# # Load the list of suboptimal probes\n",
    "# array_reference = pd.read_csv(zhou2016_probes_path, sep='\\t',index_col=0)\n",
    "\n",
    "# pacmap_reference = array_reference.loc[df_discovery.columns].reset_index()\n",
    "\n",
    "# # change values in `orientation` column to match the orientation of the probes in the discovery dataset\n",
    "# pacmap_reference['orientation'] = pacmap_reference['orientation'].map({'down': '-', 'up': '+'})\n",
    "# pacmap_reference['score'] = 0\n",
    "\n",
    "# # Rename `IlmnID` to `name` to follow BED standard\n",
    "# pacmap_reference = pacmap_reference.rename(columns={'IlmnID': 'name', 'orientation': 'strand'})\n",
    "\n",
    "# # Order columns\n",
    "# pacmap_reference = pacmap_reference[['chrm', 'start', 'end', 'name', 'score', 'strand', ]]\n",
    "\n",
    "# # Sort by `chrm` and `start`\n",
    "# pacmap_reference = pacmap_reference.sort_values(by=['chrm', 'start'])\n",
    "\n",
    "# pacmap_reference.to_csv('../data/pacmap_reference.bed', sep='\\t', index=False, header=False)\n",
    "\n",
    "pacmap_reference = pd.read_csv('../data/pacmap_reference.bed', sep='\\t',  names=['chrm', 'start', 'end', 'name', 'score', 'strand'])\n",
    "pacmap_reference\n",
    "\n",
    "#### OR CREATE A METHYLATION EPIC ARRAY REFERENCE BED FILE ####\n",
    "\n",
    "# # Load the list of suboptimal probes\n",
    "# array_reference = pd.read_csv(zhou2016_probes_path, sep='\\t',index_col=0).reset_index()\n",
    "\n",
    "# # rename \"probeID\" to \"name\"\n",
    "# array_reference = array_reference.rename(columns={'probeID': 'name'})\n",
    "\n",
    "# # remove rows where `chrm` is \"*\"\n",
    "# array_reference = array_reference.loc[array_reference['chrm'] != '*'].reset_index()\n",
    "\n",
    "# # array_reference = array_reference.loc[df_discovery.columns].reset_index()\n",
    "\n",
    "# # change values in `orientation` column to match the orientation of the probes in the discovery dataset\n",
    "# array_reference['orientation'] = array_reference['orientation'].map({'down': '-', 'up': '+'})\n",
    "# array_reference['score'] = 0\n",
    "\n",
    "# # Rename `IlmnID` to `name` to follow BED standard\n",
    "# array_reference = array_reference.rename(columns={'IlmnID': 'name', 'orientation': 'strand'})\n",
    "\n",
    "# # Order columns\n",
    "# array_reference = array_reference[['chrm', 'start', 'end', 'name', 'score', 'strand', ]]\n",
    "\n",
    "# # Sort by `chrm` and `start`\n",
    "# array_reference = array_reference.sort_values(by=['chrm', 'start'])\n",
    "\n",
    "# array_reference.to_csv('../data/array_reference.bed', sep='\\t', index=False, header=False)\n",
    "\n",
    "# array_reference = pd.read_csv('../data/array_reference.bed', sep='\\t',  names=['chrm', 'start', 'end', 'name', 'score', 'strand'])\n",
    "# array_reference"
   ]
  },
  {
   "cell_type": "markdown",
   "metadata": {},
   "source": [
    "## Combine samples into one dataset"
   ]
  },
  {
   "cell_type": "code",
   "execution_count": 3,
   "metadata": {
    "tags": [
     "hide-input"
    ]
   },
   "outputs": [
    {
     "data": {
      "text/html": [
       "<div>\n",
       "<style scoped>\n",
       "    .dataframe tbody tr th:only-of-type {\n",
       "        vertical-align: middle;\n",
       "    }\n",
       "\n",
       "    .dataframe tbody tr th {\n",
       "        vertical-align: top;\n",
       "    }\n",
       "\n",
       "    .dataframe thead th {\n",
       "        text-align: right;\n",
       "    }\n",
       "</style>\n",
       "<table border=\"1\" class=\"dataframe\">\n",
       "  <thead>\n",
       "    <tr style=\"text-align: right;\">\n",
       "      <th></th>\n",
       "      <th>uf1570_BM</th>\n",
       "      <th>uf1829_BM</th>\n",
       "      <th>uf1829_PB</th>\n",
       "      <th>uf1837_BM</th>\n",
       "      <th>uf1837_PB</th>\n",
       "      <th>uf1839_PB</th>\n",
       "      <th>uf1840_PB</th>\n",
       "      <th>uf1842_BM</th>\n",
       "      <th>uf1842_PB</th>\n",
       "      <th>uf1852_PB</th>\n",
       "      <th>uf1856_BM</th>\n",
       "      <th>uf1856_PB</th>\n",
       "    </tr>\n",
       "    <tr>\n",
       "      <th>name</th>\n",
       "      <th></th>\n",
       "      <th></th>\n",
       "      <th></th>\n",
       "      <th></th>\n",
       "      <th></th>\n",
       "      <th></th>\n",
       "      <th></th>\n",
       "      <th></th>\n",
       "      <th></th>\n",
       "      <th></th>\n",
       "      <th></th>\n",
       "      <th></th>\n",
       "    </tr>\n",
       "  </thead>\n",
       "  <tbody>\n",
       "    <tr>\n",
       "      <th>cg00000109</th>\n",
       "      <td>1.000</td>\n",
       "      <td>0.889</td>\n",
       "      <td>0.968</td>\n",
       "      <td>1.000</td>\n",
       "      <td>1.000</td>\n",
       "      <td>1.000</td>\n",
       "      <td>1.000</td>\n",
       "      <td>0.885</td>\n",
       "      <td>1.000</td>\n",
       "      <td>1.000</td>\n",
       "      <td>0.933</td>\n",
       "      <td>0.917</td>\n",
       "    </tr>\n",
       "    <tr>\n",
       "      <th>cg00000236</th>\n",
       "      <td>0.833</td>\n",
       "      <td>0.696</td>\n",
       "      <td>0.560</td>\n",
       "      <td>0.889</td>\n",
       "      <td>0.875</td>\n",
       "      <td>1.000</td>\n",
       "      <td>0.889</td>\n",
       "      <td>0.917</td>\n",
       "      <td>0.833</td>\n",
       "      <td>0.913</td>\n",
       "      <td>0.750</td>\n",
       "      <td>0.880</td>\n",
       "    </tr>\n",
       "    <tr>\n",
       "      <th>cg00000292</th>\n",
       "      <td>0.692</td>\n",
       "      <td>0.750</td>\n",
       "      <td>0.630</td>\n",
       "      <td>0.882</td>\n",
       "      <td>1.000</td>\n",
       "      <td>0.867</td>\n",
       "      <td>1.000</td>\n",
       "      <td>0.750</td>\n",
       "      <td>0.778</td>\n",
       "      <td>0.615</td>\n",
       "      <td>0.875</td>\n",
       "      <td>1.000</td>\n",
       "    </tr>\n",
       "    <tr>\n",
       "      <th>cg00000363</th>\n",
       "      <td>0.267</td>\n",
       "      <td>0.000</td>\n",
       "      <td>0.286</td>\n",
       "      <td>0.538</td>\n",
       "      <td>0.714</td>\n",
       "      <td>0.385</td>\n",
       "      <td>0.235</td>\n",
       "      <td>0.053</td>\n",
       "      <td>0.071</td>\n",
       "      <td>0.167</td>\n",
       "      <td>0.333</td>\n",
       "      <td>0.211</td>\n",
       "    </tr>\n",
       "    <tr>\n",
       "      <th>cg00000622</th>\n",
       "      <td>0.000</td>\n",
       "      <td>0.000</td>\n",
       "      <td>0.042</td>\n",
       "      <td>0.000</td>\n",
       "      <td>0.000</td>\n",
       "      <td>0.056</td>\n",
       "      <td>0.067</td>\n",
       "      <td>0.000</td>\n",
       "      <td>0.000</td>\n",
       "      <td>0.000</td>\n",
       "      <td>0.000</td>\n",
       "      <td>0.000</td>\n",
       "    </tr>\n",
       "    <tr>\n",
       "      <th>...</th>\n",
       "      <td>...</td>\n",
       "      <td>...</td>\n",
       "      <td>...</td>\n",
       "      <td>...</td>\n",
       "      <td>...</td>\n",
       "      <td>...</td>\n",
       "      <td>...</td>\n",
       "      <td>...</td>\n",
       "      <td>...</td>\n",
       "      <td>...</td>\n",
       "      <td>...</td>\n",
       "      <td>...</td>\n",
       "    </tr>\n",
       "    <tr>\n",
       "      <th>cg27665860</th>\n",
       "      <td>1.000</td>\n",
       "      <td>0.800</td>\n",
       "      <td>0.895</td>\n",
       "      <td>1.000</td>\n",
       "      <td>1.000</td>\n",
       "      <td>0.714</td>\n",
       "      <td>1.000</td>\n",
       "      <td>0.941</td>\n",
       "      <td>1.000</td>\n",
       "      <td>0.938</td>\n",
       "      <td>1.000</td>\n",
       "      <td>1.000</td>\n",
       "    </tr>\n",
       "    <tr>\n",
       "      <th>cg27665925</th>\n",
       "      <td>0.000</td>\n",
       "      <td>0.000</td>\n",
       "      <td>0.000</td>\n",
       "      <td>0.000</td>\n",
       "      <td>0.000</td>\n",
       "      <td>0.000</td>\n",
       "      <td>0.059</td>\n",
       "      <td>0.000</td>\n",
       "      <td>0.000</td>\n",
       "      <td>0.000</td>\n",
       "      <td>0.000</td>\n",
       "      <td>0.000</td>\n",
       "    </tr>\n",
       "    <tr>\n",
       "      <th>cg27665985</th>\n",
       "      <td>0.500</td>\n",
       "      <td>0.200</td>\n",
       "      <td>0.368</td>\n",
       "      <td>0.625</td>\n",
       "      <td>0.625</td>\n",
       "      <td>0.846</td>\n",
       "      <td>0.250</td>\n",
       "      <td>0.143</td>\n",
       "      <td>0.389</td>\n",
       "      <td>0.500</td>\n",
       "      <td>0.083</td>\n",
       "      <td>0.710</td>\n",
       "    </tr>\n",
       "    <tr>\n",
       "      <th>cg27666046</th>\n",
       "      <td>0.083</td>\n",
       "      <td>0.111</td>\n",
       "      <td>0.429</td>\n",
       "      <td>0.000</td>\n",
       "      <td>0.143</td>\n",
       "      <td>0.400</td>\n",
       "      <td>0.636</td>\n",
       "      <td>0.182</td>\n",
       "      <td>0.250</td>\n",
       "      <td>0.176</td>\n",
       "      <td>0.444</td>\n",
       "      <td>0.546</td>\n",
       "    </tr>\n",
       "    <tr>\n",
       "      <th>cg27666123</th>\n",
       "      <td>0.889</td>\n",
       "      <td>0.900</td>\n",
       "      <td>0.696</td>\n",
       "      <td>0.818</td>\n",
       "      <td>0.667</td>\n",
       "      <td>0.909</td>\n",
       "      <td>0.882</td>\n",
       "      <td>0.652</td>\n",
       "      <td>0.769</td>\n",
       "      <td>0.882</td>\n",
       "      <td>0.882</td>\n",
       "      <td>0.850</td>\n",
       "    </tr>\n",
       "  </tbody>\n",
       "</table>\n",
       "<p>331556 rows × 12 columns</p>\n",
       "</div>"
      ],
      "text/plain": [
       "            uf1570_BM  uf1829_BM  uf1829_PB  uf1837_BM  uf1837_PB  uf1839_PB  \\\n",
       "name                                                                           \n",
       "cg00000109      1.000      0.889      0.968      1.000      1.000      1.000   \n",
       "cg00000236      0.833      0.696      0.560      0.889      0.875      1.000   \n",
       "cg00000292      0.692      0.750      0.630      0.882      1.000      0.867   \n",
       "cg00000363      0.267      0.000      0.286      0.538      0.714      0.385   \n",
       "cg00000622      0.000      0.000      0.042      0.000      0.000      0.056   \n",
       "...               ...        ...        ...        ...        ...        ...   \n",
       "cg27665860      1.000      0.800      0.895      1.000      1.000      0.714   \n",
       "cg27665925      0.000      0.000      0.000      0.000      0.000      0.000   \n",
       "cg27665985      0.500      0.200      0.368      0.625      0.625      0.846   \n",
       "cg27666046      0.083      0.111      0.429      0.000      0.143      0.400   \n",
       "cg27666123      0.889      0.900      0.696      0.818      0.667      0.909   \n",
       "\n",
       "            uf1840_PB  uf1842_BM  uf1842_PB  uf1852_PB  uf1856_BM  uf1856_PB  \n",
       "name                                                                          \n",
       "cg00000109      1.000      0.885      1.000      1.000      0.933      0.917  \n",
       "cg00000236      0.889      0.917      0.833      0.913      0.750      0.880  \n",
       "cg00000292      1.000      0.750      0.778      0.615      0.875      1.000  \n",
       "cg00000363      0.235      0.053      0.071      0.167      0.333      0.211  \n",
       "cg00000622      0.067      0.000      0.000      0.000      0.000      0.000  \n",
       "...               ...        ...        ...        ...        ...        ...  \n",
       "cg27665860      1.000      0.941      1.000      0.938      1.000      1.000  \n",
       "cg27665925      0.059      0.000      0.000      0.000      0.000      0.000  \n",
       "cg27665985      0.250      0.143      0.389      0.500      0.083      0.710  \n",
       "cg27666046      0.636      0.182      0.250      0.176      0.444      0.546  \n",
       "cg27666123      0.882      0.652      0.769      0.882      0.882      0.850  \n",
       "\n",
       "[331556 rows x 12 columns]"
      ]
     },
     "execution_count": 3,
     "metadata": {},
     "output_type": "execute_result"
    }
   ],
   "source": [
    "import sys\n",
    "sys.path.append('../')\n",
    "# from utils.bed_to_pickle import bed_to_pickle\n",
    "\n",
    "# df = bed_to_pickle()\n",
    "\n",
    "# Read bed_to_pickle.py output\n",
    "df = pd.read_pickle('/mnt/e/nanopore_processed/bed/12samples_331556cpgs_nanopore_bvalues.pkl').sort_index(axis=1).T.astype('float32')\n",
    "df"
   ]
  },
  {
   "cell_type": "markdown",
   "metadata": {},
   "source": [
    "### Evaluate missing values"
   ]
  },
  {
   "cell_type": "code",
   "execution_count": 4,
   "metadata": {
    "tags": [
     "hide-input"
    ]
   },
   "outputs": [
    {
     "data": {
      "text/plain": [
       "<Axes: >"
      ]
     },
     "execution_count": 4,
     "metadata": {},
     "output_type": "execute_result"
    },
    {
     "data": {
      "image/png": "[encoded data removed]",
      "text/plain": [
       "<Figure size 2500x1000 with 2 Axes>"
      ]
     },
     "metadata": {},
     "output_type": "display_data"
    }
   ],
   "source": [
    "import missingno as msno\n",
    "\n",
    "# Plot the missing values\n",
    "msno.matrix(df.iloc[20200:20400,:].T.reset_index(drop=True))"
   ]
  },
  {
   "cell_type": "markdown",
   "metadata": {},
   "source": [
    "## Impute remaining missing values"
   ]
  },
  {
   "cell_type": "code",
   "execution_count": 5,
   "metadata": {
    "tags": [
     "hide-input"
    ]
   },
   "outputs": [
    {
     "data": {
      "text/plain": [
       "<Axes: >"
      ]
     },
     "execution_count": 5,
     "metadata": {},
     "output_type": "execute_result"
    },
    {
     "data": {
      "image/png": "[encoded data removed]",
      "text/plain": [
       "<Figure size 2500x1000 with 2 Axes>"
      ]
     },
     "metadata": {},
     "output_type": "display_data"
    }
   ],
   "source": [
    "from utils.impute import load_model_and_impute\n",
    "\n",
    "df2 = load_model_and_impute(df, model_path='../models/imputer_model.joblib')\n",
    "\n",
    "# Plot the missing values\n",
    "msno.matrix(df2.iloc[20200:20400,:].T.reset_index(drop=True))"
   ]
  },
  {
   "cell_type": "markdown",
   "metadata": {},
   "source": [
    "## Save dataset"
   ]
  },
  {
   "cell_type": "code",
   "execution_count": 6,
   "metadata": {
    "tags": [
     "hide-input"
    ]
   },
   "outputs": [
    {
     "name": "stdout",
     "output_type": "stream",
     "text": [
      "Successfuly saved at: /mnt/e/ALMA/Intermediate_Files/12samples_331556cpgs_nanoporeseq_bvalues.pkl\n"
     ]
    }
   ],
   "source": [
    "df2 = df2.T\n",
    "\n",
    "dataset_title = f'{df2.shape[0]}samples_{df2.shape[1]}cpgs_nanoporeseq_bvalues.pkl'\n",
    "\n",
    "df2.to_pickle(output_path + dataset_title)\n",
    "\n",
    "print(f'Successfuly saved at: {output_path + dataset_title}')"
   ]
  },
  {
   "cell_type": "markdown",
   "metadata": {},
   "source": [
    "## Watermark"
   ]
  },
  {
   "cell_type": "code",
   "execution_count": 7,
   "metadata": {
    "tags": [
     "remove-input"
    ]
   },
   "outputs": [],
   "source": [
    "%load_ext watermark"
   ]
  },
  {
   "cell_type": "code",
   "execution_count": 8,
   "metadata": {
    "tags": [
     "remove-input"
    ]
   },
   "outputs": [
    {
     "name": "stdout",
     "output_type": "stream",
     "text": [
      "Author: Francisco_Marchi@Lamba_Lab_UF\n",
      "\n",
      "Last updated: 2024-09-18\n",
      "\n",
      "Python implementation: CPython\n",
      "Python version       : 3.8.18\n",
      "IPython version      : 8.12.3\n",
      "\n",
      "pandas: 2.0.3\n",
      "\n",
      "Compiler    : GCC 11.4.0\n",
      "OS          : Linux\n",
      "Release     : 5.15.133.1-microsoft-standard-WSL2\n",
      "Machine     : x86_64\n",
      "Processor   : x86_64\n",
      "CPU cores   : 32\n",
      "Architecture: 64bit\n",
      "\n",
      "Git repo: git@github.com:f-marchi/ALMA.git\n",
      "\n"
     ]
    }
   ],
   "source": [
    "%watermark -v -p pandas -a Francisco_Marchi@Lamba_Lab_UF -d -m -r -u"
   ]
  }
 ],
 "metadata": {
  "kernelspec": {
   "display_name": ".venv_py38",
   "language": "python",
   "name": "python3"
  },
  "language_info": {
   "codemirror_mode": {
    "name": "ipython",
    "version": 3
   },
   "file_extension": ".py",
   "mimetype": "text/x-python",
   "name": "python",
   "nbconvert_exporter": "python",
   "pygments_lexer": "ipython3",
   "version": "3.8.18"
  }
 },
 "nbformat": 4,
 "nbformat_minor": 2
}
