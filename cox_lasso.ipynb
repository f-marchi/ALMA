{
 "cells": [
  {
   "cell_type": "code",
   "execution_count": 13,
   "metadata": {},
   "outputs": [
    {
     "name": "stdout",
     "output_type": "stream",
     "text": [
      " Dataset (df) contains 333352 columns (5mC nucleotides/probes) and 3330 rows (samples).\n"
     ]
    }
   ],
   "source": [
    "import pandas as pd\n",
    "\n",
    "input_path = '../Data/Intermediate_Files/'\n",
    "clinical_data_path = '../Data/Raw_Data/Clinical_Data/'\n",
    "output_path = '../Data/Processed_Data/'\n",
    "\n",
    "\n",
    "df_methyl = pd.read_pickle(\n",
    "    input_path+'df_batch_uncorrected.pkl').sort_index()\n",
    "\n",
    "print(\n",
    "    f' Dataset (df) contains {df_methyl.shape[1]} columns (5mC nucleotides/probes) and {df_methyl.shape[0]} rows (samples).')\n",
    "\n",
    "# Import functions to clean up clinical data\n",
    "from FM_Functions.Clinical_Data_CleanUp import *\n",
    "\n",
    "# Call functions to merge, index and clean clinical data files\n",
    "labels_0531         = clean_cog       (merge_index_0531())\n",
    "labels_1031         = clean_cog       (merge_index_1031())\n",
    "labels_aml05        = clean_aml05     (merge_index_aml05())\n",
    "labels_beataml      = clean_beataml   (merge_index_beataml())\n",
    "labels_amltcga      = clean_amltcga   (merge_index_amltcga())\n",
    "labels_nordic_all   = clean_nordic_all(merge_index_nordic_all())\n",
    "labels_mds_taml     = clean_mds_taml  (merge_index_mds_taml())\n",
    "labels_all_graal    = clean_all_graal (merge_index_all_graal())\n",
    "labels_target_all   = clean_target_all(merge_index_target_all())\n",
    "\n",
    "# Combine all clinical data labels into one dataframe\n",
    "labels_combined = pd.concat([labels_aml05, labels_beataml,\n",
    "                         labels_0531, labels_amltcga, labels_1031,\n",
    "                        labels_nordic_all, labels_mds_taml,\n",
    "                        labels_all_graal,labels_target_all], axis=0, join='outer')\n",
    "\n",
    "# read x_top from output file\n",
    "x = pd.read_pickle(output_path+'ewas_dmr/ewas_top_x.pkl')\n",
    "\n",
    "# Remove samples that are not in the methyl dataset\n",
    "df_labels = labels_combined.loc[labels_combined.index.isin(x.index)].sort_index()"
   ]
  },
  {
   "cell_type": "code",
   "execution_count": 19,
   "metadata": {},
   "outputs": [
    {
     "name": "stdout",
     "output_type": "stream",
     "text": [
      "Running Cox-Lasso through 10 loops:\n"
     ]
    },
    {
     "name": "stderr",
     "output_type": "stream",
     "text": [
      "  0%|          | 0/10 [00:00<?, ?it/s]/home/fmarchi/projects/MethylScore/Code/.venv_py38/lib/python3.8/site-packages/sklearn/pipeline.py:405: UserWarning: all coefficients are zero, consider decreasing alpha.\n",
      "  self._final_estimator.fit(Xt, y, **fit_params_last_step)\n",
      "/home/fmarchi/projects/MethylScore/Code/.venv_py38/lib/python3.8/site-packages/sklearn/pipeline.py:405: UserWarning: all coefficients are zero, consider decreasing alpha.\n",
      "  self._final_estimator.fit(Xt, y, **fit_params_last_step)\n",
      " 10%|█         | 1/10 [00:00<00:05,  1.74it/s]/home/fmarchi/projects/MethylScore/Code/.venv_py38/lib/python3.8/site-packages/sklearn/pipeline.py:405: UserWarning: all coefficients are zero, consider decreasing alpha.\n",
      "  self._final_estimator.fit(Xt, y, **fit_params_last_step)\n",
      "/home/fmarchi/projects/MethylScore/Code/.venv_py38/lib/python3.8/site-packages/sklearn/pipeline.py:405: UserWarning: all coefficients are zero, consider decreasing alpha.\n",
      "  self._final_estimator.fit(Xt, y, **fit_params_last_step)\n",
      " 20%|██        | 2/10 [00:01<00:04,  1.72it/s]/home/fmarchi/projects/MethylScore/Code/.venv_py38/lib/python3.8/site-packages/sklearn/pipeline.py:405: UserWarning: all coefficients are zero, consider decreasing alpha.\n",
      "  self._final_estimator.fit(Xt, y, **fit_params_last_step)\n",
      " 30%|███       | 3/10 [00:01<00:04,  1.69it/s]/home/fmarchi/projects/MethylScore/Code/.venv_py38/lib/python3.8/site-packages/sklearn/pipeline.py:405: UserWarning: all coefficients are zero, consider decreasing alpha.\n",
      "  self._final_estimator.fit(Xt, y, **fit_params_last_step)\n",
      " 50%|█████     | 5/10 [00:02<00:03,  1.65it/s]/home/fmarchi/projects/MethylScore/Code/.venv_py38/lib/python3.8/site-packages/sklearn/pipeline.py:405: UserWarning: all coefficients are zero, consider decreasing alpha.\n",
      "  self._final_estimator.fit(Xt, y, **fit_params_last_step)\n",
      "/home/fmarchi/projects/MethylScore/Code/.venv_py38/lib/python3.8/site-packages/sklearn/pipeline.py:405: UserWarning: all coefficients are zero, consider decreasing alpha.\n",
      "  self._final_estimator.fit(Xt, y, **fit_params_last_step)\n",
      " 70%|███████   | 7/10 [00:04<00:01,  1.63it/s]/home/fmarchi/projects/MethylScore/Code/.venv_py38/lib/python3.8/site-packages/sklearn/pipeline.py:405: UserWarning: all coefficients are zero, consider decreasing alpha.\n",
      "  self._final_estimator.fit(Xt, y, **fit_params_last_step)\n",
      " 80%|████████  | 8/10 [00:04<00:01,  1.61it/s]/home/fmarchi/projects/MethylScore/Code/.venv_py38/lib/python3.8/site-packages/sklearn/pipeline.py:405: UserWarning: all coefficients are zero, consider decreasing alpha.\n",
      "  self._final_estimator.fit(Xt, y, **fit_params_last_step)\n",
      "100%|██████████| 10/10 [00:06<00:00,  1.63it/s]"
     ]
    },
    {
     "name": "stdout",
     "output_type": "stream",
     "text": [
      "Cox-Lasso Trained Successfuly!\n",
      "Selected alpha value: [0.021377780404390822]\n"
     ]
    },
    {
     "name": "stderr",
     "output_type": "stream",
     "text": [
      "\n"
     ]
    }
   ],
   "source": [
    "# Import functions to clean up clinical data\n",
    "from FM_Functions.Cox_Lasso_Function import *\n",
    "\n",
    "# Train Cox-PH model with LASSO\n",
    "coefs = train_coxph_lasso(df=df_labels, event='os.evnt', time='os.time',\n",
    "                          train_x=x.iloc[:,:100], cv_n_split=3, loops=10)"
   ]
  }
 ],
 "metadata": {
  "kernelspec": {
   "display_name": ".venv_py38",
   "language": "python",
   "name": "python3"
  },
  "language_info": {
   "codemirror_mode": {
    "name": "ipython",
    "version": 3
   },
   "file_extension": ".py",
   "mimetype": "text/x-python",
   "name": "python",
   "nbconvert_exporter": "python",
   "pygments_lexer": "ipython3",
   "version": "3.8.16"
  },
  "orig_nbformat": 4
 },
 "nbformat": 4,
 "nbformat_minor": 2
}
