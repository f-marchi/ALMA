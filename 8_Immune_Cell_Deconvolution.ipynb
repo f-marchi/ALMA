{
 "cells": [
  {
   "attachments": {},
   "cell_type": "markdown",
   "metadata": {},
   "source": [
    "# Immune Cell Deconvolution"
   ]
  },
  {
   "cell_type": "markdown",
   "metadata": {},
   "source": [
    "## Where the data at?"
   ]
  },
  {
   "cell_type": "code",
   "execution_count": 1,
   "metadata": {},
   "outputs": [],
   "source": [
    "input_path = '../Data/Processed_Data/'\n",
    "output_path = '../Data/Processed_Data/Blood_Deconvolution_ARIC/'"
   ]
  },
  {
   "attachments": {},
   "cell_type": "markdown",
   "metadata": {},
   "source": [
    "## Load AML Dataset"
   ]
  },
  {
   "cell_type": "code",
   "execution_count": 2,
   "metadata": {},
   "outputs": [],
   "source": [
    "import pandas as pd\n",
    "\n",
    "x = pd.read_pickle(input_path+'x.pkl')\n",
    "y = pd.read_csv(input_path+'y.csv', index_col=0)"
   ]
  },
  {
   "cell_type": "markdown",
   "metadata": {},
   "source": [
    "## Test Train Split"
   ]
  },
  {
   "cell_type": "code",
   "execution_count": 3,
   "metadata": {},
   "outputs": [
    {
     "data": {
      "text/plain": [
       "AAML1031    520\n",
       "AAML0531    508\n",
       "AML02       162\n",
       "AML05        64\n",
       "AML08        42\n",
       "AAML03P1     36\n",
       "CCG2961      14\n",
       "Name: Clinical Trial, dtype: int64"
      ]
     },
     "execution_count": 3,
     "metadata": {},
     "output_type": "execute_result"
    }
   ],
   "source": [
    "y['Clinical Trial'].value_counts(dropna=False)"
   ]
  },
  {
   "cell_type": "code",
   "execution_count": 4,
   "metadata": {},
   "outputs": [],
   "source": [
    "y_train = y[~y['Clinical Trial'].isin(['AML02','AML08'])]\n",
    "y_test = y[y['Clinical Trial'].isin(['AML02','AML08'])]"
   ]
  },
  {
   "cell_type": "code",
   "execution_count": 5,
   "metadata": {},
   "outputs": [],
   "source": [
    "# Select samples in x that are in y_train\n",
    "x_train = x.loc[y_train.index]\n",
    "x_test = x.loc[y_test.index]"
   ]
  },
  {
   "cell_type": "code",
   "execution_count": 6,
   "metadata": {},
   "outputs": [
    {
     "data": {
      "text/plain": [
       "((1142, 310545), (204, 310545))"
      ]
     },
     "execution_count": 6,
     "metadata": {},
     "output_type": "execute_result"
    }
   ],
   "source": [
    "x_train.shape, x_test.shape"
   ]
  },
  {
   "cell_type": "markdown",
   "metadata": {},
   "source": [
    "## Batch Correction with pyCombat"
   ]
  },
  {
   "attachments": {},
   "cell_type": "markdown",
   "metadata": {},
   "source": [
    "- __pyCombat__: a Python tool for batch effects correction in high-throughput molecular data using empirical Bayes methods\n",
    "\n",
    "- __Website__: [https://epigenelabs.github.io/pyComBat/](https://epigenelabs.github.io/pyComBat/)\n",
    "\n",
    "- __Paper__: [bioRxiv](https://doi.org/10.1101/2020.03.17.995431)"
   ]
  },
  {
   "cell_type": "code",
   "execution_count": 7,
   "metadata": {},
   "outputs": [
    {
     "name": "stdout",
     "output_type": "stream",
     "text": [
      "Found 4 batches.\n",
      "Adjusting for 0 covariate(s) or covariate level(s).\n",
      "Standardizing Data across genes.\n",
      "Fitting L/S model and finding priors.\n",
      "Finding parametric adjustments.\n",
      "Adjusting the Data\n"
     ]
    }
   ],
   "source": [
    "from combat.pycombat import pycombat\n",
    "data_corrected = pycombat(x_train.T,y_train['Batch'])\n",
    "x_train2 = data_corrected.T"
   ]
  },
  {
   "attachments": {},
   "cell_type": "markdown",
   "metadata": {},
   "source": [
    "## Load Reference Dataset"
   ]
  },
  {
   "cell_type": "markdown",
   "metadata": {},
   "source": [
    "- __FlowSorted.Blood.EPIC__: An optimized library for reference-based deconvolution of whole-blood biospecimens, __n=49__\n",
    "\n",
    "- __GEO__: [GSE110554](https://www.ncbi.nlm.nih.gov/geo/query/acc.cgi?acc=GSE110554)\n",
    "\n",
    "- __PMID__: [29843789](https://www.ncbi.nlm.nih.gov/pubmed/29843789)\n",
    "\n",
    "- __Description__:  Bisulphite converted DNA from neutrophils (Neu, n=6), monocytes (Mono, n=6), B-lymphocytes (Bcells, n=6), CD4+ T-cells (CD4T, n=7, six samples and one technical replicate), CD8+ T-cells (CD8T, n=6), Natural Killer cells (NK, n=6), and 12 DNA artificial mixtures (labeled as MIX in the dataset) were hybridised to the Illumina Infinium HumanMethylationEPIC Beadchip v1.0_B4\n",
    "\n",
    "- __CSV file__: [Download](https://static-content.springer.com/esm/art%3A10.1186%2Fs13059-018-1448-7/MediaObjects/13059_2018_1448_MOESM4_ESM.csv)"
   ]
  },
  {
   "cell_type": "code",
   "execution_count": 16,
   "metadata": {},
   "outputs": [],
   "source": [
    "ref = pd.read_csv('https://static-content.springer.com/esm/art%3A10.1186%2Fs13059-018-1448-7/MediaObjects/13059_2018_1448_MOESM4_ESM.csv',\n",
    "                  index_col=0, skiprows=1)[['CD8T','CD4T','NK','Bcell','Mono','Neu']]\n",
    "\n",
    "# File has also been downloaded locally under \".../Data/Blood_Reference_PMID29843789\" as backup in case Springer link is down\n",
    "\n",
    "mix = x_train.T\n",
    "merge = ref.join(mix, how='inner')\n",
    "\n",
    "# update ref and mix with merge index\n",
    "ref = ref.loc[merge.index]\n",
    "mix = mix.loc[merge.index]\n",
    "\n",
    "# save ref and mix to csv\n",
    "ref.to_csv(output_path+'ref.csv')\n",
    "mix.to_csv(output_path+'mix.csv')"
   ]
  },
  {
   "attachments": {},
   "cell_type": "markdown",
   "metadata": {},
   "source": [
    "## Immune Cell Deconvolution with ARIC"
   ]
  },
  {
   "attachments": {},
   "cell_type": "markdown",
   "metadata": {},
   "source": [
    "- __ARIC__: Accurate and robust inference of cell type proportions from bulk gene expression or DNA methylation data\n",
    "\n",
    "- __Website__: [xwanglabthu.github.io/ARIC/](xwanglabthu.github.io/ARIC/)\n",
    "\n",
    "- __PMID__: [34472588](https://pubmed.ncbi.nlm.nih.gov/34472588/)\n",
    "\n",
    "- __External Validation__: [A systematic assessment of cell type deconvolution algorithms for DNA methylation data](https://doi.org/10.1093/bib/bbac449)"
   ]
  },
  {
   "cell_type": "code",
   "execution_count": 29,
   "metadata": {},
   "outputs": [
    {
     "name": "stdout",
     "output_type": "stream",
     "text": [
      "---------------------------------------------\n",
      "--------------WELCOME TO ARIC----------------\n",
      "---------------------------------------------\n",
      "Data reading finished!\n",
      "ARIC Engines Start, Please Wait......\n"
     ]
    },
    {
     "name": "stderr",
     "output_type": "stream",
     "text": [
      "100%|██████████| 1142/1142 [00:26<00:00, 43.52it/s]"
     ]
    },
    {
     "name": "stdout",
     "output_type": "stream",
     "text": [
      "Deconvo Results Saving!\n",
      "Finished!\n"
     ]
    },
    {
     "name": "stderr",
     "output_type": "stream",
     "text": [
      "\n"
     ]
    }
   ],
   "source": [
    "from ARIC import *\n",
    "\n",
    "ARIC(mix_path=output_path+'mix.csv', ref_path=output_path+'ref.csv',\n",
    "     is_methylation=True, unknown=False)"
   ]
  },
  {
   "cell_type": "code",
   "execution_count": 30,
   "metadata": {},
   "outputs": [],
   "source": [
    "# Read deconvolution results\n",
    "\n",
    "deconv = pd.read_csv(output_path+'mix_prop.csv', index_col=0)"
   ]
  },
  {
   "cell_type": "code",
   "execution_count": 32,
   "metadata": {},
   "outputs": [
    {
     "data": {
      "text/html": [
       "<div>\n",
       "<style scoped>\n",
       "    .dataframe tbody tr th:only-of-type {\n",
       "        vertical-align: middle;\n",
       "    }\n",
       "\n",
       "    .dataframe tbody tr th {\n",
       "        vertical-align: top;\n",
       "    }\n",
       "\n",
       "    .dataframe thead th {\n",
       "        text-align: right;\n",
       "    }\n",
       "</style>\n",
       "<table border=\"1\" class=\"dataframe\">\n",
       "  <thead>\n",
       "    <tr style=\"text-align: right;\">\n",
       "      <th></th>\n",
       "      <th>201005010090_R03C01</th>\n",
       "      <th>201005010034_R05C01</th>\n",
       "      <th>201005010090_R02C01</th>\n",
       "      <th>201005010034_R06C01</th>\n",
       "      <th>201005010090_R04C01</th>\n",
       "      <th>201005010090_R05C01</th>\n",
       "      <th>201005010090_R01C01</th>\n",
       "      <th>201005010090_R06C01</th>\n",
       "      <th>201005010090_R07C01</th>\n",
       "      <th>201005010090_R08C01</th>\n",
       "      <th>...</th>\n",
       "      <th>200526210087_R07C01</th>\n",
       "      <th>200526210082_R01C01</th>\n",
       "      <th>200517480142_R07C01</th>\n",
       "      <th>200526210087_R01C01</th>\n",
       "      <th>200526210091_R02C01</th>\n",
       "      <th>200526210048_R07C01</th>\n",
       "      <th>200517480143_R01C01</th>\n",
       "      <th>200517480142_R04C01</th>\n",
       "      <th>200526210091_R07C01</th>\n",
       "      <th>200517480143_R04C01</th>\n",
       "    </tr>\n",
       "    <tr>\n",
       "      <th>cell types</th>\n",
       "      <th></th>\n",
       "      <th></th>\n",
       "      <th></th>\n",
       "      <th></th>\n",
       "      <th></th>\n",
       "      <th></th>\n",
       "      <th></th>\n",
       "      <th></th>\n",
       "      <th></th>\n",
       "      <th></th>\n",
       "      <th></th>\n",
       "      <th></th>\n",
       "      <th></th>\n",
       "      <th></th>\n",
       "      <th></th>\n",
       "      <th></th>\n",
       "      <th></th>\n",
       "      <th></th>\n",
       "      <th></th>\n",
       "      <th></th>\n",
       "      <th></th>\n",
       "    </tr>\n",
       "  </thead>\n",
       "  <tbody>\n",
       "    <tr>\n",
       "      <th>CD8T</th>\n",
       "      <td>0.040796</td>\n",
       "      <td>0.093658</td>\n",
       "      <td>0.131161</td>\n",
       "      <td>0.141251</td>\n",
       "      <td>0.152796</td>\n",
       "      <td>0.086805</td>\n",
       "      <td>0.027893</td>\n",
       "      <td>0.150081</td>\n",
       "      <td>0.039892</td>\n",
       "      <td>0.019137</td>\n",
       "      <td>...</td>\n",
       "      <td>0.075541</td>\n",
       "      <td>0.016774</td>\n",
       "      <td>0.036538</td>\n",
       "      <td>0.016605</td>\n",
       "      <td>0.005556</td>\n",
       "      <td>0.104392</td>\n",
       "      <td>0.076321</td>\n",
       "      <td>0.058009</td>\n",
       "      <td>0.014174</td>\n",
       "      <td>0.042775</td>\n",
       "    </tr>\n",
       "    <tr>\n",
       "      <th>CD4T</th>\n",
       "      <td>0.132652</td>\n",
       "      <td>0.125704</td>\n",
       "      <td>0.153804</td>\n",
       "      <td>0.144729</td>\n",
       "      <td>0.150274</td>\n",
       "      <td>0.153148</td>\n",
       "      <td>0.103960</td>\n",
       "      <td>0.166147</td>\n",
       "      <td>0.155880</td>\n",
       "      <td>0.167041</td>\n",
       "      <td>...</td>\n",
       "      <td>0.183274</td>\n",
       "      <td>0.225158</td>\n",
       "      <td>0.147381</td>\n",
       "      <td>0.150418</td>\n",
       "      <td>0.139803</td>\n",
       "      <td>0.181001</td>\n",
       "      <td>0.219949</td>\n",
       "      <td>0.127744</td>\n",
       "      <td>0.134903</td>\n",
       "      <td>0.176982</td>\n",
       "    </tr>\n",
       "    <tr>\n",
       "      <th>NK</th>\n",
       "      <td>0.083292</td>\n",
       "      <td>0.068569</td>\n",
       "      <td>0.075570</td>\n",
       "      <td>0.105339</td>\n",
       "      <td>0.105224</td>\n",
       "      <td>0.118560</td>\n",
       "      <td>0.070583</td>\n",
       "      <td>0.071844</td>\n",
       "      <td>0.033575</td>\n",
       "      <td>0.076409</td>\n",
       "      <td>...</td>\n",
       "      <td>0.072611</td>\n",
       "      <td>0.111069</td>\n",
       "      <td>0.098437</td>\n",
       "      <td>0.132589</td>\n",
       "      <td>0.108946</td>\n",
       "      <td>0.024600</td>\n",
       "      <td>0.005034</td>\n",
       "      <td>0.054445</td>\n",
       "      <td>0.068907</td>\n",
       "      <td>0.085902</td>\n",
       "    </tr>\n",
       "    <tr>\n",
       "      <th>Bcell</th>\n",
       "      <td>0.244599</td>\n",
       "      <td>0.158814</td>\n",
       "      <td>0.096914</td>\n",
       "      <td>0.142142</td>\n",
       "      <td>0.107323</td>\n",
       "      <td>0.146335</td>\n",
       "      <td>0.147479</td>\n",
       "      <td>0.140536</td>\n",
       "      <td>0.104748</td>\n",
       "      <td>0.039003</td>\n",
       "      <td>...</td>\n",
       "      <td>0.099132</td>\n",
       "      <td>0.172013</td>\n",
       "      <td>0.173018</td>\n",
       "      <td>0.207550</td>\n",
       "      <td>0.093517</td>\n",
       "      <td>0.121235</td>\n",
       "      <td>0.212112</td>\n",
       "      <td>0.039044</td>\n",
       "      <td>0.118135</td>\n",
       "      <td>0.145913</td>\n",
       "    </tr>\n",
       "    <tr>\n",
       "      <th>Mono</th>\n",
       "      <td>0.374861</td>\n",
       "      <td>0.329469</td>\n",
       "      <td>0.295299</td>\n",
       "      <td>0.272450</td>\n",
       "      <td>0.303336</td>\n",
       "      <td>0.293916</td>\n",
       "      <td>0.252455</td>\n",
       "      <td>0.262171</td>\n",
       "      <td>0.493960</td>\n",
       "      <td>0.466387</td>\n",
       "      <td>...</td>\n",
       "      <td>0.350823</td>\n",
       "      <td>0.412535</td>\n",
       "      <td>0.302166</td>\n",
       "      <td>0.229190</td>\n",
       "      <td>0.334315</td>\n",
       "      <td>0.318272</td>\n",
       "      <td>0.302303</td>\n",
       "      <td>0.393403</td>\n",
       "      <td>0.354223</td>\n",
       "      <td>0.331445</td>\n",
       "    </tr>\n",
       "    <tr>\n",
       "      <th>Neu</th>\n",
       "      <td>0.123799</td>\n",
       "      <td>0.223786</td>\n",
       "      <td>0.247251</td>\n",
       "      <td>0.194090</td>\n",
       "      <td>0.181047</td>\n",
       "      <td>0.201236</td>\n",
       "      <td>0.397631</td>\n",
       "      <td>0.209221</td>\n",
       "      <td>0.171945</td>\n",
       "      <td>0.232023</td>\n",
       "      <td>...</td>\n",
       "      <td>0.218619</td>\n",
       "      <td>0.062450</td>\n",
       "      <td>0.242460</td>\n",
       "      <td>0.263648</td>\n",
       "      <td>0.317863</td>\n",
       "      <td>0.250499</td>\n",
       "      <td>0.184281</td>\n",
       "      <td>0.327356</td>\n",
       "      <td>0.309659</td>\n",
       "      <td>0.216984</td>\n",
       "    </tr>\n",
       "  </tbody>\n",
       "</table>\n",
       "<p>6 rows × 1142 columns</p>\n",
       "</div>"
      ],
      "text/plain": [
       "            201005010090_R03C01  201005010034_R05C01  201005010090_R02C01  \\\n",
       "cell types                                                                  \n",
       "CD8T                   0.040796             0.093658             0.131161   \n",
       "CD4T                   0.132652             0.125704             0.153804   \n",
       "NK                     0.083292             0.068569             0.075570   \n",
       "Bcell                  0.244599             0.158814             0.096914   \n",
       "Mono                   0.374861             0.329469             0.295299   \n",
       "Neu                    0.123799             0.223786             0.247251   \n",
       "\n",
       "            201005010034_R06C01  201005010090_R04C01  201005010090_R05C01  \\\n",
       "cell types                                                                  \n",
       "CD8T                   0.141251             0.152796             0.086805   \n",
       "CD4T                   0.144729             0.150274             0.153148   \n",
       "NK                     0.105339             0.105224             0.118560   \n",
       "Bcell                  0.142142             0.107323             0.146335   \n",
       "Mono                   0.272450             0.303336             0.293916   \n",
       "Neu                    0.194090             0.181047             0.201236   \n",
       "\n",
       "            201005010090_R01C01  201005010090_R06C01  201005010090_R07C01  \\\n",
       "cell types                                                                  \n",
       "CD8T                   0.027893             0.150081             0.039892   \n",
       "CD4T                   0.103960             0.166147             0.155880   \n",
       "NK                     0.070583             0.071844             0.033575   \n",
       "Bcell                  0.147479             0.140536             0.104748   \n",
       "Mono                   0.252455             0.262171             0.493960   \n",
       "Neu                    0.397631             0.209221             0.171945   \n",
       "\n",
       "            201005010090_R08C01  ...  200526210087_R07C01  \\\n",
       "cell types                       ...                        \n",
       "CD8T                   0.019137  ...             0.075541   \n",
       "CD4T                   0.167041  ...             0.183274   \n",
       "NK                     0.076409  ...             0.072611   \n",
       "Bcell                  0.039003  ...             0.099132   \n",
       "Mono                   0.466387  ...             0.350823   \n",
       "Neu                    0.232023  ...             0.218619   \n",
       "\n",
       "            200526210082_R01C01  200517480142_R07C01  200526210087_R01C01  \\\n",
       "cell types                                                                  \n",
       "CD8T                   0.016774             0.036538             0.016605   \n",
       "CD4T                   0.225158             0.147381             0.150418   \n",
       "NK                     0.111069             0.098437             0.132589   \n",
       "Bcell                  0.172013             0.173018             0.207550   \n",
       "Mono                   0.412535             0.302166             0.229190   \n",
       "Neu                    0.062450             0.242460             0.263648   \n",
       "\n",
       "            200526210091_R02C01  200526210048_R07C01  200517480143_R01C01  \\\n",
       "cell types                                                                  \n",
       "CD8T                   0.005556             0.104392             0.076321   \n",
       "CD4T                   0.139803             0.181001             0.219949   \n",
       "NK                     0.108946             0.024600             0.005034   \n",
       "Bcell                  0.093517             0.121235             0.212112   \n",
       "Mono                   0.334315             0.318272             0.302303   \n",
       "Neu                    0.317863             0.250499             0.184281   \n",
       "\n",
       "            200517480142_R04C01  200526210091_R07C01  200517480143_R04C01  \n",
       "cell types                                                                 \n",
       "CD8T                   0.058009             0.014174             0.042775  \n",
       "CD4T                   0.127744             0.134903             0.176982  \n",
       "NK                     0.054445             0.068907             0.085902  \n",
       "Bcell                  0.039044             0.118135             0.145913  \n",
       "Mono                   0.393403             0.354223             0.331445  \n",
       "Neu                    0.327356             0.309659             0.216984  \n",
       "\n",
       "[6 rows x 1142 columns]"
      ]
     },
     "execution_count": 32,
     "metadata": {},
     "output_type": "execute_result"
    }
   ],
   "source": [
    "deconv"
   ]
  },
  {
   "cell_type": "code",
   "execution_count": null,
   "metadata": {},
   "outputs": [],
   "source": []
  }
 ],
 "metadata": {
  "kernelspec": {
   "display_name": ".venv_sklearn",
   "language": "python",
   "name": "python3"
  },
  "language_info": {
   "codemirror_mode": {
    "name": "ipython",
    "version": 3
   },
   "file_extension": ".py",
   "mimetype": "text/x-python",
   "name": "python",
   "nbconvert_exporter": "python",
   "pygments_lexer": "ipython3",
   "version": "3.10.9"
  },
  "orig_nbformat": 4,
  "vscode": {
   "interpreter": {
    "hash": "bea0b97f2aeab51a41f683aa60895cc0e821b0a2b6d8fed7be73bd28506d07e0"
   }
  }
 },
 "nbformat": 4,
 "nbformat_minor": 2
}
