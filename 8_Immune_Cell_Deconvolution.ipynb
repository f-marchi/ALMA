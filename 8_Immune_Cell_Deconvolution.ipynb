{
 "cells": [
  {
   "attachments": {},
   "cell_type": "markdown",
   "metadata": {},
   "source": [
    "# Immune Cell Deconvolution"
   ]
  },
  {
   "cell_type": "markdown",
   "metadata": {},
   "source": [
    "## Where the data at?"
   ]
  },
  {
   "cell_type": "code",
   "execution_count": 1,
   "metadata": {},
   "outputs": [],
   "source": [
    "input_path = '../Data/Processed_Data/'\n",
    "output_path = '../Data/Processed_Data/Cell_Deconvolution/'"
   ]
  },
  {
   "attachments": {},
   "cell_type": "markdown",
   "metadata": {},
   "source": [
    "## Load AML Dataset"
   ]
  },
  {
   "cell_type": "code",
   "execution_count": 2,
   "metadata": {
    "tags": [
     "hide-input"
    ]
   },
   "outputs": [
    {
     "name": "stdout",
     "output_type": "stream",
     "text": [
      " Dataset (df) contains 1346 rows (CpG probes) and 310545 columns (samples).\n"
     ]
    }
   ],
   "source": [
    "import pandas as pd\n",
    "\n",
    "x = pd.read_pickle(input_path+'x.pkl')\n",
    "y = pd.read_csv(input_path+'y.csv', index_col=0)\n",
    "\n",
    "print(f' Dataset (df) contains {x.shape[0]} rows (CpG probes) and {x.shape[1]} columns (samples).')"
   ]
  },
  {
   "attachments": {},
   "cell_type": "markdown",
   "metadata": {},
   "source": [
    "## Train-Test Split"
   ]
  },
  {
   "attachments": {},
   "cell_type": "markdown",
   "metadata": {},
   "source": [
    "To avoid data leakage and maximize the independence of the validation cohort (test dataset), we will split the data by clinical trial. The validation cohort will be St. Jude Children's led trials (AML02 and AML08), and the training cohort will be all other trials."
   ]
  },
  {
   "cell_type": "code",
   "execution_count": 3,
   "metadata": {
    "tags": [
     "hide-input"
    ]
   },
   "outputs": [
    {
     "data": {
      "text/plain": [
       "AAML1031    520\n",
       "AAML0531    508\n",
       "AML02       162\n",
       "AML05        64\n",
       "AML08        42\n",
       "AAML03P1     36\n",
       "CCG2961      14\n",
       "Name: Clinical Trial, dtype: int64"
      ]
     },
     "execution_count": 3,
     "metadata": {},
     "output_type": "execute_result"
    }
   ],
   "source": [
    "# Split data into training and test sets by clinical trial\n",
    "y_train = y[~y['Clinical Trial'].isin(['AML02','AML08'])]\n",
    "y_test = y[y['Clinical Trial'].isin(['AML02','AML08'])]\n",
    "\n",
    "# Select samples in x that are in y_train\n",
    "x_train = x.loc[y_train.index]\n",
    "x_test = x.loc[y_test.index]\n",
    "\n",
    "y['Clinical Trial'].value_counts(dropna=False)"
   ]
  },
  {
   "cell_type": "markdown",
   "metadata": {},
   "source": [
    "## Batch Correction with pyCombat"
   ]
  },
  {
   "attachments": {},
   "cell_type": "markdown",
   "metadata": {},
   "source": [
    "- __pyCombat__: a Python tool for batch effects correction in high-throughput molecular data using empirical Bayes methods\n",
    "\n",
    "- __Website__: [https://epigenelabs.github.io/pyComBat/](https://epigenelabs.github.io/pyComBat/)\n",
    "\n",
    "- __Paper__: [bioRxiv](https://doi.org/10.1101/2020.03.17.995431)"
   ]
  },
  {
   "cell_type": "code",
   "execution_count": 4,
   "metadata": {
    "tags": [
     "hide-input"
    ]
   },
   "outputs": [
    {
     "name": "stdout",
     "output_type": "stream",
     "text": [
      "Found 4 batches.\n",
      "Adjusting for 0 covariate(s) or covariate level(s).\n",
      "Standardizing Data across genes.\n",
      "Fitting L/S model and finding priors.\n",
      "Finding parametric adjustments.\n",
      "Adjusting the Data\n"
     ]
    }
   ],
   "source": [
    "from combat.pycombat import pycombat\n",
    "data_corrected = pycombat(x_train.T,y_train['Batch'])\n",
    "x_train2 = data_corrected.T"
   ]
  },
  {
   "attachments": {},
   "cell_type": "markdown",
   "metadata": {},
   "source": [
    "## Load Reference Dataset"
   ]
  },
  {
   "attachments": {},
   "cell_type": "markdown",
   "metadata": {},
   "source": [
    "- __FlowSorted.Blood.EPIC__: An optimized library for reference-based deconvolution of whole-blood biospecimens, __n=49__\n",
    "\n",
    "- __GEO__: [GSE110554](https://www.ncbi.nlm.nih.gov/geo/query/acc.cgi?acc=GSE110554)\n",
    "\n",
    "- __PMID__: [29843789](https://www.ncbi.nlm.nih.gov/pubmed/29843789)\n",
    "\n",
    "- __Description__:  Bisulphite converted DNA from neutrophils (Neu, n=6), monocytes (Mono, n=6), B-lymphocytes (Bcells, n=6), CD4+ T-cells (CD4T, n=7, six samples and one technical replicate), CD8+ T-cells (CD8T, n=6), Natural Killer cells (NK, n=6), and 12 DNA artificial mixtures (labeled as MIX in the dataset) were hybridised to the Illumina Infinium HumanMethylationEPIC Beadchip v1.0_B4\n",
    "\n",
    "- __External Validation__: [Significant variation in the performance of DNA methylation predictors across data preprocessing and normalization strategies](https://pubmed.ncbi.nlm.nih.gov/36280888/)\n",
    "\n",
    "- __CSV file__: [Download](https://static-content.springer.com/esm/art%3A10.1186%2Fs13059-018-1448-7/MediaObjects/13059_2018_1448_MOESM4_ESM.csv)"
   ]
  },
  {
   "cell_type": "code",
   "execution_count": 5,
   "metadata": {
    "tags": [
     "hide-input"
    ]
   },
   "outputs": [],
   "source": [
    "ref = pd.read_csv('https://static-content.springer.com/esm/art%3A10.1186%2Fs13059-018-1448-7/MediaObjects/13059_2018_1448_MOESM4_ESM.csv',\n",
    "                  index_col=0, skiprows=1)[['CD8T','CD4T','NK','Bcell','Mono','Neu']]"
   ]
  },
  {
   "cell_type": "code",
   "execution_count": 6,
   "metadata": {},
   "outputs": [
    {
     "data": {
      "text/html": [
       "<div>\n",
       "<style scoped>\n",
       "    .dataframe tbody tr th:only-of-type {\n",
       "        vertical-align: middle;\n",
       "    }\n",
       "\n",
       "    .dataframe tbody tr th {\n",
       "        vertical-align: top;\n",
       "    }\n",
       "\n",
       "    .dataframe thead th {\n",
       "        text-align: right;\n",
       "    }\n",
       "</style>\n",
       "<table border=\"1\" class=\"dataframe\">\n",
       "  <thead>\n",
       "    <tr style=\"text-align: right;\">\n",
       "      <th></th>\n",
       "      <th>CD8T</th>\n",
       "      <th>CD4T</th>\n",
       "      <th>NK</th>\n",
       "      <th>Bcell</th>\n",
       "      <th>Mono</th>\n",
       "      <th>Neu</th>\n",
       "    </tr>\n",
       "  </thead>\n",
       "  <tbody>\n",
       "    <tr>\n",
       "      <th>cg00133995</th>\n",
       "      <td>0.129519</td>\n",
       "      <td>0.298786</td>\n",
       "      <td>0.108926</td>\n",
       "      <td>0.035983</td>\n",
       "      <td>0.040495</td>\n",
       "      <td>0.104418</td>\n",
       "    </tr>\n",
       "    <tr>\n",
       "      <th>cg00219921</th>\n",
       "      <td>0.133676</td>\n",
       "      <td>0.807196</td>\n",
       "      <td>0.915346</td>\n",
       "      <td>0.943263</td>\n",
       "      <td>0.936359</td>\n",
       "      <td>0.929755</td>\n",
       "    </tr>\n",
       "    <tr>\n",
       "      <th>cg00225157</th>\n",
       "      <td>0.204290</td>\n",
       "      <td>0.322682</td>\n",
       "      <td>0.404319</td>\n",
       "      <td>0.372836</td>\n",
       "      <td>0.420142</td>\n",
       "      <td>0.424195</td>\n",
       "    </tr>\n",
       "    <tr>\n",
       "      <th>cg00297099</th>\n",
       "      <td>0.919939</td>\n",
       "      <td>0.914969</td>\n",
       "      <td>0.913794</td>\n",
       "      <td>0.056593</td>\n",
       "      <td>0.922112</td>\n",
       "      <td>0.910821</td>\n",
       "    </tr>\n",
       "    <tr>\n",
       "      <th>cg00298230</th>\n",
       "      <td>0.334686</td>\n",
       "      <td>0.255857</td>\n",
       "      <td>0.076164</td>\n",
       "      <td>0.390327</td>\n",
       "      <td>0.911243</td>\n",
       "      <td>0.634052</td>\n",
       "    </tr>\n",
       "    <tr>\n",
       "      <th>...</th>\n",
       "      <td>...</td>\n",
       "      <td>...</td>\n",
       "      <td>...</td>\n",
       "      <td>...</td>\n",
       "      <td>...</td>\n",
       "      <td>...</td>\n",
       "    </tr>\n",
       "    <tr>\n",
       "      <th>cg27232680</th>\n",
       "      <td>0.877548</td>\n",
       "      <td>0.879531</td>\n",
       "      <td>0.884759</td>\n",
       "      <td>0.044117</td>\n",
       "      <td>0.927373</td>\n",
       "      <td>0.923118</td>\n",
       "    </tr>\n",
       "    <tr>\n",
       "      <th>cg27249387</th>\n",
       "      <td>0.925872</td>\n",
       "      <td>0.918406</td>\n",
       "      <td>0.913822</td>\n",
       "      <td>0.909874</td>\n",
       "      <td>0.075194</td>\n",
       "      <td>0.840672</td>\n",
       "    </tr>\n",
       "    <tr>\n",
       "      <th>cg27477043</th>\n",
       "      <td>0.367343</td>\n",
       "      <td>0.141357</td>\n",
       "      <td>0.074931</td>\n",
       "      <td>0.015590</td>\n",
       "      <td>0.014581</td>\n",
       "      <td>0.019599</td>\n",
       "    </tr>\n",
       "    <tr>\n",
       "      <th>cg27567284</th>\n",
       "      <td>0.912333</td>\n",
       "      <td>0.885379</td>\n",
       "      <td>0.900232</td>\n",
       "      <td>0.036931</td>\n",
       "      <td>0.935405</td>\n",
       "      <td>0.928055</td>\n",
       "    </tr>\n",
       "    <tr>\n",
       "      <th>cg27630863</th>\n",
       "      <td>0.063262</td>\n",
       "      <td>0.036520</td>\n",
       "      <td>0.128728</td>\n",
       "      <td>0.368654</td>\n",
       "      <td>0.725786</td>\n",
       "      <td>0.257160</td>\n",
       "    </tr>\n",
       "  </tbody>\n",
       "</table>\n",
       "<p>450 rows × 6 columns</p>\n",
       "</div>"
      ],
      "text/plain": [
       "                CD8T      CD4T        NK     Bcell      Mono       Neu\n",
       "cg00133995  0.129519  0.298786  0.108926  0.035983  0.040495  0.104418\n",
       "cg00219921  0.133676  0.807196  0.915346  0.943263  0.936359  0.929755\n",
       "cg00225157  0.204290  0.322682  0.404319  0.372836  0.420142  0.424195\n",
       "cg00297099  0.919939  0.914969  0.913794  0.056593  0.922112  0.910821\n",
       "cg00298230  0.334686  0.255857  0.076164  0.390327  0.911243  0.634052\n",
       "...              ...       ...       ...       ...       ...       ...\n",
       "cg27232680  0.877548  0.879531  0.884759  0.044117  0.927373  0.923118\n",
       "cg27249387  0.925872  0.918406  0.913822  0.909874  0.075194  0.840672\n",
       "cg27477043  0.367343  0.141357  0.074931  0.015590  0.014581  0.019599\n",
       "cg27567284  0.912333  0.885379  0.900232  0.036931  0.935405  0.928055\n",
       "cg27630863  0.063262  0.036520  0.128728  0.368654  0.725786  0.257160\n",
       "\n",
       "[450 rows x 6 columns]"
      ]
     },
     "execution_count": 6,
     "metadata": {},
     "output_type": "execute_result"
    }
   ],
   "source": [
    "ref"
   ]
  },
  {
   "cell_type": "code",
   "execution_count": 22,
   "metadata": {},
   "outputs": [],
   "source": [
    "ref = pd.read_pickle(output_path+'methylprep_defined_immune_reference.pkl')"
   ]
  },
  {
   "cell_type": "code",
   "execution_count": 29,
   "metadata": {},
   "outputs": [],
   "source": [
    "# remove index name\n",
    "ref.index.name = None\n",
    "# remove duplicates from index\n",
    "ref = ref[~ref.index.duplicated(keep='first')]"
   ]
  },
  {
   "cell_type": "code",
   "execution_count": 30,
   "metadata": {},
   "outputs": [],
   "source": [
    "\n",
    "# File has also been downloaded locally under \".../Data/Blood_Reference_PMID29843789\" as backup in case Springer link is down\n",
    "\n",
    "# Harmonize index of reference data with our data\n",
    "merge = ref.join(x.T, how='inner')\n",
    "\n",
    "# update ref and mix with merge index\n",
    "ref = ref.loc[merge.index]\n",
    "mix = x_train.T.loc[merge.index]\n",
    "mix_test = x_test.T.loc[merge.index]\n",
    "\n",
    "# save ref and mix to csv\n",
    "ref.to_csv(output_path+'ReferenceData_ARIC.csv')\n",
    "mix.to_csv(output_path+'Input_TrainData_ARIC.csv')\n",
    "mix_test.to_csv(output_path+'Input_TestData_ARIC.csv')"
   ]
  },
  {
   "attachments": {},
   "cell_type": "markdown",
   "metadata": {},
   "source": [
    "## Immune Cell Deconvolution with ARIC"
   ]
  },
  {
   "attachments": {},
   "cell_type": "markdown",
   "metadata": {},
   "source": [
    "- __ARIC__: Accurate and robust inference of cell type proportions from bulk gene expression or DNA methylation data\n",
    "\n",
    "- __Website__: [xwanglabthu.github.io/ARIC/](xwanglabthu.github.io/ARIC/)\n",
    "\n",
    "- __PMID__: [34472588](https://pubmed.ncbi.nlm.nih.gov/34472588/)\n",
    "\n",
    "- __External Validation__: [A systematic assessment of cell type deconvolution algorithms for DNA methylation data](https://doi.org/10.1093/bib/bbac449)"
   ]
  },
  {
   "cell_type": "code",
   "execution_count": 33,
   "metadata": {
    "tags": [
     "hide-input"
    ]
   },
   "outputs": [
    {
     "name": "stdout",
     "output_type": "stream",
     "text": [
      "---------------------------------------------\n",
      "--------------WELCOME TO ARIC----------------\n",
      "---------------------------------------------\n",
      "Data reading finished!\n",
      "ARIC Engines Start, Please Wait......\n"
     ]
    },
    {
     "name": "stderr",
     "output_type": "stream",
     "text": [
      "100%|██████████| 1142/1142 [03:38<00:00,  5.24it/s]\n"
     ]
    },
    {
     "name": "stdout",
     "output_type": "stream",
     "text": [
      "Deconvo Results Saving!\n",
      "Finished!\n",
      "---------------------------------------------\n",
      "--------------WELCOME TO ARIC----------------\n",
      "---------------------------------------------\n",
      "Data reading finished!\n",
      "ARIC Engines Start, Please Wait......\n"
     ]
    },
    {
     "name": "stderr",
     "output_type": "stream",
     "text": [
      "100%|██████████| 204/204 [00:39<00:00,  5.19it/s]"
     ]
    },
    {
     "name": "stdout",
     "output_type": "stream",
     "text": [
      "Deconvo Results Saving!\n",
      "Finished!\n"
     ]
    },
    {
     "name": "stderr",
     "output_type": "stream",
     "text": [
      "\n"
     ]
    }
   ],
   "source": [
    "from ARIC import *\n",
    "\n",
    "# Run cell deconvolution on train data\n",
    "ARIC(mix_path=output_path+'Input_TrainData_ARIC.csv',\n",
    "     ref_path=output_path+'ReferenceData_ARIC.csv',\n",
    "     is_methylation=True,\n",
    "     save_path=output_path+'Results_TrainData_ARIC.csv')\n",
    "\n",
    "# Run cell deconvolution on test data\n",
    "ARIC(mix_path=output_path+'Input_TestData_ARIC.csv',\n",
    "     ref_path=output_path+'ReferenceData_ARIC.csv',\n",
    "     is_methylation=True,\n",
    "     save_path=output_path+'Results_TestData_ARIC.csv')\n"
   ]
  },
  {
   "attachments": {},
   "cell_type": "markdown",
   "metadata": {},
   "source": [
    "## Watermark"
   ]
  },
  {
   "cell_type": "code",
   "execution_count": 35,
   "metadata": {
    "tags": [
     "remove-input"
    ]
   },
   "outputs": [
    {
     "name": "stdout",
     "output_type": "stream",
     "text": [
      "Python implementation: CPython\n",
      "Python version       : 3.10.9\n",
      "IPython version      : 8.8.0\n",
      "\n",
      "numpy     : 1.24.1\n",
      "pandas    : 1.5.2\n",
      "matplotlib: 3.6.2\n",
      "seaborn   : 0.12.2\n",
      "scipy     : 1.10.0\n",
      "sklearn   : 0.0.post1\n",
      "combat    : 0.3.3\n",
      "ARIC      : 1.0.0\n",
      "\n"
     ]
    }
   ],
   "source": [
    "%load_ext watermark\n",
    "%watermark -v -p numpy,pandas,matplotlib,seaborn,scipy,sklearn,combat,ARIC"
   ]
  }
 ],
 "metadata": {
  "kernelspec": {
   "display_name": ".venv_sklearn",
   "language": "python",
   "name": "python3"
  },
  "language_info": {
   "codemirror_mode": {
    "name": "ipython",
    "version": 3
   },
   "file_extension": ".py",
   "mimetype": "text/x-python",
   "name": "python",
   "nbconvert_exporter": "python",
   "pygments_lexer": "ipython3",
   "version": "3.10.9"
  },
  "orig_nbformat": 4,
  "vscode": {
   "interpreter": {
    "hash": "bea0b97f2aeab51a41f683aa60895cc0e821b0a2b6d8fed7be73bd28506d07e0"
   }
  }
 },
 "nbformat": 4,
 "nbformat_minor": 2
}
