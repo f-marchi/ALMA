{
 "cells": [
  {
   "attachments": {},
   "cell_type": "markdown",
   "metadata": {},
   "source": [
    "# Data Download and Initial Processing"
   ]
  },
  {
   "cell_type": "markdown",
   "metadata": {},
   "source": [
    "## Introduction"
   ]
  },
  {
   "attachments": {},
   "cell_type": "markdown",
   "metadata": {},
   "source": [
    "\n",
    "This is a comprehensive chapter on the pipeline utilized to download and process raw methylation array data from _Infinium MethylationEPIC_ and _Infinium HumanMethylation450_:\n",
    "\n",
    "1. Download raw datasets from GEO or GDC using ```methylprep```\n",
    "2. Pre-process raw data using ```methylprep```, \n",
    "    which is a python library that offers R's [SeSAMe](https://www.bioconductor.org/packages/release/bioc/html/sesame.html) as the backend analysis suite.\n",
    "2. Process data exclusion criteria using ```methylcheck```\n",
    "3. Run Illumina's Quality Control\n",
    "4. Prepare data for analysis\n",
    "\n",
    "```{note}\n",
    "This pipeline has been adapted from python's [methylsuite](https://pypi.org/project/methylsuite/).\n",
    "```"
   ]
  },
  {
   "cell_type": "markdown",
   "metadata": {},
   "source": [
    "## Download and Pre-Process Raw Data from Gene Expression Omnibus (GEO)"
   ]
  },
  {
   "cell_type": "markdown",
   "metadata": {},
   "source": [
    "\n",
    "Below is the implementation of the above diagram to this project:\n",
    "\n",
    "1. Create a virtual environmnet with python 3.7:\n",
    "\n",
    "```bash\n",
    "conda create --n <name> python=3.7\n",
    "```\n",
    "\n",
    "2. In a linux shell, activate environment:\n",
    "\n",
    "```bash\n",
    "source activate methylsuite\n",
    "```\n",
    "\n",
    "3. Install methylsuite and dependencies:\n",
    "\n",
    "```bash\n",
    "conda install statsmodels\n",
    "pip install methylsuite\n",
    "```\n",
    "\n",
    "4. Download dataset directly from GEO:\n",
    "\n",
    "```bash\n",
    "python -m methylprep beta_bake -i <GEO series> -d <directory> \n",
    "```\n",
    "\n",
    "5. Process dataset:\n",
    "\n",
    "```bash\n",
    "python -m methylprep -v process --array_type <epic or 450k> -d <directory> --all --no_sample_sheet\n",
    "```\n",
    "\n",
    "```{note}\n",
    "If files are larger than RAM, specify batches\n",
    "Full ```methylprep``` API can be found [here](https://life-epigenetics-methylprep.readthedocs-hosted.com/en/latest/docs/cli.html)\n",
    "```"
   ]
  },
  {
   "cell_type": "markdown",
   "metadata": {},
   "source": [
    "\n",
    "## Download and Pre-Process Raw Data from Genomic Data Commons (GDC)"
   ]
  },
  {
   "attachments": {},
   "cell_type": "markdown",
   "metadata": {},
   "source": [
    "\n",
    "- Go to [GDC](https://portal.gdc.cancer.gov/)\n",
    "- Click on _Repository_\n",
    "- In _Files_ on the left side of the screen, find _Experimental Strategy_\n",
    "- Select _Methylation Array_, which will prompt you to see all cases and files containing methylation array data available\n",
    "- For our project, we will select the following filter/search strategy, which you can copy and paste into _advanced search_ (or search manually):\n",
    "```\n",
    "    cases.project.program.name in [\"TARGET\"] and cases.project.project_id \n",
    "    in [\"TARGET-AML\"] and files.data_format in [\"idat\"] and \n",
    "    files.experimental_strategy in [\"Methylation Array\"] and \n",
    "    files.platform in [\"illumina human methylation 450\"]\n",
    "```\n",
    "```{note}\n",
    "Most (if not all?) methylation data available through GDC is publicly available, so no access to controlled data is necessary!\n",
    "```\n",
    "- Once you have a selection of your samples, add them all to _cart_, which you can do by clicking on the _cart_ symbol in the header of the first column\n",
    "- Then go to the top right corner of the screen and click on _cart_\n",
    "- Download the _Manisfest_ file (under the _Download_ tab), as well as the _Sample Sheet_, and _Clinical_. Do not download the _Cart_ - files are too large.\n",
    "- To download the data, you will need the GDC Data Transfer Tool (command-line) that you can find [here](https://gdc.cancer.gov/access-data/gdc-data-transfer-tool)\n",
    "- Download the software, unzip it, and place the .exe in a directory of easy access\n",
    "- In your terminal, go to the directory containing the .exe file and type the following:\n",
    "```\n",
    ".\\gdc-client download -m <path to the manisfest file you downloaded>\n",
    "```\n",
    "- When the .idat files are downloaded, open the sample sheet file you downloaded previously. It should be a .tsv file readable in excell.\n",
    "- Save the sample sheet file as _samplesheet.csv_ in the directory where the data are located\n",
    "- Congrats! You are ready to process the files using ```methylprep``` (see chapter above for how to install methylprep and dependencies).\n",
    "- Like before, we will need to open methylprep on the terminal:\n",
    "```\n",
    "source activate methylsuite\n",
    "```\n",
    "- And run the command to process the files:\n",
    "```\n",
    "python -m methylprep -v process --array_type 450k -d <path to data and samplesheet.csv> --all\n",
    "```\n",
    "```{note}\n",
    "If files are larger than your RAM memory, you will need to run in batches (check methylprep's documentation).\n",
    "Also, be mindful of \\ and / differences if working in a windows machine through git bash. Some of methylprep code may break on Windows. Use a linux, Mac, or WSL if possible.\n",
    "```\n",
    "- Fantastic, files are now processed and ready for ```methylcheck```!"
   ]
  }
 ],
 "metadata": {
  "celltoolbar": "Tags",
  "kernelspec": {
   "display_name": "Python 3.9.12 ('base')",
   "language": "python",
   "name": "python3"
  },
  "language_info": {
   "codemirror_mode": {
    "name": "ipython",
    "version": 3
   },
   "file_extension": ".py",
   "mimetype": "text/x-python",
   "name": "python",
   "nbconvert_exporter": "python",
   "pygments_lexer": "ipython3",
   "version": "3.9.13 | packaged by conda-forge | (main, May 27 2022, 16:50:36) [MSC v.1929 64 bit (AMD64)]"
  },
  "vscode": {
   "interpreter": {
    "hash": "55e31c4e4f96b3c43367ddd46a98c4f8ab367bfa08c9b39ce4151defbbfc00d5"
   }
  }
 },
 "nbformat": 4,
 "nbformat_minor": 2
}
