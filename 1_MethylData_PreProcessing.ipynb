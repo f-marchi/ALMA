{
 "cells": [
  {
   "attachments": {},
   "cell_type": "markdown",
   "metadata": {},
   "source": [
    "# Data Sources and Download"
   ]
  },
  {
   "attachments": {},
   "cell_type": "markdown",
   "metadata": {},
   "source": [
    "## Data Sources"
   ]
  },
  {
   "attachments": {},
   "cell_type": "markdown",
   "metadata": {},
   "source": [
    "| Dataset          | Disease   | Data Source Link                                                                                                                                                                                                                                                                                                                                                                                                                                                                                                                                                                                                                                                                                                                                                 | Download Sample Size | Population | Platform |\n",
    "|------------------|-----------|------------------------------------------------------------------------------------------------------------------------------------------------------------------------------------------------------------------------------------------------------------------------------------------------------------------------------------------------------------------------------------------------------------------------------------------------------------------------------------------------------------------------------------------------------------------------------------------------------------------------------------------------------------------------------------------------------------------------------------------------------------------|----------------------|------------|----------|\n",
    "| COG_AAML1031     | AML       | [GSE190931](https://www.ncbi.nlm.nih.gov/geo/query/acc.cgi?acc=GSE190931)                                                                                                                                                                                                                                                                                                                                                                                                                                                                                                                                                                                                                                                                                        | 1048                 | Pediatric  | 850k     |\n",
    "| COG_AAML0531     | AML       | [GSE124413](https://www.ncbi.nlm.nih.gov/geo/query/acc.cgi?acc=GSE124413)                                                                                                                                                                                                                                                                                                                                                                                                                                                                                                                                                                                                                                                                                        | 500                  | Pediatric  | 850k     |\n",
    "| Japanese AML-05  | AML       | [GSE133986](https://www.ncbi.nlm.nih.gov/geo/query/acc.cgi?acc=GSE133986)                                                                                                                                                                                                                                                                                                                                                                                                                                                                                                                                                                                                                                                                                        | 64                   | Pediatric  | 850k     |\n",
    "| AML_TARGET       | AML       | [GDC_TARGET-AML](https://portal.gdc.cancer.gov/repository?facetTab=cases&filters=%7B%22op%22%3A%22and%22%2C%22content%22%3A%5B%7B%22op%22%3A%22in%22%2C%22content%22%3A%7B%22field%22%3A%22cases.project.program.name%22%2C%22value%22%3A%5B%22TARGET%22%5D%7D%7D%2C%7B%22op%22%3A%22in%22%2C%22content%22%3A%7B%22field%22%3A%22cases.project.project_id%22%2C%22value%22%3A%5B%22TARGET-AML%22%5D%7D%7D%2C%7B%22op%22%3A%22in%22%2C%22content%22%3A%7B%22field%22%3A%22files.data_format%22%2C%22value%22%3A%5B%22txt%22%5D%7D%7D%2C%7B%22op%22%3A%22in%22%2C%22content%22%3A%7B%22field%22%3A%22files.platform%22%2C%22value%22%3A%5B%22illumina%20human%20methylation%20450%22%2C%22illumina%20methylation%20epic%22%5D%7D%7D%5D%7D)                         | 317                  | Pediatric  | 450k     |\n",
    "| AML_TCGA         | AML       | [GDC_TCGA-AML](https://portal.gdc.cancer.gov/repository?facetTab=cases&filters=%7B%22op%22%3A%22and%22%2C%22content%22%3A%5B%7B%22op%22%3A%22in%22%2C%22content%22%3A%7B%22field%22%3A%22cases.project.program.name%22%2C%22value%22%3A%5B%22TCGA%22%5D%7D%7D%2C%7B%22op%22%3A%22in%22%2C%22content%22%3A%7B%22field%22%3A%22cases.project.project_id%22%2C%22value%22%3A%5B%22TCGA-LAML%22%5D%7D%7D%2C%7B%22op%22%3A%22in%22%2C%22content%22%3A%7B%22field%22%3A%22files.data_format%22%2C%22value%22%3A%5B%22txt%22%5D%7D%7D%2C%7B%22op%22%3A%22in%22%2C%22content%22%3A%7B%22field%22%3A%22files.platform%22%2C%22value%22%3A%5B%22illumina%20human%20methylation%20450%22%2C%22illumina%20methylation%20epic%22%5D%7D%7D%5D%7D)                              | 194                  | Adult      | 450k     |\n",
    "| BeatAML          | AML       | [GSE159907](https://www.ncbi.nlm.nih.gov/geo/query/acc.cgi?acc=GSE159907)                                                                                                                                                                                                                                                                                                                                                                                                                                                                                                                                                                                                                                                                                        | 316                  | Adult      | 850k     |\n",
    "| MDS_tAML         | tAML, MDS | [GSE152710](https://www.ncbi.nlm.nih.gov/geo/query/acc.cgi?acc=GSE152710)                                                                                                                                                                                                                                                                                                                                                                                                                                                                                                                                                                                                                                                                                        | 166                  | Adult      | 450k     |\n",
    "| St Jude AML02,08 | AML       | Lamba Lab Repository                                                                                                                                                                                                                                                                                                                                                                                                                                                                                                                                                                                                                                                                                                                                             | 324                  | Pediatric  | 450k     |\n",
    "| Nordic_ALL       | ALL       | [GSE49031](https://www.ncbi.nlm.nih.gov/geo/query/acc.cgi)                                                                                                                                                                                                                                                                                                                                                                                                                                                                                                                                                                                                                                                                                                       | 945                  | Pediatric  | 450k     |\n",
    "| ALL_TARGET       | ALL       | [GDC-TARGET-ALL](https://portal.gdc.cancer.gov/repository?facetTab=files&filters=%7B%22op%22%3A%22and%22%2C%22content%22%3A%5B%7B%22op%22%3A%22in%22%2C%22content%22%3A%7B%22field%22%3A%22cases.project.program.name%22%2C%22value%22%3A%5B%22TARGET%22%5D%7D%7D%2C%7B%22op%22%3A%22in%22%2C%22content%22%3A%7B%22field%22%3A%22cases.project.project_id%22%2C%22value%22%3A%5B%22TARGET-ALL-P3%22%5D%7D%7D%2C%7B%22op%22%3A%22in%22%2C%22content%22%3A%7B%22field%22%3A%22files.data_format%22%2C%22value%22%3A%5B%22txt%22%5D%7D%7D%2C%7B%22op%22%3A%22in%22%2C%22content%22%3A%7B%22field%22%3A%22files.platform%22%2C%22value%22%3A%5B%22illumina%20human%20methylation%20450%22%2C%22illumina%20methylation%20epic%22%5D%7D%7D%5D%7D&searchTableTab=cases) | 102                  | Pediatric  | 850k     |"
   ]
  },
  {
   "attachments": {},
   "cell_type": "markdown",
   "metadata": {},
   "source": [
    "## Download and Pre-Process Raw Data from GEO"
   ]
  },
  {
   "attachments": {},
   "cell_type": "markdown",
   "metadata": {
    "tags": [
     "hide-input"
    ]
   },
   "source": [
    "1. Install Python3.7.9\n",
    "\n",
    "    - Go to [python.org](https://www.python.org/downloads/release/python-379/) and download python according to your operating system\n",
    "    - During install, click on the box to enable it on PATH\n",
    "\n",
    "2. Open a terminal (Windows: git bash, Linux/Mac: terminal)\n",
    "\n",
    "    - Write the following commands to install the methylsuite libraries:\n",
    "\n",
    "    ```bash\n",
    "    pip install --upgrade pip\n",
    "    pip install statsmodels methylsuite\n",
    "    ```\n",
    "\n",
    "3. Download dataset of interest directly from GEO:\n",
    "\n",
    "    ```bash\n",
    "    python -m methylprep beta_bake -i <GEO series ID> -d <directory> \n",
    "    ```\n",
    "4. See processing options for your GEO dataset:\n",
    "\n",
    "    ```bash\n",
    "    python -m methylprep -v process \n",
    "    ```\n",
    "\n",
    "5. Process dataset:\n",
    "\n",
    "    ```bash\n",
    "    python -m methylprep -v process --array_type <epic or 450k> -b -v -e -c --poobah -d <directory>\n",
    "    ```\n",
    "\n",
    "```{note}\n",
    "If files are larger than RAM, specify batches. \n",
    "Full ```methylprep``` API can be found [here](https://life-epigenetics-methylprep.readthedocs-hosted.com/en/latest/docs/cli.html)."
   ]
  },
  {
   "attachments": {},
   "cell_type": "markdown",
   "metadata": {},
   "source": [
    "\n",
    "## Download Data from Genomic Data Commons (GDC)"
   ]
  },
  {
   "attachments": {},
   "cell_type": "markdown",
   "metadata": {
    "tags": [
     "hide-input"
    ]
   },
   "source": [
    "\n",
    "1. Go to [GDC Repository](https://portal.gdc.cancer.gov/repository)\n",
    "2. Select the right filtering criteria for you (or click on one of the links from the table above)\n",
    "3. Once you have a selection of your samples, download the _Manisfest_ file by clicking on the _Manifest_ button\n",
    "4. Under the _Cases_ tab, you may find a button with the name _Clinical_ that will download a .tsv file with the clinical data for the samples you selected\n",
    "5. To download the data, you will need the GDC Data Transfer Tool (command-line) that you can find [here](https://gdc.cancer.gov/access-data/gdc-data-transfer-tool)\n",
    "6. Download the software, unzip it, and place the .exe file in the folder of your project\n",
    "7. In your terminal, go to the folder containing the .exe file and type the following:\n",
    "    ```\n",
    "    .\\gdc-client download -m <path to the manisfest file you downloaded> --no-related-files --no-annotations --latest\n",
    "    ```\n",
    "8. When the .idat files are downloaded, open the sample sheet file you downloaded previously. It should be a .tsv file readable in excel.\n",
    "9. Save the sample sheet file as _samplesheet.csv_ in the directory where the data are located\n",
    "10. Congrats! You are ready to process the files using ```methylprep``` (see section above for instructions).\n",
    "\n",
    "    ```{note}\n",
    "    Be mindful of \\ and / differences if working in a windows machine through git bash.\n",
    "    Some of methylprep code may break on Windows. Use a linux, Mac, or WSL if possible.\n",
    "    ```"
   ]
  },
  {
   "cell_type": "markdown",
   "metadata": {},
   "source": [
    "## Watermark"
   ]
  },
  {
   "cell_type": "code",
   "execution_count": 1,
   "metadata": {
    "tags": [
     "remove-input",
     "remove-output"
    ]
   },
   "outputs": [],
   "source": [
    "%load_ext watermark"
   ]
  },
  {
   "cell_type": "code",
   "execution_count": 4,
   "metadata": {
    "tags": [
     "remove-input"
    ]
   },
   "outputs": [
    {
     "name": "stdout",
     "output_type": "stream",
     "text": [
      "Python implementation: CPython\n",
      "Python version       : 3.7.9\n",
      "IPython version      : 7.34.0\n",
      "\n",
      "methylprep: 1.7.1\n",
      "\n"
     ]
    }
   ],
   "source": [
    "%watermark -v -p methylprep"
   ]
  }
 ],
 "metadata": {
  "celltoolbar": "Tags",
  "kernelspec": {
   "display_name": ".venv_sklearn",
   "language": "python",
   "name": "python3"
  },
  "language_info": {
   "codemirror_mode": {
    "name": "ipython",
    "version": 3
   },
   "file_extension": ".py",
   "mimetype": "text/x-python",
   "name": "python",
   "nbconvert_exporter": "python",
   "pygments_lexer": "ipython3",
   "version": "3.7.9"
  },
  "vscode": {
   "interpreter": {
    "hash": "bea0b97f2aeab51a41f683aa60895cc0e821b0a2b6d8fed7be73bd28506d07e0"
   }
  }
 },
 "nbformat": 4,
 "nbformat_minor": 2
}
