{
 "cells": [
  {
   "attachments": {},
   "cell_type": "markdown",
   "metadata": {},
   "source": [
    "# Data Download and Initial Processing"
   ]
  },
  {
   "attachments": {},
   "cell_type": "markdown",
   "metadata": {},
   "source": [
    "## Overview"
   ]
  },
  {
   "attachments": {},
   "cell_type": "markdown",
   "metadata": {},
   "source": [
    "\n",
    "This is a comprehensive chapter on the pipeline utilized to download and process raw methylation array data from _Infinium MethylationEPIC_ and _Infinium HumanMethylation450_:\n",
    "\n",
    "1. Download raw methylation array datasets from GEO or GDC using ```methylprep```\n",
    "2. Pre-process raw files using ```methylprep```, \n",
    "    which is a python library that offers R's [SeSAMe](https://www.bioconductor.org/packages/release/bioc/html/sesame.html) as the backend analysis suite.\n",
    "2. Process data exclusion criteria using ```methylcheck```\n",
    "3. Run Illumina's Quality Control\n",
    "4. Clean up clinical data for downstream analysis\n",
    "\n",
    "```{note}\n",
    "This pipeline has been adapted from python's [methylsuite](https://pypi.org/project/methylsuite/).\n",
    "```"
   ]
  },
  {
   "attachments": {},
   "cell_type": "markdown",
   "metadata": {},
   "source": [
    "## Download and Pre-Process Raw Data from GEO"
   ]
  },
  {
   "attachments": {},
   "cell_type": "markdown",
   "metadata": {
    "tags": [
     "hide-input"
    ]
   },
   "source": [
    "1. Install Python\n",
    "\n",
    "    - Go to python.org and download the appropriate version of python\n",
    "    - During install, click on the box to enable it on PATH\n",
    "\n",
    "2. Open a terminal (Windows: git bash, Linux/Mac: terminal)\n",
    "\n",
    "    - Move to the directory/folder where your code files will be stored\n",
    "\n",
    "\n",
    "3. Create a virtual environment with python 3.7 using either pip or conda:\n",
    "\n",
    "    ```bash\n",
    "    python37 -m venv .venv_py37\n",
    "    ```\n",
    "    - or, if python37 location cannot be found:\n",
    "\n",
    "    ```bash\n",
    "    ~/AppData/Local/Programs/Python/Python37/python.exe -m venv .venv_py37\n",
    "    ```\n",
    "\n",
    "4. Then activate the environment:\n",
    "    - If using Mac/Linux:\n",
    "    ```bash\n",
    "    source activate .venv_py37\n",
    "    ```\n",
    "    - If using Windows (git bash):\n",
    "    ```bash\n",
    "    source .venv_py37/Scripts/activate\n",
    "    ```\n",
    "\n",
    "5. Install methylsuite and dependencies:\n",
    "\n",
    "    ```bash\n",
    "    pip install statsmodels\n",
    "    pip install methylsuite\n",
    "    ```\n",
    "\n",
    "6. Download dataset directly from GEO:\n",
    "\n",
    "    ```bash\n",
    "    python -m methylprep beta_bake -i <GEO series> -d <directory> \n",
    "    ```\n",
    "\n",
    "5. Process dataset:\n",
    "\n",
    "    ```bash\n",
    "    python -m methylprep -v process --array_type <epic or 450k> -d <directory> --all --no_sample_sheet\n",
    "    ```\n",
    "\n",
    "```{note}\n",
    "If files are larger than RAM, specify batches.\n",
    "Full ```methylprep``` API can be found [here](https://life-epigenetics-methylprep.readthedocs-hosted.com/en/latest/docs/cli.html)."
   ]
  },
  {
   "cell_type": "markdown",
   "metadata": {},
   "source": [
    "\n",
    "## Download and Pre-Process Raw Data from Genomic Data Commons (GDC)"
   ]
  },
  {
   "attachments": {},
   "cell_type": "markdown",
   "metadata": {
    "tags": [
     "hide-input"
    ]
   },
   "source": [
    "\n",
    "- Go to [GDC](https://portal.gdc.cancer.gov/)\n",
    "- Click on _Repository_\n",
    "- In _Files_ on the left side of the screen, find _Experimental Strategy_\n",
    "- Select _Methylation Array_, which will prompt you to see all cases and files containing methylation array data available\n",
    "- For our project, we will select the following filter/search strategy, which you can copy and paste into _advanced search_ (or search manually):\n",
    "    ```\n",
    "    cases.project.program.name in [\"TARGET\"] and cases.project.project_id \n",
    "    in [\"TARGET-AML\"] and files.data_format in [\"idat\"] and \n",
    "    files.experimental_strategy in [\"Methylation Array\"] and \n",
    "    files.platform in [\"illumina human methylation 450\"]\n",
    "    ```\n",
    "- Once you have a selection of your samples, add them all to _cart_, which you can do by clicking on the _cart_ symbol in the header of the first column\n",
    "- Then go to the top right corner of the screen and click on _cart_\n",
    "- Download the _Manisfest_ file (under the _Download_ tab), as well as the _Sample Sheet_, and _Clinical_. Do not download the _Cart_ - files are too large.\n",
    "- To download the data, you will need the GDC Data Transfer Tool (command-line) that you can find [here](https://gdc.cancer.gov/access-data/gdc-data-transfer-tool)\n",
    "- Download the software, unzip it, and place the .exe in a directory of easy access\n",
    "- In your terminal, go to the directory containing the .exe file and type the following:\n",
    "    ```\n",
    "    .\\gdc-client download -m <path to the manisfest file you downloaded>\n",
    "    ```\n",
    "- When the .idat files are downloaded, open the sample sheet file you downloaded previously. It should be a .tsv file readable in excell.\n",
    "- Save the sample sheet file as _samplesheet.csv_ in the directory where the data are located\n",
    "- Congrats! You are ready to process the files using ```methylprep``` (see chapter above for how to install methylprep and dependencies).\n",
    "- Like before, we will need to open methylprep on the terminal:\n",
    "    ```\n",
    "    source activate methylsuite\n",
    "    ```\n",
    "- And run the command to process the files:\n",
    "    ```\n",
    "    python -m methylprep -v process --array_type 450k -d <path to data and samplesheet.csv> --all\n",
    "    ```\n",
    "    ```{note}\n",
    "    Be mindful of \\ and / differences if working in a windows machine through git bash.\n",
    "    Some of methylprep code may break on Windows. Use a linux, Mac, or WSL if possible.\n",
    "    ```"
   ]
  }
 ],
 "metadata": {
  "celltoolbar": "Tags",
  "kernelspec": {
   "display_name": ".venv_sklearn",
   "language": "python",
   "name": "python3"
  },
  "language_info": {
   "codemirror_mode": {
    "name": "ipython",
    "version": 3
   },
   "file_extension": ".py",
   "mimetype": "text/x-python",
   "name": "python",
   "nbconvert_exporter": "python",
   "pygments_lexer": "ipython3",
   "version": "3.10.9"
  },
  "vscode": {
   "interpreter": {
    "hash": "bea0b97f2aeab51a41f683aa60895cc0e821b0a2b6d8fed7be73bd28506d07e0"
   }
  }
 },
 "nbformat": 4,
 "nbformat_minor": 2
}
