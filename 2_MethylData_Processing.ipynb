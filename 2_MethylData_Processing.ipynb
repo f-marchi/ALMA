{
 "cells": [
  {
   "attachments": {},
   "cell_type": "markdown",
   "metadata": {},
   "source": [
    "# Methyl Array Data Processing"
   ]
  },
  {
   "attachments": {},
   "cell_type": "markdown",
   "metadata": {},
   "source": [
    "## Load Data"
   ]
  },
  {
   "cell_type": "code",
   "execution_count": 1,
   "metadata": {
    "tags": [
     "hide-input"
    ]
   },
   "outputs": [
    {
     "name": "stderr",
     "output_type": "stream",
     "text": [
      "Files: 100%|██████████| 1/1 [00:01<00:00,  1.43s/it]\n",
      "INFO:methylcheck.load_processed:loaded data (865859, 500) from 1 pickled files (1.109s)\n",
      "Files: 100%|██████████| 3/3 [00:03<00:00,  1.04s/it]\n",
      "INFO:methylcheck.load_processed:loaded data (865859, 1039) from 3 pickled files (2.531s)\n",
      "Files: 100%|██████████| 1/1 [00:00<00:00,  4.00it/s]\n",
      "INFO:methylcheck.load_processed:loaded data (865859, 64) from 1 pickled files (0.203s)\n",
      "Files: 100%|██████████| 1/1 [00:00<00:00,  2.27it/s]\n",
      "INFO:methylcheck.load_processed:loaded data (485512, 317) from 1 pickled files (0.344s)\n",
      "Files: 100%|██████████| 1/1 [00:00<00:00,  2.02it/s]\n",
      "INFO:methylcheck.load_processed:loaded data (485512, 324) from 1 pickled files (0.422s)\n",
      "Files: 100%|██████████| 1/1 [00:00<00:00,  1.05it/s]\n",
      "INFO:methylcheck.load_processed:loaded data (865859, 316) from 1 pickled files (0.828s)\n",
      "WARNING:methylcheck.load_processed:No files of type (beta_value) found in ..\\Data\\Raw_Data\\GSE9891_TCGA-LAML (or sub-folders).\n"
     ]
    }
   ],
   "source": [
    "import methylcheck\n",
    "from pathlib import Path\n",
    "\n",
    "# AAML0531 Data\n",
    "filepath1 = Path('../Data/Raw_Data/COG_AAML0531_AAML03P1_GSE124413') # Path to AAML0531 data\n",
    "betas1 = methylcheck.load(filepath1) # Load AAML0531 data\n",
    "\n",
    "# AAML1031 Data\n",
    "filepath2 = Path('../Data/Raw_Data/COG_AAML1031_GSE190931/') # Path to AAML1031 data\n",
    "betas2 = methylcheck.load(filepath2) # Load AAML1031 data\n",
    "\n",
    "# Japanese AML05 Data\n",
    "filepath3 = Path('../Data/Raw_Data/AML05_JapaneseTrial_GSE133986/') # Path to Japanese AML05 data\n",
    "betas3 = methylcheck.load(filepath3) # Load AML05 data\n",
    "\n",
    "# TARGET450k data from Genomics Data Commons\n",
    "filepath4 = Path('../Data/Raw_Data/GDC_TARGET_AML_Methyl450K')\n",
    "betas4 = methylcheck.load(filepath4) # Load TARGET450k data\n",
    "\n",
    "# AML02 and 08 450K Data\n",
    "filepath5 = Path('../Data/Raw_Data/LambaPrivate_StJude_AML02_AML08_Methyl450k') # Path to data\n",
    "betas5 = methylcheck.load(filepath5) # Load data and metadata\n",
    "\n",
    "# BeatAML\n",
    "filepath6 = Path('../Data/Raw_Data/GSE159907_BeatAML') # Path to data\n",
    "betas6 = methylcheck.load(filepath6) # Load data and metadata\n",
    "\n",
    "# TCGA-LAML\n",
    "# filepath7 = Path('../Data/Raw_Data/GSE9891_TCGA-LAML') # Path to data\n",
    "# betas7 = methylcheck.load(filepath7) # Load data and metadata"
   ]
  },
  {
   "cell_type": "markdown",
   "metadata": {},
   "source": [
    "## Joining Dataframes"
   ]
  },
  {
   "cell_type": "code",
   "execution_count": 2,
   "metadata": {
    "tags": [
     "hide-input"
    ]
   },
   "outputs": [
    {
     "name": "stdout",
     "output_type": "stream",
     "text": [
      " Dataset (df) contains 452453 rows (5mC sites) and 2560 columns (samples).\n"
     ]
    }
   ],
   "source": [
    "import pandas as pd\n",
    "\n",
    "betas = pd.concat([betas1,betas2,betas3,betas4, betas5, betas6],\n",
    "                    keys=['GSE124413_AAML0531','GSE190931_AAML1031',\n",
    "                    'GSE133986_AML05','GDC_TARGET_AML','StJude_AML02_AML08', 'GSE159907_BeatAML'],\n",
    "                    join='inner', axis=1)\n",
    "\n",
    "print(f' Dataset (df) contains {betas.shape[0]} rows (5mC sites) and {betas.shape[1]} columns (samples).')"
   ]
  },
  {
   "cell_type": "markdown",
   "metadata": {},
   "source": [
    "## Step 1. Filtering Sub-Optimally Designed Probes"
   ]
  },
  {
   "attachments": {},
   "cell_type": "markdown",
   "metadata": {},
   "source": [
    "There are several critera for exclusion of probes: Areas that have polymorphisms, cross-hybridization, repeat sequence elements, or base color changes can affect probe quality. \n",
    "\n",
    "Below are publications that have benchmarked probe quality and have provided lists of probes to exclude:\n",
    "\n",
    "- [Chen2013](https://www.ncbi.nlm.nih.gov/pmc/articles/PMC3592906/), [Price2013](https://www.ncbi.nlm.nih.gov/pmc/articles/PMC3740789/), [Naeem2014](https://www.ncbi.nlm.nih.gov/pmc/articles/PMC3943510/), [DacaRoszak2015](https://www.ncbi.nlm.nih.gov/pmc/articles/PMC4659175/), [Zhou2016](https://academic.oup.com/nar/article/45/4/e22/2290930)"
   ]
  },
  {
   "attachments": {},
   "cell_type": "markdown",
   "metadata": {},
   "source": [
    "We will remove probes based on _Zhou et. al., 2016_. See figure 5 of their paper for detailed description.\n",
    "\n",
    "Please see function below `exclude_suboptimal_probes()` for paper information and where to find the annotations."
   ]
  },
  {
   "cell_type": "code",
   "execution_count": 3,
   "metadata": {
    "tags": [
     "hide-input"
    ]
   },
   "outputs": [
    {
     "name": "stdout",
     "output_type": "stream",
     "text": [
      "Of 452453 probes, 47382 matched, yielding 405071 after filtering\n"
     ]
    }
   ],
   "source": [
    "def exclude_suboptimal_probes(betas):\n",
    "    '''This function removes proves listed as sub-optimal according to:\n",
    "    \n",
    "    Zhou, W., Laird, P. W. & Shen, H.. Comprehensive characterization,\n",
    "    annotation and innovative use of Infinium DNA methylation BeadChip probes.\n",
    "    Nucleic Acids Research gkw967 (2016).\n",
    "    doi:10.1093/nar/gkw967\n",
    "\n",
    "    For the .tsv file containing the annotated probes, download the paper's\n",
    "    supplementary material.\n",
    "    '''\n",
    "    zhou2016_probes = pd.read_csv('../Data/UnreliableProbesList_Zhou2016/EPIC.anno.GRCh38.tsv', sep='\\t',index_col=0)\n",
    "    unreliable_probes = list(zhou2016_probes[zhou2016_probes['MASK.general'] == True].index)\n",
    "    betas_ = betas[~betas.index.isin(unreliable_probes)]\n",
    "    print(f'Of {betas.shape[0]} probes, {betas.shape[0]-betas_.shape[0]} matched, yielding {betas_.shape[0]} after filtering')\n",
    "    return(betas_)\n",
    "\n",
    "df1 = exclude_suboptimal_probes(betas)"
   ]
  },
  {
   "attachments": {},
   "cell_type": "markdown",
   "metadata": {},
   "source": [
    "## Step 2. Filtering sex-linked probes"
   ]
  },
  {
   "cell_type": "code",
   "execution_count": 4,
   "metadata": {
    "tags": [
     "hide-input"
    ]
   },
   "outputs": [
    {
     "name": "stdout",
     "output_type": "stream",
     "text": [
      "450k: Removed 9570 sex-linked probes from 2560 samples. 395501 probes remaining.\n"
     ]
    }
   ],
   "source": [
    "df2 = methylcheck.exclude_sex_control_probes(df1, '450k', no_sex=True, no_control=False, verbose=True)"
   ]
  },
  {
   "cell_type": "markdown",
   "metadata": {},
   "source": [
    "## Step 3. Exclude samples that Illumina QC categorizes as FAIL(pval)"
   ]
  },
  {
   "cell_type": "markdown",
   "metadata": {},
   "source": [
    "Here we will:\n",
    "\n",
    "1. Run Illumina's quality control and save reports as excel files\n",
    "2. Load QC reports\n",
    "3. Exclude samples that Illumina categorizes as FAIL(pval) for not meeting the condition: (p ≤ 0.05) > 80% probes"
   ]
  },
  {
   "cell_type": "markdown",
   "metadata": {},
   "source": [
    "### Run Illumina's Quality Control (QC)"
   ]
  },
  {
   "cell_type": "markdown",
   "metadata": {},
   "source": [
    "\n",
    "```methylcheck``` is geared toward quality control of processed data. To this end, there is a helpful function that summarizes performance of control probes ([details on control probes here](https://support.illumina.com/content/dam/illumina-support/documents/documentation/chemistry_documentation/infinium_assays/infinium_hd_methylation/beadarray-controls-reporter-user-guide-1000000004009-00.pdf)). To run this function, the control_probes.pkl file output from ```methylprep``` is required. This report ensures that the chemistry (bisulfite conversion, target specificity, hybridization, staining, etc.) and machine readings are acceptable.\n",
    "\n",
    "QC reports are saved as excel sheets in each _filepath_ directory."
   ]
  },
  {
   "cell_type": "code",
   "execution_count": 7,
   "metadata": {
    "tags": [
     "remove-output",
     "hide-input"
    ]
   },
   "outputs": [],
   "source": [
    "# File path for 1031 has to be uploaded separately since it was processed in batches due to size\n",
    "\n",
    "filepath2_1 = Path('../Data/Raw_Data/COG_AAML1031_GSE190931/GPL21145_1')\n",
    "filepath2_2 = Path('../Data/Raw_Data/COG_AAML1031_GSE190931/GPL21145_2')\n",
    "filepath2_3 = Path('../Data/Raw_Data/COG_AAML1031_GSE190931/GPL21145_3')\n",
    "\n",
    "# # AAML0531 QC Report\n",
    "# methylcheck.controls_report(filepath=filepath1)\n",
    "# # AAML1031 QC Report\n",
    "# methylcheck.controls_report(filepath=filepath2_1)\n",
    "# methylcheck.controls_report(filepath=filepath2_2)\n",
    "# methylcheck.controls_report(filepath=filepath2_3)\n",
    "# # AML05 QC Report\n",
    "# methylcheck.controls_report(filepath=filepath3)\n",
    "# # TARGET450K QC Report\n",
    "# methylcheck.controls_report(filepath=filepath4)\n",
    "# # StJude AML02 and 08 QC Report\n",
    "# methylcheck.controls_report(filepath=filepath5)"
   ]
  },
  {
   "cell_type": "markdown",
   "metadata": {},
   "source": [
    "### Load QC Reports"
   ]
  },
  {
   "cell_type": "code",
   "execution_count": 8,
   "metadata": {
    "tags": [
     "hide-input"
    ]
   },
   "outputs": [],
   "source": [
    "# Load QC reports\n",
    "qc_table1 = pd.read_excel(str(filepath1)+'/GSE124413_QC_Report.xlsx', index_col=0)\n",
    "qc_table2_1 = pd.read_excel(str(filepath2_1)+'/GPL21145_1_QC_Report.xlsx', index_col=0)\n",
    "qc_table2_2 = pd.read_excel(str(filepath2_2)+'/GPL21145_2_QC_Report.xlsx', index_col=0)\n",
    "qc_table2_3 = pd.read_excel(str(filepath2_3)+'/GPL21145_3_QC_Report.xlsx', index_col=0)\n",
    "qc_table3 = pd.read_excel(str(filepath3)+'/AML05_Japanese_Trial_QC_Report.xlsx', index_col=0)\n",
    "qc_table4 = pd.read_excel(str(filepath4)+'/TARGET450k_GDC_QC_Report.xlsx', index_col=0)\n",
    "qc_table5 = pd.read_excel(str(filepath5)+'/StJude_AML02_AML08_QC_Report.xlsx', index_col=0)\n",
    "\n",
    "# Merge batches\n",
    "qc_table = pd.concat([qc_table1.iloc[1:], qc_table2_1.iloc[1:],qc_table2_2.iloc[1:], \n",
    "                    qc_table2_3.iloc[1:], qc_table3.iloc[1:], qc_table4.iloc[1:],\n",
    "                    qc_table5.iloc[1:]], axis=0) # Merge batches"
   ]
  },
  {
   "cell_type": "markdown",
   "metadata": {},
   "source": [
    "### Exclude Samples that Failed Illumina's QC"
   ]
  },
  {
   "attachments": {},
   "cell_type": "markdown",
   "metadata": {},
   "source": [
    "Below, you will find the samples that failed QC, along with some description. This column is calculated by checking that all of the QC columns are above a minimum threshold. This threshold is adjustable with the passing argument (set to 0.7 by default). However, this criteria seems to be too unforgiving, so we will disregard it as it seems that core research facilities do not follow it. Another strict metric implemented by Illumina is FAIL by pval, which happens if the pOOBAH (detection p-values) in more than 20% of probes fail. Recall that pOOBAH simply measures how likely it is that a given signal is background fluorescence. There are a few methods of calculating these detection p-values.  ```SeSAMe``` and ```methylprep``` implement this method, known as P value Out Of Band probes for Array Hybridization, where they use the OOB signal of all type I probes to calculate an empirical cumulative distribution function.\n",
    "\n",
    "In other words, we will exclude samples that Illumina QC categorizes as FAIL(pval) for __not__ meeting the condition: (pOOBAH ≤ 0.05) > 80% probes"
   ]
  },
  {
   "cell_type": "code",
   "execution_count": 9,
   "metadata": {
    "tags": [
     "hide-input"
    ]
   },
   "outputs": [
    {
     "data": {
      "text/html": [
       "<div>\n",
       "<style scoped>\n",
       "    .dataframe tbody tr th:only-of-type {\n",
       "        vertical-align: middle;\n",
       "    }\n",
       "\n",
       "    .dataframe tbody tr th {\n",
       "        vertical-align: top;\n",
       "    }\n",
       "\n",
       "    .dataframe thead th {\n",
       "        text-align: right;\n",
       "    }\n",
       "</style>\n",
       "<table border=\"1\" class=\"dataframe\">\n",
       "  <thead>\n",
       "    <tr style=\"text-align: right;\">\n",
       "      <th></th>\n",
       "      <th>Result</th>\n",
       "      <th>Why Failed</th>\n",
       "    </tr>\n",
       "    <tr>\n",
       "      <th>Sample</th>\n",
       "      <th></th>\n",
       "      <th></th>\n",
       "    </tr>\n",
       "  </thead>\n",
       "  <tbody>\n",
       "    <tr>\n",
       "      <th>200991620022_R03C01</th>\n",
       "      <td>FAIL (pval)</td>\n",
       "      <td>Non-polymorphic Green, Non-polymorphic Red</td>\n",
       "    </tr>\n",
       "    <tr>\n",
       "      <th>200973410088_R01C01</th>\n",
       "      <td>FAIL (pval)</td>\n",
       "      <td>Specificity I Red, Non-polymorphic Red</td>\n",
       "    </tr>\n",
       "    <tr>\n",
       "      <th>200973410178_R04C01</th>\n",
       "      <td>FAIL (pval)</td>\n",
       "      <td>Non-polymorphic Red</td>\n",
       "    </tr>\n",
       "    <tr>\n",
       "      <th>200973410077_R07C01</th>\n",
       "      <td>FAIL (pval)</td>\n",
       "      <td>Non-polymorphic Red</td>\n",
       "    </tr>\n",
       "    <tr>\n",
       "      <th>202897370026_R03C01</th>\n",
       "      <td>FAIL (pval)</td>\n",
       "      <td>Staining Green, Staining Red, Extension Red, B...</td>\n",
       "    </tr>\n",
       "    <tr>\n",
       "      <th>...</th>\n",
       "      <td>...</td>\n",
       "      <td>...</td>\n",
       "    </tr>\n",
       "    <tr>\n",
       "      <th>8784233006_R02C01</th>\n",
       "      <td>FAIL (pval)</td>\n",
       "      <td>Staining Red, Extension Red, Bisulfite Convers...</td>\n",
       "    </tr>\n",
       "    <tr>\n",
       "      <th>8784233006_R03C01</th>\n",
       "      <td>FAIL (pval)</td>\n",
       "      <td>Extension Red, Specificity I Green, Non-polymo...</td>\n",
       "    </tr>\n",
       "    <tr>\n",
       "      <th>8784233006_R04C02</th>\n",
       "      <td>FAIL (pval)</td>\n",
       "      <td>Extension Red, Bisulfite Conversion I Green C/...</td>\n",
       "    </tr>\n",
       "    <tr>\n",
       "      <th>9379082097_R05C01</th>\n",
       "      <td>FAIL (pval)</td>\n",
       "      <td>Staining Green, Staining Red, Extension Green,...</td>\n",
       "    </tr>\n",
       "    <tr>\n",
       "      <th>9379082105_R06C02</th>\n",
       "      <td>FAIL (pval)</td>\n",
       "      <td>Staining Green, Staining Red, Extension Green,...</td>\n",
       "    </tr>\n",
       "  </tbody>\n",
       "</table>\n",
       "<p>364 rows × 2 columns</p>\n",
       "</div>"
      ],
      "text/plain": [
       "                          Result   \n",
       "Sample                             \n",
       "200991620022_R03C01  FAIL (pval)  \\\n",
       "200973410088_R01C01  FAIL (pval)   \n",
       "200973410178_R04C01  FAIL (pval)   \n",
       "200973410077_R07C01  FAIL (pval)   \n",
       "202897370026_R03C01  FAIL (pval)   \n",
       "...                          ...   \n",
       "8784233006_R02C01    FAIL (pval)   \n",
       "8784233006_R03C01    FAIL (pval)   \n",
       "8784233006_R04C02    FAIL (pval)   \n",
       "9379082097_R05C01    FAIL (pval)   \n",
       "9379082105_R06C02    FAIL (pval)   \n",
       "\n",
       "                                                            Why Failed  \n",
       "Sample                                                                  \n",
       "200991620022_R03C01         Non-polymorphic Green, Non-polymorphic Red  \n",
       "200973410088_R01C01             Specificity I Red, Non-polymorphic Red  \n",
       "200973410178_R04C01                                Non-polymorphic Red  \n",
       "200973410077_R07C01                                Non-polymorphic Red  \n",
       "202897370026_R03C01  Staining Green, Staining Red, Extension Red, B...  \n",
       "...                                                                ...  \n",
       "8784233006_R02C01    Staining Red, Extension Red, Bisulfite Convers...  \n",
       "8784233006_R03C01    Extension Red, Specificity I Green, Non-polymo...  \n",
       "8784233006_R04C02    Extension Red, Bisulfite Conversion I Green C/...  \n",
       "9379082097_R05C01    Staining Green, Staining Red, Extension Green,...  \n",
       "9379082105_R06C02    Staining Green, Staining Red, Extension Green,...  \n",
       "\n",
       "[364 rows x 2 columns]"
      ]
     },
     "execution_count": 9,
     "metadata": {},
     "output_type": "execute_result"
    }
   ],
   "source": [
    "qc_failed = qc_table[qc_table['Result'].str.contains('pval')][[\"Result\", 'Why Failed']]\n",
    "qc_failed"
   ]
  },
  {
   "cell_type": "code",
   "execution_count": 11,
   "metadata": {
    "tags": [
     "hide-input"
    ]
   },
   "outputs": [
    {
     "name": "stdout",
     "output_type": "stream",
     "text": [
      "364 sample(s) removed because: (pOOBAH > 0.05) > 20% probes\n"
     ]
    }
   ],
   "source": [
    "df3 = df2.drop(list(qc_failed.index),level=1, axis=1)\n",
    "print(f'{df2.shape[1] - df3.shape[1]} sample(s) removed because: (pOOBAH > 0.05) > 20% probes')"
   ]
  },
  {
   "attachments": {},
   "cell_type": "markdown",
   "metadata": {},
   "source": [
    "## Step 4. Exclude CpG probes that are missing in more than 20% of samples"
   ]
  },
  {
   "cell_type": "code",
   "execution_count": 20,
   "metadata": {
    "tags": [
     "hide-input"
    ]
   },
   "outputs": [],
   "source": [
    "# def probe_cutoff(qc_betas, threshold):\n",
    "#     qc_betas2 = qc_betas.dropna(axis=0, thresh = int(threshold*qc_betas.shape[1]))\n",
    "#     print(f'{qc_betas.shape[0] - qc_betas2.shape[0]} probe(s) removed because of >30% missing values')\n",
    "#     return(qc_betas2)\n",
    "\n",
    "# df4 = probe_cutoff(df3, threshold=0.80)"
   ]
  },
  {
   "cell_type": "markdown",
   "metadata": {},
   "source": [
    "## Step 5. Interpolate remaining missing values linearly"
   ]
  },
  {
   "attachments": {},
   "cell_type": "markdown",
   "metadata": {},
   "source": [
    "\n",
    "We still have probes with missing values that are below our 5% threshold. To fix that, we interpolate remaining beta values values linearly.\n",
    "- Linear interpolation means that a missing mC value for a particular sample will be filled with the median of the values of the two adjacent samples. The reason behind this is the high concordance _usually_ seen in the methylation profile of neighboring samples.\n",
    "- Inevitably, this step adds arbitration to the data cleaning process."
   ]
  },
  {
   "cell_type": "code",
   "execution_count": 21,
   "metadata": {
    "tags": [
     "hide-input"
    ]
   },
   "outputs": [
    {
     "name": "stdout",
     "output_type": "stream",
     "text": [
      " Interpolated dataset contains 395501 rows (5mC probes) and 2196 columns (samples).\n"
     ]
    }
   ],
   "source": [
    "# df5 = df4.interpolate(axis=0).interpolate(axis=0, limit_direction='backward').round(3)\n",
    "\n",
    "# print(f' Interpolated dataset contains {df3.shape[0]}'\n",
    "# + f' rows (5mC probes) and {df3.shape[1]} columns (samples).')"
   ]
  },
  {
   "cell_type": "code",
   "execution_count": 23,
   "metadata": {},
   "outputs": [
    {
     "name": "stdout",
     "output_type": "stream",
     "text": [
      " Dataset (df) contains 395502 rows (mC sites) and 2196 columns (samples).\n"
     ]
    }
   ],
   "source": [
    "df_methyl = df3.T.reset_index(level=0, names='Batch')\n",
    "\n",
    "print(\n",
    "    f' Dataset (df) contains {df_methyl.shape[1]} rows (mC sites) and {df_methyl.shape[0]} columns (samples).')"
   ]
  },
  {
   "cell_type": "markdown",
   "metadata": {},
   "source": [
    "## Add Labels/Clinical Outcome Data"
   ]
  },
  {
   "cell_type": "code",
   "execution_count": 24,
   "metadata": {},
   "outputs": [],
   "source": [
    "# Import functions to clean up clinical data\n",
    "from FM_Functions.Clinical_Data_CleanUp import *\n",
    "\n",
    "# Combine all clinical data files into one dataframe and indexes it by the sample ID\n",
    "labels_cog, labels_aml02, labels_aml08, labels_aml05 = combine_and_index_clinicaldata()\n",
    "\n",
    "# Clean up and adjust clinical data labels\n",
    "labels_aml02 = clean_aml02(labels_aml02)\n",
    "labels_aml08 = clean_aml08(labels_aml08)\n",
    "labels_cog   = clean_cog(labels_cog)\n",
    "labels_aml05 = clean_aml05(labels_aml05)\n",
    "\n",
    "# Combine all clinical data labels\n",
    "df = pd.concat([labels_aml02, labels_aml08, labels_cog,\n",
    "               labels_aml05], axis=0, join='outer')\n",
    "\n",
    "# Remove samples that are not in the methyl dataset\n",
    "df = df.loc[df.index.isin(df_methyl.index)]\n",
    "\n",
    "# Label control samples from the AML0531 clinical trial (GSE124413) as 'Bone Marrow Normal'\n",
    "\n",
    "def label_control_samples(df_methyl, df):\n",
    "    \"\"\"\n",
    "    This function labels control samples from the AML0531 clinical trial (GSE124413) as 'Bone Marrow Normal'\n",
    "    and combines them with the clinical trial samples.\n",
    "    \"\"\"\n",
    "    a = df_methyl[df_methyl['Batch'].isin(['GSE124413_AAML0531'])]\n",
    "    b = df[df.index.isin(a.index)]\n",
    "    control_0531 = a[~a.index.isin(b.index)]\n",
    "    control_0531['Sample Type'] = 'Bone Marrow Normal'\n",
    "    df_ = pd.concat(\n",
    "        [df, control_0531['Sample Type'].to_frame()], axis=0, join='outer')\n",
    "    return df_\n",
    "\n",
    "df_ = label_control_samples(df_methyl, df)\n"
   ]
  },
  {
   "cell_type": "code",
   "execution_count": 26,
   "metadata": {},
   "outputs": [
    {
     "data": {
      "text/plain": [
       "WindowsPath('../Data/Raw_Data/GSE159907_BeatAML')"
      ]
     },
     "execution_count": 26,
     "metadata": {},
     "output_type": "execute_result"
    }
   ],
   "source": [
    "filepath6"
   ]
  },
  {
   "cell_type": "code",
   "execution_count": 28,
   "metadata": {},
   "outputs": [],
   "source": [
    "meta = pd.read_pickle('../Data/Raw_Data/GSE159907_BeatAML/GSE159907_GPL21145_meta_data.pkl')"
   ]
  },
  {
   "cell_type": "code",
   "execution_count": 30,
   "metadata": {},
   "outputs": [
    {
     "data": {
      "text/plain": [
       "['Beat AML project [09-00705]',\n",
       " 'Beat AML project [10-00136]',\n",
       " 'Beat AML project [10-00507]',\n",
       " 'Beat AML project [10-00669]',\n",
       " 'Beat AML project [13-00353]',\n",
       " 'Beat AML project [14-00228]',\n",
       " 'Beat AML project [15-00276]',\n",
       " 'Beat AML project [15-00377]',\n",
       " 'Beat AML project [15-00563]',\n",
       " 'Beat AML project [15-00653]',\n",
       " 'Beat AML project [15-00778]',\n",
       " 'Beat AML project [16-00303]',\n",
       " 'Beat AML project [16-01022]',\n",
       " 'OSUCCC-LTB AML sample [AML28P]',\n",
       " 'OSUCCC-LTB AML sample [AML29P]',\n",
       " 'OSUCCC-LTB AML sample [AML31P]',\n",
       " 'OSUCCC-LTB AML sample [AML32P]',\n",
       " 'OSUCCC-LTB AML sample [AML33P]',\n",
       " 'OSUCCC-LTB AML sample [AML34P]',\n",
       " 'OSUCCC-LTB AML sample [AML35P]',\n",
       " 'OSUCCC-LTB AML sample [AML36P]',\n",
       " 'OSUCCC-LTB AML sample [AML37P]',\n",
       " 'OSUCCC-LTB AML sample [AML38P]',\n",
       " 'OSUCCC-LTB AML sample [AML39P]',\n",
       " 'OSUCCC-LTB AML sample [AML40P]',\n",
       " 'OSUCCC-LTB AML sample [AML41P]',\n",
       " 'OSUCCC-LTB AML sample [AML42P]',\n",
       " 'OSUCCC-LTB AML sample [AML43P]',\n",
       " 'Beat AML project [10-00542]',\n",
       " 'Beat AML project [10-00792]',\n",
       " 'Beat AML project [11-00295]',\n",
       " 'Beat AML project [14-00015]',\n",
       " 'Beat AML project [14-00639]',\n",
       " 'Beat AML project [15-00482]',\n",
       " 'Beat AML project [16-00684]',\n",
       " 'Beat AML project [16-01094]',\n",
       " 'Beat AML project [16-01097]',\n",
       " 'Beat AML project [16-01118]',\n",
       " 'Beat AML project [16-01138]',\n",
       " 'Beat AML project [17-00350]',\n",
       " 'Beat AML project [17-00963]',\n",
       " 'OSUCCC-LTB AML sample [AML28R]',\n",
       " 'OSUCCC-LTB AML sample [AML29R]',\n",
       " 'OSUCCC-LTB AML sample [AML31R]',\n",
       " 'OSUCCC-LTB AML sample [AML32R]',\n",
       " 'OSUCCC-LTB AML sample [AML33R]',\n",
       " 'OSUCCC-LTB AML sample [AML34R]',\n",
       " 'OSUCCC-LTB AML sample [AML35R]',\n",
       " 'OSUCCC-LTB AML sample [AML36R]',\n",
       " 'OSUCCC-LTB AML sample [AML37R]',\n",
       " 'OSUCCC-LTB AML sample [AML38R]',\n",
       " 'OSUCCC-LTB AML sample [AML39R]',\n",
       " 'OSUCCC-LTB AML sample [AML40R]',\n",
       " 'OSUCCC-LTB AML sample [AML41R]',\n",
       " 'OSUCCC-LTB AML sample [AML42R]',\n",
       " 'OSUCCC-LTB AML sample [AML43R]',\n",
       " 'OSUCCC-LTB AML sample [AML1]',\n",
       " 'OSUCCC-LTB AML sample [AML2]',\n",
       " 'OSUCCC-LTB AML sample [AML3]',\n",
       " 'OSUCCC-LTB AML sample [AML4]',\n",
       " 'OSUCCC-LTB AML sample [AML5]',\n",
       " 'OSUCCC-LTB AML sample [AML6]',\n",
       " 'OSUCCC-LTB AML sample [AML7]',\n",
       " 'OSUCCC-LTB AML sample [AML8]',\n",
       " 'OSUCCC-LTB AML sample [AML9]',\n",
       " 'OSUCCC-LTB AML sample [AML10]',\n",
       " 'OSUCCC-LTB AML sample [AML11]',\n",
       " 'OSUCCC-LTB AML sample [AML12]',\n",
       " 'OSUCCC-LTB AML sample [AML13]',\n",
       " 'OSUCCC-LTB AML sample [AML14]',\n",
       " 'OSUCCC-LTB AML sample [AML15]',\n",
       " 'OSUCCC-LTB AML sample [AML16]',\n",
       " 'OSUCCC-LTB AML sample [AML17]',\n",
       " 'OSUCCC-LTB AML sample [AML18]',\n",
       " 'OSUCCC-LTB AML sample [AML19]',\n",
       " 'OSUCCC-LTB AML sample [AML20]',\n",
       " 'OSUCCC-LTB AML sample [AML21]',\n",
       " 'OSUCCC-LTB AML sample [AML22]',\n",
       " 'OSUCCC-LTB AML sample [AML23]',\n",
       " 'OSUCCC-LTB AML sample [AML24]',\n",
       " 'OSUCCC-LTB AML sample [AML25]',\n",
       " 'OSUCCC-LTB AML sample [AML26]',\n",
       " 'OSUCCC-LTB AML sample [AML27]',\n",
       " 'Beat AML project [16-00004]',\n",
       " 'Beat AML project [16-01005]',\n",
       " 'Beat AML project [13-00163]',\n",
       " 'Beat AML project [15-00616]',\n",
       " 'Beat AML project [16-01098]',\n",
       " 'Beat AML project [13-00204]',\n",
       " 'Beat AML project [13-00245]',\n",
       " 'Beat AML project [13-00544]',\n",
       " 'Beat AML project [13-00146]',\n",
       " 'Beat AML project [16-00494]',\n",
       " 'Beat AML project [15-00248]',\n",
       " 'Beat AML project [16-00410]',\n",
       " 'Beat AML project [12-00301]',\n",
       " 'Beat AML project [12-00127]',\n",
       " 'Beat AML project [16-00474]',\n",
       " 'Beat AML project [14-00126]',\n",
       " 'Beat AML project [15-00734]',\n",
       " 'Beat AML project [15-00261]',\n",
       " 'Beat AML project [14-00774]',\n",
       " 'Beat AML project [14-00289]',\n",
       " 'Beat AML project [14-00135]',\n",
       " 'Beat AML project [15-00556]',\n",
       " 'Beat AML project [14-00259]',\n",
       " 'Beat AML project [14-00279]',\n",
       " 'Beat AML project [13-00454]',\n",
       " 'Beat AML project [14-00434]',\n",
       " 'Beat AML project [14-00335]',\n",
       " 'Beat AML project [14-00504]',\n",
       " 'Beat AML project [14-00514]',\n",
       " 'Beat AML project [14-00034]',\n",
       " 'Beat AML project [14-00052]',\n",
       " 'Beat AML project [14-00559]',\n",
       " 'Beat AML project [14-00141]',\n",
       " 'Beat AML project [14-00567]',\n",
       " 'Beat AML project [14-00578]',\n",
       " 'Beat AML project [15-00965]',\n",
       " 'Beat AML project [15-00990]',\n",
       " 'Beat AML project [16-00035]',\n",
       " 'Beat AML project [16-00003]',\n",
       " 'Beat AML project [16-00041]',\n",
       " 'Beat AML project [16-00067]',\n",
       " 'Beat AML project [16-00070]',\n",
       " 'Beat AML project [16-00075]',\n",
       " 'Beat AML project [16-00026]',\n",
       " 'Beat AML project [16-00102]',\n",
       " 'Beat AML project [16-00145]',\n",
       " 'Beat AML project [16-00157]',\n",
       " 'Beat AML project [16-00271]',\n",
       " 'Beat AML project [16-00289]',\n",
       " 'Beat AML project [16-00292]',\n",
       " 'Beat AML project [16-00344]',\n",
       " 'Beat AML project [14-00240]',\n",
       " 'Beat AML project [15-00470]',\n",
       " 'Beat AML project [14-00193]',\n",
       " 'Beat AML project [14-00231]',\n",
       " 'Beat AML project [15-00279]',\n",
       " 'Beat AML project [14-00817]',\n",
       " 'Beat AML project [15-00872]',\n",
       " 'Beat AML project [16-00120]',\n",
       " 'Beat AML project [16-00701]',\n",
       " 'Beat AML project [16-00519]',\n",
       " 'Beat AML project [15-00338]',\n",
       " 'Beat AML project [14-00272]',\n",
       " 'Beat AML project [15-00269]',\n",
       " 'Beat AML project [15-00900]',\n",
       " 'Beat AML project [13-00034]',\n",
       " 'Beat AML project [15-00670]',\n",
       " 'Beat AML project [17-00025]',\n",
       " 'Beat AML project [15-00417]',\n",
       " 'Beat AML project [14-00543]',\n",
       " 'Beat AML project [14-00464]',\n",
       " 'Beat AML project [16-00354]',\n",
       " 'Beat AML project [13-00255]',\n",
       " 'Beat AML project [13-00535]',\n",
       " 'Beat AML project [16-00007]',\n",
       " 'Beat AML project [13-00393]',\n",
       " 'Beat AML project [15-00464]',\n",
       " 'Beat AML project [14-00613]',\n",
       " 'Beat AML project [13-00513]',\n",
       " 'Beat AML project [16-00836]',\n",
       " 'Beat AML project [15-00767]',\n",
       " 'Beat AML project [15-00763]',\n",
       " 'Beat AML project [17-00094]',\n",
       " 'Beat AML project [16-00001]',\n",
       " 'Beat AML project [15-00471]',\n",
       " 'Beat AML project [15-00296]',\n",
       " 'Beat AML project [14-00092]',\n",
       " 'Beat AML project [16-00815]',\n",
       " 'Beat AML project [13-00354]',\n",
       " 'Beat AML project [15-00807]',\n",
       " 'Beat AML project [14-00125]',\n",
       " 'Beat AML project [16-00498]',\n",
       " 'Beat AML project [15-00680]',\n",
       " 'Beat AML project [15-00756]',\n",
       " 'Beat AML project [16-00027]',\n",
       " 'Beat AML project [16-00981]',\n",
       " 'Beat AML project [14-00041]',\n",
       " 'Beat AML project [15-00870]',\n",
       " 'Beat AML project [15-00578]',\n",
       " 'Beat AML project [16-01100]',\n",
       " 'Beat AML project [15-00688]',\n",
       " 'Beat AML project [16-00078]',\n",
       " 'Beat AML project [16-01121]',\n",
       " 'Beat AML project [16-00269]',\n",
       " 'Beat AML project [13-00028]',\n",
       " 'Beat AML project [13-00396]',\n",
       " 'Beat AML project [16-01191]',\n",
       " 'Beat AML project [16-00109]',\n",
       " 'Beat AML project [16-00465]',\n",
       " 'Beat AML project [16-00273]',\n",
       " 'Beat AML project [14-00477]',\n",
       " 'Beat AML project [15-00961]',\n",
       " 'Beat AML project [16-00540]',\n",
       " 'Beat AML project [16-00510]',\n",
       " 'Beat AML project [16-00525]',\n",
       " 'Beat AML project [16-00699]',\n",
       " 'Beat AML project [16-00810]',\n",
       " 'Beat AML project [16-01049]',\n",
       " 'Beat AML project [16-00818]',\n",
       " 'Beat AML project [16-00867]',\n",
       " 'Beat AML project [15-00892]',\n",
       " 'Beat AML project [16-00880]',\n",
       " 'Beat AML project [15-00693]',\n",
       " 'Beat AML project [15-00813]',\n",
       " 'Beat AML project [16-00094]',\n",
       " 'Beat AML project [16-01223]',\n",
       " 'Beat AML project [16-00278]',\n",
       " 'Beat AML project [13-00365]',\n",
       " 'Beat AML project [16-00056]',\n",
       " 'Beat AML project [13-00226]',\n",
       " 'Beat AML project [15-00702]',\n",
       " 'Beat AML project [15-00855]',\n",
       " 'Beat AML project [16-00220]',\n",
       " 'Beat AML project [14-00021]',\n",
       " 'Beat AML project [16-00351]',\n",
       " 'Beat AML project [16-00595]',\n",
       " 'Beat AML project [14-00670]',\n",
       " 'Beat AML project [15-00717]',\n",
       " 'Beat AML project [12-00069]',\n",
       " 'Beat AML project [14-00658]',\n",
       " 'Beat AML project [14-00831]',\n",
       " 'Beat AML project [16-00392]',\n",
       " 'Beat AML project [16-00731]',\n",
       " 'Beat AML project [16-00547]',\n",
       " 'Beat AML project [15-00051]',\n",
       " 'Beat AML project [15-00766]',\n",
       " 'Beat AML project [15-00302]',\n",
       " 'Beat AML project [15-00045]',\n",
       " 'Beat AML project [13-00157]',\n",
       " 'Beat AML project [16-01262]',\n",
       " 'Beat AML project [12-00294]',\n",
       " 'Beat AML project [15-00786]',\n",
       " 'Beat AML project [11-00090]',\n",
       " 'Beat AML project [16-00115]',\n",
       " 'Beat AML project [15-00148]',\n",
       " 'Beat AML project [13-00186]',\n",
       " 'Beat AML project [16-01055]',\n",
       " 'Beat AML project [15-00610]',\n",
       " 'Beat AML project [13-00425]',\n",
       " 'Beat AML project [15-00858]',\n",
       " 'Beat AML project [14-00546]',\n",
       " 'Beat AML project [15-00633]',\n",
       " 'Beat AML project [12-00023]',\n",
       " 'Beat AML project [14-00448]',\n",
       " 'Beat AML project [16-01225]',\n",
       " 'Beat AML project [15-00615]',\n",
       " 'Beat AML project [13-00615]',\n",
       " 'Beat AML project [16-00524]',\n",
       " 'Beat AML project [15-00650]',\n",
       " 'Beat AML project [17-00093]',\n",
       " 'Beat AML project [12-00211]',\n",
       " 'Beat AML project [13-00165]',\n",
       " 'Beat AML project [13-00500]',\n",
       " 'Beat AML project [16-01151]',\n",
       " 'Beat AML project [16-01185]',\n",
       " 'Beat AML project [15-00975]',\n",
       " 'Beat AML project [16-01254]',\n",
       " 'Beat AML project [13-00266]',\n",
       " 'Beat AML project [14-00023]',\n",
       " 'Beat AML project [14-00447]',\n",
       " 'Beat AML project [14-00581]',\n",
       " 'Beat AML project [14-00329]',\n",
       " 'Beat AML project [14-00712]',\n",
       " 'Beat AML project [14-00739]',\n",
       " 'Beat AML project [14-00781]',\n",
       " 'Beat AML project [14-00359]',\n",
       " 'Beat AML project [14-00787]',\n",
       " 'Beat AML project [14-00798]',\n",
       " 'Beat AML project [14-00901]',\n",
       " 'Beat AML project [14-00832]',\n",
       " 'Beat AML project [15-00075]',\n",
       " 'Beat AML project [15-00123]',\n",
       " 'Beat AML project [15-00167]',\n",
       " 'Beat AML project [15-00171]',\n",
       " 'Beat AML project [15-00175]',\n",
       " 'Beat AML project [15-00300]',\n",
       " 'Beat AML project [13-00655]',\n",
       " 'Beat AML project [13-00658]',\n",
       " 'Beat AML project [13-00497]',\n",
       " 'Beat AML project [16-01093]',\n",
       " 'Beat AML project [16-01216]',\n",
       " 'Beat AML project [15-00608]',\n",
       " 'Beat AML project [15-00614]',\n",
       " 'Beat AML project [12-00423]',\n",
       " 'Beat AML project [17-00064]',\n",
       " 'Beat AML project [12-00066]',\n",
       " 'Beat AML project [13-00487]',\n",
       " 'Beat AML project [16-00466]',\n",
       " 'Beat AML project [16-01219]',\n",
       " 'Beat AML project [16-01102]',\n",
       " 'Beat AML project [16-01237]',\n",
       " 'Beat AML project [17-00033]',\n",
       " 'Beat AML project [15-00383]',\n",
       " 'Beat AML project [10-00692]',\n",
       " 'Beat AML project [15-00742]',\n",
       " 'Beat AML project [16-01109]',\n",
       " 'Beat AML project [14-00423]',\n",
       " 'OSUCCC-LTB AML sample [OSU58P]',\n",
       " 'OSUCCC-LTB AML sample [OSU34P]',\n",
       " 'OSUCCC-LTB AML sample [OSU34R]',\n",
       " 'OSUCCC-LTB AML sample [OSU116P]',\n",
       " 'OSUCCC-LTB AML sample [OSU58R]',\n",
       " 'OSUCCC-LTB AML sample [OS54P]',\n",
       " 'OSUCCC-LTB AML sample [OSU40P]',\n",
       " 'OSUCCC-LTB AML sample [OSU141P]',\n",
       " 'OSUCCC-LTB AML sample [OSU33R]',\n",
       " 'OSUCCC-LTB AML sample [OSU42P]',\n",
       " 'OSUCCC-LTB AML sample [OSU42R]',\n",
       " 'OSUCCC-LTB AML sample [OSU54R]',\n",
       " 'OSUCCC-LTB AML sample [OSU40R]',\n",
       " 'OSUCCC-LTB AML sample [OSU116R]',\n",
       " 'OSUCCC-LTB AML sample [OSU33P]',\n",
       " 'OSUCCC-LTB AML sample [OSU141R]']"
      ]
     },
     "execution_count": 30,
     "metadata": {},
     "output_type": "execute_result"
    }
   ],
   "source": [
    "meta['Sample_Name'].to_list()"
   ]
  },
  {
   "attachments": {},
   "cell_type": "markdown",
   "id": "39875e9e",
   "metadata": {},
   "source": [
    "## Save Dataset"
   ]
  },
  {
   "cell_type": "code",
   "execution_count": 11,
   "metadata": {
    "tags": [
     "hide-input"
    ]
   },
   "outputs": [
    {
     "name": "stdout",
     "output_type": "stream",
     "text": [
      "Successfuly saved processed methyl dataset.\n",
      "Path: ../Data/Processed_Data/Methyl_Array_Processed/\n"
     ]
    }
   ],
   "source": [
    "output_path = '../Data/Processed_Data/Methyl_Array_Processed/'\n",
    "\n",
    "df5.to_pickle(output_path + '2_MethylData_Processing_Output.pkl')\n",
    "\n",
    "print(\n",
    "    f'Successfuly saved processed methyl dataset.\\nPath: {output_path}')\n"
   ]
  },
  {
   "cell_type": "markdown",
   "metadata": {},
   "source": [
    "## Watermark"
   ]
  },
  {
   "cell_type": "code",
   "execution_count": 12,
   "metadata": {
    "tags": [
     "remove-input",
     "remove-output"
    ]
   },
   "outputs": [],
   "source": [
    "%load_ext watermark"
   ]
  },
  {
   "cell_type": "code",
   "execution_count": 13,
   "metadata": {
    "tags": [
     "remove-input"
    ]
   },
   "outputs": [
    {
     "name": "stdout",
     "output_type": "stream",
     "text": [
      "Python implementation: CPython\n",
      "Python version       : 3.7.9\n",
      "IPython version      : 7.34.0\n",
      "\n",
      "methylcheck: 0.8.5\n",
      "pandas     : 1.3.5\n",
      "\n"
     ]
    }
   ],
   "source": [
    "%watermark -v -p methylcheck,pandas"
   ]
  }
 ],
 "metadata": {
  "celltoolbar": "Tags",
  "kernelspec": {
   "display_name": ".venv_sklearn",
   "language": "python",
   "name": "python3"
  },
  "language_info": {
   "codemirror_mode": {
    "name": "ipython",
    "version": 3
   },
   "file_extension": ".py",
   "mimetype": "text/x-python",
   "name": "python",
   "nbconvert_exporter": "python",
   "pygments_lexer": "ipython3",
   "version": "3.8.10"
  },
  "vscode": {
   "interpreter": {
    "hash": "bea0b97f2aeab51a41f683aa60895cc0e821b0a2b6d8fed7be73bd28506d07e0"
   }
  }
 },
 "nbformat": 4,
 "nbformat_minor": 2
}
