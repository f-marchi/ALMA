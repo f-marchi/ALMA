{
 "cells": [
  {
   "attachments": {},
   "cell_type": "markdown",
   "metadata": {},
   "source": [
    "# A Passionate Child's Introduction to SPPL"
   ]
  },
  {
   "attachments": {},
   "cell_type": "markdown",
   "metadata": {},
   "source": [
    "## Load data"
   ]
  },
  {
   "cell_type": "code",
   "execution_count": 1,
   "metadata": {
    "tags": [
     "hide-input"
    ]
   },
   "outputs": [],
   "source": [
    "import pandas as pd\n",
    "\n",
    "input_path = '../Data/Intermediate_Files/'\n",
    "output_path = '../Data/Processed_Data/'\n",
    "\n",
    "# Load pacmap output data\n",
    "df = pd.read_csv(output_path+'pacmap_output/pacmap_5d_output_acute_leukemia.csv', index_col=0)"
   ]
  },
  {
   "attachments": {},
   "cell_type": "markdown",
   "metadata": {},
   "source": [
    "## Preprocess data"
   ]
  },
  {
   "attachments": {},
   "cell_type": "markdown",
   "metadata": {},
   "source": [
    "### Exclude categories with <10 samples"
   ]
  },
  {
   "cell_type": "code",
   "execution_count": 2,
   "metadata": {
    "tags": [
     "hide-input"
    ]
   },
   "outputs": [
    {
     "data": {
      "text/plain": [
       "ELN AML 2022 Diagnosis\n",
       "AML with t(9;11)(p22;q23.3)/KMT2A-rearrangement                           360\n",
       "AML with inv(16)(p13.1q22) or t(16;16)(p13.1;q22)/CBFB::MYH11             201\n",
       "AML with t(8;21)(q22;q22.1)/RUNX1::RUNX1T1                                198\n",
       "AML with other rare recurring translocations                              172\n",
       "AML with mutated NPM1                                                     172\n",
       "MDS-related or secondary myeloid neoplasms                                148\n",
       "Otherwise-Normal Control                                                  121\n",
       "AML with in-frame bZIP mutated CEBPA                                       69\n",
       "APL with t(15;17)(q24.1;q21.2)/PML::RARA                                   31\n",
       "AML with t(6;9)(p23;q34.1)/DEK::NUP214                                     27\n",
       "AML with inv(3)(q21.3q26.2) or t(3;3)(q21.3;q26.2)/MECOM-rearrangement     10\n",
       "Name: count, dtype: int64"
      ]
     },
     "execution_count": 2,
     "metadata": {},
     "output_type": "execute_result"
    }
   ],
   "source": [
    "# exclude the samples with with the following values in 'ELN AML 2022 Diagnosis': ['Mixed phenotype acute leukemia T/myeloid',\n",
    "#'Myeloid leukaemia associated with Down syndrome', 'AML with t(9;22)(q34.1;q11.2)/BCR::ABL1']\n",
    "df = df[~df['ELN AML 2022 Diagnosis'].isin(['Mixed phenotype acute leukemia T/myeloid',\n",
    "                                       'Myeloid leukaemia associated with Down syndrome',\n",
    "                                       'AML with t(9;22)(q34.1;q11.2)/BCR::ABL1'])]\n",
    "\n",
    "df['ELN AML 2022 Diagnosis'].value_counts()"
   ]
  },
  {
   "attachments": {},
   "cell_type": "markdown",
   "metadata": {},
   "source": [
    "### Exclude samples with missing labels"
   ]
  },
  {
   "cell_type": "code",
   "execution_count": 3,
   "metadata": {
    "tags": [
     "hide-input"
    ]
   },
   "outputs": [],
   "source": [
    "# drop the samples with missing labels for the ELN AML 2022 Diagnosis\n",
    "df = df[~df['ELN AML 2022 Diagnosis'].isna()]"
   ]
  },
  {
   "cell_type": "code",
   "execution_count": 5,
   "metadata": {},
   "outputs": [],
   "source": [
    "# Save the data\n",
    "df.to_csv(output_path+'pacmap_output/pacmap_5d_output_acute_leukemia_cleaned.csv')"
   ]
  },
  {
   "attachments": {},
   "cell_type": "markdown",
   "metadata": {},
   "source": [
    "### Define X and y"
   ]
  },
  {
   "cell_type": "code",
   "execution_count": 4,
   "metadata": {
    "tags": [
     "hide-input"
    ]
   },
   "outputs": [],
   "source": [
    "\n",
    "# Define X and y\n",
    "X = df[['PaCMAP 1', 'PaCMAP 2', 'PaCMAP 3', 'PaCMAP 4', 'PaCMAP 5']].to_numpy() # shape (n_samples=1399, n_features=5)\n",
    "y = df['ELN AML 2022 Diagnosis'].to_numpy() # shape (n_samples=1399,) with 11 string classes\n",
    "\n",
    "# Split the data into train/test sets based on the `Train Test` column\n",
    "X_train = X[df['Train Test']=='Discovery (train) Samples']\n",
    "y_train = y[df['Train Test']=='Discovery (train) Samples']\n",
    "X_test = X[df['Train Test']=='Validation (test) Samples']\n",
    "y_test = y[df['Train Test']=='Validation (test) Samples']"
   ]
  },
  {
   "cell_type": "markdown",
   "metadata": {},
   "source": [
    "## SPPL"
   ]
  },
  {
   "cell_type": "markdown",
   "metadata": {},
   "source": [
    "- __SPPL__: Sum-Product Probabilistic Language\n",
    "\n",
    "- __Github__: [https://github.com/probsys/sppl](https://github.com/probsys/sppl)\n",
    "\n",
    "- __Paper__: [SPPL: Probabilistic Programming with Fast Exact Symbolic Inference](https://arxiv.org/abs/2010.03485)\n",
    "\n",
    "- __Intro on SPNs__: [Visualizing and understanding Sum-Product Networks](https://link.springer.com/article/10.1007/s10994-018-5760-y)"
   ]
  },
  {
   "cell_type": "code",
   "execution_count": 6,
   "metadata": {},
   "outputs": [],
   "source": [
    "%load_ext sppl.magics"
   ]
  },
  {
   "cell_type": "code",
   "execution_count": 3,
   "metadata": {},
   "outputs": [
    {
     "name": "stderr",
     "output_type": "stream",
     "text": [
      "UsageError: Cell magic `%%sppl` not found.\n"
     ]
    }
   ],
   "source": [
    "%%sppl model\n",
    "\n",
    "# Population model.\n",
    "sex ~= choice({'female': .3307, 'male': .6693})\n",
    "if (sex == 'female'):\n",
    "    capital_gain ~= norm(loc=568.4105, scale=24248365.5428)\n",
    "    if capital_gain < 7298.0000:\n",
    "        age ~= norm(loc=38.4208, scale=184.9151)\n",
    "        relationship ~= choice({\n",
    "            '0': .0491, '1': .1556, '2': .4012,\n",
    "            '3': .2589, '4': .0294, '5': .1058\n",
    "        })\n",
    "    else:\n",
    "        age ~= norm(loc=38.8125, scale=193.4918)\n",
    "        relationship ~= choice({\n",
    "            '0': .0416, '1': .1667, '2': .4583,\n",
    "            '3': .2292, '4': .0166, '5': .0876\n",
    "        })\n",
    "else:\n",
    "    capital_gain ~= norm(loc=1329.3700, scale=69327473.1006)\n",
    "    if capital_gain < 5178.0000:\n",
    "        age ~= norm(loc=38.6361, scale=187.2435)\n",
    "        relationship ~= choice({\n",
    "            '0': .0497, '1': .1545, '2': .4021,\n",
    "            '3': .2590, '4': .0294, '5': .1053\n",
    "        })\n",
    "    else:\n",
    "        age ~= norm(loc=38.2668, scale=187.2747)\n",
    "        relationship ~= choice({\n",
    "            '0': .0417, '1': .1624, '2': .3976,\n",
    "            '3': .2606, '4': .0356, '5': .1021\n",
    "        })\n",
    "\n",
    "condition(age > 18)\n",
    "\n",
    "# Decision model.\n",
    "if relationship == '1':\n",
    "    if capital_gain < 5095.5:\n",
    "        t ~= atomic(loc=1)\n",
    "    else:\n",
    "        t ~= atomic(loc=0)\n",
    "elif relationship == '2':\n",
    "    if capital_gain < 4718.5:\n",
    "        t ~= atomic(loc=1)\n",
    "    else:\n",
    "        t ~= atomic(loc=0)\n",
    "elif relationship == '3':\n",
    "    if capital_gain < 5095.5:\n",
    "        t ~= atomic(loc=1)\n",
    "    else:\n",
    "        t ~= atomic(loc=0)\n",
    "elif relationship == '4':\n",
    "    if capital_gain < 8296:\n",
    "        t ~= atomic(loc=1)\n",
    "    else:\n",
    "        t ~= atomic(loc=0)\n",
    "elif relationship == '5':\n",
    "    t ~= atomic(loc=1)\n",
    "else:\n",
    "    if capital_gain < 4668.5:\n",
    "        t ~= atomic(loc=1)\n",
    "    else:\n",
    "        t ~= atomic(loc=0)\n",
    "\n",
    "#####################\n",
    "n = %sppl_get_namespace model\n",
    "model = n.model\n",
    "\n",
    "##########################\n",
    "model_c1 = model.condition(n.t << {0})\n",
    "\n",
    "p_female_prior = model.prob(n.sex << {'female'})\n",
    "p_female_given_no_hire = model_c1.prob(n.sex << {'female'})\n",
    "print(100 * (p_female_given_no_hire / p_female_prior - 1))"
   ]
  },
  {
   "attachments": {},
   "cell_type": "markdown",
   "metadata": {},
   "source": [
    "## Watermark"
   ]
  },
  {
   "cell_type": "code",
   "execution_count": null,
   "metadata": {
    "tags": [
     "remove-input",
     "remove-output"
    ]
   },
   "outputs": [],
   "source": [
    "# Add watermark with all packages used\n",
    "get_ipython().run_line_magic('load_ext', 'watermark')"
   ]
  },
  {
   "cell_type": "code",
   "execution_count": null,
   "metadata": {
    "tags": [
     "remove-input"
    ]
   },
   "outputs": [
    {
     "name": "stdout",
     "output_type": "stream",
     "text": [
      "Author: Francisco_Marchi@Lamba_Lab_UF\n",
      "\n",
      "Python implementation: CPython\n",
      "Python version       : 3.8.16\n",
      "IPython version      : 8.12.2\n",
      "\n",
      "numpy     : 1.24.3\n",
      "pandas    : 2.0.2\n",
      "sklearn   : 1.2.2\n",
      "matplotlib: 3.7.1\n",
      "seaborn   : 0.12.2\n",
      "lightgbm  : 3.3.5\n",
      "\n",
      "Compiler    : GCC 11.3.0\n",
      "OS          : Linux\n",
      "Release     : 5.15.90.1-microsoft-standard-WSL2\n",
      "Machine     : x86_64\n",
      "Processor   : x86_64\n",
      "CPU cores   : 20\n",
      "Architecture: 64bit\n",
      "\n"
     ]
    }
   ],
   "source": [
    "# print watermark with all packages used in this notebook\n"
   ]
  }
 ],
 "metadata": {
  "kernelspec": {
   "display_name": "Python 3",
   "language": "python",
   "name": "python3"
  },
  "language_info": {
   "codemirror_mode": {
    "name": "ipython",
    "version": 3
   },
   "file_extension": ".py",
   "mimetype": "text/x-python",
   "name": "python",
   "nbconvert_exporter": "python",
   "pygments_lexer": "ipython3",
   "version": "3.8.16"
  },
  "orig_nbformat": 4
 },
 "nbformat": 4,
 "nbformat_minor": 2
}
