{
 "cells": [
  {
   "cell_type": "code",
   "execution_count": 1,
   "metadata": {},
   "outputs": [],
   "source": [
    "import pandas as pd\n",
    "import numpy as np\n",
    "\n",
    "df_pred = pd.read_excel('../data/pacmap_5d_output_acute_leukemia_with_predictions.xlsx', index_col=0)\n",
    "\n",
    "input_path = '../../Data/Intermediate_Files/'\n",
    "\n",
    "# Load clinical data\n",
    "discovery_clinical_data = pd.read_csv(input_path+'discovery_clinical_data.csv',\n",
    "                                      low_memory=False, index_col=0)\n",
    "\n",
    "validation_clinical_data = pd.read_csv(input_path+'validation_clinical_data.csv',\n",
    "                                        low_memory=False, index_col=0)\n",
    "\n",
    "df_clinical = pd.concat([discovery_clinical_data, validation_clinical_data], axis=0)\n",
    "\n",
    "df_clinical = df_clinical[['Primarydiagnosis', 'Karyotype', 'Primary Cytogenetic Code',\n",
    "                            'Gene Fusion', 'NPM mutation', 'CEBPA mutation', 'Comment', \n",
    "                            'SpecificDxAtAcquisition', 'Molecular Classification', \n",
    "                            'Cytological category group']]\n",
    "\n",
    "df = df_pred.join(df_clinical, how='left')\n"
   ]
  },
  {
   "cell_type": "code",
   "execution_count": 2,
   "metadata": {},
   "outputs": [
    {
     "data": {
      "text/plain": [
       "Confidence >=0.8\n",
       "True     1443\n",
       "False     950\n",
       "Name: count, dtype: int64"
      ]
     },
     "execution_count": 2,
     "metadata": {},
     "output_type": "execute_result"
    }
   ],
   "source": [
    "df['Confidence >=0.8'].value_counts()"
   ]
  },
  {
   "cell_type": "code",
   "execution_count": 3,
   "metadata": {},
   "outputs": [],
   "source": [
    "# Select only certain clinial trials\n",
    "# df = df[df['Clinical Trial'].isin(['AML08'])]\n",
    "\n",
    "# Select samples with confidence >= 0.8\n",
    "df = df[df['Confidence >=0.8'] == True]\n",
    "\n",
    "# Select samples that have different values for oolumns 'ELN AML 2022 Diagnosis' and 'MethylScoreAML_Dx_predictions'\n",
    "df = df[df['ELN AML 2022 Diagnosis'] != df['MethylScoreAML_Dx_predictions']]"
   ]
  },
  {
   "cell_type": "code",
   "execution_count": 20,
   "metadata": {},
   "outputs": [],
   "source": [
    "# df.to_excel('data/ELN2022_MethylScore_prediction_comparisons.xlsx')"
   ]
  }
 ],
 "metadata": {
  "kernelspec": {
   "display_name": ".venv_py38",
   "language": "python",
   "name": "python3"
  },
  "language_info": {
   "codemirror_mode": {
    "name": "ipython",
    "version": 3
   },
   "file_extension": ".py",
   "mimetype": "text/x-python",
   "name": "python",
   "nbconvert_exporter": "python",
   "pygments_lexer": "ipython3",
   "version": "3.8.16"
  }
 },
 "nbformat": 4,
 "nbformat_minor": 2
}
