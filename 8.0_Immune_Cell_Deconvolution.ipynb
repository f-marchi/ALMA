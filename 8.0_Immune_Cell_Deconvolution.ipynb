{
 "cells": [
  {
   "attachments": {},
   "cell_type": "markdown",
   "metadata": {},
   "source": [
    "# Immune Cell Deconvolution"
   ]
  },
  {
   "cell_type": "markdown",
   "metadata": {},
   "source": [
    "## Where the data at?"
   ]
  },
  {
   "cell_type": "code",
   "execution_count": 1,
   "metadata": {},
   "outputs": [],
   "source": [
    "input_path = '../Data/Processed_Data/'\n",
    "output_path = '../Data/Processed_Data/Cell_Deconvolution/'"
   ]
  },
  {
   "attachments": {},
   "cell_type": "markdown",
   "metadata": {},
   "source": [
    "## Load AML Dataset"
   ]
  },
  {
   "cell_type": "code",
   "execution_count": 2,
   "metadata": {
    "tags": [
     "hide-input"
    ]
   },
   "outputs": [
    {
     "name": "stdout",
     "output_type": "stream",
     "text": [
      " Dataset (df) contains 1346 rows (CpG probes) and 310545 columns (samples).\n"
     ]
    }
   ],
   "source": [
    "import pandas as pd\n",
    "\n",
    "x = pd.read_pickle(input_path+'x.pkl')\n",
    "y = pd.read_csv(input_path+'y.csv', index_col=0)\n",
    "\n",
    "print(f' Dataset (df) contains {x.shape[0]} rows (CpG probes) and {x.shape[1]} columns (samples).')"
   ]
  },
  {
   "cell_type": "markdown",
   "metadata": {},
   "source": [
    "## Train-Test Split"
   ]
  },
  {
   "cell_type": "markdown",
   "metadata": {},
   "source": [
    "Here we will split the data into a training/discovery and testing/validation set.\n",
    "\n",
    "We will use ```y_train``` to denote the training set, and ```y_test``` to denote the testing set. "
   ]
  },
  {
   "cell_type": "code",
   "execution_count": 3,
   "metadata": {},
   "outputs": [
    {
     "name": "stdout",
     "output_type": "stream",
     "text": [
      "Discovery dataset (train) contains 310545 rows (mC sites) and 1142 columns (samples)\n",
      "\n",
      "AAML1031    520\n",
      "AAML0531    508\n",
      "AML05        64\n",
      "AAML03P1     36\n",
      "CCG2961      14\n",
      "\n",
      "Validation dataset (test) contains 310545 rows (mC sites) and 204 columns (samples).\n",
      "\n",
      "AML02    162\n",
      "AML08     42\n",
      "\n"
     ]
    }
   ],
   "source": [
    "# Split train and test by clinical trial\n",
    "y_train = y[~y['Clinical Trial'].isin(['AML02', 'AML08'])]\n",
    "y_test = y[y['Clinical Trial'].isin(['AML02', 'AML08'])]\n",
    "\n",
    "# Select samples in x that are in y_train\n",
    "x_train = x.loc[y_train.index]\n",
    "x_test = x.loc[y_test.index]\n",
    "\n",
    "\n",
    "print(\n",
    "    f\"Discovery dataset (train) contains {x_train.shape[1]} rows (mC sites) and {x_train.shape[0]} columns (samples)\")\n",
    "print(\n",
    "    f\"\\n{y_train['Clinical Trial'].value_counts(dropna=False).to_string()}\\n\")\n",
    "print(\n",
    "    f\"Validation dataset (test) contains {x_test.shape[1]} rows (mC sites) and {x_test.shape[0]} columns (samples).\")\n",
    "print(f\"\\n{y_test['Clinical Trial'].value_counts(dropna=False).to_string()}\\n\")\n"
   ]
  },
  {
   "cell_type": "markdown",
   "metadata": {},
   "source": [
    "## Batch Correction with pyCombat"
   ]
  },
  {
   "cell_type": "markdown",
   "metadata": {},
   "source": [
    "- __pyCombat__: a Python tool for batch effects correction in high-throughput molecular data using empirical Bayes methods\n",
    "\n",
    "- __Github__: [https://epigenelabs.github.io/pyComBat/](https://epigenelabs.github.io/pyComBat/)\n",
    "\n",
    "- __Implementation Paper__: [bioRxiv](https://doi.org/10.1101/2020.03.17.995431)\n",
    "\n",
    "- __Original Paper__: [Biostatistics](https://pubmed.ncbi.nlm.nih.gov/16632515/)"
   ]
  },
  {
   "cell_type": "code",
   "execution_count": 4,
   "metadata": {},
   "outputs": [
    {
     "name": "stdout",
     "output_type": "stream",
     "text": [
      "Found 4 batches.\n",
      "Adjusting for 0 covariate(s) or covariate level(s).\n",
      "Standardizing Data across genes.\n",
      "Fitting L/S model and finding priors.\n",
      "Finding parametric adjustments.\n",
      "Adjusting the Data\n",
      "Succesfully corrected batch effects in the training dataset.\n"
     ]
    }
   ],
   "source": [
    "from combat.pycombat import pycombat\n",
    "\n",
    "# Correct batch effects in the training dataset\n",
    "x_train2 = pycombat(x_train.T, y_train['Batch']).T\n",
    "\n",
    "print('Succesfully corrected batch effects in the training dataset.')\n"
   ]
  },
  {
   "attachments": {},
   "cell_type": "markdown",
   "metadata": {},
   "source": [
    "## Load Reference Dataset"
   ]
  },
  {
   "attachments": {},
   "cell_type": "markdown",
   "metadata": {},
   "source": [
    "- __FlowSorted.Blood.EPIC__: An optimized library for reference-based deconvolution of whole-blood biospecimens, __n=49__\n",
    "\n",
    "- __GEO__: [GSE110554](https://www.ncbi.nlm.nih.gov/geo/query/acc.cgi?acc=GSE110554)\n",
    "\n",
    "- __PMID__: [29843789](https://www.ncbi.nlm.nih.gov/pubmed/29843789)\n",
    "\n",
    "- __Description__:  Bisulphite converted DNA from neutrophils (Neu, n=6), monocytes (Mono, n=6), B-lymphocytes (Bcells, n=6), CD4+ T-cells (CD4T, n=7, six samples and one technical replicate), CD8+ T-cells (CD8T, n=6), Natural Killer cells (NK, n=6), and 12 DNA artificial mixtures (labeled as MIX in the dataset) were hybridised to the Illumina Infinium HumanMethylationEPIC Beadchip v1.0_B4\n",
    "\n",
    "- __External Validation__: [Significant variation in the performance of DNA methylation predictors across data preprocessing and normalization strategies](https://pubmed.ncbi.nlm.nih.gov/36280888/)\n",
    "\n",
    "- __CSV file__: [Download](https://static-content.springer.com/esm/art%3A10.1186%2Fs13059-018-1448-7/MediaObjects/13059_2018_1448_MOESM4_ESM.csv)"
   ]
  },
  {
   "cell_type": "code",
   "execution_count": 5,
   "metadata": {
    "tags": [
     "hide-input"
    ]
   },
   "outputs": [],
   "source": [
    "ref = pd.read_pickle(output_path+'paper_defined_immune_reference.pkl')\n",
    "# remove index name\n",
    "ref.index.name = None\n",
    "# remove duplicates from index\n",
    "ref = ref[~ref.index.duplicated(keep='first')]\n",
    "\n",
    "# Harmonize index of reference data with our data\n",
    "merge = ref.join(x.T, how='inner')\n",
    "\n",
    "# update ref and mix with merge index\n",
    "ref = ref.loc[merge.index]\n",
    "mix = x_train2.T.loc[merge.index]\n",
    "mix_test = x_test.T.loc[merge.index]\n",
    "\n",
    "# save ref and mix to csv\n",
    "ref.to_csv(output_path+'ReferenceData_ARIC.csv')\n",
    "mix.to_csv(output_path+'Input_TrainData_ARIC.csv')\n",
    "mix_test.to_csv(output_path+'Input_TestData_ARIC.csv')"
   ]
  },
  {
   "attachments": {},
   "cell_type": "markdown",
   "metadata": {},
   "source": [
    "## Immune Cell Deconvolution with ARIC"
   ]
  },
  {
   "attachments": {},
   "cell_type": "markdown",
   "metadata": {},
   "source": [
    "- __ARIC__: Accurate and robust inference of cell type proportions from bulk gene expression or DNA methylation data\n",
    "\n",
    "- __Website__: [xwanglabthu.github.io/ARIC/](xwanglabthu.github.io/ARIC/)\n",
    "\n",
    "- __PMID__: [34472588](https://pubmed.ncbi.nlm.nih.gov/34472588/)\n",
    "\n",
    "- __External Validation__: [A systematic assessment of cell type deconvolution algorithms for DNA methylation data](https://doi.org/10.1093/bib/bbac449)"
   ]
  },
  {
   "cell_type": "code",
   "execution_count": 9,
   "metadata": {
    "tags": [
     "hide-input"
    ]
   },
   "outputs": [
    {
     "name": "stdout",
     "output_type": "stream",
     "text": [
      "---------------------------------------------\n",
      "--------------WELCOME TO ARIC----------------\n",
      "---------------------------------------------\n",
      "Data reading finished!\n",
      "ARIC Engines Start, Please Wait......\n"
     ]
    },
    {
     "name": "stderr",
     "output_type": "stream",
     "text": [
      "100%|██████████| 1142/1142 [03:26<00:00,  5.53it/s]\n"
     ]
    },
    {
     "name": "stdout",
     "output_type": "stream",
     "text": [
      "Deconvo Results Saving!\n",
      "Finished!\n",
      "---------------------------------------------\n",
      "--------------WELCOME TO ARIC----------------\n",
      "---------------------------------------------\n",
      "Data reading finished!\n",
      "ARIC Engines Start, Please Wait......\n"
     ]
    },
    {
     "name": "stderr",
     "output_type": "stream",
     "text": [
      "100%|██████████| 204/204 [00:37<00:00,  5.47it/s]"
     ]
    },
    {
     "name": "stdout",
     "output_type": "stream",
     "text": [
      "Deconvo Results Saving!\n",
      "Finished!\n"
     ]
    },
    {
     "name": "stderr",
     "output_type": "stream",
     "text": [
      "\n"
     ]
    }
   ],
   "source": [
    "from ARIC import *\n",
    "\n",
    "# Run cell deconvolution on train data\n",
    "ARIC(mix_path=output_path+'Input_TrainData_ARIC.csv',\n",
    "     ref_path=output_path+'ReferenceData_ARIC.csv',\n",
    "     is_methylation=True,\n",
    "     ,\n",
    "     unknown=True,\n",
    "     save_path=output_path+'Results_TrainData_ARIC.csv')\n",
    "\n",
    "# Run cell deconvolution on test data\n",
    "ARIC(mix_path=output_path+'Input_TestData_ARIC.csv',\n",
    "     ref_path=output_path+'ReferenceData_ARIC.csv',\n",
    "     is_methylation=True,\n",
    "     unknown=True,\n",
    "     save_path=output_path+'Results_TestData_ARIC.csv')\n"
   ]
  },
  {
   "attachments": {},
   "cell_type": "markdown",
   "metadata": {},
   "source": [
    "## Watermark"
   ]
  },
  {
   "cell_type": "code",
   "execution_count": 7,
   "metadata": {
    "tags": [
     "remove-input",
     "remove-output"
    ]
   },
   "outputs": [],
   "source": [
    "%load_ext watermark"
   ]
  },
  {
   "cell_type": "code",
   "execution_count": 8,
   "metadata": {
    "tags": [
     "remove-input"
    ]
   },
   "outputs": [
    {
     "name": "stdout",
     "output_type": "stream",
     "text": [
      "Python implementation: CPython\n",
      "Python version       : 3.10.10\n",
      "IPython version      : 8.3.0\n",
      "\n",
      "numpy     : 1.24.2\n",
      "pandas    : 1.5.3\n",
      "matplotlib: 3.7.1\n",
      "seaborn   : 0.12.2\n",
      "scipy     : 1.10.1\n",
      "sklearn   : 0.0.post1\n",
      "combat    : 0.3.3\n",
      "ARIC      : 1.0.0\n",
      "\n"
     ]
    }
   ],
   "source": [
    "%watermark -v -p numpy,pandas,matplotlib,seaborn,scipy,sklearn,combat,ARIC"
   ]
  }
 ],
 "metadata": {
  "kernelspec": {
   "display_name": ".venv_sklearn",
   "language": "python",
   "name": "python3"
  },
  "language_info": {
   "codemirror_mode": {
    "name": "ipython",
    "version": 3
   },
   "file_extension": ".py",
   "mimetype": "text/x-python",
   "name": "python",
   "nbconvert_exporter": "python",
   "pygments_lexer": "ipython3",
   "version": "3.10.10"
  },
  "orig_nbformat": 4,
  "vscode": {
   "interpreter": {
    "hash": "bea0b97f2aeab51a41f683aa60895cc0e821b0a2b6d8fed7be73bd28506d07e0"
   }
  }
 },
 "nbformat": 4,
 "nbformat_minor": 2
}
