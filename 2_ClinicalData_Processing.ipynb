{
 "cells": [
  {
   "attachments": {},
   "cell_type": "markdown",
   "metadata": {},
   "source": [
    "# Clinical Data Processing"
   ]
  },
  {
   "attachments": {},
   "cell_type": "markdown",
   "metadata": {},
   "source": [
    "## Where the data at?"
   ]
  },
  {
   "cell_type": "code",
   "execution_count": 1,
   "metadata": {},
   "outputs": [],
   "source": [
    "input_path = '../Data/Intermediate_Files/'\n",
    "clinical_data_path = '../Data/Raw_Data/Clinical_Data/'\n",
    "output_path = '../Data/Processed_Data/'"
   ]
  },
  {
   "attachments": {},
   "cell_type": "markdown",
   "metadata": {},
   "source": [
    "## Load Methyl Data"
   ]
  },
  {
   "cell_type": "code",
   "execution_count": 3,
   "metadata": {
    "tags": [
     "hide-input"
    ]
   },
   "outputs": [
    {
     "name": "stdout",
     "output_type": "stream",
     "text": [
      " Dataset (df) contains 333352 columns (5mC nucleotides/probes) and 3330 rows (samples).\n"
     ]
    }
   ],
   "source": [
    "import pandas as pd\n",
    "\n",
    "df_methyl = pd.read_pickle(\n",
    "    input_path+'2_MethylData_Processing_Output.pkl')\n",
    "\n",
    "print(\n",
    "    f' Dataset (df) contains {df_methyl.shape[1]} columns (5mC nucleotides/probes) and {df_methyl.shape[0]} rows (samples).')\n"
   ]
  },
  {
   "attachments": {},
   "cell_type": "markdown",
   "metadata": {},
   "source": [
    "## Add Labels/Clinical Outcome Data"
   ]
  },
  {
   "cell_type": "code",
   "execution_count": null,
   "metadata": {},
   "outputs": [],
   "source": [
    "# Import functions to clean up clinical data\n",
    "from FM_Functions.Clinical_Data_CleanUp import *\n",
    "\n",
    "# Call functions to merge, index and clean clinical data files\n",
    "labels_0531         = clean_cog       (merge_index_0531())\n",
    "labels_1031         = clean_cog       (merge_index_1031())\n",
    "labels_aml05        = clean_aml05     (merge_index_aml05())\n",
    "labels_beataml      = clean_beataml   (merge_index_beataml())\n",
    "labels_amltcga      = clean_amltcga   (merge_index_amltcga())\n",
    "labels_nordic_all   = clean_nordic_all(merge_index_nordic_all())\n",
    "labels_mds_taml     = clean_mds_taml  (merge_index_mds_taml())\n",
    "labels_all_graal    = clean_all_graal (merge_index_all_graal())\n",
    "labels_target_all   = clean_target_all(merge_index_target_all())\n",
    "\n",
    "# Combine all clinical data labels into one dataframe\n",
    "labels_combined = pd.concat([labels_aml05, labels_beataml,\n",
    "                         labels_0531, labels_amltcga, labels_1031,\n",
    "                        labels_nordic_all, labels_mds_taml,\n",
    "                        labels_all_graal,labels_target_all], axis=0, join='outer')\n",
    "\n",
    "# Remove samples that are not in the methyl dataset\n",
    "df_labels = labels_combined.loc[labels_combined.index.isin(df_methyl.index)]\n",
    "\n",
    "## Save each of the labels in excel format\n",
    "# labels_0531.to_excel(output_path + 'labels_0531.xlsx')\n",
    "# labels_1031.to_excel(output_path + 'labels_1031.xlsx')\n",
    "# labels_aml05.to_excel(output_path + 'labels_aml05.xlsx')\n",
    "# labels_beataml.to_excel(output_path + 'labels_beataml.xlsx')\n",
    "# labels_amltcga.to_excel(output_path + 'labels_amltcga.xlsx')\n",
    "# labels_nordic_all.to_excel(output_path + 'labels_nordic_all.xlsx')\n",
    "# labels_mds_taml.to_excel(output_path + 'labels_mds_taml.xlsx')\n",
    "# labels_all_graal.to_excel(output_path + 'labels_all_graal.xlsx')\n",
    "# labels_target_all.to_excel(output_path + 'labels_target_all.xlsx')"
   ]
  },
  {
   "attachments": {},
   "cell_type": "markdown",
   "metadata": {},
   "source": [
    "### Evaluate Sample Types"
   ]
  },
  {
   "cell_type": "code",
   "execution_count": 7,
   "metadata": {
    "tags": [
     "hide-input"
    ]
   },
   "outputs": [
    {
     "data": {
      "text/plain": [
       "Sample Type\n",
       "Diagnosis                                            2226\n",
       "Relapse                                               252\n",
       "Bone Marrow Normal                                    234\n",
       "Primary Blood Derived Cancer - Bone Marrow            205\n",
       "Likely Diagnosis                                      141\n",
       "Recurrent Blood Derived Cancer - Bone Marrow           61\n",
       "Primary Blood Derived Cancer - Peripheral Blood        28\n",
       "normal CD19+ cells                                     25\n",
       "normal CD3+ cells                                      25\n",
       "3-5M                                                   24\n",
       "> or equal to 12M                                      20\n",
       "6-11M                                                  19\n",
       "<3M                                                    17\n",
       "Healthy Thymus                                         12\n",
       "Control (Healthy Donor)                                10\n",
       "Lymphoid Normal                                        10\n",
       "Blood Derived Normal                                    7\n",
       "Recurrent Blood Derived Cancer - Peripheral Blood       6\n",
       "Peripheral Blood Normal                                 4\n",
       "Post Transplant                                         3\n",
       "pooled normal CD34+ cells                               1\n",
       "Name: count, dtype: int64"
      ]
     },
     "execution_count": 7,
     "metadata": {},
     "output_type": "execute_result"
    }
   ],
   "source": [
    "df_labels['Sample Type'].value_counts(dropna=False)"
   ]
  },
  {
   "attachments": {},
   "cell_type": "markdown",
   "id": "3c02342a",
   "metadata": {},
   "source": [
    "## Remove Samples based on Certain Clinical Features"
   ]
  },
  {
   "attachments": {},
   "cell_type": "markdown",
   "metadata": {},
   "source": [
    "### Remove Relapse Samples"
   ]
  },
  {
   "cell_type": "code",
   "execution_count": 5,
   "id": "41f406b9",
   "metadata": {
    "tags": [
     "hide-input"
    ]
   },
   "outputs": [
    {
     "name": "stdout",
     "output_type": "stream",
     "text": [
      "Out of 1762 samples, 248 matched, yielding 1514 samples after filtering\n"
     ]
    }
   ],
   "source": [
    "df1 = df_[~df_['Sample Type'].isin(['Relapse', 'Recurrent Blood Derived Cancer - Bone Marrow',\n",
    "                                    'Recurrent Blood Derived Cancer - Peripheral Blood'])]\n",
    "\n",
    "print(\n",
    "    f'Out of {df_.shape[0]} samples, {df_.shape[0]-df1.shape[0]} matched, yielding {df1.shape[0]} samples after filtering')\n"
   ]
  },
  {
   "attachments": {},
   "cell_type": "markdown",
   "metadata": {},
   "source": [
    "### Remove Control/Normal Samples"
   ]
  },
  {
   "cell_type": "code",
   "execution_count": 6,
   "metadata": {
    "tags": [
     "hide-input"
    ]
   },
   "outputs": [
    {
     "name": "stdout",
     "output_type": "stream",
     "text": [
      "Out of 1514 samples, 154 matched, yielding 1360 samples after filtering\n"
     ]
    }
   ],
   "source": [
    "df2 = df1[~df1['Sample Type'].isin(\n",
    "    ['Bone Marrow Normal', 'Blood Derived Normal'])]\n",
    "print(\n",
    "    f'Out of {df1.shape[0]} samples, {df1.shape[0]-df2.shape[0]} matched, yielding {df2.shape[0]} samples after filtering')\n"
   ]
  },
  {
   "attachments": {},
   "cell_type": "markdown",
   "metadata": {},
   "source": [
    "### Remove Duplicate Samples"
   ]
  },
  {
   "cell_type": "code",
   "execution_count": 7,
   "metadata": {
    "tags": [
     "hide-input"
    ]
   },
   "outputs": [
    {
     "name": "stdout",
     "output_type": "stream",
     "text": [
      "Out of 1360 samples, 14 matched, yielding 1346 samples after filtering\n"
     ]
    }
   ],
   "source": [
    "df3 = df2[~df2['Patient_ID'].duplicated(keep='last')]\n",
    "print(\n",
    "    f'Out of {df2.shape[0]} samples, {df2.shape[0]-df3.shape[0]} matched, yielding {df3.shape[0]} samples after filtering')\n"
   ]
  },
  {
   "attachments": {},
   "cell_type": "markdown",
   "id": "39875e9e",
   "metadata": {},
   "source": [
    "## Save Files"
   ]
  },
  {
   "cell_type": "code",
   "execution_count": 8,
   "metadata": {
    "tags": [
     "hide-input"
    ]
   },
   "outputs": [],
   "source": [
    "output = df3.join(df_methyl,how='left') # Join clinical data with methyl data\n",
    "\n",
    "x = output.iloc[:,df3.shape[1]+1:] # Select only methyl data\n",
    "y = output.iloc[:,0:df3.shape[1]+1] # Select only clinical data"
   ]
  },
  {
   "cell_type": "code",
   "execution_count": 9,
   "metadata": {},
   "outputs": [
    {
     "name": "stdout",
     "output_type": "stream",
     "text": [
      "Discovery dataset (train) contains 310545 rows (5mC sites) and 1142 columns (samples)\n",
      "\n",
      "AAML1031    520\n",
      "AAML0531    508\n",
      "AML05        64\n",
      "AAML03P1     36\n",
      "CCG2961      14\n",
      "\n",
      "Validation dataset (test) contains 310545 rows (5mC sites) and 204 columns (samples).\n",
      "\n",
      "AML02    162\n",
      "AML08     42\n",
      "\n"
     ]
    }
   ],
   "source": [
    "# Split train and test by clinical trial\n",
    "y_train = y[~y['Clinical Trial'].isin(['AML02', 'AML08'])]\n",
    "# y_train = y_train[y_train['Sample Type'].isin(['Diagnosis',\n",
    "#        'Primary Blood Derived Cancer - Bone Marrow', 'Bone Marrow Normal',\n",
    "#        'Primary Blood Derived Cancer - Peripheral Blood',\n",
    "#        'Blood Derived Normal'])]\n",
    "\n",
    "y_test = y[y['Clinical Trial'].isin(['AML02', 'AML08'])]\n",
    "\n",
    "# Select samples in x that are in y_train\n",
    "x_train = x.loc[y_train.index]\n",
    "x_test = x.loc[y_test.index]\n",
    "\n",
    "# x_train = pd.concat([x_train, ctrl_x], axis=0)\n",
    "# y_train = pd.concat([y_train, ctrl_y], axis=0,keys=['Diagnosis','Control'], names=['sample_type'])\n",
    "\n",
    "\n",
    "print(\n",
    "    f\"Discovery dataset (train) contains {x_train.shape[1]} rows (5mC sites) and {x_train.shape[0]} columns (samples)\")\n",
    "print(\n",
    "    f\"\\n{y_train['Clinical Trial'].value_counts(dropna=False).to_string()}\\n\")\n",
    "print(\n",
    "    f\"Validation dataset (test) contains {x_test.shape[1]} rows (5mC sites) and {x_test.shape[0]} columns (samples).\")\n",
    "print(f\"\\n{y_test['Clinical Trial'].value_counts(dropna=False).to_string()}\\n\")\n"
   ]
  },
  {
   "attachments": {},
   "cell_type": "markdown",
   "metadata": {},
   "source": [
    "### Save Control and Relapse Data Separately"
   ]
  },
  {
   "cell_type": "code",
   "execution_count": 13,
   "metadata": {
    "tags": [
     "hide-input"
    ]
   },
   "outputs": [
    {
     "name": "stdout",
     "output_type": "stream",
     "text": [
      "Successfuly saved 147 control samples and 248 relapse samples.\n",
      "Path: ../Data/Processed_Data/\n"
     ]
    }
   ],
   "source": [
    "controls = df_[df_['Sample Type'].isin(['Bone Marrow Normal'])]\n",
    "\n",
    "relapse = df_[df_['Sample Type'].isin(['Relapse', 'Recurrent Blood Derived Cancer - Bone Marrow',\n",
    "                                       'Recurrent Blood Derived Cancer - Peripheral Blood'])]\n",
    "\n",
    "# Merge control and relapse samples\n",
    "t = pd.concat([controls, relapse], axis=0, join='outer',\n",
    "              names=['Control', 'Relapse'])\n",
    "\n",
    "# Join clinical data with methyl data\n",
    "t2 = df_methyl.join(t, how='right')\n",
    "\n",
    "# Save merged control and relapse samples\n",
    "t2.to_pickle(output_path+'control_relapse.pkl')\n",
    "\n",
    "print(\n",
    "    f'Successfuly saved {controls.shape[0]} control samples and {relapse.shape[0]} relapse samples.\\nPath: {output_path}')\n"
   ]
  },
  {
   "attachments": {},
   "cell_type": "markdown",
   "metadata": {},
   "source": [
    "## Watermark"
   ]
  },
  {
   "cell_type": "code",
   "execution_count": 14,
   "metadata": {
    "tags": [
     "remove-input",
     "remove-output"
    ]
   },
   "outputs": [],
   "source": [
    "%load_ext watermark"
   ]
  },
  {
   "cell_type": "code",
   "execution_count": 15,
   "metadata": {
    "tags": [
     "remove-input"
    ]
   },
   "outputs": [
    {
     "name": "stdout",
     "output_type": "stream",
     "text": [
      "Python implementation: CPython\n",
      "Python version       : 3.10.10\n",
      "IPython version      : 8.3.0\n",
      "\n",
      "pandas: 1.5.3\n",
      "\n"
     ]
    }
   ],
   "source": [
    "# produce a list of the loaded modules\n",
    "%watermark -v -p pandas"
   ]
  }
 ],
 "metadata": {
  "celltoolbar": "Tags",
  "kernelspec": {
   "display_name": ".venv_data_vizualization",
   "language": "python",
   "name": "python3"
  },
  "language_info": {
   "codemirror_mode": {
    "name": "ipython",
    "version": 3
   },
   "file_extension": ".py",
   "mimetype": "text/x-python",
   "name": "python",
   "nbconvert_exporter": "python",
   "pygments_lexer": "ipython3",
   "version": "3.8.16"
  },
  "vscode": {
   "interpreter": {
    "hash": "1536c79f85cc2a2ac13c148ca716b8e28acb6745983d6aacea6d4fcb49ea6e2e"
   }
  }
 },
 "nbformat": 4,
 "nbformat_minor": 2
}
