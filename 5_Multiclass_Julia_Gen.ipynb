{
 "cells": [
  {
   "attachments": {},
   "cell_type": "markdown",
   "metadata": {},
   "source": [
    "# Bayesian Inference with Julia - Gen"
   ]
  },
  {
   "cell_type": "markdown",
   "metadata": {},
   "source": [
    "This is a passionate child's introduction to probabilistic programming and Bayesian inference using Julia and Gen."
   ]
  },
  {
   "attachments": {},
   "cell_type": "markdown",
   "metadata": {},
   "source": [
    "## Load data"
   ]
  },
  {
   "cell_type": "code",
   "execution_count": 1,
   "metadata": {
    "tags": [
     "hide-input",
     "hide-output"
    ]
   },
   "outputs": [
    {
     "name": "stdout",
     "output_type": "stream",
     "text": [
      "X_train: (1399, 5)\n",
      "y_train: (1399,)\n",
      "X_test: (110, 5)\n",
      "y_test: (110,)\n"
     ]
    }
   ],
   "source": [
    "using DataFrames, CSV\n",
    "\n",
    "input_path = \"../Data/Intermediate_Files/\"\n",
    "output_path = \"../Data/Processed_Data/\"\n",
    "\n",
    "# Load pacmap output data\n",
    "df = CSV.read(output_path*\"pacmap_output/pacmap_5d_output_acute_leukemia_cleaned.csv\", DataFrame)\n",
    "\n",
    "# Define X and y\n",
    "X = Matrix(df[:, [\"PaCMAP 1\", \"PaCMAP 2\", \"PaCMAP 3\", \"PaCMAP 4\", \"PaCMAP 5\"]])  # shape (n_samples=1399, n_features=5)\n",
    "y = df[:, \"ELN AML 2022 Diagnosis\"]  # shape (n_samples=1399,) with 11 string classes\n",
    "\n",
    "X_train = X[df[!, \"Train Test\"] .== \"Discovery (train) Samples\", :]\n",
    "y_train = y[df[!, \"Train Test\"] .== \"Discovery (train) Samples\"]\n",
    "X_test = X[df[!, \"Train Test\"] .== \"Validation (test) Samples\", :]\n",
    "y_test = y[df[!, \"Train Test\"] .== \"Validation (test) Samples\"]\n",
    "\n",
    "# Mapping from string labels to integer labels\n",
    "using MLBase\n",
    "label_to_int = labelmap(y_train)\n",
    "\n",
    "# Convert y_train and y_test to integer labels\n",
    "y_train = labelencode(label_to_int, y_train)\n",
    "y_test = labelencode(label_to_int, y_test)\n",
    "\n",
    "# Prepare your data\n",
    "num_classes = length(unique(y_train)) # 11 classes\n",
    "num_features = size(X_train, 2) # 5 features\n",
    "\n",
    "# print size of each set\n",
    "println(\"X_train: \", size(X_train)) # X_train: (1399, 5)\n",
    "println(\"y_train: \", size(y_train)) # y_train: (1399,)\n",
    "println(\"X_test: \", size(X_test)) # X_test: (110, 5)\n",
    "println(\"y_test: \", size(y_test)) # y_test: (110,)\n"
   ]
  },
  {
   "cell_type": "markdown",
   "metadata": {},
   "source": [
    "## Define the multinomial logistic regression model"
   ]
  },
  {
   "cell_type": "code",
   "execution_count": 3,
   "metadata": {
    "tags": [
     "hide-input"
    ]
   },
   "outputs": [
    {
     "data": {
      "text/plain": [
       "DynamicDSLFunction{Any}(Dict{Symbol, Any}(), Dict{Symbol, Any}(), Type[Array{Float64}, Array{Int64}], false, Union{Nothing, Some{Any}}[nothing, nothing], var\"##logistic_regression_model#292\", Bool[0, 0], false)"
      ]
     },
     "execution_count": 3,
     "metadata": {},
     "output_type": "execute_result"
    }
   ],
   "source": [
    "# Install necessary packages\n",
    "using Gen, Distributions\n",
    "\n",
    "# Define our logistic model\n",
    "@gen function logistic_regression_model(X::Array{Float64}, y::Array{Int64})\n",
    "    # Define the priors for our weights. Here we are assuming a Gaussian prior for simplicity.\n",
    "    # The mean is 0 and the standard deviation is 1.\n",
    "\n",
    "    weights = @trace(mvnormal(zeros(num_features), Matrix{Float64}(I, num_features, num_features)), :weights)\n",
    "\n",
    "    # Compute the log-odds\n",
    "    for i in 1:size(X, 1)\n",
    "        # Dot product of the features and the weights gives the log-odds\n",
    "        log_odds = X[i, :] * weights\n",
    "\n",
    "        # We then convert this to a probability using the softmax function\n",
    "        probabilities = softmax(log_odds)\n",
    "\n",
    "        # Our observation is then a categorical distribution with the calculated probabilities\n",
    "        @trace(categorical(probabilities), (:y, i))\n",
    "    end\n",
    "end"
   ]
  },
  {
   "cell_type": "markdown",
   "metadata": {},
   "source": [
    "## Run Bayesian inference"
   ]
  },
  {
   "cell_type": "markdown",
   "metadata": {},
   "source": [
    "This will estimate the posterior distribution of our weights given the observed data. \n",
    "Here we attempt the inference algorithm Metropolis-Hastings, which is a Markov chain Monte Carlo (MCMC) method."
   ]
  },
  {
   "cell_type": "code",
   "execution_count": 5,
   "metadata": {
    "tags": [
     "hide-input"
    ]
   },
   "outputs": [
    {
     "ename": "LoadError",
     "evalue": "MethodError: no method matching *(::Vector{Float64}, ::Vector{Float64})\n\n\u001b[0mClosest candidates are:\n\u001b[0m  *(::Any, ::Any, \u001b[91m::Any\u001b[39m, \u001b[91m::Any...\u001b[39m)\n\u001b[0m\u001b[90m   @\u001b[39m \u001b[90mBase\u001b[39m \u001b[90m\u001b[4moperators.jl:578\u001b[24m\u001b[39m\n\u001b[0m  *(\u001b[91m::StridedMatrix{T}\u001b[39m, ::StridedVector{S}) where {T<:Union{Float32, Float64, ComplexF32, ComplexF64}, S<:Real}\n\u001b[0m\u001b[90m   @\u001b[39m \u001b[32mLinearAlgebra\u001b[39m \u001b[90m/opt/julia-1.9.2/share/julia/stdlib/v1.9/LinearAlgebra/src/\u001b[39m\u001b[90m\u001b[4mmatmul.jl:49\u001b[24m\u001b[39m\n\u001b[0m  *(::StridedVecOrMat, \u001b[91m::LinearAlgebra.LQPackedQ\u001b[39m)\n\u001b[0m\u001b[90m   @\u001b[39m \u001b[32mLinearAlgebra\u001b[39m \u001b[90m/opt/julia-1.9.2/share/julia/stdlib/v1.9/LinearAlgebra/src/\u001b[39m\u001b[90m\u001b[4mlq.jl:293\u001b[24m\u001b[39m\n\u001b[0m  ...\n",
     "output_type": "error",
     "traceback": [
      "MethodError: no method matching *(::Vector{Float64}, ::Vector{Float64})\n\n\u001b[0mClosest candidates are:\n\u001b[0m  *(::Any, ::Any, \u001b[91m::Any\u001b[39m, \u001b[91m::Any...\u001b[39m)\n\u001b[0m\u001b[90m   @\u001b[39m \u001b[90mBase\u001b[39m \u001b[90m\u001b[4moperators.jl:578\u001b[24m\u001b[39m\n\u001b[0m  *(\u001b[91m::StridedMatrix{T}\u001b[39m, ::StridedVector{S}) where {T<:Union{Float32, Float64, ComplexF32, ComplexF64}, S<:Real}\n\u001b[0m\u001b[90m   @\u001b[39m \u001b[32mLinearAlgebra\u001b[39m \u001b[90m/opt/julia-1.9.2/share/julia/stdlib/v1.9/LinearAlgebra/src/\u001b[39m\u001b[90m\u001b[4mmatmul.jl:49\u001b[24m\u001b[39m\n\u001b[0m  *(::StridedVecOrMat, \u001b[91m::LinearAlgebra.LQPackedQ\u001b[39m)\n\u001b[0m\u001b[90m   @\u001b[39m \u001b[32mLinearAlgebra\u001b[39m \u001b[90m/opt/julia-1.9.2/share/julia/stdlib/v1.9/LinearAlgebra/src/\u001b[39m\u001b[90m\u001b[4mlq.jl:293\u001b[24m\u001b[39m\n\u001b[0m  ...\n",
      "",
      "Stacktrace:",
      " [1] var\"##logistic_regression_model#292\"(state#294::Gen.GFGenerateState, X::Matrix{Float64}, y::Vector{Int64})",
      "   @ Main ./In[3]:14",
      " [2] exec(gen_fn::DynamicDSLFunction{Any}, state::Gen.GFGenerateState, args::Tuple{Matrix{Float64}, Vector{Int64}})",
      "   @ Gen ~/.julia/packages/Gen/Dne3u/src/dynamic/dynamic.jl:58",
      " [3] generate(gen_fn::DynamicDSLFunction{Any}, args::Tuple{Matrix{Float64}, Vector{Int64}}, constraints::DynamicChoiceMap)",
      "   @ Gen ~/.julia/packages/Gen/Dne3u/src/dynamic/generate.jl:84",
      " [4] top-level scope",
      "   @ ./In[5]:15"
     ]
    }
   ],
   "source": [
    "using LinearAlgebra\n",
    "\n",
    "# Specify the data to be used in the model\n",
    "data = (X_train, y_train)\n",
    "\n",
    "# Define our proposal distribution, which randomly walks in the space of weights\n",
    "@gen function proposal(weights::Array{Float64})\n",
    "    @trace(mvnormal(weights, 0.1*Matrix{Float64}(I, num_features, num_features)), :weights)\n",
    "end\n",
    "\n",
    "# Perform inference using Metropolis-Hastings\n",
    "traces = []\n",
    "for i in 1:2000\n",
    "    if i == 1\n",
    "        trace, = Gen.generate(logistic_regression_model, data, choicemap())\n",
    "    else\n",
    "        trace, = Gen.mh(trace, proposal)\n",
    "    end\n",
    "    push!(traces, trace)\n",
    "end\n"
   ]
  },
  {
   "cell_type": "markdown",
   "metadata": {},
   "source": [
    "### Troubleshooting required here :("
   ]
  },
  {
   "cell_type": "markdown",
   "metadata": {},
   "source": [
    "## System Info"
   ]
  },
  {
   "cell_type": "code",
   "execution_count": 7,
   "metadata": {
    "tags": [
     "hide-input"
    ]
   },
   "outputs": [
    {
     "name": "stdout",
     "output_type": "stream",
     "text": [
      "Julia Version: 1.9.2\n",
      "System: Linux\n",
      "Architecture: x86_64\n",
      "CPU cores: 20\n",
      "Byte Order: Little Endian\n",
      "\u001b[32m\u001b[1mStatus\u001b[22m\u001b[39m `~/.julia/environments/v1.9/Project.toml`\n",
      "  \u001b[90m[a93c6f00] \u001b[39mDataFrames v1.6.0\n",
      "\u001b[32m\u001b[1mStatus\u001b[22m\u001b[39m `~/.julia/environments/v1.9/Project.toml`\n",
      "  \u001b[90m[336ed68f] \u001b[39mCSV v0.10.11\n",
      "\u001b[32m\u001b[1mStatus\u001b[22m\u001b[39m `~/.julia/environments/v1.9/Project.toml`\n",
      "  \u001b[90m[f0e99cf1] \u001b[39mMLBase v0.9.1\n",
      "\u001b[32m\u001b[1mStatus\u001b[22m\u001b[39m `~/.julia/environments/v1.9/Project.toml`\n",
      "  \u001b[90m[ea4f424c] \u001b[39mGen v0.4.5\n",
      "\u001b[32m\u001b[1mStatus\u001b[22m\u001b[39m `~/.julia/environments/v1.9/Project.toml`\n",
      "  \u001b[90m[31c24e10] \u001b[39mDistributions v0.25.98\n",
      "\u001b[32m\u001b[1mNo Matches\u001b[22m\u001b[39m in `~/.julia/environments/v1.9/Project.toml`\n"
     ]
    }
   ],
   "source": [
    "using InteractiveUtils\n",
    "\n",
    "println(\"Julia Version: \", VERSION)\n",
    "println(\"System: \", Sys.KERNEL)\n",
    "println(\"Architecture: \", Sys.ARCH)\n",
    "println(\"CPU cores: \", Sys.CPU_THREADS)\n",
    "println(\"Byte Order: \", ENDIAN_BOM == 0x04030201 ? \"Little Endian\" : \"Big Endian\")\n",
    "\n",
    "using Pkg\n",
    "\n",
    "Pkg.status(\"DataFrames\")\n",
    "Pkg.status(\"CSV\")\n",
    "Pkg.status(\"MLBase\")\n",
    "Pkg.status(\"Gen\")\n",
    "Pkg.status(\"Distributions\")\n",
    "Pkg.status(\"LinearAlgebra\")"
   ]
  },
  {
   "cell_type": "markdown",
   "metadata": {},
   "source": [
    "## SPPL as a pythonic alternative"
   ]
  },
  {
   "cell_type": "markdown",
   "metadata": {},
   "source": [
    "- __SPPL__: Sum-Product Probabilistic Language\n",
    "\n",
    "- __Github__: [https://github.com/probsys/sppl](https://github.com/probsys/sppl)\n",
    "\n",
    "- __Paper__: [SPPL: Probabilistic Programming with Fast Exact Symbolic Inference](https://arxiv.org/abs/2010.03485)\n",
    "\n",
    "- __Intro on SPNs__: [Visualizing and understanding Sum-Product Networks](https://link.springer.com/article/10.1007/s10994-018-5760-y)"
   ]
  }
 ],
 "metadata": {
  "kernelspec": {
   "display_name": "Julia 1.9.2",
   "language": "julia",
   "name": "julia-1.9"
  },
  "language_info": {
   "file_extension": ".jl",
   "mimetype": "application/julia",
   "name": "julia",
   "version": "1.9.2"
  },
  "orig_nbformat": 4
 },
 "nbformat": 4,
 "nbformat_minor": 2
}
