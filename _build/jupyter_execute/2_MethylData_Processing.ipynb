{
 "cells": [
  {
   "attachments": {},
   "cell_type": "markdown",
   "metadata": {},
   "source": [
    "# Methyl Array Data Processing"
   ]
  },
  {
   "attachments": {},
   "cell_type": "markdown",
   "metadata": {},
   "source": [
    "## Data Sources"
   ]
  },
  {
   "attachments": {},
   "cell_type": "markdown",
   "metadata": {},
   "source": [
    "Here is a summary of the datasets used:\n",
    "\n",
    "1. AAML1031 ([GSE190931](https://www.ncbi.nlm.nih.gov/geo/query/acc.cgi?acc=GSE190931)), __n=1048__\n",
    "2. AAML0531 ([GSE124413](https://www.ncbi.nlm.nih.gov/geo/query/acc.cgi?acc=GSE124413)), __n=500__\n",
    "3. Japanese AML-05 ([GSE133986](https://www.ncbi.nlm.nih.gov/geo/query/acc.cgi?acc=GSE133986)), __n=64__\n",
    "4. AML_TARGET450K from [Genomic Data Commons](https://portal.gdc.cancer.gov/), __n=317__\n",
    "5. AML02,08, liver and control samples from Dr. Jatinder Lamba's Repository, __n=324__"
   ]
  },
  {
   "attachments": {},
   "cell_type": "markdown",
   "metadata": {},
   "source": [
    "## Load Data"
   ]
  },
  {
   "cell_type": "code",
   "execution_count": 1,
   "metadata": {
    "tags": [
     "hide-input"
    ]
   },
   "outputs": [
    {
     "name": "stderr",
     "output_type": "stream",
     "text": [
      "\r",
      "Files:   0%|                                                                                                  | 0/1 [00:00<?, ?it/s]"
     ]
    },
    {
     "name": "stderr",
     "output_type": "stream",
     "text": [
      "\r",
      "Files: 100%|██████████████████████████████████████████████████████████████████████████████████████████| 1/1 [00:01<00:00,  1.20s/it]"
     ]
    },
    {
     "name": "stderr",
     "output_type": "stream",
     "text": [
      "\r",
      "Files: 100%|██████████████████████████████████████████████████████████████████████████████████████████| 1/1 [00:01<00:00,  1.21s/it]"
     ]
    },
    {
     "name": "stderr",
     "output_type": "stream",
     "text": [
      "\n"
     ]
    },
    {
     "name": "stderr",
     "output_type": "stream",
     "text": [
      "INFO:methylcheck.load_processed:loaded data (865859, 500) from 1 pickled files (0.844s)\n"
     ]
    },
    {
     "name": "stderr",
     "output_type": "stream",
     "text": [
      "\r",
      "Files:   0%|                                                                                                  | 0/3 [00:00<?, ?it/s]"
     ]
    },
    {
     "name": "stderr",
     "output_type": "stream",
     "text": [
      "\r",
      "Files:  33%|██████████████████████████████                                                            | 1/3 [00:01<00:02,  1.23s/it]"
     ]
    },
    {
     "name": "stderr",
     "output_type": "stream",
     "text": [
      "\r",
      "Files:  67%|████████████████████████████████████████████████████████████                              | 2/3 [00:02<00:01,  1.02s/it]"
     ]
    },
    {
     "name": "stderr",
     "output_type": "stream",
     "text": [
      "\r",
      "Files: 100%|██████████████████████████████████████████████████████████████████████████████████████████| 3/3 [00:02<00:00,  1.30it/s]"
     ]
    },
    {
     "name": "stderr",
     "output_type": "stream",
     "text": [
      "\r",
      "Files: 100%|██████████████████████████████████████████████████████████████████████████████████████████| 3/3 [00:02<00:00,  1.16it/s]"
     ]
    },
    {
     "name": "stderr",
     "output_type": "stream",
     "text": [
      "\n"
     ]
    },
    {
     "name": "stderr",
     "output_type": "stream",
     "text": [
      "INFO:methylcheck.load_processed:loaded data (865859, 1039) from 3 pickled files (1.906s)\n"
     ]
    },
    {
     "name": "stderr",
     "output_type": "stream",
     "text": [
      "\r",
      "Files:   0%|                                                                                                  | 0/1 [00:00<?, ?it/s]"
     ]
    },
    {
     "name": "stderr",
     "output_type": "stream",
     "text": [
      "\r",
      "Files: 100%|██████████████████████████████████████████████████████████████████████████████████████████| 1/1 [00:00<00:00,  4.83it/s]"
     ]
    },
    {
     "name": "stderr",
     "output_type": "stream",
     "text": [
      "\r",
      "Files: 100%|██████████████████████████████████████████████████████████████████████████████████████████| 1/1 [00:00<00:00,  4.76it/s]"
     ]
    },
    {
     "name": "stderr",
     "output_type": "stream",
     "text": [
      "\n",
      "INFO:methylcheck.load_processed:loaded data (865859, 64) from 1 pickled files (0.172s)\n"
     ]
    },
    {
     "name": "stderr",
     "output_type": "stream",
     "text": [
      "\r",
      "Files:   0%|                                                                                                  | 0/1 [00:00<?, ?it/s]"
     ]
    },
    {
     "name": "stderr",
     "output_type": "stream",
     "text": [
      "\r",
      "Files: 100%|██████████████████████████████████████████████████████████████████████████████████████████| 1/1 [00:00<00:00,  2.31it/s]"
     ]
    },
    {
     "name": "stderr",
     "output_type": "stream",
     "text": [
      "\r",
      "Files: 100%|██████████████████████████████████████████████████████████████████████████████████████████| 1/1 [00:00<00:00,  2.29it/s]"
     ]
    },
    {
     "name": "stderr",
     "output_type": "stream",
     "text": [
      "\n",
      "INFO:methylcheck.load_processed:loaded data (485512, 317) from 1 pickled files (0.297s)\n"
     ]
    },
    {
     "name": "stderr",
     "output_type": "stream",
     "text": [
      "\r",
      "Files:   0%|                                                                                                  | 0/1 [00:00<?, ?it/s]"
     ]
    },
    {
     "name": "stderr",
     "output_type": "stream",
     "text": [
      "\r",
      "Files: 100%|██████████████████████████████████████████████████████████████████████████████████████████| 1/1 [00:00<00:00,  2.29it/s]"
     ]
    },
    {
     "name": "stderr",
     "output_type": "stream",
     "text": [
      "\r",
      "Files: 100%|██████████████████████████████████████████████████████████████████████████████████████████| 1/1 [00:00<00:00,  2.27it/s]"
     ]
    },
    {
     "name": "stderr",
     "output_type": "stream",
     "text": [
      "\n",
      "INFO:methylcheck.load_processed:loaded data (485512, 324) from 1 pickled files (0.344s)\n"
     ]
    }
   ],
   "source": [
    "import methylcheck\n",
    "from pathlib import Path\n",
    "\n",
    "# AAML0531 Data\n",
    "\n",
    "filepath1 = Path('../Data/Raw_Data/COG_AAML0531_AAML03P1_GSE124413') # Path to AAML0531 data\n",
    "betas1 = methylcheck.load(filepath1) # Load AAML0531 data\n",
    "\n",
    "# AAML1031 Data\n",
    "\n",
    "filepath2 = Path('../Data/Raw_Data/COG_AAML1031_GSE190931/') # Path to AAML1031 data\n",
    "betas2 = methylcheck.load(filepath2) # Load AAML1031 data\n",
    "\n",
    "# Japanese AML05 Data\n",
    "\n",
    "filepath3 = Path('../Data/Raw_Data/AML05_JapaneseTrial_GSE133986/') # Path to Japanese AML05 data\n",
    "betas3 = methylcheck.load(filepath3) # Load AML05 data\n",
    "\n",
    "# TARGET450k data from Genomics Data Commons\n",
    "\n",
    "filepath4 = Path('../Data/Raw_Data/GDC_TARGET_AML_Methyl450K')\n",
    "betas4 = methylcheck.load(filepath4) # Load TARGET450k data\n",
    "\n",
    "# AML02 and 08 450K Data\n",
    "\n",
    "filepath5 = Path('../Data/Raw_Data/LambaPrivate_StJude_AML02_AML08_Methyl450k') # Path to data\n",
    "betas5 = methylcheck.load(filepath5) # Load data and metadata"
   ]
  },
  {
   "cell_type": "markdown",
   "metadata": {},
   "source": [
    "## Joining Dataframes"
   ]
  },
  {
   "cell_type": "code",
   "execution_count": 2,
   "metadata": {
    "tags": [
     "hide-input"
    ]
   },
   "outputs": [
    {
     "name": "stdout",
     "output_type": "stream",
     "text": [
      " Dataset (df) contains 452453 rows (mC sites) and 2244 columns (samples).\n"
     ]
    }
   ],
   "source": [
    "import pandas as pd\n",
    "\n",
    "betas = pd.concat([betas1,betas2,betas3,betas4, betas5],\n",
    "                    keys=['GSE124413_AAML0531','GSE190931_AAML1031',\n",
    "                    'GSE133986_AML05','GDC_TARGET_AML','StJude_AML02_AML08'],\n",
    "                    join='inner', axis=1)\n",
    "\n",
    "print(f' Dataset (df) contains {betas.shape[0]} rows (mC sites) and {betas.shape[1]} columns (samples).')"
   ]
  },
  {
   "cell_type": "markdown",
   "metadata": {},
   "source": [
    "## Step 1. Filtering Sub-Optimally Designed Probes"
   ]
  },
  {
   "attachments": {},
   "cell_type": "markdown",
   "metadata": {},
   "source": [
    "There are several critera for exclusion of probes: Areas that have polymorphisms, cross-hybridization, repeat sequence elements, or base color changes can affect probe quality. \n",
    "\n",
    "Below are publications that have benchmarked probe quality and have provided lists of probes to exclude:\n",
    "\n",
    "- [Chen2013](https://www.ncbi.nlm.nih.gov/pmc/articles/PMC3592906/), [Price2013](https://www.ncbi.nlm.nih.gov/pmc/articles/PMC3740789/), [Naeem2014](https://www.ncbi.nlm.nih.gov/pmc/articles/PMC3943510/), [DacaRoszak2015](https://www.ncbi.nlm.nih.gov/pmc/articles/PMC4659175/), [Zhou2016](https://academic.oup.com/nar/article/45/4/e22/2290930)"
   ]
  },
  {
   "attachments": {},
   "cell_type": "markdown",
   "metadata": {},
   "source": [
    "We will remove probes based on _Zhou et. al., 2016_. See figure 5 of their paper for detailed description.\n",
    "\n",
    "Please see function below `exclude_suboptimal_probes()` for paper information and where to find the annotations."
   ]
  },
  {
   "cell_type": "code",
   "execution_count": 3,
   "metadata": {
    "tags": [
     "hide-input"
    ]
   },
   "outputs": [
    {
     "name": "stdout",
     "output_type": "stream",
     "text": [
      "Of 452453 probes, 47382 matched, yielding 405071 after filtering\n"
     ]
    }
   ],
   "source": [
    "def exclude_suboptimal_probes(betas):\n",
    "    '''This function removes proves listed as sub-optimal according to:\n",
    "    \n",
    "    Zhou, W., Laird, P. W. & Shen, H.. Comprehensive characterization,\n",
    "    annotation and innovative use of Infinium DNA methylation BeadChip probes.\n",
    "    Nucleic Acids Research gkw967 (2016).\n",
    "    doi:10.1093/nar/gkw967\n",
    "\n",
    "    For the .tsv file containing the annotated probes, download the paper's\n",
    "    supplementary material.\n",
    "    '''\n",
    "    zhou2016_probes = pd.read_csv('../Data/UnreliableProbesList_Zhou2016/EPIC.anno.GRCh38.tsv', sep='\\t',index_col=0)\n",
    "    unreliable_probes = list(zhou2016_probes[zhou2016_probes['MASK.general'] == True].index)\n",
    "    betas_ = betas[~betas.index.isin(unreliable_probes)]\n",
    "    print(f'Of {betas.shape[0]} probes, {betas.shape[0]-betas_.shape[0]} matched, yielding {betas_.shape[0]} after filtering')\n",
    "    return(betas_)\n",
    "\n",
    "df1 = exclude_suboptimal_probes(betas)"
   ]
  },
  {
   "cell_type": "markdown",
   "metadata": {},
   "source": [
    "## Step 2. Filtering sex-linked probes and control probes"
   ]
  },
  {
   "cell_type": "code",
   "execution_count": 4,
   "metadata": {
    "tags": [
     "hide-input"
    ]
   },
   "outputs": [
    {
     "name": "stdout",
     "output_type": "stream",
     "text": [
      "450k: Removed 9570 sex-linked probes from 2244 samples. 395501 probes remaining.\n"
     ]
    }
   ],
   "source": [
    "df2 = methylcheck.exclude_sex_control_probes(df1, '450k', no_sex=True, no_control=True, verbose=True)"
   ]
  },
  {
   "cell_type": "markdown",
   "metadata": {},
   "source": [
    "## Step 3. Exclude samples that Illumina QC categorizes as FAIL(pval)"
   ]
  },
  {
   "cell_type": "markdown",
   "metadata": {},
   "source": [
    "Here we will:\n",
    "\n",
    "1. Run Illumina's quality control and save reports as excel files\n",
    "2. Load QC reports\n",
    "3. Exclude samples that Illumina categorizes as FAIL(pval) for not meeting the condition: (p ≤ 0.05) > 80% probes"
   ]
  },
  {
   "cell_type": "markdown",
   "metadata": {},
   "source": [
    "### Run Illumina's Quality Control (QC)"
   ]
  },
  {
   "cell_type": "markdown",
   "metadata": {},
   "source": [
    "\n",
    "```methylcheck``` is geared toward quality control of processed data. To this end, there is a helpful function that summarizes performance of control probes ([details on control probes here](https://support.illumina.com/content/dam/illumina-support/documents/documentation/chemistry_documentation/infinium_assays/infinium_hd_methylation/beadarray-controls-reporter-user-guide-1000000004009-00.pdf)). To run this function, the control_probes.pkl file output from ```methylprep``` is required. This report ensures that the chemistry (bisulfite conversion, target specificity, hybridization, staining, etc.) and machine readings are acceptable.\n",
    "\n",
    "QC reports are saved as excel sheets in each _filepath_ directory."
   ]
  },
  {
   "cell_type": "code",
   "execution_count": 5,
   "metadata": {
    "tags": [
     "remove-output",
     "hide-input"
    ]
   },
   "outputs": [],
   "source": [
    "# File path for 1031 has to be uploaded separately since it was processed in batches due to size\n",
    "\n",
    "filepath2_1 = Path('../Data/Raw_Data/COG_AAML1031_GSE190931/GPL21145_1')\n",
    "filepath2_2 = Path('../Data/Raw_Data/COG_AAML1031_GSE190931/GPL21145_2')\n",
    "filepath2_3 = Path('../Data/Raw_Data/COG_AAML1031_GSE190931/GPL21145_3')\n",
    "\n",
    "# # AAML0531 QC Report\n",
    "# methylcheck.controls_report(filepath=filepath1)\n",
    "# # AAML1031 QC Report\n",
    "# methylcheck.controls_report(filepath=filepath2_1)\n",
    "# methylcheck.controls_report(filepath=filepath2_2)\n",
    "# methylcheck.controls_report(filepath=filepath2_3)\n",
    "# # AML05 QC Report\n",
    "# methylcheck.controls_report(filepath=filepath3)\n",
    "# # TARGET450K QC Report\n",
    "# methylcheck.controls_report(filepath=filepath4)\n",
    "# # StJude AML02 and 08 QC Report\n",
    "# methylcheck.controls_report(filepath=filepath5)"
   ]
  },
  {
   "cell_type": "markdown",
   "metadata": {},
   "source": [
    "### Load QC Reports"
   ]
  },
  {
   "cell_type": "code",
   "execution_count": 6,
   "metadata": {
    "tags": [
     "hide-input"
    ]
   },
   "outputs": [],
   "source": [
    "# Load QC reports\n",
    "qc_table1 = pd.read_excel(str(filepath1)+'/GSE124413_QC_Report.xlsx', index_col=0)\n",
    "qc_table2_1 = pd.read_excel(str(filepath2_1)+'/GPL21145_1_QC_Report.xlsx', index_col=0)\n",
    "qc_table2_2 = pd.read_excel(str(filepath2_2)+'/GPL21145_2_QC_Report.xlsx', index_col=0)\n",
    "qc_table2_3 = pd.read_excel(str(filepath2_3)+'/GPL21145_3_QC_Report.xlsx', index_col=0)\n",
    "qc_table3 = pd.read_excel(str(filepath3)+'/AML05_Japanese_Trial_QC_Report.xlsx', index_col=0)\n",
    "qc_table4 = pd.read_excel(str(filepath4)+'/TARGET450k_GDC_QC_Report.xlsx', index_col=0)\n",
    "qc_table5 = pd.read_excel(str(filepath5)+'/StJude_AML02_AML08_QC_Report.xlsx', index_col=0)\n",
    "\n",
    "# Merge batches\n",
    "qc_table = pd.concat([qc_table1.iloc[1:], qc_table2_1.iloc[1:],qc_table2_2.iloc[1:], \n",
    "                    qc_table2_3.iloc[1:], qc_table3.iloc[1:], qc_table4.iloc[1:],\n",
    "                    qc_table5.iloc[1:]], axis=0) # Merge batches"
   ]
  },
  {
   "cell_type": "markdown",
   "metadata": {},
   "source": [
    "### Exclude Samples that Failed Illumina's QC"
   ]
  },
  {
   "attachments": {},
   "cell_type": "markdown",
   "metadata": {},
   "source": [
    "Below, you will find the samples that failed QC, along with some description. This column is calculated by checking that all of the QC columns are above a minimum threshold. This threshold is adjustable with the passing argument (set to 0.7 by default). However, this criteria seems to be too unforgiving, so we will disregard it as it seems that core research facilities do not follow it. Another strict metric implemented by Illumina is FAIL by pval, which happens if the pOOBAH (detection p-values) in more than 20% of probes fail. Recall that pOOBAH simply measures how likely it is that a given signal is background fluorescence. There are a few methods of calculating these detection p-values.  ```SeSAMe``` and ```methylprep``` implement this method, known as P value Out Of Band probes for Array Hybridization, where they use the OOB signal of all type I probes to calculate an empirical cumulative distribution function.\n",
    "\n",
    "In other words, we will exclude samples that Illumina QC categorizes as FAIL(pval) for __not__ meeting the condition: (pOOBAH ≤ 0.05) > 80% probes"
   ]
  },
  {
   "cell_type": "code",
   "execution_count": 7,
   "metadata": {
    "tags": [
     "hide-input"
    ]
   },
   "outputs": [
    {
     "data": {
      "text/html": [
       "<div>\n",
       "<style scoped>\n",
       "    .dataframe tbody tr th:only-of-type {\n",
       "        vertical-align: middle;\n",
       "    }\n",
       "\n",
       "    .dataframe tbody tr th {\n",
       "        vertical-align: top;\n",
       "    }\n",
       "\n",
       "    .dataframe thead th {\n",
       "        text-align: right;\n",
       "    }\n",
       "</style>\n",
       "<table border=\"1\" class=\"dataframe\">\n",
       "  <thead>\n",
       "    <tr style=\"text-align: right;\">\n",
       "      <th></th>\n",
       "      <th>Result</th>\n",
       "      <th>Why Failed</th>\n",
       "    </tr>\n",
       "    <tr>\n",
       "      <th>Sample</th>\n",
       "      <th></th>\n",
       "      <th></th>\n",
       "    </tr>\n",
       "  </thead>\n",
       "  <tbody>\n",
       "    <tr>\n",
       "      <th>200991620022_R03C01</th>\n",
       "      <td>FAIL (pval)</td>\n",
       "      <td>Non-polymorphic Green, Non-polymorphic Red</td>\n",
       "    </tr>\n",
       "    <tr>\n",
       "      <th>200973410088_R01C01</th>\n",
       "      <td>FAIL (pval)</td>\n",
       "      <td>Specificity I Red, Non-polymorphic Red</td>\n",
       "    </tr>\n",
       "    <tr>\n",
       "      <th>200973410178_R04C01</th>\n",
       "      <td>FAIL (pval)</td>\n",
       "      <td>Non-polymorphic Red</td>\n",
       "    </tr>\n",
       "    <tr>\n",
       "      <th>200973410077_R07C01</th>\n",
       "      <td>FAIL (pval)</td>\n",
       "      <td>Non-polymorphic Red</td>\n",
       "    </tr>\n",
       "    <tr>\n",
       "      <th>202897370026_R03C01</th>\n",
       "      <td>FAIL (pval)</td>\n",
       "      <td>Staining Green, Staining Red, Extension Red, B...</td>\n",
       "    </tr>\n",
       "    <tr>\n",
       "      <th>...</th>\n",
       "      <td>...</td>\n",
       "      <td>...</td>\n",
       "    </tr>\n",
       "    <tr>\n",
       "      <th>8784233006_R02C01</th>\n",
       "      <td>FAIL (pval)</td>\n",
       "      <td>Staining Red, Extension Red, Bisulfite Convers...</td>\n",
       "    </tr>\n",
       "    <tr>\n",
       "      <th>8784233006_R03C01</th>\n",
       "      <td>FAIL (pval)</td>\n",
       "      <td>Extension Red, Specificity I Green, Non-polymo...</td>\n",
       "    </tr>\n",
       "    <tr>\n",
       "      <th>8784233006_R04C02</th>\n",
       "      <td>FAIL (pval)</td>\n",
       "      <td>Extension Red, Bisulfite Conversion I Green C/...</td>\n",
       "    </tr>\n",
       "    <tr>\n",
       "      <th>9379082097_R05C01</th>\n",
       "      <td>FAIL (pval)</td>\n",
       "      <td>Staining Green, Staining Red, Extension Green,...</td>\n",
       "    </tr>\n",
       "    <tr>\n",
       "      <th>9379082105_R06C02</th>\n",
       "      <td>FAIL (pval)</td>\n",
       "      <td>Staining Green, Staining Red, Extension Green,...</td>\n",
       "    </tr>\n",
       "  </tbody>\n",
       "</table>\n",
       "<p>364 rows × 2 columns</p>\n",
       "</div>"
      ],
      "text/plain": [
       "                          Result  \\\n",
       "Sample                             \n",
       "200991620022_R03C01  FAIL (pval)   \n",
       "200973410088_R01C01  FAIL (pval)   \n",
       "200973410178_R04C01  FAIL (pval)   \n",
       "200973410077_R07C01  FAIL (pval)   \n",
       "202897370026_R03C01  FAIL (pval)   \n",
       "...                          ...   \n",
       "8784233006_R02C01    FAIL (pval)   \n",
       "8784233006_R03C01    FAIL (pval)   \n",
       "8784233006_R04C02    FAIL (pval)   \n",
       "9379082097_R05C01    FAIL (pval)   \n",
       "9379082105_R06C02    FAIL (pval)   \n",
       "\n",
       "                                                            Why Failed  \n",
       "Sample                                                                  \n",
       "200991620022_R03C01         Non-polymorphic Green, Non-polymorphic Red  \n",
       "200973410088_R01C01             Specificity I Red, Non-polymorphic Red  \n",
       "200973410178_R04C01                                Non-polymorphic Red  \n",
       "200973410077_R07C01                                Non-polymorphic Red  \n",
       "202897370026_R03C01  Staining Green, Staining Red, Extension Red, B...  \n",
       "...                                                                ...  \n",
       "8784233006_R02C01    Staining Red, Extension Red, Bisulfite Convers...  \n",
       "8784233006_R03C01    Extension Red, Specificity I Green, Non-polymo...  \n",
       "8784233006_R04C02    Extension Red, Bisulfite Conversion I Green C/...  \n",
       "9379082097_R05C01    Staining Green, Staining Red, Extension Green,...  \n",
       "9379082105_R06C02    Staining Green, Staining Red, Extension Green,...  \n",
       "\n",
       "[364 rows x 2 columns]"
      ]
     },
     "execution_count": 7,
     "metadata": {},
     "output_type": "execute_result"
    }
   ],
   "source": [
    "qc_failed = qc_table[qc_table['Result'].str.contains('pval')][[\"Result\", 'Why Failed']]\n",
    "qc_failed"
   ]
  },
  {
   "cell_type": "code",
   "execution_count": 8,
   "metadata": {
    "tags": [
     "hide-input"
    ]
   },
   "outputs": [
    {
     "name": "stdout",
     "output_type": "stream",
     "text": [
      "364 sample(s) removed because: (pOOBAH ≤ 0.05) > 80% probes\n"
     ]
    }
   ],
   "source": [
    "df3 = df2.drop(list(qc_failed.index),level=1, axis=1)\n",
    "print(f'{df2.shape[1] - df3.shape[1]} sample(s) removed because: (pOOBAH ≤ 0.05) > 80% probes')"
   ]
  },
  {
   "cell_type": "markdown",
   "metadata": {},
   "source": [
    "## Step 4. Exclude CpG probes that contain more than 5% of missing values"
   ]
  },
  {
   "cell_type": "code",
   "execution_count": 9,
   "metadata": {
    "tags": [
     "hide-input"
    ]
   },
   "outputs": [
    {
     "name": "stdout",
     "output_type": "stream",
     "text": [
      "84956 probe(s) removed because of >5% missing values\n"
     ]
    }
   ],
   "source": [
    "def probe_cutoff(qc_betas, threshold):\n",
    "    qc_betas2 = qc_betas.dropna(axis=0, thresh = int(threshold*qc_betas.shape[1]))\n",
    "    print(f'{qc_betas.shape[0] - qc_betas2.shape[0]} probe(s) removed because of >5% missing values')\n",
    "    return(qc_betas2)\n",
    "\n",
    "df4 = probe_cutoff(df3, threshold=0.95)"
   ]
  },
  {
   "cell_type": "markdown",
   "metadata": {},
   "source": [
    "## Step 5. Interpolate remaining missing values linearly"
   ]
  },
  {
   "attachments": {},
   "cell_type": "markdown",
   "metadata": {},
   "source": [
    "\n",
    "We still have probes with missing values that are below our 5% threshold. To fix that, we interpolate remaining beta values values linearly.\n",
    "- Linear interpolation means that a missing mC value for a particular sample will be filled with the median of the values of the two adjacent samples. The reason behind this is the high concordance _usually_ seen in the methylation profile of neighboring samples.\n",
    "- Inevitably, this step adds arbitration to the data cleaning process."
   ]
  },
  {
   "cell_type": "code",
   "execution_count": 10,
   "metadata": {
    "tags": [
     "hide-input"
    ]
   },
   "outputs": [
    {
     "name": "stdout",
     "output_type": "stream",
     "text": [
      " Interpolated dataset contains 310545 rows (mC probes) and 1880 columns (samples).\n"
     ]
    }
   ],
   "source": [
    "df5 = df4.interpolate(axis=0).interpolate(axis=0, limit_direction='backward').round(3)\n",
    "\n",
    "print(f' Interpolated dataset contains {df5.shape[0]}'\n",
    "+ f' rows (mC probes) and {df5.shape[1]} columns (samples).')"
   ]
  },
  {
   "attachments": {},
   "cell_type": "markdown",
   "id": "39875e9e",
   "metadata": {},
   "source": [
    "## Save Dataset"
   ]
  },
  {
   "cell_type": "code",
   "execution_count": 11,
   "metadata": {
    "tags": [
     "hide-input"
    ]
   },
   "outputs": [
    {
     "name": "stdout",
     "output_type": "stream",
     "text": [
      "Successfuly saved processed methyl dataset.\n",
      "Path: ../Data/Processed_Data/Methyl_Array_Processed/\n"
     ]
    }
   ],
   "source": [
    "output_path = '../Data/Processed_Data/Methyl_Array_Processed/'\n",
    "\n",
    "df5.to_pickle(output_path + '2_MethylData_Processing_Output.pkl')\n",
    "\n",
    "print(\n",
    "    f'Successfuly saved processed methyl dataset.\\nPath: {output_path}')\n"
   ]
  },
  {
   "cell_type": "markdown",
   "metadata": {},
   "source": [
    "## Watermark"
   ]
  },
  {
   "cell_type": "code",
   "execution_count": 12,
   "metadata": {
    "tags": [
     "remove-input",
     "remove-output"
    ]
   },
   "outputs": [],
   "source": [
    "%load_ext watermark"
   ]
  },
  {
   "cell_type": "code",
   "execution_count": 13,
   "metadata": {
    "tags": [
     "remove-input"
    ]
   },
   "outputs": [
    {
     "name": "stdout",
     "output_type": "stream",
     "text": [
      "Python implementation: CPython\n",
      "Python version       : 3.10.10\n",
      "IPython version      : 8.3.0\n",
      "\n",
      "methylcheck: 0.8.5\n",
      "pandas     : 1.5.3\n",
      "\n"
     ]
    }
   ],
   "source": [
    "%watermark -v -p methylcheck,pandas"
   ]
  }
 ],
 "metadata": {
  "celltoolbar": "Tags",
  "kernelspec": {
   "display_name": ".venv_sklearn",
   "language": "python",
   "name": "python3"
  },
  "language_info": {
   "codemirror_mode": {
    "name": "ipython",
    "version": 3
   },
   "file_extension": ".py",
   "mimetype": "text/x-python",
   "name": "python",
   "nbconvert_exporter": "python",
   "pygments_lexer": "ipython3",
   "version": "3.10.10"
  },
  "vscode": {
   "interpreter": {
    "hash": "bea0b97f2aeab51a41f683aa60895cc0e821b0a2b6d8fed7be73bd28506d07e0"
   }
  }
 },
 "nbformat": 4,
 "nbformat_minor": 2
}