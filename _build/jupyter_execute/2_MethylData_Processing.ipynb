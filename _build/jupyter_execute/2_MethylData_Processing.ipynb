{
 "cells": [
  {
   "cell_type": "markdown",
   "metadata": {},
   "source": [
    "# Data Processing"
   ]
  },
  {
   "attachments": {},
   "cell_type": "markdown",
   "metadata": {},
   "source": [
    "## Data Sources"
   ]
  },
  {
   "attachments": {},
   "cell_type": "markdown",
   "metadata": {},
   "source": [
    "Here is a summary of the datasets used:\n",
    "\n",
    "1. AAML1031 ([GSE190931](https://www.ncbi.nlm.nih.gov/geo/query/acc.cgi?acc=GSE190931)), __n=1048__\n",
    "2. AAML0531 ([GSE124413](https://www.ncbi.nlm.nih.gov/geo/query/acc.cgi?acc=GSE124413)), __n=500__\n",
    "3. Japanese AML-05 ([GSE133986](https://www.ncbi.nlm.nih.gov/geo/query/acc.cgi?acc=GSE133986)), __n=64__\n",
    "4. AML_TARGET450K from Genomic Data Commons, __n=317__\n",
    "5. AML02,08, liver and control samples from Dr. Jatinder Lamba's Repository, __n=324__"
   ]
  },
  {
   "attachments": {},
   "cell_type": "markdown",
   "metadata": {},
   "source": [
    "## Load Data"
   ]
  },
  {
   "cell_type": "code",
   "execution_count": 1,
   "metadata": {
    "tags": [
     "hide-input"
    ]
   },
   "outputs": [
    {
     "name": "stderr",
     "output_type": "stream",
     "text": [
      "Files: 100%|██████████| 1/1 [00:17<00:00, 17.39s/it]\n",
      "INFO:methylcheck.load_processed:loaded data (865859, 500) from 1 pickled files (1.109s)\n",
      "Files: 100%|██████████| 3/3 [00:37<00:00, 12.45s/it]\n",
      "INFO:methylcheck.load_processed:loaded data (865859, 1039) from 3 pickled files (2.859s)\n",
      "Files: 100%|██████████| 1/1 [00:02<00:00,  2.47s/it]\n",
      "INFO:methylcheck.load_processed:loaded data (865859, 64) from 1 pickled files (0.203s)\n",
      "Files: 100%|██████████| 1/1 [00:06<00:00,  6.26s/it]\n",
      "INFO:methylcheck.load_processed:loaded data (485512, 317) from 1 pickled files (0.469s)\n",
      "Files: 100%|██████████| 1/1 [00:06<00:00,  6.44s/it]\n",
      "INFO:methylcheck.load_processed:loaded data (485512, 324) from 1 pickled files (0.438s)\n"
     ]
    }
   ],
   "source": [
    "import methylcheck\n",
    "from pathlib import Path\n",
    "\n",
    "# AAML0531 Data\n",
    "\n",
    "filepath1 = Path('../Data/Raw_Data/COG_AAML0531_AAML03P1_GSE124413') # Path to AAML0531 data\n",
    "betas1 = methylcheck.load(filepath1) # Load AAML0531 data\n",
    "\n",
    "# AAML1031 Data\n",
    "\n",
    "filepath2 = Path('../Data/Raw_Data/COG_AAML1031_GSE190931/') # Path to AAML1031 data\n",
    "betas2 = methylcheck.load(filepath2) # Load AAML1031 data\n",
    "\n",
    "# Japanese AML05 Data\n",
    "\n",
    "filepath3 = Path('../Data/Raw_Data/AML05_JapaneseTrial_GSE133986/') # Path to Japanese AML05 data\n",
    "betas3 = methylcheck.load(filepath3) # Load AML05 data\n",
    "\n",
    "# TARGET450k data from Genomics Data Commons\n",
    "\n",
    "filepath4 = Path('../Data/Raw_Data/GDC_TARGET_AML_Methyl450K')\n",
    "betas4 = methylcheck.load(filepath4) # Load TARGET450k data\n",
    "\n",
    "# AML02 and 08 450K Data\n",
    "\n",
    "filepath5 = Path('../Data/Raw_Data/LambaPrivate_StJude_AML02_AML08_Methyl450k') # Path to data\n",
    "betas5 = methylcheck.load(filepath5) # Load data and metadata"
   ]
  },
  {
   "cell_type": "markdown",
   "metadata": {},
   "source": [
    "## Joining Dataframes"
   ]
  },
  {
   "cell_type": "code",
   "execution_count": 2,
   "metadata": {},
   "outputs": [
    {
     "name": "stdout",
     "output_type": "stream",
     "text": [
      " Dataset (df) contains 452453 rows (CpG probes) and 2244 columns (samples).\n"
     ]
    }
   ],
   "source": [
    "import pandas as pd\n",
    "\n",
    "betas = pd.concat([betas1,betas2,betas3,betas4, betas5],\n",
    "                    keys=['GSE124413_AAML0531','GSE190931_AAML1031',\n",
    "                    'GSE133986_AML05','GDC_TARGET_AML','StJude_AML02_AML08'],\n",
    "                    join='inner', axis=1)\n",
    "\n",
    "print(f' Dataset (df) contains {betas.shape[0]} rows (CpG probes) and {betas.shape[1]} columns (samples).')"
   ]
  },
  {
   "cell_type": "markdown",
   "metadata": {},
   "source": [
    "## Step 1. Filtering Sub-Optimally Designed Probes"
   ]
  },
  {
   "attachments": {},
   "cell_type": "markdown",
   "metadata": {},
   "source": [
    "There are several critera for exclusion of probes: Areas that have polymorphisms, cross-hybridization, repeat sequence elements, or base color changes can affect probe quality. \n",
    "\n",
    "Below are publications that have benchmarked probe quality and have provided lists of probes to exclude:\n",
    "\n",
    "- [Chen2013](https://www.ncbi.nlm.nih.gov/pmc/articles/PMC3592906/), [Price2013](https://www.ncbi.nlm.nih.gov/pmc/articles/PMC3740789/), [Naeem2014](https://www.ncbi.nlm.nih.gov/pmc/articles/PMC3943510/), [DacaRoszak2015](https://www.ncbi.nlm.nih.gov/pmc/articles/PMC4659175/), [Zhou2016](https://academic.oup.com/nar/article/45/4/e22/2290930)"
   ]
  },
  {
   "attachments": {},
   "cell_type": "markdown",
   "metadata": {},
   "source": [
    "We will remove probes based on _Zhou et. al., 2016_. See figure 5 of their paper for detailed description.\n",
    "\n",
    "Please see function below `exclude_suboptimal_probes()` for paper information and where to find the annotations."
   ]
  },
  {
   "cell_type": "code",
   "execution_count": 3,
   "metadata": {},
   "outputs": [],
   "source": [
    "def exclude_suboptimal_probes(betas):\n",
    "    '''This function removes proves listed as sub-optimal according to:\n",
    "    \n",
    "    Zhou, W., Laird, P. W. & Shen, H.. Comprehensive characterization,\n",
    "    annotation and innovative use of Infinium DNA methylation BeadChip probes.\n",
    "    Nucleic Acids Research gkw967 (2016).\n",
    "    doi:10.1093/nar/gkw967\n",
    "\n",
    "    For the .tsv file containing the annotated probes, download the paper's\n",
    "    supplementary material.\n",
    "    '''\n",
    "    zhou2016_probes = pd.read_csv('../Data/UnreliableProbesList_Zhou2016/EPIC.anno.GRCh38.tsv', sep='\\t',index_col=0)\n",
    "    unreliable_probes = list(zhou2016_probes[zhou2016_probes['MASK.general'] == True].index)\n",
    "    betas_ = betas[~betas.index.isin(unreliable_probes)]\n",
    "    print(f'Of {betas.shape[0]} probes, {betas.shape[0]-betas_.shape[0]} matched, yielding {betas_.shape[0]} after filtering')\n",
    "    return(betas_)"
   ]
  },
  {
   "cell_type": "markdown",
   "metadata": {},
   "source": [
    "With the function that we created above, we can now remove suboptimal probes:"
   ]
  },
  {
   "cell_type": "code",
   "execution_count": 4,
   "metadata": {
    "tags": []
   },
   "outputs": [
    {
     "name": "stdout",
     "output_type": "stream",
     "text": [
      "Of 452453 probes, 47382 matched, yielding 405071 after filtering\n"
     ]
    }
   ],
   "source": [
    "df1 = exclude_suboptimal_probes(betas)"
   ]
  },
  {
   "cell_type": "markdown",
   "metadata": {},
   "source": [
    "## Step 2. Filtering sex-linked probes and control probes"
   ]
  },
  {
   "cell_type": "code",
   "execution_count": 5,
   "metadata": {},
   "outputs": [
    {
     "name": "stdout",
     "output_type": "stream",
     "text": [
      "450k: Removed 9570 sex-linked probes from 2244 samples. 395501 probes remaining.\n"
     ]
    }
   ],
   "source": [
    "df2 = methylcheck.exclude_sex_control_probes(df1, '450k', no_sex=True, no_control=True, verbose=True)"
   ]
  },
  {
   "cell_type": "markdown",
   "metadata": {},
   "source": [
    "## Step 3. Exclude samples that Illumina QC categorizes as FAIL(pval)"
   ]
  },
  {
   "cell_type": "markdown",
   "metadata": {},
   "source": [
    "Here we will:\n",
    "\n",
    "1. Run Illumina's quality control and save reports as excel files\n",
    "2. Load QC reports\n",
    "3. Exclude samples that Illumina categorizes as FAIL(pval) for not meeting the condition: (p ≤ 0.05) > 80% probes"
   ]
  },
  {
   "cell_type": "markdown",
   "metadata": {},
   "source": [
    "### Run Illumina's Quality Control (QC)"
   ]
  },
  {
   "cell_type": "markdown",
   "metadata": {},
   "source": [
    "\n",
    "```methylcheck``` is geared toward quality control of processed data. To this end, there is a helpful function that summarizes performance of control probes ([details on control probes here](https://support.illumina.com/content/dam/illumina-support/documents/documentation/chemistry_documentation/infinium_assays/infinium_hd_methylation/beadarray-controls-reporter-user-guide-1000000004009-00.pdf)). To run this function, the control_probes.pkl file output from ```methylprep``` is required. This report ensures that the chemistry (bisulfite conversion, target specificity, hybridization, staining, etc.) and machine readings are acceptable.\n",
    "\n",
    "QC reports are saved as excel sheets in each _filepath_ directory."
   ]
  },
  {
   "cell_type": "code",
   "execution_count": 6,
   "metadata": {},
   "outputs": [],
   "source": [
    "# File path for 1031 has to be uploaded separately since it was processed in batches due to size\n",
    "\n",
    "filepath2_1 = Path('../Data/Raw_Data/COG_AAML1031_GSE190931/GPL21145_1')\n",
    "filepath2_2 = Path('../Data/Raw_Data/COG_AAML1031_GSE190931/GPL21145_2')\n",
    "filepath2_3 = Path('../Data/Raw_Data/COG_AAML1031_GSE190931/GPL21145_3')"
   ]
  },
  {
   "cell_type": "markdown",
   "metadata": {},
   "source": [
    "Note: the cell below will generate Illumina's QC report for all datasets and save them in their respective filepaths.\n",
    "\n",
    "```{note}\n",
    "It may take >5min to run the cell below. If you don't need the reports in excel format (if they are already there), then skip the cell below.\n",
    "```"
   ]
  },
  {
   "cell_type": "code",
   "execution_count": 7,
   "metadata": {
    "tags": [
     "remove-output"
    ]
   },
   "outputs": [],
   "source": [
    "# # AAML0531 QC Report\n",
    "# methylcheck.controls_report(filepath=filepath1)\n",
    "# # AAML1031 QC Report\n",
    "# methylcheck.controls_report(filepath=filepath2_1)\n",
    "# methylcheck.controls_report(filepath=filepath2_2)\n",
    "# methylcheck.controls_report(filepath=filepath2_3)\n",
    "# # AML05 QC Report\n",
    "# methylcheck.controls_report(filepath=filepath3)\n",
    "# # TARGET450K QC Report\n",
    "# methylcheck.controls_report(filepath=filepath4)\n",
    "# # StJude AML02 and 08 QC Report\n",
    "# methylcheck.controls_report(filepath=filepath5)"
   ]
  },
  {
   "cell_type": "markdown",
   "metadata": {},
   "source": [
    "### Load QC Reports"
   ]
  },
  {
   "cell_type": "code",
   "execution_count": 8,
   "metadata": {
    "tags": [
     "hide-input"
    ]
   },
   "outputs": [],
   "source": [
    "# Load QC reports\n",
    "qc_table1 = pd.read_excel(str(filepath1)+'/GSE124413_QC_Report.xlsx', index_col=0)\n",
    "qc_table2_1 = pd.read_excel(str(filepath2_1)+'/GPL21145_1_QC_Report.xlsx', index_col=0)\n",
    "qc_table2_2 = pd.read_excel(str(filepath2_2)+'/GPL21145_2_QC_Report.xlsx', index_col=0)\n",
    "qc_table2_3 = pd.read_excel(str(filepath2_3)+'/GPL21145_3_QC_Report.xlsx', index_col=0)\n",
    "qc_table3 = pd.read_excel(str(filepath3)+'/AML05_Japanese_Trial_QC_Report.xlsx', index_col=0)\n",
    "qc_table4 = pd.read_excel(str(filepath4)+'/TARGET450k_GDC_QC_Report.xlsx', index_col=0)\n",
    "qc_table5 = pd.read_excel(str(filepath5)+'/StJude_AML02_AML08_QC_Report.xlsx', index_col=0)\n",
    "\n",
    "# Merge batches\n",
    "qc_table = pd.concat([qc_table1.iloc[1:], qc_table2_1.iloc[1:],qc_table2_2.iloc[1:], \n",
    "                    qc_table2_3.iloc[1:], qc_table3.iloc[1:], qc_table4.iloc[1:],\n",
    "                    qc_table5.iloc[1:]], axis=0) # Merge batches"
   ]
  },
  {
   "cell_type": "markdown",
   "metadata": {},
   "source": [
    "### Exclude Samples that Failed Illumina's QC"
   ]
  },
  {
   "attachments": {},
   "cell_type": "markdown",
   "metadata": {},
   "source": [
    "Below, you will find the samples that failed QC, along with some description. This column is calculated by checking that all of the QC columns are above a minimum threshold. This threshold is adjustable with the passing argument (set to 0.7 by default). However, this criteria seems to be too unforgiving, so we will disregard it as it seems that core research facilities do not follow it. Another strict metric implemented by Illumina is FAIL by pval, which happens if the pOOBAH (detection p-values) in more than 20% of probes fail. Recall that pOOBAH simply measures how likely it is that a given signal is background fluorescence. There are a few methods of calculating these detection p-values.  ```SeSAMe``` and ```methylprep``` implement this method, known as P value Out Of Band probes for Array Hybridization, where they use the OOB signal of all type I probes to calculate an empirical cumulative distribution function.\n",
    "\n",
    "In other words, we will exclude samples that Illumina QC categorizes as FAIL(pval) for __not__ meeting the condition: (pOOBAH ≤ 0.05) > 80% probes"
   ]
  },
  {
   "cell_type": "code",
   "execution_count": 9,
   "metadata": {
    "tags": [
     "hide-input"
    ]
   },
   "outputs": [
    {
     "data": {
      "text/html": [
       "<div>\n",
       "<style scoped>\n",
       "    .dataframe tbody tr th:only-of-type {\n",
       "        vertical-align: middle;\n",
       "    }\n",
       "\n",
       "    .dataframe tbody tr th {\n",
       "        vertical-align: top;\n",
       "    }\n",
       "\n",
       "    .dataframe thead th {\n",
       "        text-align: right;\n",
       "    }\n",
       "</style>\n",
       "<table border=\"1\" class=\"dataframe\">\n",
       "  <thead>\n",
       "    <tr style=\"text-align: right;\">\n",
       "      <th></th>\n",
       "      <th>Result</th>\n",
       "      <th>Why Failed</th>\n",
       "    </tr>\n",
       "    <tr>\n",
       "      <th>Sample</th>\n",
       "      <th></th>\n",
       "      <th></th>\n",
       "    </tr>\n",
       "  </thead>\n",
       "  <tbody>\n",
       "    <tr>\n",
       "      <th>200991620022_R03C01</th>\n",
       "      <td>FAIL (pval)</td>\n",
       "      <td>Non-polymorphic Green, Non-polymorphic Red</td>\n",
       "    </tr>\n",
       "    <tr>\n",
       "      <th>200973410088_R01C01</th>\n",
       "      <td>FAIL (pval)</td>\n",
       "      <td>Specificity I Red, Non-polymorphic Red</td>\n",
       "    </tr>\n",
       "    <tr>\n",
       "      <th>200973410178_R04C01</th>\n",
       "      <td>FAIL (pval)</td>\n",
       "      <td>Non-polymorphic Red</td>\n",
       "    </tr>\n",
       "    <tr>\n",
       "      <th>200973410077_R07C01</th>\n",
       "      <td>FAIL (pval)</td>\n",
       "      <td>Non-polymorphic Red</td>\n",
       "    </tr>\n",
       "    <tr>\n",
       "      <th>202897370026_R03C01</th>\n",
       "      <td>FAIL (pval)</td>\n",
       "      <td>Staining Green, Staining Red, Extension Red, B...</td>\n",
       "    </tr>\n",
       "    <tr>\n",
       "      <th>...</th>\n",
       "      <td>...</td>\n",
       "      <td>...</td>\n",
       "    </tr>\n",
       "    <tr>\n",
       "      <th>8784233006_R02C01</th>\n",
       "      <td>FAIL (pval)</td>\n",
       "      <td>Staining Red, Extension Red, Bisulfite Convers...</td>\n",
       "    </tr>\n",
       "    <tr>\n",
       "      <th>8784233006_R03C01</th>\n",
       "      <td>FAIL (pval)</td>\n",
       "      <td>Extension Red, Specificity I Green, Non-polymo...</td>\n",
       "    </tr>\n",
       "    <tr>\n",
       "      <th>8784233006_R04C02</th>\n",
       "      <td>FAIL (pval)</td>\n",
       "      <td>Extension Red, Bisulfite Conversion I Green C/...</td>\n",
       "    </tr>\n",
       "    <tr>\n",
       "      <th>9379082097_R05C01</th>\n",
       "      <td>FAIL (pval)</td>\n",
       "      <td>Staining Green, Staining Red, Extension Green,...</td>\n",
       "    </tr>\n",
       "    <tr>\n",
       "      <th>9379082105_R06C02</th>\n",
       "      <td>FAIL (pval)</td>\n",
       "      <td>Staining Green, Staining Red, Extension Green,...</td>\n",
       "    </tr>\n",
       "  </tbody>\n",
       "</table>\n",
       "<p>364 rows × 2 columns</p>\n",
       "</div>"
      ],
      "text/plain": [
       "                          Result  \\\n",
       "Sample                             \n",
       "200991620022_R03C01  FAIL (pval)   \n",
       "200973410088_R01C01  FAIL (pval)   \n",
       "200973410178_R04C01  FAIL (pval)   \n",
       "200973410077_R07C01  FAIL (pval)   \n",
       "202897370026_R03C01  FAIL (pval)   \n",
       "...                          ...   \n",
       "8784233006_R02C01    FAIL (pval)   \n",
       "8784233006_R03C01    FAIL (pval)   \n",
       "8784233006_R04C02    FAIL (pval)   \n",
       "9379082097_R05C01    FAIL (pval)   \n",
       "9379082105_R06C02    FAIL (pval)   \n",
       "\n",
       "                                                            Why Failed  \n",
       "Sample                                                                  \n",
       "200991620022_R03C01         Non-polymorphic Green, Non-polymorphic Red  \n",
       "200973410088_R01C01             Specificity I Red, Non-polymorphic Red  \n",
       "200973410178_R04C01                                Non-polymorphic Red  \n",
       "200973410077_R07C01                                Non-polymorphic Red  \n",
       "202897370026_R03C01  Staining Green, Staining Red, Extension Red, B...  \n",
       "...                                                                ...  \n",
       "8784233006_R02C01    Staining Red, Extension Red, Bisulfite Convers...  \n",
       "8784233006_R03C01    Extension Red, Specificity I Green, Non-polymo...  \n",
       "8784233006_R04C02    Extension Red, Bisulfite Conversion I Green C/...  \n",
       "9379082097_R05C01    Staining Green, Staining Red, Extension Green,...  \n",
       "9379082105_R06C02    Staining Green, Staining Red, Extension Green,...  \n",
       "\n",
       "[364 rows x 2 columns]"
      ]
     },
     "execution_count": 9,
     "metadata": {},
     "output_type": "execute_result"
    }
   ],
   "source": [
    "qc_failed = qc_table[qc_table['Result'].str.contains('pval')][[\"Result\", 'Why Failed']]\n",
    "qc_failed"
   ]
  },
  {
   "cell_type": "code",
   "execution_count": 10,
   "metadata": {
    "tags": [
     "hide-input"
    ]
   },
   "outputs": [
    {
     "name": "stdout",
     "output_type": "stream",
     "text": [
      "COG: 364 sample(s) removed because: (pOOBAH ≤ 0.05) > 80% probes\n"
     ]
    }
   ],
   "source": [
    "df3 = df2.drop(list(qc_failed.index),level=1, axis=1)\n",
    "print(f'COG: {df2.shape[1] - df3.shape[1]} sample(s) removed because: (pOOBAH ≤ 0.05) > 80% probes')"
   ]
  },
  {
   "cell_type": "markdown",
   "metadata": {},
   "source": [
    "## Step 4. Exclude CpG probes that contain more than 5% of missing values"
   ]
  },
  {
   "cell_type": "code",
   "execution_count": 11,
   "metadata": {
    "tags": [
     "hide-input"
    ]
   },
   "outputs": [],
   "source": [
    "def probe_cutoff(qc_betas, threshold):\n",
    "    qc_betas2 = qc_betas.dropna(axis=0, thresh = int(threshold*qc_betas.shape[1]))\n",
    "    print(f'{qc_betas.shape[0] - qc_betas2.shape[0]} probe(s) removed because of >5% missing values')\n",
    "    return(qc_betas2)"
   ]
  },
  {
   "cell_type": "code",
   "execution_count": 12,
   "metadata": {},
   "outputs": [
    {
     "name": "stdout",
     "output_type": "stream",
     "text": [
      "84956 probe(s) removed because of >5% missing values\n"
     ]
    }
   ],
   "source": [
    "df4 = probe_cutoff(df3, threshold=0.95)"
   ]
  },
  {
   "cell_type": "markdown",
   "metadata": {},
   "source": [
    "## Step 5. Interpolate remaining missing values linearly"
   ]
  },
  {
   "attachments": {},
   "cell_type": "markdown",
   "metadata": {},
   "source": [
    "\n",
    "We still have probes with missing values that are below our 5% threshold. To fix that, we interpolate remaining beta values values linearly.\n",
    "- Linear interpolation means that a missing CpG value for a particular sample will be filled with the median of the values of the two adjacent samples. The reason behind this is the high concordance _usually_ seen in the methylation profile of neighboring samples.\n",
    "- Inevitably, this step adds arbitration to the data cleaning process."
   ]
  },
  {
   "cell_type": "code",
   "execution_count": 13,
   "metadata": {},
   "outputs": [],
   "source": [
    "df5 = df4.interpolate(axis=0).interpolate(axis=0, limit_direction='backward').round(3)"
   ]
  },
  {
   "attachments": {},
   "cell_type": "markdown",
   "metadata": {},
   "source": [
    "Great! In summary:"
   ]
  },
  {
   "cell_type": "code",
   "execution_count": 14,
   "metadata": {
    "tags": [
     "hide-input"
    ]
   },
   "outputs": [
    {
     "name": "stdout",
     "output_type": "stream",
     "text": [
      " Merged df5 dataset contains 310545 rows (CpG probes) and 1880 columns (samples).\n"
     ]
    },
    {
     "data": {
      "text/html": [
       "<div>\n",
       "<style scoped>\n",
       "    .dataframe tbody tr th:only-of-type {\n",
       "        vertical-align: middle;\n",
       "    }\n",
       "\n",
       "    .dataframe tbody tr th {\n",
       "        vertical-align: top;\n",
       "    }\n",
       "\n",
       "    .dataframe thead tr th {\n",
       "        text-align: left;\n",
       "    }\n",
       "\n",
       "    .dataframe thead tr:last-of-type th {\n",
       "        text-align: right;\n",
       "    }\n",
       "</style>\n",
       "<table border=\"1\" class=\"dataframe\">\n",
       "  <thead>\n",
       "    <tr>\n",
       "      <th></th>\n",
       "      <th colspan=\"10\" halign=\"left\">GSE124413_AAML0531</th>\n",
       "      <th>...</th>\n",
       "      <th colspan=\"10\" halign=\"left\">StJude_AML02_AML08</th>\n",
       "    </tr>\n",
       "    <tr>\n",
       "      <th></th>\n",
       "      <th>200973410077_R01C01</th>\n",
       "      <th>200973410077_R02C01</th>\n",
       "      <th>200973410077_R03C01</th>\n",
       "      <th>200973410077_R04C01</th>\n",
       "      <th>200973410077_R05C01</th>\n",
       "      <th>200973410077_R06C01</th>\n",
       "      <th>200973410077_R08C01</th>\n",
       "      <th>200973410079_R01C01</th>\n",
       "      <th>200973410079_R02C01</th>\n",
       "      <th>200973410079_R03C01</th>\n",
       "      <th>...</th>\n",
       "      <th>9426021149_R02C01</th>\n",
       "      <th>9426021149_R02C02</th>\n",
       "      <th>9426021149_R03C01</th>\n",
       "      <th>9426021149_R03C02</th>\n",
       "      <th>9426021149_R04C01</th>\n",
       "      <th>9426021149_R04C02</th>\n",
       "      <th>9426021149_R05C01</th>\n",
       "      <th>9426021149_R05C02</th>\n",
       "      <th>9426021149_R06C01</th>\n",
       "      <th>9426021149_R06C02</th>\n",
       "    </tr>\n",
       "    <tr>\n",
       "      <th>IlmnID</th>\n",
       "      <th></th>\n",
       "      <th></th>\n",
       "      <th></th>\n",
       "      <th></th>\n",
       "      <th></th>\n",
       "      <th></th>\n",
       "      <th></th>\n",
       "      <th></th>\n",
       "      <th></th>\n",
       "      <th></th>\n",
       "      <th></th>\n",
       "      <th></th>\n",
       "      <th></th>\n",
       "      <th></th>\n",
       "      <th></th>\n",
       "      <th></th>\n",
       "      <th></th>\n",
       "      <th></th>\n",
       "      <th></th>\n",
       "      <th></th>\n",
       "      <th></th>\n",
       "    </tr>\n",
       "  </thead>\n",
       "  <tbody>\n",
       "    <tr>\n",
       "      <th>cg00000109</th>\n",
       "      <td>0.898</td>\n",
       "      <td>0.920</td>\n",
       "      <td>0.907</td>\n",
       "      <td>0.925</td>\n",
       "      <td>0.912</td>\n",
       "      <td>0.901</td>\n",
       "      <td>0.903</td>\n",
       "      <td>0.932</td>\n",
       "      <td>0.948</td>\n",
       "      <td>0.939</td>\n",
       "      <td>...</td>\n",
       "      <td>0.941</td>\n",
       "      <td>0.918</td>\n",
       "      <td>0.939</td>\n",
       "      <td>0.935</td>\n",
       "      <td>0.909</td>\n",
       "      <td>0.930</td>\n",
       "      <td>0.925</td>\n",
       "      <td>0.894</td>\n",
       "      <td>0.925</td>\n",
       "      <td>0.935</td>\n",
       "    </tr>\n",
       "    <tr>\n",
       "      <th>cg00000292</th>\n",
       "      <td>0.741</td>\n",
       "      <td>0.946</td>\n",
       "      <td>0.273</td>\n",
       "      <td>0.784</td>\n",
       "      <td>0.254</td>\n",
       "      <td>0.723</td>\n",
       "      <td>0.759</td>\n",
       "      <td>0.752</td>\n",
       "      <td>0.821</td>\n",
       "      <td>0.913</td>\n",
       "      <td>...</td>\n",
       "      <td>0.845</td>\n",
       "      <td>0.803</td>\n",
       "      <td>0.778</td>\n",
       "      <td>0.778</td>\n",
       "      <td>0.550</td>\n",
       "      <td>0.822</td>\n",
       "      <td>0.754</td>\n",
       "      <td>0.853</td>\n",
       "      <td>0.704</td>\n",
       "      <td>0.687</td>\n",
       "    </tr>\n",
       "    <tr>\n",
       "      <th>cg00000363</th>\n",
       "      <td>0.447</td>\n",
       "      <td>0.312</td>\n",
       "      <td>0.207</td>\n",
       "      <td>0.673</td>\n",
       "      <td>0.202</td>\n",
       "      <td>0.356</td>\n",
       "      <td>0.218</td>\n",
       "      <td>0.337</td>\n",
       "      <td>0.235</td>\n",
       "      <td>0.418</td>\n",
       "      <td>...</td>\n",
       "      <td>0.625</td>\n",
       "      <td>0.407</td>\n",
       "      <td>0.283</td>\n",
       "      <td>0.292</td>\n",
       "      <td>0.569</td>\n",
       "      <td>0.418</td>\n",
       "      <td>0.500</td>\n",
       "      <td>0.488</td>\n",
       "      <td>0.558</td>\n",
       "      <td>0.353</td>\n",
       "    </tr>\n",
       "    <tr>\n",
       "      <th>cg00000622</th>\n",
       "      <td>0.022</td>\n",
       "      <td>0.022</td>\n",
       "      <td>0.022</td>\n",
       "      <td>0.022</td>\n",
       "      <td>0.020</td>\n",
       "      <td>0.020</td>\n",
       "      <td>0.019</td>\n",
       "      <td>0.017</td>\n",
       "      <td>0.017</td>\n",
       "      <td>0.018</td>\n",
       "      <td>...</td>\n",
       "      <td>0.015</td>\n",
       "      <td>0.018</td>\n",
       "      <td>0.013</td>\n",
       "      <td>0.019</td>\n",
       "      <td>0.015</td>\n",
       "      <td>0.016</td>\n",
       "      <td>0.015</td>\n",
       "      <td>0.015</td>\n",
       "      <td>0.015</td>\n",
       "      <td>0.013</td>\n",
       "    </tr>\n",
       "    <tr>\n",
       "      <th>cg00000658</th>\n",
       "      <td>0.802</td>\n",
       "      <td>0.816</td>\n",
       "      <td>0.786</td>\n",
       "      <td>0.834</td>\n",
       "      <td>0.810</td>\n",
       "      <td>0.785</td>\n",
       "      <td>0.814</td>\n",
       "      <td>0.814</td>\n",
       "      <td>0.809</td>\n",
       "      <td>0.823</td>\n",
       "      <td>...</td>\n",
       "      <td>0.893</td>\n",
       "      <td>0.871</td>\n",
       "      <td>0.904</td>\n",
       "      <td>0.855</td>\n",
       "      <td>0.887</td>\n",
       "      <td>0.863</td>\n",
       "      <td>0.867</td>\n",
       "      <td>0.829</td>\n",
       "      <td>0.907</td>\n",
       "      <td>0.883</td>\n",
       "    </tr>\n",
       "    <tr>\n",
       "      <th>...</th>\n",
       "      <td>...</td>\n",
       "      <td>...</td>\n",
       "      <td>...</td>\n",
       "      <td>...</td>\n",
       "      <td>...</td>\n",
       "      <td>...</td>\n",
       "      <td>...</td>\n",
       "      <td>...</td>\n",
       "      <td>...</td>\n",
       "      <td>...</td>\n",
       "      <td>...</td>\n",
       "      <td>...</td>\n",
       "      <td>...</td>\n",
       "      <td>...</td>\n",
       "      <td>...</td>\n",
       "      <td>...</td>\n",
       "      <td>...</td>\n",
       "      <td>...</td>\n",
       "      <td>...</td>\n",
       "      <td>...</td>\n",
       "      <td>...</td>\n",
       "    </tr>\n",
       "    <tr>\n",
       "      <th>ch.9.88862796F</th>\n",
       "      <td>0.068</td>\n",
       "      <td>0.045</td>\n",
       "      <td>0.061</td>\n",
       "      <td>0.048</td>\n",
       "      <td>0.054</td>\n",
       "      <td>0.056</td>\n",
       "      <td>0.034</td>\n",
       "      <td>0.038</td>\n",
       "      <td>0.034</td>\n",
       "      <td>0.038</td>\n",
       "      <td>...</td>\n",
       "      <td>0.027</td>\n",
       "      <td>0.033</td>\n",
       "      <td>0.030</td>\n",
       "      <td>0.029</td>\n",
       "      <td>0.031</td>\n",
       "      <td>0.033</td>\n",
       "      <td>0.034</td>\n",
       "      <td>0.027</td>\n",
       "      <td>0.030</td>\n",
       "      <td>0.024</td>\n",
       "    </tr>\n",
       "    <tr>\n",
       "      <th>ch.9.90287778F</th>\n",
       "      <td>0.077</td>\n",
       "      <td>0.055</td>\n",
       "      <td>0.071</td>\n",
       "      <td>0.059</td>\n",
       "      <td>0.054</td>\n",
       "      <td>0.058</td>\n",
       "      <td>0.049</td>\n",
       "      <td>0.079</td>\n",
       "      <td>0.041</td>\n",
       "      <td>0.062</td>\n",
       "      <td>...</td>\n",
       "      <td>0.034</td>\n",
       "      <td>0.035</td>\n",
       "      <td>0.032</td>\n",
       "      <td>0.034</td>\n",
       "      <td>0.038</td>\n",
       "      <td>0.042</td>\n",
       "      <td>0.038</td>\n",
       "      <td>0.038</td>\n",
       "      <td>0.029</td>\n",
       "      <td>0.029</td>\n",
       "    </tr>\n",
       "    <tr>\n",
       "      <th>ch.9.90621653R</th>\n",
       "      <td>0.049</td>\n",
       "      <td>0.043</td>\n",
       "      <td>0.044</td>\n",
       "      <td>0.040</td>\n",
       "      <td>0.035</td>\n",
       "      <td>0.038</td>\n",
       "      <td>0.037</td>\n",
       "      <td>0.042</td>\n",
       "      <td>0.045</td>\n",
       "      <td>0.035</td>\n",
       "      <td>...</td>\n",
       "      <td>0.033</td>\n",
       "      <td>0.029</td>\n",
       "      <td>0.027</td>\n",
       "      <td>0.028</td>\n",
       "      <td>0.030</td>\n",
       "      <td>0.034</td>\n",
       "      <td>0.032</td>\n",
       "      <td>0.029</td>\n",
       "      <td>0.029</td>\n",
       "      <td>0.026</td>\n",
       "    </tr>\n",
       "    <tr>\n",
       "      <th>ch.9.93402636R</th>\n",
       "      <td>0.046</td>\n",
       "      <td>0.037</td>\n",
       "      <td>0.052</td>\n",
       "      <td>0.029</td>\n",
       "      <td>0.031</td>\n",
       "      <td>0.043</td>\n",
       "      <td>0.024</td>\n",
       "      <td>0.034</td>\n",
       "      <td>0.033</td>\n",
       "      <td>0.036</td>\n",
       "      <td>...</td>\n",
       "      <td>0.029</td>\n",
       "      <td>0.025</td>\n",
       "      <td>0.025</td>\n",
       "      <td>0.024</td>\n",
       "      <td>0.031</td>\n",
       "      <td>0.027</td>\n",
       "      <td>0.025</td>\n",
       "      <td>0.026</td>\n",
       "      <td>0.023</td>\n",
       "      <td>0.019</td>\n",
       "    </tr>\n",
       "    <tr>\n",
       "      <th>ch.9.98463211R</th>\n",
       "      <td>0.046</td>\n",
       "      <td>0.038</td>\n",
       "      <td>0.048</td>\n",
       "      <td>0.042</td>\n",
       "      <td>0.043</td>\n",
       "      <td>0.047</td>\n",
       "      <td>0.035</td>\n",
       "      <td>0.036</td>\n",
       "      <td>0.034</td>\n",
       "      <td>0.035</td>\n",
       "      <td>...</td>\n",
       "      <td>0.026</td>\n",
       "      <td>0.027</td>\n",
       "      <td>0.030</td>\n",
       "      <td>0.023</td>\n",
       "      <td>0.024</td>\n",
       "      <td>0.027</td>\n",
       "      <td>0.030</td>\n",
       "      <td>0.026</td>\n",
       "      <td>0.024</td>\n",
       "      <td>0.022</td>\n",
       "    </tr>\n",
       "  </tbody>\n",
       "</table>\n",
       "<p>310545 rows × 1880 columns</p>\n",
       "</div>"
      ],
      "text/plain": [
       "                GSE124413_AAML0531                                          \\\n",
       "               200973410077_R01C01 200973410077_R02C01 200973410077_R03C01   \n",
       "IlmnID                                                                       \n",
       "cg00000109                   0.898               0.920               0.907   \n",
       "cg00000292                   0.741               0.946               0.273   \n",
       "cg00000363                   0.447               0.312               0.207   \n",
       "cg00000622                   0.022               0.022               0.022   \n",
       "cg00000658                   0.802               0.816               0.786   \n",
       "...                            ...                 ...                 ...   \n",
       "ch.9.88862796F               0.068               0.045               0.061   \n",
       "ch.9.90287778F               0.077               0.055               0.071   \n",
       "ch.9.90621653R               0.049               0.043               0.044   \n",
       "ch.9.93402636R               0.046               0.037               0.052   \n",
       "ch.9.98463211R               0.046               0.038               0.048   \n",
       "\n",
       "                                                                            \\\n",
       "               200973410077_R04C01 200973410077_R05C01 200973410077_R06C01   \n",
       "IlmnID                                                                       \n",
       "cg00000109                   0.925               0.912               0.901   \n",
       "cg00000292                   0.784               0.254               0.723   \n",
       "cg00000363                   0.673               0.202               0.356   \n",
       "cg00000622                   0.022               0.020               0.020   \n",
       "cg00000658                   0.834               0.810               0.785   \n",
       "...                            ...                 ...                 ...   \n",
       "ch.9.88862796F               0.048               0.054               0.056   \n",
       "ch.9.90287778F               0.059               0.054               0.058   \n",
       "ch.9.90621653R               0.040               0.035               0.038   \n",
       "ch.9.93402636R               0.029               0.031               0.043   \n",
       "ch.9.98463211R               0.042               0.043               0.047   \n",
       "\n",
       "                                                                            \\\n",
       "               200973410077_R08C01 200973410079_R01C01 200973410079_R02C01   \n",
       "IlmnID                                                                       \n",
       "cg00000109                   0.903               0.932               0.948   \n",
       "cg00000292                   0.759               0.752               0.821   \n",
       "cg00000363                   0.218               0.337               0.235   \n",
       "cg00000622                   0.019               0.017               0.017   \n",
       "cg00000658                   0.814               0.814               0.809   \n",
       "...                            ...                 ...                 ...   \n",
       "ch.9.88862796F               0.034               0.038               0.034   \n",
       "ch.9.90287778F               0.049               0.079               0.041   \n",
       "ch.9.90621653R               0.037               0.042               0.045   \n",
       "ch.9.93402636R               0.024               0.034               0.033   \n",
       "ch.9.98463211R               0.035               0.036               0.034   \n",
       "\n",
       "                                    ... StJude_AML02_AML08                    \\\n",
       "               200973410079_R03C01  ...  9426021149_R02C01 9426021149_R02C02   \n",
       "IlmnID                              ...                                        \n",
       "cg00000109                   0.939  ...              0.941             0.918   \n",
       "cg00000292                   0.913  ...              0.845             0.803   \n",
       "cg00000363                   0.418  ...              0.625             0.407   \n",
       "cg00000622                   0.018  ...              0.015             0.018   \n",
       "cg00000658                   0.823  ...              0.893             0.871   \n",
       "...                            ...  ...                ...               ...   \n",
       "ch.9.88862796F               0.038  ...              0.027             0.033   \n",
       "ch.9.90287778F               0.062  ...              0.034             0.035   \n",
       "ch.9.90621653R               0.035  ...              0.033             0.029   \n",
       "ch.9.93402636R               0.036  ...              0.029             0.025   \n",
       "ch.9.98463211R               0.035  ...              0.026             0.027   \n",
       "\n",
       "                                                                      \\\n",
       "               9426021149_R03C01 9426021149_R03C02 9426021149_R04C01   \n",
       "IlmnID                                                                 \n",
       "cg00000109                 0.939             0.935             0.909   \n",
       "cg00000292                 0.778             0.778             0.550   \n",
       "cg00000363                 0.283             0.292             0.569   \n",
       "cg00000622                 0.013             0.019             0.015   \n",
       "cg00000658                 0.904             0.855             0.887   \n",
       "...                          ...               ...               ...   \n",
       "ch.9.88862796F             0.030             0.029             0.031   \n",
       "ch.9.90287778F             0.032             0.034             0.038   \n",
       "ch.9.90621653R             0.027             0.028             0.030   \n",
       "ch.9.93402636R             0.025             0.024             0.031   \n",
       "ch.9.98463211R             0.030             0.023             0.024   \n",
       "\n",
       "                                                                      \\\n",
       "               9426021149_R04C02 9426021149_R05C01 9426021149_R05C02   \n",
       "IlmnID                                                                 \n",
       "cg00000109                 0.930             0.925             0.894   \n",
       "cg00000292                 0.822             0.754             0.853   \n",
       "cg00000363                 0.418             0.500             0.488   \n",
       "cg00000622                 0.016             0.015             0.015   \n",
       "cg00000658                 0.863             0.867             0.829   \n",
       "...                          ...               ...               ...   \n",
       "ch.9.88862796F             0.033             0.034             0.027   \n",
       "ch.9.90287778F             0.042             0.038             0.038   \n",
       "ch.9.90621653R             0.034             0.032             0.029   \n",
       "ch.9.93402636R             0.027             0.025             0.026   \n",
       "ch.9.98463211R             0.027             0.030             0.026   \n",
       "\n",
       "                                                    \n",
       "               9426021149_R06C01 9426021149_R06C02  \n",
       "IlmnID                                              \n",
       "cg00000109                 0.925             0.935  \n",
       "cg00000292                 0.704             0.687  \n",
       "cg00000363                 0.558             0.353  \n",
       "cg00000622                 0.015             0.013  \n",
       "cg00000658                 0.907             0.883  \n",
       "...                          ...               ...  \n",
       "ch.9.88862796F             0.030             0.024  \n",
       "ch.9.90287778F             0.029             0.029  \n",
       "ch.9.90621653R             0.029             0.026  \n",
       "ch.9.93402636R             0.023             0.019  \n",
       "ch.9.98463211R             0.024             0.022  \n",
       "\n",
       "[310545 rows x 1880 columns]"
      ]
     },
     "execution_count": 14,
     "metadata": {},
     "output_type": "execute_result"
    }
   ],
   "source": [
    "print(f' Merged df5 dataset contains {df5.shape[0]}'\n",
    "+ f' rows (CpG probes) and {df5.shape[1]} columns (samples).')\n",
    "\n",
    "df5"
   ]
  },
  {
   "attachments": {},
   "cell_type": "markdown",
   "metadata": {},
   "source": [
    "## Step 6. Add Sample Metadata and Clinical Data"
   ]
  },
  {
   "cell_type": "code",
   "execution_count": 15,
   "metadata": {},
   "outputs": [],
   "source": [
    "from FM_Functions.Clinical_Data_CleanUp import *\n",
    "clinical_data = combine_and_index_clinicaldata() # Load and merge all clinical data"
   ]
  },
  {
   "cell_type": "markdown",
   "id": "39875e9e",
   "metadata": {},
   "source": [
    "## Save Files"
   ]
  },
  {
   "cell_type": "code",
   "execution_count": 17,
   "metadata": {},
   "outputs": [],
   "source": [
    "df5.to_pickle('../Data/Processed_Data/2_MethylData_Processing_Output.pkl')"
   ]
  },
  {
   "attachments": {},
   "cell_type": "markdown",
   "metadata": {},
   "source": [
    "## End"
   ]
  }
 ],
 "metadata": {
  "celltoolbar": "Tags",
  "kernelspec": {
   "display_name": "methylsuite",
   "language": "python",
   "name": "python3"
  },
  "language_info": {
   "codemirror_mode": {
    "name": "ipython",
    "version": 3
   },
   "file_extension": ".py",
   "mimetype": "text/x-python",
   "name": "python",
   "nbconvert_exporter": "python",
   "pygments_lexer": "ipython3",
   "version": "3.7.13 (default, Mar 28 2022, 08:03:21) [MSC v.1916 64 bit (AMD64)]"
  },
  "vscode": {
   "interpreter": {
    "hash": "c76ea7e9f1e76c252243aa08ba5eee35c9486f7393512ed96443d69ae24ec9a7"
   }
  }
 },
 "nbformat": 4,
 "nbformat_minor": 2
}