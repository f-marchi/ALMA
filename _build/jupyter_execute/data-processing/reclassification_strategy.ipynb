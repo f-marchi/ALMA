{
 "cells": [
  {
   "attachments": {},
   "cell_type": "markdown",
   "metadata": {},
   "source": [
    "# Reclassification to Current Clinical Guidelines\n",
    "\n",
    "```{contents}\n",
    "```"
   ]
  },
  {
   "cell_type": "markdown",
   "metadata": {},
   "source": [
    "Current thinking:\n",
    "\n",
    "14 WHO subtypes of AML\n",
    "+1 otherwise-normal control\n",
    "\n",
    "May need to see how to think of mds-like and secondary neoplasms\n"
   ]
  },
  {
   "attachments": {},
   "cell_type": "markdown",
   "metadata": {},
   "source": [
    "## Guidelines"
   ]
  },
  {
   "cell_type": "markdown",
   "metadata": {},
   "source": [
    "### WHO 2022"
   ]
  },
  {
   "cell_type": "code",
   "execution_count": 1,
   "metadata": {
    "tags": [
     "hide-input"
    ]
   },
   "outputs": [
    {
     "data": {
      "text/html": [
       "<style>.itables table td {\n",
       "    text-overflow: ellipsis;\n",
       "    overflow: hidden;\n",
       "}\n",
       "\n",
       ".itables table th {\n",
       "    text-overflow: ellipsis;\n",
       "    overflow: hidden;\n",
       "}\n",
       "\n",
       ".itables thead input {\n",
       "    width: 100%;\n",
       "    padding: 3px;\n",
       "    box-sizing: border-box;\n",
       "}\n",
       "\n",
       ".itables tfoot input {\n",
       "    width: 100%;\n",
       "    padding: 3px;\n",
       "    box-sizing: border-box;\n",
       "}\n",
       "</style>\n",
       "<div class=\"itables\">\n",
       "<table id=\"6bd7bb40-20b1-4b5b-91db-214175f2bf51\" class=\"display nowrap\"style=\"table-layout:auto;width:auto;margin:auto;caption-side:bottom\"><thead>\n",
       "    <tr style=\"text-align: right;\">\n",
       "      \n",
       "      <th>Subtype</th>\n",
       "      <th>Frequency in paediatric AML</th>\n",
       "      <th>Morphology</th>\n",
       "      <th>Immunophenotype</th>\n",
       "      <th>Common co-occurring genetic aberrations</th>\n",
       "      <th>Prognosis</th>\n",
       "    </tr>\n",
       "  </thead><tbody><tr><td>Loading... (need <a href=https://mwouts.github.io/itables/troubleshooting.html>help</a>?)</td></tr></tbody></table>\n",
       "<link rel=\"stylesheet\" type=\"text/css\" href=\"https://cdn.datatables.net/1.13.1/css/jquery.dataTables.min.css\">\n",
       "<script type=\"module\">\n",
       "    // Import jquery and DataTable\n",
       "    import 'https://code.jquery.com/jquery-3.6.0.min.js';\n",
       "    import dt from 'https://cdn.datatables.net/1.12.1/js/jquery.dataTables.mjs';\n",
       "    dt($);\n",
       "\n",
       "    // Define the table data\n",
       "    const data = [[\"AML with RUNX1::RUNXT1 fusion\", \"13\\u201319% of cases\", \"Neutrophilic maturation, Auer rods; often increased basophils and/or mast cells\", \"Positive: CD34, HLA-DR, KIT (CD117), CD99, myeloperoxidase\\\\nUsually positive but can be heterogeneous: CD13, CD33 and CD38, CD19, PAX5, cytoplasmic CD79a, CD56\\\\nNegative: CD7\", \"Mutations in KIT, FLT3, CSF3R, EZH2, ASXL1, ASXL2, CBL, WT1, cohesion genes (SMC1A, SMC3, RAD21), NRAS, KRAS\", \"Good\"], [\"AML with CBFB::MYH11 fusion\", \"7\\u201312% of cases\", \"Myelomonocytic; often increased eosinophils at all maturation stages\", \"Often multiple blast populations with signs of differentiation towards both granulocytic and monocytic lineages; may express CD2 and/or NG2 in a small subpopulation of cells\", \"Mutations in KIT, KRAS, NRAS, CBL, FLT3, WT1\", \"Good\"], [\"APL with PML::RARA fusion\", \"5\\u201310% of cases but wide geographical variation (2\\u201350%)\", \"Exclusively FAB M3; may be hypogranular\", \"Positive: CD33, often KIT (CD117), sometimes CD2\\\\nNegative: CD34 (except hypogranular variant), HLA-DR\\\\nOften high autofluorescence\", \"Mutations in FLT3\", \"Good (but treated differently)\"], [\"AML with KMT2A rearrangement\", \"20% of cases\", \"All FAB types except M3 and M6, most commonly M5\", \"Positive: CD33, CD65, CD4, HLA-DR (in monocytic cases), CD15, NG2; platelet antigens (in megakaryocytic cases)\\\\nNegative/low: CD13, CD34, CD14\", \"Mutations in the tyrosine kinase, PI3K, and RAS pathways; FLT3-TKD, NRAS, KRAS\", \"Depends on fusion partner\"], [\"AML with DEK::NUP214 fusion\", \"1\\u20132% of cases\", \"All FAB types except M3 and M7, most commonly M2 and M4; Auer rods; basophilia in blood or bone marrow; erythroid and granulocytic dysplasia are common\", \"Positive: myeloperoxidase, CD13, CD33, CD38, CD123, HLA-DR; often CD34, KIT (CD117), CD15; sometimes CD64, TdT\", \"FLT3 ITD in two thirds of cases; complex karyotype\", \"Poor\"], [\"AML with MECOM rearrangement\", \"< 1% of cases\", \"Commonly FAB M1, M4, and M7; multilineage dysplasia is common, especially in megakaryopoiesis\", \"Positive: CD34, CD33, CD13, KIT (CD117), HLA-DR, CD7\\\\nNegative: lymphoid markers other than CD7\", \"NaN\", \"Poor\"], [\"AML with ETV6 fusion\", \"1% of all cases\", \"All FAB types, most commonly M0 and M1\", \"For MNX1::ETV6:\\\\nPositive: CD34, HLA-DR, often KIT (CD117), T-cell markers CD7 and CD4\", \"Almost always +19, sometimes +8\", \"Poor, but may be protocol dependent\"], [\"AML with KAT6A::CREBBP fusion\", \"0.5% of cases\", \"FAB M5\", \"Positive: HLA-DR, CD15, myeloperoxidase, CD13, CD33, sometimes CD56, CD14\\\\nNegative: CD34, KIT (CD117)\", \"NaN\", \"OS similar to paediatric AML in general\"], [\"AML with RBM15::MRTFA fusion\", \"0.8% of all cases\", \"Exclusively FAB M7\", \"Positive: > 1 platelet antigen, some CD34 and/or HLA-DR\\\\nNegative: CD45\", \"del(1p), +4, +7, +8, +9, +10, +14, +15, +17, +18, +20, +21(21p), complex hyperdiploid karyotype\", \"Lower CR rate but similar EFS/OS vs other AMKLs\"], [\"AML with CBFA2T3::GLIS2 fusion\", \"3% of all cases\", \"All FAB types, most commonly M7\", \"> 50% show the RAM phenotype; overexpression of CD56 and underexpression of HLA-DR and CD38\", \"Mutations in FLT3, GATA1, JAK/STAT pathway\", \"Poor\"], [\"AML with NUP98 rearrangement\", \"5\\u20139% of cases\", \"NUP98::NSD1: often FAB M4 and M5\\\\nNUP98::KDM5A: mostly FAB M7 but also M5 and M6\", \"NaN\", \"For NUP98::NSD1: FLT3 ITD in > 80%, mutation in WT1 in 50%\", \"Poor\"], [\"AML with FUS::ERG fusion\", \"0.3\\u20130.5% of cases\", \"All FAB types except M6; Auer rods\", \"NaN\", \"+8, +10, complex karyotype\", \"Poor\"], [\"AML with NPM1 mutation\", \"6\\u20138% of cases\", \"FAB M1, M2, M4, and M5\", \"Positive: CD33, sometimes KIT (CD117), often CD36, CD64\\\\nNegative: CD34, sometimes HLA-DR\\\\nOften weak CD13\", \"FLT3 ITD, mutations in NRAS, WT1\", \"Good, also when FLT3 ITD is present\"], [\"AML with CEBPA mutation\", \"5\\u20136% of cases\", \"Most commonly FAB M1 and M2\", \"Positive: CD34, HLA-DR, often CD7\\\\nNegative: other lymphoid antigens\", \"Mutations in CEBPA-TAD, CSF3R, GATA2, RAS genes, FLT3\", \"Good, except for CSF3R-mutated cases\"]];\n",
       "\n",
       "    // Define the dt_args\n",
       "    let dt_args = {\"order\": []};\n",
       "    dt_args[\"data\"] = data;\n",
       "\n",
       "    $(document).ready(function () {\n",
       "        \n",
       "        $('#6bd7bb40-20b1-4b5b-91db-214175f2bf51').DataTable(dt_args);\n",
       "    });\n",
       "</script>\n",
       "</div>\n"
      ],
      "text/plain": [
       "<IPython.core.display.HTML object>"
      ]
     },
     "metadata": {},
     "output_type": "display_data"
    }
   ],
   "source": [
    "import pandas as pd\n",
    "import itables\n",
    "\n",
    "from itables import show\n",
    "\n",
    "# Read the CSV file\n",
    "df = pd.read_csv('../data/who2022_aml_classification.csv')\n",
    "\n",
    "# Display the dataframe using itables\n",
    "itables.show(df)\n"
   ]
  },
  {
   "cell_type": "markdown",
   "metadata": {},
   "source": [
    "`````{admonition} Source\n",
    ":class: tip\n",
    "Hasle H, Meshinchi S, Fogelstrand L, Alaggio R, et al. Acute myeloid leukaemias (AMLs) with defining genetic abnormalities. In: WHO Classification of Tumours Editorial Board. Paediatric tumours [Internet]. Lyon (France): International Agency for Research on Cancer; 2022 [cited 2024 Jan 1]. (WHO classification of tumours series, 5th ed.; vol. 7). Available from: https://tumourclassification.iarc.who.int/chapters/44.\n",
    "`````"
   ]
  },
  {
   "cell_type": "markdown",
   "metadata": {},
   "source": [
    "## Load and process clinical data"
   ]
  },
  {
   "cell_type": "code",
   "execution_count": 1,
   "metadata": {
    "tags": [
     "hide-input"
    ]
   },
   "outputs": [
    {
     "name": "stdout",
     "output_type": "stream",
     "text": [
      "The clinical data has been indexed and cleaned.\n",
      "Exclusion of samples may be applied depending on the analysis.\n"
     ]
    }
   ],
   "source": [
    "# Import functions to clean up clinical data\n",
    "import sys\n",
    "sys.path.insert(0, '..')\n",
    "from source.clinical_data_cleanup_functions import *\n",
    "\n",
    "# Call functions to merge, index and clean clinical data files\n",
    "labels_0531         = clean_cog       (merge_index_0531())\n",
    "labels_1031         = clean_cog       (merge_index_1031())\n",
    "labels_aml05        = clean_aml05     (merge_index_aml05())\n",
    "labels_beataml      = clean_beataml   (merge_index_beataml())\n",
    "labels_amltcga      = clean_amltcga   (merge_index_amltcga())\n",
    "labels_nordic_all   = clean_nordic_all(merge_index_nordic_all())\n",
    "labels_mds_taml     = clean_mds_taml  (merge_index_mds_taml())\n",
    "labels_all_graal    = clean_all_graal (merge_index_all_graal())\n",
    "labels_target_all   = clean_target_all(merge_index_target_all())\n",
    "\n",
    "# Combine all clinical data labels into one dataframe\n",
    "labels_combined = pd.concat([labels_aml05, labels_beataml,\n",
    "                        labels_0531, labels_amltcga, labels_1031,\n",
    "                        labels_nordic_all, labels_mds_taml,\n",
    "                        labels_all_graal,labels_target_all],\n",
    "                        axis=0, join='outer')\n",
    "\n",
    "# Redefine output path (for troubleshooting purposes in case only this cell is run)\n",
    "output_path = '../../Data/Intermediate_Files/'\n",
    "\n",
    "# Read df\n",
    "df = pd.read_pickle(output_path + '3330samples-333351cpgs-withbatchcorrection-bvalues.pkl')\n",
    "\n",
    "# Remove samples that are not in the methyl dataset\n",
    "df_labels = labels_combined.loc[labels_combined.index.isin(df.index)].sort_index()\n",
    "\n",
    "# Add age categorization and main disease classification to the clinical data\n",
    "# df_labels = process_df_labels(df_labels)\n",
    "\n",
    "# Save the clinical data labels\n",
    "# df_labels.to_csv(output_path + 'discovery_clinical_data.csv')\n",
    "\n",
    "print('The clinical data has been indexed and cleaned.\\n\\\n",
    "Exclusion of samples may be applied depending on the analysis.')"
   ]
  },
  {
   "cell_type": "code",
   "execution_count": 3,
   "metadata": {
    "tags": [
     "hide-input"
    ]
   },
   "outputs": [],
   "source": [
    "# save all label dataframes into excel files using `pandas` 'to_excel' function\n",
    "# labels_aml05.to_excel(output_path + 'aml05_clinical_data.xlsx')\n",
    "# labels_beataml.to_excel(output_path + 'beataml_clinical_data.xlsx')\n",
    "labels_0531.to_excel(output_path + '0531_clinical_data.xlsx')\n",
    "# labels_amltcga.to_excel(output_path + 'amltcga_clinical_data.xlsx')\n",
    "labels_1031.to_excel(output_path + '1031_clinical_data.xlsx')\n",
    "# labels_nordic_all.to_excel(output_path + 'nordic_all_clinical_data.xlsx')\n",
    "# labels_mds_taml.to_excel(output_path + 'mds_taml_clinical_data.xlsx')\n",
    "# labels_all_graal.to_excel(output_path + 'all_graal_clinical_data.xlsx')\n",
    "# labels_target_all.to_excel(output_path + 'target_all_clinical_data.xlsx')\n",
    "\n"
   ]
  },
  {
   "cell_type": "markdown",
   "metadata": {},
   "source": [
    "## Classification Strategy"
   ]
  },
  {
   "cell_type": "markdown",
   "metadata": {},
   "source": [
    "### Functions"
   ]
  },
  {
   "cell_type": "code",
   "execution_count": 17,
   "metadata": {
    "tags": [
     "hide-input"
    ]
   },
   "outputs": [],
   "source": [
    "    def classify_controls(normal_samples):\n",
    "        mapping = {\n",
    "            'Bone Marrow Normal': 'Otherwise-Normal Control',\n",
    "            'Blood Derived Normal': 'Otherwise-Normal Control'}\n",
    "        \n",
    "        for key, value in mapping.items():\n",
    "            if key in normal_samples:\n",
    "                return value\n",
    "\n",
    "    def classify_fusion(gene_fusion):\n",
    "        mapping = {\n",
    "        'RUNX1-RUNX1T1': 'AML with t(8;21)(q22;q22.1)/RUNX1::RUNX1T1',\n",
    "        'CBFB-MYH11':    'AML with inv(16)(p13.1q22) or t(16;16)(p13.1;q22)/CBFB::MYH11',\n",
    "        'KMT2A':         'AML with t(9;11)(p22;q23.3)/KMT2A-rearrangement',\n",
    "        'add(11)(q23)':  'AML with t(9;11)(p22;q23.3)/KMT2A-rearrangement',\n",
    "        'MLL':           'AML with t(9;11)(p22;q23.3)/KMT2A-rearrangement',\n",
    "        'PML-RARA':      'APL with t(15;17)(q24.1;q21.2)/PML::RARA',\n",
    "        'DEK-NUP214':    'AML with t(6;9)(p23;q34.1)/DEK::NUP214',\n",
    "        'MECOM':         'AML with inv(3)(q21.3q26.2) or t(3;3)(q21.3;q26.2)/MECOM-rearrangement',\n",
    "        'ETV6':          'AML with ETV6 fusion',\n",
    "        'NPM1':          'AML with mutated NPM1',\n",
    "        'RBM15-MKL1':    'AML with t(1;22)(p13.3;q13.1); RBM15::MKL1',\n",
    "        'NUP98':         'AML with NUP98-fusion',\n",
    "        'KAT6A-CREBBP':  'AML with t(8;16)(p11.2;p13.3); KAT6A::CREBBP',\n",
    "        'FUS-ERG':       'AML with t(16;21)(p11;q22); FUS::ERG',\n",
    "        'CBFA2T3-GLIS2': 'AML with CBFA2T3::GLIS2 (inv(16)(p13q24))',\n",
    "        'BCR-ABL1':       'AML with t(9;22)(q34.1;q11.2)/BCR::ABL1',\n",
    "\n",
    "        # Other uncharacterized abdnormalities present in the dataset but not in guidelines\n",
    "        \n",
    "        # 'RUNX1-CBFA2T3': 'AML with other rare recurring translocations',\n",
    "        # 'PRDM16-RPN1':   'AML with other rare recurring translocations',\n",
    "        # 'PICALM-MLLT10': 'AML with other rare recurring translocations',\n",
    "        # 'RBM15-MRTFA':   'AML with other rare recurring translocations',\n",
    "        # 'CBFA2T3-GLIS3': 'AML with CBFA2T3::GLIS2 (inv(16)(p13q24))',\n",
    "        # 'PSIP1-NUP214':  'AML with t(6;9)(p23;q34.1)/DEK::NUP214',\n",
    "        # 'XPO1-TNRC18':   'AML with other rare recurring translocations', \n",
    "        # 'HNRNPH1-ERG':   'AML with other rare recurring translocations',\n",
    "        # 'NIPBL-HOXB9':   'AML with other rare recurring translocations', \n",
    "        # 'SET-NUP214':    'AML with t(6;9)(p23;q34.1)/DEK::NUP214', \n",
    "        # 'FLI1-IFIT2':    'AML with other rare recurring translocations', \n",
    "        # 'TCF4-ZEB2':     'AML with other rare recurring translocations',\n",
    "        # 'MBTD1-ZMYND11': 'AML with other rare recurring translocations', \n",
    "        # 'FOSB-KLF6':     'AML with other rare recurring translocations', \n",
    "        # 'SFPQ-ZFP36L2':  'AML with other rare recurring translocations', \n",
    "        # 'RUNX1-LINC00478':'AML with other rare recurring translocations',\n",
    "        # 'RUNX1-EVX1':     'AML with other rare recurring translocations',  \n",
    "        # 'PSPC1-ZFP36L1':  'AML with other rare recurring translocations', \n",
    "        # 'EWSR1-FEV':      'AML with other rare recurring translocations',\n",
    "        # 'STAG2-AFF2':     'AML with other rare recurring translocations', \n",
    "        # 'MYB-GATA1':      'AML with other rare recurring translocations', \n",
    "        # 'RUNX1-ZFPM2':    'AML with other rare recurring translocations', \n",
    "        # 'RUNX1-CBFA2T2':  'AML with other rare recurring translocations',\n",
    "        # 'PIM3-BRD1':      'AML with other rare recurring translocations',\n",
    "        # 'KAT6A-EP300':    'AML with other rare recurring translocations',\n",
    "        # 'DOT1L-RPS15':    'AML with other rare recurring translocations',\n",
    "        # 'FUS-FEV':        'AML with other rare recurring translocations',\n",
    "        # 'KAT6A-NCOA2':    'AML with other rare recurring translocations',\n",
    "        # 'JARID2-PTP4A1':  'AML with other rare recurring translocations',\n",
    "        # 'FUS-FLI1':       'AML with other rare recurring translocations'\n",
    "        }    \n",
    "        \n",
    "        for key, value in mapping.items():\n",
    "            if key in gene_fusion:\n",
    "                return value\n",
    "\n",
    "    def classify_cebpa(cebpa_mutation):\n",
    "        mapping = {\n",
    "            'Yes': 'AML with bZIP mutated CEBPA'}\n",
    "        \n",
    "        for key, value in mapping.items():\n",
    "            if key in cebpa_mutation:\n",
    "                return value\n",
    "\n",
    "    def classify_npm(npm_mutation):\n",
    "        mapping = {\n",
    "            'Yes': 'AML with mutated NPM1',\n",
    "        }\n",
    "\n",
    "        for key, value in mapping.items():\n",
    "            if key in npm_mutation:\n",
    "                return value\n",
    "            \n",
    "    def classify_annotated_diagnosis(diagnosis):\n",
    "        mapping = {\n",
    "            'mutated NPM1': 'AML with mutated NPM1',\n",
    "            'mutated CEBPA': 'AML with bZIP mutated CEBPA',\n",
    "            # 'myelodysplasia-related changes': 'MDS-related or secondary myeloid neoplasms'\n",
    "            }\n",
    "        \n",
    "        for key, value in mapping.items():\n",
    "            if key in diagnosis:\n",
    "                return value\n",
    "\n",
    "    def classify_karyotype(structural_variation):\n",
    "        mapping = {\n",
    "            't(8;16)': 'AML with t(8;16)(p11.2;p13.3); KAT6A::CREBBP',\n",
    "            't(16;21)': 'AML with t(16;21)(p11;q22); FUS::ERG',\n",
    "            't(6;9)': 'AML with t(6;9)(p23;q34.1)/DEK::NUP214',\n",
    "            't(1;22)': 'AML with t(1;22)(p13.3;q13.1); RBM15::MKL1',\n",
    "            'inv(3)': 'AML with inv(3)(q21.3q26.2) or t(3;3)(q21.3;q26.2)/MECOM-rearrangement',\n",
    "            't(3;3)': 'AML with inv(3)(q21.3q26.2) or t(3;3)(q21.3;q26.2)/MECOM-rearrangement',}\n",
    "        \n",
    "        for key, value in mapping.items():\n",
    "            if key in structural_variation:\n",
    "                return value\n",
    "\n",
    "    def process_labels_who22(df):\n",
    "        df['WHO 2022_Controls'] = df['Sample Type'].astype(str).apply(classify_controls)\n",
    "        df['WHO 2022_Gene Fusion'] = df['Gene Fusion'].astype(str).apply(classify_fusion)\n",
    "        df['WHO 2022_CEBPA'] = df['CEBPA mutation'].astype(str).apply(classify_cebpa)\n",
    "        df['WHO 2022_NPM1'] = df['NPM mutation'].astype(str).apply(classify_npm)\n",
    "        df['WHO 2022_Comment'] = df['Comment'].astype(str).apply(classify_annotated_diagnosis)\n",
    "        df['WHO 2022_Karyotype'] = df['Karyotype'].astype(str).apply(classify_karyotype)\n",
    "\n",
    "        df['WHO 2022 Combined Diagnoses'] = df[['WHO 2022_Controls','WHO 2022_Gene Fusion',\n",
    "        'WHO 2022_CEBPA', 'WHO 2022_NPM1', 'WHO 2022_Comment', 'WHO 2022_Karyotype']]\\\n",
    "            .apply(lambda x: ','.join(filter(lambda i: i is not None and i==i, x)), axis=1)\n",
    "\n",
    "        # Replace empty strings with NaN\n",
    "        df['WHO 2022 Combined Diagnoses'] = df['WHO 2022 Combined Diagnoses'].replace('', np.nan)\n",
    "\n",
    "        # Create `WHO 2022 Final Diagnosis` column by splitting `Combined Diagnosis` by comma and taking the first element\n",
    "        df['WHO AML 2022 Diagnosis'] = df['WHO 2022 Combined Diagnoses'].str.split(',').str[0]\n",
    "\n",
    "        # Drop columns created except for `WHO 2022 Final Diagnosis` and `Combined Diagnosis` columns\n",
    "        df = df.drop(['WHO 2022_Controls','WHO 2022_Gene Fusion',\n",
    "         'WHO 2022_CEBPA', 'WHO 2022_NPM1', 'WHO 2022_Comment', 'WHO 2022_Karyotype'], axis=1)\n",
    "            \n",
    "        return df"
   ]
  },
  {
   "cell_type": "markdown",
   "metadata": {},
   "source": [
    "### Execution"
   ]
  },
  {
   "cell_type": "code",
   "execution_count": 18,
   "metadata": {
    "tags": [
     "hide-input"
    ]
   },
   "outputs": [],
   "source": [
    "labels_cog = pd.concat([labels_0531, labels_1031],\n",
    "                        axis=0, join='outer')\n",
    "\n",
    "labels_cog_who = process_labels_who22(labels_cog)\n",
    "\n",
    "labels_cog_who.to_excel(output_path + 'cog_clinical_data.xlsx')"
   ]
  },
  {
   "cell_type": "markdown",
   "metadata": {},
   "source": [
    "## WHO Peds AML Classification COG"
   ]
  },
  {
   "cell_type": "markdown",
   "metadata": {},
   "source": [
    "### New"
   ]
  },
  {
   "cell_type": "code",
   "execution_count": 19,
   "metadata": {},
   "outputs": [
    {
     "data": {
      "text/plain": [
       "WHO AML 2022 Diagnosis\n",
       "AML with t(9;11)(p22;q23.3)/KMT2A-rearrangement                           416\n",
       "AML with t(8;21)(q22;q22.1)/RUNX1::RUNX1T1                                245\n",
       "AML with inv(16)(p13.1q22) or t(16;16)(p13.1;q22)/CBFB::MYH11             199\n",
       "Otherwise-Normal Control                                                  181\n",
       "AML with mutated NPM1                                                     142\n",
       "AML with NUP98-fusion                                                     123\n",
       "AML with bZIP mutated CEBPA                                                85\n",
       "AML with CBFA2T3::GLIS2 (inv(16)(p13q24))                                  39\n",
       "AML with t(6;9)(p23;q34.1)/DEK::NUP214                                     33\n",
       "AML with ETV6 fusion                                                       25\n",
       "AML with t(1;22)(p13.3;q13.1); RBM15::MKL1                                 15\n",
       "AML with t(16;21)(p11;q22); FUS::ERG                                       12\n",
       "AML with t(8;16)(p11.2;p13.3); KAT6A::CREBBP                               10\n",
       "AML with inv(3)(q21.3q26.2) or t(3;3)(q21.3;q26.2)/MECOM-rearrangement     10\n",
       "APL with t(15;17)(q24.1;q21.2)/PML::RARA                                    1\n",
       "Name: count, dtype: int64"
      ]
     },
     "execution_count": 19,
     "metadata": {},
     "output_type": "execute_result"
    }
   ],
   "source": [
    "labels_cog_who['WHO AML 2022 Diagnosis'].value_counts()"
   ]
  },
  {
   "cell_type": "markdown",
   "metadata": {},
   "source": [
    "### Old"
   ]
  },
  {
   "cell_type": "code",
   "execution_count": 16,
   "metadata": {},
   "outputs": [
    {
     "data": {
      "text/plain": [
       "WHO AML 2022 Diagnosis\n",
       "AML with t(9;11)(p22;q23.3)/KMT2A-rearrangement                           416\n",
       "AML with t(8;21)(q22;q22.1)/RUNX1::RUNX1T1                                245\n",
       "AML with inv(16)(p13.1q22) or t(16;16)(p13.1;q22)/CBFB::MYH11             199\n",
       "Otherwise-Normal Control                                                  181\n",
       "AML with mutated NPM1                                                     142\n",
       "AML with NUP98-fusion                                                     123\n",
       "AML with bZIP mutated CEBPA                                                85\n",
       "AML with CBFA2T3::GLIS2 (inv(16)(p13q24))                                  40\n",
       "AML with t(6;9)(p23;q34.1)/DEK::NUP214                                     35\n",
       "AML with ETV6 fusion                                                       25\n",
       "AML with t(1;22)(p13.3;q13.1); RBM15::MKL1                                 13\n",
       "AML with t(8;16)(p11.2;p13.3); KAT6A::CREBBP                                9\n",
       "AML with t(16;21)(p11;q22); FUS::ERG                                        7\n",
       "AML with inv(3)(q21.3q26.2) or t(3;3)(q21.3;q26.2)/MECOM-rearrangement      6\n",
       "APL with t(15;17)(q24.1;q21.2)/PML::RARA                                    1\n",
       "Name: count, dtype: int64"
      ]
     },
     "execution_count": 16,
     "metadata": {},
     "output_type": "execute_result"
    }
   ],
   "source": [
    "labels_cog_who['WHO AML 2022 Diagnosis'].value_counts()"
   ]
  },
  {
   "cell_type": "markdown",
   "metadata": {},
   "source": [
    "## For later"
   ]
  },
  {
   "cell_type": "code",
   "execution_count": null,
   "metadata": {
    "tags": [
     "hide-input"
    ]
   },
   "outputs": [],
   "source": [
    "def process_df_labels(df):\n",
    "    \"\"\"\n",
    "    Function to process a pandas dataframe, performing age categorization \n",
    "    and main disease classification.\n",
    "\n",
    "    Args:\n",
    "        df (pandas.DataFrame): Input dataframe.\n",
    "\n",
    "    Returns:\n",
    "        pandas.DataFrame: Processed dataframe with age categorized and main disease classified.\n",
    "    \"\"\"\n",
    "    import numpy as np\n",
    "    import pandas as pd\n",
    "\n",
    "    def categorize_age(age):\n",
    "        \"\"\"\n",
    "        Function to categorize age into a specific range.\n",
    "\n",
    "        Args:\n",
    "            age (int or float): The age to be categorized.\n",
    "\n",
    "        Returns:\n",
    "            str: A string representation of the age category.\n",
    "        \"\"\"\n",
    "        if pd.isnull(age):\n",
    "            return np.nan\n",
    "        elif age < 5:\n",
    "            return '0-5'\n",
    "        elif age < 13:\n",
    "            return '5-13'\n",
    "        elif age < 39:\n",
    "            return '13-39'\n",
    "        elif age < 60:\n",
    "            return '39-60'\n",
    "        else:\n",
    "            return '60+'\n",
    "\n",
    "    def classify_main_disease(subtype):\n",
    "        \"\"\"\n",
    "        Function to classify the main disease based on a given subtype.\n",
    "\n",
    "        Args:\n",
    "            subtype (str): The subtype of the disease.\n",
    "\n",
    "        Returns:\n",
    "            str: A string representation of the main disease.\n",
    "        \"\"\"\n",
    "        mapping = {\n",
    "            'AML': 'Acute myeloid leukemia (AML)',\n",
    "            'ALL': 'Acute lymphoblastic leukemia (ALL)',\n",
    "            'MDS': 'Myelodysplastic syndrome (MDS or MDS-like)',\n",
    "            'Mixed phenotype acute leukemia': 'Mixed phenotype acute leukemia (MPAL)',\n",
    "            'APL': 'Acute promyelocytic leukemia (APL)',\n",
    "            'Otherwise-Normal Control': 'Otherwise-Normal (Control)'\n",
    "        }\n",
    "\n",
    "        for key, value in mapping.items():\n",
    "            if key in subtype:\n",
    "                return value\n",
    "\n",
    "    def main_disease_class(df):\n",
    "        \"\"\"\n",
    "        Function to classify the main disease and create a pathology class.\n",
    "\n",
    "        Args:\n",
    "            df (pandas.DataFrame): The dataframe to be processed.\n",
    "\n",
    "        Returns:\n",
    "            pandas.DataFrame: The processed dataframe with new columns for main disease and pathology class.\n",
    "        \"\"\"\n",
    "\n",
    "        df['WHO_ALL'] = df['WHO ALL 2022 Diagnosis'].astype(str).apply(classify_main_disease)\n",
    "        df['ELN_AML'] = df['ELN AML 2022 Diagnosis'].astype(str).apply(classify_main_disease)\n",
    "\n",
    "        df['Hematopoietic Group'] = df[['ELN_AML', 'WHO_ALL']] \\\n",
    "            .apply(lambda x: ','.join(filter(lambda i: i is not None and i == i, x)), axis=1) \\\n",
    "            .replace('', np.nan)\n",
    "\n",
    "        # Drop columns created except for `WHO Final Diagnosis` and `Combined Diagnosis` columns\n",
    "        df = df.drop(['ELN_AML', 'WHO_ALL'], axis=1)\n",
    "\n",
    "        return df\n",
    "\n",
    "    # Convert 'Age (years)' to numeric, errors='coerce' will turn non-numeric data to NaN\n",
    "    df['Age (years)'] = pd.to_numeric(df['Age (years)'], errors='coerce')\n",
    "\n",
    "    # Then apply your function\n",
    "    df['Age (group years)'] = df['Age (years)'].apply(categorize_age)\n",
    "    \n",
    "    # Process labels\n",
    "    df = main_disease_class(df)\n",
    "    \n",
    "    # Create `WHO 2022 Diagnosis` column\n",
    "    df['WHO 2022 Diagnosis'] = df[['WHO AML 2022 Diagnosis', 'WHO ALL 2022 Diagnosis']] \\\n",
    "            .apply(lambda x: ','.join(filter(lambda i: i is not None and i == i, x)), axis=1) \\\n",
    "            .replace('', np.nan)\n",
    "\n",
    "    return df"
   ]
  },
  {
   "cell_type": "markdown",
   "metadata": {},
   "source": [
    "### WHO AML 2022 Diagnosis"
   ]
  },
  {
   "cell_type": "code",
   "execution_count": 2,
   "metadata": {
    "tags": [
     "hide-input"
    ]
   },
   "outputs": [
    {
     "data": {
      "text/plain": [
       "WHO AML 2022 Diagnosis\n",
       "AML with t(9;11)(p22;q23.3)/KMT2A-rearrangement                           313\n",
       "MDS-related or secondary myeloid neoplasms                                230\n",
       "AML with mutated NPM1                                                     179\n",
       "AML with inv(16)(p13.1q22) or t(16;16)(p13.1;q22)/CBFB::MYH11             178\n",
       "AML with t(8;21)(q22;q22.1)/RUNX1::RUNX1T1                                169\n",
       "Otherwise-Normal Control                                                  162\n",
       "AML with NUP98-fusion                                                      97\n",
       "AML with bZIP mutated CEBPA                                                69\n",
       "APL with t(15;17)(q24.1;q21.2)/PML::RARA                                   31\n",
       "AML with CBFA2T3::GLIS2 (inv(16)(p13q24))                                  30\n",
       "AML with t(6;9)(p23;q34.1)/DEK::NUP214                                     28\n",
       "AML with ETV6 fusion                                                       16\n",
       "AML with inv(3)(q21.3q26.2) or t(3;3)(q21.3;q26.2)/MECOM-rearrangement     10\n",
       "AML with t(1;22)(p13.3;q13.1); RBM15::MKL1                                  9\n",
       "AML with t(8;16)(p11.2;p13.3); KAT6A::CREBBP                                7\n",
       "AML with t(16;21)(p11;q22); FUS::ERG                                        4\n",
       "Myeloid leukemia associated with Down syndrome                              1\n",
       "Mixed phenotype acute leukemia T/myeloid                                    1\n",
       "Name: count, dtype: int64"
      ]
     },
     "execution_count": 2,
     "metadata": {},
     "output_type": "execute_result"
    }
   ],
   "source": [
    "df_labels['WHO AML 2022 Diagnosis'].value_counts()"
   ]
  },
  {
   "cell_type": "markdown",
   "metadata": {},
   "source": [
    "### ELN AML 2022 Diagnosis"
   ]
  },
  {
   "cell_type": "code",
   "execution_count": 3,
   "metadata": {
    "tags": [
     "hide-input"
    ]
   },
   "outputs": [
    {
     "data": {
      "text/plain": [
       "ELN AML 2022 Diagnosis\n",
       "AML with t(9;11)(p22;q23.3)/KMT2A-rearrangement                           313\n",
       "MDS-related or secondary myeloid neoplasms                                228\n",
       "AML with other rare recurring translocations                              185\n",
       "AML with inv(16)(p13.1q22) or t(16;16)(p13.1;q22)/CBFB::MYH11             178\n",
       "AML with mutated NPM1                                                     172\n",
       "AML with t(8;21)(q22;q22.1)/RUNX1::RUNX1T1                                169\n",
       "Otherwise-Normal Control                                                  162\n",
       "AML with in-frame bZIP mutated CEBPA                                       69\n",
       "APL with t(15;17)(q24.1;q21.2)/PML::RARA                                   31\n",
       "AML with t(6;9)(p23;q34.1)/DEK::NUP214                                     28\n",
       "AML with inv(3)(q21.3q26.2) or t(3;3)(q21.3;q26.2)/MECOM-rearrangement     10\n",
       "AML with t(9;22)(q34.1;q11.2)/BCR::ABL1                                     3\n",
       "Myeloid leukaemia associated with Down syndrome                             1\n",
       "Mixed phenotype acute leukemia T/myeloid                                    1\n",
       "Name: count, dtype: int64"
      ]
     },
     "execution_count": 3,
     "metadata": {},
     "output_type": "execute_result"
    }
   ],
   "source": [
    "df_labels['ELN AML 2022 Diagnosis'].value_counts()"
   ]
  },
  {
   "attachments": {},
   "cell_type": "markdown",
   "metadata": {},
   "source": [
    "### Evaluate final sample size by batch"
   ]
  },
  {
   "cell_type": "code",
   "execution_count": 17,
   "metadata": {
    "tags": [
     "hide-input"
    ]
   },
   "outputs": [
    {
     "data": {
      "text/plain": [
       "Batch\n",
       "GSE49031          933\n",
       "GSE190931         581\n",
       "GSE124413         495\n",
       "GSE159907         316\n",
       "GDC_TARGET-AML    287\n",
       "GDC_TCGA-AML      194\n",
       "GSE152710         166\n",
       "GSE147667         153\n",
       "GDC_TARGET-ALL    141\n",
       "GSE133986          64\n",
       "Name: count, dtype: int64"
      ]
     },
     "execution_count": 17,
     "metadata": {},
     "output_type": "execute_result"
    }
   ],
   "source": [
    "df['Batch'].value_counts(dropna=False)"
   ]
  }
 ],
 "metadata": {
  "celltoolbar": "Tags",
  "kernelspec": {
   "display_name": ".venv_sklearn",
   "language": "python",
   "name": "python3"
  },
  "language_info": {
   "codemirror_mode": {
    "name": "ipython",
    "version": 3
   },
   "file_extension": ".py",
   "mimetype": "text/x-python",
   "name": "python",
   "nbconvert_exporter": "python",
   "pygments_lexer": "ipython3",
   "version": "3.8.16"
  },
  "vscode": {
   "interpreter": {
    "hash": "bea0b97f2aeab51a41f683aa60895cc0e821b0a2b6d8fed7be73bd28506d07e0"
   }
  }
 },
 "nbformat": 4,
 "nbformat_minor": 2
}