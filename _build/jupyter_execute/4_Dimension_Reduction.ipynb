{
 "cells": [
  {
   "attachments": {},
   "cell_type": "markdown",
   "metadata": {},
   "source": [
    "# Dimension Reduction with PaCMAP"
   ]
  },
  {
   "attachments": {},
   "cell_type": "markdown",
   "metadata": {},
   "source": [
    "## Where the data at?"
   ]
  },
  {
   "cell_type": "code",
   "execution_count": 1,
   "metadata": {},
   "outputs": [],
   "source": [
    "input_path = '../Data/Processed_Data/'\n",
    "output_path = '../Data/Processed_Data/PaCMAP_Results/'"
   ]
  },
  {
   "cell_type": "markdown",
   "metadata": {},
   "source": [
    "## Load Datasets"
   ]
  },
  {
   "cell_type": "code",
   "execution_count": 2,
   "metadata": {
    "tags": [
     "hide-input"
    ]
   },
   "outputs": [
    {
     "name": "stdout",
     "output_type": "stream",
     "text": [
      " Dataset (df) contains 310545 rows (mC sites) and 1762 columns (samples).\n"
     ]
    }
   ],
   "source": [
    "import pandas as pd\n",
    "\n",
    "x = pd.read_pickle(input_path+'x.pkl')\n",
    "y = pd.read_csv(input_path+'y.csv', index_col=0)\n",
    "\n",
    "print(\n",
    "    f' Dataset (df) contains {x.shape[1]} rows (mC sites) and {x.shape[0]} columns (samples).')"
   ]
  },
  {
   "cell_type": "code",
   "execution_count": 3,
   "metadata": {},
   "outputs": [],
   "source": [
    "# Load control and relapse data\n",
    "ctrl_rel = pd.read_pickle(input_path+'control_relapse.pkl')\n",
    "\n",
    "# Split control and relapse data into x and y\n",
    "ctrl_rel_x = ctrl_rel[x.columns]\n",
    "ctrl_rel_y = ctrl_rel[y.columns]\n",
    "\n",
    "# Split control and relapse data into control and relapse\n",
    "ctrl_y = ctrl_rel_y[ctrl_rel_y['Sample Type'].isin(['Bone Marrow Normal','Blood Derived Normal'])]\n",
    "rel_y = ctrl_rel_y[~ctrl_rel_y['Sample Type'].isin(['Bone Marrow Normal','Blood Derived Normal'])]\n",
    "\n",
    "# Apply to x\n",
    "ctrl_x = ctrl_rel_x.T[ctrl_y.index].T\n",
    "rel_x = ctrl_rel_x.T[rel_y.index].T"
   ]
  },
  {
   "attachments": {},
   "cell_type": "markdown",
   "metadata": {},
   "source": [
    "## Train-Test Split"
   ]
  },
  {
   "attachments": {},
   "cell_type": "markdown",
   "metadata": {},
   "source": [
    "Here we will split the data into a training/discovery and testing/validation set.\n",
    "\n",
    "We will use ```y_train``` to denote the training set, and ```y_test``` to denote the testing set. "
   ]
  },
  {
   "cell_type": "code",
   "execution_count": 4,
   "metadata": {
    "tags": [
     "hide-input"
    ]
   },
   "outputs": [
    {
     "name": "stdout",
     "output_type": "stream",
     "text": [
      "Discovery dataset (train) contains 310545 rows (mC sites) and 1553 columns (samples)\n",
      "\n",
      "AAML1031    704\n",
      "AAML0531    630\n",
      "AAML03P1     72\n",
      "AML05        64\n",
      "CCG2961      42\n",
      "NaN          41\n",
      "\n",
      "Validation dataset (test) contains 310545 rows (mC sites) and 209 columns (samples).\n",
      "\n",
      "AML02    167\n",
      "AML08     42\n",
      "\n"
     ]
    }
   ],
   "source": [
    "# Split train and test by clinical trial\n",
    "y_train = y[~y['Clinical Trial'].isin(['AML02', 'AML08'])]\n",
    "# y_train = y_train[y_train['Sample Type'].isin(['Diagnosis',\n",
    "#        'Primary Blood Derived Cancer - Bone Marrow', 'Bone Marrow Normal',\n",
    "#        'Primary Blood Derived Cancer - Peripheral Blood',\n",
    "#        'Blood Derived Normal'])]\n",
    "\n",
    "y_test = y[y['Clinical Trial'].isin(['AML02', 'AML08'])]\n",
    "\n",
    "# Select samples in x that are in y_train\n",
    "x_train = x.loc[y_train.index]\n",
    "x_test = x.loc[y_test.index]\n",
    "\n",
    "# x_train = pd.concat([x_train, ctrl_x], axis=0)\n",
    "# y_train = pd.concat([y_train, ctrl_y], axis=0,keys=['Diagnosis','Control'], names=['sample_type'])\n",
    "\n",
    "\n",
    "print(\n",
    "    f\"Discovery dataset (train) contains {x_train.shape[1]} rows (mC sites) and {x_train.shape[0]} columns (samples)\")\n",
    "print(\n",
    "    f\"\\n{y_train['Clinical Trial'].value_counts(dropna=False).to_string()}\\n\")\n",
    "print(\n",
    "    f\"Validation dataset (test) contains {x_test.shape[1]} rows (mC sites) and {x_test.shape[0]} columns (samples).\")\n",
    "print(f\"\\n{y_test['Clinical Trial'].value_counts(dropna=False).to_string()}\\n\")\n"
   ]
  },
  {
   "attachments": {},
   "cell_type": "markdown",
   "metadata": {},
   "source": [
    "## Batch Correction with pyCombat"
   ]
  },
  {
   "attachments": {},
   "cell_type": "markdown",
   "metadata": {},
   "source": [
    "- __pyCombat__: a Python tool for batch effects correction in high-throughput molecular data using empirical Bayes methods\n",
    "\n",
    "- __Github__: [https://epigenelabs.github.io/pyComBat/](https://epigenelabs.github.io/pyComBat/)\n",
    "\n",
    "- __Implementation Paper__: [bioRxiv](https://doi.org/10.1101/2020.03.17.995431)\n",
    "\n",
    "- __Original Paper__: [Biostatistics](https://pubmed.ncbi.nlm.nih.gov/16632515/)"
   ]
  },
  {
   "cell_type": "code",
   "execution_count": 5,
   "metadata": {
    "tags": [
     "hide-input"
    ]
   },
   "outputs": [
    {
     "name": "stdout",
     "output_type": "stream",
     "text": [
      "Found 4 batches.\n",
      "Adjusting for 0 covariate(s) or covariate level(s).\n"
     ]
    },
    {
     "name": "stdout",
     "output_type": "stream",
     "text": [
      "Standardizing Data across genes.\n"
     ]
    },
    {
     "name": "stdout",
     "output_type": "stream",
     "text": [
      "Fitting L/S model and finding priors.\n"
     ]
    },
    {
     "name": "stdout",
     "output_type": "stream",
     "text": [
      "Finding parametric adjustments.\n"
     ]
    },
    {
     "ename": "KeyboardInterrupt",
     "evalue": "",
     "output_type": "error",
     "traceback": [
      "\u001b[1;31m---------------------------------------------------------------------------\u001b[0m",
      "\u001b[1;31mKeyboardInterrupt\u001b[0m                         Traceback (most recent call last)",
      "Input \u001b[1;32mIn [5]\u001b[0m, in \u001b[0;36m<cell line: 4>\u001b[1;34m()\u001b[0m\n\u001b[0;32m      1\u001b[0m \u001b[38;5;28;01mfrom\u001b[39;00m \u001b[38;5;21;01mcombat\u001b[39;00m\u001b[38;5;21;01m.\u001b[39;00m\u001b[38;5;21;01mpycombat\u001b[39;00m \u001b[38;5;28;01mimport\u001b[39;00m pycombat\n\u001b[0;32m      3\u001b[0m \u001b[38;5;66;03m# Correct batch effects in the training dataset\u001b[39;00m\n\u001b[1;32m----> 4\u001b[0m x_train2 \u001b[38;5;241m=\u001b[39m \u001b[43mpycombat\u001b[49m\u001b[43m(\u001b[49m\u001b[43mx_train\u001b[49m\u001b[38;5;241;43m.\u001b[39;49m\u001b[43mT\u001b[49m\u001b[43m,\u001b[49m\u001b[43m \u001b[49m\u001b[43my_train\u001b[49m\u001b[43m[\u001b[49m\u001b[38;5;124;43m'\u001b[39;49m\u001b[38;5;124;43mBatch\u001b[39;49m\u001b[38;5;124;43m'\u001b[39;49m\u001b[43m]\u001b[49m\u001b[43m)\u001b[49m\u001b[38;5;241m.\u001b[39mT\n\u001b[0;32m      6\u001b[0m \u001b[38;5;28mprint\u001b[39m(\u001b[38;5;124m'\u001b[39m\u001b[38;5;124mSuccesfully corrected batch effects in the training dataset.\u001b[39m\u001b[38;5;124m'\u001b[39m)\n",
      "File \u001b[1;32m~\\AppData\\Local\\Programs\\Python\\Python310\\lib\\site-packages\\combat\\pycombat.py:657\u001b[0m, in \u001b[0;36mpycombat\u001b[1;34m(data, batch, mod, par_prior, prior_plots, mean_only, ref_batch, precision, **kwargs)\u001b[0m\n\u001b[0;32m    654\u001b[0m stand_mean \u001b[38;5;241m=\u001b[39m calculate_stand_mean(\n\u001b[0;32m    655\u001b[0m     grand_mean, n_array, design, n_batch, B_hat)\n\u001b[0;32m    656\u001b[0m s_data \u001b[38;5;241m=\u001b[39m standardise_data(dat, stand_mean, var_pooled, n_array)\n\u001b[1;32m--> 657\u001b[0m gamma_star, delta_star, batch_design \u001b[38;5;241m=\u001b[39m \u001b[43mfit_model\u001b[49m\u001b[43m(\u001b[49m\n\u001b[0;32m    658\u001b[0m \u001b[43m    \u001b[49m\u001b[43mdesign\u001b[49m\u001b[43m,\u001b[49m\u001b[43m \u001b[49m\u001b[43mn_batch\u001b[49m\u001b[43m,\u001b[49m\u001b[43m \u001b[49m\u001b[43ms_data\u001b[49m\u001b[43m,\u001b[49m\u001b[43m \u001b[49m\u001b[43mbatches\u001b[49m\u001b[43m,\u001b[49m\u001b[43m \u001b[49m\u001b[43mmean_only\u001b[49m\u001b[43m,\u001b[49m\u001b[43m \u001b[49m\u001b[43mpar_prior\u001b[49m\u001b[43m,\u001b[49m\u001b[43m \u001b[49m\u001b[43mprecision\u001b[49m\u001b[43m,\u001b[49m\u001b[43m \u001b[49m\u001b[43mref\u001b[49m\u001b[43m,\u001b[49m\u001b[43m \u001b[49m\u001b[43mNAs\u001b[49m\u001b[43m)\u001b[49m\n\u001b[0;32m    659\u001b[0m bayes_data \u001b[38;5;241m=\u001b[39m adjust_data(s_data, gamma_star, delta_star, batch_design,\n\u001b[0;32m    660\u001b[0m                         n_batches, var_pooled, stand_mean, n_array, ref, batches, dat)\n\u001b[0;32m    662\u001b[0m bayes_data_df \u001b[38;5;241m=\u001b[39m pd\u001b[38;5;241m.\u001b[39mDataFrame(bayes_data,\n\u001b[0;32m    663\u001b[0m             columns \u001b[38;5;241m=\u001b[39m list_samples,\n\u001b[0;32m    664\u001b[0m             index \u001b[38;5;241m=\u001b[39m list_genes)\n",
      "File \u001b[1;32m~\\AppData\\Local\\Programs\\Python\\Python310\\lib\\site-packages\\combat\\pycombat.py:541\u001b[0m, in \u001b[0;36mfit_model\u001b[1;34m(design, n_batch, s_data, batches, mean_only, par_prior, precision, ref, NAs)\u001b[0m\n\u001b[0;32m    538\u001b[0m \u001b[38;5;28;01mif\u001b[39;00m par_prior:\n\u001b[0;32m    539\u001b[0m     \u001b[38;5;66;03m# use param_fun function for parametric adjustments (cf. function definition)\u001b[39;00m\n\u001b[0;32m    540\u001b[0m     \u001b[38;5;28mprint\u001b[39m(\u001b[38;5;124m\"\u001b[39m\u001b[38;5;124mFinding parametric adjustments.\u001b[39m\u001b[38;5;124m\"\u001b[39m)\n\u001b[1;32m--> 541\u001b[0m     results \u001b[38;5;241m=\u001b[39m \u001b[38;5;28;43mlist\u001b[39;49m\u001b[43m(\u001b[49m\u001b[38;5;28;43mmap\u001b[39;49m\u001b[43m(\u001b[49m\u001b[43mpartial\u001b[49m\u001b[43m(\u001b[49m\u001b[43mparam_fun\u001b[49m\u001b[43m,\u001b[49m\n\u001b[0;32m    542\u001b[0m \u001b[43m                               \u001b[49m\u001b[43ms_data\u001b[49m\u001b[38;5;241;43m=\u001b[39;49m\u001b[43ms_data\u001b[49m\u001b[43m,\u001b[49m\n\u001b[0;32m    543\u001b[0m \u001b[43m                               \u001b[49m\u001b[43mbatches\u001b[49m\u001b[38;5;241;43m=\u001b[39;49m\u001b[43mbatches\u001b[49m\u001b[43m,\u001b[49m\n\u001b[0;32m    544\u001b[0m \u001b[43m                               \u001b[49m\u001b[43mmean_only\u001b[49m\u001b[38;5;241;43m=\u001b[39;49m\u001b[43mmean_only\u001b[49m\u001b[43m,\u001b[49m\n\u001b[0;32m    545\u001b[0m \u001b[43m                               \u001b[49m\u001b[43mgamma_hat\u001b[49m\u001b[38;5;241;43m=\u001b[39;49m\u001b[43mgamma_hat\u001b[49m\u001b[43m,\u001b[49m\n\u001b[0;32m    546\u001b[0m \u001b[43m                               \u001b[49m\u001b[43mgamma_bar\u001b[49m\u001b[38;5;241;43m=\u001b[39;49m\u001b[43mgamma_bar\u001b[49m\u001b[43m,\u001b[49m\n\u001b[0;32m    547\u001b[0m \u001b[43m                               \u001b[49m\u001b[43mdelta_hat\u001b[49m\u001b[38;5;241;43m=\u001b[39;49m\u001b[43mdelta_hat\u001b[49m\u001b[43m,\u001b[49m\n\u001b[0;32m    548\u001b[0m \u001b[43m                               \u001b[49m\u001b[43mt2\u001b[49m\u001b[38;5;241;43m=\u001b[39;49m\u001b[43mt2\u001b[49m\u001b[43m,\u001b[49m\n\u001b[0;32m    549\u001b[0m \u001b[43m                               \u001b[49m\u001b[43ma_prior\u001b[49m\u001b[38;5;241;43m=\u001b[39;49m\u001b[43ma_prior\u001b[49m\u001b[43m,\u001b[49m\n\u001b[0;32m    550\u001b[0m \u001b[43m                               \u001b[49m\u001b[43mb_prior\u001b[49m\u001b[38;5;241;43m=\u001b[39;49m\u001b[43mb_prior\u001b[49m\u001b[43m)\u001b[49m\u001b[43m,\u001b[49m\u001b[43m \u001b[49m\u001b[38;5;28;43mrange\u001b[39;49m\u001b[43m(\u001b[49m\u001b[43mn_batch\u001b[49m\u001b[43m)\u001b[49m\u001b[43m)\u001b[49m\u001b[43m)\u001b[49m\n\u001b[0;32m    551\u001b[0m \u001b[38;5;28;01melse\u001b[39;00m:\n\u001b[0;32m    552\u001b[0m     \u001b[38;5;66;03m# use nonparam_fun for non-parametric adjustments (cf. function definition)\u001b[39;00m\n\u001b[0;32m    553\u001b[0m     \u001b[38;5;28mprint\u001b[39m(\u001b[38;5;124m\"\u001b[39m\u001b[38;5;124mFinding nonparametric adjustments\u001b[39m\u001b[38;5;124m\"\u001b[39m)\n",
      "File \u001b[1;32m~\\AppData\\Local\\Programs\\Python\\Python310\\lib\\site-packages\\combat\\pycombat.py:254\u001b[0m, in \u001b[0;36mparam_fun\u001b[1;34m(i, s_data, batches, mean_only, gamma_hat, gamma_bar, delta_hat, t2, a_prior, b_prior)\u001b[0m\n\u001b[0;32m    252\u001b[0m     delta_star \u001b[38;5;241m=\u001b[39m [\u001b[38;5;241m1\u001b[39m]\u001b[38;5;241m*\u001b[39m\u001b[38;5;28mlen\u001b[39m(s_data)  \u001b[38;5;66;03m# multiplicative batch effect\u001b[39;00m\n\u001b[0;32m    253\u001b[0m \u001b[38;5;28;01melse\u001b[39;00m:  \u001b[38;5;66;03m# if not(mean_only) then use it_solve\u001b[39;00m\n\u001b[1;32m--> 254\u001b[0m     temp \u001b[38;5;241m=\u001b[39m \u001b[43mit_sol\u001b[49m\u001b[43m(\u001b[49m\u001b[43mnp\u001b[49m\u001b[38;5;241;43m.\u001b[39;49m\u001b[43mtranspose\u001b[49m\u001b[43m(\u001b[49m\u001b[43mnp\u001b[49m\u001b[38;5;241;43m.\u001b[39;49m\u001b[43mtranspose\u001b[49m\u001b[43m(\u001b[49m\u001b[43ms_data\u001b[49m\u001b[43m)\u001b[49m\u001b[43m[\u001b[49m\n\u001b[0;32m    255\u001b[0m \u001b[43m                  \u001b[49m\u001b[43mbatches\u001b[49m\u001b[43m[\u001b[49m\u001b[43mi\u001b[49m\u001b[43m]\u001b[49m\u001b[43m]\u001b[49m\u001b[43m)\u001b[49m\u001b[43m,\u001b[49m\u001b[43m \u001b[49m\u001b[43mg_hat\u001b[49m\u001b[43m,\u001b[49m\u001b[43m \u001b[49m\u001b[43mdelta_hat\u001b[49m\u001b[43m[\u001b[49m\u001b[43mi\u001b[49m\u001b[43m]\u001b[49m\u001b[43m,\u001b[49m\u001b[43m \u001b[49m\u001b[43mgamma_bar\u001b[49m\u001b[43m[\u001b[49m\u001b[43mi\u001b[49m\u001b[43m]\u001b[49m\u001b[43m,\u001b[49m\u001b[43m \u001b[49m\u001b[43mt2\u001b[49m\u001b[43m[\u001b[49m\u001b[43mi\u001b[49m\u001b[43m]\u001b[49m\u001b[43m,\u001b[49m\u001b[43m \u001b[49m\u001b[43ma_prior\u001b[49m\u001b[43m[\u001b[49m\u001b[43mi\u001b[49m\u001b[43m]\u001b[49m\u001b[43m,\u001b[49m\u001b[43m \u001b[49m\u001b[43mb_prior\u001b[49m\u001b[43m[\u001b[49m\u001b[43mi\u001b[49m\u001b[43m]\u001b[49m\u001b[43m)\u001b[49m\n\u001b[0;32m    256\u001b[0m     gamma_star \u001b[38;5;241m=\u001b[39m temp[\u001b[38;5;241m0\u001b[39m]  \u001b[38;5;66;03m# additive batch effect\u001b[39;00m\n\u001b[0;32m    257\u001b[0m     delta_star \u001b[38;5;241m=\u001b[39m temp[\u001b[38;5;241m1\u001b[39m]  \u001b[38;5;66;03m# multiplicative batch effect\u001b[39;00m\n",
      "File \u001b[1;32m~\\AppData\\Local\\Programs\\Python\\Python310\\lib\\site-packages\\combat\\pycombat.py:155\u001b[0m, in \u001b[0;36mit_sol\u001b[1;34m(sdat, g_hat, d_hat, g_bar, t2, a, b, conv, exit_iteration)\u001b[0m\n\u001b[0;32m    153\u001b[0m \u001b[38;5;28;01mwhile\u001b[39;00m (change \u001b[38;5;241m>\u001b[39m conv) \u001b[38;5;129;01mand\u001b[39;00m (count \u001b[38;5;241m<\u001b[39m exit_iteration):\n\u001b[0;32m    154\u001b[0m     g_new \u001b[38;5;241m=\u001b[39m postmean(g_bar, d_old, t2_n, t2_n_g_hat)  \u001b[38;5;66;03m# updated additive batch effect\u001b[39;00m\n\u001b[1;32m--> 155\u001b[0m     sum2 \u001b[38;5;241m=\u001b[39m np\u001b[38;5;241m.\u001b[39msum(np\u001b[38;5;241m.\u001b[39masarray(\u001b[43mnp\u001b[49m\u001b[38;5;241;43m.\u001b[39;49m\u001b[43msquare\u001b[49m\u001b[43m(\u001b[49m\n\u001b[0;32m    156\u001b[0m \u001b[43m        \u001b[49m\u001b[43msdat\u001b[49m\u001b[38;5;241;43m-\u001b[39;49m\u001b[43mnp\u001b[49m\u001b[38;5;241;43m.\u001b[39;49m\u001b[43mouter\u001b[49m\u001b[43m(\u001b[49m\u001b[43mg_new\u001b[49m\u001b[43m[\u001b[49m\u001b[38;5;241;43m0\u001b[39;49m\u001b[43m]\u001b[49m\u001b[43m[\u001b[49m\u001b[38;5;241;43m0\u001b[39;49m\u001b[43m]\u001b[49m\u001b[43m,\u001b[49m\u001b[43m \u001b[49m\u001b[43mnp\u001b[49m\u001b[38;5;241;43m.\u001b[39;49m\u001b[43mones\u001b[49m\u001b[43m(\u001b[49m\u001b[43mnp\u001b[49m\u001b[38;5;241;43m.\u001b[39;49m\u001b[43mma\u001b[49m\u001b[38;5;241;43m.\u001b[39;49m\u001b[43msize\u001b[49m\u001b[43m(\u001b[49m\u001b[43msdat\u001b[49m\u001b[43m,\u001b[49m\u001b[43m \u001b[49m\u001b[43maxis\u001b[49m\u001b[38;5;241;43m=\u001b[39;49m\u001b[38;5;241;43m1\u001b[39;49m\u001b[43m)\u001b[49m\u001b[43m)\u001b[49m\u001b[43m)\u001b[49m\u001b[43m)\u001b[49m), axis\u001b[38;5;241m=\u001b[39m\u001b[38;5;241m1\u001b[39m)\n\u001b[0;32m    157\u001b[0m     d_new \u001b[38;5;241m=\u001b[39m postvar(sum2, n, a, b)  \u001b[38;5;66;03m# updated multiplicative batch effect\u001b[39;00m\n\u001b[0;32m    158\u001b[0m     change \u001b[38;5;241m=\u001b[39m \u001b[38;5;28mmax\u001b[39m(np\u001b[38;5;241m.\u001b[39mamax(np\u001b[38;5;241m.\u001b[39mabsolute(g_new\u001b[38;5;241m-\u001b[39mnp\u001b[38;5;241m.\u001b[39masarray(g_old))\u001b[38;5;241m/\u001b[39mnp\u001b[38;5;241m.\u001b[39masarray(g_old)), np\u001b[38;5;241m.\u001b[39mamax(\n\u001b[0;32m    159\u001b[0m         np\u001b[38;5;241m.\u001b[39mabsolute(d_new\u001b[38;5;241m-\u001b[39md_old)\u001b[38;5;241m/\u001b[39md_old))  \u001b[38;5;66;03m# maximum difference between new and old estimate\u001b[39;00m\n",
      "\u001b[1;31mKeyboardInterrupt\u001b[0m: "
     ]
    }
   ],
   "source": [
    "from combat.pycombat import pycombat\n",
    "\n",
    "# Correct batch effects in the training dataset\n",
    "x_train2 = pycombat(x_train.T, y_train['Batch']).T\n",
    "\n",
    "print('Succesfully corrected batch effects in the training dataset.')\n"
   ]
  },
  {
   "attachments": {},
   "cell_type": "markdown",
   "metadata": {},
   "source": [
    "## Dimension Reduction with PaCMAP"
   ]
  },
  {
   "attachments": {},
   "cell_type": "markdown",
   "metadata": {},
   "source": [
    "- __PaCMAP__: Large-scale Dimension Reduction Technique Preserving Both Global and Local Structure\n",
    "\n",
    "- __Github__: [https://github.com/YingfanWang/PaCMAP](https://github.com/YingfanWang/PaCMAP)\n",
    "\n",
    "- __Paper__: [Journal of Machine Learning Research](https://jmlr.org/papers/v22/20-1061.html)"
   ]
  },
  {
   "cell_type": "code",
   "execution_count": 23,
   "metadata": {
    "tags": [
     "hide-input",
     "remove-output"
    ]
   },
   "outputs": [
    {
     "name": "stderr",
     "output_type": "stream",
     "text": [
      "c:\\Users\\flourenco\\Desktop\\Projects\\Methylation_Project_v2\\Code\\.venv_pacmap\\lib\\site-packages\\pacmap\\pacmap.py:819: UserWarning: Warning: random state is set to 42\n",
      "  warnings.warn(f'Warning: random state is set to {_RANDOM_STATE}')\n"
     ]
    }
   ],
   "source": [
    "import pacmap\n",
    "\n",
    "\n",
    "def run_pacmap(x_train, x_test, n_components=2):\n",
    "    \"\"\"\n",
    "    Run PaCMAP on the training dataset apply learned parameters to the train and test.\n",
    "\n",
    "    Parameters\n",
    "    ----------\n",
    "    x_train : pandas.DataFrame\n",
    "        Training dataset.\n",
    "    x_test : pandas.DataFrame\n",
    "        Test dataset.\n",
    "    n_components : int, optional\n",
    "        Number of components. The default is 2.\n",
    "\n",
    "    Returns\n",
    "    -------\n",
    "    embedding : numpy.ndarray\n",
    "        Embedding of the training dataset.\n",
    "    embedding_test : numpy.ndarray\n",
    "        Embedding of the test dataset.\n",
    "\n",
    "    \"\"\"\n",
    "\n",
    "    # Initialize PaCMAP. Note: hyperparameter tuning has been performed.\n",
    "    reducer = pacmap.PaCMAP(n_components=n_components, n_neighbors=15,\n",
    "                            MN_ratio=0.4, FP_ratio=16.0, random_state=42,\n",
    "                            lr=0.1, num_iters=5000)\n",
    "\n",
    "    # Fit (estimate) parameters to the training dataset to learn the embedding\n",
    "    embedding = reducer.fit_transform(x_train)\n",
    "\n",
    "    # Transform (apply) parameters to the test dataset\n",
    "    embedding_test = reducer.transform(x_test, basis=x_train.copy())\n",
    "\n",
    "    return embedding, embedding_test\n",
    "\n",
    "\n",
    "embedding, embedding_test = run_pacmap(x_train2, x_test, n_components=3)\n"
   ]
  },
  {
   "attachments": {},
   "cell_type": "markdown",
   "metadata": {},
   "source": [
    "```{note}\n",
    "\n",
    "You may have noticed that we called two methods in the PaCMAP class: ```fit``` and ```transform```.\n",
    "\n",
    "- ```fit``` means to learn the parameters of a model _from_ a dataset.\n",
    "\n",
    "- ```transform``` means to apply the learned parameters of a model _to_ a dataset.\n",
    "```"
   ]
  },
  {
   "attachments": {},
   "cell_type": "markdown",
   "metadata": {},
   "source": [
    "## Save Embedding"
   ]
  },
  {
   "cell_type": "code",
   "execution_count": 24,
   "metadata": {
    "tags": [
     "hide-input"
    ]
   },
   "outputs": [
    {
     "name": "stdout",
     "output_type": "stream",
     "text": [
      "Successfuly saved 1553 x_train samples and 209 x_test samples.\n",
      "Path: ../Data/Processed_Data/PaCMAP_Results/\n"
     ]
    }
   ],
   "source": [
    "# Transform df to pandas dataframe format\n",
    "embedding = pd.DataFrame(embedding, index=x_train2.index,\n",
    "                         columns=['PaCMAP 1', 'PaCMAP 2', 'PaCMAP 3'])\n",
    "embedding_test = pd.DataFrame(embedding_test, index=x_test.index,\n",
    "                              columns=['PaCMAP 1', 'PaCMAP 2', 'PaCMAP 3'])\n",
    "\n",
    "# Save embeddings\n",
    "embedding.to_pickle(output_path+'embedding.pkl')\n",
    "embedding_test.to_pickle(output_path+'embedding_test.pkl')\n",
    "\n",
    "print(\n",
    "    f'Successfuly saved {embedding.shape[0]} x_train samples and {embedding_test.shape[0]} x_test samples.\\nPath: {output_path}')\n"
   ]
  },
  {
   "cell_type": "markdown",
   "metadata": {},
   "source": [
    "## Watermark"
   ]
  },
  {
   "cell_type": "code",
   "execution_count": 19,
   "metadata": {
    "tags": [
     "remove-input",
     "remove-output"
    ]
   },
   "outputs": [],
   "source": [
    "%load_ext watermark"
   ]
  },
  {
   "cell_type": "code",
   "execution_count": 20,
   "metadata": {
    "tags": [
     "remove-input"
    ]
   },
   "outputs": [
    {
     "name": "stdout",
     "output_type": "stream",
     "text": [
      "Python implementation: CPython\n",
      "Python version       : 3.10.10\n",
      "IPython version      : 8.8.0\n",
      "\n",
      "numpy  : 1.23.5\n",
      "pandas : 1.5.2\n",
      "sklearn: 1.2.0\n",
      "combat : 0.3.3\n",
      "pacmap : 0.7.0\n",
      "\n"
     ]
    }
   ],
   "source": [
    "# produce a list of the loaded modules\n",
    "%watermark -v -p numpy,pandas,sklearn,combat,pacmap"
   ]
  }
 ],
 "metadata": {
  "kernelspec": {
   "display_name": ".venv_pacmap",
   "language": "python",
   "name": "python3"
  },
  "language_info": {
   "codemirror_mode": {
    "name": "ipython",
    "version": 3
   },
   "file_extension": ".py",
   "mimetype": "text/x-python",
   "name": "python",
   "nbconvert_exporter": "python",
   "pygments_lexer": "ipython3",
   "version": "3.10.10"
  },
  "vscode": {
   "interpreter": {
    "hash": "7a1d9c019193b28697b8b64517a1f3a4ad54dba083fd65d3a4f9842557772cb3"
   }
  }
 },
 "nbformat": 4,
 "nbformat_minor": 2
}