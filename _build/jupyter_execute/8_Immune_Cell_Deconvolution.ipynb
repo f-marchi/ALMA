{
 "cells": [
  {
   "attachments": {},
   "cell_type": "markdown",
   "metadata": {},
   "source": [
    "# Immune Cell Deconvolution"
   ]
  },
  {
   "cell_type": "markdown",
   "metadata": {},
   "source": [
    "## Where the data at?"
   ]
  },
  {
   "cell_type": "code",
   "execution_count": 3,
   "metadata": {},
   "outputs": [],
   "source": [
    "input_path = '../Data/Processed_Data/'\n",
    "output_path = '../Data/Processed_Data/Blood_Deconvolution_ARIC/'"
   ]
  },
  {
   "attachments": {},
   "cell_type": "markdown",
   "metadata": {},
   "source": [
    "## Load AML Dataset"
   ]
  },
  {
   "cell_type": "code",
   "execution_count": 4,
   "metadata": {},
   "outputs": [],
   "source": [
    "import pandas as pd\n",
    "\n",
    "x = pd.read_pickle(input_path+'x.pkl')\n",
    "y = pd.read_csv(input_path+'y.csv', index_col=0)"
   ]
  },
  {
   "attachments": {},
   "cell_type": "markdown",
   "metadata": {},
   "source": [
    "## Train-Test Split"
   ]
  },
  {
   "attachments": {},
   "cell_type": "markdown",
   "metadata": {},
   "source": [
    "To avoid data leakage and maximize the independence of the validation cohort (test dataset), we will split the data by clinical trial. The validation cohort will be St. Jude Children's led trials (AML02 and AML08), and the training cohort will be all other trials."
   ]
  },
  {
   "cell_type": "code",
   "execution_count": 5,
   "metadata": {
    "tags": [
     "hide-input"
    ]
   },
   "outputs": [
    {
     "data": {
      "text/plain": [
       "AAML1031    520\n",
       "AAML0531    508\n",
       "AML02       162\n",
       "AML05        64\n",
       "AML08        42\n",
       "AAML03P1     36\n",
       "CCG2961      14\n",
       "Name: Clinical Trial, dtype: int64"
      ]
     },
     "execution_count": 5,
     "metadata": {},
     "output_type": "execute_result"
    }
   ],
   "source": [
    "# Split data into training and test sets by clinical trial\n",
    "y_train = y[~y['Clinical Trial'].isin(['AML02','AML08'])]\n",
    "y_test = y[y['Clinical Trial'].isin(['AML02','AML08'])]\n",
    "\n",
    "# Select samples in x that are in y_train\n",
    "x_train = x.loc[y_train.index]\n",
    "x_test = x.loc[y_test.index]\n",
    "\n",
    "y['Clinical Trial'].value_counts(dropna=False)"
   ]
  },
  {
   "cell_type": "markdown",
   "metadata": {},
   "source": [
    "## Batch Correction with pyCombat"
   ]
  },
  {
   "attachments": {},
   "cell_type": "markdown",
   "metadata": {},
   "source": [
    "- __pyCombat__: a Python tool for batch effects correction in high-throughput molecular data using empirical Bayes methods\n",
    "\n",
    "- __Website__: [https://epigenelabs.github.io/pyComBat/](https://epigenelabs.github.io/pyComBat/)\n",
    "\n",
    "- __Paper__: [bioRxiv](https://doi.org/10.1101/2020.03.17.995431)"
   ]
  },
  {
   "cell_type": "code",
   "execution_count": 6,
   "metadata": {
    "tags": [
     "hide-input"
    ]
   },
   "outputs": [
    {
     "name": "stdout",
     "output_type": "stream",
     "text": [
      "Found 4 batches.\n",
      "Adjusting for 0 covariate(s) or covariate level(s).\n",
      "Standardizing Data across genes.\n",
      "Fitting L/S model and finding priors.\n",
      "Finding parametric adjustments.\n",
      "Adjusting the Data\n"
     ]
    }
   ],
   "source": [
    "from combat.pycombat import pycombat\n",
    "data_corrected = pycombat(x_train.T,y_train['Batch'])\n",
    "x_train2 = data_corrected.T"
   ]
  },
  {
   "attachments": {},
   "cell_type": "markdown",
   "metadata": {},
   "source": [
    "## Load Reference Dataset"
   ]
  },
  {
   "cell_type": "markdown",
   "metadata": {},
   "source": [
    "- __FlowSorted.Blood.EPIC__: An optimized library for reference-based deconvolution of whole-blood biospecimens, __n=49__\n",
    "\n",
    "- __GEO__: [GSE110554](https://www.ncbi.nlm.nih.gov/geo/query/acc.cgi?acc=GSE110554)\n",
    "\n",
    "- __PMID__: [29843789](https://www.ncbi.nlm.nih.gov/pubmed/29843789)\n",
    "\n",
    "- __Description__:  Bisulphite converted DNA from neutrophils (Neu, n=6), monocytes (Mono, n=6), B-lymphocytes (Bcells, n=6), CD4+ T-cells (CD4T, n=7, six samples and one technical replicate), CD8+ T-cells (CD8T, n=6), Natural Killer cells (NK, n=6), and 12 DNA artificial mixtures (labeled as MIX in the dataset) were hybridised to the Illumina Infinium HumanMethylationEPIC Beadchip v1.0_B4\n",
    "\n",
    "- __CSV file__: [Download](https://static-content.springer.com/esm/art%3A10.1186%2Fs13059-018-1448-7/MediaObjects/13059_2018_1448_MOESM4_ESM.csv)"
   ]
  },
  {
   "cell_type": "code",
   "execution_count": 7,
   "metadata": {
    "tags": [
     "hide-input"
    ]
   },
   "outputs": [],
   "source": [
    "ref = pd.read_csv('https://static-content.springer.com/esm/art%3A10.1186%2Fs13059-018-1448-7/MediaObjects/13059_2018_1448_MOESM4_ESM.csv',\n",
    "                  index_col=0, skiprows=1)[['CD8T','CD4T','NK','Bcell','Mono','Neu']]\n",
    "\n",
    "# File has also been downloaded locally under \".../Data/Blood_Reference_PMID29843789\" as backup in case Springer link is down\n",
    "\n",
    "mix = x_train.T\n",
    "merge = ref.join(mix, how='inner')\n",
    "\n",
    "# update ref and mix with merge index\n",
    "ref = ref.loc[merge.index]\n",
    "mix = mix.loc[merge.index]\n",
    "\n",
    "# save ref and mix to csv\n",
    "ref.to_csv(output_path+'ref.csv')\n",
    "mix.to_csv(output_path+'mix.csv')"
   ]
  },
  {
   "attachments": {},
   "cell_type": "markdown",
   "metadata": {},
   "source": [
    "## Immune Cell Deconvolution with ARIC"
   ]
  },
  {
   "attachments": {},
   "cell_type": "markdown",
   "metadata": {},
   "source": [
    "- __ARIC__: Accurate and robust inference of cell type proportions from bulk gene expression or DNA methylation data\n",
    "\n",
    "- __Website__: [xwanglabthu.github.io/ARIC/](xwanglabthu.github.io/ARIC/)\n",
    "\n",
    "- __PMID__: [34472588](https://pubmed.ncbi.nlm.nih.gov/34472588/)\n",
    "\n",
    "- __External Validation__: [A systematic assessment of cell type deconvolution algorithms for DNA methylation data](https://doi.org/10.1093/bib/bbac449)"
   ]
  },
  {
   "cell_type": "code",
   "execution_count": 8,
   "metadata": {
    "tags": [
     "hide-input"
    ]
   },
   "outputs": [
    {
     "name": "stdout",
     "output_type": "stream",
     "text": [
      "---------------------------------------------\n",
      "--------------WELCOME TO ARIC----------------\n",
      "---------------------------------------------\n",
      "Data reading finished!\n",
      "ARIC Engines Start, Please Wait......\n"
     ]
    },
    {
     "name": "stderr",
     "output_type": "stream",
     "text": [
      "100%|██████████| 1142/1142 [00:26<00:00, 43.70it/s]"
     ]
    },
    {
     "name": "stdout",
     "output_type": "stream",
     "text": [
      "Deconvo Results Saving!\n",
      "Finished!\n"
     ]
    },
    {
     "name": "stderr",
     "output_type": "stream",
     "text": [
      "\n"
     ]
    }
   ],
   "source": [
    "from ARIC import *\n",
    "\n",
    "ARIC(mix_path=output_path+'mix.csv', ref_path=output_path+'ref.csv',\n",
    "     is_methylation=True, unknown=False)"
   ]
  },
  {
   "cell_type": "code",
   "execution_count": 16,
   "metadata": {},
   "outputs": [
    {
     "data": {
      "text/html": [
       "<div>\n",
       "<style scoped>\n",
       "    .dataframe tbody tr th:only-of-type {\n",
       "        vertical-align: middle;\n",
       "    }\n",
       "\n",
       "    .dataframe tbody tr th {\n",
       "        vertical-align: top;\n",
       "    }\n",
       "\n",
       "    .dataframe thead th {\n",
       "        text-align: right;\n",
       "    }\n",
       "</style>\n",
       "<table border=\"1\" class=\"dataframe\">\n",
       "  <thead>\n",
       "    <tr style=\"text-align: right;\">\n",
       "      <th>cell types</th>\n",
       "      <th>CD8T</th>\n",
       "      <th>CD4T</th>\n",
       "      <th>NK</th>\n",
       "      <th>Bcell</th>\n",
       "      <th>Mono</th>\n",
       "      <th>Neu</th>\n",
       "    </tr>\n",
       "  </thead>\n",
       "  <tbody>\n",
       "    <tr>\n",
       "      <th>count</th>\n",
       "      <td>1142.00</td>\n",
       "      <td>1142.00</td>\n",
       "      <td>1142.00</td>\n",
       "      <td>1142.00</td>\n",
       "      <td>1142.00</td>\n",
       "      <td>1142.00</td>\n",
       "    </tr>\n",
       "    <tr>\n",
       "      <th>mean</th>\n",
       "      <td>0.08</td>\n",
       "      <td>0.15</td>\n",
       "      <td>0.09</td>\n",
       "      <td>0.13</td>\n",
       "      <td>0.33</td>\n",
       "      <td>0.22</td>\n",
       "    </tr>\n",
       "    <tr>\n",
       "      <th>std</th>\n",
       "      <td>0.06</td>\n",
       "      <td>0.05</td>\n",
       "      <td>0.05</td>\n",
       "      <td>0.07</td>\n",
       "      <td>0.08</td>\n",
       "      <td>0.08</td>\n",
       "    </tr>\n",
       "    <tr>\n",
       "      <th>min</th>\n",
       "      <td>0.00</td>\n",
       "      <td>0.03</td>\n",
       "      <td>0.00</td>\n",
       "      <td>0.00</td>\n",
       "      <td>0.03</td>\n",
       "      <td>0.00</td>\n",
       "    </tr>\n",
       "    <tr>\n",
       "      <th>25%</th>\n",
       "      <td>0.04</td>\n",
       "      <td>0.12</td>\n",
       "      <td>0.06</td>\n",
       "      <td>0.08</td>\n",
       "      <td>0.29</td>\n",
       "      <td>0.17</td>\n",
       "    </tr>\n",
       "    <tr>\n",
       "      <th>50%</th>\n",
       "      <td>0.07</td>\n",
       "      <td>0.15</td>\n",
       "      <td>0.08</td>\n",
       "      <td>0.11</td>\n",
       "      <td>0.33</td>\n",
       "      <td>0.23</td>\n",
       "    </tr>\n",
       "    <tr>\n",
       "      <th>75%</th>\n",
       "      <td>0.11</td>\n",
       "      <td>0.18</td>\n",
       "      <td>0.11</td>\n",
       "      <td>0.17</td>\n",
       "      <td>0.38</td>\n",
       "      <td>0.27</td>\n",
       "    </tr>\n",
       "    <tr>\n",
       "      <th>max</th>\n",
       "      <td>0.40</td>\n",
       "      <td>0.50</td>\n",
       "      <td>0.31</td>\n",
       "      <td>0.59</td>\n",
       "      <td>0.83</td>\n",
       "      <td>0.49</td>\n",
       "    </tr>\n",
       "  </tbody>\n",
       "</table>\n",
       "</div>"
      ],
      "text/plain": [
       "cell types     CD8T     CD4T       NK    Bcell     Mono      Neu\n",
       "count       1142.00  1142.00  1142.00  1142.00  1142.00  1142.00\n",
       "mean           0.08     0.15     0.09     0.13     0.33     0.22\n",
       "std            0.06     0.05     0.05     0.07     0.08     0.08\n",
       "min            0.00     0.03     0.00     0.00     0.03     0.00\n",
       "25%            0.04     0.12     0.06     0.08     0.29     0.17\n",
       "50%            0.07     0.15     0.08     0.11     0.33     0.23\n",
       "75%            0.11     0.18     0.11     0.17     0.38     0.27\n",
       "max            0.40     0.50     0.31     0.59     0.83     0.49"
      ]
     },
     "execution_count": 16,
     "metadata": {},
     "output_type": "execute_result"
    }
   ],
   "source": [
    "# Read deconvolution results\n",
    "\n",
    "deconv = pd.read_csv(output_path+'mix_prop.csv', index_col=0)\n",
    "\n",
    "# Get basic statistics of deconvolution results\n",
    "round(deconv.T.describe(),2)"
   ]
  }
 ],
 "metadata": {
  "kernelspec": {
   "display_name": ".venv_sklearn",
   "language": "python",
   "name": "python3"
  },
  "language_info": {
   "codemirror_mode": {
    "name": "ipython",
    "version": 3
   },
   "file_extension": ".py",
   "mimetype": "text/x-python",
   "name": "python",
   "nbconvert_exporter": "python",
   "pygments_lexer": "ipython3",
   "version": "3.10.9"
  },
  "vscode": {
   "interpreter": {
    "hash": "bea0b97f2aeab51a41f683aa60895cc0e821b0a2b6d8fed7be73bd28506d07e0"
   }
  }
 },
 "nbformat": 4,
 "nbformat_minor": 2
}