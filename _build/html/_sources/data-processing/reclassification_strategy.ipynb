{
 "cells": [
  {
   "attachments": {},
   "cell_type": "markdown",
   "metadata": {},
   "source": [
    "# Reclassification to Current Clinical Guidelines\n",
    "\n",
    "```{contents}\n",
    "```"
   ]
  },
  {
   "cell_type": "markdown",
   "metadata": {},
   "source": [
    "Current thinking:\n",
    "\n",
    "14 WHO subtypes of AML\n",
    "+1 otherwise-normal control\n",
    "\n",
    "May need to see how to think of mds-like and secondary neoplasms\n"
   ]
  },
  {
   "attachments": {},
   "cell_type": "markdown",
   "metadata": {},
   "source": [
    "## Guidelines"
   ]
  },
  {
   "cell_type": "markdown",
   "metadata": {},
   "source": [
    "### WHO 2022 AML"
   ]
  },
  {
   "cell_type": "code",
   "execution_count": 1,
   "metadata": {
    "tags": [
     "hide-input"
    ]
   },
   "outputs": [
    {
     "data": {
      "text/html": [
       "<style>.itables table td {\n",
       "    text-overflow: ellipsis;\n",
       "    overflow: hidden;\n",
       "}\n",
       "\n",
       ".itables table th {\n",
       "    text-overflow: ellipsis;\n",
       "    overflow: hidden;\n",
       "}\n",
       "\n",
       ".itables thead input {\n",
       "    width: 100%;\n",
       "    padding: 3px;\n",
       "    box-sizing: border-box;\n",
       "}\n",
       "\n",
       ".itables tfoot input {\n",
       "    width: 100%;\n",
       "    padding: 3px;\n",
       "    box-sizing: border-box;\n",
       "}\n",
       "</style>\n",
       "<div class=\"itables\">\n",
       "<table id=\"69eac910-2a69-459c-ad14-b53e3e15d3d9\" class=\"display nowrap\"style=\"table-layout:auto;width:auto;margin:auto;caption-side:bottom\"><thead>\n",
       "    <tr style=\"text-align: right;\">\n",
       "      \n",
       "      <th>Subtype</th>\n",
       "      <th>Frequency in paediatric AML</th>\n",
       "      <th>Morphology</th>\n",
       "      <th>Immunophenotype</th>\n",
       "      <th>Common co-occurring genetic aberrations</th>\n",
       "      <th>Prognosis</th>\n",
       "    </tr>\n",
       "  </thead><tbody><tr><td>Loading... (need <a href=https://mwouts.github.io/itables/troubleshooting.html>help</a>?)</td></tr></tbody></table>\n",
       "<link rel=\"stylesheet\" type=\"text/css\" href=\"https://cdn.datatables.net/1.13.1/css/jquery.dataTables.min.css\">\n",
       "<script type=\"module\">\n",
       "    // Import jquery and DataTable\n",
       "    import 'https://code.jquery.com/jquery-3.6.0.min.js';\n",
       "    import dt from 'https://cdn.datatables.net/1.12.1/js/jquery.dataTables.mjs';\n",
       "    dt($);\n",
       "\n",
       "    // Define the table data\n",
       "    const data = [[\"AML with RUNX1::RUNXT1 fusion\", \"13\\u201319% of cases\", \"Neutrophilic maturation, Auer rods; often increased basophils and/or mast cells\", \"Positive: CD34, HLA-DR, KIT (CD117), CD99, myeloperoxidase\\\\nUsually positive but can be heterogeneous: CD13, CD33 and CD38, CD19, PAX5, cytoplasmic CD79a, CD56\\\\nNegative: CD7\", \"Mutations in KIT, FLT3, CSF3R, EZH2, ASXL1, ASXL2, CBL, WT1, cohesion genes (SMC1A, SMC3, RAD21), NRAS, KRAS\", \"Good\"], [\"AML with CBFB::MYH11 fusion\", \"7\\u201312% of cases\", \"Myelomonocytic; often increased eosinophils at all maturation stages\", \"Often multiple blast populations with signs of differentiation towards both granulocytic and monocytic lineages; may express CD2 and/or NG2 in a small subpopulation of cells\", \"Mutations in KIT, KRAS, NRAS, CBL, FLT3, WT1\", \"Good\"], [\"APL with PML::RARA fusion\", \"5\\u201310% of cases but wide geographical variation (2\\u201350%)\", \"Exclusively FAB M3; may be hypogranular\", \"Positive: CD33, often KIT (CD117), sometimes CD2\\\\nNegative: CD34 (except hypogranular variant), HLA-DR\\\\nOften high autofluorescence\", \"Mutations in FLT3\", \"Good (but treated differently)\"], [\"AML with KMT2A rearrangement\", \"20% of cases\", \"All FAB types except M3 and M6, most commonly M5\", \"Positive: CD33, CD65, CD4, HLA-DR (in monocytic cases), CD15, NG2; platelet antigens (in megakaryocytic cases)\\\\nNegative/low: CD13, CD34, CD14\", \"Mutations in the tyrosine kinase, PI3K, and RAS pathways; FLT3-TKD, NRAS, KRAS\", \"Depends on fusion partner\"], [\"AML with DEK::NUP214 fusion\", \"1\\u20132% of cases\", \"All FAB types except M3 and M7, most commonly M2 and M4; Auer rods; basophilia in blood or bone marrow; erythroid and granulocytic dysplasia are common\", \"Positive: myeloperoxidase, CD13, CD33, CD38, CD123, HLA-DR; often CD34, KIT (CD117), CD15; sometimes CD64, TdT\", \"FLT3 ITD in two thirds of cases; complex karyotype\", \"Poor\"], [\"AML with MECOM rearrangement\", \"< 1% of cases\", \"Commonly FAB M1, M4, and M7; multilineage dysplasia is common, especially in megakaryopoiesis\", \"Positive: CD34, CD33, CD13, KIT (CD117), HLA-DR, CD7\\\\nNegative: lymphoid markers other than CD7\", \"NaN\", \"Poor\"], [\"AML with ETV6 fusion\", \"1% of all cases\", \"All FAB types, most commonly M0 and M1\", \"For MNX1::ETV6:\\\\nPositive: CD34, HLA-DR, often KIT (CD117), T-cell markers CD7 and CD4\", \"Almost always +19, sometimes +8\", \"Poor, but may be protocol dependent\"], [\"AML with KAT6A::CREBBP fusion\", \"0.5% of cases\", \"FAB M5\", \"Positive: HLA-DR, CD15, myeloperoxidase, CD13, CD33, sometimes CD56, CD14\\\\nNegative: CD34, KIT (CD117)\", \"NaN\", \"OS similar to paediatric AML in general\"], [\"AML with RBM15::MRTFA fusion\", \"0.8% of all cases\", \"Exclusively FAB M7\", \"Positive: > 1 platelet antigen, some CD34 and/or HLA-DR\\\\nNegative: CD45\", \"del(1p), +4, +7, +8, +9, +10, +14, +15, +17, +18, +20, +21(21p), complex hyperdiploid karyotype\", \"Lower CR rate but similar EFS/OS vs other AMKLs\"], [\"AML with CBFA2T3::GLIS2 fusion\", \"3% of all cases\", \"All FAB types, most commonly M7\", \"> 50% show the RAM phenotype; overexpression of CD56 and underexpression of HLA-DR and CD38\", \"Mutations in FLT3, GATA1, JAK/STAT pathway\", \"Poor\"], [\"AML with NUP98 rearrangement\", \"5\\u20139% of cases\", \"NUP98::NSD1: often FAB M4 and M5\\\\nNUP98::KDM5A: mostly FAB M7 but also M5 and M6\", \"NaN\", \"For NUP98::NSD1: FLT3 ITD in > 80%, mutation in WT1 in 50%\", \"Poor\"], [\"AML with FUS::ERG fusion\", \"0.3\\u20130.5% of cases\", \"All FAB types except M6; Auer rods\", \"NaN\", \"+8, +10, complex karyotype\", \"Poor\"], [\"AML with NPM1 mutation\", \"6\\u20138% of cases\", \"FAB M1, M2, M4, and M5\", \"Positive: CD33, sometimes KIT (CD117), often CD36, CD64\\\\nNegative: CD34, sometimes HLA-DR\\\\nOften weak CD13\", \"FLT3 ITD, mutations in NRAS, WT1\", \"Good, also when FLT3 ITD is present\"], [\"AML with CEBPA mutation\", \"5\\u20136% of cases\", \"Most commonly FAB M1 and M2\", \"Positive: CD34, HLA-DR, often CD7\\\\nNegative: other lymphoid antigens\", \"Mutations in CEBPA-TAD, CSF3R, GATA2, RAS genes, FLT3\", \"Good, except for CSF3R-mutated cases\"]];\n",
       "\n",
       "    // Define the dt_args\n",
       "    let dt_args = {\"order\": []};\n",
       "    dt_args[\"data\"] = data;\n",
       "\n",
       "    $(document).ready(function () {\n",
       "        \n",
       "        $('#69eac910-2a69-459c-ad14-b53e3e15d3d9').DataTable(dt_args);\n",
       "    });\n",
       "</script>\n",
       "</div>\n"
      ],
      "text/plain": [
       "<IPython.core.display.HTML object>"
      ]
     },
     "metadata": {},
     "output_type": "display_data"
    }
   ],
   "source": [
    "import pandas as pd\n",
    "import itables\n",
    "\n",
    "from itables import show\n",
    "\n",
    "# Read the CSV file\n",
    "df = pd.read_csv('../data/who2022_aml_classification.csv')\n",
    "\n",
    "# Display the dataframe using itables\n",
    "itables.show(df)\n"
   ]
  },
  {
   "cell_type": "markdown",
   "metadata": {},
   "source": [
    "`````{admonition} Source\n",
    ":class: tip\n",
    "Hasle H, Meshinchi S, Fogelstrand L, Alaggio R, et al. Acute myeloid leukaemias (AMLs) with defining genetic abnormalities. In: WHO Classification of Tumours Editorial Board. Paediatric tumours [Internet]. Lyon (France): International Agency for Research on Cancer; 2022 [cited 2024 Jan 1]. (WHO classification of tumours series, 5th ed.; vol. 7). Available from: https://tumourclassification.iarc.who.int/chapters/44.\n",
    "`````"
   ]
  },
  {
   "cell_type": "markdown",
   "metadata": {},
   "source": [
    "## Load and process discovery clinical data"
   ]
  },
  {
   "cell_type": "code",
   "execution_count": 2,
   "metadata": {
    "tags": [
     "hide-input"
    ]
   },
   "outputs": [
    {
     "name": "stdout",
     "output_type": "stream",
     "text": [
      "The clinical data has been indexed and cleaned.\n",
      "Exclusion of samples may be applied depending on the analysis.\n"
     ]
    }
   ],
   "source": [
    "# Import functions to clean up clinical data\n",
    "import sys\n",
    "sys.path.append('../')\n",
    "from source.clinical_data_cleanup_functions import *\n",
    "\n",
    "# Call functions to merge, index and clean clinical data files\n",
    "labels_0531         = clean_cog       (merge_index_0531())\n",
    "labels_1031         = clean_cog       (merge_index_1031())\n",
    "labels_aml05        = clean_aml05     (merge_index_aml05())\n",
    "labels_beataml      = clean_beataml   (merge_index_beataml())\n",
    "labels_amltcga      = clean_amltcga   (merge_index_amltcga())\n",
    "labels_nordic_all   = clean_nordic_all(merge_index_nordic_all())\n",
    "labels_mds_taml     = clean_mds_taml  (merge_index_mds_taml())\n",
    "labels_all_graal    = clean_all_graal (merge_index_all_graal())\n",
    "labels_target_all   = clean_target_all(merge_index_target_all())\n",
    "\n",
    "# Combine all clinical data labels into one dataframe\n",
    "labels_combined = pd.concat([labels_aml05, labels_beataml,\n",
    "                        labels_0531, labels_amltcga, labels_1031,\n",
    "                        labels_nordic_all, labels_mds_taml,\n",
    "                        labels_all_graal,labels_target_all],\n",
    "                        axis=0, join='outer')\n",
    "\n",
    "\n",
    "# Redefine output path (for troubleshooting purposes in case only this cell is run)\n",
    "# mount = '../../../'\n",
    "mount = '/mnt/d/'\n",
    "output_path = mount + 'MethylScore/Intermediate_Files/'\n",
    "\n",
    "# Read df\n",
    "df = pd.read_pickle(output_path + '3308samples_333059cpgs_withbatchcorrection_bvalues.pkl')\n",
    "\n",
    "# Remove samples that are not in the methyl dataset\n",
    "df_labels = labels_combined.loc[labels_combined.index.isin(df.index)].sort_index()\n",
    "\n",
    "print('The clinical data has been indexed and cleaned.\\n\\\n",
    "Exclusion of samples may be applied depending on the analysis.')"
   ]
  },
  {
   "cell_type": "markdown",
   "metadata": {},
   "source": [
    "## Reclassification strategy for WHO 2022"
   ]
  },
  {
   "cell_type": "markdown",
   "metadata": {},
   "source": [
    "### Functions"
   ]
  },
  {
   "cell_type": "code",
   "execution_count": 3,
   "metadata": {
    "tags": [
     "hide-input"
    ]
   },
   "outputs": [],
   "source": [
    "def classify_controls(normal_samples):\n",
    "    mapping = {\n",
    "        'Bone Marrow Normal'  : 'Otherwise-Normal Control',\n",
    "        'Blood Derived Normal': 'Otherwise-Normal Control'}\n",
    "    \n",
    "    for key, value in mapping.items():\n",
    "        if key in normal_samples:\n",
    "            return value\n",
    "\n",
    "def classify_fusion(gene_fusion):\n",
    "    mapping = {\n",
    "    'RUNX1-RUNX1T1': 'AML with t(8;21); RUNX1::RUNX1T1',\n",
    "    'CBFB-MYH11':    'AML with inv(16); t(16;16); CBFB::MYH11',\n",
    "    'KMT2A':         'AML with t(v;11q23); KMT2A-r',\n",
    "    'MLL':           'AML with t(v;11q23); KMT2A-r',\n",
    "    'PML-RARA':      'APL with t(15;17); PML::RARA',\n",
    "    'DEK-NUP214':    'AML with t(6;9); DEK::NUP214',\n",
    "    'MECOM':         'AML with inv(3); t(3;3); MECOM-r',\n",
    "    'ETV6':          'AML with ETV6 fusion',\n",
    "    'NPM1':          'AML with mutated NPM1',\n",
    "    'RBM15-MKL1':    'AML with t(1;22); RBM15::MKL1',\n",
    "    'NUP98':         'AML with NUP98-fusion',\n",
    "    'KAT6A-CREBBP':  'AML with t(8;16); KAT6A::CREBBP',\n",
    "    'FUS-ERG':       'AML with t(16;21); FUS::ERG',\n",
    "    'CBFA2T3-GLIS2': 'AML with CBFA2T3::GLIS2',\n",
    "    'BCR-ABL1':       'AML with t(9;22); BCR::ABL1',\n",
    "\n",
    "    # Other uncharacterized abdnormalities present in the dataset but not specifically in guidelines\n",
    "\n",
    "    # 'RUNX1-CBFA2T3': 'AML NOS',\n",
    "    # 'PRDM16-RPN1':   'AML NOS',\n",
    "    # 'RBM15-MRTFA':   'AML with t(1;22); RBM15::MKL1',\n",
    "    # 'CBFA2T3-GLIS3': 'AML with CBFA2T3::GLIS2',\n",
    "    # 'PSIP1-NUP214':  'AML with t(6;9); DEK::NUP214',\n",
    "    # 'XPO1-TNRC18':   'AML NOS', \n",
    "    # 'HNRNPH1-ERG':   'AML with t(16;21); FUS::ERG',\n",
    "    # 'NIPBL-HOXB9':   'AML NOS', \n",
    "    # 'SET-NUP214':    'AML with t(6;9); DEK::NUP214', \n",
    "    # 'FLI1-IFIT2':    'AML NOS', \n",
    "    # 'TCF4-ZEB2':     'AML NOS',\n",
    "    # 'MBTD1-ZMYND11': 'AML NOS', \n",
    "    # 'FOSB-KLF6':     'AML NOS', \n",
    "    # 'SFPQ-ZFP36L2':  'AML NOS', \n",
    "    # 'RUNX1-LINC00478':'AML NOS',\n",
    "    # 'RUNX1-EVX1':     'AML NOS',  \n",
    "    # 'PSPC1-ZFP36L1':  'AML NOS', \n",
    "    # 'EWSR1-FEV':      'AML NOS',\n",
    "    # 'STAG2-AFF2':     'AML NOS', \n",
    "    # 'MYB-GATA1':      'AML NOS', \n",
    "    # 'RUNX1-ZFPM2':    'AML NOS', \n",
    "    # 'RUNX1-CBFA2T2':  'AML NOS',\n",
    "    # 'PIM3-BRD1':      'AML NOS',\n",
    "    'KAT6A-EP300':    'AML with t(8;16); KAT6A::CREBBP',\n",
    "    # 'DOT1L-RPS15':    'AML NOS',\n",
    "    # 'FUS-FEV':        'AML with t(16;21); FUS::ERG',\n",
    "    'KAT6A-NCOA2':    'AML with t(8;16); KAT6A::CREBBP',\n",
    "    # 'JARID2-PTP4A1':  'AML NOS',\n",
    "    # 'FUS-FLI1':       'AML with t(16;21); FUS::ERG',\n",
    "    }    \n",
    "    \n",
    "    for key, value in mapping.items():\n",
    "        if key in gene_fusion:\n",
    "            return value\n",
    "\n",
    "def classify_cebpa(cebpa_mutation):\n",
    "    mapping = {\n",
    "        'Yes': 'AML with mutated CEBPA',\n",
    "        'Positive': 'AML with mutated CEBPA'}\n",
    "    \n",
    "    for key, value in mapping.items():\n",
    "        if key in cebpa_mutation:\n",
    "            return value\n",
    "\n",
    "def classify_npm(npm_mutation):\n",
    "    mapping = {\n",
    "        'Yes': 'AML with mutated NPM1',\n",
    "        'Positive': 'AML with mutated NPM1'\n",
    "    }\n",
    "\n",
    "    for key, value in mapping.items():\n",
    "        if key in npm_mutation:\n",
    "            return value\n",
    "\n",
    "def classify_karyotype(structural_variation):\n",
    "    mapping = {\n",
    "        # 't(8;16)': 'AML with t(8;16); KAT6A::CREBBP',\n",
    "        # 't(16;21)': 'AML with t(16;21); FUS::ERG',\n",
    "        # 't(6;9)': 'AML with t(6;9); DEK::NUP214',\n",
    "        # 't(1;22)': 'AML with t(1;22); RBM15::MKL1',\n",
    "        # 'inv(3)': 'AML with inv(3); t(3;3); MECOM-r',\n",
    "        # 't(3;3)': 'AML with inv(3); t(3;3); MECOM-r',\n",
    "        # 't(6;11)': 'AML with t(v;11q23); KMT2A-r',\n",
    "        # 't(1;11)': 'AML with t(v;11q23); KMT2A-r',\n",
    "        # 't(4;11)': 'AML with t(v;11q23); KMT2A-r',\n",
    "        # 'ins(6;11)': 'AML with t(v;11q23); KMT2A-r',\n",
    "\n",
    "        }\n",
    "    \n",
    "    for key, value in mapping.items():\n",
    "        if key in structural_variation:\n",
    "            return value\n",
    "            \n",
    "def classify_annotated_diagnosis(diagnosis):\n",
    "    mapping = {\n",
    "        'mutated NPM1'                                                  : 'AML with mutated NPM1',\n",
    "        'mutated CEBPA'                                                 : 'AML with mutated CEBPA',\n",
    "        'myelodysplasia-related changes'                                : 'MDS-related; secondary myeloid',\n",
    "        \"AML with mutated NPM1\"                                         : \"AML with mutated NPM1\",\n",
    "        \"AML with myelodysplasia-related changes\"                       : \"MDS-related; secondary myeloid\",\n",
    "        \"AML with inv(16)(p13.1q22) or t(16;16)(p13.1;q22); CBFB-MYH11\" : \"AML with inv(16); t(16;16); CBFB::MYH11\",\n",
    "        \"AML with mutated CEBPA\"                                        : \"AML with mutated CEBPA\",\n",
    "        \"Therapy-related myeloid neoplasms\"                             : \"MDS-related; secondary myeloid\",\n",
    "        \"PML-RARA\"                                                      : \"APL with t(15;17); PML::RARA\",\n",
    "        \"AML with t(9;11)(p22;q23); MLLT3-MLL\"                          : \"AML with t(v;11q23); KMT2A-r\",\n",
    "        \"AML with t(8;21)(q22;q22.1); RUNX1-RUNX1T1\"                    : \"AML with t(8;21); RUNX1::RUNX1T1\",\n",
    "        \"AML with inv(3)(q21q26.2) or t(3;3)(q21;q26.2); RPN1-EVI1\"     : \"AML with inv(3); t(3;3); MECOM-r\",\n",
    "        \"Mixed phenotype acute leukaemia, T/myeloid\"                    : \"MPAL T-Lymphoblastic/Myeloid\",\n",
    "        \"Myeloid leukaemia associated with Down syndrome\"               : \"AML with Down syndrome\",\n",
    "        'AML with CBFB-MYH11'                                           : 'AML with inv(16); t(16;16); CBFB::MYH11',\n",
    "        'AML with RUNX1-RUNX1T1'                                        : 'AML with t(8;21); RUNX1::RUNX1T1',\n",
    "        'AML with BCR-ABL1'                                             : 'AML with t(9;22); BCR::ABL1',\n",
    "        'AML inv(16)'                                                   : 'AML with inv(16); t(16;16); CBFB::MYH11',\n",
    "        'AML t(9;11)'                                                   : 'AML with t(v;11q23); KMT2A-r',\n",
    "        'AML t(8;21)'                                                   : 'AML with t(8;21); RUNX1::RUNX1T1', \n",
    "        'MDS-related or secondary myeloid neoplasms'                    : 'MDS-related; secondary myeloid',\n",
    "        \n",
    "        # ALL\n",
    "        'T-ALL'                                                         :'T-ALL NOS',\n",
    "        'BCP-ALL HeH'                                                   :'B-ALL with hyperdiploidy',\n",
    "        'BCP-ALL t(12;21)'                                              :'B-ALL with t(12;21); ETV6::RUNX1',         \n",
    "        'BCP-ALL 11q23/MLL'                                             :'B-ALL with t(v;11q23); KMT2A-r',       \n",
    "        'BCP-ALL t(1;19)'                                               :'B-ALL with t(1;19); TCF3::PBX1',       \n",
    "        'BCP-ALL dic(9;20)'                                             :'B-ALL dic(9;20)',       \n",
    "        'BCP-ALL t(9;22)'                                               :'B-ALL with t(9;22); BCR::ABL1',       \n",
    "        'BCP-ALL iAMP21'                                                :'B-ALL with iAMP21',        \n",
    "        'BCP-ALL <45chr'                                                :'B-ALL with hypodiploidy',        \n",
    "        'BCP-ALL >67chr'                                                :'B-ALL with hyperdiploidy',\n",
    "\n",
    "        # MPAL\n",
    "        'MPAL with MLL'                                                 :'MPAL with t(v;11q23.3)/KMT2A-r',\n",
    "        'MPAL with T/M'                                                 :'MPAL T-Lymphoblastic/Myeloid',\n",
    "        'MPAL with B/M'                                                 :'MPAL B-Lymphoblastic/Myeloid',\n",
    "\n",
    "        \n",
    "        }\n",
    "    \n",
    "    for key, value in mapping.items():\n",
    "        if key in diagnosis:\n",
    "            return value\n",
    "\n",
    "def process_labels_who22(df):\n",
    "    # Merge processing functions with source columns into a single dictionary\n",
    "    column_mappings = {\n",
    "        'Annotated Controls'            : ('Sample Type', classify_controls),\n",
    "        'Annotated Gene Fusion'         : ('Gene Fusion', classify_fusion),\n",
    "        'Annotated CEBPA'               : ('CEBPA mutation', classify_cebpa),\n",
    "        'Annotated NPM1'                : ('NPM mutation', classify_npm),\n",
    "        'Annotated Karyotype'           : ('Karyotype', classify_karyotype),\n",
    "        'Annotated Dx at Acquisition'   : ('Dx at Acquisition', classify_annotated_diagnosis),\n",
    "    }\n",
    "\n",
    "    # Looping through the mapping to process and create new columns\n",
    "    for new_col, (old_col, processing_func) in column_mappings.items():\n",
    "        # Apply the corresponding classification function to each column\n",
    "        df[new_col] = df[old_col].astype(str).apply(processing_func)\n",
    "\n",
    "    # Combining processed columns into a single column, separating values with commas\n",
    "    df['WHO 2022 Combined Diagnoses'] = df[list(column_mappings.keys())]\\\n",
    "        .apply(lambda x: ','.join(x.dropna()), axis=1).replace('', np.nan)\n",
    "\n",
    "    # Extracting the first diagnosis from the combined diagnoses as the final diagnosis\n",
    "    df['WHO 2022 Diagnosis'] = df['WHO 2022 Combined Diagnoses'].str.split(',').str[0]\n",
    "\n",
    "    # Dropping intermediate columns used for processing\n",
    "    df = df.drop(list(column_mappings.keys()), axis=1)\n",
    "\n",
    "    return df\n"
   ]
  },
  {
   "cell_type": "markdown",
   "metadata": {},
   "source": [
    "### Execution"
   ]
  },
  {
   "cell_type": "code",
   "execution_count": 4,
   "metadata": {
    "tags": [
     "hide-input"
    ]
   },
   "outputs": [
    {
     "data": {
      "text/plain": [
       "WHO 2022 Diagnosis\n",
       "NaN                                        866\n",
       "AML with t(v;11q23); KMT2A-r               317\n",
       "Otherwise-Normal Control                   251\n",
       "T-ALL NOS                                  242\n",
       "AML with mutated NPM1                      226\n",
       "MDS-related; secondary myeloid             225\n",
       "B-ALL with hyperdiploidy                   190\n",
       "AML with inv(16); t(16;16); CBFB::MYH11    178\n",
       "AML with t(8;21); RUNX1::RUNX1T1           176\n",
       "B-ALL with t(12;21); ETV6::RUNX1           163\n",
       "AML with NUP98-fusion                       95\n",
       "AML with mutated CEBPA                      83\n",
       "APL with t(15;17); PML::RARA                31\n",
       "AML with CBFA2T3::GLIS2                     30\n",
       "B-ALL with t(v;11q23); KMT2A-r              28\n",
       "AML with t(6;9); DEK::NUP214                26\n",
       "MPAL T-Lymphoblastic/Myeloid                25\n",
       "B-ALL with t(1;19); TCF3::PBX1              23\n",
       "B-ALL dic(9;20)                             20\n",
       "MPAL B-Lymphoblastic/Myeloid                19\n",
       "B-ALL with t(9;22); BCR::ABL1               19\n",
       "AML with ETV6 fusion                        16\n",
       "AML with inv(3); t(3;3); MECOM-r            12\n",
       "AML with t(8;16); KAT6A::CREBBP             10\n",
       "B-ALL with iAMP21                           10\n",
       "AML with t(1;22); RBM15::MKL1                9\n",
       "MPAL with t(v;11q23.3)/KMT2A-r               6\n",
       "B-ALL with hypodiploidy                      5\n",
       "AML with t(16;21); FUS::ERG                  4\n",
       "AML with t(9;22); BCR::ABL1                  3\n",
       "Name: count, dtype: int64"
      ]
     },
     "execution_count": 4,
     "metadata": {},
     "output_type": "execute_result"
    }
   ],
   "source": [
    "# Add age categorization and main disease classification to the clinical data\n",
    "df_labels2 = process_labels_who22(df_labels)\n",
    "df_labels2['WHO 2022 Diagnosis'].value_counts(dropna=False)"
   ]
  },
  {
   "cell_type": "markdown",
   "metadata": {},
   "source": [
    "## Categorize ELN 2022, hematopoietic entity, age, and trisomy 8"
   ]
  },
  {
   "cell_type": "markdown",
   "metadata": {},
   "source": [
    "### Functions"
   ]
  },
  {
   "cell_type": "code",
   "execution_count": 5,
   "metadata": {
    "tags": [
     "hide-input"
    ]
   },
   "outputs": [],
   "source": [
    "def process_df_labels(df):\n",
    "    \"\"\"\n",
    "    Function to process a pandas dataframe, performing age categorization \n",
    "    and main disease classification.\n",
    "\n",
    "    \"\"\"\n",
    "    def categorize_age(age):\n",
    "        \"\"\"\n",
    "        Function to categorize age into a specific range.\n",
    "        \"\"\"\n",
    "        if pd.isnull(age):\n",
    "            return np.nan\n",
    "        elif age < 5:\n",
    "            return '0-5'\n",
    "        elif age < 13:\n",
    "            return '5-13'\n",
    "        elif age < 39:\n",
    "            return '13-39'\n",
    "        elif age < 60:\n",
    "            return '39-60'\n",
    "        else:\n",
    "            return '60+'\n",
    "\n",
    "    # Convert 'Age (years)' to numeric, errors='coerce' will turn non-numeric data to NaN\n",
    "    df['Age (years)'] = pd.to_numeric(df['Age (years)'], errors='coerce')\n",
    "\n",
    "    # Then apply your function\n",
    "    df['Age (group years)'] = df['Age (years)'].apply(categorize_age)\n",
    "    \n",
    "    def categorize_subtypes(subtype):\n",
    "        \"\"\"\n",
    "        Function to classify the main disease based on a given subtype.\n",
    "        \"\"\"\n",
    "        mapping = {\n",
    "            'AML'                           :'Acute myeloid leukemia (AML)',\n",
    "            'ALL'                           :'Acute lymphoblastic leukemia (ALL)',\n",
    "            'MDS'                           :'Myelodysplastic syndrome (MDS or MDS-like)',\n",
    "            'MPAL'                          :'Mixed phenotype acute leukemia (MPAL)',\n",
    "            'APL'                           :'Acute promyelocytic leukemia (APL)',\n",
    "            'Otherwise-Normal Control'      :'Otherwise-Normal (Control)',\n",
    "        }\n",
    "\n",
    "        for key, value in mapping.items():\n",
    "            if key in subtype:\n",
    "                return value\n",
    "    \n",
    "    df['Hematopoietic Entity'] = df['WHO 2022 Diagnosis'].astype(str).apply(categorize_subtypes)\n",
    "\n",
    "    def categorize_trisomy8(karyotype):\n",
    "        \"\"\"\n",
    "        Function to classify trisomy 8 by karyotype as a separate column.\n",
    "        \"\"\"\n",
    "        mapping = {\n",
    "            '+8': 'Positive',\n",
    "            'trisomy 8': 'Positive',\n",
    "        }\n",
    "\n",
    "        for key, value in mapping.items():\n",
    "            if key in karyotype:\n",
    "                return value\n",
    "    \n",
    "    df['Trisomy 8 Status'] = df['Karyotype'].astype(str).apply(categorize_trisomy8).fillna('Negative or Unknown')\n",
    "\n",
    "    def categorize_ELN2022(subtype):\n",
    "        \"\"\"\n",
    "        Function to reclassify samples according to ELN AML 2022.\n",
    "        \"\"\"\n",
    "        mapping = {\n",
    "            'AML with t(v;11q23); KMT2A-r'                  :'AML with t(v;11q23); KMT2A-r',\n",
    "            'Otherwise-Normal Control'                      :'Otherwise-Normal Control',\n",
    "            'AML with mutated CEBPA'                        :'AML with mutated CEBPA',\n",
    "            'MDS-related; secondary myeloid'                :'MDS-related; secondary myeloid',\n",
    "            'AML with inv(3); t(3;3); MECOM-r'              :'AML with inv(3); t(3;3); MECOM-r',\n",
    "            'AML with mutated NPM1'                         :'AML with mutated NPM1',\n",
    "            'AML with inv(16); t(16;16); CBFB::MYH11'       :'AML with inv(16); t(16;16); CBFB::MYH11',\n",
    "            'AML with t(8;21); RUNX1::RUNX1T1'              :'AML with t(8;21); RUNX1::RUNX1T1',\n",
    "            'AML with t(9;22); BCR::ABL1'                   :'AML with t(9;22); BCR::ABL1',\n",
    "            'AML with t(6;9); DEK::NUP214'                  :'AML with t(6;9); DEK::NUP214',\n",
    "            'APL with t(15;17); PML::RARA'                  :'APL with t(15;17); PML::RARA',\n",
    "            'AML with t(1;22); RBM15::MKL1'                 :'AML with other recurring translocations',\n",
    "            'AML with t(16;21); FUS::ERG'                   :'AML with other recurring translocations',\n",
    "            'AML with t(8;16); KAT6A::CREBBP'               :'AML with other recurring translocations',\n",
    "            'AML with CBFA2T3::GLIS2'                       :'AML with other recurring translocations',\n",
    "            'AML with NUP98-fusion'                         :'AML with other recurring translocations',\n",
    "            'AML with ETV6 fusion'                          :'AML with other recurring translocations',   \n",
    "        }\n",
    "\n",
    "        for key, value in mapping.items():\n",
    "            if key in subtype:\n",
    "                return value\n",
    "    \n",
    "    df['ELN 2022 Diagnosis'] = df['WHO 2022 Diagnosis'].astype(str).apply(categorize_ELN2022)\n",
    "\n",
    "    return df"
   ]
  },
  {
   "cell_type": "markdown",
   "metadata": {},
   "source": [
    "### Execution"
   ]
  },
  {
   "cell_type": "code",
   "execution_count": 6,
   "metadata": {
    "tags": [
     "hide-input"
    ]
   },
   "outputs": [
    {
     "data": {
      "text/plain": [
       "Hematopoietic Entity\n",
       "Acute myeloid leukemia (AML)                  1185\n",
       "Acute lymphoblastic leukemia (ALL)             700\n",
       "Otherwise-Normal (Control)                     251\n",
       "Myelodysplastic syndrome (MDS or MDS-like)     225\n",
       "Mixed phenotype acute leukemia (MPAL)           50\n",
       "Acute promyelocytic leukemia (APL)              31\n",
       "Name: count, dtype: int64"
      ]
     },
     "execution_count": 6,
     "metadata": {},
     "output_type": "execute_result"
    }
   ],
   "source": [
    "df_labels3 = process_df_labels(df_labels2)\n",
    "\n",
    "df_labels3['Hematopoietic Entity'].value_counts(dropna=True)"
   ]
  },
  {
   "cell_type": "markdown",
   "metadata": {},
   "source": [
    "## Apply Classification to Test Dataset"
   ]
  },
  {
   "cell_type": "code",
   "execution_count": 7,
   "metadata": {},
   "outputs": [
    {
     "name": "stdout",
     "output_type": "stream",
     "text": [
      "The clinical data has been indexed and cleaned.\n",
      "Exclusion of samples may be applied depending on the analysis.\n"
     ]
    }
   ],
   "source": [
    "# Import functions to clean up clinical data\n",
    "import sys\n",
    "sys.path.append('../')\n",
    "from source.clinical_data_cleanup_functions import *\n",
    "\n",
    "# Call functions to merge, index and clean clinical data files\n",
    "labels_aml02         = clean_aml02       (merge_index_aml02())\n",
    "labels_aml08         = clean_aml08       (merge_index_aml08())\n",
    "\n",
    "# Combine all clinical data labels into one dataframe\n",
    "labels_test = pd.concat([labels_aml02, labels_aml08] ,axis=0, join='outer')\n",
    "\n",
    "# Redefine output path (for troubleshooting purposes in case only this cell is run)\n",
    "# mount = '../../../'\n",
    "'/mnt/d/'\n",
    "output_path = mount + '/Intermediate_Files/'\n",
    "\n",
    "# Read df_test\n",
    "df_test = pd.read_pickle(output_path + '201samples_357839cpgs_withbatchcorrection_bvalues.pkl')\n",
    "\n",
    "# Remove samples that are not in the methyl dataset\n",
    "df_labels_test = labels_test.loc[labels_test.index.isin(df_test.index)].sort_index()\n",
    "\n",
    "print('The clinical data has been indexed and cleaned.\\n\\\n",
    "Exclusion of samples may be applied depending on the analysis.')"
   ]
  },
  {
   "cell_type": "code",
   "execution_count": 8,
   "metadata": {},
   "outputs": [
    {
     "data": {
      "text/plain": [
       "WHO 2022 Diagnosis\n",
       "NaN                                        99\n",
       "AML with t(v;11q23); KMT2A-r               47\n",
       "AML with t(8;21); RUNX1::RUNX1T1           29\n",
       "AML with inv(16); t(16;16); CBFB::MYH11    23\n",
       "AML with mutated CEBPA                      2\n",
       "AML with t(6;9); DEK::NUP214                1\n",
       "Name: count, dtype: int64"
      ]
     },
     "execution_count": 8,
     "metadata": {},
     "output_type": "execute_result"
    }
   ],
   "source": [
    "df_labels_test2 = process_labels_who22(df_labels_test)\n",
    "df_labels_test2['WHO 2022 Diagnosis'].value_counts(dropna=False)"
   ]
  },
  {
   "cell_type": "code",
   "execution_count": 9,
   "metadata": {},
   "outputs": [
    {
     "data": {
      "text/plain": [
       "Hematopoietic Entity\n",
       "Acute myeloid leukemia (AML)    102\n",
       "Name: count, dtype: int64"
      ]
     },
     "execution_count": 9,
     "metadata": {},
     "output_type": "execute_result"
    }
   ],
   "source": [
    "df_labels_test3 = process_df_labels(df_labels_test2)\n",
    "\n",
    "df_labels_test3['Hematopoietic Entity'].value_counts(dropna=True)"
   ]
  },
  {
   "cell_type": "code",
   "execution_count": 10,
   "metadata": {},
   "outputs": [
    {
     "data": {
      "text/plain": [
       "WHO 2022 Diagnosis\n",
       "NaN                                        866\n",
       "AML with t(v;11q23); KMT2A-r               317\n",
       "Otherwise-Normal Control                   251\n",
       "T-ALL NOS                                  242\n",
       "AML with mutated NPM1                      226\n",
       "MDS-related; secondary myeloid             225\n",
       "B-ALL with hyperdiploidy                   190\n",
       "AML with inv(16); t(16;16); CBFB::MYH11    178\n",
       "AML with t(8;21); RUNX1::RUNX1T1           176\n",
       "B-ALL with t(12;21); ETV6::RUNX1           163\n",
       "AML with NUP98-fusion                       95\n",
       "AML with mutated CEBPA                      83\n",
       "APL with t(15;17); PML::RARA                31\n",
       "AML with CBFA2T3::GLIS2                     30\n",
       "B-ALL with t(v;11q23); KMT2A-r              28\n",
       "AML with t(6;9); DEK::NUP214                26\n",
       "MPAL T-Lymphoblastic/Myeloid                25\n",
       "B-ALL with t(1;19); TCF3::PBX1              23\n",
       "B-ALL dic(9;20)                             20\n",
       "MPAL B-Lymphoblastic/Myeloid                19\n",
       "B-ALL with t(9;22); BCR::ABL1               19\n",
       "AML with ETV6 fusion                        16\n",
       "AML with inv(3); t(3;3); MECOM-r            12\n",
       "AML with t(8;16); KAT6A::CREBBP             10\n",
       "B-ALL with iAMP21                           10\n",
       "AML with t(1;22); RBM15::MKL1                9\n",
       "MPAL with t(v;11q23.3)/KMT2A-r               6\n",
       "B-ALL with hypodiploidy                      5\n",
       "AML with t(16;21); FUS::ERG                  4\n",
       "AML with t(9;22); BCR::ABL1                  3\n",
       "Name: count, dtype: int64"
      ]
     },
     "execution_count": 10,
     "metadata": {},
     "output_type": "execute_result"
    }
   ],
   "source": [
    "df_labels3['WHO 2022 Diagnosis'].value_counts(dropna=False)"
   ]
  },
  {
   "cell_type": "code",
   "execution_count": 11,
   "metadata": {
    "tags": [
     "hide-input"
    ]
   },
   "outputs": [
    {
     "data": {
      "text/plain": [
       "ELN 2022 Diagnosis\n",
       "None                                       1616\n",
       "AML with t(v;11q23); KMT2A-r                317\n",
       "Otherwise-Normal Control                    251\n",
       "AML with mutated NPM1                       226\n",
       "MDS-related; secondary myeloid              225\n",
       "AML with inv(16); t(16;16); CBFB::MYH11     178\n",
       "AML with t(8;21); RUNX1::RUNX1T1            176\n",
       "AML with other recurring translocations     164\n",
       "AML with mutated CEBPA                       83\n",
       "APL with t(15;17); PML::RARA                 31\n",
       "AML with t(6;9); DEK::NUP214                 26\n",
       "AML with inv(3); t(3;3); MECOM-r             12\n",
       "AML with t(9;22); BCR::ABL1                   3\n",
       "Name: count, dtype: int64"
      ]
     },
     "execution_count": 11,
     "metadata": {},
     "output_type": "execute_result"
    }
   ],
   "source": [
    "df_labels3['ELN 2022 Diagnosis'].value_counts(dropna=False)"
   ]
  },
  {
   "cell_type": "markdown",
   "metadata": {},
   "source": [
    "## Save Clinical Datasets"
   ]
  },
  {
   "cell_type": "code",
   "execution_count": 12,
   "metadata": {
    "tags": [
     "hide-input"
    ]
   },
   "outputs": [],
   "source": [
    "# Save the clinical data labels with WHO 2022 classification\n",
    "df_labels3.to_csv(output_path + 'discovery_clinical_data.csv')\n",
    "\n",
    "# Save the clinical data labels with WHO 2022 classification\n",
    "df_labels3[['WHO 2022 Diagnosis','ELN 2022 Diagnosis', 'Clinical Trial', 'Vital Status']].to_excel(output_path + 'discovery_clinical_data_short.xlsx')\n",
    "\n",
    "# savel labels_test to excel\n",
    "df_labels_test3.to_csv(output_path + 'validation_clinical_data.csv')\n",
    "\n",
    "# Save individual datasets\n",
    "\n",
    "# labels_aml05.to_excel(output_path + 'aml05_clinical_data.xlsx')\n",
    "# labels_beataml.to_excel(output_path + 'beataml_clinical_data.xlsx')\n",
    "# labels_0531.to_excel(output_path + '0531_clinical_data.xlsx')\n",
    "# labels_amltcga.to_excel(output_path + 'amltcga_clinical_data.xlsx')\n",
    "# labels_1031.to_excel(output_path + '1031_clinical_data.xlsx')\n",
    "# labels_nordic_all.to_excel(output_path + 'nordic_all_clinical_data.xlsx')\n",
    "# labels_mds_taml.to_excel(output_path + 'mds_taml_clinical_data.xlsx')\n",
    "# labels_all_graal.to_excel(output_path + 'all_graal_clinical_data.xlsx')\n",
    "# labels_target_all.to_excel(output_path + 'target_all_clinical_data.xlsx')\n",
    "# labels_aml02.to_excel(output_path + 'aml02_clinical_data.xlsx')\n",
    "# labels_aml08.to_excel(output_path + 'aml08_clinical_data.xlsx')"
   ]
  }
 ],
 "metadata": {
  "celltoolbar": "Tags",
  "kernelspec": {
   "display_name": ".venv_sklearn",
   "language": "python",
   "name": "python3"
  },
  "language_info": {
   "codemirror_mode": {
    "name": "ipython",
    "version": 3
   },
   "file_extension": ".py",
   "mimetype": "text/x-python",
   "name": "python",
   "nbconvert_exporter": "python",
   "pygments_lexer": "ipython3",
   "version": "3.8.16"
  },
  "vscode": {
   "interpreter": {
    "hash": "bea0b97f2aeab51a41f683aa60895cc0e821b0a2b6d8fed7be73bd28506d07e0"
   }
  }
 },
 "nbformat": 4,
 "nbformat_minor": 2
}
