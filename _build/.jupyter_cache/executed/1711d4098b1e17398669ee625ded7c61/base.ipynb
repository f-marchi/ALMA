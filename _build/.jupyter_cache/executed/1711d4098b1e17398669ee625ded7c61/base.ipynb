{
 "cells": [
  {
   "cell_type": "code",
   "execution_count": 1,
   "metadata": {},
   "outputs": [],
   "source": [
    "## Where the data at?\n",
    "input_path = '../Data/Processed_Data/Cell_Deconvolution/'\n",
    "output_path = '../Data/Processed_Data/Cell_Deconvolution/'"
   ]
  },
  {
   "cell_type": "code",
   "execution_count": 2,
   "metadata": {},
   "outputs": [],
   "source": [
    "score_name = 'ARIC_mC_score'"
   ]
  },
  {
   "cell_type": "code",
   "execution_count": 3,
   "metadata": {
    "tags": [
     "hide-input"
    ]
   },
   "outputs": [],
   "source": [
    "# Import libraries for data manipulation\n",
    "import pandas as pd\n",
    "\n",
    "y = pd.read_csv(input_path+'y_plus_cibersortx_ARICresults.csv', index_col=0)\n",
    "\n",
    "# Split data into training and test sets by clinical trial\n",
    "y_train = y[~y['Clinical Trial'].isin(['AML02','AML08'])]\n",
    "y_train = y_train[y_train['os.time'].notnull()] # Remove patients with missing OS data\n",
    "y_test = y[y['Clinical Trial'].isin(['AML02', 'AML08'])]\n",
    "\n",
    "# Read deconvolution results files\n",
    "deconv = pd.read_csv(output_path+'Results_TrainData_ARIC.csv', index_col=0).T\n",
    "deconv = deconv.loc[y_train.index]\n",
    "deconv_test = pd.read_csv(output_path+'Results_TestData_ARIC.csv', index_col=0).T\n",
    "\n",
    "# Standardize dataset (z-scoring)\n",
    "x_train = (deconv-deconv.mean())/deconv.std()\n",
    "x_test = (deconv_test-deconv_test.mean())/deconv_test.std()\n"
   ]
  },
  {
   "cell_type": "code",
   "execution_count": 4,
   "metadata": {
    "tags": [
     "hide-input"
    ]
   },
   "outputs": [],
   "source": [
    "from FM_Functions.Cox_Lasso_Function import *\n",
    "\n",
    "# raw_coefs = train_coxph_lasso(df=y_train,\n",
    "#                                 event= 'os.evnt',\n",
    "#                                 time= 'os.time',\n",
    "#                                 train_x=x_train,\n",
    "#                                 loops=1000)\n",
    "\n",
    "# raw_coefs.to_csv(output_path+'ARIC_mC_score_Raw_Coefs.csv')\n",
    "raw_coefs = pd.read_csv(output_path+'ARIC_mC_score_Raw_Coefs.csv', index_col=0)"
   ]
  },
  {
   "cell_type": "code",
   "execution_count": 5,
   "metadata": {
    "tags": [
     "hide-input"
    ]
   },
   "outputs": [
    {
     "data": {
      "text/plain": [
       "cell types\n",
       "NK        0.159844\n",
       "Mono      0.019041\n",
       "CD4mem    0.013240\n",
       "Treg     -0.009372\n",
       "CD8nv    -0.053785\n",
       "Bmem     -0.071533\n",
       "Eos      -0.083367\n",
       "Bnv      -0.131912\n",
       "dtype: float64"
      ]
     },
     "execution_count": 5,
     "metadata": {},
     "output_type": "execute_result"
    }
   ],
   "source": [
    "mean_coefs = set_cutoff(coefs=raw_coefs,threshold=0.85)\n",
    "mean_coefs                                    "
   ]
  },
  {
   "cell_type": "code",
   "execution_count": 6,
   "metadata": {
    "tags": [
     "hide-input"
    ]
   },
   "outputs": [
    {
     "data": {
      "image/png": "[encoded data removed]",
      "text/plain": [
       "<Figure size 432x576 with 1 Axes>"
      ]
     },
     "metadata": {
      "needs_background": "light"
     },
     "output_type": "display_data"
    }
   ],
   "source": [
    "import matplotlib.pyplot as plt\n",
    "import seaborn as sns\n",
    "sns.set_theme(style='white')\n",
    "\n",
    "_, ax = plt.subplots(figsize=(6,8))\n",
    "raw_coefs['nonzero_freq'].plot.bar(ax=ax, legend=False, label='Hematopoietic cell type')\n",
    "plt.title('Non-zero Coefficient Frequency per 1000 Loops', fontweight='bold', y=1.01)\n",
    "plt.axhline(0.85, linestyle=\"--\", color=\"red\", label=\"Threshold for selection (85%)\")\n",
    "# Adjust xtick labels\n",
    "plt.xticks(rotation=45)\n",
    "# add y label\n",
    "plt.ylabel('Proportion of loops containing non-zero coefficient')\n",
    "plt.legend()\n",
    "plt.savefig('../Figures/Bar_Plots/'+score_name+' - Non-zero Coefficient Frequency per 1000 Loops', bbox_inches='tight', dpi=300)"
   ]
  },
  {
   "cell_type": "code",
   "execution_count": 7,
   "metadata": {
    "tags": [
     "hide-input"
    ]
   },
   "outputs": [
    {
     "name": "stdout",
     "output_type": "stream",
     "text": [
      "Continuous score cut at the value of 0.1241\n"
     ]
    }
   ],
   "source": [
    "y_train2, y_train_cutoff = generate_coxph_score(coef_mean=mean_coefs,\n",
    "                                        x=x_train,\n",
    "                                        df=y_train,\n",
    "                                        score_name=score_name,\n",
    "                                        train_test=\"train\",\n",
    "                                        cutoff_train=0.75)"
   ]
  },
  {
   "cell_type": "code",
   "execution_count": 8,
   "metadata": {
    "tags": [
     "hide-input"
    ]
   },
   "outputs": [
    {
     "name": "stdout",
     "output_type": "stream",
     "text": [
      "Continuous score cut at the value of 0.1241\n"
     ]
    }
   ],
   "source": [
    "y_test2, _ = generate_coxph_score(coef_mean=mean_coefs,\n",
    "                                            x=x_test,\n",
    "                                            df=y_test,\n",
    "                                            score_name=score_name,\n",
    "                                            train_test=y_train_cutoff,\n",
    "                                            cutoff_train=None)"
   ]
  },
  {
   "cell_type": "code",
   "execution_count": 9,
   "metadata": {
    "tags": [
     "hide-input"
    ]
   },
   "outputs": [],
   "source": [
    "y_train2.to_csv(input_path+'y_plus_cibersortx_ARICresults_'+ score_name +'.csv')\n",
    "y_test2.to_csv(input_path+'y_plus_cibersortx_ARICresults_'+ score_name +'_test.csv')"
   ]
  }
 ],
 "metadata": {
  "kernelspec": {
   "display_name": "Python 3.9.13 ('.venv': venv)",
   "language": "python",
   "name": "python3"
  },
  "language_info": {
   "codemirror_mode": {
    "name": "ipython",
    "version": 3
   },
   "file_extension": ".py",
   "mimetype": "text/x-python",
   "name": "python",
   "nbconvert_exporter": "python",
   "pygments_lexer": "ipython3",
   "version": "3.10.10"
  },
  "vscode": {
   "interpreter": {
    "hash": "2afcf8ce649220e353c6670e3bc606572f22d9f2abb5bbc57e2b8fdb229513d1"
   }
  }
 },
 "nbformat": 4,
 "nbformat_minor": 2
}