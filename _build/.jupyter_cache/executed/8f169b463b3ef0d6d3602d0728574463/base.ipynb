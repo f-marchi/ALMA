{
 "cells": [],
 "metadata": {
  "celltoolbar": "Tags",
  "kernelspec": {
   "display_name": ".venv_sklearn",
   "language": "python",
   "name": "python3"
  },
  "language_info": {
   "codemirror_mode": {
    "name": "ipython",
    "version": 3
   },
   "file_extension": ".py",
   "mimetype": "text/x-python",
   "name": "python",
   "nbconvert_exporter": "python",
   "pygments_lexer": "ipython3",
   "version": "3.10.10"
  },
  "vscode": {
   "interpreter": {
    "hash": "bea0b97f2aeab51a41f683aa60895cc0e821b0a2b6d8fed7be73bd28506d07e0"
   }
  }
 },
 "nbformat": 4,
 "nbformat_minor": 2
}