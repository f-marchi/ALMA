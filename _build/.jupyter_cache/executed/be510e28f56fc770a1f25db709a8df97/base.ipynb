{
 "cells": [
  {
   "cell_type": "code",
   "execution_count": 1,
   "metadata": {},
   "outputs": [],
   "source": [
    "input_path = '../Data/Processed_Data/2_MethylData_Processing_Output.pkl'\n",
    "clinicaldata_path = '../Data/Raw_Data/Clinical_Data/'\n",
    "output_path = '../Data/Processed_Data/'"
   ]
  },
  {
   "cell_type": "code",
   "execution_count": 2,
   "metadata": {
    "tags": [
     "hide-input"
    ]
   },
   "outputs": [
    {
     "name": "stdout",
     "output_type": "stream",
     "text": [
      " Dataset (df) contains 310546 rows (mC sites) and 1880 columns (samples).\n"
     ]
    }
   ],
   "source": [
    "import pandas as pd\n",
    "\n",
    "df_methyl = pd.read_pickle(input_path).T.reset_index(level=0, names='Batch')\n",
    "\n",
    "print(\n",
    "    f' Dataset (df) contains {df_methyl.shape[1]} rows (mC sites) and {df_methyl.shape[0]} columns (samples).')\n"
   ]
  },
  {
   "cell_type": "code",
   "execution_count": 3,
   "metadata": {
    "tags": [
     "hide-input"
    ]
   },
   "outputs": [],
   "source": [
    "# Import functions to clean up clinical data\n",
    "from FM_Functions.Clinical_Data_CleanUp import *\n",
    "\n",
    "# Combine all clinical data files into one dataframe and indexes it by the sample ID\n",
    "labels_cog, labels_aml02, labels_aml08, labels_aml05 = combine_and_index_clinicaldata()\n",
    "\n",
    "# Clean up and adjust clinical data labels\n",
    "labels_aml02 = clean_aml02(labels_aml02)\n",
    "labels_aml08 = clean_aml08(labels_aml08)\n",
    "labels_cog = clean_cog(labels_cog)\n",
    "labels_aml05 = clean_aml05(labels_aml05)\n",
    "\n",
    "# Combine all clinical data labels\n",
    "df = pd.concat([labels_aml02, labels_aml08, labels_cog,\n",
    "               labels_aml05], axis=0, join='outer')\n",
    "\n",
    "# Remove samples that are not in the methyl dataset\n",
    "df = df.loc[df.index.isin(df_methyl.index)]\n",
    "\n",
    "# Label control samples from the AML0531 clinical trial (GSE124413) as 'Bone Marrow Normal'\n",
    "\n",
    "\n",
    "def label_control_samples(df_methyl, df):\n",
    "    \"\"\"\n",
    "    This function labels control samples from the AML0531 clinical trial (GSE124413) as 'Bone Marrow Normal'\n",
    "    and combines them with the clinical trial samples.\n",
    "    \"\"\"\n",
    "    a = df_methyl[df_methyl['Batch'].isin(['GSE124413_AAML0531'])]\n",
    "    b = df[df.index.isin(a.index)]\n",
    "    control_0531 = a[~a.index.isin(b.index)]\n",
    "    control_0531['Sample Type'] = 'Bone Marrow Normal'\n",
    "    df_ = pd.concat(\n",
    "        [df, control_0531['Sample Type'].to_frame()], axis=0, join='outer')\n",
    "    return df_\n",
    "\n",
    "\n",
    "df_ = label_control_samples(df_methyl, df)\n"
   ]
  },
  {
   "cell_type": "code",
   "execution_count": 4,
   "id": "41f406b9",
   "metadata": {
    "tags": [
     "hide-input"
    ]
   },
   "outputs": [
    {
     "name": "stdout",
     "output_type": "stream",
     "text": [
      "Out of 1762 samples, 248 matched, yielding 1514 samples after filtering\n"
     ]
    }
   ],
   "source": [
    "df1 = df_[~df_['Sample Type'].isin(['Relapse', 'Recurrent Blood Derived Cancer - Bone Marrow',\n",
    "                                    'Recurrent Blood Derived Cancer - Peripheral Blood'])]\n",
    "\n",
    "print(\n",
    "    f'Out of {df_.shape[0]} samples, {df_.shape[0]-df1.shape[0]} matched, yielding {df1.shape[0]} samples after filtering')\n"
   ]
  },
  {
   "cell_type": "code",
   "execution_count": 5,
   "metadata": {
    "tags": [
     "hide-input"
    ]
   },
   "outputs": [
    {
     "name": "stdout",
     "output_type": "stream",
     "text": [
      "Out of 1514 samples, 154 matched, yielding 1360 samples after filtering\n"
     ]
    }
   ],
   "source": [
    "df2 = df1[~df1['Sample Type'].isin(\n",
    "    ['Bone Marrow Normal', 'Blood Derived Normal'])]\n",
    "print(\n",
    "    f'Out of {df1.shape[0]} samples, {df1.shape[0]-df2.shape[0]} matched, yielding {df2.shape[0]} samples after filtering')\n"
   ]
  },
  {
   "cell_type": "code",
   "execution_count": 6,
   "metadata": {
    "tags": [
     "hide-input"
    ]
   },
   "outputs": [
    {
     "name": "stdout",
     "output_type": "stream",
     "text": [
      "Out of 1360 samples, 14 matched, yielding 1346 samples after filtering\n"
     ]
    }
   ],
   "source": [
    "df3 = df2[~df2['Patient_ID'].duplicated(keep='last')]\n",
    "print(\n",
    "    f'Out of {df2.shape[0]} samples, {df2.shape[0]-df3.shape[0]} matched, yielding {df3.shape[0]} samples after filtering')\n"
   ]
  },
  {
   "cell_type": "code",
   "execution_count": 7,
   "metadata": {
    "tags": [
     "hide-input"
    ]
   },
   "outputs": [
    {
     "name": "stdout",
     "output_type": "stream",
     "text": [
      "Successfuly saved x.pkl and y.csv to ../Data/Processed_Data/\n"
     ]
    }
   ],
   "source": [
    "output = df3.join(df_methyl,how='left') # Join clinical data with methyl data\n",
    "\n",
    "x = output.iloc[:,df3.shape[1]+1:] # Select only methyl data\n",
    "y = output.iloc[:,0:df3.shape[1]+1] # Select only clinical data\n",
    "\n",
    "x.to_pickle(output_path+'x.pkl') # Save methyl data\n",
    "y.to_csv(output_path+'y.csv') # Save clinical data\n",
    "\n",
    "print(\n",
    "    f'Successfuly saved x.pkl and y.csv to {output_path}')"
   ]
  },
  {
   "cell_type": "code",
   "execution_count": 8,
   "metadata": {
    "tags": [
     "hide-input"
    ]
   },
   "outputs": [
    {
     "name": "stdout",
     "output_type": "stream",
     "text": [
      "Successfuly saved 147 control samples and 248 relapse samples to ../Data/Processed_Data/\n"
     ]
    }
   ],
   "source": [
    "controls = df_[df_['Sample Type'].isin(['Bone Marrow Normal'])]\n",
    "\n",
    "relapse = df_[df_['Sample Type'].isin(['Relapse', 'Recurrent Blood Derived Cancer - Bone Marrow',\n",
    "                                       'Recurrent Blood Derived Cancer - Peripheral Blood'])]\n",
    "\n",
    "# Merge control and relapse samples\n",
    "t = pd.concat([controls, relapse], axis=0, join='outer',\n",
    "              names=['Control', 'Relapse'])\n",
    "\n",
    "# Join clinical data with methyl data\n",
    "t2 = df_methyl.join(t, how='right')\n",
    "\n",
    "# Save merged control and relapse samples\n",
    "t2.to_pickle(output_path+'control_relapse.pkl')\n",
    "\n",
    "print(\n",
    "    f'Successfuly saved {controls.shape[0]} control samples and {relapse.shape[0]} relapse samples to {output_path}')\n"
   ]
  },
  {
   "cell_type": "code",
   "execution_count": 9,
   "metadata": {
    "tags": [
     "remove-input",
     "remove-output"
    ]
   },
   "outputs": [],
   "source": [
    "%load_ext watermark"
   ]
  },
  {
   "cell_type": "code",
   "execution_count": 10,
   "metadata": {
    "tags": [
     "remove-input"
    ]
   },
   "outputs": [
    {
     "name": "stdout",
     "output_type": "stream",
     "text": [
      "Python implementation: CPython\n",
      "Python version       : 3.10.9\n",
      "IPython version      : 8.8.0\n",
      "\n",
      "pandas: 1.5.2\n",
      "\n"
     ]
    }
   ],
   "source": [
    "# produce a list of the loaded modules\n",
    "%watermark -v -p pandas"
   ]
  }
 ],
 "metadata": {
  "celltoolbar": "Tags",
  "kernelspec": {
   "display_name": ".venv_data_vizualization",
   "language": "python",
   "name": "python3"
  },
  "language_info": {
   "codemirror_mode": {
    "name": "ipython",
    "version": 3
   },
   "file_extension": ".py",
   "mimetype": "text/x-python",
   "name": "python",
   "nbconvert_exporter": "python",
   "pygments_lexer": "ipython3",
   "version": "3.10.9"
  },
  "vscode": {
   "interpreter": {
    "hash": "1536c79f85cc2a2ac13c148ca716b8e28acb6745983d6aacea6d4fcb49ea6e2e"
   }
  }
 },
 "nbformat": 4,
 "nbformat_minor": 2
}